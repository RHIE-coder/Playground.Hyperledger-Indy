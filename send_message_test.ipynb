{
 "cells": [
  {
   "cell_type": "code",
   "execution_count": 17,
   "id": "f4d7e293-2c9a-474f-9fb2-edb6adae08f3",
   "metadata": {},
   "outputs": [],
   "source": [
    "import asyncio\n",
    "import time\n",
    "import re\n",
    "import json\n",
    "\n",
    "from indy import crypto, did, wallet"
   ]
  },
  {
   "cell_type": "code",
   "execution_count": 2,
   "id": "2b56de83-e410-4e08-a80d-14bfbc60f4e5",
   "metadata": {},
   "outputs": [],
   "source": [
    "me = 'woshi'\n",
    "wallet_config = '{\"id\": \"%s-wallet\"}' % me\n",
    "wallet_credentials = '{\"key\": \"%s-wallet-key\"}' % me\n",
    "await wallet.create_wallet(wallet_config, wallet_credentials)"
   ]
  },
  {
   "cell_type": "code",
   "execution_count": 3,
   "id": "87ba0a8d-2795-4194-89c4-61ac5a28b45f",
   "metadata": {},
   "outputs": [
    {
     "name": "stdout",
     "output_type": "stream",
     "text": [
      "wallet = 3\n"
     ]
    }
   ],
   "source": [
    "wallet_handle = await wallet.open_wallet(wallet_config, wallet_credentials)\n",
    "print('wallet = %s' % wallet_handle)"
   ]
  },
  {
   "cell_type": "code",
   "execution_count": 4,
   "id": "07d8ebc2-3b35-4e2b-97ae-7301f6947306",
   "metadata": {},
   "outputs": [
    {
     "name": "stdout",
     "output_type": "stream",
     "text": [
      "my_did and verkey = KS5k9WwiFy4ju2DVmzuisK B3gnR2fHKG4YUjwK6bQgHFxP9sRT7hNWivPoG7zZ2Qne\n"
     ]
    }
   ],
   "source": [
    "(my_did, my_vk) = await did.create_and_store_my_did(wallet_handle, \"{}\")\n",
    "print('my_did and verkey = %s %s' % (my_did, my_vk))"
   ]
  },
  {
   "cell_type": "code",
   "execution_count": 6,
   "id": "e829246c-8ba5-43ca-98fb-04b328612488",
   "metadata": {},
   "outputs": [
    {
     "data": {
      "text/plain": [
       "'B3gnR2fHKG4YUjwK6bQgHFxP9sRT7hNWivPoG7zZ2Qne'"
      ]
     },
     "execution_count": 6,
     "metadata": {},
     "output_type": "execute_result"
    }
   ],
   "source": [
    "await did.key_for_local_did(wallet_handle, my_did)"
   ]
  },
  {
   "cell_type": "code",
   "execution_count": 7,
   "id": "64cdf2da-b070-47bc-a6f8-d7eaee88fcc7",
   "metadata": {},
   "outputs": [
    {
     "data": {
      "text/plain": [
       "'[{\"did\":\"KS5k9WwiFy4ju2DVmzuisK\",\"verkey\":\"B3gnR2fHKG4YUjwK6bQgHFxP9sRT7hNWivPoG7zZ2Qne\",\"tempVerkey\":null,\"metadata\":null}]'"
      ]
     },
     "execution_count": 7,
     "metadata": {},
     "output_type": "execute_result"
    }
   ],
   "source": [
    "await did.list_my_dids_with_meta(wallet_handle)"
   ]
  },
  {
   "cell_type": "code",
   "execution_count": 8,
   "id": "57d69ee3-1054-423a-82a5-a6f73de7160e",
   "metadata": {},
   "outputs": [],
   "source": [
    "##########################################################"
   ]
  },
  {
   "cell_type": "code",
   "execution_count": 10,
   "id": "04c44998-aada-43e2-8d0f-f830233397bc",
   "metadata": {},
   "outputs": [
    {
     "name": "stdout",
     "output_type": "stream",
     "text": [
      "their wallet = 3\n"
     ]
    }
   ],
   "source": [
    "their = 'Alice'\n",
    "their_wallet_config = '{\"id\": \"%s-wallet\"}' % their\n",
    "their_wallet_credentials = '{\"key\": \"%s-wallet-key\"}' % their\n",
    "their_wallet_handle = await wallet.open_wallet(their_wallet_config, their_wallet_credentials)\n",
    "print('their wallet = %s' % their_wallet_handle)"
   ]
  },
  {
   "cell_type": "code",
   "execution_count": 21,
   "id": "15686876-01b1-44fc-9322-dbabfbbe14e6",
   "metadata": {},
   "outputs": [
    {
     "name": "stdout",
     "output_type": "stream",
     "text": [
      "their_did and their_vk = AmERTwzGvXa78wLhBhgSAd 6Kch61WKhjHrLBrjak5FKmnRP3e3wkMJ3VogpgZRQaT8\n"
     ]
    }
   ],
   "source": [
    "result = await did.list_my_dids_with_meta(their_wallet_handle)\n",
    "(their_did, their_vk) = json.loads(result)[0]['did'], json.loads(result)[0]['verkey']\n",
    "print('their_did and their_vk = %s %s' % (their_did, their_vk))"
   ]
  },
  {
   "cell_type": "code",
   "execution_count": 23,
   "id": "0a5e4668-7f7a-4d11-b8c0-613504b76070",
   "metadata": {},
   "outputs": [],
   "source": [
    "##########################################################"
   ]
  },
  {
   "cell_type": "code",
   "execution_count": 24,
   "id": "96d18c61-410f-4085-a859-0a697180ae70",
   "metadata": {},
   "outputs": [],
   "source": [
    "msg = \"hello world\""
   ]
  },
  {
   "cell_type": "code",
   "execution_count": 27,
   "id": "b718911b-e96c-4a9f-b601-b0e6b76429e8",
   "metadata": {},
   "outputs": [
    {
     "name": "stdout",
     "output_type": "stream",
     "text": [
      "b'\\xfe\\xa1\\xe0u\\xea`z>\\x00\\xbe6\\xa4J\\xd6\\xfd\\xb7\\xe7\\xf0\\xe62\\x97j\\r\\xd1)\\xa3\\x06\\x00\\xb6.\\xf4\\xa7\\xa6\\xe4\\xb5c\\xfe\\xfb\\x97F\\xed\\x12\\x1e\\x1eq\\x8f\\xe7$\\xac\\t\\xd9]\\x95\\x9c\\xb3\\xc9\\xe6I{\\x7f\\x92\\xc8\\x9c\\t'\n"
     ]
    }
   ],
   "source": [
    "encrypted_msg = await crypto.crypto_sign(wallet_handle, my_vk, msg)\n",
    "print(encrypted_msg)"
   ]
  },
  {
   "cell_type": "code",
   "execution_count": 28,
   "id": "ae3893e0-92e4-412a-91dd-6184aa2ac7be",
   "metadata": {},
   "outputs": [
    {
     "data": {
      "text/plain": [
       "True"
      ]
     },
     "execution_count": 28,
     "metadata": {},
     "output_type": "execute_result"
    }
   ],
   "source": [
    "await crypto.crypto_verify(my_vk, msg, encrypted_msg)"
   ]
  },
  {
   "cell_type": "code",
   "execution_count": 38,
   "id": "4f629235-71a1-43d5-a6f0-0d7525ea3359",
   "metadata": {},
   "outputs": [],
   "source": [
    "##########################################################"
   ]
  },
  {
   "cell_type": "code",
   "execution_count": 35,
   "id": "26d21607-5b76-4c66-a0e2-3b14159ae06b",
   "metadata": {},
   "outputs": [
    {
     "name": "stdout",
     "output_type": "stream",
     "text": [
      "b'{\"protected\":\"eyJlbmMiOiJ4Y2hhY2hhMjBwb2x5MTMwNV9pZXRmIiwidHlwIjoiSldNLzEuMCIsImFsZyI6IkFub25jcnlwdCIsInJlY2lwaWVudHMiOlt7ImVuY3J5cHRlZF9rZXkiOiItN3VaMFhHLWkzNXhDNjY3TUxfQUZqX3FWb2JWcE9TbEd3cWVGMDNFaUFjcV92YmJTMEJFbEFRS2owUExQZkpSV1ZQUHBqMlJxelhwWVdJaVd0S0tfM2NXLUUwUU5UYWdSRVlvQ05rMG9TTT0iLCJoZWFkZXIiOnsia2lkIjoiNktjaDYxV0toakhyTEJyamFrNUZLbW5SUDNlM3drTUozVm9ncGdaUlFhVDgifX1dfQ==\",\"iv\":\"Hw9hiBHhujuNSsYC\",\"ciphertext\":\"ykde-tgy-bLMkdw=\",\"tag\":\"f2TZ4BR2a78KcF6rRil04g==\"}'\n"
     ]
    }
   ],
   "source": [
    "challenge = await crypto.pack_message(wallet_handle, msg, [their_vk], None)\n",
    "print(challenge)"
   ]
  },
  {
   "cell_type": "code",
   "execution_count": 36,
   "id": "41195cef-102e-4ae0-9593-f2a12f014f5b",
   "metadata": {},
   "outputs": [],
   "source": [
    "response = await crypto.unpack_message(their_wallet_handle, challenge)"
   ]
  },
  {
   "cell_type": "code",
   "execution_count": 37,
   "id": "6ec239ad-6ddd-4424-a36f-2f1d9d6913a5",
   "metadata": {},
   "outputs": [
    {
     "name": "stdout",
     "output_type": "stream",
     "text": [
      "b'{\"message\":\"hello world\",\"recipient_verkey\":\"6Kch61WKhjHrLBrjak5FKmnRP3e3wkMJ3VogpgZRQaT8\"}'\n"
     ]
    }
   ],
   "source": [
    "print(response)"
   ]
  },
  {
   "cell_type": "code",
   "execution_count": 50,
   "id": "a0393a4c-4e8e-42d7-adb1-55f02d7e27bb",
   "metadata": {},
   "outputs": [],
   "source": [
    "##########################################################"
   ]
  },
  {
   "cell_type": "code",
   "execution_count": 58,
   "id": "268ad53f-6575-4679-a1c2-f9777af2d63c",
   "metadata": {},
   "outputs": [
    {
     "name": "stdout",
     "output_type": "stream",
     "text": [
      "hello world\n"
     ]
    }
   ],
   "source": [
    "print(msg)"
   ]
  },
  {
   "cell_type": "code",
   "execution_count": 78,
   "id": "39f708ef-dac8-47cb-a575-2a7d47a7fcea",
   "metadata": {},
   "outputs": [
    {
     "data": {
      "text/plain": [
       "b'hello world'"
      ]
     },
     "execution_count": 78,
     "metadata": {},
     "output_type": "execute_result"
    }
   ],
   "source": [
    "msg.encode('utf-8')"
   ]
  },
  {
   "cell_type": "code",
   "execution_count": 79,
   "id": "02b511e8-3807-416e-8194-6d56406414b9",
   "metadata": {},
   "outputs": [],
   "source": [
    "challenge = await crypto.anon_crypt(their_vk, msg.encode('utf-8'))"
   ]
  },
  {
   "cell_type": "code",
   "execution_count": 80,
   "id": "893a5bb3-b589-46d6-bd72-199dac8a1099",
   "metadata": {},
   "outputs": [
    {
     "name": "stdout",
     "output_type": "stream",
     "text": [
      "b'\\x8d\\xfe\\x1e\\xe8c\\xde;\\xbd\\x99\\x0e\\x17Y\\x10-\\xb9\\x02f\\xd2\\x8d\\xae\\x86\\xbc\\xf9Y\\x89\\x04\"LcVU$\\xf4\\xc9_\\xc3\\xb3\\xb2r\\x99\\xc3i\\xeb\\xc2a\\xa4\\x806\\xf7\\x199$b\\x9d\\xed\\xb2v\\xf5\\xde'\n"
     ]
    }
   ],
   "source": [
    "print(challenge)"
   ]
  },
  {
   "cell_type": "code",
   "execution_count": 81,
   "id": "c078e8bf-f6c9-4170-9ed9-364e3bfc8b98",
   "metadata": {},
   "outputs": [],
   "source": [
    "response = await crypto.anon_decrypt(their_wallet_handle, their_vk, challenge)"
   ]
  },
  {
   "cell_type": "code",
   "execution_count": 82,
   "id": "8f37de10-7c5b-456f-94c5-cb522b171766",
   "metadata": {},
   "outputs": [
    {
     "name": "stdout",
     "output_type": "stream",
     "text": [
      "b'hello world'\n"
     ]
    }
   ],
   "source": [
    "print(response)"
   ]
  },
  {
   "cell_type": "code",
   "execution_count": 84,
   "id": "86446520-e8cc-44a1-966b-f62f6885e7c3",
   "metadata": {},
   "outputs": [
    {
     "data": {
      "text/plain": [
       "'hello world'"
      ]
     },
     "execution_count": 84,
     "metadata": {},
     "output_type": "execute_result"
    }
   ],
   "source": [
    "response.decode('utf-8')"
   ]
  }
 ],
 "metadata": {
  "kernelspec": {
   "display_name": "Python 3",
   "language": "python",
   "name": "python3"
  },
  "language_info": {
   "codemirror_mode": {
    "name": "ipython",
    "version": 3
   },
   "file_extension": ".py",
   "mimetype": "text/x-python",
   "name": "python",
   "nbconvert_exporter": "python",
   "pygments_lexer": "ipython3",
   "version": "3.6.9"
  }
 },
 "nbformat": 4,
 "nbformat_minor": 5
}
