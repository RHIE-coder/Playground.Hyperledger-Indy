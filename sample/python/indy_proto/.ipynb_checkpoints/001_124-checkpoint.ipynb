{
 "cells": [
  {
   "cell_type": "markdown",
   "id": "b1d01cb5-7e66-4149-85db-ae4963135e09",
   "metadata": {},
   "source": [
    "# (분석 전용 기능 정의)"
   ]
  },
  {
   "cell_type": "code",
   "execution_count": 60,
   "id": "f9112d69-9362-4ba2-b6d6-829673474371",
   "metadata": {},
   "outputs": [],
   "source": [
    "import json\n",
    "import pprint\n",
    "\n",
    "class IndyPrinter:\n",
    "    \n",
    "    line_char='-'\n",
    "    line_length=100\n",
    "    ref_line_char='#'\n",
    "    ref_line_length=50\n",
    "    \n",
    "    class __JsonPrintType:\n",
    "        NOT_JSON = 0\n",
    "        PURE_JSON = 1\n",
    "        MULTIPLE_JSON_STR = 2\n",
    "        \n",
    "    def __init__(self, data):\n",
    "        self.__result, self.__is_json = self.__type_filter(data)\n",
    "        \n",
    "    def __call__(self, print_title=None, *, use_pp=True):\n",
    "        pp = pprint.PrettyPrinter(width=40, indent=2, compact=True)\n",
    "        \n",
    "        self.__line(self.line_char, self.line_length)\n",
    "        if print_title is not None : print(print_title.center(self.line_length, self.line_char))\n",
    "        if not self.__is_json : print(self.__result)\n",
    "        elif use_pp : pp.pprint(self.__result)\n",
    "        else : self.__json_print()\n",
    "        self.__line(self.line_char, self.line_length)\n",
    "    \n",
    "    def default_mode(self):\n",
    "        self.line_char='-'\n",
    "        self.line_length=100\n",
    "        self.ref_line_char='^'\n",
    "        self.ref_line_length=50\n",
    "        \n",
    "    def __type_filter(self, data):\n",
    "        _data = data\n",
    "        data_type = type(_data)\n",
    "        is_json = True\n",
    "        \n",
    "        try:\n",
    "            if data_type == 'dict' : \n",
    "                _data = json.dumps(_data)\n",
    "            _data = json.loads(_data)\n",
    "        except json.JSONDecodeError:\n",
    "            is_json = False\n",
    "        finally:\n",
    "            if(is_json) : return (_data, is_json)\n",
    "            return (_data, is_json)\n",
    "    \n",
    "    def __line(self, char, length):\n",
    "        print(char * length)\n",
    "    \n",
    "    def __json_print(self):\n",
    "        json_obj = self.__result\n",
    "        print(f'<json_keys> : {[key for key in json_obj]}')\n",
    "        spec = self.__analyze_structure(json_obj)\n",
    "        json_info, references = self.__mapping(json_obj, spec)\n",
    "        print(json.dumps(json_info, indent=4))\n",
    "        self.__line(self.ref_line_char, self.ref_line_length)\n",
    "        print(\"REFERENCES\".center(self.ref_line_length, self.ref_line_char))\n",
    "        for ref_name in references: \n",
    "            print(f'{ref_name} : {json.dumps(references[ref_name], indent=4)}')\n",
    "        self.__line(self.ref_line_char, self.ref_line_length)\n",
    "    \n",
    "    def __analyze_structure(self, json_obj):\n",
    "        result = []\n",
    "        for k, v in data.items():\n",
    "            parse_type = None\n",
    "            if type(v) != int and v[0] == '{' and v[-1] == '}' : \n",
    "                parse_type = self.__JsonPrintType.PURE_JSON\n",
    "                if '\\n' in v : \n",
    "                    parse_type = self.__JsonPrintType.MULTIPLE_JSON_STR\n",
    "            else: \n",
    "                parse_type = self.__JsonPrintType.NOT_JSON\n",
    "            result.append((k, parse_type))\n",
    "        return dict(result)\n",
    "    \n",
    "    def __mapping(self, json_obj, spec):\n",
    "        \n",
    "        details = dict()\n",
    "        \n",
    "        for key in json_obj:\n",
    "            if spec[key] == self.__JsonPrintType.MULTIPLE_JSON_STR:\n",
    "                name = '[[{}]]'.format(key)\n",
    "                details[name] = list(map(lambda json_str: json.loads(json_str), json_obj[key].split('\\n')))\n",
    "                json_obj[key] = f'{name} : please ignore list'\n",
    "            elif spec[key] == self.__JsonPrintType.PURE_JSON:\n",
    "                json_obj[key] = json.loads(json_obj[key])\n",
    "            elif spec[key] == self.__JsonPrintType.NOT_JSON:\n",
    "                pass\n",
    "            \n",
    "        return json_obj, details\n",
    "    \n",
    "class PrintFuncIO:\n",
    "    def __init__(self, func):\n",
    "        self.func = func\n",
    "    \n",
    "    def __call__(self, *args, **kwargs):\n",
    "        print('[input] tuple params : ', end='')\n",
    "        pprint.pprint(args)\n",
    "        print('[input]dict params : ', end='')\n",
    "        pprint.pprint(kwargs)\n",
    "        print('[output]result : ', end='')\n",
    "        result = self.func(*args, **kwargs)\n",
    "        pprint.pprint(result)\n",
    "        return result"
   ]
  },
  {
   "cell_type": "markdown",
   "id": "afd04524-e7de-488b-8f64-a42b2f1fad8f",
   "metadata": {},
   "source": [
    "# 1. 필요한 모듈 불러오기"
   ]
  },
  {
   "cell_type": "code",
   "execution_count": 21,
   "id": "494100c7-6795-4660-900c-9b4ec34eeaaf",
   "metadata": {},
   "outputs": [],
   "source": [
    "# Core Modules\n",
    "from indy import anoncreds, did, ledger, pool, wallet, blob_storage\n",
    "from indy.error import ErrorCode, IndyError\n",
    "import asyncio\n",
    "import time\n",
    "\n",
    "# Utils\n",
    "import json\n",
    "from os import environ\n",
    "from pathlib import Path\n",
    "from tempfile import gettempdir\n",
    "import sys\n",
    "from ctypes import *\n",
    "from os.path import dirname"
   ]
  },
  {
   "cell_type": "markdown",
   "id": "13d8823c-0eb9-4088-b41b-a0bd513bbc93",
   "metadata": {
    "tags": []
   },
   "source": [
    "<br><br><br><hr>\n",
    "\n",
    "# 2. 유틸함수 및 주요 변수 선언"
   ]
  },
  {
   "cell_type": "code",
   "execution_count": 22,
   "id": "ae289ea6-94a0-4968-87db-c526d1906a44",
   "metadata": {},
   "outputs": [],
   "source": [
    "PROTOCOL_VERSION = 2\n",
    "\n",
    "def default_path_home() -> Path:\n",
    "    \"\"\"\n",
    "    @return : .indy_client path home \n",
    "    \n",
    "    [Description]:\n",
    "    indy 및 aries의 default 경로를 반환한다.\n",
    "    \"\"\"\n",
    "    return Path.home().joinpath(\".indy_client\")\n",
    "\n",
    "def tmp_path_home() -> Path:\n",
    "    \"\"\"\n",
    "    @return : 임시폴더안의 indy 경로 ( if linux /tmp/indy )\n",
    "    \n",
    "    [Description]:\n",
    "    테스트를 위한 임시폴더 경로를 만들어 반환한다.\n",
    "    \"\"\"\n",
    "    return Path(gettempdir()).joinpath(\"indy\")\n",
    "\n",
    "def local_indy_pool_genesis_txn_data(pool_ip : str = \"127.0.0.1\") -> str:\n",
    "    \"\"\"\n",
    "    @params pool_ip : pool ledger에 저장될 참여 노드 ip 주소\n",
    "    @return : genesis txn data\n",
    "    \n",
    "    [Description]:\n",
    "    indy-SDK SAMPLE 에서 제공하는 indy-node에서 정해진 indy_pool 도커 컨테이너에 접근하는 Genesis 데이터를 반환함\n",
    "    \"\"\"\n",
    "    #pool_ip = environ.get(\"TEST_POOL_IP\", \"127.0.0.1\")\n",
    "\n",
    "    return \"\\n\".join([\n",
    "        '{{\"reqSignature\":{{}},\"txn\":{{\"data\":{{\"data\":{{\"alias\":\"Node1\",\"blskey\":\"4N8aUNHSgjQVgkpm8nhNEfDf6txHznoYREg9kirmJrkivgL4oSEimFF6nsQ6M41QvhM2Z33nves5vfSn9n1UwNFJBYtWVnHYMATn76vLuL3zU88KyeAYcHfsih3He6UHcXDxcaecHVz6jhCYz1P2UZn2bDVruL5wXpehgBfBaLKm3Ba\",\"blskey_pop\":\"RahHYiCvoNCtPTrVtP7nMC5eTYrsUA8WjXbdhNc8debh1agE9bGiJxWBXYNFbnJXoXhWFMvyqhqhRoq737YQemH5ik9oL7R4NTTCz2LEZhkgLJzB3QRQqJyBNyv7acbdHrAT8nQ9UkLbaVL9NBpnWXBTw4LEMePaSHEw66RzPNdAX1\",\"client_ip\":\"{}\",\"client_port\":9702,\"node_ip\":\"{}\",\"node_port\":9701,\"services\":[\"VALIDATOR\"]}},\"dest\":\"Gw6pDLhcBcoQesN72qfotTgFa7cbuqZpkX3Xo6pLhPhv\"}},\"metadata\":{{\"from\":\"Th7MpTaRZVRYnPiabds81Y\"}},\"type\":\"0\"}},\"txnMetadata\":{{\"seqNo\":1,\"txnId\":\"fea82e10e894419fe2bea7d96296a6d46f50f93f9eeda954ec461b2ed2950b62\"}},\"ver\":\"1\"}}'.format(\n",
    "            pool_ip, pool_ip),\n",
    "        '{{\"reqSignature\":{{}},\"txn\":{{\"data\":{{\"data\":{{\"alias\":\"Node2\",\"blskey\":\"37rAPpXVoxzKhz7d9gkUe52XuXryuLXoM6P6LbWDB7LSbG62Lsb33sfG7zqS8TK1MXwuCHj1FKNzVpsnafmqLG1vXN88rt38mNFs9TENzm4QHdBzsvCuoBnPH7rpYYDo9DZNJePaDvRvqJKByCabubJz3XXKbEeshzpz4Ma5QYpJqjk\",\"blskey_pop\":\"Qr658mWZ2YC8JXGXwMDQTzuZCWF7NK9EwxphGmcBvCh6ybUuLxbG65nsX4JvD4SPNtkJ2w9ug1yLTj6fgmuDg41TgECXjLCij3RMsV8CwewBVgVN67wsA45DFWvqvLtu4rjNnE9JbdFTc1Z4WCPA3Xan44K1HoHAq9EVeaRYs8zoF5\",\"client_ip\":\"{}\",\"client_port\":9704,\"node_ip\":\"{}\",\"node_port\":9703,\"services\":[\"VALIDATOR\"]}},\"dest\":\"8ECVSk179mjsjKRLWiQtssMLgp6EPhWXtaYyStWPSGAb\"}},\"metadata\":{{\"from\":\"EbP4aYNeTHL6q385GuVpRV\"}},\"type\":\"0\"}},\"txnMetadata\":{{\"seqNo\":2,\"txnId\":\"1ac8aece2a18ced660fef8694b61aac3af08ba875ce3026a160acbc3a3af35fc\"}},\"ver\":\"1\"}}'.format(\n",
    "            pool_ip, pool_ip),\n",
    "        '{{\"reqSignature\":{{}},\"txn\":{{\"data\":{{\"data\":{{\"alias\":\"Node3\",\"blskey\":\"3WFpdbg7C5cnLYZwFZevJqhubkFALBfCBBok15GdrKMUhUjGsk3jV6QKj6MZgEubF7oqCafxNdkm7eswgA4sdKTRc82tLGzZBd6vNqU8dupzup6uYUf32KTHTPQbuUM8Yk4QFXjEf2Usu2TJcNkdgpyeUSX42u5LqdDDpNSWUK5deC5\",\"blskey_pop\":\"QwDeb2CkNSx6r8QC8vGQK3GRv7Yndn84TGNijX8YXHPiagXajyfTjoR87rXUu4G4QLk2cF8NNyqWiYMus1623dELWwx57rLCFqGh7N4ZRbGDRP4fnVcaKg1BcUxQ866Ven4gw8y4N56S5HzxXNBZtLYmhGHvDtk6PFkFwCvxYrNYjh\",\"client_ip\":\"{}\",\"client_port\":9706,\"node_ip\":\"{}\",\"node_port\":9705,\"services\":[\"VALIDATOR\"]}},\"dest\":\"DKVxG2fXXTU8yT5N7hGEbXB3dfdAnYv1JczDUHpmDxya\"}},\"metadata\":{{\"from\":\"4cU41vWW82ArfxJxHkzXPG\"}},\"type\":\"0\"}},\"txnMetadata\":{{\"seqNo\":3,\"txnId\":\"7e9f355dffa78ed24668f0e0e369fd8c224076571c51e2ea8be5f26479edebe4\"}},\"ver\":\"1\"}}'.format(\n",
    "            pool_ip, pool_ip),\n",
    "        '{{\"reqSignature\":{{}},\"txn\":{{\"data\":{{\"data\":{{\"alias\":\"Node4\",\"blskey\":\"2zN3bHM1m4rLz54MJHYSwvqzPchYp8jkHswveCLAEJVcX6Mm1wHQD1SkPYMzUDTZvWvhuE6VNAkK3KxVeEmsanSmvjVkReDeBEMxeDaayjcZjFGPydyey1qxBHmTvAnBKoPydvuTAqx5f7YNNRAdeLmUi99gERUU7TD8KfAa6MpQ9bw\",\"blskey_pop\":\"RPLagxaR5xdimFzwmzYnz4ZhWtYQEj8iR5ZU53T2gitPCyCHQneUn2Huc4oeLd2B2HzkGnjAff4hWTJT6C7qHYB1Mv2wU5iHHGFWkhnTX9WsEAbunJCV2qcaXScKj4tTfvdDKfLiVuU2av6hbsMztirRze7LvYBkRHV3tGwyCptsrP\",\"client_ip\":\"{}\",\"client_port\":9708,\"node_ip\":\"{}\",\"node_port\":9707,\"services\":[\"VALIDATOR\"]}},\"dest\":\"4PS3EDQ3dW1tci1Bp6543CfuuebjFrg36kLAUcskGfaA\"}},\"metadata\":{{\"from\":\"TWwCRQRZ2ZHMJFn9TzLp7W\"}},\"type\":\"0\"}},\"txnMetadata\":{{\"seqNo\":4,\"txnId\":\"aa5e817d7cc626170eca175822029339a444eb0ee8f0bd20d3b0b76e566fb008\"}},\"ver\":\"1\"}}'.format(\n",
    "            pool_ip, pool_ip)\n",
    "    ])\n",
    "\n",
    "def save_pool_genesis_txn_file(path : str, genesis_txn_data : str) -> None:\n",
    "    \"\"\"\n",
    "    @params path : genesis txn 데이터를 저장할 위치\n",
    "    @params genesis_txn_data : genesis txn 데이터\n",
    "    \n",
    "    [Description]:\n",
    "    genesis txn 데이터를 파일로 저장\n",
    "    \"\"\"\n",
    "    data = genesis_txn_data\n",
    "\n",
    "    path.parent.mkdir(parents=True, exist_ok=True)\n",
    "\n",
    "    with open(str(path), \"w+\") as f:\n",
    "        f.writelines(data)\n",
    "        \n",
    "async def ensure_previous_request_applied(pool_handle, checker_request, checker):\n",
    "    for _ in range(3):\n",
    "        response = json.loads(await ledger.submit_request(pool_handle, checker_request))\n",
    "        try:\n",
    "            if checker(response):\n",
    "                return json.dumps(response)\n",
    "        except TypeError:\n",
    "            pass"
   ]
  },
  {
   "cell_type": "markdown",
   "id": "eab101c4-54d6-4b5f-af36-82903e60a847",
   "metadata": {
    "tags": []
   },
   "source": [
    "<br><br><br><hr>\n",
    "\n",
    "# 3. Make Pool Ledger Handler"
   ]
  },
  {
   "cell_type": "code",
   "execution_count": 23,
   "id": "7e96fafe-5db6-4722-ba28-2cadda0466c9",
   "metadata": {},
   "outputs": [],
   "source": [
    "pool_ = dict()\n",
    "\n",
    "pool_['name'] = 'pool1'\n",
    "\n",
    "genesis_txn_save_path = tmp_path_home().joinpath(\"{}.txn\".format(pool_['name']))\n",
    "\n",
    "pool_['genesis_txn_path'] = genesis_txn_save_path\n",
    "\n",
    "pool_['config'] = json.dumps({\"genesis_txn\": str(pool_['genesis_txn_path'])}) # Path -> str\n",
    "\n",
    "pool_['genesis_txn_data'] = local_indy_pool_genesis_txn_data()\n",
    "\n",
    "save_pool_genesis_txn_file(pool_['genesis_txn_path'], pool_['genesis_txn_data'])\n",
    "\n",
    "await pool.set_protocol_version(PROTOCOL_VERSION)\n",
    "\n",
    "try:\n",
    "    await pool.create_pool_ledger_config(pool_['name'], pool_['config'])\n",
    "except IndyError as ex:\n",
    "    if ex.error_code == ErrorCode.PoolLedgerConfigAlreadyExistsError:\n",
    "        pass\n",
    "\n",
    "pool_['handle'] = await pool.open_pool_ledger(pool_['name'], None)\n",
    "print_result = IndyPrinter(pool_)"
   ]
  },
  {
   "cell_type": "code",
   "execution_count": 24,
   "id": "d40a2b6d-b1b0-4203-9e4a-2a0f69ae9c83",
   "metadata": {},
   "outputs": [
    {
     "name": "stdout",
     "output_type": "stream",
     "text": [
      "----------------------------------------------------------------------------------------------------\n",
      "-------------------------------------create_pool_and_open_pool--------------------------------------\n",
      "{ 'config': '{\"genesis_txn\": '\n",
      "            '\"/tmp/indy/pool1.txn\"}',\n",
      "  'genesis_txn_data': '{\"reqSignature\":{},\"txn\":{\"data\":{\"data\":{\"alias\":\"Node1\",\"blskey\":\"4N8aUNHSgjQVgkpm8nhNEfDf6txHznoYREg9kirmJrkivgL4oSEimFF6nsQ6M41QvhM2Z33nves5vfSn9n1UwNFJBYtWVnHYMATn76vLuL3zU88KyeAYcHfsih3He6UHcXDxcaecHVz6jhCYz1P2UZn2bDVruL5wXpehgBfBaLKm3Ba\",\"blskey_pop\":\"RahHYiCvoNCtPTrVtP7nMC5eTYrsUA8WjXbdhNc8debh1agE9bGiJxWBXYNFbnJXoXhWFMvyqhqhRoq737YQemH5ik9oL7R4NTTCz2LEZhkgLJzB3QRQqJyBNyv7acbdHrAT8nQ9UkLbaVL9NBpnWXBTw4LEMePaSHEw66RzPNdAX1\",\"client_ip\":\"127.0.0.1\",\"client_port\":9702,\"node_ip\":\"127.0.0.1\",\"node_port\":9701,\"services\":[\"VALIDATOR\"]},\"dest\":\"Gw6pDLhcBcoQesN72qfotTgFa7cbuqZpkX3Xo6pLhPhv\"},\"metadata\":{\"from\":\"Th7MpTaRZVRYnPiabds81Y\"},\"type\":\"0\"},\"txnMetadata\":{\"seqNo\":1,\"txnId\":\"fea82e10e894419fe2bea7d96296a6d46f50f93f9eeda954ec461b2ed2950b62\"},\"ver\":\"1\"}\\n'\n",
      "                      '{\"reqSignature\":{},\"txn\":{\"data\":{\"data\":{\"alias\":\"Node2\",\"blskey\":\"37rAPpXVoxzKhz7d9gkUe52XuXryuLXoM6P6LbWDB7LSbG62Lsb33sfG7zqS8TK1MXwuCHj1FKNzVpsnafmqLG1vXN88rt38mNFs9TENzm4QHdBzsvCuoBnPH7rpYYDo9DZNJePaDvRvqJKByCabubJz3XXKbEeshzpz4Ma5QYpJqjk\",\"blskey_pop\":\"Qr658mWZ2YC8JXGXwMDQTzuZCWF7NK9EwxphGmcBvCh6ybUuLxbG65nsX4JvD4SPNtkJ2w9ug1yLTj6fgmuDg41TgECXjLCij3RMsV8CwewBVgVN67wsA45DFWvqvLtu4rjNnE9JbdFTc1Z4WCPA3Xan44K1HoHAq9EVeaRYs8zoF5\",\"client_ip\":\"127.0.0.1\",\"client_port\":9704,\"node_ip\":\"127.0.0.1\",\"node_port\":9703,\"services\":[\"VALIDATOR\"]},\"dest\":\"8ECVSk179mjsjKRLWiQtssMLgp6EPhWXtaYyStWPSGAb\"},\"metadata\":{\"from\":\"EbP4aYNeTHL6q385GuVpRV\"},\"type\":\"0\"},\"txnMetadata\":{\"seqNo\":2,\"txnId\":\"1ac8aece2a18ced660fef8694b61aac3af08ba875ce3026a160acbc3a3af35fc\"},\"ver\":\"1\"}\\n'\n",
      "                      '{\"reqSignature\":{},\"txn\":{\"data\":{\"data\":{\"alias\":\"Node3\",\"blskey\":\"3WFpdbg7C5cnLYZwFZevJqhubkFALBfCBBok15GdrKMUhUjGsk3jV6QKj6MZgEubF7oqCafxNdkm7eswgA4sdKTRc82tLGzZBd6vNqU8dupzup6uYUf32KTHTPQbuUM8Yk4QFXjEf2Usu2TJcNkdgpyeUSX42u5LqdDDpNSWUK5deC5\",\"blskey_pop\":\"QwDeb2CkNSx6r8QC8vGQK3GRv7Yndn84TGNijX8YXHPiagXajyfTjoR87rXUu4G4QLk2cF8NNyqWiYMus1623dELWwx57rLCFqGh7N4ZRbGDRP4fnVcaKg1BcUxQ866Ven4gw8y4N56S5HzxXNBZtLYmhGHvDtk6PFkFwCvxYrNYjh\",\"client_ip\":\"127.0.0.1\",\"client_port\":9706,\"node_ip\":\"127.0.0.1\",\"node_port\":9705,\"services\":[\"VALIDATOR\"]},\"dest\":\"DKVxG2fXXTU8yT5N7hGEbXB3dfdAnYv1JczDUHpmDxya\"},\"metadata\":{\"from\":\"4cU41vWW82ArfxJxHkzXPG\"},\"type\":\"0\"},\"txnMetadata\":{\"seqNo\":3,\"txnId\":\"7e9f355dffa78ed24668f0e0e369fd8c224076571c51e2ea8be5f26479edebe4\"},\"ver\":\"1\"}\\n'\n",
      "                      '{\"reqSignature\":{},\"txn\":{\"data\":{\"data\":{\"alias\":\"Node4\",\"blskey\":\"2zN3bHM1m4rLz54MJHYSwvqzPchYp8jkHswveCLAEJVcX6Mm1wHQD1SkPYMzUDTZvWvhuE6VNAkK3KxVeEmsanSmvjVkReDeBEMxeDaayjcZjFGPydyey1qxBHmTvAnBKoPydvuTAqx5f7YNNRAdeLmUi99gERUU7TD8KfAa6MpQ9bw\",\"blskey_pop\":\"RPLagxaR5xdimFzwmzYnz4ZhWtYQEj8iR5ZU53T2gitPCyCHQneUn2Huc4oeLd2B2HzkGnjAff4hWTJT6C7qHYB1Mv2wU5iHHGFWkhnTX9WsEAbunJCV2qcaXScKj4tTfvdDKfLiVuU2av6hbsMztirRze7LvYBkRHV3tGwyCptsrP\",\"client_ip\":\"127.0.0.1\",\"client_port\":9708,\"node_ip\":\"127.0.0.1\",\"node_port\":9707,\"services\":[\"VALIDATOR\"]},\"dest\":\"4PS3EDQ3dW1tci1Bp6543CfuuebjFrg36kLAUcskGfaA\"},\"metadata\":{\"from\":\"TWwCRQRZ2ZHMJFn9TzLp7W\"},\"type\":\"0\"},\"txnMetadata\":{\"seqNo\":4,\"txnId\":\"aa5e817d7cc626170eca175822029339a444eb0ee8f0bd20d3b0b76e566fb008\"},\"ver\":\"1\"}',\n",
      "  'genesis_txn_path': PosixPath('/tmp/indy/pool1.txn'),\n",
      "  'handle': 13,\n",
      "  'name': 'pool1'}\n",
      "----------------------------------------------------------------------------------------------------\n"
     ]
    }
   ],
   "source": [
    "print_result(\"create_pool_and_open_pool\", use_pp = True)"
   ]
  },
  {
   "cell_type": "markdown",
   "id": "24db61bb-8162-4aa5-aa02-e840bd32421d",
   "metadata": {
    "tags": []
   },
   "source": [
    "<br><br><br><hr>\n",
    "\n",
    "# 4. Set Steward Information and Create Wallet"
   ]
  },
  {
   "cell_type": "markdown",
   "id": "4bcd8cb0-fe90-4592-9678-409c5dc501c7",
   "metadata": {
    "tags": []
   },
   "source": [
    "## - Wallet 관련 함수 정의"
   ]
  },
  {
   "cell_type": "code",
   "execution_count": 25,
   "id": "be90eced-325e-4cc0-afc4-0fabf79ed6e2",
   "metadata": {},
   "outputs": [],
   "source": [
    "async def create_wallet(identity) -> int:\n",
    "    try:\n",
    "        await wallet.create_wallet(identity['wallet_config'], identity['wallet_credentials'])\n",
    "    except IndyError as ex:\n",
    "        if ex.error_code == ErrorCode.PoolLedgerConfigAlreadyExistsError:\n",
    "            pass\n",
    "    identity['wallet'] = await wallet.open_wallet(identity['wallet_config'],identity['wallet_credentials'])"
   ]
  },
  {
   "cell_type": "markdown",
   "id": "5b95c864-1040-4f12-be77-3eeeed4105d5",
   "metadata": {},
   "source": [
    "## - 지갑 생성"
   ]
  },
  {
   "cell_type": "code",
   "execution_count": 26,
   "id": "c98f281b-1949-4fcb-bf73-c3ee56005deb",
   "metadata": {},
   "outputs": [],
   "source": [
    "steward = {\n",
    "    'name': \"Sovrin Steward\",\n",
    "    'wallet_config': json.dumps({'id': 'sovrin_steward_wallet'}),\n",
    "    'wallet_credentials': json.dumps({'key': 'steward_wallet_key'}),\n",
    "    'pool': pool_['handle'],\n",
    "    'seed': '000000000000000000000000Steward1'\n",
    "}\n",
    "\n",
    "await create_wallet(steward)\n",
    "\n",
    "steward['did_info'] = json.dumps({'seed': steward['seed']})\n",
    "steward['did'], steward['key'] = await did.create_and_store_my_did(steward['wallet'], steward['did_info'])\n",
    "print_result2 = IndyPrinter(steward)"
   ]
  },
  {
   "cell_type": "code",
   "execution_count": 27,
   "id": "06d6334c-c476-4870-baae-287255598c6c",
   "metadata": {},
   "outputs": [
    {
     "name": "stdout",
     "output_type": "stream",
     "text": [
      "----------------------------------------------------------------------------------------------------\n",
      "----------------------------------------------steward-----------------------------------------------\n",
      "{ 'did': 'Th7MpTaRZVRYnPiabds81Y',\n",
      "  'did_info': '{\"seed\": '\n",
      "              '\"000000000000000000000000Steward1\"}',\n",
      "  'key': 'FYmoFw55GeQH7SRFa37dkx1d2dZ3zUF8ckg7wmL7ofN4',\n",
      "  'name': 'Sovrin Steward',\n",
      "  'pool': 13,\n",
      "  'seed': '000000000000000000000000Steward1',\n",
      "  'wallet': 16,\n",
      "  'wallet_config': '{\"id\": '\n",
      "                   '\"sovrin_steward_wallet\"}',\n",
      "  'wallet_credentials': '{\"key\": '\n",
      "                        '\"steward_wallet_key\"}'}\n",
      "----------------------------------------------------------------------------------------------------\n"
     ]
    }
   ],
   "source": [
    "print_result2(\"steward\", use_pp = True)"
   ]
  },
  {
   "cell_type": "markdown",
   "id": "1dfd657f-9412-496c-9081-c9b24c2938e2",
   "metadata": {
    "tags": []
   },
   "source": [
    "<br><br><br><hr>\n",
    "\n",
    "# 5. Getting Endorser Credentials"
   ]
  },
  {
   "cell_type": "markdown",
   "id": "63ee8cd5-d355-4d79-a03e-25e18966da56",
   "metadata": {
    "tags": []
   },
   "source": [
    "## - Verinym 관련 함수 정의"
   ]
  },
  {
   "cell_type": "code",
   "execution_count": 28,
   "id": "2f348f31-db22-463d-8d73-a530803d33e7",
   "metadata": {},
   "outputs": [],
   "source": [
    "async def getting_verinym(from_ : dict, to : dict):\n",
    "    \"\"\"\n",
    "    \n",
    "    \"\"\"\n",
    "    await create_wallet(to)\n",
    "\n",
    "    (to['did'], to['key']) = await did.create_and_store_my_did(to['wallet'], \"{}\")\n",
    "\n",
    "    from_['info'] = {\n",
    "        'did': to['did'],\n",
    "        'verkey': to['key'],\n",
    "        'role': to['role'] or None\n",
    "    }\n",
    "\n",
    "    await send_nym(from_['pool'], from_['wallet'], from_['did'], from_['info']['did'],\n",
    "                   from_['info']['verkey'], from_['info']['role'])\n",
    "\n",
    "\n",
    "async def send_nym(pool_handle, wallet_handle, _did, new_did, new_key, role):\n",
    "    \"\"\"\n",
    "    \n",
    "    \"\"\"\n",
    "    nym_request = await ledger.build_nym_request(_did, new_did, new_key, None, role)\n",
    "    await ledger.sign_and_submit_request(pool_handle, wallet_handle, _did, nym_request)"
   ]
  },
  {
   "cell_type": "markdown",
   "id": "f889777e-87a9-40b8-b10e-2925b72f0aa9",
   "metadata": {},
   "source": [
    "### (1) Government getting verinym"
   ]
  },
  {
   "cell_type": "code",
   "execution_count": 29,
   "id": "91d88f28-c697-4974-9aa8-fc7e8daec47b",
   "metadata": {},
   "outputs": [],
   "source": [
    "government = {\n",
    "    'name': 'Government',\n",
    "    'wallet_config': json.dumps({'id': 'government_wallet'}),\n",
    "    'wallet_credentials': json.dumps({'key': 'government_wallet_key'}),\n",
    "    'pool': pool_['handle'],\n",
    "    'role': 'TRUST_ANCHOR'\n",
    "}\n",
    "\n",
    "await getting_verinym(steward, government)\n",
    "print_result3 = IndyPrinter(government)"
   ]
  },
  {
   "cell_type": "code",
   "execution_count": 30,
   "id": "230d95eb-2534-4e5c-a087-99e101b6bbf0",
   "metadata": {},
   "outputs": [
    {
     "name": "stdout",
     "output_type": "stream",
     "text": [
      "----------------------------------------------------------------------------------------------------\n",
      "---------------------------------------------government---------------------------------------------\n",
      "{ 'did': '24VP41vc7qwSV9jDNqzgg7',\n",
      "  'key': 'aWoJvf3VwUWUt7J6j3VUpwAeokGb586jr7MVkiYmRQa',\n",
      "  'name': 'Government',\n",
      "  'pool': 13,\n",
      "  'role': 'TRUST_ANCHOR',\n",
      "  'wallet': 18,\n",
      "  'wallet_config': '{\"id\": '\n",
      "                   '\"government_wallet\"}',\n",
      "  'wallet_credentials': '{\"key\": '\n",
      "                        '\"government_wallet_key\"}'}\n",
      "----------------------------------------------------------------------------------------------------\n"
     ]
    }
   ],
   "source": [
    "print_result3(\"government\", use_pp = True)"
   ]
  },
  {
   "cell_type": "markdown",
   "id": "5f3c1336-f469-4585-a5e6-b4deb9923218",
   "metadata": {
    "tags": []
   },
   "source": [
    "### (2) Faber(university) getting verinym"
   ]
  },
  {
   "cell_type": "code",
   "execution_count": 31,
   "id": "e2f373b5-4a99-400d-b6be-244269742589",
   "metadata": {
    "tags": []
   },
   "outputs": [],
   "source": [
    "faber = {\n",
    "    'name': 'Faber',\n",
    "    'wallet_config': json.dumps({'id': 'faber_wallet'}),\n",
    "    'wallet_credentials': json.dumps({'key': 'faber_wallet_key'}),\n",
    "    'pool': pool_['handle'],\n",
    "    'role': 'TRUST_ANCHOR'\n",
    "}\n",
    "\n",
    "await getting_verinym(steward, faber)\n",
    "print_result4 = IndyPrinter(faber)"
   ]
  },
  {
   "cell_type": "code",
   "execution_count": 32,
   "id": "572abfa1-75b8-4c02-af4b-0b6a5340b923",
   "metadata": {
    "tags": []
   },
   "outputs": [
    {
     "name": "stdout",
     "output_type": "stream",
     "text": [
      "----------------------------------------------------------------------------------------------------\n",
      "-----------------------------------------------faber------------------------------------------------\n",
      "{ 'did': '5WNnjE3nstyWe6MihYqhrg',\n",
      "  'key': '3TTboG2yyzwVrnvVBQReiyezkPqwS9ono4zzMwey36nJ',\n",
      "  'name': 'Faber',\n",
      "  'pool': 13,\n",
      "  'role': 'TRUST_ANCHOR',\n",
      "  'wallet': 22,\n",
      "  'wallet_config': '{\"id\": '\n",
      "                   '\"faber_wallet\"}',\n",
      "  'wallet_credentials': '{\"key\": '\n",
      "                        '\"faber_wallet_key\"}'}\n",
      "----------------------------------------------------------------------------------------------------\n"
     ]
    }
   ],
   "source": [
    "print_result4(\"faber\", use_pp = True)"
   ]
  },
  {
   "cell_type": "markdown",
   "id": "6b63dcb8-455a-41cc-93ea-09aae33bad29",
   "metadata": {
    "tags": []
   },
   "source": [
    "### (3) Acme(corporation) getting verinym"
   ]
  },
  {
   "cell_type": "code",
   "execution_count": 33,
   "id": "c2114855-fae0-4fef-8df6-b7e665ec8f7a",
   "metadata": {},
   "outputs": [],
   "source": [
    "acme = {\n",
    "    'name': 'Acme',\n",
    "    'wallet_config': json.dumps({'id': 'acme_wallet'}),\n",
    "    'wallet_credentials': json.dumps({'key': 'acme_wallet_key'}),\n",
    "    'pool': pool_['handle'],\n",
    "    'role': 'TRUST_ANCHOR'\n",
    "}\n",
    "\n",
    "await getting_verinym(steward, acme)\n",
    "print_result5 = IndyPrinter(acme)"
   ]
  },
  {
   "cell_type": "code",
   "execution_count": 34,
   "id": "bfebf010-5e33-43e5-95db-a1e4981837bc",
   "metadata": {},
   "outputs": [
    {
     "name": "stdout",
     "output_type": "stream",
     "text": [
      "----------------------------------------------------------------------------------------------------\n",
      "------------------------------------------------acme------------------------------------------------\n",
      "{ 'did': 'W1KmoBcsuRMWMMhyKmiwp9',\n",
      "  'key': 'GovZusV4pJYzjvP4uYVfMXFRANtttHeTCQctjxVULCwD',\n",
      "  'name': 'Acme',\n",
      "  'pool': 13,\n",
      "  'role': 'TRUST_ANCHOR',\n",
      "  'wallet': 26,\n",
      "  'wallet_config': '{\"id\": '\n",
      "                   '\"acme_wallet\"}',\n",
      "  'wallet_credentials': '{\"key\": '\n",
      "                        '\"acme_wallet_key\"}'}\n",
      "----------------------------------------------------------------------------------------------------\n"
     ]
    }
   ],
   "source": [
    "print_result5(\"acme\", use_pp = True)"
   ]
  },
  {
   "cell_type": "markdown",
   "id": "4c51a512-e1e7-412c-a0c2-9a391cb53c74",
   "metadata": {
    "tags": []
   },
   "source": [
    "### (4) Thrift(bank) getting verinym"
   ]
  },
  {
   "cell_type": "code",
   "execution_count": 35,
   "id": "48dfb521-b71b-4baa-9a4b-f71047866469",
   "metadata": {
    "tags": []
   },
   "outputs": [],
   "source": [
    "thrift = {\n",
    "    'name': 'Thrift',\n",
    "    'wallet_config': json.dumps({'id': 'thrift_wallet'}),\n",
    "    'wallet_credentials': json.dumps({'key': 'thrift_wallet_key'}),\n",
    "    'pool': pool_['handle'],\n",
    "    'role': 'TRUST_ANCHOR'\n",
    "}\n",
    "\n",
    "await getting_verinym(steward, thrift)\n",
    "print_result6 = IndyPrinter(thrift)"
   ]
  },
  {
   "cell_type": "code",
   "execution_count": 36,
   "id": "d96e9379-db80-4bd7-ac69-9c8458283f44",
   "metadata": {},
   "outputs": [
    {
     "name": "stdout",
     "output_type": "stream",
     "text": [
      "----------------------------------------------------------------------------------------------------\n",
      "-----------------------------------------------thrift-----------------------------------------------\n",
      "{ 'did': 'HYFcGcHTSZ6AMcNS61GnXR',\n",
      "  'key': 'A1pqs3tUiFMxWZTgsMMnBZaMwReuqHr4zvHrDiof5cu6',\n",
      "  'name': 'Thrift',\n",
      "  'pool': 13,\n",
      "  'role': 'TRUST_ANCHOR',\n",
      "  'wallet': 30,\n",
      "  'wallet_config': '{\"id\": '\n",
      "                   '\"thrift_wallet\"}',\n",
      "  'wallet_credentials': '{\"key\": '\n",
      "                        '\"thrift_wallet_key\"}'}\n",
      "----------------------------------------------------------------------------------------------------\n"
     ]
    }
   ],
   "source": [
    "print_result6(\"thrift\", use_pp = True)"
   ]
  },
  {
   "cell_type": "markdown",
   "id": "9a1b57fe-fe5f-414b-9ced-d9c40c8ea460",
   "metadata": {
    "tags": []
   },
   "source": [
    "<br><br><br><hr>\n",
    "\n",
    "# 6. Credential Schema Setup"
   ]
  },
  {
   "cell_type": "markdown",
   "id": "b509ca7f-3d76-4008-a455-36345f25152b",
   "metadata": {
    "tags": []
   },
   "source": [
    "## - Schema 관련 함수 정의"
   ]
  },
  {
   "cell_type": "code",
   "execution_count": 37,
   "id": "4e092e15-9d72-4ce8-b0f1-8852d0f62d76",
   "metadata": {},
   "outputs": [],
   "source": [
    "async def send_schema(pool_handle, wallet_handle, _did, schema):\n",
    "    schema_request = await ledger.build_schema_request(_did, schema)\n",
    "    await ledger.sign_and_submit_request(pool_handle, wallet_handle, _did, schema_request)\n",
    "    \n",
    "async def get_schema(pool_handle, _did, schema_id):\n",
    "    get_schema_request = await ledger.build_get_schema_request(_did, schema_id)\n",
    "    get_schema_response = await ensure_previous_request_applied(\n",
    "        pool_handle, get_schema_request, lambda response: response['result']['data'] is not None)\n",
    "    return await ledger.parse_get_schema_response(get_schema_response)"
   ]
  },
  {
   "cell_type": "markdown",
   "id": "7cf26333-c44a-452c-a8f5-edd645f125c4",
   "metadata": {
    "tags": []
   },
   "source": [
    "### (1) Government Create \"Transcript\" Schema"
   ]
  },
  {
   "cell_type": "code",
   "execution_count": 38,
   "id": "d5b169d4-7458-4131-893e-da9c0b77309c",
   "metadata": {},
   "outputs": [],
   "source": [
    "transcript = {\n",
    "    'name': 'Transcript',\n",
    "    'version': '1.2',\n",
    "    'attributes': ['first_name', 'last_name', 'degree', 'status', 'year', 'average', 'ssn']\n",
    "}\n",
    "(government['transcript_schema_id'], government['transcript_schema']) = \\\n",
    "    await anoncreds.issuer_create_schema(government['did'], transcript['name'], transcript['version'],\n",
    "                                         json.dumps(transcript['attributes']))\n",
    "transcript_schema_id = government['transcript_schema_id']\n",
    "\n",
    "await send_schema(government['pool'], government['wallet'], government['did'], government['transcript_schema'])\n",
    "\n",
    "print_result7 = IndyPrinter(government)"
   ]
  },
  {
   "cell_type": "code",
   "execution_count": 44,
   "id": "db165e7c-2a1e-45c6-84be-bac32d0e0d07",
   "metadata": {},
   "outputs": [
    {
     "name": "stdout",
     "output_type": "stream",
     "text": [
      "----------------------------------------------------------------------------------------------------\n",
      "---------------------------------------------government---------------------------------------------\n",
      "{ 'did': '24VP41vc7qwSV9jDNqzgg7',\n",
      "  'job_certificate_schema': '{\"ver\":\"1.0\",\"id\":\"24VP41vc7qwSV9jDNqzgg7:2:Job-Certificate:0.2\",\"name\":\"Job-Certificate\",\"version\":\"0.2\",\"attrNames\":[\"first_name\",\"employee_status\",\"last_name\",\"salary\",\"experience\"],\"seqNo\":null}',\n",
      "  'job_certificate_schema_id': '24VP41vc7qwSV9jDNqzgg7:2:Job-Certificate:0.2',\n",
      "  'key': 'aWoJvf3VwUWUt7J6j3VUpwAeokGb586jr7MVkiYmRQa',\n",
      "  'name': 'Government',\n",
      "  'pool': 13,\n",
      "  'role': 'TRUST_ANCHOR',\n",
      "  'transcript_schema': '{\"ver\":\"1.0\",\"id\":\"24VP41vc7qwSV9jDNqzgg7:2:Transcript:1.2\",\"name\":\"Transcript\",\"version\":\"1.2\",\"attrNames\":[\"degree\",\"year\",\"last_name\",\"first_name\",\"status\",\"average\",\"ssn\"],\"seqNo\":null}',\n",
      "  'transcript_schema_id': '24VP41vc7qwSV9jDNqzgg7:2:Transcript:1.2',\n",
      "  'wallet': 18,\n",
      "  'wallet_config': '{\"id\": '\n",
      "                   '\"government_wallet\"}',\n",
      "  'wallet_credentials': '{\"key\": '\n",
      "                        '\"government_wallet_key\"}'}\n",
      "----------------------------------------------------------------------------------------------------\n",
      "----------------------------------------------------------------------------------------------------\n",
      "---------------------------------------------transcript---------------------------------------------\n",
      "{ 'attributes': [ 'first_name',\n",
      "                  'last_name', 'degree',\n",
      "                  'status', 'year',\n",
      "                  'average', 'ssn'],\n",
      "  'name': 'Transcript',\n",
      "  'version': '1.2'}\n",
      "----------------------------------------------------------------------------------------------------\n"
     ]
    }
   ],
   "source": [
    "print_result8 = IndyPrinter(transcript)\n",
    "print_result7(\"government\", use_pp = True)\n",
    "print_result8(\"transcript\", use_pp = True)"
   ]
  },
  {
   "cell_type": "markdown",
   "id": "85ddfaf1-eedb-494b-bb21-dd2a884bb6b3",
   "metadata": {
    "tags": []
   },
   "source": [
    "### (2) Government Create \"Job-Certificate\" Schema"
   ]
  },
  {
   "cell_type": "code",
   "execution_count": 46,
   "id": "0d256f57-ec76-48ca-bc32-38508a3deaf4",
   "metadata": {},
   "outputs": [],
   "source": [
    "job_certificate = {\n",
    "    'name': 'Job-Certificate',\n",
    "    'version': '0.2',\n",
    "    'attributes': ['first_name', 'last_name', 'salary', 'employee_status', 'experience']\n",
    "}\n",
    "(government['job_certificate_schema_id'], government['job_certificate_schema']) = \\\n",
    "        await anoncreds.issuer_create_schema(government['did'], job_certificate['name'], job_certificate['version'], json.dumps(job_certificate['attributes']))\n",
    "\n",
    "job_certificate_schema_id = government['job_certificate_schema_id']\n",
    "\n",
    "await send_schema(government['pool'], government['wallet'], government['did'], government['job_certificate_schema'])"
   ]
  },
  {
   "cell_type": "code",
   "execution_count": 48,
   "id": "fce80f57-3b3d-425c-aed7-ba2419318758",
   "metadata": {},
   "outputs": [
    {
     "name": "stdout",
     "output_type": "stream",
     "text": [
      "----------------------------------------------------------------------------------------------------\n",
      "---------------------------------------------government---------------------------------------------\n",
      "{ 'did': '24VP41vc7qwSV9jDNqzgg7',\n",
      "  'job_certificate_schema': '{\"ver\":\"1.0\",\"id\":\"24VP41vc7qwSV9jDNqzgg7:2:Job-Certificate:0.2\",\"name\":\"Job-Certificate\",\"version\":\"0.2\",\"attrNames\":[\"first_name\",\"experience\",\"salary\",\"last_name\",\"employee_status\"],\"seqNo\":null}',\n",
      "  'job_certificate_schema_id': '24VP41vc7qwSV9jDNqzgg7:2:Job-Certificate:0.2',\n",
      "  'key': 'aWoJvf3VwUWUt7J6j3VUpwAeokGb586jr7MVkiYmRQa',\n",
      "  'name': 'Government',\n",
      "  'pool': 13,\n",
      "  'role': 'TRUST_ANCHOR',\n",
      "  'transcript_schema': '{\"ver\":\"1.0\",\"id\":\"24VP41vc7qwSV9jDNqzgg7:2:Transcript:1.2\",\"name\":\"Transcript\",\"version\":\"1.2\",\"attrNames\":[\"degree\",\"year\",\"last_name\",\"first_name\",\"status\",\"average\",\"ssn\"],\"seqNo\":null}',\n",
      "  'transcript_schema_id': '24VP41vc7qwSV9jDNqzgg7:2:Transcript:1.2',\n",
      "  'wallet': 18,\n",
      "  'wallet_config': '{\"id\": '\n",
      "                   '\"government_wallet\"}',\n",
      "  'wallet_credentials': '{\"key\": '\n",
      "                        '\"government_wallet_key\"}'}\n",
      "----------------------------------------------------------------------------------------------------\n",
      "----------------------------------------------------------------------------------------------------\n",
      "-------------------------------------job_certificate_schema_id--------------------------------------\n",
      "{ 'attributes': [ 'first_name',\n",
      "                  'last_name', 'degree',\n",
      "                  'status', 'year',\n",
      "                  'average', 'ssn'],\n",
      "  'name': 'Transcript',\n",
      "  'version': '1.2'}\n",
      "----------------------------------------------------------------------------------------------------\n"
     ]
    }
   ],
   "source": [
    "IndyPrinter(government)(\"government\", use_pp = True)\n",
    "IndyPrinter(transcript)(\"job_certificate_schema_id\", use_pp = True)"
   ]
  },
  {
   "cell_type": "markdown",
   "id": "8daff017-376d-4966-b999-b6db7f477bd4",
   "metadata": {
    "tags": []
   },
   "source": [
    "<br><br><br><hr>\n",
    "\n",
    "# 7. Credential Definition Setup"
   ]
  },
  {
   "cell_type": "markdown",
   "id": "e9235333-f4ab-4d0d-98c5-bc5014d1be54",
   "metadata": {
    "tags": []
   },
   "source": [
    "## - Definition 관련 함수 정의"
   ]
  },
  {
   "cell_type": "code",
   "execution_count": 49,
   "id": "6c615b07-499b-4df0-9d77-959bb2392700",
   "metadata": {
    "tags": []
   },
   "outputs": [],
   "source": [
    "async def send_cred_def(pool_handle, wallet_handle, _did, cred_def_json):\n",
    "    cred_def_request = await ledger.build_cred_def_request(_did, cred_def_json)\n",
    "    await ledger.sign_and_submit_request(pool_handle, wallet_handle, _did, cred_def_request)\n",
    "\n",
    "async def get_cred_def(pool_handle, _did, cred_def_id):\n",
    "    get_cred_def_request = await ledger.build_get_cred_def_request(_did, cred_def_id)\n",
    "    get_cred_def_response = await ensure_previous_request_applied(pool_handle, get_cred_def_request,\n",
    "                                              lambda response: response['result']['data'] is not None)\n",
    "    return await ledger.parse_get_cred_def_response(get_cred_def_response)"
   ]
  },
  {
   "cell_type": "markdown",
   "id": "78c6a2fb-2cd7-44f3-b8fc-5be0a060f812",
   "metadata": {},
   "source": [
    "### (1-1) Faber get \"Transcript\" schema from ledger"
   ]
  },
  {
   "cell_type": "code",
   "execution_count": 50,
   "id": "c6cf2452-d49b-4c3f-a20a-c7dae95ed5b9",
   "metadata": {},
   "outputs": [],
   "source": [
    "(faber['transcript_schema_id'], faber['transcript_schema']) = await get_schema(faber['pool'], faber['did'], transcript_schema_id)"
   ]
  },
  {
   "cell_type": "code",
   "execution_count": 51,
   "id": "3263634f-4ef9-4c1b-9de0-92df5705a7e7",
   "metadata": {},
   "outputs": [
    {
     "name": "stdout",
     "output_type": "stream",
     "text": [
      "----------------------------------------------------------------------------------------------------\n",
      "-----------------------------------------------faber------------------------------------------------\n",
      "{ 'did': '5WNnjE3nstyWe6MihYqhrg',\n",
      "  'key': '3TTboG2yyzwVrnvVBQReiyezkPqwS9ono4zzMwey36nJ',\n",
      "  'name': 'Faber',\n",
      "  'pool': 13,\n",
      "  'role': 'TRUST_ANCHOR',\n",
      "  'transcript_schema': '{\"ver\":\"1.0\",\"id\":\"24VP41vc7qwSV9jDNqzgg7:2:Transcript:1.2\",\"name\":\"Transcript\",\"version\":\"1.2\",\"attrNames\":[\"degree\",\"first_name\",\"ssn\",\"average\",\"last_name\",\"year\",\"status\"],\"seqNo\":217}',\n",
      "  'transcript_schema_id': '24VP41vc7qwSV9jDNqzgg7:2:Transcript:1.2',\n",
      "  'wallet': 22,\n",
      "  'wallet_config': '{\"id\": '\n",
      "                   '\"faber_wallet\"}',\n",
      "  'wallet_credentials': '{\"key\": '\n",
      "                        '\"faber_wallet_key\"}'}\n",
      "----------------------------------------------------------------------------------------------------\n"
     ]
    }
   ],
   "source": [
    "IndyPrinter(faber)(\"faber\", use_pp = True)"
   ]
  },
  {
   "cell_type": "markdown",
   "id": "5a831bf3-2ef5-45d6-bac5-e672eac47b57",
   "metadata": {},
   "source": [
    "### (1-2) Faber create and store in wallet \"Faber Transcript\" credential definition"
   ]
  },
  {
   "cell_type": "code",
   "execution_count": 52,
   "id": "2ae44fe8-bfd5-43b4-9b08-6a9666a3a40b",
   "metadata": {},
   "outputs": [],
   "source": [
    "transcript_cred_def = {\n",
    "    'tag': 'TAG1',\n",
    "    'type': 'CL',\n",
    "    'config': {\"support_revocation\": False}\n",
    "}\n",
    "(faber['transcript_cred_def_id'], faber['transcript_cred_def']) = await anoncreds.issuer_create_and_store_credential_def(faber['wallet'], faber['did'],\n",
    "                                                                                                                         faber['transcript_schema'], transcript_cred_def['tag'],\n",
    "                                                                                                                         transcript_cred_def['type'],\n",
    "                                                                                                                         json.dumps(transcript_cred_def['config']))"
   ]
  },
  {
   "cell_type": "code",
   "execution_count": 53,
   "id": "202fa86c-ef0d-4a72-9136-206da39181fa",
   "metadata": {},
   "outputs": [
    {
     "name": "stdout",
     "output_type": "stream",
     "text": [
      "----------------------------------------------------------------------------------------------------\n",
      "----------------------------------------transcript_cred_def-----------------------------------------\n",
      "{ 'config': { 'support_revocation': False},\n",
      "  'tag': 'TAG1',\n",
      "  'type': 'CL'}\n",
      "----------------------------------------------------------------------------------------------------\n",
      "----------------------------------------------------------------------------------------------------\n",
      "-----------------------------------------------faber------------------------------------------------\n",
      "{ 'did': '5WNnjE3nstyWe6MihYqhrg',\n",
      "  'key': '3TTboG2yyzwVrnvVBQReiyezkPqwS9ono4zzMwey36nJ',\n",
      "  'name': 'Faber',\n",
      "  'pool': 13,\n",
      "  'role': 'TRUST_ANCHOR',\n",
      "  'transcript_cred_def': '{\"ver\":\"1.0\",\"id\":\"5WNnjE3nstyWe6MihYqhrg:3:CL:217:TAG1\",\"schemaId\":\"217\",\"type\":\"CL\",\"tag\":\"TAG1\",\"value\":{\"primary\":{\"n\":\"90787625441732753057907247833545836686578671441928831142700685402817580349477065044030702954622038083697780366022598900182757939971681592986739656951639342245258870370714810779222519945061070902998325568391517802657818162464840532999813336358914661714971844321084326566226141656952525816680785691360488612278955279065600057478422623000780394966121601611745511303939274753987208657438774236217513243453600907307624462838756608336075639485666510408756862886907718270238804784625903476221058847493866938800759708709225454215074462638975503074494947243496092487601898417661065096902150779065825200582253404714176246546521\",\"s\":\"88496386831352742264293076985345687676467032873886173007561472812543754712125865569269289407590055945440219150798029089699301299323519711469880426199250031544393782049803728984340033472938633181802396055819295597721049638937908370977470744289493119572241506079613386918907880133198079359896187652827939438430220354201810090422251576011045425075275716753126899498704980708762209883058811111271825831798140478456200987901309478167177135509803530634431607183241310002926642168263882805612948757466668003925231183225788589428342453032383044141086409082327556849442034786022166401601933876208678519123783848402295838972940\",\"r\":{\"degree\":\"66311781941465284008701527787702942131212257082450764063233953310792966039547159694392985652276218248124885548312834943281470734240280721025462018765894590417769181056324027581106256986165136473543672416790423784479724018764869301053503952887071468568013820317575953390719133910420050287222283872229021432430649046400832383180479415387639217665012263155764658202091439223062441647528804598845294298373617276601462467970836974583643107765324515992191115385757245961109442363607764012080447929674362715292592364983797763888867449589260137739038329557199212235575403616149362425661345355866541147257613636899601106583594\",\"ssn\":\"1503458575905419702710585144594141424308214158870236200843601607029544741057162912526163885484289255748618652365750182488115041015074802922545690099651138859034231791827566636058793788933707058594273610763424668999605593180624382570299392562767419371621397155247614063231848221218394201616198049980467756890658257046830263634309783805485690821412654309506456107937079294250839802465174351859424460145799102410838197710971104158922054349547276852818809768228056913811035845791896903802513616784538198560662296943723400740529402498131236643468055959909746372803246887117286440028892415803030273479942200408368866940783\",\"year\":\"40865260529454550334055109365952972681158664033056939697994590659791777529304627734781598344687624915129292458196344189834303971517099262390549530365295833253214850928093918951717160369488360156198922448921769307566821157482335010469042453175818331746359297752864241169476951886164759929012854332652252198189547176279542925798652104673548423726676583098632441757019397051865242890355783302789622799787074664150739199056860936341333948456613223408770264177375047460291030130282750499911720027783573260340356624014581977962285650072126171512313310356821058271343986029726870035516478644121191030027418542489538380411790\",\"master_secret\":\"15039491964874499287243499961565438964103768712837368818572518967153615122481429130235816715840375789875253741591649061408607527615219106785253051524086167677500219065371901304575009364977066552622964275932869007386343692989956950577640689209670020201826269506298324412493067737773462458660922220876053376809304065619634975821593874021608324852954750671475174784128539531945543836701821598139552463292883124961771527549297287883532070680148186669816284093775961924178488563128626287449978844762390250384239857067734481754076814622918978589928833190349249706199353709385165443808728484063807972632043437039790646038475\",\"last_name\":\"31153104129502771545230536243153871057936107600216464066964941647681418836444984306527582821433104000248412941918454330995929821129249043307860877268758705434215056367752879906505502544256284815986446458154280767449459032401361739976537329913067117968197356624744810410477468524642718630427910768484840851803884791661732312043887607715009334967863140392254865439901716042306258564506724132657161805388828494206276054168615023226837801503456673576414764550037882242245241138261296845067702960413370896999149173141377060796209716869129959512395124066892653248105614582631260515277164912983772951583461076066378120937965\",\"status\":\"71512021423276305870813210686872107629278619789660006408828850219828377607799605104294128057831149094777126747782477793583894961421245728161552419541246463584813371101469332443624890685812312110370750221067415146662223051681870020188607880673331239097813501327275043476493378757003841231643777700036118413077561332872004729987574068856730266277766905134037041830049021743524282904038221076566134899253474728812612829676384982523390907487748782558200872911252694569339822254395366106601865551067208511440599504541730971085800752351416153320171703515711005369466693706310282432803185299459021597108030019020377238845819\",\"average\":\"27363100172474938096413380342634440911850230730452440232985791330447153951803509178195242216778579489172053157554717459556787178416846641876561748000949908938257369722599613623077642590579508616876291628191641595736518294883580981525927623364844123370988879311533658969414515036149703017019372673719635343819823131823056367845508315119110157903468153952276085440327446156183500328378757389182376318132029431244895078036376267884400757565881486176854252114932902677115702380778396086725821336736093236877453286610914024212957784742845241067068393869775786957799548424374684066117743003406939644766168567849058798963659\",\"first_name\":\"78756063052990561616299683303837837577685096575514542522186989114833068043270875612805844800191128306013249133633701782118083521149575485037103916378720413144365568662752850651718762641217941947637860107357848702506431923429769149660020055143524341632433639838039864396881790259371770747975528326143353245618747790434340319183314639968167882328645322925510463961250503308936287213248323891429122702704109207732322652933631341165434838713193220796550577846209046539385658044815096430473289592768620559297781658507392477964814241602661926018313330434956715367936798607249915106110713429835976130773397003946077395930471\"},\"rctxt\":\"38657933586585703769637220829821383813687640606871216368964161199867994972534620491388739320554304484785880425685047450925025614912628514488038925463370034976829428453118837611856855500240604747582967856138488293142482439356429297399357741447121090843027102254171764627370061602118213618626793303526621970417331195351463715028749680369586175606020666381544346059426483022666577172221321307728326166266069618814573375658810750413777265050011728906149500835571812996025735109358025877493345148650458197644228628004803664380874398091041554262552262729789392410560107670507648962948836463574225230588483095327532829186262\",\"z\":\"75462474427291479850788556544653592829510526502405037895563481722352786242702940228012052917802785262813949573479470921507191057416609938157864454516539550568572828714307094749962059935700547128756579416803997739920508394859311545378070282446830955985424645452432290436156549253715427783369067149173498378286621201893292016643523589796830066874420138404543637767507397321978073478763048949015711291717055027786170180596509758946127125203479641628014525246066996893877431548470184036053067396867319977584353382140223878894632662789274588382388817676067799557107649654589126330988219390062384960653545480501763409777955\"}}}',\n",
      "  'transcript_cred_def_id': '5WNnjE3nstyWe6MihYqhrg:3:CL:217:TAG1',\n",
      "  'transcript_schema': '{\"ver\":\"1.0\",\"id\":\"24VP41vc7qwSV9jDNqzgg7:2:Transcript:1.2\",\"name\":\"Transcript\",\"version\":\"1.2\",\"attrNames\":[\"degree\",\"first_name\",\"ssn\",\"average\",\"last_name\",\"year\",\"status\"],\"seqNo\":217}',\n",
      "  'transcript_schema_id': '24VP41vc7qwSV9jDNqzgg7:2:Transcript:1.2',\n",
      "  'wallet': 22,\n",
      "  'wallet_config': '{\"id\": '\n",
      "                   '\"faber_wallet\"}',\n",
      "  'wallet_credentials': '{\"key\": '\n",
      "                        '\"faber_wallet_key\"}'}\n",
      "----------------------------------------------------------------------------------------------------\n"
     ]
    }
   ],
   "source": [
    "IndyPrinter(transcript_cred_def)(\"transcript_cred_def\", use_pp = True)\n",
    "IndyPrinter(faber)(\"faber\", use_pp = True)"
   ]
  },
  {
   "cell_type": "markdown",
   "id": "aaad8ee3-e31f-4bde-921d-969a103e63ac",
   "metadata": {},
   "source": [
    "### (1-3) Faber send \"Faber Transcript\" credential definition to ledger"
   ]
  },
  {
   "cell_type": "code",
   "execution_count": 54,
   "id": "a547a457-0409-42c7-aa3c-18f6cb440c3b",
   "metadata": {},
   "outputs": [],
   "source": [
    "await send_cred_def(faber['pool'], faber['wallet'], faber['did'], faber['transcript_cred_def'])"
   ]
  },
  {
   "cell_type": "markdown",
   "id": "64d4a551-e631-4a62-b52b-e3d252c30696",
   "metadata": {
    "tags": []
   },
   "source": [
    "### (2-1) Acme get \"Job-Certificate\" schema from ledger"
   ]
  },
  {
   "cell_type": "code",
   "execution_count": 55,
   "id": "aa0ce7ed-bfc5-4f03-848c-8641cd483f9d",
   "metadata": {},
   "outputs": [],
   "source": [
    "(acme['job_certificate_schema_id'], acme['job_certificate_schema']) = await get_schema(acme['pool'], acme['did'], job_certificate_schema_id)"
   ]
  },
  {
   "cell_type": "code",
   "execution_count": 56,
   "id": "0c99f321-3a4f-413d-bc7c-7aac05c4ea2f",
   "metadata": {},
   "outputs": [
    {
     "name": "stdout",
     "output_type": "stream",
     "text": [
      "----------------------------------------------------------------------------------------------------\n",
      "------------------------------------------------acme------------------------------------------------\n",
      "{ 'did': 'W1KmoBcsuRMWMMhyKmiwp9',\n",
      "  'job_certificate_schema': '{\"ver\":\"1.0\",\"id\":\"24VP41vc7qwSV9jDNqzgg7:2:Job-Certificate:0.2\",\"name\":\"Job-Certificate\",\"version\":\"0.2\",\"attrNames\":[\"first_name\",\"employee_status\",\"last_name\",\"experience\",\"salary\"],\"seqNo\":218}',\n",
      "  'job_certificate_schema_id': '24VP41vc7qwSV9jDNqzgg7:2:Job-Certificate:0.2',\n",
      "  'key': 'GovZusV4pJYzjvP4uYVfMXFRANtttHeTCQctjxVULCwD',\n",
      "  'name': 'Acme',\n",
      "  'pool': 13,\n",
      "  'role': 'TRUST_ANCHOR',\n",
      "  'wallet': 26,\n",
      "  'wallet_config': '{\"id\": '\n",
      "                   '\"acme_wallet\"}',\n",
      "  'wallet_credentials': '{\"key\": '\n",
      "                        '\"acme_wallet_key\"}'}\n",
      "----------------------------------------------------------------------------------------------------\n"
     ]
    }
   ],
   "source": [
    "IndyPrinter(acme)(\"acme\", use_pp = True)"
   ]
  },
  {
   "cell_type": "markdown",
   "id": "2ad8f7a7-12db-49a9-812d-7797cc8809f0",
   "metadata": {},
   "source": [
    "### (2-2) Acme create and store in wallet \"Acme Job-Certificate\" credential definition"
   ]
  },
  {
   "cell_type": "code",
   "execution_count": 57,
   "id": "c54f7610-e057-4c7b-b97a-26879424f1b7",
   "metadata": {},
   "outputs": [],
   "source": [
    "job_certificate_cred_def = {\n",
    "    'tag': 'TAG1',\n",
    "    'type': 'CL',\n",
    "    'config': {\"support_revocation\": True}\n",
    "}\n",
    "(acme['job_certificate_cred_def_id'], acme['job_certificate_cred_def']) = await anoncreds.issuer_create_and_store_credential_def(acme['wallet'], acme['did'],\n",
    "                                                                                                                                 acme['job_certificate_schema'],\n",
    "                                                                                                                                 job_certificate_cred_def['tag'],\n",
    "                                                                                                                                 job_certificate_cred_def['type'],\n",
    "                                                                                                                                 json.dumps(job_certificate_cred_def['config']))"
   ]
  },
  {
   "cell_type": "code",
   "execution_count": 58,
   "id": "5caef2ce-71cd-4d01-a161-26b56d79a290",
   "metadata": {},
   "outputs": [
    {
     "name": "stdout",
     "output_type": "stream",
     "text": [
      "----------------------------------------------------------------------------------------------------\n",
      "--------------------------------------job_certificate_cred_def--------------------------------------\n",
      "{ 'config': { 'support_revocation': False},\n",
      "  'tag': 'TAG1',\n",
      "  'type': 'CL'}\n",
      "----------------------------------------------------------------------------------------------------\n",
      "----------------------------------------------------------------------------------------------------\n",
      "------------------------------------------------acme------------------------------------------------\n",
      "{ 'did': 'W1KmoBcsuRMWMMhyKmiwp9',\n",
      "  'job_certificate_cred_def': '{\"ver\":\"1.0\",\"id\":\"W1KmoBcsuRMWMMhyKmiwp9:3:CL:218:TAG1\",\"schemaId\":\"218\",\"type\":\"CL\",\"tag\":\"TAG1\",\"value\":{\"primary\":{\"n\":\"104949092608675496226072082093646945911521034071524722517196395143281441438754143888492106615959314482688900287875375608042309413206295920288998167162099022232926199335252939268398733641561628143459312091273259552530125009448417073737562699613401072546580346592527597736698255018587015096386461337507744221949298473793895852749446700041395329500222378934529512045559549033614367034102966350692920876261061808548358683618884834368314284331175291520115730398794684487798348819017389481330063922026927577521251517780256847470922485662355062142720962567747388739362976991194161149012536057969209513855157567468774693365653\",\"s\":\"72699215740548555067903226586256749583375667328104680270342166813529329010926792831241593875123746085414203221843105729431197590495346222019532020224480443391252607851747878488562739498362578853161766900402115911286278622335357193991068523789968520056976746677520778410145224245828583371771855834248913473382174202556892484699501743472671778725160938676535684641377449214784528218319103007116264665912844241604388852445325864453726939437774433812429834870204690809102206186852678624164876156874149696629463262148599538528916716975214116891417841652206285946324742927445982399972228390923287917972699999032806884333086\",\"r\":{\"first_name\":\"72496995177104675698590753470059246433224599874058232697754021000946391611629638489493288687840398836337956326890375123327876492252357194923565177198510527354170838397563987590669749194310620073024024976936651970408242900694906909104848675625359082515892624443629659330868483636738922377730741486858368982476059780448655970975457710788808593714274838948107973899087732953988093580734963959503853364243336109614656326170576269216535614771670015049092210890811538894267553922789851669402096681593168128858293746968871340257114047735771945075474816230531842839361240586736155508028060779896533244299486384497009953542431\",\"salary\":\"26296122152019430325336156437523673458392528825021373375010408191117094179693710185338451268472831806119274461366995176338497614438433263235058574526703886795311622657711670664196407966718836911174117883744209662170131670512746133106095176362965580012209190628966121270092020724240232045025396853491102344948241802170712807827308892821263708237529642874617620131773957162430035696291536943582746089440961272928670379694166232115630711450438239642001810486951538069542840025528806562335160605922805420401614508398184622136971790116575180859097858161573190322445660228684333930265728926909504282982389337525892009531044\",\"master_secret\":\"7659593223660217424252139329549034628059312639526785320675888192894214584842374912219534057159227492827310126852427610486371717064172863538587854338694889160739591929227819049113078391732537312786292836130366044854742576194675749718196355004458989954972115819056117533611721634008517579317498759580418331662962796197437964354413255119288095525474987005053621633911698990532732043499956551352831669031888603825494799967294704269787232742053750749600248333111582114737625387882763356227633785616490378020578266241699188679519347364044467361526301515006054229428045005710729347881427982818597586807110065515793056702874\",\"last_name\":\"66267554764218469432022400654716623657370195268889436397535866432555178187961920471685524486804212567857853431444508295663323209982583478162368777642480363126307716883915619304645489313815310387607686264264509152101108202765381790180143605671814632787015428533127636019657201708759472998713692107230510246103068438992770292981579537612888402979087519671864040713731985726330720859570804209370489777888528458840702749089848077295953141317860987036963362436758612719766129318071000349804204652536977430515160597741493970495953110341904938099275450538036441817691796378486393693915787193442883396361538357267978860934659\",\"experience\":\"39550552470045418832156889336095605031251220340553119399007750139640757004044466911369603074000395868747659386307846429825709911157487364917235843680074625832394829136638961764848382748055931755886256526671171289637562724064598559979633293967962173654611560236967333798564293995086007977496324368098740920841085528776317445420643521607522747780309572931942090539115209646371402342677494753018547978698824722331962670644237660892809785005965051955830555344115844926085733895960232701003196878182780027536458946342211907401426863064014921507719350401406621110152520103868889569039201580017470775030419023860806665296414\",\"employee_status\":\"74169668556626260180660821696265727635506925660672246851299002473113753407708057878999784935980719916246268792230420871373608719103245283247971185650641779095874867292531078066420279156336809559884127746116366027459866453337843384193418846018426069582427371143102238662904861615149057414038246473911071531426270854308134626074671463007088349554902086752704187354308305018603051091951675859439433911716768283837406642085814032902788968845792353361077934874782099259762083345231837624083942634490516259240938523925869567532047499351346216255793059923963623284336287772652498292775197487972432227135171196331108544623314\"},\"rctxt\":\"84090642737960658828749489602599128443740584892827417749579018656554042064069381159278900529861641269767696177829940383062311470707575111104598541394858737775619225552243137350790471461783733412909567378964962821348678326830416900669524235766694915749105335338117462404731385333610656332510643912150933102555865588721259751221897941755698743043315067568319093375199774770654502200349383990974023647276517733292570076257951369223649622165670259180576978861193886365489036942512913540260231059145138785730354020917790335469279506973278519607473262831203355644263997453975191908922735487934715379724431761349337041920196\",\"z\":\"31148215495005022831762580861959437121122702133492217877055279508501859256144222180126527517232320660236016607065368015267235563492251569539864194031993595438868471948334781497609898085776612990959885960241424374473325581752853189594711238017811923125051387835669031607425240873817514356920567974151386659063482741596217258934862393262771986439889041391451186221606993834274474598781016006030950306895811585780815703285135247942551046266970133527407912688481085366998365764854272010705021785134414327897966173039645506216053301559160253834628070023722065140976203129633586769415131802639077707816193369136779192929966\"},\"revocation\":{\"g\":\"1 '\n",
      "                              '070EA2826C33F9497E162951251BAA1E7BDFE7BD93DB7C0E92B1113503CF1E34 '\n",
      "                              '1 '\n",
      "                              '1F7E559DBA662DE34C7E09236AFF41C954CF837514EFA3525C20DC4A32E9A102 '\n",
      "                              '2 '\n",
      "                              '095E45DDF417D05FB10933FFC63D474548B7FFFF7888802F07FFFFFF7D07A8A8\",\"g_dash\":\"1 '\n",
      "                              '1B527B607D7219B3F7DF87C6A4F4139B635A7F624CD2789E592EA804F6808813 '\n",
      "                              '1 '\n",
      "                              '054684EBEA758B604EE27AD2A2EA7F9C9897687DED38632FC51ABAA21609D2DC '\n",
      "                              '1 '\n",
      "                              '08A2CC3ED95920A30A370D82301E2D9E8473002F9D763DC1A7D22B5C158D2520 '\n",
      "                              '1 '\n",
      "                              '072EF9E9CF27C6FAD2C0953BC2D04DA19E2929CACFE1EACC2BC5457889C5789D '\n",
      "                              '2 '\n",
      "                              '095E45DDF417D05FB10933FFC63D474548B7FFFF7888802F07FFFFFF7D07A8A8 '\n",
      "                              '1 '\n",
      "                              '0000000000000000000000000000000000000000000000000000000000000000\",\"h\":\"1 '\n",
      "                              '092813F4F5556F94059C05A8FE7BF1E9DCC32886BF63AB1403D1009B0C16CA0E '\n",
      "                              '1 '\n",
      "                              '23AA54C9D80631D51AC72D7A297211EA439CB55348C17EAEE9F112C99A520638 '\n",
      "                              '2 '\n",
      "                              '095E45DDF417D05FB10933FFC63D474548B7FFFF7888802F07FFFFFF7D07A8A8\",\"h0\":\"1 '\n",
      "                              '115AA57816FE19A42F642D1C316FC685615B83250855C4AE42646C01372AE2F2 '\n",
      "                              '1 '\n",
      "                              '048CF23F445EE93923350DAE520367634C4F4219ECBF59E84B143A3E0A3FBAC1 '\n",
      "                              '2 '\n",
      "                              '095E45DDF417D05FB10933FFC63D474548B7FFFF7888802F07FFFFFF7D07A8A8\",\"h1\":\"1 '\n",
      "                              '07B7B6A2A84B5376BEDDB2A51FBC12E38F3615DF932E5020494097A987B40900 '\n",
      "                              '1 '\n",
      "                              '20F0397E14349AEBE2325328E5E307D15758065AACE16484EA27C07C160C9AD8 '\n",
      "                              '2 '\n",
      "                              '095E45DDF417D05FB10933FFC63D474548B7FFFF7888802F07FFFFFF7D07A8A8\",\"h2\":\"1 '\n",
      "                              '09B8A7C758CB02AC39A3AA2FD2DFC7656236121CA2F673296DF1B707DAD0E363 '\n",
      "                              '1 '\n",
      "                              '16032D4FD54BD6B3AC02AE652652C449B2D16083981300E31BA8B9E0D8A8069E '\n",
      "                              '2 '\n",
      "                              '095E45DDF417D05FB10933FFC63D474548B7FFFF7888802F07FFFFFF7D07A8A8\",\"htilde\":\"1 '\n",
      "                              '0C6D6A91B6D8309D66DA1DECD8004BEEB133B3F5393463345233E73EC30AC1C0 '\n",
      "                              '1 '\n",
      "                              '01D1772A82AA8F26A055FCE319D7C7C0684E9988B04153FC0EAAB0A3AAC44891 '\n",
      "                              '2 '\n",
      "                              '095E45DDF417D05FB10933FFC63D474548B7FFFF7888802F07FFFFFF7D07A8A8\",\"h_cap\":\"1 '\n",
      "                              '18D2E62D97F9D0EEEBDA54B0C55A7855BE6F752DBEA9A622B811521B065ABBD9 '\n",
      "                              '1 '\n",
      "                              '1CCED2A68E45A2D6FAE8260F2F9A4CDAE5A0E2C684A0FDE63BFD8A06333E9B88 '\n",
      "                              '1 '\n",
      "                              '209D7529A80EB9B4F2E625F0D7F52A8CCC207086581297CC96A59E0BF34A92B0 '\n",
      "                              '1 '\n",
      "                              '0B4FD911380302E677A13B719D9DB6EBB26260F69B7792DAE32C1C36FA9DD7E0 '\n",
      "                              '2 '\n",
      "                              '095E45DDF417D05FB10933FFC63D474548B7FFFF7888802F07FFFFFF7D07A8A8 '\n",
      "                              '1 '\n",
      "                              '0000000000000000000000000000000000000000000000000000000000000000\",\"u\":\"1 '\n",
      "                              '0747F0DFEA6F5166545C84B3AC17FC6B0977F8DF126FDB64FD1374DFB9BB4A0A '\n",
      "                              '1 '\n",
      "                              '12D0CB6BD5F34DC57CA3CB69D6A18F0D00ED100494F3A58D2009B6B9C0AE3509 '\n",
      "                              '1 '\n",
      "                              '032ABF489602CEA11622AA8873F6AB1C6FF2D6F7195E5F4A24D6F4E5BBCBEDE4 '\n",
      "                              '1 '\n",
      "                              '002B84B20DF5132884539A6D2B424B540790A1FE44482561C2954824FA8D866C '\n",
      "                              '2 '\n",
      "                              '095E45DDF417D05FB10933FFC63D474548B7FFFF7888802F07FFFFFF7D07A8A8 '\n",
      "                              '1 '\n",
      "                              '0000000000000000000000000000000000000000000000000000000000000000\",\"pk\":\"1 '\n",
      "                              '10C40EDE1C0201858AB7EE160E0D93FA1CF9E74B31028AEA7B09EA5E4D95D606 '\n",
      "                              '1 '\n",
      "                              '0E1B030CCB2ADC1CFD475EFA9AAE41E4E4F1FAAF9109E8864D36270E28E38008 '\n",
      "                              '2 '\n",
      "                              '095E45DDF417D05FB10933FFC63D474548B7FFFF7888802F07FFFFFF7D07A8A8\",\"y\":\"1 '\n",
      "                              '11292B79B9CBA873659E5AAF49650694A8EE6E897780554634E8C154390AF3C1 '\n",
      "                              '1 '\n",
      "                              '12AF3398068B1794004CB2EFC27585C8A9AE94C801CE12E6903F5A24995ECB3E '\n",
      "                              '1 '\n",
      "                              '1D05763CCEEA50B53F1B27DEB2CC0F0C67AA11A9873B18A0F95C823D632F9C7A '\n",
      "                              '1 '\n",
      "                              '0C8D09FF5EE67FF340C274417F216B9F2461C502ECFF73BF2ACBDB2CAB467655 '\n",
      "                              '2 '\n",
      "                              '095E45DDF417D05FB10933FFC63D474548B7FFFF7888802F07FFFFFF7D07A8A8 '\n",
      "                              '1 '\n",
      "                              '0000000000000000000000000000000000000000000000000000000000000000\"}}}',\n",
      "  'job_certificate_cred_def_id': 'W1KmoBcsuRMWMMhyKmiwp9:3:CL:218:TAG1',\n",
      "  'job_certificate_schema': '{\"ver\":\"1.0\",\"id\":\"24VP41vc7qwSV9jDNqzgg7:2:Job-Certificate:0.2\",\"name\":\"Job-Certificate\",\"version\":\"0.2\",\"attrNames\":[\"first_name\",\"employee_status\",\"last_name\",\"experience\",\"salary\"],\"seqNo\":218}',\n",
      "  'job_certificate_schema_id': '24VP41vc7qwSV9jDNqzgg7:2:Job-Certificate:0.2',\n",
      "  'key': 'GovZusV4pJYzjvP4uYVfMXFRANtttHeTCQctjxVULCwD',\n",
      "  'name': 'Acme',\n",
      "  'pool': 13,\n",
      "  'role': 'TRUST_ANCHOR',\n",
      "  'wallet': 26,\n",
      "  'wallet_config': '{\"id\": '\n",
      "                   '\"acme_wallet\"}',\n",
      "  'wallet_credentials': '{\"key\": '\n",
      "                        '\"acme_wallet_key\"}'}\n",
      "----------------------------------------------------------------------------------------------------\n"
     ]
    }
   ],
   "source": [
    "IndyPrinter(transcript_cred_def)(\"job_certificate_cred_def\", use_pp = True)\n",
    "IndyPrinter(acme)(\"acme\", use_pp = True)"
   ]
  },
  {
   "cell_type": "markdown",
   "id": "338ea063-e5ce-40fa-9a19-285d2aa3926b",
   "metadata": {
    "tags": []
   },
   "source": [
    "### (2-3) Acme send \"Acme Job-Certificate\" credential definition to ledger"
   ]
  },
  {
   "cell_type": "code",
   "execution_count": 59,
   "id": "7a76ad11-8ed7-4681-89be-4f46a2e9733a",
   "metadata": {},
   "outputs": [],
   "source": [
    "await send_cred_def(acme['pool'], acme['wallet'], acme['did'], acme['job_certificate_cred_def'])"
   ]
  },
  {
   "cell_type": "markdown",
   "id": "620c9338-a08b-4afe-b761-d3242fd33382",
   "metadata": {},
   "source": [
    "### (2-4) Acme create revocation registry"
   ]
  },
  {
   "cell_type": "code",
   "execution_count": 61,
   "id": "2e5afaf2-fb55-41bd-aa9f-4537ee29bc1d",
   "metadata": {},
   "outputs": [],
   "source": [
    "acme['tails_writer_config'] = json.dumps({'base_dir': \"/tmp/indy_acme_tails\", 'uri_pattern': ''})\n",
    "tails_writer = await blob_storage.open_writer('default', acme['tails_writer_config'])\n",
    "(acme['revoc_reg_id'], acme['revoc_reg_def'], acme['revoc_reg_entry']) = await anoncreds.issuer_create_and_store_revoc_reg(acme['wallet'], acme['did'], 'CL_ACCUM', 'TAG1',\n",
    "                                                                                                                           acme['job_certificate_cred_def_id'],\n",
    "                                                                                                                           json.dumps({'max_cred_num': 5, 'issuance_type': 'ISSUANCE_ON_DEMAND'}),\n",
    "                                                                                                                           tails_writer)"
   ]
  },
  {
   "cell_type": "code",
   "execution_count": 62,
   "id": "0461cd5f-2b70-471e-bfa8-5ca842cf83de",
   "metadata": {},
   "outputs": [
    {
     "name": "stdout",
     "output_type": "stream",
     "text": [
      "----------------------------------------------------------------------------------------------------\n",
      "------------------------------------------------acme------------------------------------------------\n",
      "{ 'did': 'W1KmoBcsuRMWMMhyKmiwp9',\n",
      "  'job_certificate_cred_def': '{\"ver\":\"1.0\",\"id\":\"W1KmoBcsuRMWMMhyKmiwp9:3:CL:218:TAG1\",\"schemaId\":\"218\",\"type\":\"CL\",\"tag\":\"TAG1\",\"value\":{\"primary\":{\"n\":\"104949092608675496226072082093646945911521034071524722517196395143281441438754143888492106615959314482688900287875375608042309413206295920288998167162099022232926199335252939268398733641561628143459312091273259552530125009448417073737562699613401072546580346592527597736698255018587015096386461337507744221949298473793895852749446700041395329500222378934529512045559549033614367034102966350692920876261061808548358683618884834368314284331175291520115730398794684487798348819017389481330063922026927577521251517780256847470922485662355062142720962567747388739362976991194161149012536057969209513855157567468774693365653\",\"s\":\"72699215740548555067903226586256749583375667328104680270342166813529329010926792831241593875123746085414203221843105729431197590495346222019532020224480443391252607851747878488562739498362578853161766900402115911286278622335357193991068523789968520056976746677520778410145224245828583371771855834248913473382174202556892484699501743472671778725160938676535684641377449214784528218319103007116264665912844241604388852445325864453726939437774433812429834870204690809102206186852678624164876156874149696629463262148599538528916716975214116891417841652206285946324742927445982399972228390923287917972699999032806884333086\",\"r\":{\"first_name\":\"72496995177104675698590753470059246433224599874058232697754021000946391611629638489493288687840398836337956326890375123327876492252357194923565177198510527354170838397563987590669749194310620073024024976936651970408242900694906909104848675625359082515892624443629659330868483636738922377730741486858368982476059780448655970975457710788808593714274838948107973899087732953988093580734963959503853364243336109614656326170576269216535614771670015049092210890811538894267553922789851669402096681593168128858293746968871340257114047735771945075474816230531842839361240586736155508028060779896533244299486384497009953542431\",\"salary\":\"26296122152019430325336156437523673458392528825021373375010408191117094179693710185338451268472831806119274461366995176338497614438433263235058574526703886795311622657711670664196407966718836911174117883744209662170131670512746133106095176362965580012209190628966121270092020724240232045025396853491102344948241802170712807827308892821263708237529642874617620131773957162430035696291536943582746089440961272928670379694166232115630711450438239642001810486951538069542840025528806562335160605922805420401614508398184622136971790116575180859097858161573190322445660228684333930265728926909504282982389337525892009531044\",\"master_secret\":\"7659593223660217424252139329549034628059312639526785320675888192894214584842374912219534057159227492827310126852427610486371717064172863538587854338694889160739591929227819049113078391732537312786292836130366044854742576194675749718196355004458989954972115819056117533611721634008517579317498759580418331662962796197437964354413255119288095525474987005053621633911698990532732043499956551352831669031888603825494799967294704269787232742053750749600248333111582114737625387882763356227633785616490378020578266241699188679519347364044467361526301515006054229428045005710729347881427982818597586807110065515793056702874\",\"last_name\":\"66267554764218469432022400654716623657370195268889436397535866432555178187961920471685524486804212567857853431444508295663323209982583478162368777642480363126307716883915619304645489313815310387607686264264509152101108202765381790180143605671814632787015428533127636019657201708759472998713692107230510246103068438992770292981579537612888402979087519671864040713731985726330720859570804209370489777888528458840702749089848077295953141317860987036963362436758612719766129318071000349804204652536977430515160597741493970495953110341904938099275450538036441817691796378486393693915787193442883396361538357267978860934659\",\"experience\":\"39550552470045418832156889336095605031251220340553119399007750139640757004044466911369603074000395868747659386307846429825709911157487364917235843680074625832394829136638961764848382748055931755886256526671171289637562724064598559979633293967962173654611560236967333798564293995086007977496324368098740920841085528776317445420643521607522747780309572931942090539115209646371402342677494753018547978698824722331962670644237660892809785005965051955830555344115844926085733895960232701003196878182780027536458946342211907401426863064014921507719350401406621110152520103868889569039201580017470775030419023860806665296414\",\"employee_status\":\"74169668556626260180660821696265727635506925660672246851299002473113753407708057878999784935980719916246268792230420871373608719103245283247971185650641779095874867292531078066420279156336809559884127746116366027459866453337843384193418846018426069582427371143102238662904861615149057414038246473911071531426270854308134626074671463007088349554902086752704187354308305018603051091951675859439433911716768283837406642085814032902788968845792353361077934874782099259762083345231837624083942634490516259240938523925869567532047499351346216255793059923963623284336287772652498292775197487972432227135171196331108544623314\"},\"rctxt\":\"84090642737960658828749489602599128443740584892827417749579018656554042064069381159278900529861641269767696177829940383062311470707575111104598541394858737775619225552243137350790471461783733412909567378964962821348678326830416900669524235766694915749105335338117462404731385333610656332510643912150933102555865588721259751221897941755698743043315067568319093375199774770654502200349383990974023647276517733292570076257951369223649622165670259180576978861193886365489036942512913540260231059145138785730354020917790335469279506973278519607473262831203355644263997453975191908922735487934715379724431761349337041920196\",\"z\":\"31148215495005022831762580861959437121122702133492217877055279508501859256144222180126527517232320660236016607065368015267235563492251569539864194031993595438868471948334781497609898085776612990959885960241424374473325581752853189594711238017811923125051387835669031607425240873817514356920567974151386659063482741596217258934862393262771986439889041391451186221606993834274474598781016006030950306895811585780815703285135247942551046266970133527407912688481085366998365764854272010705021785134414327897966173039645506216053301559160253834628070023722065140976203129633586769415131802639077707816193369136779192929966\"},\"revocation\":{\"g\":\"1 '\n",
      "                              '070EA2826C33F9497E162951251BAA1E7BDFE7BD93DB7C0E92B1113503CF1E34 '\n",
      "                              '1 '\n",
      "                              '1F7E559DBA662DE34C7E09236AFF41C954CF837514EFA3525C20DC4A32E9A102 '\n",
      "                              '2 '\n",
      "                              '095E45DDF417D05FB10933FFC63D474548B7FFFF7888802F07FFFFFF7D07A8A8\",\"g_dash\":\"1 '\n",
      "                              '1B527B607D7219B3F7DF87C6A4F4139B635A7F624CD2789E592EA804F6808813 '\n",
      "                              '1 '\n",
      "                              '054684EBEA758B604EE27AD2A2EA7F9C9897687DED38632FC51ABAA21609D2DC '\n",
      "                              '1 '\n",
      "                              '08A2CC3ED95920A30A370D82301E2D9E8473002F9D763DC1A7D22B5C158D2520 '\n",
      "                              '1 '\n",
      "                              '072EF9E9CF27C6FAD2C0953BC2D04DA19E2929CACFE1EACC2BC5457889C5789D '\n",
      "                              '2 '\n",
      "                              '095E45DDF417D05FB10933FFC63D474548B7FFFF7888802F07FFFFFF7D07A8A8 '\n",
      "                              '1 '\n",
      "                              '0000000000000000000000000000000000000000000000000000000000000000\",\"h\":\"1 '\n",
      "                              '092813F4F5556F94059C05A8FE7BF1E9DCC32886BF63AB1403D1009B0C16CA0E '\n",
      "                              '1 '\n",
      "                              '23AA54C9D80631D51AC72D7A297211EA439CB55348C17EAEE9F112C99A520638 '\n",
      "                              '2 '\n",
      "                              '095E45DDF417D05FB10933FFC63D474548B7FFFF7888802F07FFFFFF7D07A8A8\",\"h0\":\"1 '\n",
      "                              '115AA57816FE19A42F642D1C316FC685615B83250855C4AE42646C01372AE2F2 '\n",
      "                              '1 '\n",
      "                              '048CF23F445EE93923350DAE520367634C4F4219ECBF59E84B143A3E0A3FBAC1 '\n",
      "                              '2 '\n",
      "                              '095E45DDF417D05FB10933FFC63D474548B7FFFF7888802F07FFFFFF7D07A8A8\",\"h1\":\"1 '\n",
      "                              '07B7B6A2A84B5376BEDDB2A51FBC12E38F3615DF932E5020494097A987B40900 '\n",
      "                              '1 '\n",
      "                              '20F0397E14349AEBE2325328E5E307D15758065AACE16484EA27C07C160C9AD8 '\n",
      "                              '2 '\n",
      "                              '095E45DDF417D05FB10933FFC63D474548B7FFFF7888802F07FFFFFF7D07A8A8\",\"h2\":\"1 '\n",
      "                              '09B8A7C758CB02AC39A3AA2FD2DFC7656236121CA2F673296DF1B707DAD0E363 '\n",
      "                              '1 '\n",
      "                              '16032D4FD54BD6B3AC02AE652652C449B2D16083981300E31BA8B9E0D8A8069E '\n",
      "                              '2 '\n",
      "                              '095E45DDF417D05FB10933FFC63D474548B7FFFF7888802F07FFFFFF7D07A8A8\",\"htilde\":\"1 '\n",
      "                              '0C6D6A91B6D8309D66DA1DECD8004BEEB133B3F5393463345233E73EC30AC1C0 '\n",
      "                              '1 '\n",
      "                              '01D1772A82AA8F26A055FCE319D7C7C0684E9988B04153FC0EAAB0A3AAC44891 '\n",
      "                              '2 '\n",
      "                              '095E45DDF417D05FB10933FFC63D474548B7FFFF7888802F07FFFFFF7D07A8A8\",\"h_cap\":\"1 '\n",
      "                              '18D2E62D97F9D0EEEBDA54B0C55A7855BE6F752DBEA9A622B811521B065ABBD9 '\n",
      "                              '1 '\n",
      "                              '1CCED2A68E45A2D6FAE8260F2F9A4CDAE5A0E2C684A0FDE63BFD8A06333E9B88 '\n",
      "                              '1 '\n",
      "                              '209D7529A80EB9B4F2E625F0D7F52A8CCC207086581297CC96A59E0BF34A92B0 '\n",
      "                              '1 '\n",
      "                              '0B4FD911380302E677A13B719D9DB6EBB26260F69B7792DAE32C1C36FA9DD7E0 '\n",
      "                              '2 '\n",
      "                              '095E45DDF417D05FB10933FFC63D474548B7FFFF7888802F07FFFFFF7D07A8A8 '\n",
      "                              '1 '\n",
      "                              '0000000000000000000000000000000000000000000000000000000000000000\",\"u\":\"1 '\n",
      "                              '0747F0DFEA6F5166545C84B3AC17FC6B0977F8DF126FDB64FD1374DFB9BB4A0A '\n",
      "                              '1 '\n",
      "                              '12D0CB6BD5F34DC57CA3CB69D6A18F0D00ED100494F3A58D2009B6B9C0AE3509 '\n",
      "                              '1 '\n",
      "                              '032ABF489602CEA11622AA8873F6AB1C6FF2D6F7195E5F4A24D6F4E5BBCBEDE4 '\n",
      "                              '1 '\n",
      "                              '002B84B20DF5132884539A6D2B424B540790A1FE44482561C2954824FA8D866C '\n",
      "                              '2 '\n",
      "                              '095E45DDF417D05FB10933FFC63D474548B7FFFF7888802F07FFFFFF7D07A8A8 '\n",
      "                              '1 '\n",
      "                              '0000000000000000000000000000000000000000000000000000000000000000\",\"pk\":\"1 '\n",
      "                              '10C40EDE1C0201858AB7EE160E0D93FA1CF9E74B31028AEA7B09EA5E4D95D606 '\n",
      "                              '1 '\n",
      "                              '0E1B030CCB2ADC1CFD475EFA9AAE41E4E4F1FAAF9109E8864D36270E28E38008 '\n",
      "                              '2 '\n",
      "                              '095E45DDF417D05FB10933FFC63D474548B7FFFF7888802F07FFFFFF7D07A8A8\",\"y\":\"1 '\n",
      "                              '11292B79B9CBA873659E5AAF49650694A8EE6E897780554634E8C154390AF3C1 '\n",
      "                              '1 '\n",
      "                              '12AF3398068B1794004CB2EFC27585C8A9AE94C801CE12E6903F5A24995ECB3E '\n",
      "                              '1 '\n",
      "                              '1D05763CCEEA50B53F1B27DEB2CC0F0C67AA11A9873B18A0F95C823D632F9C7A '\n",
      "                              '1 '\n",
      "                              '0C8D09FF5EE67FF340C274417F216B9F2461C502ECFF73BF2ACBDB2CAB467655 '\n",
      "                              '2 '\n",
      "                              '095E45DDF417D05FB10933FFC63D474548B7FFFF7888802F07FFFFFF7D07A8A8 '\n",
      "                              '1 '\n",
      "                              '0000000000000000000000000000000000000000000000000000000000000000\"}}}',\n",
      "  'job_certificate_cred_def_id': 'W1KmoBcsuRMWMMhyKmiwp9:3:CL:218:TAG1',\n",
      "  'job_certificate_schema': '{\"ver\":\"1.0\",\"id\":\"24VP41vc7qwSV9jDNqzgg7:2:Job-Certificate:0.2\",\"name\":\"Job-Certificate\",\"version\":\"0.2\",\"attrNames\":[\"first_name\",\"employee_status\",\"last_name\",\"experience\",\"salary\"],\"seqNo\":218}',\n",
      "  'job_certificate_schema_id': '24VP41vc7qwSV9jDNqzgg7:2:Job-Certificate:0.2',\n",
      "  'key': 'GovZusV4pJYzjvP4uYVfMXFRANtttHeTCQctjxVULCwD',\n",
      "  'name': 'Acme',\n",
      "  'pool': 13,\n",
      "  'revoc_reg_def': '{\"ver\":\"1.0\",\"id\":\"W1KmoBcsuRMWMMhyKmiwp9:4:W1KmoBcsuRMWMMhyKmiwp9:3:CL:218:TAG1:CL_ACCUM:TAG1\",\"revocDefType\":\"CL_ACCUM\",\"tag\":\"TAG1\",\"credDefId\":\"W1KmoBcsuRMWMMhyKmiwp9:3:CL:218:TAG1\",\"value\":{\"issuanceType\":\"ISSUANCE_ON_DEMAND\",\"maxCredNum\":5,\"publicKeys\":{\"accumKey\":{\"z\":\"1 '\n",
      "                   '0A2E2381AB623C0EA324BE9EABC1003328CEBDDD7390C9D716D05C0D17092C84 '\n",
      "                   '1 '\n",
      "                   '01EE4759064896D9D2BD4B3077DB69F5014B050F222B978E7C7689C3360AE032 '\n",
      "                   '1 '\n",
      "                   '0DE627644CF58423DE4B6C3D803BE42DB5E8BD180995A6CBC1AFAC29D895F997 '\n",
      "                   '1 '\n",
      "                   '16B85117E92E2094D102ED53275DF2F1C9AA1B748B6609F919914BF75F177EAF '\n",
      "                   '1 '\n",
      "                   '1AA1E50DF8CE6805FD4FB0A7BBF3BED1360E7DC9DDAD156CADDC21D207C91262 '\n",
      "                   '1 '\n",
      "                   '0755FD4888CE58E3D1079E792479828E340E84984FD31B35A1193D884CADE1A9 '\n",
      "                   '1 '\n",
      "                   '16A248185CAF1CB7321CE825E64B589919F05AEE280AAB1F71A9D0E95F83EA56 '\n",
      "                   '1 '\n",
      "                   '149CF3F2743484D217C6B7284394E31ABE244D2E85884953D55899F980A659ED '\n",
      "                   '1 '\n",
      "                   '0D04A37434379C40CA93B5715C7C6CD7B77483C42C4D5011E10ADD36919EFC07 '\n",
      "                   '1 '\n",
      "                   '080F0911132A9B7B9B9B2C08389EE0106DE8FF95069A6E5DA32AFE64FF267A2C '\n",
      "                   '1 '\n",
      "                   '16BDDE5FF294267C596230048A1FC01BE66A1AF4E5E6C0D1466B8D7437C5FBBA '\n",
      "                   '1 '\n",
      "                   '235C417D697632F2C39C0DD282F6B3864DED03DA333495044663E960E4F97174\"}},\"tailsHash\":\"BEBJtuVvCCw2JPKv5vARcKh3B2y7FV6QyNAZR2Y59Gs8\",\"tailsLocation\":\"/tmp/indy_acme_tails/BEBJtuVvCCw2JPKv5vARcKh3B2y7FV6QyNAZR2Y59Gs8\"}}',\n",
      "  'revoc_reg_entry': '{\"ver\":\"1.0\",\"value\":{\"accum\":\"1 '\n",
      "                     '0000000000000000000000000000000000000000000000000000000000000000 '\n",
      "                     '1 '\n",
      "                     '0000000000000000000000000000000000000000000000000000000000000000 '\n",
      "                     '2 '\n",
      "                     '095E45DDF417D05FB10933FFC63D474548B7FFFF7888802F07FFFFFF7D07A8A8 '\n",
      "                     '1 '\n",
      "                     '0000000000000000000000000000000000000000000000000000000000000000 '\n",
      "                     '1 '\n",
      "                     '0000000000000000000000000000000000000000000000000000000000000000 '\n",
      "                     '1 '\n",
      "                     '0000000000000000000000000000000000000000000000000000000000000000\"}}',\n",
      "  'revoc_reg_id': 'W1KmoBcsuRMWMMhyKmiwp9:4:W1KmoBcsuRMWMMhyKmiwp9:3:CL:218:TAG1:CL_ACCUM:TAG1',\n",
      "  'role': 'TRUST_ANCHOR',\n",
      "  'tails_writer_config': '{\"base_dir\": '\n",
      "                         '\"/tmp/indy_acme_tails\", '\n",
      "                         '\"uri_pattern\": '\n",
      "                         '\"\"}',\n",
      "  'wallet': 26,\n",
      "  'wallet_config': '{\"id\": '\n",
      "                   '\"acme_wallet\"}',\n",
      "  'wallet_credentials': '{\"key\": '\n",
      "                        '\"acme_wallet_key\"}'}\n",
      "----------------------------------------------------------------------------------------------------\n"
     ]
    }
   ],
   "source": [
    "IndyPrinter(acme)(\"acme\")"
   ]
  },
  {
   "cell_type": "markdown",
   "id": "282f7d27-6c2a-42bd-9ebd-a86730f11ce1",
   "metadata": {},
   "source": [
    "### (2-5) Acme post revocation registry definition to ledger"
   ]
  },
  {
   "cell_type": "code",
   "execution_count": 63,
   "id": "e3a382fb-8eaf-4532-90cd-4d64b68849fe",
   "metadata": {},
   "outputs": [
    {
     "name": "stdout",
     "output_type": "stream",
     "text": [
      "\n"
     ]
    }
   ],
   "source": [
    "acme['revoc_reg_def_request'] = await ledger.build_revoc_reg_def_request(acme['did'], acme['revoc_reg_def'])\n",
    "await ledger.sign_and_submit_request(acme['pool'], acme['wallet'], acme['did'], acme['revoc_reg_def_request'])\n",
    "print()"
   ]
  },
  {
   "cell_type": "code",
   "execution_count": 64,
   "id": "0b3f53db-5234-4d66-a548-e511431149d5",
   "metadata": {},
   "outputs": [
    {
     "name": "stdout",
     "output_type": "stream",
     "text": [
      "----------------------------------------------------------------------------------------------------\n",
      "------------------------------------------------acme------------------------------------------------\n",
      "{ 'did': 'W1KmoBcsuRMWMMhyKmiwp9',\n",
      "  'job_certificate_cred_def': '{\"ver\":\"1.0\",\"id\":\"W1KmoBcsuRMWMMhyKmiwp9:3:CL:218:TAG1\",\"schemaId\":\"218\",\"type\":\"CL\",\"tag\":\"TAG1\",\"value\":{\"primary\":{\"n\":\"104949092608675496226072082093646945911521034071524722517196395143281441438754143888492106615959314482688900287875375608042309413206295920288998167162099022232926199335252939268398733641561628143459312091273259552530125009448417073737562699613401072546580346592527597736698255018587015096386461337507744221949298473793895852749446700041395329500222378934529512045559549033614367034102966350692920876261061808548358683618884834368314284331175291520115730398794684487798348819017389481330063922026927577521251517780256847470922485662355062142720962567747388739362976991194161149012536057969209513855157567468774693365653\",\"s\":\"72699215740548555067903226586256749583375667328104680270342166813529329010926792831241593875123746085414203221843105729431197590495346222019532020224480443391252607851747878488562739498362578853161766900402115911286278622335357193991068523789968520056976746677520778410145224245828583371771855834248913473382174202556892484699501743472671778725160938676535684641377449214784528218319103007116264665912844241604388852445325864453726939437774433812429834870204690809102206186852678624164876156874149696629463262148599538528916716975214116891417841652206285946324742927445982399972228390923287917972699999032806884333086\",\"r\":{\"first_name\":\"72496995177104675698590753470059246433224599874058232697754021000946391611629638489493288687840398836337956326890375123327876492252357194923565177198510527354170838397563987590669749194310620073024024976936651970408242900694906909104848675625359082515892624443629659330868483636738922377730741486858368982476059780448655970975457710788808593714274838948107973899087732953988093580734963959503853364243336109614656326170576269216535614771670015049092210890811538894267553922789851669402096681593168128858293746968871340257114047735771945075474816230531842839361240586736155508028060779896533244299486384497009953542431\",\"salary\":\"26296122152019430325336156437523673458392528825021373375010408191117094179693710185338451268472831806119274461366995176338497614438433263235058574526703886795311622657711670664196407966718836911174117883744209662170131670512746133106095176362965580012209190628966121270092020724240232045025396853491102344948241802170712807827308892821263708237529642874617620131773957162430035696291536943582746089440961272928670379694166232115630711450438239642001810486951538069542840025528806562335160605922805420401614508398184622136971790116575180859097858161573190322445660228684333930265728926909504282982389337525892009531044\",\"master_secret\":\"7659593223660217424252139329549034628059312639526785320675888192894214584842374912219534057159227492827310126852427610486371717064172863538587854338694889160739591929227819049113078391732537312786292836130366044854742576194675749718196355004458989954972115819056117533611721634008517579317498759580418331662962796197437964354413255119288095525474987005053621633911698990532732043499956551352831669031888603825494799967294704269787232742053750749600248333111582114737625387882763356227633785616490378020578266241699188679519347364044467361526301515006054229428045005710729347881427982818597586807110065515793056702874\",\"last_name\":\"66267554764218469432022400654716623657370195268889436397535866432555178187961920471685524486804212567857853431444508295663323209982583478162368777642480363126307716883915619304645489313815310387607686264264509152101108202765381790180143605671814632787015428533127636019657201708759472998713692107230510246103068438992770292981579537612888402979087519671864040713731985726330720859570804209370489777888528458840702749089848077295953141317860987036963362436758612719766129318071000349804204652536977430515160597741493970495953110341904938099275450538036441817691796378486393693915787193442883396361538357267978860934659\",\"experience\":\"39550552470045418832156889336095605031251220340553119399007750139640757004044466911369603074000395868747659386307846429825709911157487364917235843680074625832394829136638961764848382748055931755886256526671171289637562724064598559979633293967962173654611560236967333798564293995086007977496324368098740920841085528776317445420643521607522747780309572931942090539115209646371402342677494753018547978698824722331962670644237660892809785005965051955830555344115844926085733895960232701003196878182780027536458946342211907401426863064014921507719350401406621110152520103868889569039201580017470775030419023860806665296414\",\"employee_status\":\"74169668556626260180660821696265727635506925660672246851299002473113753407708057878999784935980719916246268792230420871373608719103245283247971185650641779095874867292531078066420279156336809559884127746116366027459866453337843384193418846018426069582427371143102238662904861615149057414038246473911071531426270854308134626074671463007088349554902086752704187354308305018603051091951675859439433911716768283837406642085814032902788968845792353361077934874782099259762083345231837624083942634490516259240938523925869567532047499351346216255793059923963623284336287772652498292775197487972432227135171196331108544623314\"},\"rctxt\":\"84090642737960658828749489602599128443740584892827417749579018656554042064069381159278900529861641269767696177829940383062311470707575111104598541394858737775619225552243137350790471461783733412909567378964962821348678326830416900669524235766694915749105335338117462404731385333610656332510643912150933102555865588721259751221897941755698743043315067568319093375199774770654502200349383990974023647276517733292570076257951369223649622165670259180576978861193886365489036942512913540260231059145138785730354020917790335469279506973278519607473262831203355644263997453975191908922735487934715379724431761349337041920196\",\"z\":\"31148215495005022831762580861959437121122702133492217877055279508501859256144222180126527517232320660236016607065368015267235563492251569539864194031993595438868471948334781497609898085776612990959885960241424374473325581752853189594711238017811923125051387835669031607425240873817514356920567974151386659063482741596217258934862393262771986439889041391451186221606993834274474598781016006030950306895811585780815703285135247942551046266970133527407912688481085366998365764854272010705021785134414327897966173039645506216053301559160253834628070023722065140976203129633586769415131802639077707816193369136779192929966\"},\"revocation\":{\"g\":\"1 '\n",
      "                              '070EA2826C33F9497E162951251BAA1E7BDFE7BD93DB7C0E92B1113503CF1E34 '\n",
      "                              '1 '\n",
      "                              '1F7E559DBA662DE34C7E09236AFF41C954CF837514EFA3525C20DC4A32E9A102 '\n",
      "                              '2 '\n",
      "                              '095E45DDF417D05FB10933FFC63D474548B7FFFF7888802F07FFFFFF7D07A8A8\",\"g_dash\":\"1 '\n",
      "                              '1B527B607D7219B3F7DF87C6A4F4139B635A7F624CD2789E592EA804F6808813 '\n",
      "                              '1 '\n",
      "                              '054684EBEA758B604EE27AD2A2EA7F9C9897687DED38632FC51ABAA21609D2DC '\n",
      "                              '1 '\n",
      "                              '08A2CC3ED95920A30A370D82301E2D9E8473002F9D763DC1A7D22B5C158D2520 '\n",
      "                              '1 '\n",
      "                              '072EF9E9CF27C6FAD2C0953BC2D04DA19E2929CACFE1EACC2BC5457889C5789D '\n",
      "                              '2 '\n",
      "                              '095E45DDF417D05FB10933FFC63D474548B7FFFF7888802F07FFFFFF7D07A8A8 '\n",
      "                              '1 '\n",
      "                              '0000000000000000000000000000000000000000000000000000000000000000\",\"h\":\"1 '\n",
      "                              '092813F4F5556F94059C05A8FE7BF1E9DCC32886BF63AB1403D1009B0C16CA0E '\n",
      "                              '1 '\n",
      "                              '23AA54C9D80631D51AC72D7A297211EA439CB55348C17EAEE9F112C99A520638 '\n",
      "                              '2 '\n",
      "                              '095E45DDF417D05FB10933FFC63D474548B7FFFF7888802F07FFFFFF7D07A8A8\",\"h0\":\"1 '\n",
      "                              '115AA57816FE19A42F642D1C316FC685615B83250855C4AE42646C01372AE2F2 '\n",
      "                              '1 '\n",
      "                              '048CF23F445EE93923350DAE520367634C4F4219ECBF59E84B143A3E0A3FBAC1 '\n",
      "                              '2 '\n",
      "                              '095E45DDF417D05FB10933FFC63D474548B7FFFF7888802F07FFFFFF7D07A8A8\",\"h1\":\"1 '\n",
      "                              '07B7B6A2A84B5376BEDDB2A51FBC12E38F3615DF932E5020494097A987B40900 '\n",
      "                              '1 '\n",
      "                              '20F0397E14349AEBE2325328E5E307D15758065AACE16484EA27C07C160C9AD8 '\n",
      "                              '2 '\n",
      "                              '095E45DDF417D05FB10933FFC63D474548B7FFFF7888802F07FFFFFF7D07A8A8\",\"h2\":\"1 '\n",
      "                              '09B8A7C758CB02AC39A3AA2FD2DFC7656236121CA2F673296DF1B707DAD0E363 '\n",
      "                              '1 '\n",
      "                              '16032D4FD54BD6B3AC02AE652652C449B2D16083981300E31BA8B9E0D8A8069E '\n",
      "                              '2 '\n",
      "                              '095E45DDF417D05FB10933FFC63D474548B7FFFF7888802F07FFFFFF7D07A8A8\",\"htilde\":\"1 '\n",
      "                              '0C6D6A91B6D8309D66DA1DECD8004BEEB133B3F5393463345233E73EC30AC1C0 '\n",
      "                              '1 '\n",
      "                              '01D1772A82AA8F26A055FCE319D7C7C0684E9988B04153FC0EAAB0A3AAC44891 '\n",
      "                              '2 '\n",
      "                              '095E45DDF417D05FB10933FFC63D474548B7FFFF7888802F07FFFFFF7D07A8A8\",\"h_cap\":\"1 '\n",
      "                              '18D2E62D97F9D0EEEBDA54B0C55A7855BE6F752DBEA9A622B811521B065ABBD9 '\n",
      "                              '1 '\n",
      "                              '1CCED2A68E45A2D6FAE8260F2F9A4CDAE5A0E2C684A0FDE63BFD8A06333E9B88 '\n",
      "                              '1 '\n",
      "                              '209D7529A80EB9B4F2E625F0D7F52A8CCC207086581297CC96A59E0BF34A92B0 '\n",
      "                              '1 '\n",
      "                              '0B4FD911380302E677A13B719D9DB6EBB26260F69B7792DAE32C1C36FA9DD7E0 '\n",
      "                              '2 '\n",
      "                              '095E45DDF417D05FB10933FFC63D474548B7FFFF7888802F07FFFFFF7D07A8A8 '\n",
      "                              '1 '\n",
      "                              '0000000000000000000000000000000000000000000000000000000000000000\",\"u\":\"1 '\n",
      "                              '0747F0DFEA6F5166545C84B3AC17FC6B0977F8DF126FDB64FD1374DFB9BB4A0A '\n",
      "                              '1 '\n",
      "                              '12D0CB6BD5F34DC57CA3CB69D6A18F0D00ED100494F3A58D2009B6B9C0AE3509 '\n",
      "                              '1 '\n",
      "                              '032ABF489602CEA11622AA8873F6AB1C6FF2D6F7195E5F4A24D6F4E5BBCBEDE4 '\n",
      "                              '1 '\n",
      "                              '002B84B20DF5132884539A6D2B424B540790A1FE44482561C2954824FA8D866C '\n",
      "                              '2 '\n",
      "                              '095E45DDF417D05FB10933FFC63D474548B7FFFF7888802F07FFFFFF7D07A8A8 '\n",
      "                              '1 '\n",
      "                              '0000000000000000000000000000000000000000000000000000000000000000\",\"pk\":\"1 '\n",
      "                              '10C40EDE1C0201858AB7EE160E0D93FA1CF9E74B31028AEA7B09EA5E4D95D606 '\n",
      "                              '1 '\n",
      "                              '0E1B030CCB2ADC1CFD475EFA9AAE41E4E4F1FAAF9109E8864D36270E28E38008 '\n",
      "                              '2 '\n",
      "                              '095E45DDF417D05FB10933FFC63D474548B7FFFF7888802F07FFFFFF7D07A8A8\",\"y\":\"1 '\n",
      "                              '11292B79B9CBA873659E5AAF49650694A8EE6E897780554634E8C154390AF3C1 '\n",
      "                              '1 '\n",
      "                              '12AF3398068B1794004CB2EFC27585C8A9AE94C801CE12E6903F5A24995ECB3E '\n",
      "                              '1 '\n",
      "                              '1D05763CCEEA50B53F1B27DEB2CC0F0C67AA11A9873B18A0F95C823D632F9C7A '\n",
      "                              '1 '\n",
      "                              '0C8D09FF5EE67FF340C274417F216B9F2461C502ECFF73BF2ACBDB2CAB467655 '\n",
      "                              '2 '\n",
      "                              '095E45DDF417D05FB10933FFC63D474548B7FFFF7888802F07FFFFFF7D07A8A8 '\n",
      "                              '1 '\n",
      "                              '0000000000000000000000000000000000000000000000000000000000000000\"}}}',\n",
      "  'job_certificate_cred_def_id': 'W1KmoBcsuRMWMMhyKmiwp9:3:CL:218:TAG1',\n",
      "  'job_certificate_schema': '{\"ver\":\"1.0\",\"id\":\"24VP41vc7qwSV9jDNqzgg7:2:Job-Certificate:0.2\",\"name\":\"Job-Certificate\",\"version\":\"0.2\",\"attrNames\":[\"first_name\",\"employee_status\",\"last_name\",\"experience\",\"salary\"],\"seqNo\":218}',\n",
      "  'job_certificate_schema_id': '24VP41vc7qwSV9jDNqzgg7:2:Job-Certificate:0.2',\n",
      "  'key': 'GovZusV4pJYzjvP4uYVfMXFRANtttHeTCQctjxVULCwD',\n",
      "  'name': 'Acme',\n",
      "  'pool': 13,\n",
      "  'revoc_reg_def': '{\"ver\":\"1.0\",\"id\":\"W1KmoBcsuRMWMMhyKmiwp9:4:W1KmoBcsuRMWMMhyKmiwp9:3:CL:218:TAG1:CL_ACCUM:TAG1\",\"revocDefType\":\"CL_ACCUM\",\"tag\":\"TAG1\",\"credDefId\":\"W1KmoBcsuRMWMMhyKmiwp9:3:CL:218:TAG1\",\"value\":{\"issuanceType\":\"ISSUANCE_ON_DEMAND\",\"maxCredNum\":5,\"publicKeys\":{\"accumKey\":{\"z\":\"1 '\n",
      "                   '0A2E2381AB623C0EA324BE9EABC1003328CEBDDD7390C9D716D05C0D17092C84 '\n",
      "                   '1 '\n",
      "                   '01EE4759064896D9D2BD4B3077DB69F5014B050F222B978E7C7689C3360AE032 '\n",
      "                   '1 '\n",
      "                   '0DE627644CF58423DE4B6C3D803BE42DB5E8BD180995A6CBC1AFAC29D895F997 '\n",
      "                   '1 '\n",
      "                   '16B85117E92E2094D102ED53275DF2F1C9AA1B748B6609F919914BF75F177EAF '\n",
      "                   '1 '\n",
      "                   '1AA1E50DF8CE6805FD4FB0A7BBF3BED1360E7DC9DDAD156CADDC21D207C91262 '\n",
      "                   '1 '\n",
      "                   '0755FD4888CE58E3D1079E792479828E340E84984FD31B35A1193D884CADE1A9 '\n",
      "                   '1 '\n",
      "                   '16A248185CAF1CB7321CE825E64B589919F05AEE280AAB1F71A9D0E95F83EA56 '\n",
      "                   '1 '\n",
      "                   '149CF3F2743484D217C6B7284394E31ABE244D2E85884953D55899F980A659ED '\n",
      "                   '1 '\n",
      "                   '0D04A37434379C40CA93B5715C7C6CD7B77483C42C4D5011E10ADD36919EFC07 '\n",
      "                   '1 '\n",
      "                   '080F0911132A9B7B9B9B2C08389EE0106DE8FF95069A6E5DA32AFE64FF267A2C '\n",
      "                   '1 '\n",
      "                   '16BDDE5FF294267C596230048A1FC01BE66A1AF4E5E6C0D1466B8D7437C5FBBA '\n",
      "                   '1 '\n",
      "                   '235C417D697632F2C39C0DD282F6B3864DED03DA333495044663E960E4F97174\"}},\"tailsHash\":\"BEBJtuVvCCw2JPKv5vARcKh3B2y7FV6QyNAZR2Y59Gs8\",\"tailsLocation\":\"/tmp/indy_acme_tails/BEBJtuVvCCw2JPKv5vARcKh3B2y7FV6QyNAZR2Y59Gs8\"}}',\n",
      "  'revoc_reg_def_request': '{\"reqId\":1635219992521077383,\"identifier\":\"W1KmoBcsuRMWMMhyKmiwp9\",\"operation\":{\"type\":\"113\",\"id\":\"W1KmoBcsuRMWMMhyKmiwp9:4:W1KmoBcsuRMWMMhyKmiwp9:3:CL:218:TAG1:CL_ACCUM:TAG1\",\"revocDefType\":\"CL_ACCUM\",\"tag\":\"TAG1\",\"credDefId\":\"W1KmoBcsuRMWMMhyKmiwp9:3:CL:218:TAG1\",\"value\":{\"issuanceType\":\"ISSUANCE_ON_DEMAND\",\"maxCredNum\":5,\"publicKeys\":{\"accumKey\":{\"z\":\"1 '\n",
      "                           '0A2E2381AB623C0EA324BE9EABC1003328CEBDDD7390C9D716D05C0D17092C84 '\n",
      "                           '1 '\n",
      "                           '01EE4759064896D9D2BD4B3077DB69F5014B050F222B978E7C7689C3360AE032 '\n",
      "                           '1 '\n",
      "                           '0DE627644CF58423DE4B6C3D803BE42DB5E8BD180995A6CBC1AFAC29D895F997 '\n",
      "                           '1 '\n",
      "                           '16B85117E92E2094D102ED53275DF2F1C9AA1B748B6609F919914BF75F177EAF '\n",
      "                           '1 '\n",
      "                           '1AA1E50DF8CE6805FD4FB0A7BBF3BED1360E7DC9DDAD156CADDC21D207C91262 '\n",
      "                           '1 '\n",
      "                           '0755FD4888CE58E3D1079E792479828E340E84984FD31B35A1193D884CADE1A9 '\n",
      "                           '1 '\n",
      "                           '16A248185CAF1CB7321CE825E64B589919F05AEE280AAB1F71A9D0E95F83EA56 '\n",
      "                           '1 '\n",
      "                           '149CF3F2743484D217C6B7284394E31ABE244D2E85884953D55899F980A659ED '\n",
      "                           '1 '\n",
      "                           '0D04A37434379C40CA93B5715C7C6CD7B77483C42C4D5011E10ADD36919EFC07 '\n",
      "                           '1 '\n",
      "                           '080F0911132A9B7B9B9B2C08389EE0106DE8FF95069A6E5DA32AFE64FF267A2C '\n",
      "                           '1 '\n",
      "                           '16BDDE5FF294267C596230048A1FC01BE66A1AF4E5E6C0D1466B8D7437C5FBBA '\n",
      "                           '1 '\n",
      "                           '235C417D697632F2C39C0DD282F6B3864DED03DA333495044663E960E4F97174\"}},\"tailsHash\":\"BEBJtuVvCCw2JPKv5vARcKh3B2y7FV6QyNAZR2Y59Gs8\",\"tailsLocation\":\"/tmp/indy_acme_tails/BEBJtuVvCCw2JPKv5vARcKh3B2y7FV6QyNAZR2Y59Gs8\"}},\"protocolVersion\":2}',\n",
      "  'revoc_reg_entry': '{\"ver\":\"1.0\",\"value\":{\"accum\":\"1 '\n",
      "                     '0000000000000000000000000000000000000000000000000000000000000000 '\n",
      "                     '1 '\n",
      "                     '0000000000000000000000000000000000000000000000000000000000000000 '\n",
      "                     '2 '\n",
      "                     '095E45DDF417D05FB10933FFC63D474548B7FFFF7888802F07FFFFFF7D07A8A8 '\n",
      "                     '1 '\n",
      "                     '0000000000000000000000000000000000000000000000000000000000000000 '\n",
      "                     '1 '\n",
      "                     '0000000000000000000000000000000000000000000000000000000000000000 '\n",
      "                     '1 '\n",
      "                     '0000000000000000000000000000000000000000000000000000000000000000\"}}',\n",
      "  'revoc_reg_id': 'W1KmoBcsuRMWMMhyKmiwp9:4:W1KmoBcsuRMWMMhyKmiwp9:3:CL:218:TAG1:CL_ACCUM:TAG1',\n",
      "  'role': 'TRUST_ANCHOR',\n",
      "  'tails_writer_config': '{\"base_dir\": '\n",
      "                         '\"/tmp/indy_acme_tails\", '\n",
      "                         '\"uri_pattern\": '\n",
      "                         '\"\"}',\n",
      "  'wallet': 26,\n",
      "  'wallet_config': '{\"id\": '\n",
      "                   '\"acme_wallet\"}',\n",
      "  'wallet_credentials': '{\"key\": '\n",
      "                        '\"acme_wallet_key\"}'}\n",
      "----------------------------------------------------------------------------------------------------\n"
     ]
    }
   ],
   "source": [
    "IndyPrinter(acme)(\"acme\")"
   ]
  },
  {
   "cell_type": "markdown",
   "id": "0331aa31-16c6-40c8-ae1f-70465bfaffd2",
   "metadata": {},
   "source": [
    "### (2-6) Acme post revocation registry entry to ledger"
   ]
  },
  {
   "cell_type": "code",
   "execution_count": 65,
   "id": "f37ddd13-18a9-4dab-9ad4-6412198236b3",
   "metadata": {},
   "outputs": [
    {
     "name": "stdout",
     "output_type": "stream",
     "text": [
      "\n"
     ]
    }
   ],
   "source": [
    "acme['revoc_reg_entry_request'] = await ledger.build_revoc_reg_entry_request(acme['did'], acme['revoc_reg_id'], 'CL_ACCUM', acme['revoc_reg_entry'])\n",
    "await ledger.sign_and_submit_request(acme['pool'], acme['wallet'], acme['did'], acme['revoc_reg_entry_request'])\n",
    "print()"
   ]
  },
  {
   "cell_type": "code",
   "execution_count": 66,
   "id": "946cec19-1738-4768-9a65-a5f7833f1722",
   "metadata": {},
   "outputs": [
    {
     "name": "stdout",
     "output_type": "stream",
     "text": [
      "----------------------------------------------------------------------------------------------------\n",
      "------------------------------------------------acme------------------------------------------------\n",
      "{ 'did': 'W1KmoBcsuRMWMMhyKmiwp9',\n",
      "  'job_certificate_cred_def': '{\"ver\":\"1.0\",\"id\":\"W1KmoBcsuRMWMMhyKmiwp9:3:CL:218:TAG1\",\"schemaId\":\"218\",\"type\":\"CL\",\"tag\":\"TAG1\",\"value\":{\"primary\":{\"n\":\"104949092608675496226072082093646945911521034071524722517196395143281441438754143888492106615959314482688900287875375608042309413206295920288998167162099022232926199335252939268398733641561628143459312091273259552530125009448417073737562699613401072546580346592527597736698255018587015096386461337507744221949298473793895852749446700041395329500222378934529512045559549033614367034102966350692920876261061808548358683618884834368314284331175291520115730398794684487798348819017389481330063922026927577521251517780256847470922485662355062142720962567747388739362976991194161149012536057969209513855157567468774693365653\",\"s\":\"72699215740548555067903226586256749583375667328104680270342166813529329010926792831241593875123746085414203221843105729431197590495346222019532020224480443391252607851747878488562739498362578853161766900402115911286278622335357193991068523789968520056976746677520778410145224245828583371771855834248913473382174202556892484699501743472671778725160938676535684641377449214784528218319103007116264665912844241604388852445325864453726939437774433812429834870204690809102206186852678624164876156874149696629463262148599538528916716975214116891417841652206285946324742927445982399972228390923287917972699999032806884333086\",\"r\":{\"first_name\":\"72496995177104675698590753470059246433224599874058232697754021000946391611629638489493288687840398836337956326890375123327876492252357194923565177198510527354170838397563987590669749194310620073024024976936651970408242900694906909104848675625359082515892624443629659330868483636738922377730741486858368982476059780448655970975457710788808593714274838948107973899087732953988093580734963959503853364243336109614656326170576269216535614771670015049092210890811538894267553922789851669402096681593168128858293746968871340257114047735771945075474816230531842839361240586736155508028060779896533244299486384497009953542431\",\"salary\":\"26296122152019430325336156437523673458392528825021373375010408191117094179693710185338451268472831806119274461366995176338497614438433263235058574526703886795311622657711670664196407966718836911174117883744209662170131670512746133106095176362965580012209190628966121270092020724240232045025396853491102344948241802170712807827308892821263708237529642874617620131773957162430035696291536943582746089440961272928670379694166232115630711450438239642001810486951538069542840025528806562335160605922805420401614508398184622136971790116575180859097858161573190322445660228684333930265728926909504282982389337525892009531044\",\"master_secret\":\"7659593223660217424252139329549034628059312639526785320675888192894214584842374912219534057159227492827310126852427610486371717064172863538587854338694889160739591929227819049113078391732537312786292836130366044854742576194675749718196355004458989954972115819056117533611721634008517579317498759580418331662962796197437964354413255119288095525474987005053621633911698990532732043499956551352831669031888603825494799967294704269787232742053750749600248333111582114737625387882763356227633785616490378020578266241699188679519347364044467361526301515006054229428045005710729347881427982818597586807110065515793056702874\",\"last_name\":\"66267554764218469432022400654716623657370195268889436397535866432555178187961920471685524486804212567857853431444508295663323209982583478162368777642480363126307716883915619304645489313815310387607686264264509152101108202765381790180143605671814632787015428533127636019657201708759472998713692107230510246103068438992770292981579537612888402979087519671864040713731985726330720859570804209370489777888528458840702749089848077295953141317860987036963362436758612719766129318071000349804204652536977430515160597741493970495953110341904938099275450538036441817691796378486393693915787193442883396361538357267978860934659\",\"experience\":\"39550552470045418832156889336095605031251220340553119399007750139640757004044466911369603074000395868747659386307846429825709911157487364917235843680074625832394829136638961764848382748055931755886256526671171289637562724064598559979633293967962173654611560236967333798564293995086007977496324368098740920841085528776317445420643521607522747780309572931942090539115209646371402342677494753018547978698824722331962670644237660892809785005965051955830555344115844926085733895960232701003196878182780027536458946342211907401426863064014921507719350401406621110152520103868889569039201580017470775030419023860806665296414\",\"employee_status\":\"74169668556626260180660821696265727635506925660672246851299002473113753407708057878999784935980719916246268792230420871373608719103245283247971185650641779095874867292531078066420279156336809559884127746116366027459866453337843384193418846018426069582427371143102238662904861615149057414038246473911071531426270854308134626074671463007088349554902086752704187354308305018603051091951675859439433911716768283837406642085814032902788968845792353361077934874782099259762083345231837624083942634490516259240938523925869567532047499351346216255793059923963623284336287772652498292775197487972432227135171196331108544623314\"},\"rctxt\":\"84090642737960658828749489602599128443740584892827417749579018656554042064069381159278900529861641269767696177829940383062311470707575111104598541394858737775619225552243137350790471461783733412909567378964962821348678326830416900669524235766694915749105335338117462404731385333610656332510643912150933102555865588721259751221897941755698743043315067568319093375199774770654502200349383990974023647276517733292570076257951369223649622165670259180576978861193886365489036942512913540260231059145138785730354020917790335469279506973278519607473262831203355644263997453975191908922735487934715379724431761349337041920196\",\"z\":\"31148215495005022831762580861959437121122702133492217877055279508501859256144222180126527517232320660236016607065368015267235563492251569539864194031993595438868471948334781497609898085776612990959885960241424374473325581752853189594711238017811923125051387835669031607425240873817514356920567974151386659063482741596217258934862393262771986439889041391451186221606993834274474598781016006030950306895811585780815703285135247942551046266970133527407912688481085366998365764854272010705021785134414327897966173039645506216053301559160253834628070023722065140976203129633586769415131802639077707816193369136779192929966\"},\"revocation\":{\"g\":\"1 '\n",
      "                              '070EA2826C33F9497E162951251BAA1E7BDFE7BD93DB7C0E92B1113503CF1E34 '\n",
      "                              '1 '\n",
      "                              '1F7E559DBA662DE34C7E09236AFF41C954CF837514EFA3525C20DC4A32E9A102 '\n",
      "                              '2 '\n",
      "                              '095E45DDF417D05FB10933FFC63D474548B7FFFF7888802F07FFFFFF7D07A8A8\",\"g_dash\":\"1 '\n",
      "                              '1B527B607D7219B3F7DF87C6A4F4139B635A7F624CD2789E592EA804F6808813 '\n",
      "                              '1 '\n",
      "                              '054684EBEA758B604EE27AD2A2EA7F9C9897687DED38632FC51ABAA21609D2DC '\n",
      "                              '1 '\n",
      "                              '08A2CC3ED95920A30A370D82301E2D9E8473002F9D763DC1A7D22B5C158D2520 '\n",
      "                              '1 '\n",
      "                              '072EF9E9CF27C6FAD2C0953BC2D04DA19E2929CACFE1EACC2BC5457889C5789D '\n",
      "                              '2 '\n",
      "                              '095E45DDF417D05FB10933FFC63D474548B7FFFF7888802F07FFFFFF7D07A8A8 '\n",
      "                              '1 '\n",
      "                              '0000000000000000000000000000000000000000000000000000000000000000\",\"h\":\"1 '\n",
      "                              '092813F4F5556F94059C05A8FE7BF1E9DCC32886BF63AB1403D1009B0C16CA0E '\n",
      "                              '1 '\n",
      "                              '23AA54C9D80631D51AC72D7A297211EA439CB55348C17EAEE9F112C99A520638 '\n",
      "                              '2 '\n",
      "                              '095E45DDF417D05FB10933FFC63D474548B7FFFF7888802F07FFFFFF7D07A8A8\",\"h0\":\"1 '\n",
      "                              '115AA57816FE19A42F642D1C316FC685615B83250855C4AE42646C01372AE2F2 '\n",
      "                              '1 '\n",
      "                              '048CF23F445EE93923350DAE520367634C4F4219ECBF59E84B143A3E0A3FBAC1 '\n",
      "                              '2 '\n",
      "                              '095E45DDF417D05FB10933FFC63D474548B7FFFF7888802F07FFFFFF7D07A8A8\",\"h1\":\"1 '\n",
      "                              '07B7B6A2A84B5376BEDDB2A51FBC12E38F3615DF932E5020494097A987B40900 '\n",
      "                              '1 '\n",
      "                              '20F0397E14349AEBE2325328E5E307D15758065AACE16484EA27C07C160C9AD8 '\n",
      "                              '2 '\n",
      "                              '095E45DDF417D05FB10933FFC63D474548B7FFFF7888802F07FFFFFF7D07A8A8\",\"h2\":\"1 '\n",
      "                              '09B8A7C758CB02AC39A3AA2FD2DFC7656236121CA2F673296DF1B707DAD0E363 '\n",
      "                              '1 '\n",
      "                              '16032D4FD54BD6B3AC02AE652652C449B2D16083981300E31BA8B9E0D8A8069E '\n",
      "                              '2 '\n",
      "                              '095E45DDF417D05FB10933FFC63D474548B7FFFF7888802F07FFFFFF7D07A8A8\",\"htilde\":\"1 '\n",
      "                              '0C6D6A91B6D8309D66DA1DECD8004BEEB133B3F5393463345233E73EC30AC1C0 '\n",
      "                              '1 '\n",
      "                              '01D1772A82AA8F26A055FCE319D7C7C0684E9988B04153FC0EAAB0A3AAC44891 '\n",
      "                              '2 '\n",
      "                              '095E45DDF417D05FB10933FFC63D474548B7FFFF7888802F07FFFFFF7D07A8A8\",\"h_cap\":\"1 '\n",
      "                              '18D2E62D97F9D0EEEBDA54B0C55A7855BE6F752DBEA9A622B811521B065ABBD9 '\n",
      "                              '1 '\n",
      "                              '1CCED2A68E45A2D6FAE8260F2F9A4CDAE5A0E2C684A0FDE63BFD8A06333E9B88 '\n",
      "                              '1 '\n",
      "                              '209D7529A80EB9B4F2E625F0D7F52A8CCC207086581297CC96A59E0BF34A92B0 '\n",
      "                              '1 '\n",
      "                              '0B4FD911380302E677A13B719D9DB6EBB26260F69B7792DAE32C1C36FA9DD7E0 '\n",
      "                              '2 '\n",
      "                              '095E45DDF417D05FB10933FFC63D474548B7FFFF7888802F07FFFFFF7D07A8A8 '\n",
      "                              '1 '\n",
      "                              '0000000000000000000000000000000000000000000000000000000000000000\",\"u\":\"1 '\n",
      "                              '0747F0DFEA6F5166545C84B3AC17FC6B0977F8DF126FDB64FD1374DFB9BB4A0A '\n",
      "                              '1 '\n",
      "                              '12D0CB6BD5F34DC57CA3CB69D6A18F0D00ED100494F3A58D2009B6B9C0AE3509 '\n",
      "                              '1 '\n",
      "                              '032ABF489602CEA11622AA8873F6AB1C6FF2D6F7195E5F4A24D6F4E5BBCBEDE4 '\n",
      "                              '1 '\n",
      "                              '002B84B20DF5132884539A6D2B424B540790A1FE44482561C2954824FA8D866C '\n",
      "                              '2 '\n",
      "                              '095E45DDF417D05FB10933FFC63D474548B7FFFF7888802F07FFFFFF7D07A8A8 '\n",
      "                              '1 '\n",
      "                              '0000000000000000000000000000000000000000000000000000000000000000\",\"pk\":\"1 '\n",
      "                              '10C40EDE1C0201858AB7EE160E0D93FA1CF9E74B31028AEA7B09EA5E4D95D606 '\n",
      "                              '1 '\n",
      "                              '0E1B030CCB2ADC1CFD475EFA9AAE41E4E4F1FAAF9109E8864D36270E28E38008 '\n",
      "                              '2 '\n",
      "                              '095E45DDF417D05FB10933FFC63D474548B7FFFF7888802F07FFFFFF7D07A8A8\",\"y\":\"1 '\n",
      "                              '11292B79B9CBA873659E5AAF49650694A8EE6E897780554634E8C154390AF3C1 '\n",
      "                              '1 '\n",
      "                              '12AF3398068B1794004CB2EFC27585C8A9AE94C801CE12E6903F5A24995ECB3E '\n",
      "                              '1 '\n",
      "                              '1D05763CCEEA50B53F1B27DEB2CC0F0C67AA11A9873B18A0F95C823D632F9C7A '\n",
      "                              '1 '\n",
      "                              '0C8D09FF5EE67FF340C274417F216B9F2461C502ECFF73BF2ACBDB2CAB467655 '\n",
      "                              '2 '\n",
      "                              '095E45DDF417D05FB10933FFC63D474548B7FFFF7888802F07FFFFFF7D07A8A8 '\n",
      "                              '1 '\n",
      "                              '0000000000000000000000000000000000000000000000000000000000000000\"}}}',\n",
      "  'job_certificate_cred_def_id': 'W1KmoBcsuRMWMMhyKmiwp9:3:CL:218:TAG1',\n",
      "  'job_certificate_schema': '{\"ver\":\"1.0\",\"id\":\"24VP41vc7qwSV9jDNqzgg7:2:Job-Certificate:0.2\",\"name\":\"Job-Certificate\",\"version\":\"0.2\",\"attrNames\":[\"first_name\",\"employee_status\",\"last_name\",\"experience\",\"salary\"],\"seqNo\":218}',\n",
      "  'job_certificate_schema_id': '24VP41vc7qwSV9jDNqzgg7:2:Job-Certificate:0.2',\n",
      "  'key': 'GovZusV4pJYzjvP4uYVfMXFRANtttHeTCQctjxVULCwD',\n",
      "  'name': 'Acme',\n",
      "  'pool': 13,\n",
      "  'revoc_reg_def': '{\"ver\":\"1.0\",\"id\":\"W1KmoBcsuRMWMMhyKmiwp9:4:W1KmoBcsuRMWMMhyKmiwp9:3:CL:218:TAG1:CL_ACCUM:TAG1\",\"revocDefType\":\"CL_ACCUM\",\"tag\":\"TAG1\",\"credDefId\":\"W1KmoBcsuRMWMMhyKmiwp9:3:CL:218:TAG1\",\"value\":{\"issuanceType\":\"ISSUANCE_ON_DEMAND\",\"maxCredNum\":5,\"publicKeys\":{\"accumKey\":{\"z\":\"1 '\n",
      "                   '0A2E2381AB623C0EA324BE9EABC1003328CEBDDD7390C9D716D05C0D17092C84 '\n",
      "                   '1 '\n",
      "                   '01EE4759064896D9D2BD4B3077DB69F5014B050F222B978E7C7689C3360AE032 '\n",
      "                   '1 '\n",
      "                   '0DE627644CF58423DE4B6C3D803BE42DB5E8BD180995A6CBC1AFAC29D895F997 '\n",
      "                   '1 '\n",
      "                   '16B85117E92E2094D102ED53275DF2F1C9AA1B748B6609F919914BF75F177EAF '\n",
      "                   '1 '\n",
      "                   '1AA1E50DF8CE6805FD4FB0A7BBF3BED1360E7DC9DDAD156CADDC21D207C91262 '\n",
      "                   '1 '\n",
      "                   '0755FD4888CE58E3D1079E792479828E340E84984FD31B35A1193D884CADE1A9 '\n",
      "                   '1 '\n",
      "                   '16A248185CAF1CB7321CE825E64B589919F05AEE280AAB1F71A9D0E95F83EA56 '\n",
      "                   '1 '\n",
      "                   '149CF3F2743484D217C6B7284394E31ABE244D2E85884953D55899F980A659ED '\n",
      "                   '1 '\n",
      "                   '0D04A37434379C40CA93B5715C7C6CD7B77483C42C4D5011E10ADD36919EFC07 '\n",
      "                   '1 '\n",
      "                   '080F0911132A9B7B9B9B2C08389EE0106DE8FF95069A6E5DA32AFE64FF267A2C '\n",
      "                   '1 '\n",
      "                   '16BDDE5FF294267C596230048A1FC01BE66A1AF4E5E6C0D1466B8D7437C5FBBA '\n",
      "                   '1 '\n",
      "                   '235C417D697632F2C39C0DD282F6B3864DED03DA333495044663E960E4F97174\"}},\"tailsHash\":\"BEBJtuVvCCw2JPKv5vARcKh3B2y7FV6QyNAZR2Y59Gs8\",\"tailsLocation\":\"/tmp/indy_acme_tails/BEBJtuVvCCw2JPKv5vARcKh3B2y7FV6QyNAZR2Y59Gs8\"}}',\n",
      "  'revoc_reg_def_request': '{\"reqId\":1635219992521077383,\"identifier\":\"W1KmoBcsuRMWMMhyKmiwp9\",\"operation\":{\"type\":\"113\",\"id\":\"W1KmoBcsuRMWMMhyKmiwp9:4:W1KmoBcsuRMWMMhyKmiwp9:3:CL:218:TAG1:CL_ACCUM:TAG1\",\"revocDefType\":\"CL_ACCUM\",\"tag\":\"TAG1\",\"credDefId\":\"W1KmoBcsuRMWMMhyKmiwp9:3:CL:218:TAG1\",\"value\":{\"issuanceType\":\"ISSUANCE_ON_DEMAND\",\"maxCredNum\":5,\"publicKeys\":{\"accumKey\":{\"z\":\"1 '\n",
      "                           '0A2E2381AB623C0EA324BE9EABC1003328CEBDDD7390C9D716D05C0D17092C84 '\n",
      "                           '1 '\n",
      "                           '01EE4759064896D9D2BD4B3077DB69F5014B050F222B978E7C7689C3360AE032 '\n",
      "                           '1 '\n",
      "                           '0DE627644CF58423DE4B6C3D803BE42DB5E8BD180995A6CBC1AFAC29D895F997 '\n",
      "                           '1 '\n",
      "                           '16B85117E92E2094D102ED53275DF2F1C9AA1B748B6609F919914BF75F177EAF '\n",
      "                           '1 '\n",
      "                           '1AA1E50DF8CE6805FD4FB0A7BBF3BED1360E7DC9DDAD156CADDC21D207C91262 '\n",
      "                           '1 '\n",
      "                           '0755FD4888CE58E3D1079E792479828E340E84984FD31B35A1193D884CADE1A9 '\n",
      "                           '1 '\n",
      "                           '16A248185CAF1CB7321CE825E64B589919F05AEE280AAB1F71A9D0E95F83EA56 '\n",
      "                           '1 '\n",
      "                           '149CF3F2743484D217C6B7284394E31ABE244D2E85884953D55899F980A659ED '\n",
      "                           '1 '\n",
      "                           '0D04A37434379C40CA93B5715C7C6CD7B77483C42C4D5011E10ADD36919EFC07 '\n",
      "                           '1 '\n",
      "                           '080F0911132A9B7B9B9B2C08389EE0106DE8FF95069A6E5DA32AFE64FF267A2C '\n",
      "                           '1 '\n",
      "                           '16BDDE5FF294267C596230048A1FC01BE66A1AF4E5E6C0D1466B8D7437C5FBBA '\n",
      "                           '1 '\n",
      "                           '235C417D697632F2C39C0DD282F6B3864DED03DA333495044663E960E4F97174\"}},\"tailsHash\":\"BEBJtuVvCCw2JPKv5vARcKh3B2y7FV6QyNAZR2Y59Gs8\",\"tailsLocation\":\"/tmp/indy_acme_tails/BEBJtuVvCCw2JPKv5vARcKh3B2y7FV6QyNAZR2Y59Gs8\"}},\"protocolVersion\":2}',\n",
      "  'revoc_reg_entry': '{\"ver\":\"1.0\",\"value\":{\"accum\":\"1 '\n",
      "                     '0000000000000000000000000000000000000000000000000000000000000000 '\n",
      "                     '1 '\n",
      "                     '0000000000000000000000000000000000000000000000000000000000000000 '\n",
      "                     '2 '\n",
      "                     '095E45DDF417D05FB10933FFC63D474548B7FFFF7888802F07FFFFFF7D07A8A8 '\n",
      "                     '1 '\n",
      "                     '0000000000000000000000000000000000000000000000000000000000000000 '\n",
      "                     '1 '\n",
      "                     '0000000000000000000000000000000000000000000000000000000000000000 '\n",
      "                     '1 '\n",
      "                     '0000000000000000000000000000000000000000000000000000000000000000\"}}',\n",
      "  'revoc_reg_entry_request': '{\"reqId\":1635243080563092851,\"identifier\":\"W1KmoBcsuRMWMMhyKmiwp9\",\"operation\":{\"type\":\"114\",\"revocRegDefId\":\"W1KmoBcsuRMWMMhyKmiwp9:4:W1KmoBcsuRMWMMhyKmiwp9:3:CL:218:TAG1:CL_ACCUM:TAG1\",\"revocDefType\":\"CL_ACCUM\",\"value\":{\"accum\":\"1 '\n",
      "                             '0000000000000000000000000000000000000000000000000000000000000000 '\n",
      "                             '1 '\n",
      "                             '0000000000000000000000000000000000000000000000000000000000000000 '\n",
      "                             '2 '\n",
      "                             '095E45DDF417D05FB10933FFC63D474548B7FFFF7888802F07FFFFFF7D07A8A8 '\n",
      "                             '1 '\n",
      "                             '0000000000000000000000000000000000000000000000000000000000000000 '\n",
      "                             '1 '\n",
      "                             '0000000000000000000000000000000000000000000000000000000000000000 '\n",
      "                             '1 '\n",
      "                             '0000000000000000000000000000000000000000000000000000000000000000\"}},\"protocolVersion\":2}',\n",
      "  'revoc_reg_id': 'W1KmoBcsuRMWMMhyKmiwp9:4:W1KmoBcsuRMWMMhyKmiwp9:3:CL:218:TAG1:CL_ACCUM:TAG1',\n",
      "  'role': 'TRUST_ANCHOR',\n",
      "  'tails_writer_config': '{\"base_dir\": '\n",
      "                         '\"/tmp/indy_acme_tails\", '\n",
      "                         '\"uri_pattern\": '\n",
      "                         '\"\"}',\n",
      "  'wallet': 26,\n",
      "  'wallet_config': '{\"id\": '\n",
      "                   '\"acme_wallet\"}',\n",
      "  'wallet_credentials': '{\"key\": '\n",
      "                        '\"acme_wallet_key\"}'}\n",
      "----------------------------------------------------------------------------------------------------\n"
     ]
    }
   ],
   "source": [
    "IndyPrinter(acme)(\"acme\")"
   ]
  },
  {
   "cell_type": "markdown",
   "id": "98c9724e-ecd3-48ec-9fa3-2f002ea2823b",
   "metadata": {
    "tags": []
   },
   "source": [
    "<br><br><br><hr>\n",
    "\n",
    "# 8. Alice Create DID and wallet"
   ]
  },
  {
   "cell_type": "code",
   "execution_count": null,
   "id": "8c338b01-11da-45e7-a234-f46b1a06884c",
   "metadata": {},
   "outputs": [],
   "source": [
    "alice = {\n",
    "    'name': 'Alice',\n",
    "    'wallet_config': json.dumps({'id': 'alice_wallet'}),\n",
    "    'wallet_credentials': json.dumps({'key': 'alice_wallet_key'}),\n",
    "    'pool': pool_['handle'],\n",
    "}\n",
    "await create_wallet(alice)\n",
    "(alice['did'], alice['key']) = await did.create_and_store_my_did(alice['wallet'], \"{}\")"
   ]
  },
  {
   "cell_type": "code",
   "execution_count": 68,
   "id": "bbdfb33f-fcd3-41ae-a910-05327ba03afb",
   "metadata": {},
   "outputs": [
    {
     "name": "stdout",
     "output_type": "stream",
     "text": [
      "----------------------------------------------------------------------------------------------------\n",
      "-----------------------------------------------alice------------------------------------------------\n",
      "{ 'did': '3ZQLFaWjwX9yNP9jMzd8Dx',\n",
      "  'key': '2PtHjMvxXwhAt45pcvkkvmw8knKwjsQqXrNuiCfi5xqC',\n",
      "  'name': 'Alice',\n",
      "  'pool': 13,\n",
      "  'wallet': 55,\n",
      "  'wallet_config': '{\"id\": '\n",
      "                   '\"alice_wallet\"}',\n",
      "  'wallet_credentials': '{\"key\": '\n",
      "                        '\"alice_wallet_key\"}'}\n",
      "----------------------------------------------------------------------------------------------------\n"
     ]
    }
   ],
   "source": [
    "IndyPrinter(alice)(\"alice\")"
   ]
  },
  {
   "cell_type": "markdown",
   "id": "37cabb35-1a6b-4aa3-9aba-9d612aeadf0b",
   "metadata": {
    "tags": []
   },
   "source": [
    "<br><br><br><hr>\n",
    "\n",
    "# 9. Alice Get \"Transcript\" Credential"
   ]
  },
  {
   "cell_type": "markdown",
   "id": "c1c847f0-2173-4b6d-81b4-520d613417d6",
   "metadata": {},
   "source": [
    "### (1) Faber create \"Transcript\" credential offer for alice"
   ]
  },
  {
   "cell_type": "code",
   "execution_count": 70,
   "id": "a78e1512-35d8-4a3b-b3b8-79daf73bcb72",
   "metadata": {},
   "outputs": [],
   "source": [
    "faber['transcript_cred_offer'] = await anoncreds.issuer_create_credential_offer(faber['wallet'], faber['transcript_cred_def_id'])\n",
    "alice['transcript_cred_offer'] = faber['transcript_cred_offer']\n",
    "transcript_cred_offer_object = json.loads(alice['transcript_cred_offer'])\n",
    "alice['transcript_schema_id'] = transcript_cred_offer_object['schema_id']\n",
    "alice['transcript_cred_def_id'] = transcript_cred_offer_object['cred_def_id']"
   ]
  },
  {
   "cell_type": "code",
   "execution_count": 71,
   "id": "967349fb-efd2-47ca-b055-5e81d9971bce",
   "metadata": {},
   "outputs": [
    {
     "name": "stdout",
     "output_type": "stream",
     "text": [
      "----------------------------------------------------------------------------------------------------\n",
      "-----------------------------------------------faber------------------------------------------------\n",
      "{ 'did': '5WNnjE3nstyWe6MihYqhrg',\n",
      "  'key': '3TTboG2yyzwVrnvVBQReiyezkPqwS9ono4zzMwey36nJ',\n",
      "  'name': 'Faber',\n",
      "  'pool': 13,\n",
      "  'role': 'TRUST_ANCHOR',\n",
      "  'transcript_cred_def': '{\"ver\":\"1.0\",\"id\":\"5WNnjE3nstyWe6MihYqhrg:3:CL:217:TAG1\",\"schemaId\":\"217\",\"type\":\"CL\",\"tag\":\"TAG1\",\"value\":{\"primary\":{\"n\":\"90787625441732753057907247833545836686578671441928831142700685402817580349477065044030702954622038083697780366022598900182757939971681592986739656951639342245258870370714810779222519945061070902998325568391517802657818162464840532999813336358914661714971844321084326566226141656952525816680785691360488612278955279065600057478422623000780394966121601611745511303939274753987208657438774236217513243453600907307624462838756608336075639485666510408756862886907718270238804784625903476221058847493866938800759708709225454215074462638975503074494947243496092487601898417661065096902150779065825200582253404714176246546521\",\"s\":\"88496386831352742264293076985345687676467032873886173007561472812543754712125865569269289407590055945440219150798029089699301299323519711469880426199250031544393782049803728984340033472938633181802396055819295597721049638937908370977470744289493119572241506079613386918907880133198079359896187652827939438430220354201810090422251576011045425075275716753126899498704980708762209883058811111271825831798140478456200987901309478167177135509803530634431607183241310002926642168263882805612948757466668003925231183225788589428342453032383044141086409082327556849442034786022166401601933876208678519123783848402295838972940\",\"r\":{\"degree\":\"66311781941465284008701527787702942131212257082450764063233953310792966039547159694392985652276218248124885548312834943281470734240280721025462018765894590417769181056324027581106256986165136473543672416790423784479724018764869301053503952887071468568013820317575953390719133910420050287222283872229021432430649046400832383180479415387639217665012263155764658202091439223062441647528804598845294298373617276601462467970836974583643107765324515992191115385757245961109442363607764012080447929674362715292592364983797763888867449589260137739038329557199212235575403616149362425661345355866541147257613636899601106583594\",\"ssn\":\"1503458575905419702710585144594141424308214158870236200843601607029544741057162912526163885484289255748618652365750182488115041015074802922545690099651138859034231791827566636058793788933707058594273610763424668999605593180624382570299392562767419371621397155247614063231848221218394201616198049980467756890658257046830263634309783805485690821412654309506456107937079294250839802465174351859424460145799102410838197710971104158922054349547276852818809768228056913811035845791896903802513616784538198560662296943723400740529402498131236643468055959909746372803246887117286440028892415803030273479942200408368866940783\",\"year\":\"40865260529454550334055109365952972681158664033056939697994590659791777529304627734781598344687624915129292458196344189834303971517099262390549530365295833253214850928093918951717160369488360156198922448921769307566821157482335010469042453175818331746359297752864241169476951886164759929012854332652252198189547176279542925798652104673548423726676583098632441757019397051865242890355783302789622799787074664150739199056860936341333948456613223408770264177375047460291030130282750499911720027783573260340356624014581977962285650072126171512313310356821058271343986029726870035516478644121191030027418542489538380411790\",\"master_secret\":\"15039491964874499287243499961565438964103768712837368818572518967153615122481429130235816715840375789875253741591649061408607527615219106785253051524086167677500219065371901304575009364977066552622964275932869007386343692989956950577640689209670020201826269506298324412493067737773462458660922220876053376809304065619634975821593874021608324852954750671475174784128539531945543836701821598139552463292883124961771527549297287883532070680148186669816284093775961924178488563128626287449978844762390250384239857067734481754076814622918978589928833190349249706199353709385165443808728484063807972632043437039790646038475\",\"last_name\":\"31153104129502771545230536243153871057936107600216464066964941647681418836444984306527582821433104000248412941918454330995929821129249043307860877268758705434215056367752879906505502544256284815986446458154280767449459032401361739976537329913067117968197356624744810410477468524642718630427910768484840851803884791661732312043887607715009334967863140392254865439901716042306258564506724132657161805388828494206276054168615023226837801503456673576414764550037882242245241138261296845067702960413370896999149173141377060796209716869129959512395124066892653248105614582631260515277164912983772951583461076066378120937965\",\"status\":\"71512021423276305870813210686872107629278619789660006408828850219828377607799605104294128057831149094777126747782477793583894961421245728161552419541246463584813371101469332443624890685812312110370750221067415146662223051681870020188607880673331239097813501327275043476493378757003841231643777700036118413077561332872004729987574068856730266277766905134037041830049021743524282904038221076566134899253474728812612829676384982523390907487748782558200872911252694569339822254395366106601865551067208511440599504541730971085800752351416153320171703515711005369466693706310282432803185299459021597108030019020377238845819\",\"average\":\"27363100172474938096413380342634440911850230730452440232985791330447153951803509178195242216778579489172053157554717459556787178416846641876561748000949908938257369722599613623077642590579508616876291628191641595736518294883580981525927623364844123370988879311533658969414515036149703017019372673719635343819823131823056367845508315119110157903468153952276085440327446156183500328378757389182376318132029431244895078036376267884400757565881486176854252114932902677115702380778396086725821336736093236877453286610914024212957784742845241067068393869775786957799548424374684066117743003406939644766168567849058798963659\",\"first_name\":\"78756063052990561616299683303837837577685096575514542522186989114833068043270875612805844800191128306013249133633701782118083521149575485037103916378720413144365568662752850651718762641217941947637860107357848702506431923429769149660020055143524341632433639838039864396881790259371770747975528326143353245618747790434340319183314639968167882328645322925510463961250503308936287213248323891429122702704109207732322652933631341165434838713193220796550577846209046539385658044815096430473289592768620559297781658507392477964814241602661926018313330434956715367936798607249915106110713429835976130773397003946077395930471\"},\"rctxt\":\"38657933586585703769637220829821383813687640606871216368964161199867994972534620491388739320554304484785880425685047450925025614912628514488038925463370034976829428453118837611856855500240604747582967856138488293142482439356429297399357741447121090843027102254171764627370061602118213618626793303526621970417331195351463715028749680369586175606020666381544346059426483022666577172221321307728326166266069618814573375658810750413777265050011728906149500835571812996025735109358025877493345148650458197644228628004803664380874398091041554262552262729789392410560107670507648962948836463574225230588483095327532829186262\",\"z\":\"75462474427291479850788556544653592829510526502405037895563481722352786242702940228012052917802785262813949573479470921507191057416609938157864454516539550568572828714307094749962059935700547128756579416803997739920508394859311545378070282446830955985424645452432290436156549253715427783369067149173498378286621201893292016643523589796830066874420138404543637767507397321978073478763048949015711291717055027786170180596509758946127125203479641628014525246066996893877431548470184036053067396867319977584353382140223878894632662789274588382388817676067799557107649654589126330988219390062384960653545480501763409777955\"}}}',\n",
      "  'transcript_cred_def_id': '5WNnjE3nstyWe6MihYqhrg:3:CL:217:TAG1',\n",
      "  'transcript_cred_offer': '{\"schema_id\":\"24VP41vc7qwSV9jDNqzgg7:2:Transcript:1.2\",\"cred_def_id\":\"5WNnjE3nstyWe6MihYqhrg:3:CL:217:TAG1\",\"key_correctness_proof\":{\"c\":\"77359542908061223823258333093593494675878047655751433287560091792795484430724\",\"xz_cap\":\"1168226133095585838437229091756790617850587458871181036797606221930453705745071845559299678455460099535081299308683448687970801702380290980521982426031252828959531192936239491064161522514313641289641133287679063358542651864419783494150299890017882436758361453648963197032007768485588909347667624242602322248745532186568597026038545956413501841582469587892185217559169389659760412507068671956778468045435723465623961215267576879473145763315486445794485489067516290367403146500142588432602034686138306195661971886725686236241642862353341757174540181068206593555912763398588606357090018582230868531721496396992828043648375473804811068856570949530378003303779915866774260697022631854294117992767349\",\"xr_cap\":[[\"master_secret\",\"25252183092040991990934665298099994265735529390334012233974554504578497366484506478116012609848552414310767902294691403467812458642684574392713969271322245416687426219250959477411611976353645447332719533966759058676429068452222800561422342260195402309488710565016157703217122635448803856196063755457028960277269302701634266280892309368955958281766729056497119896660989457847273204881589791426293321310797234136597514243163124686033273737124917671267870576390280292191985601276929031955404821640086872582710904623284509804757001506153712906037056439730925755773346844501892961005952588092386782138083518544301549710393900881081613598791708924453869238013347694891907594354832348770417141161075\"],[\"average\",\"66071224035152974860221948621906747725690781419788135335437113975907552737374133957383201490005422460844878728959546550457449928451736834525463491973096140611369381077438170738880591730164166245091503224765208755574911311246372403551556297013197189045198541975614803956243209385465531381476114308632028276703116322093536741417261194502782238451507890884616378369927065786420064646881386510058940876942043167199035094503223870262186206253461751880453351950087355642697605806068148554584337066292545800762268241977795625962113521734392328474904587627935754553251132510283400601522611385161670811977548708943388310766406879366209587772888791345376140047027854238366764078522506914989067482357794\"],[\"first_name\",\"1187615697192600701894872027020268413907435557903981738643829133586640984033686095060854475767096565404039099143256197869140563555546648300574269642535146427154199353243553695910412341550110079738010292563737259643228711864595526848601652153440315932029476408658578164834722493009221115731804277229601918717455654039562978220162795075516396718448548844938252100305704139268155999818496681154131086233169248478447983950252249424307057633145199910552730253463127150933808044071776133772220011459772752889685379224964092906392511006522763466483766016405373354004822884951257674749840406042407305165649221458793014350391310999090952865860071295453398917194186415244410246233569879389024168829400886\"],[\"degree\",\"821766108855021083174406821211325019963415099559489548890856990440086165761206671979984844135263598994997512329888689974159210643983619679075098410185035430677078625996288836051725800869327654927961506059095028596583401271591262526812796415601631819715442454366975016438007775278008203800669782522650376979238036827811035042205697222645717514610883158267056134525054109743369696426412678318518646472026537896490735977461080766189803592802139972846388811340989956500252810467895011698544356529231912105050135789507944772187627537803979268375563446833857689472747324094343648527981861569781957487528105345577714796971006931692469710919260999581880590634691280355107601158807428297399612644394089\"],[\"last_name\",\"256222332457210479817111836902276850537294308809585317751198602531811606034467317975799360304802271859265644336349075859421962700574679740093941794023764115922226009498681399044653054605124306703163041221418539310018371479562362488943065488738339463528940151140510995636405311442482252790343234851191971247901338098996308281965294150715224235879043498194624632372136038864058443426038005276948347256386683553125217590345021084681097845880814366397541710165297676340002905867031722474768297416640437597195316948421533811409090566147511151367420404081137652341403329354351446105924474629329144534276419220747891918149794616229913940692183244191622740466682018733534265215881325730349518303474198\"],[\"status\",\"298762815658086154610599225220614227985173844261663644985997720820185423120208951787473822570211946457499087485785049165790909899869214280727519399555868608342329188286074752406355093101908499248455187346360310970884765765613210348168903303065815463815608957056332039064875675181961137539394781320792252966805669910389388826875986027528004649438182177553716141138628291032797869221705399655750389711815214794641541455513220195534578501302669865592715429828323721779111357837799165136595661457653795602347857396076639529366868607487035321528518992944034700831239201973736402931126804698813393959193511719117506280953412744777295635097721140595218884926236472840412417861126268360625985744896193\"],[\"ssn\",\"247069477671923328503411209272133364756169272165217045093416954271419461625542310304957276246227851139185172976886950578037574551103703814955039019813435215975822293247625833444437303047111169752145540029212289974192129892165680100816160703669353320628147775899442847811456506590142013698277982591039617735822570417273789123207402169093635870624960830039147179193874754465383589787424161402188907156113479453574462603194928250318146331808793759946758650227689992894693521876522117062531178887684969424046697009753973958649177629947902878762845796338788610329645054812677352335052233661677113440761167188664358582131634501778047908228539471522899032396643592418845282069519238129744280119874937\"],[\"year\",\"1271628259762728607374586112707251269403436140456288166979453421340876420238727519341192226869269365783075518807479356299787530728151768572714578375790105273913957871168604753443866679957417550586909009979256335035660161143037266265552266733312381608925509942420400286333598759049353106423789234583596289613182598387130566993949102261084037884251086315070987287696441706988188978692162270871647310436883509506786621410492378133789836420584750762595484832344169382360264074483315429726584008154842963765559200779892436550889220462853607170268565001491948692855039609357462481359879557619456983123789723468634887473705247738047524336619987504288403867689418344719209471735931174542377596297155227\"]]},\"nonce\":\"1070029918151072448763456\"}',\n",
      "  'transcript_schema': '{\"ver\":\"1.0\",\"id\":\"24VP41vc7qwSV9jDNqzgg7:2:Transcript:1.2\",\"name\":\"Transcript\",\"version\":\"1.2\",\"attrNames\":[\"degree\",\"first_name\",\"ssn\",\"average\",\"last_name\",\"year\",\"status\"],\"seqNo\":217}',\n",
      "  'transcript_schema_id': '24VP41vc7qwSV9jDNqzgg7:2:Transcript:1.2',\n",
      "  'wallet': 22,\n",
      "  'wallet_config': '{\"id\": '\n",
      "                   '\"faber_wallet\"}',\n",
      "  'wallet_credentials': '{\"key\": '\n",
      "                        '\"faber_wallet_key\"}'}\n",
      "----------------------------------------------------------------------------------------------------\n",
      "----------------------------------------------------------------------------------------------------\n",
      "-----------------------------------------------alice------------------------------------------------\n",
      "{ 'did': '3ZQLFaWjwX9yNP9jMzd8Dx',\n",
      "  'key': '2PtHjMvxXwhAt45pcvkkvmw8knKwjsQqXrNuiCfi5xqC',\n",
      "  'name': 'Alice',\n",
      "  'pool': 13,\n",
      "  'transcript_cred_def_id': '5WNnjE3nstyWe6MihYqhrg:3:CL:217:TAG1',\n",
      "  'transcript_cred_offer': '{\"schema_id\":\"24VP41vc7qwSV9jDNqzgg7:2:Transcript:1.2\",\"cred_def_id\":\"5WNnjE3nstyWe6MihYqhrg:3:CL:217:TAG1\",\"key_correctness_proof\":{\"c\":\"77359542908061223823258333093593494675878047655751433287560091792795484430724\",\"xz_cap\":\"1168226133095585838437229091756790617850587458871181036797606221930453705745071845559299678455460099535081299308683448687970801702380290980521982426031252828959531192936239491064161522514313641289641133287679063358542651864419783494150299890017882436758361453648963197032007768485588909347667624242602322248745532186568597026038545956413501841582469587892185217559169389659760412507068671956778468045435723465623961215267576879473145763315486445794485489067516290367403146500142588432602034686138306195661971886725686236241642862353341757174540181068206593555912763398588606357090018582230868531721496396992828043648375473804811068856570949530378003303779915866774260697022631854294117992767349\",\"xr_cap\":[[\"master_secret\",\"25252183092040991990934665298099994265735529390334012233974554504578497366484506478116012609848552414310767902294691403467812458642684574392713969271322245416687426219250959477411611976353645447332719533966759058676429068452222800561422342260195402309488710565016157703217122635448803856196063755457028960277269302701634266280892309368955958281766729056497119896660989457847273204881589791426293321310797234136597514243163124686033273737124917671267870576390280292191985601276929031955404821640086872582710904623284509804757001506153712906037056439730925755773346844501892961005952588092386782138083518544301549710393900881081613598791708924453869238013347694891907594354832348770417141161075\"],[\"average\",\"66071224035152974860221948621906747725690781419788135335437113975907552737374133957383201490005422460844878728959546550457449928451736834525463491973096140611369381077438170738880591730164166245091503224765208755574911311246372403551556297013197189045198541975614803956243209385465531381476114308632028276703116322093536741417261194502782238451507890884616378369927065786420064646881386510058940876942043167199035094503223870262186206253461751880453351950087355642697605806068148554584337066292545800762268241977795625962113521734392328474904587627935754553251132510283400601522611385161670811977548708943388310766406879366209587772888791345376140047027854238366764078522506914989067482357794\"],[\"first_name\",\"1187615697192600701894872027020268413907435557903981738643829133586640984033686095060854475767096565404039099143256197869140563555546648300574269642535146427154199353243553695910412341550110079738010292563737259643228711864595526848601652153440315932029476408658578164834722493009221115731804277229601918717455654039562978220162795075516396718448548844938252100305704139268155999818496681154131086233169248478447983950252249424307057633145199910552730253463127150933808044071776133772220011459772752889685379224964092906392511006522763466483766016405373354004822884951257674749840406042407305165649221458793014350391310999090952865860071295453398917194186415244410246233569879389024168829400886\"],[\"degree\",\"821766108855021083174406821211325019963415099559489548890856990440086165761206671979984844135263598994997512329888689974159210643983619679075098410185035430677078625996288836051725800869327654927961506059095028596583401271591262526812796415601631819715442454366975016438007775278008203800669782522650376979238036827811035042205697222645717514610883158267056134525054109743369696426412678318518646472026537896490735977461080766189803592802139972846388811340989956500252810467895011698544356529231912105050135789507944772187627537803979268375563446833857689472747324094343648527981861569781957487528105345577714796971006931692469710919260999581880590634691280355107601158807428297399612644394089\"],[\"last_name\",\"256222332457210479817111836902276850537294308809585317751198602531811606034467317975799360304802271859265644336349075859421962700574679740093941794023764115922226009498681399044653054605124306703163041221418539310018371479562362488943065488738339463528940151140510995636405311442482252790343234851191971247901338098996308281965294150715224235879043498194624632372136038864058443426038005276948347256386683553125217590345021084681097845880814366397541710165297676340002905867031722474768297416640437597195316948421533811409090566147511151367420404081137652341403329354351446105924474629329144534276419220747891918149794616229913940692183244191622740466682018733534265215881325730349518303474198\"],[\"status\",\"298762815658086154610599225220614227985173844261663644985997720820185423120208951787473822570211946457499087485785049165790909899869214280727519399555868608342329188286074752406355093101908499248455187346360310970884765765613210348168903303065815463815608957056332039064875675181961137539394781320792252966805669910389388826875986027528004649438182177553716141138628291032797869221705399655750389711815214794641541455513220195534578501302669865592715429828323721779111357837799165136595661457653795602347857396076639529366868607487035321528518992944034700831239201973736402931126804698813393959193511719117506280953412744777295635097721140595218884926236472840412417861126268360625985744896193\"],[\"ssn\",\"247069477671923328503411209272133364756169272165217045093416954271419461625542310304957276246227851139185172976886950578037574551103703814955039019813435215975822293247625833444437303047111169752145540029212289974192129892165680100816160703669353320628147775899442847811456506590142013698277982591039617735822570417273789123207402169093635870624960830039147179193874754465383589787424161402188907156113479453574462603194928250318146331808793759946758650227689992894693521876522117062531178887684969424046697009753973958649177629947902878762845796338788610329645054812677352335052233661677113440761167188664358582131634501778047908228539471522899032396643592418845282069519238129744280119874937\"],[\"year\",\"1271628259762728607374586112707251269403436140456288166979453421340876420238727519341192226869269365783075518807479356299787530728151768572714578375790105273913957871168604753443866679957417550586909009979256335035660161143037266265552266733312381608925509942420400286333598759049353106423789234583596289613182598387130566993949102261084037884251086315070987287696441706988188978692162270871647310436883509506786621410492378133789836420584750762595484832344169382360264074483315429726584008154842963765559200779892436550889220462853607170268565001491948692855039609357462481359879557619456983123789723468634887473705247738047524336619987504288403867689418344719209471735931174542377596297155227\"]]},\"nonce\":\"1070029918151072448763456\"}',\n",
      "  'transcript_schema_id': '24VP41vc7qwSV9jDNqzgg7:2:Transcript:1.2',\n",
      "  'wallet': 55,\n",
      "  'wallet_config': '{\"id\": '\n",
      "                   '\"alice_wallet\"}',\n",
      "  'wallet_credentials': '{\"key\": '\n",
      "                        '\"alice_wallet_key\"}'}\n",
      "----------------------------------------------------------------------------------------------------\n"
     ]
    }
   ],
   "source": [
    "IndyPrinter(faber)(\"faber\")\n",
    "IndyPrinter(alice)(\"alice\")"
   ]
  },
  {
   "cell_type": "markdown",
   "id": "9a29908d-1b7f-4053-bac0-ae0be74fafb1",
   "metadata": {},
   "source": [
    "### (2) Alice create and store master secret in wallet"
   ]
  },
  {
   "cell_type": "code",
   "execution_count": 72,
   "id": "e3e2aa05-3e93-46e8-9eca-a3400228a997",
   "metadata": {},
   "outputs": [],
   "source": [
    "alice['master_secret_id'] = await anoncreds.prover_create_master_secret(alice['wallet'], None)"
   ]
  },
  {
   "cell_type": "code",
   "execution_count": 73,
   "id": "db1159fe-8832-46e8-8945-5f46b33ebaf4",
   "metadata": {},
   "outputs": [
    {
     "name": "stdout",
     "output_type": "stream",
     "text": [
      "----------------------------------------------------------------------------------------------------\n",
      "-----------------------------------------------alice------------------------------------------------\n",
      "{ 'did': '3ZQLFaWjwX9yNP9jMzd8Dx',\n",
      "  'key': '2PtHjMvxXwhAt45pcvkkvmw8knKwjsQqXrNuiCfi5xqC',\n",
      "  'master_secret_id': '5ccc92ed-55b5-4c78-9d0a-b452cdef5f0d',\n",
      "  'name': 'Alice',\n",
      "  'pool': 13,\n",
      "  'transcript_cred_def_id': '5WNnjE3nstyWe6MihYqhrg:3:CL:217:TAG1',\n",
      "  'transcript_cred_offer': '{\"schema_id\":\"24VP41vc7qwSV9jDNqzgg7:2:Transcript:1.2\",\"cred_def_id\":\"5WNnjE3nstyWe6MihYqhrg:3:CL:217:TAG1\",\"key_correctness_proof\":{\"c\":\"77359542908061223823258333093593494675878047655751433287560091792795484430724\",\"xz_cap\":\"1168226133095585838437229091756790617850587458871181036797606221930453705745071845559299678455460099535081299308683448687970801702380290980521982426031252828959531192936239491064161522514313641289641133287679063358542651864419783494150299890017882436758361453648963197032007768485588909347667624242602322248745532186568597026038545956413501841582469587892185217559169389659760412507068671956778468045435723465623961215267576879473145763315486445794485489067516290367403146500142588432602034686138306195661971886725686236241642862353341757174540181068206593555912763398588606357090018582230868531721496396992828043648375473804811068856570949530378003303779915866774260697022631854294117992767349\",\"xr_cap\":[[\"master_secret\",\"25252183092040991990934665298099994265735529390334012233974554504578497366484506478116012609848552414310767902294691403467812458642684574392713969271322245416687426219250959477411611976353645447332719533966759058676429068452222800561422342260195402309488710565016157703217122635448803856196063755457028960277269302701634266280892309368955958281766729056497119896660989457847273204881589791426293321310797234136597514243163124686033273737124917671267870576390280292191985601276929031955404821640086872582710904623284509804757001506153712906037056439730925755773346844501892961005952588092386782138083518544301549710393900881081613598791708924453869238013347694891907594354832348770417141161075\"],[\"average\",\"66071224035152974860221948621906747725690781419788135335437113975907552737374133957383201490005422460844878728959546550457449928451736834525463491973096140611369381077438170738880591730164166245091503224765208755574911311246372403551556297013197189045198541975614803956243209385465531381476114308632028276703116322093536741417261194502782238451507890884616378369927065786420064646881386510058940876942043167199035094503223870262186206253461751880453351950087355642697605806068148554584337066292545800762268241977795625962113521734392328474904587627935754553251132510283400601522611385161670811977548708943388310766406879366209587772888791345376140047027854238366764078522506914989067482357794\"],[\"first_name\",\"1187615697192600701894872027020268413907435557903981738643829133586640984033686095060854475767096565404039099143256197869140563555546648300574269642535146427154199353243553695910412341550110079738010292563737259643228711864595526848601652153440315932029476408658578164834722493009221115731804277229601918717455654039562978220162795075516396718448548844938252100305704139268155999818496681154131086233169248478447983950252249424307057633145199910552730253463127150933808044071776133772220011459772752889685379224964092906392511006522763466483766016405373354004822884951257674749840406042407305165649221458793014350391310999090952865860071295453398917194186415244410246233569879389024168829400886\"],[\"degree\",\"821766108855021083174406821211325019963415099559489548890856990440086165761206671979984844135263598994997512329888689974159210643983619679075098410185035430677078625996288836051725800869327654927961506059095028596583401271591262526812796415601631819715442454366975016438007775278008203800669782522650376979238036827811035042205697222645717514610883158267056134525054109743369696426412678318518646472026537896490735977461080766189803592802139972846388811340989956500252810467895011698544356529231912105050135789507944772187627537803979268375563446833857689472747324094343648527981861569781957487528105345577714796971006931692469710919260999581880590634691280355107601158807428297399612644394089\"],[\"last_name\",\"256222332457210479817111836902276850537294308809585317751198602531811606034467317975799360304802271859265644336349075859421962700574679740093941794023764115922226009498681399044653054605124306703163041221418539310018371479562362488943065488738339463528940151140510995636405311442482252790343234851191971247901338098996308281965294150715224235879043498194624632372136038864058443426038005276948347256386683553125217590345021084681097845880814366397541710165297676340002905867031722474768297416640437597195316948421533811409090566147511151367420404081137652341403329354351446105924474629329144534276419220747891918149794616229913940692183244191622740466682018733534265215881325730349518303474198\"],[\"status\",\"298762815658086154610599225220614227985173844261663644985997720820185423120208951787473822570211946457499087485785049165790909899869214280727519399555868608342329188286074752406355093101908499248455187346360310970884765765613210348168903303065815463815608957056332039064875675181961137539394781320792252966805669910389388826875986027528004649438182177553716141138628291032797869221705399655750389711815214794641541455513220195534578501302669865592715429828323721779111357837799165136595661457653795602347857396076639529366868607487035321528518992944034700831239201973736402931126804698813393959193511719117506280953412744777295635097721140595218884926236472840412417861126268360625985744896193\"],[\"ssn\",\"247069477671923328503411209272133364756169272165217045093416954271419461625542310304957276246227851139185172976886950578037574551103703814955039019813435215975822293247625833444437303047111169752145540029212289974192129892165680100816160703669353320628147775899442847811456506590142013698277982591039617735822570417273789123207402169093635870624960830039147179193874754465383589787424161402188907156113479453574462603194928250318146331808793759946758650227689992894693521876522117062531178887684969424046697009753973958649177629947902878762845796338788610329645054812677352335052233661677113440761167188664358582131634501778047908228539471522899032396643592418845282069519238129744280119874937\"],[\"year\",\"1271628259762728607374586112707251269403436140456288166979453421340876420238727519341192226869269365783075518807479356299787530728151768572714578375790105273913957871168604753443866679957417550586909009979256335035660161143037266265552266733312381608925509942420400286333598759049353106423789234583596289613182598387130566993949102261084037884251086315070987287696441706988188978692162270871647310436883509506786621410492378133789836420584750762595484832344169382360264074483315429726584008154842963765559200779892436550889220462853607170268565001491948692855039609357462481359879557619456983123789723468634887473705247738047524336619987504288403867689418344719209471735931174542377596297155227\"]]},\"nonce\":\"1070029918151072448763456\"}',\n",
      "  'transcript_schema_id': '24VP41vc7qwSV9jDNqzgg7:2:Transcript:1.2',\n",
      "  'wallet': 55,\n",
      "  'wallet_config': '{\"id\": '\n",
      "                   '\"alice_wallet\"}',\n",
      "  'wallet_credentials': '{\"key\": '\n",
      "                        '\"alice_wallet_key\"}'}\n",
      "----------------------------------------------------------------------------------------------------\n"
     ]
    }
   ],
   "source": [
    "IndyPrinter(alice)('alice')"
   ]
  },
  {
   "cell_type": "markdown",
   "id": "1d2b18c3-0d77-4f32-9774-2a8db0c3a684",
   "metadata": {},
   "source": [
    "||||||||||||||||||||||||||||||||||||||||||||||||||||||||||||||||||||||||||||||||||||||||||||||||||||||||||||||||||||||||||||||||||||||||||||||||||||||||||||||||||||||||||||||||||||||||||||||||||||||||||||||||||||||||||||||||||||||||||||"
   ]
  },
  {
   "cell_type": "markdown",
   "id": "64c91dc4-9c1e-4b88-88c0-fabef58f2020",
   "metadata": {},
   "source": [
    "|||||||||||||||||||||||||||||||||||||||||||||||||||||||||||||||||||||||||||||||||||||||||||||||||||||||||||||||||||||| START ||||||||||||||||||||||||||||||||||||||||||||||||||||||||||||||||||||||||||||||||||||||||||||||||||||||||||||||||||||||"
   ]
  },
  {
   "cell_type": "markdown",
   "id": "be5862bb-f33c-4bd6-9929-e5793385330d",
   "metadata": {},
   "source": [
    "||||||||||||||||||||||||||||||||||||||||||||||||||||||||||||||||||||||||||||||||||||||||||||||||||||||||||||||||||||||||||||||||||||||||||||||||||||||||||||||||||||||||||||||||||||||||||||||||||||||||||||||||||||||||||||||||||||||||||||"
   ]
  },
  {
   "cell_type": "code",
   "execution_count": 87,
   "id": "29bebca8-5eb2-481a-94bb-ee1cc6501be4",
   "metadata": {},
   "outputs": [
    {
     "data": {
      "text/plain": [
       "('http://localhost:1234', '2PtHjMvxXwhAt45pcvkkvmw8knKwjsQqXrNuiCfi5xqC')"
      ]
     },
     "execution_count": 87,
     "metadata": {},
     "output_type": "execute_result"
    }
   ],
   "source": [
    "# alice = {\n",
    "#     'name': 'Alice',\n",
    "#     'wallet_config': json.dumps({'id': 'alice_wallet'}),\n",
    "#     'wallet_credentials': json.dumps({'key': 'alice_wallet_key'}),\n",
    "#     'pool': pool_['handle'],\n",
    "# }\n",
    "\n",
    "await did.set_endpoint_for_did(alice['wallet'], alice['did'], 'http://localhost:1234', alice['key'])\n",
    "await did.get_endpoint_for_did(alice['wallet'], alice['pool'], alice['did'])"
   ]
  },
  {
   "cell_type": "code",
   "execution_count": 159,
   "id": "e4f85662-9866-479c-8427-19468c3106cb",
   "metadata": {},
   "outputs": [
    {
     "data": {
      "text/plain": [
       "{'name': 'Sovrin Steward',\n",
       " 'wallet_config': '{\"id\": \"sovrin_steward_wallet\"}',\n",
       " 'wallet_credentials': '{\"key\": \"steward_wallet_key\"}',\n",
       " 'pool': 13,\n",
       " 'seed': '000000000000000000000000Steward1',\n",
       " 'wallet': 16,\n",
       " 'did_info': '{\"seed\": \"000000000000000000000000Steward1\"}',\n",
       " 'did': 'Th7MpTaRZVRYnPiabds81Y',\n",
       " 'key': 'FYmoFw55GeQH7SRFa37dkx1d2dZ3zUF8ckg7wmL7ofN4',\n",
       " 'info': {'did': 'HYFcGcHTSZ6AMcNS61GnXR',\n",
       "  'verkey': 'A1pqs3tUiFMxWZTgsMMnBZaMwReuqHr4zvHrDiof5cu6',\n",
       "  'role': 'TRUST_ANCHOR'}}"
      ]
     },
     "execution_count": 159,
     "metadata": {},
     "output_type": "execute_result"
    }
   ],
   "source": [
    "steward"
   ]
  },
  {
   "cell_type": "code",
   "execution_count": 146,
   "id": "194fb948-33ed-45ce-a392-fd3e73fe14f0",
   "metadata": {},
   "outputs": [
    {
     "data": {
      "text/plain": [
       "{'name': 'Alice',\n",
       " 'wallet_config': '{\"id\": \"alice_wallet\"}',\n",
       " 'wallet_credentials': '{\"key\": \"alice_wallet_key\"}',\n",
       " 'pool': 13,\n",
       " 'wallet': 55,\n",
       " 'did': '3ZQLFaWjwX9yNP9jMzd8Dx',\n",
       " 'key': '2PtHjMvxXwhAt45pcvkkvmw8knKwjsQqXrNuiCfi5xqC',\n",
       " 'transcript_cred_offer': '{\"schema_id\":\"24VP41vc7qwSV9jDNqzgg7:2:Transcript:1.2\",\"cred_def_id\":\"5WNnjE3nstyWe6MihYqhrg:3:CL:217:TAG1\",\"key_correctness_proof\":{\"c\":\"77359542908061223823258333093593494675878047655751433287560091792795484430724\",\"xz_cap\":\"1168226133095585838437229091756790617850587458871181036797606221930453705745071845559299678455460099535081299308683448687970801702380290980521982426031252828959531192936239491064161522514313641289641133287679063358542651864419783494150299890017882436758361453648963197032007768485588909347667624242602322248745532186568597026038545956413501841582469587892185217559169389659760412507068671956778468045435723465623961215267576879473145763315486445794485489067516290367403146500142588432602034686138306195661971886725686236241642862353341757174540181068206593555912763398588606357090018582230868531721496396992828043648375473804811068856570949530378003303779915866774260697022631854294117992767349\",\"xr_cap\":[[\"master_secret\",\"25252183092040991990934665298099994265735529390334012233974554504578497366484506478116012609848552414310767902294691403467812458642684574392713969271322245416687426219250959477411611976353645447332719533966759058676429068452222800561422342260195402309488710565016157703217122635448803856196063755457028960277269302701634266280892309368955958281766729056497119896660989457847273204881589791426293321310797234136597514243163124686033273737124917671267870576390280292191985601276929031955404821640086872582710904623284509804757001506153712906037056439730925755773346844501892961005952588092386782138083518544301549710393900881081613598791708924453869238013347694891907594354832348770417141161075\"],[\"average\",\"66071224035152974860221948621906747725690781419788135335437113975907552737374133957383201490005422460844878728959546550457449928451736834525463491973096140611369381077438170738880591730164166245091503224765208755574911311246372403551556297013197189045198541975614803956243209385465531381476114308632028276703116322093536741417261194502782238451507890884616378369927065786420064646881386510058940876942043167199035094503223870262186206253461751880453351950087355642697605806068148554584337066292545800762268241977795625962113521734392328474904587627935754553251132510283400601522611385161670811977548708943388310766406879366209587772888791345376140047027854238366764078522506914989067482357794\"],[\"first_name\",\"1187615697192600701894872027020268413907435557903981738643829133586640984033686095060854475767096565404039099143256197869140563555546648300574269642535146427154199353243553695910412341550110079738010292563737259643228711864595526848601652153440315932029476408658578164834722493009221115731804277229601918717455654039562978220162795075516396718448548844938252100305704139268155999818496681154131086233169248478447983950252249424307057633145199910552730253463127150933808044071776133772220011459772752889685379224964092906392511006522763466483766016405373354004822884951257674749840406042407305165649221458793014350391310999090952865860071295453398917194186415244410246233569879389024168829400886\"],[\"degree\",\"821766108855021083174406821211325019963415099559489548890856990440086165761206671979984844135263598994997512329888689974159210643983619679075098410185035430677078625996288836051725800869327654927961506059095028596583401271591262526812796415601631819715442454366975016438007775278008203800669782522650376979238036827811035042205697222645717514610883158267056134525054109743369696426412678318518646472026537896490735977461080766189803592802139972846388811340989956500252810467895011698544356529231912105050135789507944772187627537803979268375563446833857689472747324094343648527981861569781957487528105345577714796971006931692469710919260999581880590634691280355107601158807428297399612644394089\"],[\"last_name\",\"256222332457210479817111836902276850537294308809585317751198602531811606034467317975799360304802271859265644336349075859421962700574679740093941794023764115922226009498681399044653054605124306703163041221418539310018371479562362488943065488738339463528940151140510995636405311442482252790343234851191971247901338098996308281965294150715224235879043498194624632372136038864058443426038005276948347256386683553125217590345021084681097845880814366397541710165297676340002905867031722474768297416640437597195316948421533811409090566147511151367420404081137652341403329354351446105924474629329144534276419220747891918149794616229913940692183244191622740466682018733534265215881325730349518303474198\"],[\"status\",\"298762815658086154610599225220614227985173844261663644985997720820185423120208951787473822570211946457499087485785049165790909899869214280727519399555868608342329188286074752406355093101908499248455187346360310970884765765613210348168903303065815463815608957056332039064875675181961137539394781320792252966805669910389388826875986027528004649438182177553716141138628291032797869221705399655750389711815214794641541455513220195534578501302669865592715429828323721779111357837799165136595661457653795602347857396076639529366868607487035321528518992944034700831239201973736402931126804698813393959193511719117506280953412744777295635097721140595218884926236472840412417861126268360625985744896193\"],[\"ssn\",\"247069477671923328503411209272133364756169272165217045093416954271419461625542310304957276246227851139185172976886950578037574551103703814955039019813435215975822293247625833444437303047111169752145540029212289974192129892165680100816160703669353320628147775899442847811456506590142013698277982591039617735822570417273789123207402169093635870624960830039147179193874754465383589787424161402188907156113479453574462603194928250318146331808793759946758650227689992894693521876522117062531178887684969424046697009753973958649177629947902878762845796338788610329645054812677352335052233661677113440761167188664358582131634501778047908228539471522899032396643592418845282069519238129744280119874937\"],[\"year\",\"1271628259762728607374586112707251269403436140456288166979453421340876420238727519341192226869269365783075518807479356299787530728151768572714578375790105273913957871168604753443866679957417550586909009979256335035660161143037266265552266733312381608925509942420400286333598759049353106423789234583596289613182598387130566993949102261084037884251086315070987287696441706988188978692162270871647310436883509506786621410492378133789836420584750762595484832344169382360264074483315429726584008154842963765559200779892436550889220462853607170268565001491948692855039609357462481359879557619456983123789723468634887473705247738047524336619987504288403867689418344719209471735931174542377596297155227\"]]},\"nonce\":\"1070029918151072448763456\"}',\n",
       " 'transcript_schema_id': '24VP41vc7qwSV9jDNqzgg7:2:Transcript:1.2',\n",
       " 'transcript_cred_def_id': '5WNnjE3nstyWe6MihYqhrg:3:CL:217:TAG1',\n",
       " 'master_secret_id': '5ccc92ed-55b5-4c78-9d0a-b452cdef5f0d'}"
      ]
     },
     "execution_count": 146,
     "metadata": {},
     "output_type": "execute_result"
    }
   ],
   "source": [
    "alice"
   ]
  },
  {
   "cell_type": "code",
   "execution_count": 154,
   "id": "9d6360af-f1a5-4bf2-bf3d-b33660148aed",
   "metadata": {},
   "outputs": [
    {
     "data": {
      "text/plain": [
       "'{\"reqId\":1635252760694276285,\"identifier\":\"Th7MpTaRZVRYnPiabds81Y\",\"operation\":{\"type\":\"120\",\"dest\":\"3ZQLFaWjwX9yNP9jMzd8Dx\"},\"protocolVersion\":2}'"
      ]
     },
     "execution_count": 154,
     "metadata": {},
     "output_type": "execute_result"
    }
   ],
   "source": [
    "req_ddo = await ledger.build_get_ddo_request(steward['did'], alice['did'])\n",
    "req_ddo"
   ]
  },
  {
   "cell_type": "code",
   "execution_count": 155,
   "id": "e98ff6e9-ffd7-457b-bc25-d22c7d4d7780",
   "metadata": {},
   "outputs": [
    {
     "data": {
      "text/plain": [
       "'{\"reqId\":1635252760694276285,\"identifier\":\"Th7MpTaRZVRYnPiabds81Y\",\"reason\":\"client request invalid: InvalidClientRequest(\\'validation error [ClientAuthRuleOperation]: missed fields - constraint, field, auth_action, auth_type, new_value. \\',)\",\"op\":\"REQNACK\"}'"
      ]
     },
     "execution_count": 155,
     "metadata": {},
     "output_type": "execute_result"
    }
   ],
   "source": [
    "await ledger.sign_and_submit_request(alice['pool'], alice['wallet'], alice['did'], req_ddo)"
   ]
  },
  {
   "cell_type": "code",
   "execution_count": 156,
   "id": "428b31d8-7890-4ca8-afda-3872340b1df7",
   "metadata": {},
   "outputs": [
    {
     "data": {
      "text/plain": [
       "'{\"reqId\":1635252760694276285,\"op\":\"REQNACK\",\"reason\":\"client request invalid: InvalidClientRequest(\\'validation error [ClientAuthRuleOperation]: missed fields - auth_action, field, constraint, new_value, auth_type. \\',)\",\"identifier\":\"Th7MpTaRZVRYnPiabds81Y\"}'"
      ]
     },
     "execution_count": 156,
     "metadata": {},
     "output_type": "execute_result"
    }
   ],
   "source": [
    "await ledger.submit_request(steward['pool'], req_ddo)"
   ]
  },
  {
   "cell_type": "code",
   "execution_count": 158,
   "id": "abaf28db-0943-4006-95fc-9c682b386364",
   "metadata": {},
   "outputs": [
    {
     "ename": "CommonInvalidStructure",
     "evalue": "",
     "output_type": "error",
     "traceback": [
      "\u001b[0;31m---------------------------------------------------------------------------\u001b[0m",
      "\u001b[0;31mCommonInvalidStructure\u001b[0m                    Traceback (most recent call last)",
      "\u001b[0;32m<ipython-input-158-9ebe96d86d72>\u001b[0m in \u001b[0;36masync-def-wrapper\u001b[0;34m()\u001b[0m\n",
      "\u001b[0;32m~/.local/lib/python3.6/site-packages/indy/ledger.py\u001b[0m in \u001b[0;36mbuild_get_attrib_request\u001b[0;34m(submitter_did, target_did, raw, xhash, enc)\u001b[0m\n\u001b[1;32m    391\u001b[0m                                  \u001b[0mc_xhash\u001b[0m\u001b[0;34m,\u001b[0m\u001b[0;34m\u001b[0m\u001b[0;34m\u001b[0m\u001b[0m\n\u001b[1;32m    392\u001b[0m                                  \u001b[0mc_enc\u001b[0m\u001b[0;34m,\u001b[0m\u001b[0;34m\u001b[0m\u001b[0;34m\u001b[0m\u001b[0m\n\u001b[0;32m--> 393\u001b[0;31m                                  build_get_attrib_request.cb)\n\u001b[0m\u001b[1;32m    394\u001b[0m \u001b[0;34m\u001b[0m\u001b[0m\n\u001b[1;32m    395\u001b[0m     \u001b[0mres\u001b[0m \u001b[0;34m=\u001b[0m \u001b[0mrequest_json\u001b[0m\u001b[0;34m.\u001b[0m\u001b[0mdecode\u001b[0m\u001b[0;34m(\u001b[0m\u001b[0;34m)\u001b[0m\u001b[0;34m\u001b[0m\u001b[0;34m\u001b[0m\u001b[0m\n",
      "\u001b[0;31mCommonInvalidStructure\u001b[0m: "
     ]
    }
   ],
   "source": [
    "req_get_attr = await ledger.build_get_attrib_request(steward['did'], faber['did'], None, None, None)"
   ]
  },
  {
   "cell_type": "code",
   "execution_count": null,
   "id": "f4e2b85e-48c7-4875-bfbf-1f3d52b8ab6a",
   "metadata": {},
   "outputs": [],
   "source": []
  },
  {
   "cell_type": "code",
   "execution_count": 105,
   "id": "d0368bc5-fe7c-45c7-91ab-05ed5a5c39a8",
   "metadata": {},
   "outputs": [],
   "source": [
    "tails_writer = await blob_storage.open_writer('default', acme['tails_writer_config'])"
   ]
  },
  {
   "cell_type": "code",
   "execution_count": 106,
   "id": "299d8734-8088-4065-957a-238c881c8c70",
   "metadata": {},
   "outputs": [
    {
     "data": {
      "text/plain": [
       "77"
      ]
     },
     "execution_count": 106,
     "metadata": {},
     "output_type": "execute_result"
    }
   ],
   "source": [
    "tails_writer"
   ]
  },
  {
   "cell_type": "markdown",
   "id": "c2af0fbc-a34c-490c-8afb-581c5510afe0",
   "metadata": {},
   "source": [
    "||||||||||||||||||||||||||||||||||||||||||||||||||||||||||||||||||||||||||||||||||||||||||||||||||||||||||||||||||||||||||||||||||||||||||||||||||||||||||||||||||||||||||||||||||||||||||||||||||||||||||||||||||||||||||||||||||||||||||||"
   ]
  },
  {
   "cell_type": "markdown",
   "id": "5af6b3b7-2313-44d9-8988-fc46adc7d0e9",
   "metadata": {},
   "source": [
    "|||||||||||||||||||||||||||||||||||||||||||||||||||||||||||||||||||||||||||||||||||||||||||||||||||||||||||||||||||||| END ||||||||||||||||||||||||||||||||||||||||||||||||||||||||||||||||||||||||||||||||||||||||||||||||||||||||||||||||||||||"
   ]
  },
  {
   "cell_type": "markdown",
   "id": "a1f7f09a-0682-438e-9010-b68bd1e27abf",
   "metadata": {},
   "source": [
    "||||||||||||||||||||||||||||||||||||||||||||||||||||||||||||||||||||||||||||||||||||||||||||||||||||||||||||||||||||||||||||||||||||||||||||||||||||||||||||||||||||||||||||||||||||||||||||||||||||||||||||||||||||||||||||||||||||||||||||"
   ]
  },
  {
   "cell_type": "markdown",
   "id": "682cd690-b081-40ca-9665-9e9adf4838ac",
   "metadata": {},
   "source": [
    "### (3) Alice get \"Faber Transcript\" credential definition from ledger"
   ]
  },
  {
   "cell_type": "code",
   "execution_count": 27,
   "id": "94c1d24d-30e0-40b7-b870-926472e38127",
   "metadata": {},
   "outputs": [],
   "source": [
    "(alice['faber_transcript_cred_def_id'], alice['faber_transcript_cred_def']) = await get_cred_def(alice['pool'], alice['did'], alice['transcript_cred_def_id'])"
   ]
  },
  {
   "cell_type": "markdown",
   "id": "e42f7fc8-5551-49cf-a924-71691f4e36f5",
   "metadata": {},
   "source": [
    "### (4) Alice create \"Transcript\" credential request for Faber"
   ]
  },
  {
   "cell_type": "code",
   "execution_count": 28,
   "id": "8c1e584a-dbeb-4651-b79c-e083ab0d5f2e",
   "metadata": {},
   "outputs": [],
   "source": [
    "(alice['transcript_cred_request'], alice['transcript_cred_request_metadata']) = \\\n",
    "    await anoncreds.prover_create_credential_req(alice['wallet'], alice['did'],\n",
    "                                                    alice['transcript_cred_offer'], alice['faber_transcript_cred_def'],\n",
    "                                                    alice['master_secret_id'])"
   ]
  },
  {
   "cell_type": "markdown",
   "id": "37234b9d-730a-48ac-a443-96711189f49c",
   "metadata": {},
   "source": [
    "### (5) Alice send \"Transcript\" credential request for Faber"
   ]
  },
  {
   "cell_type": "code",
   "execution_count": 29,
   "id": "8809fe1b-31fd-4619-9120-93ca1af01ef5",
   "metadata": {},
   "outputs": [],
   "source": [
    "faber['transcript_cred_request'] = alice['transcript_cred_request']"
   ]
  },
  {
   "cell_type": "markdown",
   "id": "e612732a-a523-4d9c-ada2-f247c99dee76",
   "metadata": {},
   "source": [
    "### (6) Faber create \"Transcript\" credential for Alice"
   ]
  },
  {
   "cell_type": "code",
   "execution_count": 30,
   "id": "417bab9e-3387-44d0-8afa-c9892d52e05e",
   "metadata": {},
   "outputs": [],
   "source": [
    "faber['alice_transcript_cred_values'] = json.dumps({\n",
    "    \"first_name\": {\"raw\": \"Alice\", \"encoded\": \"1139481716457488690172217916278103335\"},\n",
    "    \"last_name\": {\"raw\": \"Garcia\", \"encoded\": \"5321642780241790123587902456789123452\"},\n",
    "    \"degree\": {\"raw\": \"Bachelor of Science, Marketing\", \"encoded\": \"12434523576212321\"},\n",
    "    \"status\": {\"raw\": \"graduated\", \"encoded\": \"2213454313412354\"},\n",
    "    \"ssn\": {\"raw\": \"123-45-6789\", \"encoded\": \"3124141231422543541\"},\n",
    "    \"year\": {\"raw\": \"2015\", \"encoded\": \"2015\"},\n",
    "    \"average\": {\"raw\": \"5\", \"encoded\": \"5\"}\n",
    "})\n",
    "\n",
    "faber['transcript_cred'], _, _ = \\\n",
    "    await anoncreds.issuer_create_credential(faber['wallet'], faber['transcript_cred_offer'],\n",
    "                                                faber['transcript_cred_request'],\n",
    "                                                faber['alice_transcript_cred_values'], None, None)"
   ]
  },
  {
   "cell_type": "markdown",
   "id": "3a732356-1aca-4b66-8d4d-583b2d168b37",
   "metadata": {
    "tags": []
   },
   "source": [
    "### (7) Faber send \"Transcript\" credential to Alice"
   ]
  },
  {
   "cell_type": "code",
   "execution_count": 31,
   "id": "b11e572e-d604-42dc-8aa4-e776d9c8bb83",
   "metadata": {},
   "outputs": [],
   "source": [
    "alice['transcript_cred'] = faber['transcript_cred']"
   ]
  },
  {
   "cell_type": "markdown",
   "id": "deef26ed-3597-4772-bf3d-338e86a298ec",
   "metadata": {},
   "source": [
    "### (8) Alice store \"Transcript\" credential from Faber"
   ]
  },
  {
   "cell_type": "code",
   "execution_count": 32,
   "id": "574035a7-4153-4c4f-9ec9-342c29780f2b",
   "metadata": {
    "tags": []
   },
   "outputs": [
    {
     "name": "stdout",
     "output_type": "stream",
     "text": [
      "\n"
     ]
    }
   ],
   "source": [
    "_, alice['transcript_cred_def'] = await get_cred_def(alice['pool'], alice['did'],\n",
    "                                                        alice['transcript_cred_def_id'])\n",
    "\n",
    "await anoncreds.prover_store_credential(alice['wallet'], None, alice['transcript_cred_request_metadata'],\n",
    "                                        alice['transcript_cred'], alice['transcript_cred_def'], None)\n",
    "print()"
   ]
  },
  {
   "cell_type": "markdown",
   "id": "cfaa80d4-15f4-42a8-80da-b6d09f03dc79",
   "metadata": {
    "tags": []
   },
   "source": [
    "<br><br><br><hr>\n",
    "\n",
    "# 10. Apply For the Job With Acme - Transcript Proving"
   ]
  },
  {
   "cell_type": "markdown",
   "id": "6c107aae-bc38-4bb2-acbe-fc906ae5b706",
   "metadata": {},
   "source": [
    "## - Credential 검증 관련 함수 정의"
   ]
  },
  {
   "cell_type": "code",
   "execution_count": 33,
   "id": "60745918-98ce-4e52-835a-c5923dfeea4d",
   "metadata": {},
   "outputs": [],
   "source": [
    "async def get_credential_for_referent(search_handle, referent):\n",
    "    credentials = json.loads(\n",
    "        await anoncreds.prover_fetch_credentials_for_proof_req(search_handle, referent, 10))\n",
    "    return credentials[0]['cred_info']\n",
    "\n",
    "\n",
    "def get_timestamp_for_attribute(cred_for_attribute, revoc_states):\n",
    "    if cred_for_attribute['rev_reg_id'] in revoc_states:\n",
    "        return int(next(iter(revoc_states[cred_for_attribute['rev_reg_id']])))\n",
    "    else:\n",
    "        return None\n",
    "\n",
    "\n",
    "async def prover_get_entities_from_ledger(pool_handle, _did, identifiers, actor, timestamp_from=None,\n",
    "                                          timestamp_to=None):\n",
    "    schemas = {}\n",
    "    cred_defs = {}\n",
    "    rev_states = {}\n",
    "    for item in identifiers.values():\n",
    "        # logger.info(\"\\\"{}\\\" -> Get Schema from Ledger\".format(actor))\n",
    "        (received_schema_id, received_schema) = await get_schema(pool_handle, _did, item['schema_id'])\n",
    "        schemas[received_schema_id] = json.loads(received_schema)\n",
    "\n",
    "        # logger.info(\"\\\"{}\\\" -> Get Claim Definition from Ledger\".format(actor))\n",
    "        (received_cred_def_id, received_cred_def) = await get_cred_def(pool_handle, _did, item['cred_def_id'])\n",
    "        cred_defs[received_cred_def_id] = json.loads(received_cred_def)\n",
    "\n",
    "        if 'rev_reg_id' in item and item['rev_reg_id'] is not None:\n",
    "            # Create Revocations States\n",
    "            # logger.info(\"\\\"{}\\\" -> Get Revocation Registry Definition from Ledger\".format(actor))\n",
    "            get_revoc_reg_def_request = await ledger.build_get_revoc_reg_def_request(_did, item['rev_reg_id'])\n",
    "\n",
    "            get_revoc_reg_def_response = \\\n",
    "                await ensure_previous_request_applied(pool_handle, get_revoc_reg_def_request,\n",
    "                                                      lambda response: response['result']['data'] is not None)\n",
    "            (rev_reg_id, revoc_reg_def_json) = await ledger.parse_get_revoc_reg_def_response(get_revoc_reg_def_response)\n",
    "\n",
    "            # logger.info(\"\\\"{}\\\" -> Get Revocation Registry Delta from Ledger\".format(actor))\n",
    "            if not timestamp_to: timestamp_to = int(time.time())\n",
    "            get_revoc_reg_delta_request = \\\n",
    "                await ledger.build_get_revoc_reg_delta_request(_did, item['rev_reg_id'], timestamp_from, timestamp_to)\n",
    "            get_revoc_reg_delta_response = \\\n",
    "                await ensure_previous_request_applied(pool_handle, get_revoc_reg_delta_request,\n",
    "                                                      lambda response: response['result']['data'] is not None)\n",
    "            (rev_reg_id, revoc_reg_delta_json, t) = \\\n",
    "                await ledger.parse_get_revoc_reg_delta_response(get_revoc_reg_delta_response)\n",
    "\n",
    "            tails_reader_config = json.dumps(\n",
    "                {'base_dir': dirname(json.loads(revoc_reg_def_json)['value']['tailsLocation']),\n",
    "                 'uri_pattern': ''})\n",
    "            blob_storage_reader_cfg_handle = await blob_storage.open_reader('default', tails_reader_config)\n",
    "\n",
    "            # logger.info('%s - Create Revocation State', actor)\n",
    "            rev_state_json = \\\n",
    "                await anoncreds.create_revocation_state(blob_storage_reader_cfg_handle, revoc_reg_def_json,\n",
    "                                                        revoc_reg_delta_json, t, item['cred_rev_id'])\n",
    "            rev_states[rev_reg_id] = {t: json.loads(rev_state_json)}\n",
    "\n",
    "    return json.dumps(schemas), json.dumps(cred_defs), json.dumps(rev_states)\n",
    "\n",
    "\n",
    "async def verifier_get_entities_from_ledger(pool_handle, _did, identifiers, actor, timestamp=None):\n",
    "    schemas = {}\n",
    "    cred_defs = {}\n",
    "    rev_reg_defs = {}\n",
    "    rev_regs = {}\n",
    "    for item in identifiers:\n",
    "        # logger.info(\"\\\"{}\\\" -> Get Schema from Ledger\".format(actor))\n",
    "        (received_schema_id, received_schema) = await get_schema(pool_handle, _did, item['schema_id'])\n",
    "        schemas[received_schema_id] = json.loads(received_schema)\n",
    "\n",
    "        # logger.info(\"\\\"{}\\\" -> Get Claim Definition from Ledger\".format(actor))\n",
    "        (received_cred_def_id, received_cred_def) = await get_cred_def(pool_handle, _did, item['cred_def_id'])\n",
    "        cred_defs[received_cred_def_id] = json.loads(received_cred_def)\n",
    "\n",
    "        if 'rev_reg_id' in item and item['rev_reg_id'] is not None:\n",
    "            # Get Revocation Definitions and Revocation Registries\n",
    "            # logger.info(\"\\\"{}\\\" -> Get Revocation Definition from Ledger\".format(actor))\n",
    "            get_revoc_reg_def_request = await ledger.build_get_revoc_reg_def_request(_did, item['rev_reg_id'])\n",
    "\n",
    "            get_revoc_reg_def_response = \\\n",
    "                await ensure_previous_request_applied(pool_handle, get_revoc_reg_def_request,\n",
    "                                                      lambda response: response['result']['data'] is not None)\n",
    "            (rev_reg_id, revoc_reg_def_json) = await ledger.parse_get_revoc_reg_def_response(get_revoc_reg_def_response)\n",
    "\n",
    "            # logger.info(\"\\\"{}\\\" -> Get Revocation Registry from Ledger\".format(actor))\n",
    "            if not timestamp: timestamp = item['timestamp']\n",
    "            get_revoc_reg_request = \\\n",
    "                await ledger.build_get_revoc_reg_request(_did, item['rev_reg_id'], timestamp)\n",
    "            get_revoc_reg_response = \\\n",
    "                await ensure_previous_request_applied(pool_handle, get_revoc_reg_request,\n",
    "                                                      lambda response: response['result']['data'] is not None)\n",
    "            (rev_reg_id, rev_reg_json, timestamp2) = await ledger.parse_get_revoc_reg_response(get_revoc_reg_response)\n",
    "\n",
    "            rev_regs[rev_reg_id] = {timestamp2: json.loads(rev_reg_json)}\n",
    "            rev_reg_defs[rev_reg_id] = json.loads(revoc_reg_def_json)\n",
    "\n",
    "    return json.dumps(schemas), json.dumps(cred_defs), json.dumps(rev_reg_defs), json.dumps(rev_regs)"
   ]
  },
  {
   "cell_type": "markdown",
   "id": "56d24a46-49e7-47bb-a6eb-4324ef02f6dc",
   "metadata": {},
   "source": [
    "### (1) Acme create \"Job-Application\" proof request"
   ]
  },
  {
   "cell_type": "code",
   "execution_count": 34,
   "id": "3faea7ac-cb46-4c2c-96e3-e848e65acf12",
   "metadata": {},
   "outputs": [],
   "source": [
    "nonce = await anoncreds.generate_nonce()\n",
    "\n",
    "acme['job_application_proof_request'] = json.dumps({\n",
    "    'nonce': nonce,\n",
    "    'name': 'Job-Application',\n",
    "    'version': '0.1',\n",
    "    'requested_attributes': {\n",
    "        'attr1_referent': {\n",
    "            'name': 'first_name'\n",
    "        },\n",
    "        'attr2_referent': {\n",
    "            'name': 'last_name'\n",
    "        },\n",
    "        'attr3_referent': {\n",
    "            'name': 'degree',\n",
    "            'restrictions': [{'cred_def_id': faber['transcript_cred_def_id']}]\n",
    "        },\n",
    "        'attr4_referent': {\n",
    "            'name': 'status',\n",
    "            'restrictions': [{'cred_def_id': faber['transcript_cred_def_id']}]\n",
    "        },\n",
    "        'attr5_referent': {\n",
    "            'name': 'ssn',\n",
    "            'restrictions': [{'cred_def_id': faber['transcript_cred_def_id']}]\n",
    "        },\n",
    "        'attr6_referent': {\n",
    "            'name': 'phone_number'\n",
    "        }\n",
    "    },\n",
    "    'requested_predicates': {\n",
    "        'predicate1_referent': {\n",
    "            'name': 'average',\n",
    "            'p_type': '>=',\n",
    "            'p_value': 4,\n",
    "            'restrictions': [{'cred_def_id': faber['transcript_cred_def_id']}]\n",
    "        }\n",
    "    }\n",
    "})"
   ]
  },
  {
   "cell_type": "markdown",
   "id": "2dcd4809-8b53-4aa3-b20b-898f1052d511",
   "metadata": {},
   "source": [
    "### (2) Acme send \"Job-Application\" proof request to Alice"
   ]
  },
  {
   "cell_type": "code",
   "execution_count": 35,
   "id": "2327a50e-c91b-4f93-93ec-eb2d9672c758",
   "metadata": {},
   "outputs": [],
   "source": [
    "alice['job_application_proof_request'] = acme['job_application_proof_request']"
   ]
  },
  {
   "cell_type": "markdown",
   "id": "75368786-a0ff-4ee1-a640-bdf27a6645fb",
   "metadata": {},
   "source": [
    "### (3) Alice get credentials for \"Job-Application\" proof request"
   ]
  },
  {
   "cell_type": "code",
   "execution_count": 36,
   "id": "467b6e63-fec2-4641-afc7-76a5584a8741",
   "metadata": {},
   "outputs": [],
   "source": [
    "search_for_job_application_proof_request = \\\n",
    "    await anoncreds.prover_search_credentials_for_proof_req(alice['wallet'],\n",
    "                                                            alice['job_application_proof_request'], None)\n",
    "\n",
    "cred_for_attr1 = await get_credential_for_referent(search_for_job_application_proof_request, 'attr1_referent')\n",
    "cred_for_attr2 = await get_credential_for_referent(search_for_job_application_proof_request, 'attr2_referent')\n",
    "cred_for_attr3 = await get_credential_for_referent(search_for_job_application_proof_request, 'attr3_referent')\n",
    "cred_for_attr4 = await get_credential_for_referent(search_for_job_application_proof_request, 'attr4_referent')\n",
    "cred_for_attr5 = await get_credential_for_referent(search_for_job_application_proof_request, 'attr5_referent')\n",
    "cred_for_predicate1 = \\\n",
    "    await get_credential_for_referent(search_for_job_application_proof_request, 'predicate1_referent')\n",
    "\n",
    "await anoncreds.prover_close_credentials_search_for_proof_req(search_for_job_application_proof_request)\n",
    "\n",
    "alice['creds_for_job_application_proof'] = {cred_for_attr1['referent']: cred_for_attr1,\n",
    "                                            cred_for_attr2['referent']: cred_for_attr2,\n",
    "                                            cred_for_attr3['referent']: cred_for_attr3,\n",
    "                                            cred_for_attr4['referent']: cred_for_attr4,\n",
    "                                            cred_for_attr5['referent']: cred_for_attr5,\n",
    "                                            cred_for_predicate1['referent']: cred_for_predicate1}\n",
    "\n",
    "alice['schemas_for_job_application'], alice['cred_defs_for_job_application'], \\\n",
    "alice['revoc_states_for_job_application'] = \\\n",
    "    await prover_get_entities_from_ledger(alice['pool'], alice['did'],\n",
    "                                            alice['creds_for_job_application_proof'], alice['name'])"
   ]
  },
  {
   "cell_type": "markdown",
   "id": "ba593365-dd29-47bd-8aaf-61e4c5d1eda2",
   "metadata": {},
   "source": [
    "### (4) Alice create \"Job-certificate\" proof"
   ]
  },
  {
   "cell_type": "code",
   "execution_count": 37,
   "id": "d5c0e6cc-7b75-4117-9ed3-22fc70d789ca",
   "metadata": {},
   "outputs": [],
   "source": [
    "alice['job_application_requested_creds'] = json.dumps({\n",
    "    'self_attested_attributes': {\n",
    "        'attr1_referent': 'Alice',\n",
    "        'attr2_referent': 'Garcia',\n",
    "        'attr6_referent': '123-45-6789'\n",
    "    },\n",
    "    'requested_attributes': {\n",
    "        'attr3_referent': {'cred_id': cred_for_attr3['referent'], 'revealed': True},\n",
    "        'attr4_referent': {'cred_id': cred_for_attr4['referent'], 'revealed': True},\n",
    "        'attr5_referent': {'cred_id': cred_for_attr5['referent'], 'revealed': True},\n",
    "    },\n",
    "    'requested_predicates': {'predicate1_referent': {'cred_id': cred_for_predicate1['referent']}}\n",
    "})\n",
    "\n",
    "alice['job_application_proof'] = \\\n",
    "    await anoncreds.prover_create_proof(alice['wallet'], alice['job_application_proof_request'],\n",
    "                                        alice['job_application_requested_creds'], alice['master_secret_id'],\n",
    "                                        alice['schemas_for_job_application'],\n",
    "                                        alice['cred_defs_for_job_application'],\n",
    "                                        alice['revoc_states_for_job_application'])"
   ]
  },
  {
   "cell_type": "markdown",
   "id": "bf12887e-d5f3-42db-83e0-d1af45bd4268",
   "metadata": {},
   "source": [
    "### (5) Alice send \"Job-Application\" proof to Acme"
   ]
  },
  {
   "cell_type": "code",
   "execution_count": 38,
   "id": "628a18ba-cea9-4bf0-813e-146a0ac9cccd",
   "metadata": {},
   "outputs": [],
   "source": [
    "acme['job_application_proof'] = alice['job_application_proof']\n",
    "\n",
    "job_application_proof_object = json.loads(acme['job_application_proof'])\n",
    "\n",
    "acme['schemas_for_job_application'], acme['cred_defs_for_job_application'], \\\n",
    "acme['revoc_ref_defs_for_job_application'], acme['revoc_regs_for_job_application'] = \\\n",
    "    await verifier_get_entities_from_ledger(acme['pool'], acme['did'],\n",
    "                                            job_application_proof_object['identifiers'], acme['name'])"
   ]
  },
  {
   "cell_type": "markdown",
   "id": "abb39688-47ab-454d-afc5-9c2f503266df",
   "metadata": {},
   "source": [
    "### (6) Acme verify \"Job-Application\" proof from Alice"
   ]
  },
  {
   "cell_type": "code",
   "execution_count": 39,
   "id": "94ffdda0-2078-469f-a374-75559388c854",
   "metadata": {},
   "outputs": [],
   "source": [
    "assert 'Bachelor of Science, Marketing' == \\\n",
    "        job_application_proof_object['requested_proof']['revealed_attrs']['attr3_referent']['raw']\n",
    "assert 'graduated' == \\\n",
    "        job_application_proof_object['requested_proof']['revealed_attrs']['attr4_referent']['raw']\n",
    "assert '123-45-6789' == \\\n",
    "        job_application_proof_object['requested_proof']['revealed_attrs']['attr5_referent']['raw']\n",
    "\n",
    "assert 'Alice' == job_application_proof_object['requested_proof']['self_attested_attrs']['attr1_referent']\n",
    "assert 'Garcia' == job_application_proof_object['requested_proof']['self_attested_attrs']['attr2_referent']\n",
    "assert '123-45-6789' == job_application_proof_object['requested_proof']['self_attested_attrs']['attr6_referent']\n",
    "\n",
    "assert await anoncreds.verifier_verify_proof(acme['job_application_proof_request'], acme['job_application_proof'],\n",
    "                                                acme['schemas_for_job_application'],\n",
    "                                                acme['cred_defs_for_job_application'],\n",
    "                                                acme['revoc_ref_defs_for_job_application'],\n",
    "                                                acme['revoc_regs_for_job_application'])"
   ]
  },
  {
   "cell_type": "markdown",
   "id": "f3ab3595-febf-4c55-8d01-78bc8495c234",
   "metadata": {
    "tags": []
   },
   "source": [
    "<br><br><br><hr>\n",
    "\n",
    "# 11. Apply for the job with Acme - Getting Job-Certificate Credential"
   ]
  },
  {
   "cell_type": "code",
   "execution_count": 40,
   "id": "dc2e6027-60c0-4194-a705-b3f19b3b9a3c",
   "metadata": {},
   "outputs": [],
   "source": [
    "# logger.info(\"\\\"Acme\\\" -> Create \\\"Job-Certificate\\\" Credential Offer for Alice\")"
   ]
  },
  {
   "cell_type": "code",
   "execution_count": 41,
   "id": "cbfbd0f1-b9ea-4bd1-b5fb-e639906e7ab0",
   "metadata": {},
   "outputs": [],
   "source": [
    "acme['job_certificate_cred_offer'] = \\\n",
    "    await anoncreds.issuer_create_credential_offer(acme['wallet'], acme['job_certificate_cred_def_id'])"
   ]
  },
  {
   "cell_type": "code",
   "execution_count": 42,
   "id": "5119f42b-db77-44a0-806f-5b2e0b135006",
   "metadata": {},
   "outputs": [],
   "source": [
    "# logger.info(\"\\\"Acme\\\" -> Send \\\"Job-Certificate\\\" Credential Offer to Alice\")"
   ]
  },
  {
   "cell_type": "code",
   "execution_count": 43,
   "id": "dd921d54-418a-47ef-bf02-134494690ed0",
   "metadata": {},
   "outputs": [],
   "source": [
    "alice['job_certificate_cred_offer'] = acme['job_certificate_cred_offer']\n",
    "job_certificate_cred_offer_object = json.loads(alice['job_certificate_cred_offer'])"
   ]
  },
  {
   "cell_type": "code",
   "execution_count": 44,
   "id": "ec9f4dd4-f0e2-4d3c-b4c5-adee332a7e8b",
   "metadata": {},
   "outputs": [],
   "source": [
    "# logger.info(\"\\\"Alice\\\" -> Get \\\"Acme Job-Certificate\\\" Credential Definition from Ledger\")"
   ]
  },
  {
   "cell_type": "code",
   "execution_count": 45,
   "id": "beacf59a-a4cd-45c5-a438-e4db0950eb7b",
   "metadata": {},
   "outputs": [],
   "source": [
    "(alice['acme_job_certificate_cred_def_id'], alice['acme_job_certificate_cred_def']) = \\\n",
    "    await get_cred_def(alice['pool'], alice['did'], job_certificate_cred_offer_object['cred_def_id'])"
   ]
  },
  {
   "cell_type": "code",
   "execution_count": 46,
   "id": "301edc15-b0f2-46fa-8b46-5ab7e1cdceb8",
   "metadata": {},
   "outputs": [],
   "source": [
    "# logger.info(\"\\\"Alice\\\" -> Create and store in Wallet \\\"Job-Certificate\\\" Credential Request for Acme\")"
   ]
  },
  {
   "cell_type": "code",
   "execution_count": 47,
   "id": "fa79188a-4bf6-4b18-a8c0-21a964d18321",
   "metadata": {},
   "outputs": [],
   "source": [
    "(alice['job_certificate_cred_request'], alice['job_certificate_cred_request_metadata']) = \\\n",
    "    await anoncreds.prover_create_credential_req(alice['wallet'], alice['did'],\n",
    "                                                    alice['job_certificate_cred_offer'],\n",
    "                                                    alice['acme_job_certificate_cred_def'], alice['master_secret_id'])"
   ]
  },
  {
   "cell_type": "code",
   "execution_count": 48,
   "id": "2f3efc23-eb43-4ac2-a062-24a9679b579f",
   "metadata": {},
   "outputs": [],
   "source": [
    "# logger.info(\"\\\"Alice\\\" -> Send \\\"Job-Certificate\\\" Credential Request to Acme\")"
   ]
  },
  {
   "cell_type": "code",
   "execution_count": 49,
   "id": "0e8a393b-d507-4660-955b-3380161995b9",
   "metadata": {},
   "outputs": [],
   "source": [
    "alice['job_certificate_cred_values'] = json.dumps({\n",
    "    \"first_name\": {\"raw\": \"Alice\", \"encoded\": \"245712572474217942457235975012103335\"},\n",
    "    \"last_name\": {\"raw\": \"Garcia\", \"encoded\": \"312643218496194691632153761283356127\"},\n",
    "    \"employee_status\": {\"raw\": \"Permanent\", \"encoded\": \"2143135425425143112321314321\"},\n",
    "    \"salary\": {\"raw\": \"2400\", \"encoded\": \"2400\"},\n",
    "    \"experience\": {\"raw\": \"10\", \"encoded\": \"10\"}\n",
    "})\n",
    "acme['job_certificate_cred_request'] = alice['job_certificate_cred_request']\n",
    "acme['job_certificate_cred_values'] = alice['job_certificate_cred_values']"
   ]
  },
  {
   "cell_type": "code",
   "execution_count": 50,
   "id": "e47dac0f-d16d-401c-89a6-968646bc6124",
   "metadata": {},
   "outputs": [],
   "source": [
    "# logger.info(\"\\\"Acme\\\" -> Create \\\"Job-Certificate\\\" Credential for Alice\")"
   ]
  },
  {
   "cell_type": "code",
   "execution_count": 51,
   "id": "73a4877b-d28a-4984-91d4-189c4f257eca",
   "metadata": {},
   "outputs": [],
   "source": [
    "acme['blob_storage_reader_cfg_handle'] = await blob_storage.open_reader('default', acme['tails_writer_config'])\n",
    "acme['job_certificate_cred'], acme['job_certificate_cred_rev_id'], acme['alice_cert_rev_reg_delta'] = \\\n",
    "    await anoncreds.issuer_create_credential(acme['wallet'], acme['job_certificate_cred_offer'],\n",
    "                                                acme['job_certificate_cred_request'],\n",
    "                                                acme['job_certificate_cred_values'],\n",
    "                                                acme['revoc_reg_id'],\n",
    "                                                acme['blob_storage_reader_cfg_handle'])"
   ]
  },
  {
   "cell_type": "code",
   "execution_count": 52,
   "id": "febcffb4-d33f-4d84-b126-b4354b154110",
   "metadata": {},
   "outputs": [],
   "source": [
    "# logger.info(\"\\\"Acme\\\" -> Post Revocation Registry Delta to Ledger\")"
   ]
  },
  {
   "cell_type": "code",
   "execution_count": 53,
   "id": "1beba660-4a37-4a1b-9fd9-96067ea8d3be",
   "metadata": {},
   "outputs": [
    {
     "name": "stdout",
     "output_type": "stream",
     "text": [
      "\n"
     ]
    }
   ],
   "source": [
    "acme['revoc_reg_entry_req'] = \\\n",
    "    await ledger.build_revoc_reg_entry_request(acme['did'], acme['revoc_reg_id'], 'CL_ACCUM',\n",
    "                                                acme['alice_cert_rev_reg_delta'])\n",
    "await ledger.sign_and_submit_request(acme['pool'], acme['wallet'], acme['did'], acme['revoc_reg_entry_req'])\n",
    "print()"
   ]
  },
  {
   "cell_type": "code",
   "execution_count": 54,
   "id": "506e41a0-d1ee-4868-b6d4-7b31a451f316",
   "metadata": {},
   "outputs": [],
   "source": [
    "# logger.info(\"\\\"Acme\\\" -> Send \\\"Job-Certificate\\\" Credential to Alice\")"
   ]
  },
  {
   "cell_type": "code",
   "execution_count": 55,
   "id": "b81bd065-9b18-4ca7-adf3-db47549d27fc",
   "metadata": {},
   "outputs": [],
   "source": [
    "alice['job_certificate_cred'] = acme['job_certificate_cred']\n",
    "job_certificate_cred_object = json.loads(alice['job_certificate_cred'])"
   ]
  },
  {
   "cell_type": "code",
   "execution_count": 56,
   "id": "5eaf5d39-097a-49a8-9cf8-1470677b8ef6",
   "metadata": {},
   "outputs": [],
   "source": [
    "# logger.info(\"\\\"Alice\\\" -> Gets RevocationRegistryDefinition for \\\"Job-Certificate\\\" Credential from Acme\")"
   ]
  },
  {
   "cell_type": "code",
   "execution_count": 57,
   "id": "fc2bbad0-0f50-4c22-b8f3-7f728cfd58b6",
   "metadata": {},
   "outputs": [],
   "source": [
    "alice['acme_revoc_reg_des_req'] = \\\n",
    "    await ledger.build_get_revoc_reg_def_request(alice['did'],\n",
    "                                                    job_certificate_cred_object['rev_reg_id'])\n",
    "alice['acme_revoc_reg_des_resp'] = \\\n",
    "    await ensure_previous_request_applied(alice['pool'], alice['acme_revoc_reg_des_req'],\n",
    "                                            lambda response: response['result']['data'] is not None)\n",
    "(alice['acme_revoc_reg_def_id'], alice['acme_revoc_reg_def_json']) = \\\n",
    "    await ledger.parse_get_revoc_reg_def_response(alice['acme_revoc_reg_des_resp'])"
   ]
  },
  {
   "cell_type": "code",
   "execution_count": 58,
   "id": "bef54f44-9625-4f6c-b746-d9515eb52655",
   "metadata": {},
   "outputs": [],
   "source": [
    "# logger.info(\"\\\"Alice\\\" -> Store \\\"Job-Certificate\\\" Credential\")"
   ]
  },
  {
   "cell_type": "code",
   "execution_count": 59,
   "id": "701c8d25-5bcc-4201-8a89-0a2858d4d459",
   "metadata": {
    "tags": []
   },
   "outputs": [
    {
     "name": "stdout",
     "output_type": "stream",
     "text": [
      "\n"
     ]
    }
   ],
   "source": [
    "await anoncreds.prover_store_credential(alice['wallet'], None, alice['job_certificate_cred_request_metadata'],\n",
    "                                        alice['job_certificate_cred'],\n",
    "                                        alice['acme_job_certificate_cred_def'], alice['acme_revoc_reg_def_json'])\n",
    "print()"
   ]
  },
  {
   "cell_type": "markdown",
   "id": "06bd03b5-929c-4f8d-bfb1-7b423f431985",
   "metadata": {
    "tags": []
   },
   "source": [
    "<br><br><br><hr>\n",
    "\n",
    "# 12. Apply for the loan with Thrift - Job-Certificate proving"
   ]
  },
  {
   "cell_type": "code",
   "execution_count": 60,
   "id": "67762eb6-a55d-4598-9486-bcea94916f8f",
   "metadata": {},
   "outputs": [],
   "source": [
    "# logger.info(\"\\\"Thrift\\\" -> Create \\\"Loan-Application-Basic\\\" Proof Request\")\n",
    "nonce = await anoncreds.generate_nonce()\n",
    "thrift['apply_loan_proof_request'] = json.dumps({\n",
    "    'nonce': nonce,\n",
    "    'name': 'Loan-Application-Basic',\n",
    "    'version': '0.1',\n",
    "    'requested_attributes': {\n",
    "        'attr1_referent': {\n",
    "            'name': 'employee_status',\n",
    "            'restrictions': [{'cred_def_id': acme['job_certificate_cred_def_id']}]\n",
    "        }\n",
    "    },\n",
    "    'requested_predicates': {\n",
    "        'predicate1_referent': {\n",
    "            'name': 'salary',\n",
    "            'p_type': '>=',\n",
    "            'p_value': 2000,\n",
    "            'restrictions': [{'cred_def_id': acme['job_certificate_cred_def_id']}]\n",
    "        },\n",
    "        'predicate2_referent': {\n",
    "            'name': 'experience',\n",
    "            'p_type': '>=',\n",
    "            'p_value': 1,\n",
    "            'restrictions': [{'cred_def_id': acme['job_certificate_cred_def_id']}]\n",
    "        }\n",
    "    },\n",
    "    'non_revoked': {'to': int(time.time())}\n",
    "})"
   ]
  },
  {
   "cell_type": "code",
   "execution_count": 61,
   "id": "ab052bff-b509-45ac-8a01-53407500232a",
   "metadata": {},
   "outputs": [],
   "source": [
    "# logger.info(\"\\\"Thrift\\\" -> Send \\\"Loan-Application-Basic\\\" Proof Request to Alice\")\n",
    "alice['apply_loan_proof_request'] = thrift['apply_loan_proof_request']"
   ]
  },
  {
   "cell_type": "code",
   "execution_count": 62,
   "id": "d3d16e80-0319-4fa2-8041-da9ceef02875",
   "metadata": {},
   "outputs": [],
   "source": [
    "# logger.info(\"\\\"Alice\\\" -> Get credentials for \\\"Loan-Application-Basic\\\" Proof Request\")\n",
    "search_for_apply_loan_proof_request = \\\n",
    "    await anoncreds.prover_search_credentials_for_proof_req(alice['wallet'],\n",
    "                                                            alice['apply_loan_proof_request'], None)\n",
    "\n",
    "cred_for_attr1 = await get_credential_for_referent(search_for_apply_loan_proof_request, 'attr1_referent')\n",
    "cred_for_predicate1 = await get_credential_for_referent(search_for_apply_loan_proof_request,\n",
    "                                                        'predicate1_referent')\n",
    "cred_for_predicate2 = await get_credential_for_referent(search_for_apply_loan_proof_request,\n",
    "                                                        'predicate2_referent')\n",
    "\n",
    "await anoncreds.prover_close_credentials_search_for_proof_req(search_for_apply_loan_proof_request)\n",
    "\n",
    "alice['creds_for_apply_loan_proof'] = {cred_for_attr1['referent']: cred_for_attr1,\n",
    "                                        cred_for_predicate1['referent']: cred_for_predicate1,\n",
    "                                        cred_for_predicate2['referent']: cred_for_predicate2}\n",
    "\n",
    "requested_timestamp = int(json.loads(thrift['apply_loan_proof_request'])['non_revoked']['to'])\n",
    "alice['schemas_for_loan_app'], alice['cred_defs_for_loan_app'], alice['revoc_states_for_loan_app'] = \\\n",
    "    await prover_get_entities_from_ledger(alice['pool'], alice['did'],\n",
    "                                            alice['creds_for_apply_loan_proof'],\n",
    "                                            alice['name'], None, requested_timestamp)"
   ]
  },
  {
   "cell_type": "code",
   "execution_count": 63,
   "id": "443b0a39-f130-4183-b170-49f4a74f2d6a",
   "metadata": {},
   "outputs": [],
   "source": [
    "# logger.info(\"\\\"Alice\\\" -> Create \\\"Loan-Application-Basic\\\" Proof\")\n",
    "revoc_states_for_loan_app = json.loads(alice['revoc_states_for_loan_app'])\n",
    "timestamp_for_attr1 = get_timestamp_for_attribute(cred_for_attr1, revoc_states_for_loan_app)\n",
    "timestamp_for_predicate1 = get_timestamp_for_attribute(cred_for_predicate1, revoc_states_for_loan_app)\n",
    "timestamp_for_predicate2 = get_timestamp_for_attribute(cred_for_predicate2, revoc_states_for_loan_app)\n",
    "alice['apply_loan_requested_creds'] = json.dumps({\n",
    "    'self_attested_attributes': {},\n",
    "    'requested_attributes': {\n",
    "        'attr1_referent': {'cred_id': cred_for_attr1['referent'], 'revealed': True,\n",
    "                            'timestamp': timestamp_for_attr1}\n",
    "    },\n",
    "    'requested_predicates': {\n",
    "        'predicate1_referent': {'cred_id': cred_for_predicate1['referent'],\n",
    "                                'timestamp': timestamp_for_predicate1},\n",
    "        'predicate2_referent': {'cred_id': cred_for_predicate2['referent'],\n",
    "                                'timestamp': timestamp_for_predicate2}\n",
    "    }\n",
    "})\n",
    "alice['apply_loan_proof'] = \\\n",
    "    await anoncreds.prover_create_proof(alice['wallet'], alice['apply_loan_proof_request'],\n",
    "                                        alice['apply_loan_requested_creds'], alice['master_secret_id'],\n",
    "                                        alice['schemas_for_loan_app'], alice['cred_defs_for_loan_app'],\n",
    "                                        alice['revoc_states_for_loan_app'])"
   ]
  },
  {
   "cell_type": "code",
   "execution_count": 64,
   "id": "8a172a3d-5457-4272-90b3-bcfbb9c82056",
   "metadata": {},
   "outputs": [],
   "source": [
    "# logger.info(\"\\\"Alice\\\" -> Send \\\"Loan-Application-Basic\\\" Proof to Thrift\")\n",
    "thrift['apply_loan_proof'] = alice['apply_loan_proof']\n",
    "apply_loan_proof_object = json.loads(thrift['apply_loan_proof'])"
   ]
  },
  {
   "cell_type": "code",
   "execution_count": 65,
   "id": "11e9ef79-9a89-41fe-96b4-50a9eec10dc2",
   "metadata": {},
   "outputs": [],
   "source": [
    "# logger.info(\"\\\"Thrift\\\" -> Get Schemas, Credential Definitions and Revocation Registries from Ledger required for Proof verifying\")\n",
    "\n",
    "thrift['schemas_for_loan_app'], thrift['cred_defs_for_loan_app'], thrift['revoc_defs_for_loan_app'], \\\n",
    "thrift['revoc_regs_for_loan_app'] = \\\n",
    "    await verifier_get_entities_from_ledger(thrift['pool'], thrift['did'],\n",
    "                                            apply_loan_proof_object['identifiers'],\n",
    "                                            thrift['name'], requested_timestamp)"
   ]
  },
  {
   "cell_type": "code",
   "execution_count": 66,
   "id": "45058bda-0898-4b64-b578-dbc385cca3f2",
   "metadata": {},
   "outputs": [],
   "source": [
    "# logger.info(\"\\\"Thrift\\\" -> Verify \\\"Loan-Application-Basic\\\" Proof from Alice\")\n",
    "assert 'Permanent' == apply_loan_proof_object['requested_proof']['revealed_attrs']['attr1_referent']['raw']\n",
    "\n",
    "assert await anoncreds.verifier_verify_proof(thrift['apply_loan_proof_request'],\n",
    "                                                thrift['apply_loan_proof'],\n",
    "                                                thrift['schemas_for_loan_app'],\n",
    "                                                thrift['cred_defs_for_loan_app'],\n",
    "                                                thrift['revoc_defs_for_loan_app'],\n",
    "                                                thrift['revoc_regs_for_loan_app'])"
   ]
  },
  {
   "cell_type": "markdown",
   "id": "af5c9986-2e5a-4311-a94a-da2bc0ee64e6",
   "metadata": {
    "tags": []
   },
   "source": [
    "<br><br><br><hr>\n",
    "\n",
    "# 13. Apply for the loan with Thrift - Transcript and Job-Certificate proving"
   ]
  },
  {
   "cell_type": "code",
   "execution_count": 67,
   "id": "9074342c-0e53-423a-9b73-bae90a746e08",
   "metadata": {},
   "outputs": [],
   "source": [
    "# logger.info(\"\\\"Thrift\\\" -> Create \\\"Loan-Application-KYC\\\" Proof Request\")\n",
    "nonce = await anoncreds.generate_nonce()\n",
    "thrift['apply_loan_kyc_proof_request'] = json.dumps({\n",
    "    'nonce': nonce,\n",
    "    'name': 'Loan-Application-KYC',\n",
    "    'version': '0.1',\n",
    "    'requested_attributes': {\n",
    "        'attr1_referent': {'name': 'first_name'},\n",
    "        'attr2_referent': {'name': 'last_name'},\n",
    "        'attr3_referent': {'name': 'ssn'}\n",
    "    },\n",
    "    'requested_predicates': {}\n",
    "})"
   ]
  },
  {
   "cell_type": "code",
   "execution_count": 68,
   "id": "905a5b2d-40b7-4c33-a163-6b9686f376b9",
   "metadata": {},
   "outputs": [],
   "source": [
    "# logger.info(\"\\\"Thrift\\\" -> Send \\\"Loan-Application-KYC\\\" Proof Request to Alice\")\n",
    "alice['apply_loan_kyc_proof_request'] = thrift['apply_loan_kyc_proof_request']"
   ]
  },
  {
   "cell_type": "code",
   "execution_count": 69,
   "id": "8d416d2f-a96e-46f5-b68f-2cd8b30c1d76",
   "metadata": {},
   "outputs": [],
   "source": [
    "# logger.info(\"\\\"Alice\\\" -> Get credentials for \\\"Loan-Application-KYC\\\" Proof Request\")\n",
    "\n",
    "search_for_apply_loan_kyc_proof_request = \\\n",
    "    await anoncreds.prover_search_credentials_for_proof_req(alice['wallet'],\n",
    "                                                            alice['apply_loan_kyc_proof_request'], None)\n",
    "\n",
    "cred_for_attr1 = await get_credential_for_referent(search_for_apply_loan_kyc_proof_request, 'attr1_referent')\n",
    "cred_for_attr2 = await get_credential_for_referent(search_for_apply_loan_kyc_proof_request, 'attr2_referent')\n",
    "cred_for_attr3 = await get_credential_for_referent(search_for_apply_loan_kyc_proof_request, 'attr3_referent')\n",
    "\n",
    "await anoncreds.prover_close_credentials_search_for_proof_req(search_for_apply_loan_kyc_proof_request)\n",
    "\n",
    "alice['creds_for_apply_loan_kyc_proof'] = {cred_for_attr1['referent']: cred_for_attr1,\n",
    "                                            cred_for_attr2['referent']: cred_for_attr2,\n",
    "                                            cred_for_attr3['referent']: cred_for_attr3}\n",
    "\n",
    "alice['schemas_for_loan_kyc_app'], alice['cred_defs_for_loan_kyc_app'], alice['revoc_states_for_loan_kyc_app'] = \\\n",
    "    await prover_get_entities_from_ledger(alice['pool'], alice['did'],\n",
    "                                            alice['creds_for_apply_loan_kyc_proof'], alice['name'], )"
   ]
  },
  {
   "cell_type": "code",
   "execution_count": 70,
   "id": "e2b6a22d-a8a4-414b-b7f0-77b735511b9f",
   "metadata": {},
   "outputs": [],
   "source": [
    "# logger.info(\"\\\"Alice\\\" -> Create \\\"Loan-Application-KYC\\\" Proof\")\n",
    "revoc_states_for_loan_app = json.loads(alice['revoc_states_for_loan_kyc_app'])\n",
    "timestamp_for_attr1 = get_timestamp_for_attribute(cred_for_attr1, revoc_states_for_loan_app)\n",
    "timestamp_for_attr2 = get_timestamp_for_attribute(cred_for_attr2, revoc_states_for_loan_app)\n",
    "timestamp_for_attr3 = get_timestamp_for_attribute(cred_for_attr3, revoc_states_for_loan_app)\n",
    "alice['apply_loan_kyc_requested_creds'] = json.dumps({\n",
    "    'self_attested_attributes': {},\n",
    "    'requested_attributes': {\n",
    "        'attr1_referent': {'cred_id': cred_for_attr1['referent'], 'revealed': True,\n",
    "                            'timestamp': timestamp_for_attr1},\n",
    "        'attr2_referent': {'cred_id': cred_for_attr2['referent'], 'revealed': True,\n",
    "                            'timestamp': timestamp_for_attr2},\n",
    "        'attr3_referent': {'cred_id': cred_for_attr3['referent'], 'revealed': True,\n",
    "                            'timestamp': timestamp_for_attr3}\n",
    "    },\n",
    "    'requested_predicates': {}\n",
    "})\n",
    "\n",
    "alice['apply_loan_kyc_proof'] = \\\n",
    "    await anoncreds.prover_create_proof(alice['wallet'], alice['apply_loan_kyc_proof_request'],\n",
    "                                        alice['apply_loan_kyc_requested_creds'], alice['master_secret_id'],\n",
    "                                        alice['schemas_for_loan_kyc_app'], alice['cred_defs_for_loan_kyc_app'],\n",
    "                                        alice['revoc_states_for_loan_kyc_app'])"
   ]
  },
  {
   "cell_type": "code",
   "execution_count": 71,
   "id": "02fafd9b-2b4b-4a21-bcbf-e13be6291399",
   "metadata": {},
   "outputs": [],
   "source": [
    "# logger.info(\"\\\"Alice\\\" -> Send \\\"Loan-Application-KYC\\\" Proof to Thrift\")\n",
    "thrift['apply_loan_kyc_proof'] = alice['apply_loan_kyc_proof']\n",
    "apply_loan_kyc_proof_object = json.loads(thrift['apply_loan_kyc_proof'])"
   ]
  },
  {
   "cell_type": "code",
   "execution_count": 72,
   "id": "a21964a3-0791-4ffe-bc16-bf5766d7c574",
   "metadata": {},
   "outputs": [],
   "source": [
    "# logger.info(\"\\\"Thrift\\\" -> Get Schemas, Credential Definitions and Revocation Registries from Ledger required for Proof verifying\")\n",
    "\n",
    "thrift['schemas_for_loan_kyc_app'], thrift['cred_defs_for_loan_kyc_app'], thrift['revoc_defs_for_loan_kyc_app'], \\\n",
    "thrift['revoc_regs_for_loan_kyc_app'] = \\\n",
    "    await verifier_get_entities_from_ledger(thrift['pool'], thrift['did'],\n",
    "                                            apply_loan_kyc_proof_object['identifiers'], thrift['name'])"
   ]
  },
  {
   "cell_type": "code",
   "execution_count": 73,
   "id": "1f389e47-6f03-4b57-8bf6-b91f9a99f427",
   "metadata": {},
   "outputs": [],
   "source": [
    "# logger.info(\"\\\"Thrift\\\" -> Verify \\\"Loan-Application-KYC\\\" Proof from Alice\")\n",
    "assert 'Alice' == \\\n",
    "        apply_loan_kyc_proof_object['requested_proof']['revealed_attrs']['attr1_referent']['raw']\n",
    "assert 'Garcia' == \\\n",
    "        apply_loan_kyc_proof_object['requested_proof']['revealed_attrs']['attr2_referent']['raw']\n",
    "assert '123-45-6789' == \\\n",
    "        apply_loan_kyc_proof_object['requested_proof']['revealed_attrs']['attr3_referent']['raw']\n",
    "\n",
    "assert await anoncreds.verifier_verify_proof(thrift['apply_loan_kyc_proof_request'],\n",
    "                                                thrift['apply_loan_kyc_proof'],\n",
    "                                                thrift['schemas_for_loan_kyc_app'],\n",
    "                                                thrift['cred_defs_for_loan_kyc_app'],\n",
    "                                                thrift['revoc_defs_for_loan_kyc_app'],\n",
    "                                                thrift['revoc_regs_for_loan_kyc_app'])"
   ]
  },
  {
   "cell_type": "markdown",
   "id": "e8bbaad9-fbdd-4cc4-87dc-cb473309ce83",
   "metadata": {
    "tags": []
   },
   "source": [
    "<br><br><br><hr>\n",
    "\n",
    "# 14. Credential revocation - Acme revokes Alice's Job-Certificate"
   ]
  },
  {
   "cell_type": "code",
   "execution_count": 74,
   "id": "28442d1b-03d0-4d3f-bbc3-0ad4c01d5f6d",
   "metadata": {},
   "outputs": [],
   "source": [
    "# logger.info(\"\\\"Acme\\\" - Revoke  credential\")\n",
    "acme['alice_cert_rev_reg_delta'] = \\\n",
    "    await anoncreds.issuer_revoke_credential(acme['wallet'],\n",
    "                                                acme['blob_storage_reader_cfg_handle'],\n",
    "                                                acme['revoc_reg_id'],\n",
    "                                                acme['job_certificate_cred_rev_id'])"
   ]
  },
  {
   "cell_type": "code",
   "execution_count": 75,
   "id": "8a8bbca5-3533-4253-9a03-ea6c4864cbcf",
   "metadata": {},
   "outputs": [
    {
     "name": "stdout",
     "output_type": "stream",
     "text": [
      "\n"
     ]
    }
   ],
   "source": [
    "# logger.info(\"\\\"Acme\\\" - Post RevocationRegistryDelta to Ledger\")\n",
    "acme['revoc_reg_entry_req'] = \\\n",
    "    await ledger.build_revoc_reg_entry_request(acme['did'], acme['revoc_reg_id'], 'CL_ACCUM',\n",
    "                                                acme['alice_cert_rev_reg_delta'])\n",
    "await ledger.sign_and_submit_request(acme['pool'], acme['wallet'], acme['did'], acme['revoc_reg_entry_req'])\n",
    "print()"
   ]
  },
  {
   "cell_type": "markdown",
   "id": "729eb701-c0a2-469e-8fa6-c43f6c203bf9",
   "metadata": {
    "tags": []
   },
   "source": [
    "<br><br><br><hr>\n",
    "\n",
    "# 15. Apply for the loan with Thrift - Job-Certificate proving (After Revoke)"
   ]
  },
  {
   "cell_type": "code",
   "execution_count": 76,
   "id": "de3b010a-326a-4bac-b7c6-a102b2073fe2",
   "metadata": {},
   "outputs": [],
   "source": [
    "# logger.info(\"\\\"Thrift\\\" -> Create \\\"Loan-Application-Basic\\\" Proof Request\")\n",
    "nonce = await anoncreds.generate_nonce()\n",
    "thrift['apply_loan_proof_request'] = json.dumps({\n",
    "    'nonce': nonce,\n",
    "    'name': 'Loan-Application-Basic',\n",
    "    'version': '0.1',\n",
    "    'requested_attributes': {\n",
    "        'attr1_referent': {\n",
    "            'name': 'employee_status',\n",
    "            'restrictions': [{'cred_def_id': acme['job_certificate_cred_def_id']}]\n",
    "        }\n",
    "    },\n",
    "    'requested_predicates': {\n",
    "        'predicate1_referent': {\n",
    "            'name': 'salary',\n",
    "            'p_type': '>=',\n",
    "            'p_value': 2000,\n",
    "            'restrictions': [{'cred_def_id': acme['job_certificate_cred_def_id']}]\n",
    "        },\n",
    "        'predicate2_referent': {\n",
    "            'name': 'experience',\n",
    "            'p_type': '>=',\n",
    "            'p_value': 1,\n",
    "            'restrictions': [{'cred_def_id': acme['job_certificate_cred_def_id']}]\n",
    "        }\n",
    "    },\n",
    "    'non_revoked': {'to': int(time.time())}\n",
    "})"
   ]
  },
  {
   "cell_type": "code",
   "execution_count": 77,
   "id": "cbd3507e-1a89-4e22-bb0d-09ab414366ee",
   "metadata": {},
   "outputs": [],
   "source": [
    "# logger.info(\"\\\"Thrift\\\" -> Send \\\"Loan-Application-Basic\\\" Proof Request to Alice\")\n",
    "alice['apply_loan_proof_request'] = thrift['apply_loan_proof_request']"
   ]
  },
  {
   "cell_type": "code",
   "execution_count": 78,
   "id": "7ed46650-107d-477b-944b-8a1d66d813c2",
   "metadata": {},
   "outputs": [],
   "source": [
    "# logger.info(\"\\\"Alice\\\" -> Get credentials for \\\"Loan-Application-Basic\\\" Proof Request\")\n",
    "search_for_apply_loan_proof_request = \\\n",
    "    await anoncreds.prover_search_credentials_for_proof_req(alice['wallet'],\n",
    "                                                            alice['apply_loan_proof_request'], None)\n",
    "\n",
    "cred_for_attr1 = await get_credential_for_referent(search_for_apply_loan_proof_request, 'attr1_referent')\n",
    "cred_for_predicate1 = await get_credential_for_referent(search_for_apply_loan_proof_request,\n",
    "                                                        'predicate1_referent')\n",
    "cred_for_predicate2 = await get_credential_for_referent(search_for_apply_loan_proof_request,\n",
    "                                                        'predicate2_referent')\n",
    "\n",
    "await anoncreds.prover_close_credentials_search_for_proof_req(search_for_apply_loan_proof_request)\n",
    "\n",
    "alice['creds_for_apply_loan_proof'] = {cred_for_attr1['referent']: cred_for_attr1,\n",
    "                                        cred_for_predicate1['referent']: cred_for_predicate1,\n",
    "                                        cred_for_predicate2['referent']: cred_for_predicate2}\n",
    "\n",
    "requested_timestamp = int(json.loads(thrift['apply_loan_proof_request'])['non_revoked']['to'])\n",
    "alice['schemas_for_loan_app'], alice['cred_defs_for_loan_app'], alice['revoc_states_for_loan_app'] = \\\n",
    "    await prover_get_entities_from_ledger(alice['pool'], alice['did'],\n",
    "                                            alice['creds_for_apply_loan_proof'],\n",
    "                                            alice['name'], None, requested_timestamp)"
   ]
  },
  {
   "cell_type": "code",
   "execution_count": 79,
   "id": "c0d036fc-5832-446f-8239-f262227af68d",
   "metadata": {},
   "outputs": [],
   "source": [
    "# logger.info(\"\\\"Alice\\\" -> Create \\\"Loan-Application-Basic\\\" Proof\")\n",
    "revoc_states_for_loan_app = json.loads(alice['revoc_states_for_loan_app'])\n",
    "timestamp_for_attr1 = get_timestamp_for_attribute(cred_for_attr1, revoc_states_for_loan_app)\n",
    "timestamp_for_predicate1 = get_timestamp_for_attribute(cred_for_predicate1, revoc_states_for_loan_app)\n",
    "timestamp_for_predicate2 = get_timestamp_for_attribute(cred_for_predicate2, revoc_states_for_loan_app)\n",
    "alice['apply_loan_requested_creds'] = json.dumps({\n",
    "    'self_attested_attributes': {},\n",
    "    'requested_attributes': {\n",
    "        'attr1_referent': {'cred_id': cred_for_attr1['referent'], 'revealed': True,\n",
    "                            'timestamp': timestamp_for_attr1}\n",
    "    },\n",
    "    'requested_predicates': {\n",
    "        'predicate1_referent': {'cred_id': cred_for_predicate1['referent'],\n",
    "                                'timestamp': timestamp_for_predicate1},\n",
    "        'predicate2_referent': {'cred_id': cred_for_predicate2['referent'],\n",
    "                                'timestamp': timestamp_for_predicate2}\n",
    "    }\n",
    "})\n",
    "alice['apply_loan_proof'] = \\\n",
    "    await anoncreds.prover_create_proof(alice['wallet'], alice['apply_loan_proof_request'],\n",
    "                                        alice['apply_loan_requested_creds'], alice['master_secret_id'],\n",
    "                                        alice['schemas_for_loan_app'], alice['cred_defs_for_loan_app'],\n",
    "                                        alice['revoc_states_for_loan_app'])"
   ]
  },
  {
   "cell_type": "code",
   "execution_count": 80,
   "id": "c91f6ad0-dba3-4e3f-87b8-97d32ec17a76",
   "metadata": {},
   "outputs": [],
   "source": [
    "# logger.info(\"\\\"Alice\\\" -> Send \\\"Loan-Application-Basic\\\" Proof to Thrift\")\n",
    "thrift['apply_loan_proof'] = alice['apply_loan_proof']\n",
    "apply_loan_proof_object = json.loads(thrift['apply_loan_proof'])"
   ]
  },
  {
   "cell_type": "code",
   "execution_count": 81,
   "id": "9de73656-66d3-4899-8e92-355dde7b508b",
   "metadata": {},
   "outputs": [],
   "source": [
    "# logger.info(\"\\\"Thrift\\\" -> Get Schemas, Credential Definitions and Revocation Registries from Ledger required for Proof verifying\")\n",
    "\n",
    "thrift['schemas_for_loan_app'], thrift['cred_defs_for_loan_app'], thrift['revoc_defs_for_loan_app'], \\\n",
    "thrift['revoc_regs_for_loan_app'] = \\\n",
    "    await verifier_get_entities_from_ledger(thrift['pool'], thrift['did'],\n",
    "                                            apply_loan_proof_object['identifiers'],\n",
    "                                            thrift['name'], requested_timestamp)"
   ]
  },
  {
   "cell_type": "code",
   "execution_count": 82,
   "id": "d40c5e80-0f75-4edb-a778-7df9af91fee3",
   "metadata": {},
   "outputs": [
    {
     "ename": "AssertionError",
     "evalue": "",
     "output_type": "error",
     "traceback": [
      "\u001b[0;31m---------------------------------------------------------------------------\u001b[0m",
      "\u001b[0;31mAssertionError\u001b[0m                            Traceback (most recent call last)",
      "\u001b[0;32m<ipython-input-82-a175d9065bbd>\u001b[0m in \u001b[0;36masync-def-wrapper\u001b[0;34m()\u001b[0m\n",
      "\u001b[0;31mAssertionError\u001b[0m: "
     ]
    }
   ],
   "source": [
    "# logger.info(\"\\\"Thrift\\\" -> Verify \\\"Loan-Application-Basic\\\" Proof from Alice\")\n",
    "assert 'Permanent' == apply_loan_proof_object['requested_proof']['revealed_attrs']['attr1_referent']['raw']\n",
    "\n",
    "assert await anoncreds.verifier_verify_proof(thrift['apply_loan_proof_request'],\n",
    "                                                thrift['apply_loan_proof'],\n",
    "                                                thrift['schemas_for_loan_app'],\n",
    "                                                thrift['cred_defs_for_loan_app'],\n",
    "                                                thrift['revoc_defs_for_loan_app'],\n",
    "                                                thrift['revoc_regs_for_loan_app'])"
   ]
  },
  {
   "cell_type": "markdown",
   "id": "20e90882-30f7-46f2-a7ef-038c136c74d2",
   "metadata": {
    "tags": []
   },
   "source": [
    "<br><br><br><hr>\n",
    "\n",
    "# 16. Finish"
   ]
  },
  {
   "cell_type": "code",
   "execution_count": 13,
   "id": "ebda558f-26a8-4f70-bb76-5238419b961d",
   "metadata": {},
   "outputs": [],
   "source": [
    "# logger.info(\" \\\"Sovrin Steward\\\" -> Close and Delete wallet\")\n",
    "await wallet.close_wallet(steward['wallet'])\n",
    "await wallet.delete_wallet(steward['wallet_config'], steward['wallet_credentials'])"
   ]
  },
  {
   "cell_type": "code",
   "execution_count": 14,
   "id": "9b64be06-5f3b-4836-986b-43fe9b07b781",
   "metadata": {},
   "outputs": [],
   "source": [
    "# logger.info(\"\\\"Government\\\" -> Close and Delete wallet\")\n",
    "await wallet.close_wallet(government['wallet'])\n",
    "await wallet.delete_wallet(government['wallet_config'],government['wallet_credentials'])"
   ]
  },
  {
   "cell_type": "code",
   "execution_count": 15,
   "id": "7ddbe331-7fb4-4c2a-beb8-882875bfa920",
   "metadata": {},
   "outputs": [
    {
     "ename": "NameError",
     "evalue": "name 'faber' is not defined",
     "output_type": "error",
     "traceback": [
      "\u001b[0;31m---------------------------------------------------------------------------\u001b[0m",
      "\u001b[0;31mNameError\u001b[0m                                 Traceback (most recent call last)",
      "\u001b[0;32m<ipython-input-15-0a06fb68f4ca>\u001b[0m in \u001b[0;36masync-def-wrapper\u001b[0;34m()\u001b[0m\n\u001b[1;32m      3\u001b[0m \u001b[0mawait\u001b[0m \u001b[0mwallet\u001b[0m\u001b[0;34m.\u001b[0m\u001b[0mdelete_wallet\u001b[0m\u001b[0;34m(\u001b[0m\u001b[0mfaber\u001b[0m\u001b[0;34m[\u001b[0m\u001b[0;34m'wallet_config'\u001b[0m\u001b[0;34m]\u001b[0m\u001b[0;34m,\u001b[0m \u001b[0mfaber\u001b[0m\u001b[0;34m[\u001b[0m\u001b[0;34m'wallet_credentials'\u001b[0m\u001b[0;34m]\u001b[0m\u001b[0;34m)\u001b[0m\u001b[0;34m\u001b[0m\u001b[0;34m\u001b[0m\u001b[0m\n",
      "\u001b[0;31mNameError\u001b[0m: name 'faber' is not defined"
     ]
    }
   ],
   "source": [
    "# logger.info(\"\\\"Faber\\\" -> Close and Delete wallet\")\n",
    "await wallet.close_wallet(faber['wallet'])\n",
    "await wallet.delete_wallet(faber['wallet_config'], faber['wallet_credentials'])"
   ]
  },
  {
   "cell_type": "code",
   "execution_count": 16,
   "id": "a4cc8e39-8f4b-45ba-af56-f9399997d502",
   "metadata": {},
   "outputs": [
    {
     "ename": "NameError",
     "evalue": "name 'acme' is not defined",
     "output_type": "error",
     "traceback": [
      "\u001b[0;31m---------------------------------------------------------------------------\u001b[0m",
      "\u001b[0;31mNameError\u001b[0m                                 Traceback (most recent call last)",
      "\u001b[0;32m<ipython-input-16-8525b34e671f>\u001b[0m in \u001b[0;36masync-def-wrapper\u001b[0;34m()\u001b[0m\n\u001b[1;32m      3\u001b[0m \u001b[0mawait\u001b[0m \u001b[0mwallet\u001b[0m\u001b[0;34m.\u001b[0m\u001b[0mdelete_wallet\u001b[0m\u001b[0;34m(\u001b[0m\u001b[0macme\u001b[0m\u001b[0;34m[\u001b[0m\u001b[0;34m'wallet_config'\u001b[0m\u001b[0;34m]\u001b[0m\u001b[0;34m,\u001b[0m \u001b[0macme\u001b[0m\u001b[0;34m[\u001b[0m\u001b[0;34m'wallet_credentials'\u001b[0m\u001b[0;34m]\u001b[0m\u001b[0;34m)\u001b[0m\u001b[0;34m\u001b[0m\u001b[0;34m\u001b[0m\u001b[0m\n",
      "\u001b[0;31mNameError\u001b[0m: name 'acme' is not defined"
     ]
    }
   ],
   "source": [
    "# logger.info(\"\\\"Acme\\\" -> Close and Delete wallet\")\n",
    "await wallet.close_wallet(acme['wallet'])\n",
    "await wallet.delete_wallet(acme['wallet_config'], acme['wallet_credentials'])"
   ]
  },
  {
   "cell_type": "code",
   "execution_count": 17,
   "id": "f47f348e-25dc-404a-88e0-b0c9839f0779",
   "metadata": {},
   "outputs": [
    {
     "ename": "NameError",
     "evalue": "name 'thrift' is not defined",
     "output_type": "error",
     "traceback": [
      "\u001b[0;31m---------------------------------------------------------------------------\u001b[0m",
      "\u001b[0;31mNameError\u001b[0m                                 Traceback (most recent call last)",
      "\u001b[0;32m<ipython-input-17-f8f326c5e714>\u001b[0m in \u001b[0;36masync-def-wrapper\u001b[0;34m()\u001b[0m\n\u001b[1;32m      3\u001b[0m \u001b[0mawait\u001b[0m \u001b[0mwallet\u001b[0m\u001b[0;34m.\u001b[0m\u001b[0mdelete_wallet\u001b[0m\u001b[0;34m(\u001b[0m\u001b[0mthrift\u001b[0m\u001b[0;34m[\u001b[0m\u001b[0;34m'wallet_config'\u001b[0m\u001b[0;34m]\u001b[0m\u001b[0;34m,\u001b[0m \u001b[0mthrift\u001b[0m\u001b[0;34m[\u001b[0m\u001b[0;34m'wallet_credentials'\u001b[0m\u001b[0;34m]\u001b[0m\u001b[0;34m)\u001b[0m\u001b[0;34m\u001b[0m\u001b[0;34m\u001b[0m\u001b[0m\n",
      "\u001b[0;31mNameError\u001b[0m: name 'thrift' is not defined"
     ]
    }
   ],
   "source": [
    "# logger.info(\"\\\"Thrift\\\" -> Close and Delete wallet\")\n",
    "await wallet.close_wallet(thrift['wallet'])\n",
    "await wallet.delete_wallet(thrift['wallet_config'], thrift['wallet_credentials'])"
   ]
  },
  {
   "cell_type": "code",
   "execution_count": 18,
   "id": "2cfd5eff-c5f3-4d40-ab90-96544bb12209",
   "metadata": {},
   "outputs": [
    {
     "ename": "NameError",
     "evalue": "name 'alice' is not defined",
     "output_type": "error",
     "traceback": [
      "\u001b[0;31m---------------------------------------------------------------------------\u001b[0m",
      "\u001b[0;31mNameError\u001b[0m                                 Traceback (most recent call last)",
      "\u001b[0;32m<ipython-input-18-c73ff07c9acf>\u001b[0m in \u001b[0;36masync-def-wrapper\u001b[0;34m()\u001b[0m\n\u001b[1;32m      3\u001b[0m \u001b[0mawait\u001b[0m \u001b[0mwallet\u001b[0m\u001b[0;34m.\u001b[0m\u001b[0mdelete_wallet\u001b[0m\u001b[0;34m(\u001b[0m\u001b[0malice\u001b[0m\u001b[0;34m[\u001b[0m\u001b[0;34m'wallet_config'\u001b[0m\u001b[0;34m]\u001b[0m\u001b[0;34m,\u001b[0m \u001b[0malice\u001b[0m\u001b[0;34m[\u001b[0m\u001b[0;34m'wallet_credentials'\u001b[0m\u001b[0;34m]\u001b[0m\u001b[0;34m)\u001b[0m\u001b[0;34m\u001b[0m\u001b[0;34m\u001b[0m\u001b[0m\n",
      "\u001b[0;31mNameError\u001b[0m: name 'alice' is not defined"
     ]
    }
   ],
   "source": [
    "# logger.info(\"\\\"Alice\\\" -> Close and Delete wallet\")\n",
    "await wallet.close_wallet(alice['wallet'])\n",
    "await wallet.delete_wallet(alice['wallet_config'], alice['wallet_credentials'])"
   ]
  },
  {
   "cell_type": "code",
   "execution_count": 19,
   "id": "c94a01b6-ab90-4d4c-95fb-9f541822170a",
   "metadata": {},
   "outputs": [],
   "source": [
    "# logger.info(\"Close and Delete pool\")\n",
    "await pool.close_pool_ledger(pool_['handle'])\n",
    "await pool.delete_pool_ledger_config(pool_['name'])"
   ]
  }
 ],
 "metadata": {
  "kernelspec": {
   "display_name": "Python 3",
   "language": "python",
   "name": "python3"
  },
  "language_info": {
   "codemirror_mode": {
    "name": "ipython",
    "version": 3
   },
   "file_extension": ".py",
   "mimetype": "text/x-python",
   "name": "python",
   "nbconvert_exporter": "python",
   "pygments_lexer": "ipython3",
   "version": "3.6.9"
  }
 },
 "nbformat": 4,
 "nbformat_minor": 5
}
