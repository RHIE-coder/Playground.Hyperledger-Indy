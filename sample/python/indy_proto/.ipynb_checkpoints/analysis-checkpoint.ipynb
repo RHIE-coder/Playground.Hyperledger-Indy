{
 "cells": [
  {
   "cell_type": "markdown",
   "id": "afd04524-e7de-488b-8f64-a42b2f1fad8f",
   "metadata": {},
   "source": [
    "# 1. 필요한 모듈 불러오기"
   ]
  },
  {
   "cell_type": "code",
   "execution_count": 1,
   "id": "494100c7-6795-4660-900c-9b4ec34eeaaf",
   "metadata": {},
   "outputs": [],
   "source": [
    "# Core Modules\n",
    "from indy import anoncreds, did, ledger, pool, wallet, blob_storage\n",
    "from indy.error import ErrorCode, IndyError\n",
    "import asyncio\n",
    "import time\n",
    "\n",
    "# Utils\n",
    "import json\n",
    "from os import environ\n",
    "from pathlib import Path\n",
    "from tempfile import gettempdir\n",
    "import sys\n",
    "from ctypes import *\n",
    "from os.path import dirname"
   ]
  },
  {
   "cell_type": "markdown",
   "id": "13d8823c-0eb9-4088-b41b-a0bd513bbc93",
   "metadata": {},
   "source": [
    "<br><br><br><hr>\n",
    "\n",
    "# 2. 유틸함수 및 주요 변수 선언"
   ]
  },
  {
   "cell_type": "code",
   "execution_count": 2,
   "id": "ae289ea6-94a0-4968-87db-c526d1906a44",
   "metadata": {},
   "outputs": [],
   "source": [
    "PROTOCOL_VERSION = 2\n",
    "\n",
    "def default_path_home() -> Path:\n",
    "    \"\"\"\n",
    "    @return : .indy_client path home \n",
    "    \n",
    "    [Description]:\n",
    "    indy 및 aries의 default 경로를 반환한다.\n",
    "    \"\"\"\n",
    "    return Path.home().joinpath(\".indy_client\")\n",
    "\n",
    "def tmp_path_home() -> Path:\n",
    "    \"\"\"\n",
    "    @return : 임시폴더안의 indy 경로 ( if linux /tmp/indy )\n",
    "    \n",
    "    [Description]:\n",
    "    테스트를 위한 임시폴더 경로를 만들어 반환한다.\n",
    "    \"\"\"\n",
    "    return Path(gettempdir()).joinpath(\"indy\")\n",
    "\n",
    "def local_indy_pool_genesis_txn_data(pool_ip : str = \"127.0.0.1\") -> str:\n",
    "    \"\"\"\n",
    "    @params pool_ip : pool ledger에 저장될 참여 노드 ip 주소\n",
    "    @return : genesis txn data\n",
    "    \n",
    "    [Description]:\n",
    "    indy-SDK SAMPLE 에서 제공하는 indy-node에서 정해진 indy_pool 도커 컨테이너에 접근하는 Genesis 데이터를 반환함\n",
    "    \"\"\"\n",
    "    #pool_ip = environ.get(\"TEST_POOL_IP\", \"127.0.0.1\")\n",
    "\n",
    "    return \"\\n\".join([\n",
    "        '{{\"reqSignature\":{{}},\"txn\":{{\"data\":{{\"data\":{{\"alias\":\"Node1\",\"blskey\":\"4N8aUNHSgjQVgkpm8nhNEfDf6txHznoYREg9kirmJrkivgL4oSEimFF6nsQ6M41QvhM2Z33nves5vfSn9n1UwNFJBYtWVnHYMATn76vLuL3zU88KyeAYcHfsih3He6UHcXDxcaecHVz6jhCYz1P2UZn2bDVruL5wXpehgBfBaLKm3Ba\",\"blskey_pop\":\"RahHYiCvoNCtPTrVtP7nMC5eTYrsUA8WjXbdhNc8debh1agE9bGiJxWBXYNFbnJXoXhWFMvyqhqhRoq737YQemH5ik9oL7R4NTTCz2LEZhkgLJzB3QRQqJyBNyv7acbdHrAT8nQ9UkLbaVL9NBpnWXBTw4LEMePaSHEw66RzPNdAX1\",\"client_ip\":\"{}\",\"client_port\":9702,\"node_ip\":\"{}\",\"node_port\":9701,\"services\":[\"VALIDATOR\"]}},\"dest\":\"Gw6pDLhcBcoQesN72qfotTgFa7cbuqZpkX3Xo6pLhPhv\"}},\"metadata\":{{\"from\":\"Th7MpTaRZVRYnPiabds81Y\"}},\"type\":\"0\"}},\"txnMetadata\":{{\"seqNo\":1,\"txnId\":\"fea82e10e894419fe2bea7d96296a6d46f50f93f9eeda954ec461b2ed2950b62\"}},\"ver\":\"1\"}}'.format(\n",
    "            pool_ip, pool_ip),\n",
    "        '{{\"reqSignature\":{{}},\"txn\":{{\"data\":{{\"data\":{{\"alias\":\"Node2\",\"blskey\":\"37rAPpXVoxzKhz7d9gkUe52XuXryuLXoM6P6LbWDB7LSbG62Lsb33sfG7zqS8TK1MXwuCHj1FKNzVpsnafmqLG1vXN88rt38mNFs9TENzm4QHdBzsvCuoBnPH7rpYYDo9DZNJePaDvRvqJKByCabubJz3XXKbEeshzpz4Ma5QYpJqjk\",\"blskey_pop\":\"Qr658mWZ2YC8JXGXwMDQTzuZCWF7NK9EwxphGmcBvCh6ybUuLxbG65nsX4JvD4SPNtkJ2w9ug1yLTj6fgmuDg41TgECXjLCij3RMsV8CwewBVgVN67wsA45DFWvqvLtu4rjNnE9JbdFTc1Z4WCPA3Xan44K1HoHAq9EVeaRYs8zoF5\",\"client_ip\":\"{}\",\"client_port\":9704,\"node_ip\":\"{}\",\"node_port\":9703,\"services\":[\"VALIDATOR\"]}},\"dest\":\"8ECVSk179mjsjKRLWiQtssMLgp6EPhWXtaYyStWPSGAb\"}},\"metadata\":{{\"from\":\"EbP4aYNeTHL6q385GuVpRV\"}},\"type\":\"0\"}},\"txnMetadata\":{{\"seqNo\":2,\"txnId\":\"1ac8aece2a18ced660fef8694b61aac3af08ba875ce3026a160acbc3a3af35fc\"}},\"ver\":\"1\"}}'.format(\n",
    "            pool_ip, pool_ip),\n",
    "        '{{\"reqSignature\":{{}},\"txn\":{{\"data\":{{\"data\":{{\"alias\":\"Node3\",\"blskey\":\"3WFpdbg7C5cnLYZwFZevJqhubkFALBfCBBok15GdrKMUhUjGsk3jV6QKj6MZgEubF7oqCafxNdkm7eswgA4sdKTRc82tLGzZBd6vNqU8dupzup6uYUf32KTHTPQbuUM8Yk4QFXjEf2Usu2TJcNkdgpyeUSX42u5LqdDDpNSWUK5deC5\",\"blskey_pop\":\"QwDeb2CkNSx6r8QC8vGQK3GRv7Yndn84TGNijX8YXHPiagXajyfTjoR87rXUu4G4QLk2cF8NNyqWiYMus1623dELWwx57rLCFqGh7N4ZRbGDRP4fnVcaKg1BcUxQ866Ven4gw8y4N56S5HzxXNBZtLYmhGHvDtk6PFkFwCvxYrNYjh\",\"client_ip\":\"{}\",\"client_port\":9706,\"node_ip\":\"{}\",\"node_port\":9705,\"services\":[\"VALIDATOR\"]}},\"dest\":\"DKVxG2fXXTU8yT5N7hGEbXB3dfdAnYv1JczDUHpmDxya\"}},\"metadata\":{{\"from\":\"4cU41vWW82ArfxJxHkzXPG\"}},\"type\":\"0\"}},\"txnMetadata\":{{\"seqNo\":3,\"txnId\":\"7e9f355dffa78ed24668f0e0e369fd8c224076571c51e2ea8be5f26479edebe4\"}},\"ver\":\"1\"}}'.format(\n",
    "            pool_ip, pool_ip),\n",
    "        '{{\"reqSignature\":{{}},\"txn\":{{\"data\":{{\"data\":{{\"alias\":\"Node4\",\"blskey\":\"2zN3bHM1m4rLz54MJHYSwvqzPchYp8jkHswveCLAEJVcX6Mm1wHQD1SkPYMzUDTZvWvhuE6VNAkK3KxVeEmsanSmvjVkReDeBEMxeDaayjcZjFGPydyey1qxBHmTvAnBKoPydvuTAqx5f7YNNRAdeLmUi99gERUU7TD8KfAa6MpQ9bw\",\"blskey_pop\":\"RPLagxaR5xdimFzwmzYnz4ZhWtYQEj8iR5ZU53T2gitPCyCHQneUn2Huc4oeLd2B2HzkGnjAff4hWTJT6C7qHYB1Mv2wU5iHHGFWkhnTX9WsEAbunJCV2qcaXScKj4tTfvdDKfLiVuU2av6hbsMztirRze7LvYBkRHV3tGwyCptsrP\",\"client_ip\":\"{}\",\"client_port\":9708,\"node_ip\":\"{}\",\"node_port\":9707,\"services\":[\"VALIDATOR\"]}},\"dest\":\"4PS3EDQ3dW1tci1Bp6543CfuuebjFrg36kLAUcskGfaA\"}},\"metadata\":{{\"from\":\"TWwCRQRZ2ZHMJFn9TzLp7W\"}},\"type\":\"0\"}},\"txnMetadata\":{{\"seqNo\":4,\"txnId\":\"aa5e817d7cc626170eca175822029339a444eb0ee8f0bd20d3b0b76e566fb008\"}},\"ver\":\"1\"}}'.format(\n",
    "            pool_ip, pool_ip)\n",
    "    ])\n",
    "\n",
    "def save_pool_genesis_txn_file(path : str, genesis_txn_data : str) -> None:\n",
    "    \"\"\"\n",
    "    @params path : genesis txn 데이터를 저장할 위치\n",
    "    @params genesis_txn_data : genesis txn 데이터\n",
    "    \n",
    "    [Description]:\n",
    "    genesis txn 데이터를 파일로 저장\n",
    "    \"\"\"\n",
    "    data = genesis_txn_data\n",
    "\n",
    "    path.parent.mkdir(parents=True, exist_ok=True)\n",
    "\n",
    "    with open(str(path), \"w+\") as f:\n",
    "        f.writelines(data)\n",
    "        \n",
    "async def ensure_previous_request_applied(pool_handle, checker_request, checker):\n",
    "    for _ in range(3):\n",
    "        response = json.loads(await ledger.submit_request(pool_handle, checker_request))\n",
    "        try:\n",
    "            if checker(response):\n",
    "                return json.dumps(response)\n",
    "        except TypeError:\n",
    "            pass"
   ]
  },
  {
   "cell_type": "markdown",
   "id": "eab101c4-54d6-4b5f-af36-82903e60a847",
   "metadata": {
    "tags": []
   },
   "source": [
    "<br><br><br><hr>\n",
    "\n",
    "# 3. Make Pool Ledger Handler"
   ]
  },
  {
   "cell_type": "code",
   "execution_count": 3,
   "id": "7e96fafe-5db6-4722-ba28-2cadda0466c9",
   "metadata": {},
   "outputs": [],
   "source": [
    "pool_ = dict()\n",
    "pool_['name'] = 'pool1'\n",
    "genesis_txn_save_path = tmp_path_home().joinpath(\"{}.txn\".format(pool_['name']))\n",
    "pool_['genesis_txn_path'] = genesis_txn_save_path\n",
    "pool_['config'] = json.dumps({\"genesis_txn\": str(pool_['genesis_txn_path'])}) # Path -> str\n",
    "pool_['genesis_txn_data'] = local_indy_pool_genesis_txn_data()\n",
    "save_pool_genesis_txn_file(pool_['genesis_txn_path'], pool_['genesis_txn_data'])\n",
    "\n",
    "await pool.set_protocol_version(PROTOCOL_VERSION)\n",
    "\n",
    "try:\n",
    "    await pool.create_pool_ledger_config(pool_['name'], pool_['config'])\n",
    "except IndyError as ex:\n",
    "    if ex.error_code == ErrorCode.PoolLedgerConfigAlreadyExistsError:\n",
    "        pass\n",
    "\n",
    "pool_['handle'] = await pool.open_pool_ledger(pool_['name'], None)"
   ]
  },
  {
   "cell_type": "markdown",
   "id": "24db61bb-8162-4aa5-aa02-e840bd32421d",
   "metadata": {
    "tags": []
   },
   "source": [
    "<br><br><br><hr>\n",
    "\n",
    "# 4. Set Steward Information and Create Wallet"
   ]
  },
  {
   "cell_type": "markdown",
   "id": "4bcd8cb0-fe90-4592-9678-409c5dc501c7",
   "metadata": {
    "tags": []
   },
   "source": [
    "## - Wallet 관련 함수 정의"
   ]
  },
  {
   "cell_type": "code",
   "execution_count": 4,
   "id": "be90eced-325e-4cc0-afc4-0fabf79ed6e2",
   "metadata": {},
   "outputs": [],
   "source": [
    "async def create_wallet(identity) -> int:\n",
    "    try:\n",
    "        await wallet.create_wallet(identity['wallet_config'], identity['wallet_credentials'])\n",
    "    except IndyError as ex:\n",
    "        if ex.error_code == ErrorCode.PoolLedgerConfigAlreadyExistsError:\n",
    "            pass\n",
    "    identity['wallet'] = await wallet.open_wallet(identity['wallet_config'],identity['wallet_credentials'])"
   ]
  },
  {
   "cell_type": "markdown",
   "id": "5b95c864-1040-4f12-be77-3eeeed4105d5",
   "metadata": {},
   "source": [
    "## - 지갑 생성"
   ]
  },
  {
   "cell_type": "code",
   "execution_count": 5,
   "id": "c98f281b-1949-4fcb-bf73-c3ee56005deb",
   "metadata": {},
   "outputs": [],
   "source": [
    "steward = {\n",
    "    'name': \"Sovrin Steward\",\n",
    "    'wallet_config': json.dumps({'id': 'sovrin_steward_wallet'}),\n",
    "    'wallet_credentials': json.dumps({'key': 'steward_wallet_key'}),\n",
    "    'pool': pool_['handle'],\n",
    "    'seed': '000000000000000000000000Steward1'\n",
    "}\n",
    "\n",
    "await create_wallet(steward)\n",
    "\n",
    "steward['did_info'] = json.dumps({'seed': steward['seed']})\n",
    "steward['did'], steward['key'] = await did.create_and_store_my_did(steward['wallet'], steward['did_info'])"
   ]
  },
  {
   "cell_type": "markdown",
   "id": "1dfd657f-9412-496c-9081-c9b24c2938e2",
   "metadata": {
    "tags": []
   },
   "source": [
    "<br><br><br><hr>\n",
    "\n",
    "# 5. Getting Endorser Credentials"
   ]
  },
  {
   "cell_type": "markdown",
   "id": "63ee8cd5-d355-4d79-a03e-25e18966da56",
   "metadata": {
    "tags": []
   },
   "source": [
    "## - Verinym 관련 함수 정의"
   ]
  },
  {
   "cell_type": "code",
   "execution_count": 6,
   "id": "2f348f31-db22-463d-8d73-a530803d33e7",
   "metadata": {},
   "outputs": [],
   "source": [
    "async def getting_verinym(from_ : dict, to : dict):\n",
    "    \"\"\"\n",
    "    \n",
    "    \"\"\"\n",
    "    await create_wallet(to)\n",
    "\n",
    "    (to['did'], to['key']) = await did.create_and_store_my_did(to['wallet'], \"{}\")\n",
    "\n",
    "    from_['info'] = {\n",
    "        'did': to['did'],\n",
    "        'verkey': to['key'],\n",
    "        'role': to['role'] or None\n",
    "    }\n",
    "\n",
    "    await send_nym(from_['pool'], from_['wallet'], from_['did'], from_['info']['did'],\n",
    "                   from_['info']['verkey'], from_['info']['role'])\n",
    "\n",
    "\n",
    "async def send_nym(pool_handle, wallet_handle, _did, new_did, new_key, role):\n",
    "    \"\"\"\n",
    "    \n",
    "    \"\"\"\n",
    "    nym_request = await ledger.build_nym_request(_did, new_did, new_key, None, role)\n",
    "    await ledger.sign_and_submit_request(pool_handle, wallet_handle, _did, nym_request)"
   ]
  },
  {
   "cell_type": "markdown",
   "id": "f889777e-87a9-40b8-b10e-2925b72f0aa9",
   "metadata": {},
   "source": [
    "### (1) Government getting verinym"
   ]
  },
  {
   "cell_type": "code",
   "execution_count": 7,
   "id": "91d88f28-c697-4974-9aa8-fc7e8daec47b",
   "metadata": {},
   "outputs": [],
   "source": [
    "government = {\n",
    "    'name': 'Government',\n",
    "    'wallet_config': json.dumps({'id': 'government_wallet'}),\n",
    "    'wallet_credentials': json.dumps({'key': 'government_wallet_key'}),\n",
    "    'pool': pool_['handle'],\n",
    "    'role': 'TRUST_ANCHOR'\n",
    "}\n",
    "\n",
    "await getting_verinym(steward, government)"
   ]
  },
  {
   "cell_type": "markdown",
   "id": "5f3c1336-f469-4585-a5e6-b4deb9923218",
   "metadata": {
    "tags": []
   },
   "source": [
    "### (2) Faber(university) getting verinym"
   ]
  },
  {
   "cell_type": "code",
   "execution_count": 8,
   "id": "e2f373b5-4a99-400d-b6be-244269742589",
   "metadata": {
    "tags": []
   },
   "outputs": [],
   "source": [
    "faber = {\n",
    "    'name': 'Faber',\n",
    "    'wallet_config': json.dumps({'id': 'faber_wallet'}),\n",
    "    'wallet_credentials': json.dumps({'key': 'faber_wallet_key'}),\n",
    "    'pool': pool_['handle'],\n",
    "    'role': 'TRUST_ANCHOR'\n",
    "}\n",
    "\n",
    "await getting_verinym(steward, faber)"
   ]
  },
  {
   "cell_type": "markdown",
   "id": "6b63dcb8-455a-41cc-93ea-09aae33bad29",
   "metadata": {
    "tags": []
   },
   "source": [
    "### (3) Acme(corporation) getting verinym"
   ]
  },
  {
   "cell_type": "code",
   "execution_count": 9,
   "id": "c2114855-fae0-4fef-8df6-b7e665ec8f7a",
   "metadata": {},
   "outputs": [],
   "source": [
    "acme = {\n",
    "    'name': 'Acme',\n",
    "    'wallet_config': json.dumps({'id': 'acme_wallet'}),\n",
    "    'wallet_credentials': json.dumps({'key': 'acme_wallet_key'}),\n",
    "    'pool': pool_['handle'],\n",
    "    'role': 'TRUST_ANCHOR'\n",
    "}\n",
    "\n",
    "await getting_verinym(steward, acme)"
   ]
  },
  {
   "cell_type": "markdown",
   "id": "4c51a512-e1e7-412c-a0c2-9a391cb53c74",
   "metadata": {
    "tags": []
   },
   "source": [
    "### (4) Thrift(bank) getting verinym"
   ]
  },
  {
   "cell_type": "code",
   "execution_count": 10,
   "id": "48dfb521-b71b-4baa-9a4b-f71047866469",
   "metadata": {
    "tags": []
   },
   "outputs": [],
   "source": [
    "thrift = {\n",
    "    'name': 'Thrift',\n",
    "    'wallet_config': json.dumps({'id': 'thrift_wallet'}),\n",
    "    'wallet_credentials': json.dumps({'key': 'thrift_wallet_key'}),\n",
    "    'pool': pool_['handle'],\n",
    "    'role': 'TRUST_ANCHOR'\n",
    "}\n",
    "\n",
    "await getting_verinym(steward, thrift)"
   ]
  },
  {
   "cell_type": "markdown",
   "id": "9a1b57fe-fe5f-414b-9ced-d9c40c8ea460",
   "metadata": {
    "tags": []
   },
   "source": [
    "<br><br><br><hr>\n",
    "\n",
    "# 6. Credential Schema Setup"
   ]
  },
  {
   "cell_type": "markdown",
   "id": "b509ca7f-3d76-4008-a455-36345f25152b",
   "metadata": {
    "tags": []
   },
   "source": [
    "## - Schema 관련 함수 정의"
   ]
  },
  {
   "cell_type": "code",
   "execution_count": 11,
   "id": "4e092e15-9d72-4ce8-b0f1-8852d0f62d76",
   "metadata": {},
   "outputs": [],
   "source": [
    "async def send_schema(pool_handle, wallet_handle, _did, schema):\n",
    "    schema_request = await ledger.build_schema_request(_did, schema)\n",
    "    await ledger.sign_and_submit_request(pool_handle, wallet_handle, _did, schema_request)\n",
    "    \n",
    "async def get_schema(pool_handle, _did, schema_id):\n",
    "    get_schema_request = await ledger.build_get_schema_request(_did, schema_id)\n",
    "    get_schema_response = await ensure_previous_request_applied(\n",
    "        pool_handle, get_schema_request, lambda response: response['result']['data'] is not None)\n",
    "    return await ledger.parse_get_schema_response(get_schema_response)"
   ]
  },
  {
   "cell_type": "markdown",
   "id": "7cf26333-c44a-452c-a8f5-edd645f125c4",
   "metadata": {
    "tags": []
   },
   "source": [
    "### (1) Government Create \"Transcript\" Schema"
   ]
  },
  {
   "cell_type": "code",
   "execution_count": 12,
   "id": "d5b169d4-7458-4131-893e-da9c0b77309c",
   "metadata": {},
   "outputs": [],
   "source": [
    "transcript = {\n",
    "    'name': 'Transcript',\n",
    "    'version': '1.2',\n",
    "    'attributes': ['first_name', 'last_name', 'degree', 'status', 'year', 'average', 'ssn']\n",
    "}\n",
    "(government['transcript_schema_id'], government['transcript_schema']) = \\\n",
    "    await anoncreds.issuer_create_schema(government['did'], transcript['name'], transcript['version'],\n",
    "                                         json.dumps(transcript['attributes']))\n",
    "transcript_schema_id = government['transcript_schema_id']\n",
    "\n",
    "await send_schema(government['pool'], government['wallet'], government['did'], government['transcript_schema'])"
   ]
  },
  {
   "cell_type": "markdown",
   "id": "85ddfaf1-eedb-494b-bb21-dd2a884bb6b3",
   "metadata": {
    "tags": []
   },
   "source": [
    "### (2) Government Create \"Job-Certificate\" Schema"
   ]
  },
  {
   "cell_type": "code",
   "execution_count": 13,
   "id": "0d256f57-ec76-48ca-bc32-38508a3deaf4",
   "metadata": {},
   "outputs": [],
   "source": [
    "job_certificate = {\n",
    "    'name': 'Job-Certificate',\n",
    "    'version': '0.2',\n",
    "    'attributes': ['first_name', 'last_name', 'salary', 'employee_status', 'experience']\n",
    "}\n",
    "(government['job_certificate_schema_id'], government['job_certificate_schema']) = \\\n",
    "        await anoncreds.issuer_create_schema(government['did'], job_certificate['name'], job_certificate['version'], json.dumps(job_certificate['attributes']))\n",
    "\n",
    "job_certificate_schema_id = government['job_certificate_schema_id']\n",
    "\n",
    "await send_schema(government['pool'], government['wallet'], government['did'], government['job_certificate_schema'])"
   ]
  },
  {
   "cell_type": "markdown",
   "id": "8daff017-376d-4966-b999-b6db7f477bd4",
   "metadata": {
    "tags": []
   },
   "source": [
    "<br><br><br><hr>\n",
    "\n",
    "# 7. Credential Definition Setup"
   ]
  },
  {
   "cell_type": "markdown",
   "id": "e9235333-f4ab-4d0d-98c5-bc5014d1be54",
   "metadata": {
    "tags": []
   },
   "source": [
    "## - Definition 관련 함수 정의"
   ]
  },
  {
   "cell_type": "code",
   "execution_count": 14,
   "id": "6c615b07-499b-4df0-9d77-959bb2392700",
   "metadata": {
    "tags": []
   },
   "outputs": [],
   "source": [
    "async def send_cred_def(pool_handle, wallet_handle, _did, cred_def_json):\n",
    "    cred_def_request = await ledger.build_cred_def_request(_did, cred_def_json)\n",
    "    await ledger.sign_and_submit_request(pool_handle, wallet_handle, _did, cred_def_request)\n",
    "\n",
    "async def get_cred_def(pool_handle, _did, cred_def_id):\n",
    "    get_cred_def_request = await ledger.build_get_cred_def_request(_did, cred_def_id)\n",
    "    get_cred_def_response = await ensure_previous_request_applied(pool_handle, get_cred_def_request,\n",
    "                                              lambda response: response['result']['data'] is not None)\n",
    "    return await ledger.parse_get_cred_def_response(get_cred_def_response)"
   ]
  },
  {
   "cell_type": "markdown",
   "id": "78c6a2fb-2cd7-44f3-b8fc-5be0a060f812",
   "metadata": {},
   "source": [
    "### (1-1) Faber get \"Transcript\" schema from ledger"
   ]
  },
  {
   "cell_type": "code",
   "execution_count": 15,
   "id": "c6cf2452-d49b-4c3f-a20a-c7dae95ed5b9",
   "metadata": {},
   "outputs": [],
   "source": [
    "(faber['transcript_schema_id'], faber['transcript_schema']) = await get_schema(faber['pool'], faber['did'], transcript_schema_id)"
   ]
  },
  {
   "cell_type": "markdown",
   "id": "5a831bf3-2ef5-45d6-bac5-e672eac47b57",
   "metadata": {},
   "source": [
    "### (1-2) Faber create and store in wallet \"Faber Transcript\" credential definition"
   ]
  },
  {
   "cell_type": "code",
   "execution_count": 16,
   "id": "2ae44fe8-bfd5-43b4-9b08-6a9666a3a40b",
   "metadata": {},
   "outputs": [],
   "source": [
    "transcript_cred_def = {\n",
    "    'tag': 'TAG1',\n",
    "    'type': 'CL',\n",
    "    'config': {\"support_revocation\": False}\n",
    "}\n",
    "(faber['transcript_cred_def_id'], faber['transcript_cred_def']) = await anoncreds.issuer_create_and_store_credential_def(faber['wallet'], faber['did'],\n",
    "                                                                                                                         faber['transcript_schema'], transcript_cred_def['tag'],\n",
    "                                                                                                                         transcript_cred_def['type'],\n",
    "                                                                                                                         json.dumps(transcript_cred_def['config']))"
   ]
  },
  {
   "cell_type": "markdown",
   "id": "aaad8ee3-e31f-4bde-921d-969a103e63ac",
   "metadata": {},
   "source": [
    "### (1-3) Faber send \"Faber Transcript\" credential definition to ledger"
   ]
  },
  {
   "cell_type": "code",
   "execution_count": 17,
   "id": "a547a457-0409-42c7-aa3c-18f6cb440c3b",
   "metadata": {},
   "outputs": [],
   "source": [
    "await send_cred_def(faber['pool'], faber['wallet'], faber['did'], faber['transcript_cred_def'])"
   ]
  },
  {
   "cell_type": "markdown",
   "id": "64d4a551-e631-4a62-b52b-e3d252c30696",
   "metadata": {
    "tags": []
   },
   "source": [
    "### (2-1) Acme get \"Job-Certificate\" schema from ledger"
   ]
  },
  {
   "cell_type": "code",
   "execution_count": 18,
   "id": "aa0ce7ed-bfc5-4f03-848c-8641cd483f9d",
   "metadata": {},
   "outputs": [],
   "source": [
    "(acme['job_certificate_schema_id'], acme['job_certificate_schema']) = await get_schema(acme['pool'], acme['did'], job_certificate_schema_id)"
   ]
  },
  {
   "cell_type": "markdown",
   "id": "2ad8f7a7-12db-49a9-812d-7797cc8809f0",
   "metadata": {},
   "source": [
    "### (2-2) Acme create and store in wallet \"Acme Job-Certificate\" credential definition"
   ]
  },
  {
   "cell_type": "code",
   "execution_count": 19,
   "id": "c54f7610-e057-4c7b-b97a-26879424f1b7",
   "metadata": {},
   "outputs": [],
   "source": [
    "job_certificate_cred_def = {\n",
    "    'tag': 'TAG1',\n",
    "    'type': 'CL',\n",
    "    'config': {\"support_revocation\": True}\n",
    "}\n",
    "(acme['job_certificate_cred_def_id'], acme['job_certificate_cred_def']) = await anoncreds.issuer_create_and_store_credential_def(acme['wallet'], acme['did'],\n",
    "                                                                                                                                 acme['job_certificate_schema'],\n",
    "                                                                                                                                 job_certificate_cred_def['tag'],\n",
    "                                                                                                                                 job_certificate_cred_def['type'],\n",
    "                                                                                                                                 json.dumps(job_certificate_cred_def['config']))"
   ]
  },
  {
   "cell_type": "markdown",
   "id": "338ea063-e5ce-40fa-9a19-285d2aa3926b",
   "metadata": {
    "tags": []
   },
   "source": [
    "### (2-3) Acme send \"Acme Job-Certificate\" credential definition to ledger"
   ]
  },
  {
   "cell_type": "code",
   "execution_count": 20,
   "id": "7a76ad11-8ed7-4681-89be-4f46a2e9733a",
   "metadata": {},
   "outputs": [],
   "source": [
    "await send_cred_def(acme['pool'], acme['wallet'], acme['did'], acme['job_certificate_cred_def'])"
   ]
  },
  {
   "cell_type": "markdown",
   "id": "620c9338-a08b-4afe-b761-d3242fd33382",
   "metadata": {},
   "source": [
    "### (2-4) Acme create revocation registry"
   ]
  },
  {
   "cell_type": "code",
   "execution_count": 21,
   "id": "2e5afaf2-fb55-41bd-aa9f-4537ee29bc1d",
   "metadata": {},
   "outputs": [],
   "source": [
    "acme['tails_writer_config'] = json.dumps({'base_dir': \"/tmp/indy_acme_tails\", 'uri_pattern': ''})\n",
    "tails_writer = await blob_storage.open_writer('default', acme['tails_writer_config'])\n",
    "(acme['revoc_reg_id'], acme['revoc_reg_def'], acme['revoc_reg_entry']) = await anoncreds.issuer_create_and_store_revoc_reg(acme['wallet'], acme['did'], 'CL_ACCUM', 'TAG1',\n",
    "                                                                                                                           acme['job_certificate_cred_def_id'],\n",
    "                                                                                                                           json.dumps({'max_cred_num': 5, 'issuance_type': 'ISSUANCE_ON_DEMAND'}),\n",
    "                                                                                                                           tails_writer)"
   ]
  },
  {
   "cell_type": "markdown",
   "id": "282f7d27-6c2a-42bd-9ebd-a86730f11ce1",
   "metadata": {},
   "source": [
    "### (2-5) Acme post revocation registry definition to ledger"
   ]
  },
  {
   "cell_type": "code",
   "execution_count": 22,
   "id": "e3a382fb-8eaf-4532-90cd-4d64b68849fe",
   "metadata": {},
   "outputs": [
    {
     "name": "stdout",
     "output_type": "stream",
     "text": [
      "\n"
     ]
    }
   ],
   "source": [
    "acme['revoc_reg_def_request'] = await ledger.build_revoc_reg_def_request(acme['did'], acme['revoc_reg_def'])\n",
    "await ledger.sign_and_submit_request(acme['pool'], acme['wallet'], acme['did'], acme['revoc_reg_def_request'])\n",
    "print()"
   ]
  },
  {
   "cell_type": "markdown",
   "id": "0331aa31-16c6-40c8-ae1f-70465bfaffd2",
   "metadata": {},
   "source": [
    "### (2-6) Acme post revocation registry entry to ledger"
   ]
  },
  {
   "cell_type": "code",
   "execution_count": 23,
   "id": "f37ddd13-18a9-4dab-9ad4-6412198236b3",
   "metadata": {},
   "outputs": [
    {
     "name": "stdout",
     "output_type": "stream",
     "text": [
      "\n"
     ]
    }
   ],
   "source": [
    "acme['revoc_reg_entry_request'] = await ledger.build_revoc_reg_entry_request(acme['did'], acme['revoc_reg_id'], 'CL_ACCUM', acme['revoc_reg_entry'])\n",
    "await ledger.sign_and_submit_request(acme['pool'], acme['wallet'], acme['did'], acme['revoc_reg_entry_request'])\n",
    "print()"
   ]
  },
  {
   "cell_type": "markdown",
   "id": "98c9724e-ecd3-48ec-9fa3-2f002ea2823b",
   "metadata": {
    "tags": []
   },
   "source": [
    "<br><br><br><hr>\n",
    "\n",
    "# 8. Alice Create DID and wallet"
   ]
  },
  {
   "cell_type": "code",
   "execution_count": 24,
   "id": "8c338b01-11da-45e7-a234-f46b1a06884c",
   "metadata": {},
   "outputs": [],
   "source": [
    "alice = {\n",
    "    'name': 'Alice',\n",
    "    'wallet_config': json.dumps({'id': 'alice_wallet'}),\n",
    "    'wallet_credentials': json.dumps({'key': 'alice_wallet_key'}),\n",
    "    'pool': pool_['handle'],\n",
    "}\n",
    "await create_wallet(alice)\n",
    "(alice['did'], alice['key']) = await did.create_and_store_my_did(alice['wallet'], \"{}\")"
   ]
  },
  {
   "cell_type": "markdown",
   "id": "37cabb35-1a6b-4aa3-9aba-9d612aeadf0b",
   "metadata": {
    "tags": []
   },
   "source": [
    "<br><br><br><hr>\n",
    "\n",
    "# 9. Alice Get \"Transcript\" Credential"
   ]
  },
  {
   "cell_type": "markdown",
   "id": "c1c847f0-2173-4b6d-81b4-520d613417d6",
   "metadata": {},
   "source": [
    "### (1) Faber create \"Transcript\" credential offer for alice"
   ]
  },
  {
   "cell_type": "code",
   "execution_count": 25,
   "id": "a78e1512-35d8-4a3b-b3b8-79daf73bcb72",
   "metadata": {},
   "outputs": [],
   "source": [
    "faber['transcript_cred_offer'] = await anoncreds.issuer_create_credential_offer(faber['wallet'], faber['transcript_cred_def_id'])\n",
    "alice['transcript_cred_offer'] = faber['transcript_cred_offer']\n",
    "transcript_cred_offer_object = json.loads(alice['transcript_cred_offer'])\n",
    "alice['transcript_schema_id'] = transcript_cred_offer_object['schema_id']\n",
    "alice['transcript_cred_def_id'] = transcript_cred_offer_object['cred_def_id']"
   ]
  },
  {
   "cell_type": "markdown",
   "id": "9a29908d-1b7f-4053-bac0-ae0be74fafb1",
   "metadata": {},
   "source": [
    "### (2) Alice create and store master secret in wallet"
   ]
  },
  {
   "cell_type": "code",
   "execution_count": 26,
   "id": "e3e2aa05-3e93-46e8-9eca-a3400228a997",
   "metadata": {},
   "outputs": [],
   "source": [
    "alice['master_secret_id'] = await anoncreds.prover_create_master_secret(alice['wallet'], None)"
   ]
  },
  {
   "cell_type": "markdown",
   "id": "682cd690-b081-40ca-9665-9e9adf4838ac",
   "metadata": {},
   "source": [
    "### (3) Alice get \"Faber Transcript\" credential definition from ledger"
   ]
  },
  {
   "cell_type": "code",
   "execution_count": 27,
   "id": "94c1d24d-30e0-40b7-b870-926472e38127",
   "metadata": {},
   "outputs": [],
   "source": [
    "(alice['faber_transcript_cred_def_id'], alice['faber_transcript_cred_def']) = await get_cred_def(alice['pool'], alice['did'], alice['transcript_cred_def_id'])"
   ]
  },
  {
   "cell_type": "markdown",
   "id": "e42f7fc8-5551-49cf-a924-71691f4e36f5",
   "metadata": {},
   "source": [
    "### (4) Alice create \"Transcript\" credential request for Faber"
   ]
  },
  {
   "cell_type": "code",
   "execution_count": 28,
   "id": "8c1e584a-dbeb-4651-b79c-e083ab0d5f2e",
   "metadata": {},
   "outputs": [],
   "source": [
    "(alice['transcript_cred_request'], alice['transcript_cred_request_metadata']) = \\\n",
    "    await anoncreds.prover_create_credential_req(alice['wallet'], alice['did'],\n",
    "                                                    alice['transcript_cred_offer'], alice['faber_transcript_cred_def'],\n",
    "                                                    alice['master_secret_id'])"
   ]
  },
  {
   "cell_type": "markdown",
   "id": "37234b9d-730a-48ac-a443-96711189f49c",
   "metadata": {},
   "source": [
    "### (5) Alice send \"Transcript\" credential request for Faber"
   ]
  },
  {
   "cell_type": "code",
   "execution_count": 29,
   "id": "8809fe1b-31fd-4619-9120-93ca1af01ef5",
   "metadata": {},
   "outputs": [],
   "source": [
    "faber['transcript_cred_request'] = alice['transcript_cred_request']"
   ]
  },
  {
   "cell_type": "markdown",
   "id": "e612732a-a523-4d9c-ada2-f247c99dee76",
   "metadata": {},
   "source": [
    "### (6) Faber create \"Transcript\" credential for Alice"
   ]
  },
  {
   "cell_type": "code",
   "execution_count": 30,
   "id": "417bab9e-3387-44d0-8afa-c9892d52e05e",
   "metadata": {},
   "outputs": [],
   "source": [
    "faber['alice_transcript_cred_values'] = json.dumps({\n",
    "    \"first_name\": {\"raw\": \"Alice\", \"encoded\": \"1139481716457488690172217916278103335\"},\n",
    "    \"last_name\": {\"raw\": \"Garcia\", \"encoded\": \"5321642780241790123587902456789123452\"},\n",
    "    \"degree\": {\"raw\": \"Bachelor of Science, Marketing\", \"encoded\": \"12434523576212321\"},\n",
    "    \"status\": {\"raw\": \"graduated\", \"encoded\": \"2213454313412354\"},\n",
    "    \"ssn\": {\"raw\": \"123-45-6789\", \"encoded\": \"3124141231422543541\"},\n",
    "    \"year\": {\"raw\": \"2015\", \"encoded\": \"2015\"},\n",
    "    \"average\": {\"raw\": \"5\", \"encoded\": \"5\"}\n",
    "})\n",
    "\n",
    "faber['transcript_cred'], _, _ = \\\n",
    "    await anoncreds.issuer_create_credential(faber['wallet'], faber['transcript_cred_offer'],\n",
    "                                                faber['transcript_cred_request'],\n",
    "                                                faber['alice_transcript_cred_values'], None, None)"
   ]
  },
  {
   "cell_type": "markdown",
   "id": "3a732356-1aca-4b66-8d4d-583b2d168b37",
   "metadata": {
    "tags": []
   },
   "source": [
    "### (7) Faber send \"Transcript\" credential to Alice"
   ]
  },
  {
   "cell_type": "code",
   "execution_count": 31,
   "id": "b11e572e-d604-42dc-8aa4-e776d9c8bb83",
   "metadata": {},
   "outputs": [],
   "source": [
    "alice['transcript_cred'] = faber['transcript_cred']"
   ]
  },
  {
   "cell_type": "markdown",
   "id": "deef26ed-3597-4772-bf3d-338e86a298ec",
   "metadata": {},
   "source": [
    "### (8) Alice store \"Transcript\" credential from Faber"
   ]
  },
  {
   "cell_type": "code",
   "execution_count": 32,
   "id": "574035a7-4153-4c4f-9ec9-342c29780f2b",
   "metadata": {
    "tags": []
   },
   "outputs": [
    {
     "name": "stdout",
     "output_type": "stream",
     "text": [
      "\n"
     ]
    }
   ],
   "source": [
    "_, alice['transcript_cred_def'] = await get_cred_def(alice['pool'], alice['did'],\n",
    "                                                        alice['transcript_cred_def_id'])\n",
    "\n",
    "await anoncreds.prover_store_credential(alice['wallet'], None, alice['transcript_cred_request_metadata'],\n",
    "                                        alice['transcript_cred'], alice['transcript_cred_def'], None)\n",
    "print()"
   ]
  },
  {
   "cell_type": "markdown",
   "id": "cfaa80d4-15f4-42a8-80da-b6d09f03dc79",
   "metadata": {
    "tags": []
   },
   "source": [
    "<br><br><br><hr>\n",
    "\n",
    "# 10. Apply For the Job With Acme - Transcript Proving"
   ]
  },
  {
   "cell_type": "markdown",
   "id": "6c107aae-bc38-4bb2-acbe-fc906ae5b706",
   "metadata": {},
   "source": [
    "## - Credential 검증 관련 함수 정의"
   ]
  },
  {
   "cell_type": "code",
   "execution_count": 33,
   "id": "60745918-98ce-4e52-835a-c5923dfeea4d",
   "metadata": {},
   "outputs": [],
   "source": [
    "async def get_credential_for_referent(search_handle, referent):\n",
    "    credentials = json.loads(\n",
    "        await anoncreds.prover_fetch_credentials_for_proof_req(search_handle, referent, 10))\n",
    "    return credentials[0]['cred_info']\n",
    "\n",
    "\n",
    "def get_timestamp_for_attribute(cred_for_attribute, revoc_states):\n",
    "    if cred_for_attribute['rev_reg_id'] in revoc_states:\n",
    "        return int(next(iter(revoc_states[cred_for_attribute['rev_reg_id']])))\n",
    "    else:\n",
    "        return None\n",
    "\n",
    "\n",
    "async def prover_get_entities_from_ledger(pool_handle, _did, identifiers, actor, timestamp_from=None,\n",
    "                                          timestamp_to=None):\n",
    "    schemas = {}\n",
    "    cred_defs = {}\n",
    "    rev_states = {}\n",
    "    for item in identifiers.values():\n",
    "        # logger.info(\"\\\"{}\\\" -> Get Schema from Ledger\".format(actor))\n",
    "        (received_schema_id, received_schema) = await get_schema(pool_handle, _did, item['schema_id'])\n",
    "        schemas[received_schema_id] = json.loads(received_schema)\n",
    "\n",
    "        # logger.info(\"\\\"{}\\\" -> Get Claim Definition from Ledger\".format(actor))\n",
    "        (received_cred_def_id, received_cred_def) = await get_cred_def(pool_handle, _did, item['cred_def_id'])\n",
    "        cred_defs[received_cred_def_id] = json.loads(received_cred_def)\n",
    "\n",
    "        if 'rev_reg_id' in item and item['rev_reg_id'] is not None:\n",
    "            # Create Revocations States\n",
    "            # logger.info(\"\\\"{}\\\" -> Get Revocation Registry Definition from Ledger\".format(actor))\n",
    "            get_revoc_reg_def_request = await ledger.build_get_revoc_reg_def_request(_did, item['rev_reg_id'])\n",
    "\n",
    "            get_revoc_reg_def_response = \\\n",
    "                await ensure_previous_request_applied(pool_handle, get_revoc_reg_def_request,\n",
    "                                                      lambda response: response['result']['data'] is not None)\n",
    "            (rev_reg_id, revoc_reg_def_json) = await ledger.parse_get_revoc_reg_def_response(get_revoc_reg_def_response)\n",
    "\n",
    "            # logger.info(\"\\\"{}\\\" -> Get Revocation Registry Delta from Ledger\".format(actor))\n",
    "            if not timestamp_to: timestamp_to = int(time.time())\n",
    "            get_revoc_reg_delta_request = \\\n",
    "                await ledger.build_get_revoc_reg_delta_request(_did, item['rev_reg_id'], timestamp_from, timestamp_to)\n",
    "            get_revoc_reg_delta_response = \\\n",
    "                await ensure_previous_request_applied(pool_handle, get_revoc_reg_delta_request,\n",
    "                                                      lambda response: response['result']['data'] is not None)\n",
    "            (rev_reg_id, revoc_reg_delta_json, t) = \\\n",
    "                await ledger.parse_get_revoc_reg_delta_response(get_revoc_reg_delta_response)\n",
    "\n",
    "            tails_reader_config = json.dumps(\n",
    "                {'base_dir': dirname(json.loads(revoc_reg_def_json)['value']['tailsLocation']),\n",
    "                 'uri_pattern': ''})\n",
    "            blob_storage_reader_cfg_handle = await blob_storage.open_reader('default', tails_reader_config)\n",
    "\n",
    "            # logger.info('%s - Create Revocation State', actor)\n",
    "            rev_state_json = \\\n",
    "                await anoncreds.create_revocation_state(blob_storage_reader_cfg_handle, revoc_reg_def_json,\n",
    "                                                        revoc_reg_delta_json, t, item['cred_rev_id'])\n",
    "            rev_states[rev_reg_id] = {t: json.loads(rev_state_json)}\n",
    "\n",
    "    return json.dumps(schemas), json.dumps(cred_defs), json.dumps(rev_states)\n",
    "\n",
    "\n",
    "async def verifier_get_entities_from_ledger(pool_handle, _did, identifiers, actor, timestamp=None):\n",
    "    schemas = {}\n",
    "    cred_defs = {}\n",
    "    rev_reg_defs = {}\n",
    "    rev_regs = {}\n",
    "    for item in identifiers:\n",
    "        # logger.info(\"\\\"{}\\\" -> Get Schema from Ledger\".format(actor))\n",
    "        (received_schema_id, received_schema) = await get_schema(pool_handle, _did, item['schema_id'])\n",
    "        schemas[received_schema_id] = json.loads(received_schema)\n",
    "\n",
    "        # logger.info(\"\\\"{}\\\" -> Get Claim Definition from Ledger\".format(actor))\n",
    "        (received_cred_def_id, received_cred_def) = await get_cred_def(pool_handle, _did, item['cred_def_id'])\n",
    "        cred_defs[received_cred_def_id] = json.loads(received_cred_def)\n",
    "\n",
    "        if 'rev_reg_id' in item and item['rev_reg_id'] is not None:\n",
    "            # Get Revocation Definitions and Revocation Registries\n",
    "            # logger.info(\"\\\"{}\\\" -> Get Revocation Definition from Ledger\".format(actor))\n",
    "            get_revoc_reg_def_request = await ledger.build_get_revoc_reg_def_request(_did, item['rev_reg_id'])\n",
    "\n",
    "            get_revoc_reg_def_response = \\\n",
    "                await ensure_previous_request_applied(pool_handle, get_revoc_reg_def_request,\n",
    "                                                      lambda response: response['result']['data'] is not None)\n",
    "            (rev_reg_id, revoc_reg_def_json) = await ledger.parse_get_revoc_reg_def_response(get_revoc_reg_def_response)\n",
    "\n",
    "            # logger.info(\"\\\"{}\\\" -> Get Revocation Registry from Ledger\".format(actor))\n",
    "            if not timestamp: timestamp = item['timestamp']\n",
    "            get_revoc_reg_request = \\\n",
    "                await ledger.build_get_revoc_reg_request(_did, item['rev_reg_id'], timestamp)\n",
    "            get_revoc_reg_response = \\\n",
    "                await ensure_previous_request_applied(pool_handle, get_revoc_reg_request,\n",
    "                                                      lambda response: response['result']['data'] is not None)\n",
    "            (rev_reg_id, rev_reg_json, timestamp2) = await ledger.parse_get_revoc_reg_response(get_revoc_reg_response)\n",
    "\n",
    "            rev_regs[rev_reg_id] = {timestamp2: json.loads(rev_reg_json)}\n",
    "            rev_reg_defs[rev_reg_id] = json.loads(revoc_reg_def_json)\n",
    "\n",
    "    return json.dumps(schemas), json.dumps(cred_defs), json.dumps(rev_reg_defs), json.dumps(rev_regs)"
   ]
  },
  {
   "cell_type": "markdown",
   "id": "56d24a46-49e7-47bb-a6eb-4324ef02f6dc",
   "metadata": {},
   "source": [
    "### (1) Acme create \"Job-Application\" proof request"
   ]
  },
  {
   "cell_type": "code",
   "execution_count": 34,
   "id": "3faea7ac-cb46-4c2c-96e3-e848e65acf12",
   "metadata": {},
   "outputs": [],
   "source": [
    "nonce = await anoncreds.generate_nonce()\n",
    "\n",
    "acme['job_application_proof_request'] = json.dumps({\n",
    "    'nonce': nonce,\n",
    "    'name': 'Job-Application',\n",
    "    'version': '0.1',\n",
    "    'requested_attributes': {\n",
    "        'attr1_referent': {\n",
    "            'name': 'first_name'\n",
    "        },\n",
    "        'attr2_referent': {\n",
    "            'name': 'last_name'\n",
    "        },\n",
    "        'attr3_referent': {\n",
    "            'name': 'degree',\n",
    "            'restrictions': [{'cred_def_id': faber['transcript_cred_def_id']}]\n",
    "        },\n",
    "        'attr4_referent': {\n",
    "            'name': 'status',\n",
    "            'restrictions': [{'cred_def_id': faber['transcript_cred_def_id']}]\n",
    "        },\n",
    "        'attr5_referent': {\n",
    "            'name': 'ssn',\n",
    "            'restrictions': [{'cred_def_id': faber['transcript_cred_def_id']}]\n",
    "        },\n",
    "        'attr6_referent': {\n",
    "            'name': 'phone_number'\n",
    "        }\n",
    "    },\n",
    "    'requested_predicates': {\n",
    "        'predicate1_referent': {\n",
    "            'name': 'average',\n",
    "            'p_type': '>=',\n",
    "            'p_value': 4,\n",
    "            'restrictions': [{'cred_def_id': faber['transcript_cred_def_id']}]\n",
    "        }\n",
    "    }\n",
    "})"
   ]
  },
  {
   "cell_type": "markdown",
   "id": "2dcd4809-8b53-4aa3-b20b-898f1052d511",
   "metadata": {},
   "source": [
    "### (2) Acme send \"Job-Application\" proof request to Alice"
   ]
  },
  {
   "cell_type": "code",
   "execution_count": 35,
   "id": "2327a50e-c91b-4f93-93ec-eb2d9672c758",
   "metadata": {},
   "outputs": [],
   "source": [
    "alice['job_application_proof_request'] = acme['job_application_proof_request']"
   ]
  },
  {
   "cell_type": "markdown",
   "id": "75368786-a0ff-4ee1-a640-bdf27a6645fb",
   "metadata": {},
   "source": [
    "### (3) Alice get credentials for \"Job-Application\" proof request"
   ]
  },
  {
   "cell_type": "code",
   "execution_count": 36,
   "id": "467b6e63-fec2-4641-afc7-76a5584a8741",
   "metadata": {},
   "outputs": [],
   "source": [
    "search_for_job_application_proof_request = \\\n",
    "    await anoncreds.prover_search_credentials_for_proof_req(alice['wallet'],\n",
    "                                                            alice['job_application_proof_request'], None)\n",
    "\n",
    "cred_for_attr1 = await get_credential_for_referent(search_for_job_application_proof_request, 'attr1_referent')\n",
    "cred_for_attr2 = await get_credential_for_referent(search_for_job_application_proof_request, 'attr2_referent')\n",
    "cred_for_attr3 = await get_credential_for_referent(search_for_job_application_proof_request, 'attr3_referent')\n",
    "cred_for_attr4 = await get_credential_for_referent(search_for_job_application_proof_request, 'attr4_referent')\n",
    "cred_for_attr5 = await get_credential_for_referent(search_for_job_application_proof_request, 'attr5_referent')\n",
    "cred_for_predicate1 = \\\n",
    "    await get_credential_for_referent(search_for_job_application_proof_request, 'predicate1_referent')\n",
    "\n",
    "await anoncreds.prover_close_credentials_search_for_proof_req(search_for_job_application_proof_request)\n",
    "\n",
    "alice['creds_for_job_application_proof'] = {cred_for_attr1['referent']: cred_for_attr1,\n",
    "                                            cred_for_attr2['referent']: cred_for_attr2,\n",
    "                                            cred_for_attr3['referent']: cred_for_attr3,\n",
    "                                            cred_for_attr4['referent']: cred_for_attr4,\n",
    "                                            cred_for_attr5['referent']: cred_for_attr5,\n",
    "                                            cred_for_predicate1['referent']: cred_for_predicate1}\n",
    "\n",
    "alice['schemas_for_job_application'], alice['cred_defs_for_job_application'], \\\n",
    "alice['revoc_states_for_job_application'] = \\\n",
    "    await prover_get_entities_from_ledger(alice['pool'], alice['did'],\n",
    "                                            alice['creds_for_job_application_proof'], alice['name'])"
   ]
  },
  {
   "cell_type": "markdown",
   "id": "ba593365-dd29-47bd-8aaf-61e4c5d1eda2",
   "metadata": {},
   "source": [
    "### (4) Alice create \"Job-certificate\" proof"
   ]
  },
  {
   "cell_type": "code",
   "execution_count": 37,
   "id": "d5c0e6cc-7b75-4117-9ed3-22fc70d789ca",
   "metadata": {},
   "outputs": [],
   "source": [
    "alice['job_application_requested_creds'] = json.dumps({\n",
    "    'self_attested_attributes': {\n",
    "        'attr1_referent': 'Alice',\n",
    "        'attr2_referent': 'Garcia',\n",
    "        'attr6_referent': '123-45-6789'\n",
    "    },\n",
    "    'requested_attributes': {\n",
    "        'attr3_referent': {'cred_id': cred_for_attr3['referent'], 'revealed': True},\n",
    "        'attr4_referent': {'cred_id': cred_for_attr4['referent'], 'revealed': True},\n",
    "        'attr5_referent': {'cred_id': cred_for_attr5['referent'], 'revealed': True},\n",
    "    },\n",
    "    'requested_predicates': {'predicate1_referent': {'cred_id': cred_for_predicate1['referent']}}\n",
    "})\n",
    "\n",
    "alice['job_application_proof'] = \\\n",
    "    await anoncreds.prover_create_proof(alice['wallet'], alice['job_application_proof_request'],\n",
    "                                        alice['job_application_requested_creds'], alice['master_secret_id'],\n",
    "                                        alice['schemas_for_job_application'],\n",
    "                                        alice['cred_defs_for_job_application'],\n",
    "                                        alice['revoc_states_for_job_application'])"
   ]
  },
  {
   "cell_type": "markdown",
   "id": "bf12887e-d5f3-42db-83e0-d1af45bd4268",
   "metadata": {},
   "source": [
    "### (5) Alice send \"Job-Application\" proof to Acme"
   ]
  },
  {
   "cell_type": "code",
   "execution_count": 38,
   "id": "628a18ba-cea9-4bf0-813e-146a0ac9cccd",
   "metadata": {},
   "outputs": [],
   "source": [
    "acme['job_application_proof'] = alice['job_application_proof']\n",
    "\n",
    "job_application_proof_object = json.loads(acme['job_application_proof'])\n",
    "\n",
    "acme['schemas_for_job_application'], acme['cred_defs_for_job_application'], \\\n",
    "acme['revoc_ref_defs_for_job_application'], acme['revoc_regs_for_job_application'] = \\\n",
    "    await verifier_get_entities_from_ledger(acme['pool'], acme['did'],\n",
    "                                            job_application_proof_object['identifiers'], acme['name'])"
   ]
  },
  {
   "cell_type": "markdown",
   "id": "abb39688-47ab-454d-afc5-9c2f503266df",
   "metadata": {},
   "source": [
    "### (6) Acme verify \"Job-Application\" proof from Alice"
   ]
  },
  {
   "cell_type": "code",
   "execution_count": 39,
   "id": "94ffdda0-2078-469f-a374-75559388c854",
   "metadata": {},
   "outputs": [],
   "source": [
    "assert 'Bachelor of Science, Marketing' == \\\n",
    "        job_application_proof_object['requested_proof']['revealed_attrs']['attr3_referent']['raw']\n",
    "assert 'graduated' == \\\n",
    "        job_application_proof_object['requested_proof']['revealed_attrs']['attr4_referent']['raw']\n",
    "assert '123-45-6789' == \\\n",
    "        job_application_proof_object['requested_proof']['revealed_attrs']['attr5_referent']['raw']\n",
    "\n",
    "assert 'Alice' == job_application_proof_object['requested_proof']['self_attested_attrs']['attr1_referent']\n",
    "assert 'Garcia' == job_application_proof_object['requested_proof']['self_attested_attrs']['attr2_referent']\n",
    "assert '123-45-6789' == job_application_proof_object['requested_proof']['self_attested_attrs']['attr6_referent']\n",
    "\n",
    "assert await anoncreds.verifier_verify_proof(acme['job_application_proof_request'], acme['job_application_proof'],\n",
    "                                                acme['schemas_for_job_application'],\n",
    "                                                acme['cred_defs_for_job_application'],\n",
    "                                                acme['revoc_ref_defs_for_job_application'],\n",
    "                                                acme['revoc_regs_for_job_application'])"
   ]
  },
  {
   "cell_type": "markdown",
   "id": "f3ab3595-febf-4c55-8d01-78bc8495c234",
   "metadata": {
    "tags": []
   },
   "source": [
    "<br><br><br><hr>\n",
    "\n",
    "# 11. Apply for the job with Acme - Getting Job-Certificate Credential"
   ]
  },
  {
   "cell_type": "code",
   "execution_count": 40,
   "id": "dc2e6027-60c0-4194-a705-b3f19b3b9a3c",
   "metadata": {},
   "outputs": [],
   "source": [
    "# logger.info(\"\\\"Acme\\\" -> Create \\\"Job-Certificate\\\" Credential Offer for Alice\")"
   ]
  },
  {
   "cell_type": "code",
   "execution_count": 41,
   "id": "cbfbd0f1-b9ea-4bd1-b5fb-e639906e7ab0",
   "metadata": {},
   "outputs": [],
   "source": [
    "acme['job_certificate_cred_offer'] = \\\n",
    "    await anoncreds.issuer_create_credential_offer(acme['wallet'], acme['job_certificate_cred_def_id'])"
   ]
  },
  {
   "cell_type": "code",
   "execution_count": 42,
   "id": "5119f42b-db77-44a0-806f-5b2e0b135006",
   "metadata": {},
   "outputs": [],
   "source": [
    "# logger.info(\"\\\"Acme\\\" -> Send \\\"Job-Certificate\\\" Credential Offer to Alice\")"
   ]
  },
  {
   "cell_type": "code",
   "execution_count": 43,
   "id": "dd921d54-418a-47ef-bf02-134494690ed0",
   "metadata": {},
   "outputs": [],
   "source": [
    "alice['job_certificate_cred_offer'] = acme['job_certificate_cred_offer']\n",
    "job_certificate_cred_offer_object = json.loads(alice['job_certificate_cred_offer'])"
   ]
  },
  {
   "cell_type": "code",
   "execution_count": 44,
   "id": "ec9f4dd4-f0e2-4d3c-b4c5-adee332a7e8b",
   "metadata": {},
   "outputs": [],
   "source": [
    "# logger.info(\"\\\"Alice\\\" -> Get \\\"Acme Job-Certificate\\\" Credential Definition from Ledger\")"
   ]
  },
  {
   "cell_type": "code",
   "execution_count": 45,
   "id": "beacf59a-a4cd-45c5-a438-e4db0950eb7b",
   "metadata": {},
   "outputs": [],
   "source": [
    "(alice['acme_job_certificate_cred_def_id'], alice['acme_job_certificate_cred_def']) = \\\n",
    "    await get_cred_def(alice['pool'], alice['did'], job_certificate_cred_offer_object['cred_def_id'])"
   ]
  },
  {
   "cell_type": "code",
   "execution_count": 46,
   "id": "301edc15-b0f2-46fa-8b46-5ab7e1cdceb8",
   "metadata": {},
   "outputs": [],
   "source": [
    "# logger.info(\"\\\"Alice\\\" -> Create and store in Wallet \\\"Job-Certificate\\\" Credential Request for Acme\")"
   ]
  },
  {
   "cell_type": "code",
   "execution_count": 47,
   "id": "fa79188a-4bf6-4b18-a8c0-21a964d18321",
   "metadata": {},
   "outputs": [],
   "source": [
    "(alice['job_certificate_cred_request'], alice['job_certificate_cred_request_metadata']) = \\\n",
    "    await anoncreds.prover_create_credential_req(alice['wallet'], alice['did'],\n",
    "                                                    alice['job_certificate_cred_offer'],\n",
    "                                                    alice['acme_job_certificate_cred_def'], alice['master_secret_id'])"
   ]
  },
  {
   "cell_type": "code",
   "execution_count": 48,
   "id": "2f3efc23-eb43-4ac2-a062-24a9679b579f",
   "metadata": {},
   "outputs": [],
   "source": [
    "# logger.info(\"\\\"Alice\\\" -> Send \\\"Job-Certificate\\\" Credential Request to Acme\")"
   ]
  },
  {
   "cell_type": "code",
   "execution_count": 49,
   "id": "0e8a393b-d507-4660-955b-3380161995b9",
   "metadata": {},
   "outputs": [],
   "source": [
    "alice['job_certificate_cred_values'] = json.dumps({\n",
    "    \"first_name\": {\"raw\": \"Alice\", \"encoded\": \"245712572474217942457235975012103335\"},\n",
    "    \"last_name\": {\"raw\": \"Garcia\", \"encoded\": \"312643218496194691632153761283356127\"},\n",
    "    \"employee_status\": {\"raw\": \"Permanent\", \"encoded\": \"2143135425425143112321314321\"},\n",
    "    \"salary\": {\"raw\": \"2400\", \"encoded\": \"2400\"},\n",
    "    \"experience\": {\"raw\": \"10\", \"encoded\": \"10\"}\n",
    "})\n",
    "acme['job_certificate_cred_request'] = alice['job_certificate_cred_request']\n",
    "acme['job_certificate_cred_values'] = alice['job_certificate_cred_values']"
   ]
  },
  {
   "cell_type": "code",
   "execution_count": 50,
   "id": "e47dac0f-d16d-401c-89a6-968646bc6124",
   "metadata": {},
   "outputs": [],
   "source": [
    "# logger.info(\"\\\"Acme\\\" -> Create \\\"Job-Certificate\\\" Credential for Alice\")"
   ]
  },
  {
   "cell_type": "code",
   "execution_count": 51,
   "id": "73a4877b-d28a-4984-91d4-189c4f257eca",
   "metadata": {},
   "outputs": [],
   "source": [
    "acme['blob_storage_reader_cfg_handle'] = await blob_storage.open_reader('default', acme['tails_writer_config'])\n",
    "acme['job_certificate_cred'], acme['job_certificate_cred_rev_id'], acme['alice_cert_rev_reg_delta'] = \\\n",
    "    await anoncreds.issuer_create_credential(acme['wallet'], acme['job_certificate_cred_offer'],\n",
    "                                                acme['job_certificate_cred_request'],\n",
    "                                                acme['job_certificate_cred_values'],\n",
    "                                                acme['revoc_reg_id'],\n",
    "                                                acme['blob_storage_reader_cfg_handle'])"
   ]
  },
  {
   "cell_type": "code",
   "execution_count": 52,
   "id": "febcffb4-d33f-4d84-b126-b4354b154110",
   "metadata": {},
   "outputs": [],
   "source": [
    "# logger.info(\"\\\"Acme\\\" -> Post Revocation Registry Delta to Ledger\")"
   ]
  },
  {
   "cell_type": "code",
   "execution_count": 53,
   "id": "1beba660-4a37-4a1b-9fd9-96067ea8d3be",
   "metadata": {},
   "outputs": [
    {
     "name": "stdout",
     "output_type": "stream",
     "text": [
      "\n"
     ]
    }
   ],
   "source": [
    "acme['revoc_reg_entry_req'] = \\\n",
    "    await ledger.build_revoc_reg_entry_request(acme['did'], acme['revoc_reg_id'], 'CL_ACCUM',\n",
    "                                                acme['alice_cert_rev_reg_delta'])\n",
    "await ledger.sign_and_submit_request(acme['pool'], acme['wallet'], acme['did'], acme['revoc_reg_entry_req'])\n",
    "print()"
   ]
  },
  {
   "cell_type": "code",
   "execution_count": 54,
   "id": "506e41a0-d1ee-4868-b6d4-7b31a451f316",
   "metadata": {},
   "outputs": [],
   "source": [
    "# logger.info(\"\\\"Acme\\\" -> Send \\\"Job-Certificate\\\" Credential to Alice\")"
   ]
  },
  {
   "cell_type": "code",
   "execution_count": 55,
   "id": "b81bd065-9b18-4ca7-adf3-db47549d27fc",
   "metadata": {},
   "outputs": [],
   "source": [
    "alice['job_certificate_cred'] = acme['job_certificate_cred']\n",
    "job_certificate_cred_object = json.loads(alice['job_certificate_cred'])"
   ]
  },
  {
   "cell_type": "code",
   "execution_count": 56,
   "id": "5eaf5d39-097a-49a8-9cf8-1470677b8ef6",
   "metadata": {},
   "outputs": [],
   "source": [
    "# logger.info(\"\\\"Alice\\\" -> Gets RevocationRegistryDefinition for \\\"Job-Certificate\\\" Credential from Acme\")"
   ]
  },
  {
   "cell_type": "code",
   "execution_count": 57,
   "id": "fc2bbad0-0f50-4c22-b8f3-7f728cfd58b6",
   "metadata": {},
   "outputs": [],
   "source": [
    "alice['acme_revoc_reg_des_req'] = \\\n",
    "    await ledger.build_get_revoc_reg_def_request(alice['did'],\n",
    "                                                    job_certificate_cred_object['rev_reg_id'])\n",
    "alice['acme_revoc_reg_des_resp'] = \\\n",
    "    await ensure_previous_request_applied(alice['pool'], alice['acme_revoc_reg_des_req'],\n",
    "                                            lambda response: response['result']['data'] is not None)\n",
    "(alice['acme_revoc_reg_def_id'], alice['acme_revoc_reg_def_json']) = \\\n",
    "    await ledger.parse_get_revoc_reg_def_response(alice['acme_revoc_reg_des_resp'])"
   ]
  },
  {
   "cell_type": "code",
   "execution_count": 58,
   "id": "bef54f44-9625-4f6c-b746-d9515eb52655",
   "metadata": {},
   "outputs": [],
   "source": [
    "# logger.info(\"\\\"Alice\\\" -> Store \\\"Job-Certificate\\\" Credential\")"
   ]
  },
  {
   "cell_type": "code",
   "execution_count": 59,
   "id": "701c8d25-5bcc-4201-8a89-0a2858d4d459",
   "metadata": {
    "tags": []
   },
   "outputs": [
    {
     "name": "stdout",
     "output_type": "stream",
     "text": [
      "\n"
     ]
    }
   ],
   "source": [
    "await anoncreds.prover_store_credential(alice['wallet'], None, alice['job_certificate_cred_request_metadata'],\n",
    "                                        alice['job_certificate_cred'],\n",
    "                                        alice['acme_job_certificate_cred_def'], alice['acme_revoc_reg_def_json'])\n",
    "print()"
   ]
  },
  {
   "cell_type": "markdown",
   "id": "06bd03b5-929c-4f8d-bfb1-7b423f431985",
   "metadata": {
    "tags": []
   },
   "source": [
    "<br><br><br><hr>\n",
    "\n",
    "# 12. Apply for the loan with Thrift - Job-Certificate proving"
   ]
  },
  {
   "cell_type": "code",
   "execution_count": 60,
   "id": "67762eb6-a55d-4598-9486-bcea94916f8f",
   "metadata": {},
   "outputs": [],
   "source": [
    "# logger.info(\"\\\"Thrift\\\" -> Create \\\"Loan-Application-Basic\\\" Proof Request\")\n",
    "nonce = await anoncreds.generate_nonce()\n",
    "thrift['apply_loan_proof_request'] = json.dumps({\n",
    "    'nonce': nonce,\n",
    "    'name': 'Loan-Application-Basic',\n",
    "    'version': '0.1',\n",
    "    'requested_attributes': {\n",
    "        'attr1_referent': {\n",
    "            'name': 'employee_status',\n",
    "            'restrictions': [{'cred_def_id': acme['job_certificate_cred_def_id']}]\n",
    "        }\n",
    "    },\n",
    "    'requested_predicates': {\n",
    "        'predicate1_referent': {\n",
    "            'name': 'salary',\n",
    "            'p_type': '>=',\n",
    "            'p_value': 2000,\n",
    "            'restrictions': [{'cred_def_id': acme['job_certificate_cred_def_id']}]\n",
    "        },\n",
    "        'predicate2_referent': {\n",
    "            'name': 'experience',\n",
    "            'p_type': '>=',\n",
    "            'p_value': 1,\n",
    "            'restrictions': [{'cred_def_id': acme['job_certificate_cred_def_id']}]\n",
    "        }\n",
    "    },\n",
    "    'non_revoked': {'to': int(time.time())}\n",
    "})"
   ]
  },
  {
   "cell_type": "code",
   "execution_count": 61,
   "id": "ab052bff-b509-45ac-8a01-53407500232a",
   "metadata": {},
   "outputs": [],
   "source": [
    "# logger.info(\"\\\"Thrift\\\" -> Send \\\"Loan-Application-Basic\\\" Proof Request to Alice\")\n",
    "alice['apply_loan_proof_request'] = thrift['apply_loan_proof_request']"
   ]
  },
  {
   "cell_type": "code",
   "execution_count": 62,
   "id": "d3d16e80-0319-4fa2-8041-da9ceef02875",
   "metadata": {},
   "outputs": [],
   "source": [
    "# logger.info(\"\\\"Alice\\\" -> Get credentials for \\\"Loan-Application-Basic\\\" Proof Request\")\n",
    "search_for_apply_loan_proof_request = \\\n",
    "    await anoncreds.prover_search_credentials_for_proof_req(alice['wallet'],\n",
    "                                                            alice['apply_loan_proof_request'], None)\n",
    "\n",
    "cred_for_attr1 = await get_credential_for_referent(search_for_apply_loan_proof_request, 'attr1_referent')\n",
    "cred_for_predicate1 = await get_credential_for_referent(search_for_apply_loan_proof_request,\n",
    "                                                        'predicate1_referent')\n",
    "cred_for_predicate2 = await get_credential_for_referent(search_for_apply_loan_proof_request,\n",
    "                                                        'predicate2_referent')\n",
    "\n",
    "await anoncreds.prover_close_credentials_search_for_proof_req(search_for_apply_loan_proof_request)\n",
    "\n",
    "alice['creds_for_apply_loan_proof'] = {cred_for_attr1['referent']: cred_for_attr1,\n",
    "                                        cred_for_predicate1['referent']: cred_for_predicate1,\n",
    "                                        cred_for_predicate2['referent']: cred_for_predicate2}\n",
    "\n",
    "requested_timestamp = int(json.loads(thrift['apply_loan_proof_request'])['non_revoked']['to'])\n",
    "alice['schemas_for_loan_app'], alice['cred_defs_for_loan_app'], alice['revoc_states_for_loan_app'] = \\\n",
    "    await prover_get_entities_from_ledger(alice['pool'], alice['did'],\n",
    "                                            alice['creds_for_apply_loan_proof'],\n",
    "                                            alice['name'], None, requested_timestamp)"
   ]
  },
  {
   "cell_type": "code",
   "execution_count": 63,
   "id": "443b0a39-f130-4183-b170-49f4a74f2d6a",
   "metadata": {},
   "outputs": [],
   "source": [
    "# logger.info(\"\\\"Alice\\\" -> Create \\\"Loan-Application-Basic\\\" Proof\")\n",
    "revoc_states_for_loan_app = json.loads(alice['revoc_states_for_loan_app'])\n",
    "timestamp_for_attr1 = get_timestamp_for_attribute(cred_for_attr1, revoc_states_for_loan_app)\n",
    "timestamp_for_predicate1 = get_timestamp_for_attribute(cred_for_predicate1, revoc_states_for_loan_app)\n",
    "timestamp_for_predicate2 = get_timestamp_for_attribute(cred_for_predicate2, revoc_states_for_loan_app)\n",
    "alice['apply_loan_requested_creds'] = json.dumps({\n",
    "    'self_attested_attributes': {},\n",
    "    'requested_attributes': {\n",
    "        'attr1_referent': {'cred_id': cred_for_attr1['referent'], 'revealed': True,\n",
    "                            'timestamp': timestamp_for_attr1}\n",
    "    },\n",
    "    'requested_predicates': {\n",
    "        'predicate1_referent': {'cred_id': cred_for_predicate1['referent'],\n",
    "                                'timestamp': timestamp_for_predicate1},\n",
    "        'predicate2_referent': {'cred_id': cred_for_predicate2['referent'],\n",
    "                                'timestamp': timestamp_for_predicate2}\n",
    "    }\n",
    "})\n",
    "alice['apply_loan_proof'] = \\\n",
    "    await anoncreds.prover_create_proof(alice['wallet'], alice['apply_loan_proof_request'],\n",
    "                                        alice['apply_loan_requested_creds'], alice['master_secret_id'],\n",
    "                                        alice['schemas_for_loan_app'], alice['cred_defs_for_loan_app'],\n",
    "                                        alice['revoc_states_for_loan_app'])"
   ]
  },
  {
   "cell_type": "code",
   "execution_count": 64,
   "id": "8a172a3d-5457-4272-90b3-bcfbb9c82056",
   "metadata": {},
   "outputs": [],
   "source": [
    "# logger.info(\"\\\"Alice\\\" -> Send \\\"Loan-Application-Basic\\\" Proof to Thrift\")\n",
    "thrift['apply_loan_proof'] = alice['apply_loan_proof']\n",
    "apply_loan_proof_object = json.loads(thrift['apply_loan_proof'])"
   ]
  },
  {
   "cell_type": "code",
   "execution_count": 65,
   "id": "11e9ef79-9a89-41fe-96b4-50a9eec10dc2",
   "metadata": {},
   "outputs": [],
   "source": [
    "# logger.info(\"\\\"Thrift\\\" -> Get Schemas, Credential Definitions and Revocation Registries from Ledger required for Proof verifying\")\n",
    "\n",
    "thrift['schemas_for_loan_app'], thrift['cred_defs_for_loan_app'], thrift['revoc_defs_for_loan_app'], \\\n",
    "thrift['revoc_regs_for_loan_app'] = \\\n",
    "    await verifier_get_entities_from_ledger(thrift['pool'], thrift['did'],\n",
    "                                            apply_loan_proof_object['identifiers'],\n",
    "                                            thrift['name'], requested_timestamp)"
   ]
  },
  {
   "cell_type": "code",
   "execution_count": 66,
   "id": "45058bda-0898-4b64-b578-dbc385cca3f2",
   "metadata": {},
   "outputs": [],
   "source": [
    "# logger.info(\"\\\"Thrift\\\" -> Verify \\\"Loan-Application-Basic\\\" Proof from Alice\")\n",
    "assert 'Permanent' == apply_loan_proof_object['requested_proof']['revealed_attrs']['attr1_referent']['raw']\n",
    "\n",
    "assert await anoncreds.verifier_verify_proof(thrift['apply_loan_proof_request'],\n",
    "                                                thrift['apply_loan_proof'],\n",
    "                                                thrift['schemas_for_loan_app'],\n",
    "                                                thrift['cred_defs_for_loan_app'],\n",
    "                                                thrift['revoc_defs_for_loan_app'],\n",
    "                                                thrift['revoc_regs_for_loan_app'])"
   ]
  },
  {
   "cell_type": "markdown",
   "id": "af5c9986-2e5a-4311-a94a-da2bc0ee64e6",
   "metadata": {
    "tags": []
   },
   "source": [
    "<br><br><br><hr>\n",
    "\n",
    "# 13. Apply for the loan with Thrift - Transcript and Job-Certificate proving"
   ]
  },
  {
   "cell_type": "code",
   "execution_count": 67,
   "id": "9074342c-0e53-423a-9b73-bae90a746e08",
   "metadata": {},
   "outputs": [],
   "source": [
    "# logger.info(\"\\\"Thrift\\\" -> Create \\\"Loan-Application-KYC\\\" Proof Request\")\n",
    "nonce = await anoncreds.generate_nonce()\n",
    "thrift['apply_loan_kyc_proof_request'] = json.dumps({\n",
    "    'nonce': nonce,\n",
    "    'name': 'Loan-Application-KYC',\n",
    "    'version': '0.1',\n",
    "    'requested_attributes': {\n",
    "        'attr1_referent': {'name': 'first_name'},\n",
    "        'attr2_referent': {'name': 'last_name'},\n",
    "        'attr3_referent': {'name': 'ssn'}\n",
    "    },\n",
    "    'requested_predicates': {}\n",
    "})"
   ]
  },
  {
   "cell_type": "code",
   "execution_count": 68,
   "id": "905a5b2d-40b7-4c33-a163-6b9686f376b9",
   "metadata": {},
   "outputs": [],
   "source": [
    "# logger.info(\"\\\"Thrift\\\" -> Send \\\"Loan-Application-KYC\\\" Proof Request to Alice\")\n",
    "alice['apply_loan_kyc_proof_request'] = thrift['apply_loan_kyc_proof_request']"
   ]
  },
  {
   "cell_type": "code",
   "execution_count": 69,
   "id": "8d416d2f-a96e-46f5-b68f-2cd8b30c1d76",
   "metadata": {},
   "outputs": [],
   "source": [
    "# logger.info(\"\\\"Alice\\\" -> Get credentials for \\\"Loan-Application-KYC\\\" Proof Request\")\n",
    "\n",
    "search_for_apply_loan_kyc_proof_request = \\\n",
    "    await anoncreds.prover_search_credentials_for_proof_req(alice['wallet'],\n",
    "                                                            alice['apply_loan_kyc_proof_request'], None)\n",
    "\n",
    "cred_for_attr1 = await get_credential_for_referent(search_for_apply_loan_kyc_proof_request, 'attr1_referent')\n",
    "cred_for_attr2 = await get_credential_for_referent(search_for_apply_loan_kyc_proof_request, 'attr2_referent')\n",
    "cred_for_attr3 = await get_credential_for_referent(search_for_apply_loan_kyc_proof_request, 'attr3_referent')\n",
    "\n",
    "await anoncreds.prover_close_credentials_search_for_proof_req(search_for_apply_loan_kyc_proof_request)\n",
    "\n",
    "alice['creds_for_apply_loan_kyc_proof'] = {cred_for_attr1['referent']: cred_for_attr1,\n",
    "                                            cred_for_attr2['referent']: cred_for_attr2,\n",
    "                                            cred_for_attr3['referent']: cred_for_attr3}\n",
    "\n",
    "alice['schemas_for_loan_kyc_app'], alice['cred_defs_for_loan_kyc_app'], alice['revoc_states_for_loan_kyc_app'] = \\\n",
    "    await prover_get_entities_from_ledger(alice['pool'], alice['did'],\n",
    "                                            alice['creds_for_apply_loan_kyc_proof'], alice['name'], )"
   ]
  },
  {
   "cell_type": "code",
   "execution_count": 70,
   "id": "e2b6a22d-a8a4-414b-b7f0-77b735511b9f",
   "metadata": {},
   "outputs": [],
   "source": [
    "# logger.info(\"\\\"Alice\\\" -> Create \\\"Loan-Application-KYC\\\" Proof\")\n",
    "revoc_states_for_loan_app = json.loads(alice['revoc_states_for_loan_kyc_app'])\n",
    "timestamp_for_attr1 = get_timestamp_for_attribute(cred_for_attr1, revoc_states_for_loan_app)\n",
    "timestamp_for_attr2 = get_timestamp_for_attribute(cred_for_attr2, revoc_states_for_loan_app)\n",
    "timestamp_for_attr3 = get_timestamp_for_attribute(cred_for_attr3, revoc_states_for_loan_app)\n",
    "alice['apply_loan_kyc_requested_creds'] = json.dumps({\n",
    "    'self_attested_attributes': {},\n",
    "    'requested_attributes': {\n",
    "        'attr1_referent': {'cred_id': cred_for_attr1['referent'], 'revealed': True,\n",
    "                            'timestamp': timestamp_for_attr1},\n",
    "        'attr2_referent': {'cred_id': cred_for_attr2['referent'], 'revealed': True,\n",
    "                            'timestamp': timestamp_for_attr2},\n",
    "        'attr3_referent': {'cred_id': cred_for_attr3['referent'], 'revealed': True,\n",
    "                            'timestamp': timestamp_for_attr3}\n",
    "    },\n",
    "    'requested_predicates': {}\n",
    "})\n",
    "\n",
    "alice['apply_loan_kyc_proof'] = \\\n",
    "    await anoncreds.prover_create_proof(alice['wallet'], alice['apply_loan_kyc_proof_request'],\n",
    "                                        alice['apply_loan_kyc_requested_creds'], alice['master_secret_id'],\n",
    "                                        alice['schemas_for_loan_kyc_app'], alice['cred_defs_for_loan_kyc_app'],\n",
    "                                        alice['revoc_states_for_loan_kyc_app'])"
   ]
  },
  {
   "cell_type": "code",
   "execution_count": 71,
   "id": "02fafd9b-2b4b-4a21-bcbf-e13be6291399",
   "metadata": {},
   "outputs": [],
   "source": [
    "# logger.info(\"\\\"Alice\\\" -> Send \\\"Loan-Application-KYC\\\" Proof to Thrift\")\n",
    "thrift['apply_loan_kyc_proof'] = alice['apply_loan_kyc_proof']\n",
    "apply_loan_kyc_proof_object = json.loads(thrift['apply_loan_kyc_proof'])"
   ]
  },
  {
   "cell_type": "code",
   "execution_count": 72,
   "id": "a21964a3-0791-4ffe-bc16-bf5766d7c574",
   "metadata": {},
   "outputs": [],
   "source": [
    "# logger.info(\"\\\"Thrift\\\" -> Get Schemas, Credential Definitions and Revocation Registries from Ledger required for Proof verifying\")\n",
    "\n",
    "thrift['schemas_for_loan_kyc_app'], thrift['cred_defs_for_loan_kyc_app'], thrift['revoc_defs_for_loan_kyc_app'], \\\n",
    "thrift['revoc_regs_for_loan_kyc_app'] = \\\n",
    "    await verifier_get_entities_from_ledger(thrift['pool'], thrift['did'],\n",
    "                                            apply_loan_kyc_proof_object['identifiers'], thrift['name'])"
   ]
  },
  {
   "cell_type": "code",
   "execution_count": 73,
   "id": "1f389e47-6f03-4b57-8bf6-b91f9a99f427",
   "metadata": {},
   "outputs": [],
   "source": [
    "# logger.info(\"\\\"Thrift\\\" -> Verify \\\"Loan-Application-KYC\\\" Proof from Alice\")\n",
    "assert 'Alice' == \\\n",
    "        apply_loan_kyc_proof_object['requested_proof']['revealed_attrs']['attr1_referent']['raw']\n",
    "assert 'Garcia' == \\\n",
    "        apply_loan_kyc_proof_object['requested_proof']['revealed_attrs']['attr2_referent']['raw']\n",
    "assert '123-45-6789' == \\\n",
    "        apply_loan_kyc_proof_object['requested_proof']['revealed_attrs']['attr3_referent']['raw']\n",
    "\n",
    "assert await anoncreds.verifier_verify_proof(thrift['apply_loan_kyc_proof_request'],\n",
    "                                                thrift['apply_loan_kyc_proof'],\n",
    "                                                thrift['schemas_for_loan_kyc_app'],\n",
    "                                                thrift['cred_defs_for_loan_kyc_app'],\n",
    "                                                thrift['revoc_defs_for_loan_kyc_app'],\n",
    "                                                thrift['revoc_regs_for_loan_kyc_app'])"
   ]
  },
  {
   "cell_type": "markdown",
   "id": "e8bbaad9-fbdd-4cc4-87dc-cb473309ce83",
   "metadata": {
    "tags": []
   },
   "source": [
    "<br><br><br><hr>\n",
    "\n",
    "# 14. Credential revocation - Acme revokes Alice's Job-Certificate"
   ]
  },
  {
   "cell_type": "code",
   "execution_count": 74,
   "id": "28442d1b-03d0-4d3f-bbc3-0ad4c01d5f6d",
   "metadata": {},
   "outputs": [],
   "source": [
    "# logger.info(\"\\\"Acme\\\" - Revoke  credential\")\n",
    "acme['alice_cert_rev_reg_delta'] = \\\n",
    "    await anoncreds.issuer_revoke_credential(acme['wallet'],\n",
    "                                                acme['blob_storage_reader_cfg_handle'],\n",
    "                                                acme['revoc_reg_id'],\n",
    "                                                acme['job_certificate_cred_rev_id'])"
   ]
  },
  {
   "cell_type": "code",
   "execution_count": 75,
   "id": "8a8bbca5-3533-4253-9a03-ea6c4864cbcf",
   "metadata": {},
   "outputs": [
    {
     "name": "stdout",
     "output_type": "stream",
     "text": [
      "\n"
     ]
    }
   ],
   "source": [
    "# logger.info(\"\\\"Acme\\\" - Post RevocationRegistryDelta to Ledger\")\n",
    "acme['revoc_reg_entry_req'] = \\\n",
    "    await ledger.build_revoc_reg_entry_request(acme['did'], acme['revoc_reg_id'], 'CL_ACCUM',\n",
    "                                                acme['alice_cert_rev_reg_delta'])\n",
    "await ledger.sign_and_submit_request(acme['pool'], acme['wallet'], acme['did'], acme['revoc_reg_entry_req'])\n",
    "print()"
   ]
  },
  {
   "cell_type": "markdown",
   "id": "729eb701-c0a2-469e-8fa6-c43f6c203bf9",
   "metadata": {
    "tags": []
   },
   "source": [
    "<br><br><br><hr>\n",
    "\n",
    "# 15. Apply for the loan with Thrift - Job-Certificate proving (After Revoke)"
   ]
  },
  {
   "cell_type": "code",
   "execution_count": 76,
   "id": "de3b010a-326a-4bac-b7c6-a102b2073fe2",
   "metadata": {},
   "outputs": [],
   "source": [
    "# logger.info(\"\\\"Thrift\\\" -> Create \\\"Loan-Application-Basic\\\" Proof Request\")\n",
    "nonce = await anoncreds.generate_nonce()\n",
    "thrift['apply_loan_proof_request'] = json.dumps({\n",
    "    'nonce': nonce,\n",
    "    'name': 'Loan-Application-Basic',\n",
    "    'version': '0.1',\n",
    "    'requested_attributes': {\n",
    "        'attr1_referent': {\n",
    "            'name': 'employee_status',\n",
    "            'restrictions': [{'cred_def_id': acme['job_certificate_cred_def_id']}]\n",
    "        }\n",
    "    },\n",
    "    'requested_predicates': {\n",
    "        'predicate1_referent': {\n",
    "            'name': 'salary',\n",
    "            'p_type': '>=',\n",
    "            'p_value': 2000,\n",
    "            'restrictions': [{'cred_def_id': acme['job_certificate_cred_def_id']}]\n",
    "        },\n",
    "        'predicate2_referent': {\n",
    "            'name': 'experience',\n",
    "            'p_type': '>=',\n",
    "            'p_value': 1,\n",
    "            'restrictions': [{'cred_def_id': acme['job_certificate_cred_def_id']}]\n",
    "        }\n",
    "    },\n",
    "    'non_revoked': {'to': int(time.time())}\n",
    "})"
   ]
  },
  {
   "cell_type": "code",
   "execution_count": 77,
   "id": "cbd3507e-1a89-4e22-bb0d-09ab414366ee",
   "metadata": {},
   "outputs": [],
   "source": [
    "# logger.info(\"\\\"Thrift\\\" -> Send \\\"Loan-Application-Basic\\\" Proof Request to Alice\")\n",
    "alice['apply_loan_proof_request'] = thrift['apply_loan_proof_request']"
   ]
  },
  {
   "cell_type": "code",
   "execution_count": 78,
   "id": "7ed46650-107d-477b-944b-8a1d66d813c2",
   "metadata": {},
   "outputs": [],
   "source": [
    "# logger.info(\"\\\"Alice\\\" -> Get credentials for \\\"Loan-Application-Basic\\\" Proof Request\")\n",
    "search_for_apply_loan_proof_request = \\\n",
    "    await anoncreds.prover_search_credentials_for_proof_req(alice['wallet'],\n",
    "                                                            alice['apply_loan_proof_request'], None)\n",
    "\n",
    "cred_for_attr1 = await get_credential_for_referent(search_for_apply_loan_proof_request, 'attr1_referent')\n",
    "cred_for_predicate1 = await get_credential_for_referent(search_for_apply_loan_proof_request,\n",
    "                                                        'predicate1_referent')\n",
    "cred_for_predicate2 = await get_credential_for_referent(search_for_apply_loan_proof_request,\n",
    "                                                        'predicate2_referent')\n",
    "\n",
    "await anoncreds.prover_close_credentials_search_for_proof_req(search_for_apply_loan_proof_request)\n",
    "\n",
    "alice['creds_for_apply_loan_proof'] = {cred_for_attr1['referent']: cred_for_attr1,\n",
    "                                        cred_for_predicate1['referent']: cred_for_predicate1,\n",
    "                                        cred_for_predicate2['referent']: cred_for_predicate2}\n",
    "\n",
    "requested_timestamp = int(json.loads(thrift['apply_loan_proof_request'])['non_revoked']['to'])\n",
    "alice['schemas_for_loan_app'], alice['cred_defs_for_loan_app'], alice['revoc_states_for_loan_app'] = \\\n",
    "    await prover_get_entities_from_ledger(alice['pool'], alice['did'],\n",
    "                                            alice['creds_for_apply_loan_proof'],\n",
    "                                            alice['name'], None, requested_timestamp)"
   ]
  },
  {
   "cell_type": "code",
   "execution_count": 79,
   "id": "c0d036fc-5832-446f-8239-f262227af68d",
   "metadata": {},
   "outputs": [],
   "source": [
    "# logger.info(\"\\\"Alice\\\" -> Create \\\"Loan-Application-Basic\\\" Proof\")\n",
    "revoc_states_for_loan_app = json.loads(alice['revoc_states_for_loan_app'])\n",
    "timestamp_for_attr1 = get_timestamp_for_attribute(cred_for_attr1, revoc_states_for_loan_app)\n",
    "timestamp_for_predicate1 = get_timestamp_for_attribute(cred_for_predicate1, revoc_states_for_loan_app)\n",
    "timestamp_for_predicate2 = get_timestamp_for_attribute(cred_for_predicate2, revoc_states_for_loan_app)\n",
    "alice['apply_loan_requested_creds'] = json.dumps({\n",
    "    'self_attested_attributes': {},\n",
    "    'requested_attributes': {\n",
    "        'attr1_referent': {'cred_id': cred_for_attr1['referent'], 'revealed': True,\n",
    "                            'timestamp': timestamp_for_attr1}\n",
    "    },\n",
    "    'requested_predicates': {\n",
    "        'predicate1_referent': {'cred_id': cred_for_predicate1['referent'],\n",
    "                                'timestamp': timestamp_for_predicate1},\n",
    "        'predicate2_referent': {'cred_id': cred_for_predicate2['referent'],\n",
    "                                'timestamp': timestamp_for_predicate2}\n",
    "    }\n",
    "})\n",
    "alice['apply_loan_proof'] = \\\n",
    "    await anoncreds.prover_create_proof(alice['wallet'], alice['apply_loan_proof_request'],\n",
    "                                        alice['apply_loan_requested_creds'], alice['master_secret_id'],\n",
    "                                        alice['schemas_for_loan_app'], alice['cred_defs_for_loan_app'],\n",
    "                                        alice['revoc_states_for_loan_app'])"
   ]
  },
  {
   "cell_type": "code",
   "execution_count": 80,
   "id": "c91f6ad0-dba3-4e3f-87b8-97d32ec17a76",
   "metadata": {},
   "outputs": [],
   "source": [
    "# logger.info(\"\\\"Alice\\\" -> Send \\\"Loan-Application-Basic\\\" Proof to Thrift\")\n",
    "thrift['apply_loan_proof'] = alice['apply_loan_proof']\n",
    "apply_loan_proof_object = json.loads(thrift['apply_loan_proof'])"
   ]
  },
  {
   "cell_type": "code",
   "execution_count": 81,
   "id": "9de73656-66d3-4899-8e92-355dde7b508b",
   "metadata": {},
   "outputs": [],
   "source": [
    "# logger.info(\"\\\"Thrift\\\" -> Get Schemas, Credential Definitions and Revocation Registries from Ledger required for Proof verifying\")\n",
    "\n",
    "thrift['schemas_for_loan_app'], thrift['cred_defs_for_loan_app'], thrift['revoc_defs_for_loan_app'], \\\n",
    "thrift['revoc_regs_for_loan_app'] = \\\n",
    "    await verifier_get_entities_from_ledger(thrift['pool'], thrift['did'],\n",
    "                                            apply_loan_proof_object['identifiers'],\n",
    "                                            thrift['name'], requested_timestamp)"
   ]
  },
  {
   "cell_type": "code",
   "execution_count": 82,
   "id": "d40c5e80-0f75-4edb-a778-7df9af91fee3",
   "metadata": {},
   "outputs": [
    {
     "ename": "AssertionError",
     "evalue": "",
     "output_type": "error",
     "traceback": [
      "\u001b[0;31m---------------------------------------------------------------------------\u001b[0m",
      "\u001b[0;31mAssertionError\u001b[0m                            Traceback (most recent call last)",
      "\u001b[0;32m<ipython-input-82-a175d9065bbd>\u001b[0m in \u001b[0;36masync-def-wrapper\u001b[0;34m()\u001b[0m\n",
      "\u001b[0;31mAssertionError\u001b[0m: "
     ]
    }
   ],
   "source": [
    "# logger.info(\"\\\"Thrift\\\" -> Verify \\\"Loan-Application-Basic\\\" Proof from Alice\")\n",
    "assert 'Permanent' == apply_loan_proof_object['requested_proof']['revealed_attrs']['attr1_referent']['raw']\n",
    "\n",
    "assert await anoncreds.verifier_verify_proof(thrift['apply_loan_proof_request'],\n",
    "                                                thrift['apply_loan_proof'],\n",
    "                                                thrift['schemas_for_loan_app'],\n",
    "                                                thrift['cred_defs_for_loan_app'],\n",
    "                                                thrift['revoc_defs_for_loan_app'],\n",
    "                                                thrift['revoc_regs_for_loan_app'])"
   ]
  },
  {
   "cell_type": "markdown",
   "id": "20e90882-30f7-46f2-a7ef-038c136c74d2",
   "metadata": {
    "tags": []
   },
   "source": [
    "<br><br><br><hr>\n",
    "\n",
    "# 16. Finish"
   ]
  },
  {
   "cell_type": "code",
   "execution_count": 83,
   "id": "ebda558f-26a8-4f70-bb76-5238419b961d",
   "metadata": {},
   "outputs": [],
   "source": [
    "# logger.info(\" \\\"Sovrin Steward\\\" -> Close and Delete wallet\")\n",
    "await wallet.close_wallet(steward['wallet'])\n",
    "await wallet.delete_wallet(steward['wallet_config'], steward['wallet_credentials'])"
   ]
  },
  {
   "cell_type": "code",
   "execution_count": 84,
   "id": "9b64be06-5f3b-4836-986b-43fe9b07b781",
   "metadata": {},
   "outputs": [],
   "source": [
    "# logger.info(\"\\\"Government\\\" -> Close and Delete wallet\")\n",
    "await wallet.close_wallet(government['wallet'])\n",
    "await wallet.delete_wallet(government['wallet_config'],government['wallet_credentials'])"
   ]
  },
  {
   "cell_type": "code",
   "execution_count": 85,
   "id": "7ddbe331-7fb4-4c2a-beb8-882875bfa920",
   "metadata": {},
   "outputs": [],
   "source": [
    "# logger.info(\"\\\"Faber\\\" -> Close and Delete wallet\")\n",
    "await wallet.close_wallet(faber['wallet'])\n",
    "await wallet.delete_wallet(faber['wallet_config'], faber['wallet_credentials'])"
   ]
  },
  {
   "cell_type": "code",
   "execution_count": 86,
   "id": "a4cc8e39-8f4b-45ba-af56-f9399997d502",
   "metadata": {},
   "outputs": [],
   "source": [
    "# logger.info(\"\\\"Acme\\\" -> Close and Delete wallet\")\n",
    "await wallet.close_wallet(acme['wallet'])\n",
    "await wallet.delete_wallet(acme['wallet_config'], acme['wallet_credentials'])"
   ]
  },
  {
   "cell_type": "code",
   "execution_count": 87,
   "id": "f47f348e-25dc-404a-88e0-b0c9839f0779",
   "metadata": {},
   "outputs": [],
   "source": [
    "# logger.info(\"\\\"Thrift\\\" -> Close and Delete wallet\")\n",
    "await wallet.close_wallet(thrift['wallet'])\n",
    "await wallet.delete_wallet(thrift['wallet_config'], thrift['wallet_credentials'])"
   ]
  },
  {
   "cell_type": "code",
   "execution_count": 88,
   "id": "2cfd5eff-c5f3-4d40-ab90-96544bb12209",
   "metadata": {},
   "outputs": [],
   "source": [
    "# logger.info(\"\\\"Alice\\\" -> Close and Delete wallet\")\n",
    "await wallet.close_wallet(alice['wallet'])\n",
    "await wallet.delete_wallet(alice['wallet_config'], alice['wallet_credentials'])"
   ]
  },
  {
   "cell_type": "code",
   "execution_count": 89,
   "id": "c94a01b6-ab90-4d4c-95fb-9f541822170a",
   "metadata": {},
   "outputs": [],
   "source": [
    "# logger.info(\"Close and Delete pool\")\n",
    "await pool.close_pool_ledger(pool_['handle'])\n",
    "await pool.delete_pool_ledger_config(pool_['name'])"
   ]
  }
 ],
 "metadata": {
  "kernelspec": {
   "display_name": "Python 3",
   "language": "python",
   "name": "python3"
  },
  "language_info": {
   "codemirror_mode": {
    "name": "ipython",
    "version": 3
   },
   "file_extension": ".py",
   "mimetype": "text/x-python",
   "name": "python",
   "nbconvert_exporter": "python",
   "pygments_lexer": "ipython3",
   "version": "3.6.9"
  }
 },
 "nbformat": 4,
 "nbformat_minor": 5
}
