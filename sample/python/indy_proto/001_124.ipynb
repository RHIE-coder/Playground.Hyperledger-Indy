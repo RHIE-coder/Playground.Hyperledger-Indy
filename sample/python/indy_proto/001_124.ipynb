{
 "cells": [
  {
   "cell_type": "markdown",
   "id": "b1d01cb5-7e66-4149-85db-ae4963135e09",
   "metadata": {},
   "source": [
    "# (분석 전용 기능 정의)"
   ]
  },
  {
   "cell_type": "code",
   "execution_count": 8,
   "id": "f9112d69-9362-4ba2-b6d6-829673474371",
   "metadata": {},
   "outputs": [],
   "source": [
    "import json\n",
    "import pprint\n",
    "\n",
    "class IndyPrinter:\n",
    "    \n",
    "    line_char='-'\n",
    "    line_length=100\n",
    "    ref_line_char='#'\n",
    "    ref_line_length=50\n",
    "    \n",
    "    class __JsonPrintType:\n",
    "        NOT_JSON = 0\n",
    "        PURE_JSON = 1\n",
    "        MULTIPLE_JSON_STR = 2\n",
    "        \n",
    "    def __init__(self, data):\n",
    "        self.__result, self.__is_json = self.__type_filter(data)\n",
    "        \n",
    "    def __call__(self, print_title=None, *, use_pp=True):\n",
    "        pp = pprint.PrettyPrinter(width=40, indent=2, compact=True)\n",
    "        \n",
    "        self.__line(self.line_char, self.line_length)\n",
    "        if print_title is not None : print(print_title.center(self.line_length, self.line_char))\n",
    "        if not self.__is_json : print(self.__result)\n",
    "        elif use_pp : pp.pprint(self.__result)\n",
    "        else : self.__json_print()\n",
    "        self.__line(self.line_char, self.line_length)\n",
    "    \n",
    "    def default_mode(self):\n",
    "        self.line_char='-'\n",
    "        self.line_length=100\n",
    "        self.ref_line_char='^'\n",
    "        self.ref_line_length=50\n",
    "        \n",
    "    def __type_filter(self, data):\n",
    "        _data = data\n",
    "        data_type = type(_data)\n",
    "        is_json = True\n",
    "        \n",
    "        try:\n",
    "            if data_type == 'dict' : \n",
    "                _data = json.dumps(_data)\n",
    "            _data = json.loads(_data)\n",
    "        except json.JSONDecodeError:\n",
    "            is_json = False\n",
    "        finally:\n",
    "            if(is_json) : return (_data, is_json)\n",
    "            return (_data, is_json)\n",
    "    \n",
    "    def __line(self, char, length):\n",
    "        print(char * length)\n",
    "    \n",
    "    def __json_print(self):\n",
    "        json_obj = self.__result\n",
    "        print(f'<json_keys> : {[key for key in json_obj]}')\n",
    "        spec = self.__analyze_structure(json_obj)\n",
    "        json_info, references = self.__mapping(json_obj, spec)\n",
    "        print(json.dumps(json_info, indent=4))\n",
    "        self.__line(self.ref_line_char, self.ref_line_length)\n",
    "        print(\"REFERENCES\".center(self.ref_line_length, self.ref_line_char))\n",
    "        for ref_name in references: \n",
    "            print(f'{ref_name} : {json.dumps(references[ref_name], indent=4)}')\n",
    "        self.__line(self.ref_line_char, self.ref_line_length)\n",
    "    \n",
    "    def __analyze_structure(self, json_obj):\n",
    "        result = []\n",
    "        for k, v in data.items():\n",
    "            parse_type = None\n",
    "            if type(v) != int and v[0] == '{' and v[-1] == '}' : \n",
    "                parse_type = self.__JsonPrintType.PURE_JSON\n",
    "                if '\\n' in v : \n",
    "                    parse_type = self.__JsonPrintType.MULTIPLE_JSON_STR\n",
    "            else: \n",
    "                parse_type = self.__JsonPrintType.NOT_JSON\n",
    "            result.append((k, parse_type))\n",
    "        return dict(result)\n",
    "    \n",
    "    def __mapping(self, json_obj, spec):\n",
    "        \n",
    "        details = dict()\n",
    "        \n",
    "        for key in json_obj:\n",
    "            if spec[key] == self.__JsonPrintType.MULTIPLE_JSON_STR:\n",
    "                name = '[[{}]]'.format(key)\n",
    "                details[name] = list(map(lambda json_str: json.loads(json_str), json_obj[key].split('\\n')))\n",
    "                json_obj[key] = f'{name} : please ignore list'\n",
    "            elif spec[key] == self.__JsonPrintType.PURE_JSON:\n",
    "                json_obj[key] = json.loads(json_obj[key])\n",
    "            elif spec[key] == self.__JsonPrintType.NOT_JSON:\n",
    "                pass\n",
    "            \n",
    "        return json_obj, details\n",
    "    \n",
    "class PrintFuncIO:\n",
    "    def __init__(self, func):\n",
    "        self.func = func\n",
    "    \n",
    "    def __call__(self, *args, **kwargs):\n",
    "        print('[input] tuple params : ', end='')\n",
    "        pprint.pprint(args)\n",
    "        print('[input]dict params : ', end='')\n",
    "        pprint.pprint(kwargs)\n",
    "        print('[output]result : ', end='')\n",
    "        result = self.func(*args, **kwargs)\n",
    "        pprint.pprint(result)\n",
    "        return result"
   ]
  },
  {
   "cell_type": "markdown",
   "id": "afd04524-e7de-488b-8f64-a42b2f1fad8f",
   "metadata": {},
   "source": [
    "# 1. 필요한 모듈 불러오기"
   ]
  },
  {
   "cell_type": "code",
   "execution_count": 9,
   "id": "494100c7-6795-4660-900c-9b4ec34eeaaf",
   "metadata": {},
   "outputs": [],
   "source": [
    "# Core Modules\n",
    "from indy import anoncreds, did, ledger, pool, wallet, blob_storage\n",
    "from indy.error import ErrorCode, IndyError\n",
    "import asyncio\n",
    "import time\n",
    "\n",
    "# Utils\n",
    "import json\n",
    "from os import environ\n",
    "from pathlib import Path\n",
    "from tempfile import gettempdir\n",
    "import sys\n",
    "from ctypes import *\n",
    "from os.path import dirname"
   ]
  },
  {
   "cell_type": "markdown",
   "id": "13d8823c-0eb9-4088-b41b-a0bd513bbc93",
   "metadata": {
    "tags": []
   },
   "source": [
    "<br><br><br><hr>\n",
    "\n",
    "# 2. 유틸함수 및 주요 변수 선언"
   ]
  },
  {
   "cell_type": "code",
   "execution_count": 10,
   "id": "ae289ea6-94a0-4968-87db-c526d1906a44",
   "metadata": {},
   "outputs": [],
   "source": [
    "PROTOCOL_VERSION = 2\n",
    "\n",
    "def default_path_home() -> Path:\n",
    "    \"\"\"\n",
    "    @return : .indy_client path home \n",
    "    \n",
    "    [Description]:\n",
    "    indy 및 aries의 default 경로를 반환한다.\n",
    "    \"\"\"\n",
    "    return Path.home().joinpath(\".indy_client\")\n",
    "\n",
    "def tmp_path_home() -> Path:\n",
    "    \"\"\"\n",
    "    @return : 임시폴더안의 indy 경로 ( if linux /tmp/indy )\n",
    "    \n",
    "    [Description]:\n",
    "    테스트를 위한 임시폴더 경로를 만들어 반환한다.\n",
    "    \"\"\"\n",
    "    return Path(gettempdir()).joinpath(\"indy\")\n",
    "\n",
    "def local_indy_pool_genesis_txn_data(pool_ip : str = \"127.0.0.1\") -> str:\n",
    "    \"\"\"\n",
    "    @params pool_ip : pool ledger에 저장될 참여 노드 ip 주소\n",
    "    @return : genesis txn data\n",
    "    \n",
    "    [Description]:\n",
    "    indy-SDK SAMPLE 에서 제공하는 indy-node에서 정해진 indy_pool 도커 컨테이너에 접근하는 Genesis 데이터를 반환함\n",
    "    \"\"\"\n",
    "    #pool_ip = environ.get(\"TEST_POOL_IP\", \"127.0.0.1\")\n",
    "\n",
    "    return \"\\n\".join([\n",
    "        '{{\"reqSignature\":{{}},\"txn\":{{\"data\":{{\"data\":{{\"alias\":\"Node1\",\"blskey\":\"4N8aUNHSgjQVgkpm8nhNEfDf6txHznoYREg9kirmJrkivgL4oSEimFF6nsQ6M41QvhM2Z33nves5vfSn9n1UwNFJBYtWVnHYMATn76vLuL3zU88KyeAYcHfsih3He6UHcXDxcaecHVz6jhCYz1P2UZn2bDVruL5wXpehgBfBaLKm3Ba\",\"blskey_pop\":\"RahHYiCvoNCtPTrVtP7nMC5eTYrsUA8WjXbdhNc8debh1agE9bGiJxWBXYNFbnJXoXhWFMvyqhqhRoq737YQemH5ik9oL7R4NTTCz2LEZhkgLJzB3QRQqJyBNyv7acbdHrAT8nQ9UkLbaVL9NBpnWXBTw4LEMePaSHEw66RzPNdAX1\",\"client_ip\":\"{}\",\"client_port\":9702,\"node_ip\":\"{}\",\"node_port\":9701,\"services\":[\"VALIDATOR\"]}},\"dest\":\"Gw6pDLhcBcoQesN72qfotTgFa7cbuqZpkX3Xo6pLhPhv\"}},\"metadata\":{{\"from\":\"Th7MpTaRZVRYnPiabds81Y\"}},\"type\":\"0\"}},\"txnMetadata\":{{\"seqNo\":1,\"txnId\":\"fea82e10e894419fe2bea7d96296a6d46f50f93f9eeda954ec461b2ed2950b62\"}},\"ver\":\"1\"}}'.format(\n",
    "            pool_ip, pool_ip),\n",
    "        '{{\"reqSignature\":{{}},\"txn\":{{\"data\":{{\"data\":{{\"alias\":\"Node2\",\"blskey\":\"37rAPpXVoxzKhz7d9gkUe52XuXryuLXoM6P6LbWDB7LSbG62Lsb33sfG7zqS8TK1MXwuCHj1FKNzVpsnafmqLG1vXN88rt38mNFs9TENzm4QHdBzsvCuoBnPH7rpYYDo9DZNJePaDvRvqJKByCabubJz3XXKbEeshzpz4Ma5QYpJqjk\",\"blskey_pop\":\"Qr658mWZ2YC8JXGXwMDQTzuZCWF7NK9EwxphGmcBvCh6ybUuLxbG65nsX4JvD4SPNtkJ2w9ug1yLTj6fgmuDg41TgECXjLCij3RMsV8CwewBVgVN67wsA45DFWvqvLtu4rjNnE9JbdFTc1Z4WCPA3Xan44K1HoHAq9EVeaRYs8zoF5\",\"client_ip\":\"{}\",\"client_port\":9704,\"node_ip\":\"{}\",\"node_port\":9703,\"services\":[\"VALIDATOR\"]}},\"dest\":\"8ECVSk179mjsjKRLWiQtssMLgp6EPhWXtaYyStWPSGAb\"}},\"metadata\":{{\"from\":\"EbP4aYNeTHL6q385GuVpRV\"}},\"type\":\"0\"}},\"txnMetadata\":{{\"seqNo\":2,\"txnId\":\"1ac8aece2a18ced660fef8694b61aac3af08ba875ce3026a160acbc3a3af35fc\"}},\"ver\":\"1\"}}'.format(\n",
    "            pool_ip, pool_ip),\n",
    "        '{{\"reqSignature\":{{}},\"txn\":{{\"data\":{{\"data\":{{\"alias\":\"Node3\",\"blskey\":\"3WFpdbg7C5cnLYZwFZevJqhubkFALBfCBBok15GdrKMUhUjGsk3jV6QKj6MZgEubF7oqCafxNdkm7eswgA4sdKTRc82tLGzZBd6vNqU8dupzup6uYUf32KTHTPQbuUM8Yk4QFXjEf2Usu2TJcNkdgpyeUSX42u5LqdDDpNSWUK5deC5\",\"blskey_pop\":\"QwDeb2CkNSx6r8QC8vGQK3GRv7Yndn84TGNijX8YXHPiagXajyfTjoR87rXUu4G4QLk2cF8NNyqWiYMus1623dELWwx57rLCFqGh7N4ZRbGDRP4fnVcaKg1BcUxQ866Ven4gw8y4N56S5HzxXNBZtLYmhGHvDtk6PFkFwCvxYrNYjh\",\"client_ip\":\"{}\",\"client_port\":9706,\"node_ip\":\"{}\",\"node_port\":9705,\"services\":[\"VALIDATOR\"]}},\"dest\":\"DKVxG2fXXTU8yT5N7hGEbXB3dfdAnYv1JczDUHpmDxya\"}},\"metadata\":{{\"from\":\"4cU41vWW82ArfxJxHkzXPG\"}},\"type\":\"0\"}},\"txnMetadata\":{{\"seqNo\":3,\"txnId\":\"7e9f355dffa78ed24668f0e0e369fd8c224076571c51e2ea8be5f26479edebe4\"}},\"ver\":\"1\"}}'.format(\n",
    "            pool_ip, pool_ip),\n",
    "        '{{\"reqSignature\":{{}},\"txn\":{{\"data\":{{\"data\":{{\"alias\":\"Node4\",\"blskey\":\"2zN3bHM1m4rLz54MJHYSwvqzPchYp8jkHswveCLAEJVcX6Mm1wHQD1SkPYMzUDTZvWvhuE6VNAkK3KxVeEmsanSmvjVkReDeBEMxeDaayjcZjFGPydyey1qxBHmTvAnBKoPydvuTAqx5f7YNNRAdeLmUi99gERUU7TD8KfAa6MpQ9bw\",\"blskey_pop\":\"RPLagxaR5xdimFzwmzYnz4ZhWtYQEj8iR5ZU53T2gitPCyCHQneUn2Huc4oeLd2B2HzkGnjAff4hWTJT6C7qHYB1Mv2wU5iHHGFWkhnTX9WsEAbunJCV2qcaXScKj4tTfvdDKfLiVuU2av6hbsMztirRze7LvYBkRHV3tGwyCptsrP\",\"client_ip\":\"{}\",\"client_port\":9708,\"node_ip\":\"{}\",\"node_port\":9707,\"services\":[\"VALIDATOR\"]}},\"dest\":\"4PS3EDQ3dW1tci1Bp6543CfuuebjFrg36kLAUcskGfaA\"}},\"metadata\":{{\"from\":\"TWwCRQRZ2ZHMJFn9TzLp7W\"}},\"type\":\"0\"}},\"txnMetadata\":{{\"seqNo\":4,\"txnId\":\"aa5e817d7cc626170eca175822029339a444eb0ee8f0bd20d3b0b76e566fb008\"}},\"ver\":\"1\"}}'.format(\n",
    "            pool_ip, pool_ip)\n",
    "    ])\n",
    "\n",
    "def save_pool_genesis_txn_file(path : str, genesis_txn_data : str) -> None:\n",
    "    \"\"\"\n",
    "    @params path : genesis txn 데이터를 저장할 위치\n",
    "    @params genesis_txn_data : genesis txn 데이터\n",
    "    \n",
    "    [Description]:\n",
    "    genesis txn 데이터를 파일로 저장\n",
    "    \"\"\"\n",
    "    data = genesis_txn_data\n",
    "\n",
    "    path.parent.mkdir(parents=True, exist_ok=True)\n",
    "\n",
    "    with open(str(path), \"w+\") as f:\n",
    "        f.writelines(data)\n",
    "        \n",
    "async def ensure_previous_request_applied(pool_handle, checker_request, checker):\n",
    "    for _ in range(3):\n",
    "        response = json.loads(await ledger.submit_request(pool_handle, checker_request))\n",
    "        IndyPrinter(response)(\"ensure_previous_request_applied-resposne\", use_pp = True) #DEBUG\n",
    "        try:\n",
    "            if checker(response):\n",
    "                print(\"return!!!\")\n",
    "                return json.dumps(response)\n",
    "        except TypeError:\n",
    "            pass"
   ]
  },
  {
   "cell_type": "markdown",
   "id": "eab101c4-54d6-4b5f-af36-82903e60a847",
   "metadata": {
    "tags": []
   },
   "source": [
    "<br><br><br><hr>\n",
    "\n",
    "# 3. Make Pool Ledger Handler"
   ]
  },
  {
   "cell_type": "code",
   "execution_count": 11,
   "id": "65cc765b-afd5-4be9-8784-3f58369dd9df",
   "metadata": {},
   "outputs": [
    {
     "data": {
      "text/plain": [
       "'{\"reqSignature\":{},\"txn\":{\"data\":{\"data\":{\"alias\":\"Node1\",\"blskey\":\"4N8aUNHSgjQVgkpm8nhNEfDf6txHznoYREg9kirmJrkivgL4oSEimFF6nsQ6M41QvhM2Z33nves5vfSn9n1UwNFJBYtWVnHYMATn76vLuL3zU88KyeAYcHfsih3He6UHcXDxcaecHVz6jhCYz1P2UZn2bDVruL5wXpehgBfBaLKm3Ba\",\"blskey_pop\":\"RahHYiCvoNCtPTrVtP7nMC5eTYrsUA8WjXbdhNc8debh1agE9bGiJxWBXYNFbnJXoXhWFMvyqhqhRoq737YQemH5ik9oL7R4NTTCz2LEZhkgLJzB3QRQqJyBNyv7acbdHrAT8nQ9UkLbaVL9NBpnWXBTw4LEMePaSHEw66RzPNdAX1\",\"client_ip\":\"10.0.2.15\",\"client_port\":9702,\"node_ip\":\"10.0.2.15\",\"node_port\":9701,\"services\":[\"VALIDATOR\"]},\"dest\":\"Gw6pDLhcBcoQesN72qfotTgFa7cbuqZpkX3Xo6pLhPhv\"},\"metadata\":{\"from\":\"Th7MpTaRZVRYnPiabds81Y\"},\"type\":\"0\"},\"txnMetadata\":{\"seqNo\":1,\"txnId\":\"fea82e10e894419fe2bea7d96296a6d46f50f93f9eeda954ec461b2ed2950b62\"},\"ver\":\"1\"}\\n{\"reqSignature\":{},\"txn\":{\"data\":{\"data\":{\"alias\":\"Node2\",\"blskey\":\"37rAPpXVoxzKhz7d9gkUe52XuXryuLXoM6P6LbWDB7LSbG62Lsb33sfG7zqS8TK1MXwuCHj1FKNzVpsnafmqLG1vXN88rt38mNFs9TENzm4QHdBzsvCuoBnPH7rpYYDo9DZNJePaDvRvqJKByCabubJz3XXKbEeshzpz4Ma5QYpJqjk\",\"blskey_pop\":\"Qr658mWZ2YC8JXGXwMDQTzuZCWF7NK9EwxphGmcBvCh6ybUuLxbG65nsX4JvD4SPNtkJ2w9ug1yLTj6fgmuDg41TgECXjLCij3RMsV8CwewBVgVN67wsA45DFWvqvLtu4rjNnE9JbdFTc1Z4WCPA3Xan44K1HoHAq9EVeaRYs8zoF5\",\"client_ip\":\"10.0.2.15\",\"client_port\":9704,\"node_ip\":\"10.0.2.15\",\"node_port\":9703,\"services\":[\"VALIDATOR\"]},\"dest\":\"8ECVSk179mjsjKRLWiQtssMLgp6EPhWXtaYyStWPSGAb\"},\"metadata\":{\"from\":\"EbP4aYNeTHL6q385GuVpRV\"},\"type\":\"0\"},\"txnMetadata\":{\"seqNo\":2,\"txnId\":\"1ac8aece2a18ced660fef8694b61aac3af08ba875ce3026a160acbc3a3af35fc\"},\"ver\":\"1\"}\\n{\"reqSignature\":{},\"txn\":{\"data\":{\"data\":{\"alias\":\"Node3\",\"blskey\":\"3WFpdbg7C5cnLYZwFZevJqhubkFALBfCBBok15GdrKMUhUjGsk3jV6QKj6MZgEubF7oqCafxNdkm7eswgA4sdKTRc82tLGzZBd6vNqU8dupzup6uYUf32KTHTPQbuUM8Yk4QFXjEf2Usu2TJcNkdgpyeUSX42u5LqdDDpNSWUK5deC5\",\"blskey_pop\":\"QwDeb2CkNSx6r8QC8vGQK3GRv7Yndn84TGNijX8YXHPiagXajyfTjoR87rXUu4G4QLk2cF8NNyqWiYMus1623dELWwx57rLCFqGh7N4ZRbGDRP4fnVcaKg1BcUxQ866Ven4gw8y4N56S5HzxXNBZtLYmhGHvDtk6PFkFwCvxYrNYjh\",\"client_ip\":\"10.0.2.15\",\"client_port\":9706,\"node_ip\":\"10.0.2.15\",\"node_port\":9705,\"services\":[\"VALIDATOR\"]},\"dest\":\"DKVxG2fXXTU8yT5N7hGEbXB3dfdAnYv1JczDUHpmDxya\"},\"metadata\":{\"from\":\"4cU41vWW82ArfxJxHkzXPG\"},\"type\":\"0\"},\"txnMetadata\":{\"seqNo\":3,\"txnId\":\"7e9f355dffa78ed24668f0e0e369fd8c224076571c51e2ea8be5f26479edebe4\"},\"ver\":\"1\"}\\n{\"reqSignature\":{},\"txn\":{\"data\":{\"data\":{\"alias\":\"Node4\",\"blskey\":\"2zN3bHM1m4rLz54MJHYSwvqzPchYp8jkHswveCLAEJVcX6Mm1wHQD1SkPYMzUDTZvWvhuE6VNAkK3KxVeEmsanSmvjVkReDeBEMxeDaayjcZjFGPydyey1qxBHmTvAnBKoPydvuTAqx5f7YNNRAdeLmUi99gERUU7TD8KfAa6MpQ9bw\",\"blskey_pop\":\"RPLagxaR5xdimFzwmzYnz4ZhWtYQEj8iR5ZU53T2gitPCyCHQneUn2Huc4oeLd2B2HzkGnjAff4hWTJT6C7qHYB1Mv2wU5iHHGFWkhnTX9WsEAbunJCV2qcaXScKj4tTfvdDKfLiVuU2av6hbsMztirRze7LvYBkRHV3tGwyCptsrP\",\"client_ip\":\"10.0.2.15\",\"client_port\":9708,\"node_ip\":\"10.0.2.15\",\"node_port\":9707,\"services\":[\"VALIDATOR\"]},\"dest\":\"4PS3EDQ3dW1tci1Bp6543CfuuebjFrg36kLAUcskGfaA\"},\"metadata\":{\"from\":\"TWwCRQRZ2ZHMJFn9TzLp7W\"},\"type\":\"0\"},\"txnMetadata\":{\"seqNo\":4,\"txnId\":\"aa5e817d7cc626170eca175822029339a444eb0ee8f0bd20d3b0b76e566fb008\"},\"ver\":\"1\"}'"
      ]
     },
     "execution_count": 11,
     "metadata": {},
     "output_type": "execute_result"
    }
   ],
   "source": [
    "local_indy_pool_genesis_txn_data(\"10.0.2.15\")"
   ]
  },
  {
   "cell_type": "code",
   "execution_count": 15,
   "id": "7e96fafe-5db6-4722-ba28-2cadda0466c9",
   "metadata": {},
   "outputs": [],
   "source": [
    "pool_ = dict()\n",
    "\n",
    "pool_['name'] = 'pool3'\n",
    "genesis_txn_save_path = tmp_path_home().joinpath(\"{}.txn\".format(pool_['name']))\n",
    "\n",
    "pool_['genesis_txn_path'] = genesis_txn_save_path\n",
    "\n",
    "pool_['config'] = json.dumps({\"genesis_txn\": str(pool_['genesis_txn_path'])}) # Path -> str\n",
    "\n",
    "pool_['genesis_txn_data'] = local_indy_pool_genesis_txn_data(\"10.0.2.15\")\n",
    "\n",
    "save_pool_genesis_txn_file(pool_['genesis_txn_path'], pool_['genesis_txn_data'])\n",
    "\n",
    "await pool.set_protocol_version(PROTOCOL_VERSION)\n",
    "\n",
    "try:\n",
    "    await pool.create_pool_ledger_config(pool_['name'], pool_['config'])\n",
    "except IndyError as ex:\n",
    "    if ex.error_code == ErrorCode.PoolLedgerConfigAlreadyExistsError:\n",
    "        pass\n",
    "\n",
    "pool_['handle'] = await pool.open_pool_ledger(pool_['name'], None)\n",
    "print_result = IndyPrinter(pool_)"
   ]
  },
  {
   "cell_type": "code",
   "execution_count": 16,
   "id": "d40a2b6d-b1b0-4203-9e4a-2a0f69ae9c83",
   "metadata": {},
   "outputs": [
    {
     "name": "stdout",
     "output_type": "stream",
     "text": [
      "----------------------------------------------------------------------------------------------------\n",
      "-------------------------------------create_pool_and_open_pool--------------------------------------\n",
      "{ 'config': '{\"genesis_txn\": '\n",
      "            '\"/tmp/indy/pool3.txn\"}',\n",
      "  'genesis_txn_data': '{\"reqSignature\":{},\"txn\":{\"data\":{\"data\":{\"alias\":\"Node1\",\"blskey\":\"4N8aUNHSgjQVgkpm8nhNEfDf6txHznoYREg9kirmJrkivgL4oSEimFF6nsQ6M41QvhM2Z33nves5vfSn9n1UwNFJBYtWVnHYMATn76vLuL3zU88KyeAYcHfsih3He6UHcXDxcaecHVz6jhCYz1P2UZn2bDVruL5wXpehgBfBaLKm3Ba\",\"blskey_pop\":\"RahHYiCvoNCtPTrVtP7nMC5eTYrsUA8WjXbdhNc8debh1agE9bGiJxWBXYNFbnJXoXhWFMvyqhqhRoq737YQemH5ik9oL7R4NTTCz2LEZhkgLJzB3QRQqJyBNyv7acbdHrAT8nQ9UkLbaVL9NBpnWXBTw4LEMePaSHEw66RzPNdAX1\",\"client_ip\":\"10.0.2.15\",\"client_port\":9702,\"node_ip\":\"10.0.2.15\",\"node_port\":9701,\"services\":[\"VALIDATOR\"]},\"dest\":\"Gw6pDLhcBcoQesN72qfotTgFa7cbuqZpkX3Xo6pLhPhv\"},\"metadata\":{\"from\":\"Th7MpTaRZVRYnPiabds81Y\"},\"type\":\"0\"},\"txnMetadata\":{\"seqNo\":1,\"txnId\":\"fea82e10e894419fe2bea7d96296a6d46f50f93f9eeda954ec461b2ed2950b62\"},\"ver\":\"1\"}\\n'\n",
      "                      '{\"reqSignature\":{},\"txn\":{\"data\":{\"data\":{\"alias\":\"Node2\",\"blskey\":\"37rAPpXVoxzKhz7d9gkUe52XuXryuLXoM6P6LbWDB7LSbG62Lsb33sfG7zqS8TK1MXwuCHj1FKNzVpsnafmqLG1vXN88rt38mNFs9TENzm4QHdBzsvCuoBnPH7rpYYDo9DZNJePaDvRvqJKByCabubJz3XXKbEeshzpz4Ma5QYpJqjk\",\"blskey_pop\":\"Qr658mWZ2YC8JXGXwMDQTzuZCWF7NK9EwxphGmcBvCh6ybUuLxbG65nsX4JvD4SPNtkJ2w9ug1yLTj6fgmuDg41TgECXjLCij3RMsV8CwewBVgVN67wsA45DFWvqvLtu4rjNnE9JbdFTc1Z4WCPA3Xan44K1HoHAq9EVeaRYs8zoF5\",\"client_ip\":\"10.0.2.15\",\"client_port\":9704,\"node_ip\":\"10.0.2.15\",\"node_port\":9703,\"services\":[\"VALIDATOR\"]},\"dest\":\"8ECVSk179mjsjKRLWiQtssMLgp6EPhWXtaYyStWPSGAb\"},\"metadata\":{\"from\":\"EbP4aYNeTHL6q385GuVpRV\"},\"type\":\"0\"},\"txnMetadata\":{\"seqNo\":2,\"txnId\":\"1ac8aece2a18ced660fef8694b61aac3af08ba875ce3026a160acbc3a3af35fc\"},\"ver\":\"1\"}\\n'\n",
      "                      '{\"reqSignature\":{},\"txn\":{\"data\":{\"data\":{\"alias\":\"Node3\",\"blskey\":\"3WFpdbg7C5cnLYZwFZevJqhubkFALBfCBBok15GdrKMUhUjGsk3jV6QKj6MZgEubF7oqCafxNdkm7eswgA4sdKTRc82tLGzZBd6vNqU8dupzup6uYUf32KTHTPQbuUM8Yk4QFXjEf2Usu2TJcNkdgpyeUSX42u5LqdDDpNSWUK5deC5\",\"blskey_pop\":\"QwDeb2CkNSx6r8QC8vGQK3GRv7Yndn84TGNijX8YXHPiagXajyfTjoR87rXUu4G4QLk2cF8NNyqWiYMus1623dELWwx57rLCFqGh7N4ZRbGDRP4fnVcaKg1BcUxQ866Ven4gw8y4N56S5HzxXNBZtLYmhGHvDtk6PFkFwCvxYrNYjh\",\"client_ip\":\"10.0.2.15\",\"client_port\":9706,\"node_ip\":\"10.0.2.15\",\"node_port\":9705,\"services\":[\"VALIDATOR\"]},\"dest\":\"DKVxG2fXXTU8yT5N7hGEbXB3dfdAnYv1JczDUHpmDxya\"},\"metadata\":{\"from\":\"4cU41vWW82ArfxJxHkzXPG\"},\"type\":\"0\"},\"txnMetadata\":{\"seqNo\":3,\"txnId\":\"7e9f355dffa78ed24668f0e0e369fd8c224076571c51e2ea8be5f26479edebe4\"},\"ver\":\"1\"}\\n'\n",
      "                      '{\"reqSignature\":{},\"txn\":{\"data\":{\"data\":{\"alias\":\"Node4\",\"blskey\":\"2zN3bHM1m4rLz54MJHYSwvqzPchYp8jkHswveCLAEJVcX6Mm1wHQD1SkPYMzUDTZvWvhuE6VNAkK3KxVeEmsanSmvjVkReDeBEMxeDaayjcZjFGPydyey1qxBHmTvAnBKoPydvuTAqx5f7YNNRAdeLmUi99gERUU7TD8KfAa6MpQ9bw\",\"blskey_pop\":\"RPLagxaR5xdimFzwmzYnz4ZhWtYQEj8iR5ZU53T2gitPCyCHQneUn2Huc4oeLd2B2HzkGnjAff4hWTJT6C7qHYB1Mv2wU5iHHGFWkhnTX9WsEAbunJCV2qcaXScKj4tTfvdDKfLiVuU2av6hbsMztirRze7LvYBkRHV3tGwyCptsrP\",\"client_ip\":\"10.0.2.15\",\"client_port\":9708,\"node_ip\":\"10.0.2.15\",\"node_port\":9707,\"services\":[\"VALIDATOR\"]},\"dest\":\"4PS3EDQ3dW1tci1Bp6543CfuuebjFrg36kLAUcskGfaA\"},\"metadata\":{\"from\":\"TWwCRQRZ2ZHMJFn9TzLp7W\"},\"type\":\"0\"},\"txnMetadata\":{\"seqNo\":4,\"txnId\":\"aa5e817d7cc626170eca175822029339a444eb0ee8f0bd20d3b0b76e566fb008\"},\"ver\":\"1\"}',\n",
      "  'genesis_txn_path': PosixPath('/tmp/indy/pool3.txn'),\n",
      "  'handle': 10,\n",
      "  'name': 'pool3'}\n",
      "----------------------------------------------------------------------------------------------------\n"
     ]
    }
   ],
   "source": [
    "print_result(\"create_pool_and_open_pool\", use_pp = True)"
   ]
  },
  {
   "cell_type": "markdown",
   "id": "24db61bb-8162-4aa5-aa02-e840bd32421d",
   "metadata": {
    "tags": []
   },
   "source": [
    "<br><br><br><hr>\n",
    "\n",
    "# 4. Set Steward Information and Create Wallet"
   ]
  },
  {
   "cell_type": "markdown",
   "id": "4bcd8cb0-fe90-4592-9678-409c5dc501c7",
   "metadata": {
    "tags": []
   },
   "source": [
    "## - Wallet 관련 함수 정의"
   ]
  },
  {
   "cell_type": "code",
   "execution_count": 17,
   "id": "be90eced-325e-4cc0-afc4-0fabf79ed6e2",
   "metadata": {},
   "outputs": [],
   "source": [
    "async def create_wallet(identity) -> int:\n",
    "    try:\n",
    "        await wallet.create_wallet(identity['wallet_config'], identity['wallet_credentials'])\n",
    "    except IndyError as ex:\n",
    "        if ex.error_code == ErrorCode.PoolLedgerConfigAlreadyExistsError:\n",
    "            pass\n",
    "    identity['wallet'] = await wallet.open_wallet(identity['wallet_config'],identity['wallet_credentials'])"
   ]
  },
  {
   "cell_type": "markdown",
   "id": "5b95c864-1040-4f12-be77-3eeeed4105d5",
   "metadata": {},
   "source": [
    "## - 지갑 생성"
   ]
  },
  {
   "cell_type": "code",
   "execution_count": 18,
   "id": "c98f281b-1949-4fcb-bf73-c3ee56005deb",
   "metadata": {},
   "outputs": [],
   "source": [
    "steward = {\n",
    "    'name': \"Sovrin Steward\",\n",
    "    'wallet_config': json.dumps({'id': 'sovrin_steward_wallet'}),\n",
    "    'wallet_credentials': json.dumps({'key': 'steward_wallet_key'}),\n",
    "    'pool': pool_['handle'],\n",
    "    'seed': '000000000000000000000000Steward1'\n",
    "}\n",
    "\n",
    "await create_wallet(steward)\n",
    "\n",
    "steward['did_info'] = json.dumps({'seed': steward['seed']})\n",
    "steward['did'], steward['key'] = await did.create_and_store_my_did(steward['wallet'], steward['did_info'])\n",
    "print_result2 = IndyPrinter(steward)"
   ]
  },
  {
   "cell_type": "code",
   "execution_count": 19,
   "id": "06d6334c-c476-4870-baae-287255598c6c",
   "metadata": {},
   "outputs": [
    {
     "name": "stdout",
     "output_type": "stream",
     "text": [
      "----------------------------------------------------------------------------------------------------\n",
      "----------------------------------------------steward-----------------------------------------------\n",
      "{ 'did': 'Th7MpTaRZVRYnPiabds81Y',\n",
      "  'did_info': '{\"seed\": '\n",
      "              '\"000000000000000000000000Steward1\"}',\n",
      "  'key': 'FYmoFw55GeQH7SRFa37dkx1d2dZ3zUF8ckg7wmL7ofN4',\n",
      "  'name': 'Sovrin Steward',\n",
      "  'pool': 10,\n",
      "  'seed': '000000000000000000000000Steward1',\n",
      "  'wallet': 13,\n",
      "  'wallet_config': '{\"id\": '\n",
      "                   '\"sovrin_steward_wallet\"}',\n",
      "  'wallet_credentials': '{\"key\": '\n",
      "                        '\"steward_wallet_key\"}'}\n",
      "----------------------------------------------------------------------------------------------------\n"
     ]
    }
   ],
   "source": [
    "print_result2(\"steward\", use_pp = True)"
   ]
  },
  {
   "cell_type": "markdown",
   "id": "1dfd657f-9412-496c-9081-c9b24c2938e2",
   "metadata": {
    "tags": []
   },
   "source": [
    "<br><br><br><hr>\n",
    "\n",
    "# 5. Getting Endorser Credentials"
   ]
  },
  {
   "cell_type": "markdown",
   "id": "63ee8cd5-d355-4d79-a03e-25e18966da56",
   "metadata": {
    "tags": []
   },
   "source": [
    "## - Verinym 관련 함수 정의"
   ]
  },
  {
   "cell_type": "code",
   "execution_count": 20,
   "id": "2f348f31-db22-463d-8d73-a530803d33e7",
   "metadata": {},
   "outputs": [],
   "source": [
    "async def getting_verinym(from_ : dict, to : dict):\n",
    "    \"\"\"\n",
    "    \n",
    "    \"\"\"\n",
    "    await create_wallet(to)\n",
    "\n",
    "    (to['did'], to['key']) = await did.create_and_store_my_did(to['wallet'], \"{}\")\n",
    "\n",
    "    from_['info'] = {\n",
    "        'did': to['did'],\n",
    "        'verkey': to['key'],\n",
    "        'role': to['role'] or None\n",
    "    }\n",
    "\n",
    "    await send_nym(from_['pool'], from_['wallet'], from_['did'], from_['info']['did'],\n",
    "                   from_['info']['verkey'], from_['info']['role'])\n",
    "\n",
    "\n",
    "async def send_nym(pool_handle, wallet_handle, _did, new_did, new_key, role):\n",
    "    \"\"\"\n",
    "    \n",
    "    \"\"\"\n",
    "    nym_request = await ledger.build_nym_request(_did, new_did, new_key, None, role)\n",
    "    await ledger.sign_and_submit_request(pool_handle, wallet_handle, _did, nym_request)"
   ]
  },
  {
   "cell_type": "markdown",
   "id": "f889777e-87a9-40b8-b10e-2925b72f0aa9",
   "metadata": {},
   "source": [
    "### (1) Government getting verinym"
   ]
  },
  {
   "cell_type": "code",
   "execution_count": 21,
   "id": "91d88f28-c697-4974-9aa8-fc7e8daec47b",
   "metadata": {},
   "outputs": [],
   "source": [
    "government = {\n",
    "    'name': 'Government',\n",
    "    'wallet_config': json.dumps({'id': 'government_wallet'}),\n",
    "    'wallet_credentials': json.dumps({'key': 'government_wallet_key'}),\n",
    "    'pool': pool_['handle'],\n",
    "    'role': 'TRUST_ANCHOR'\n",
    "}\n",
    "\n",
    "await getting_verinym(steward, government)\n",
    "print_result3 = IndyPrinter(government)"
   ]
  },
  {
   "cell_type": "code",
   "execution_count": 22,
   "id": "230d95eb-2534-4e5c-a087-99e101b6bbf0",
   "metadata": {},
   "outputs": [
    {
     "name": "stdout",
     "output_type": "stream",
     "text": [
      "----------------------------------------------------------------------------------------------------\n",
      "---------------------------------------------government---------------------------------------------\n",
      "{ 'did': 'DP92P2qRue3B7QaaM3ajWz',\n",
      "  'key': '7kQmatTbAxGbEHn91Y8U7jsHLuznsvTt5PDgmxhhECpp',\n",
      "  'name': 'Government',\n",
      "  'pool': 10,\n",
      "  'role': 'TRUST_ANCHOR',\n",
      "  'wallet': 15,\n",
      "  'wallet_config': '{\"id\": '\n",
      "                   '\"government_wallet\"}',\n",
      "  'wallet_credentials': '{\"key\": '\n",
      "                        '\"government_wallet_key\"}'}\n",
      "----------------------------------------------------------------------------------------------------\n"
     ]
    }
   ],
   "source": [
    "print_result3(\"government\", use_pp = True)"
   ]
  },
  {
   "cell_type": "markdown",
   "id": "5f3c1336-f469-4585-a5e6-b4deb9923218",
   "metadata": {
    "tags": []
   },
   "source": [
    "### (2) Faber(university) getting verinym"
   ]
  },
  {
   "cell_type": "code",
   "execution_count": 23,
   "id": "e2f373b5-4a99-400d-b6be-244269742589",
   "metadata": {
    "tags": []
   },
   "outputs": [],
   "source": [
    "faber = {\n",
    "    'name': 'Faber',\n",
    "    'wallet_config': json.dumps({'id': 'faber_wallet'}),\n",
    "    'wallet_credentials': json.dumps({'key': 'faber_wallet_key'}),\n",
    "    'pool': pool_['handle'],\n",
    "    'role': 'TRUST_ANCHOR'\n",
    "}\n",
    "\n",
    "await getting_verinym(steward, faber)\n",
    "print_result4 = IndyPrinter(faber)"
   ]
  },
  {
   "cell_type": "code",
   "execution_count": 24,
   "id": "572abfa1-75b8-4c02-af4b-0b6a5340b923",
   "metadata": {
    "tags": []
   },
   "outputs": [
    {
     "name": "stdout",
     "output_type": "stream",
     "text": [
      "----------------------------------------------------------------------------------------------------\n",
      "-----------------------------------------------faber------------------------------------------------\n",
      "{ 'did': 'FyckJRmcaRJYeHukogSij5',\n",
      "  'key': '9ARg7ByY8TUaYufZ1ezZwe7ArET1X3vsXm43NDbyda3y',\n",
      "  'name': 'Faber',\n",
      "  'pool': 10,\n",
      "  'role': 'TRUST_ANCHOR',\n",
      "  'wallet': 19,\n",
      "  'wallet_config': '{\"id\": '\n",
      "                   '\"faber_wallet\"}',\n",
      "  'wallet_credentials': '{\"key\": '\n",
      "                        '\"faber_wallet_key\"}'}\n",
      "----------------------------------------------------------------------------------------------------\n"
     ]
    }
   ],
   "source": [
    "print_result4(\"faber\", use_pp = True)"
   ]
  },
  {
   "cell_type": "markdown",
   "id": "6b63dcb8-455a-41cc-93ea-09aae33bad29",
   "metadata": {
    "tags": []
   },
   "source": [
    "### (3) Acme(corporation) getting verinym"
   ]
  },
  {
   "cell_type": "code",
   "execution_count": 25,
   "id": "c2114855-fae0-4fef-8df6-b7e665ec8f7a",
   "metadata": {},
   "outputs": [],
   "source": [
    "acme = {\n",
    "    'name': 'Acme',\n",
    "    'wallet_config': json.dumps({'id': 'acme_wallet'}),\n",
    "    'wallet_credentials': json.dumps({'key': 'acme_wallet_key'}),\n",
    "    'pool': pool_['handle'],\n",
    "    'role': 'TRUST_ANCHOR'\n",
    "}\n",
    "\n",
    "await getting_verinym(steward, acme)\n",
    "print_result5 = IndyPrinter(acme)"
   ]
  },
  {
   "cell_type": "code",
   "execution_count": 26,
   "id": "bfebf010-5e33-43e5-95db-a1e4981837bc",
   "metadata": {},
   "outputs": [
    {
     "name": "stdout",
     "output_type": "stream",
     "text": [
      "----------------------------------------------------------------------------------------------------\n",
      "------------------------------------------------acme------------------------------------------------\n",
      "{ 'did': 'K4tCkhb6nUJyYjmiaFDeo7',\n",
      "  'key': 'Ar8eC5VJAEVpAn6zjtwzoNFNgjzrzTJHqJk9t7SZW5vT',\n",
      "  'name': 'Acme',\n",
      "  'pool': 10,\n",
      "  'role': 'TRUST_ANCHOR',\n",
      "  'wallet': 22,\n",
      "  'wallet_config': '{\"id\": '\n",
      "                   '\"acme_wallet\"}',\n",
      "  'wallet_credentials': '{\"key\": '\n",
      "                        '\"acme_wallet_key\"}'}\n",
      "----------------------------------------------------------------------------------------------------\n"
     ]
    }
   ],
   "source": [
    "print_result5(\"acme\", use_pp = True)"
   ]
  },
  {
   "cell_type": "markdown",
   "id": "4c51a512-e1e7-412c-a0c2-9a391cb53c74",
   "metadata": {
    "tags": []
   },
   "source": [
    "### (4) Thrift(bank) getting verinym"
   ]
  },
  {
   "cell_type": "code",
   "execution_count": 27,
   "id": "48dfb521-b71b-4baa-9a4b-f71047866469",
   "metadata": {
    "tags": []
   },
   "outputs": [],
   "source": [
    "thrift = {\n",
    "    'name': 'Thrift',\n",
    "    'wallet_config': json.dumps({'id': 'thrift_wallet'}),\n",
    "    'wallet_credentials': json.dumps({'key': 'thrift_wallet_key'}),\n",
    "    'pool': pool_['handle'],\n",
    "    'role': 'TRUST_ANCHOR'\n",
    "}\n",
    "\n",
    "await getting_verinym(steward, thrift)\n",
    "print_result6 = IndyPrinter(thrift)"
   ]
  },
  {
   "cell_type": "code",
   "execution_count": 28,
   "id": "d96e9379-db80-4bd7-ac69-9c8458283f44",
   "metadata": {},
   "outputs": [
    {
     "name": "stdout",
     "output_type": "stream",
     "text": [
      "----------------------------------------------------------------------------------------------------\n",
      "-----------------------------------------------thrift-----------------------------------------------\n",
      "{ 'did': 'MQbsN1Q8Bvv5qNMWgVxXYS',\n",
      "  'key': 'C86y4XhbiPZgvALYYbN3c61gJ8vWs3W67coGXVNByXfi',\n",
      "  'name': 'Thrift',\n",
      "  'pool': 10,\n",
      "  'role': 'TRUST_ANCHOR',\n",
      "  'wallet': 26,\n",
      "  'wallet_config': '{\"id\": '\n",
      "                   '\"thrift_wallet\"}',\n",
      "  'wallet_credentials': '{\"key\": '\n",
      "                        '\"thrift_wallet_key\"}'}\n",
      "----------------------------------------------------------------------------------------------------\n"
     ]
    }
   ],
   "source": [
    "print_result6(\"thrift\", use_pp = True)"
   ]
  },
  {
   "cell_type": "markdown",
   "id": "9a1b57fe-fe5f-414b-9ced-d9c40c8ea460",
   "metadata": {
    "tags": []
   },
   "source": [
    "<br><br><br><hr>\n",
    "\n",
    "# 6. Credential Schema Setup"
   ]
  },
  {
   "cell_type": "markdown",
   "id": "b509ca7f-3d76-4008-a455-36345f25152b",
   "metadata": {
    "tags": []
   },
   "source": [
    "## - Schema 관련 함수 정의"
   ]
  },
  {
   "cell_type": "code",
   "execution_count": 29,
   "id": "4e092e15-9d72-4ce8-b0f1-8852d0f62d76",
   "metadata": {},
   "outputs": [],
   "source": [
    "async def send_schema(pool_handle, wallet_handle, _did, schema):\n",
    "    schema_request = await ledger.build_schema_request(_did, schema)\n",
    "    await ledger.sign_and_submit_request(pool_handle, wallet_handle, _did, schema_request)\n",
    "    \n",
    "async def get_schema(pool_handle, _did, schema_id):\n",
    "    get_schema_request = await ledger.build_get_schema_request(_did, schema_id)\n",
    "    IndyPrinter(get_schema_request)(\"get_schema_request\", use_pp = True) # DEBUG\n",
    "    get_schema_response = await ensure_previous_request_applied(\n",
    "        pool_handle, get_schema_request, lambda response: response['result']['data'] is not None)\n",
    "    IndyPrinter(get_schema_response)(\"get_schema_response\", use_pp = True) # DEBUG\n",
    "    return_data = await ledger.parse_get_schema_response(get_schema_response)\n",
    "    IndyPrinter(return_data)(\"return_data\", use_pp = True) # DEBUG\n",
    "    return return_data\n",
    "#     return await ledger.parse_get_schema_response(get_schema_response)"
   ]
  },
  {
   "cell_type": "markdown",
   "id": "7cf26333-c44a-452c-a8f5-edd645f125c4",
   "metadata": {
    "tags": []
   },
   "source": [
    "### (1) Government Create \"Transcript\" Schema"
   ]
  },
  {
   "cell_type": "code",
   "execution_count": 30,
   "id": "d5b169d4-7458-4131-893e-da9c0b77309c",
   "metadata": {},
   "outputs": [],
   "source": [
    "transcript = {\n",
    "    'name': 'Transcript',\n",
    "    'version': '1.2',\n",
    "    'attributes': ['first_name', 'last_name', 'degree', 'status', 'year', 'average', 'ssn']\n",
    "}\n",
    "(government['transcript_schema_id'], government['transcript_schema']) = \\\n",
    "    await anoncreds.issuer_create_schema(government['did'], transcript['name'], transcript['version'],\n",
    "                                         json.dumps(transcript['attributes']))\n",
    "transcript_schema_id = government['transcript_schema_id']\n",
    "\n",
    "await send_schema(government['pool'], government['wallet'], government['did'], government['transcript_schema'])\n",
    "\n",
    "print_result7 = IndyPrinter(government)"
   ]
  },
  {
   "cell_type": "code",
   "execution_count": 31,
   "id": "db165e7c-2a1e-45c6-84be-bac32d0e0d07",
   "metadata": {},
   "outputs": [
    {
     "name": "stdout",
     "output_type": "stream",
     "text": [
      "----------------------------------------------------------------------------------------------------\n",
      "---------------------------------------------government---------------------------------------------\n",
      "{ 'did': 'DP92P2qRue3B7QaaM3ajWz',\n",
      "  'key': '7kQmatTbAxGbEHn91Y8U7jsHLuznsvTt5PDgmxhhECpp',\n",
      "  'name': 'Government',\n",
      "  'pool': 10,\n",
      "  'role': 'TRUST_ANCHOR',\n",
      "  'transcript_schema': '{\"ver\":\"1.0\",\"id\":\"DP92P2qRue3B7QaaM3ajWz:2:Transcript:1.2\",\"name\":\"Transcript\",\"version\":\"1.2\",\"attrNames\":[\"ssn\",\"status\",\"year\",\"degree\",\"average\",\"first_name\",\"last_name\"],\"seqNo\":null}',\n",
      "  'transcript_schema_id': 'DP92P2qRue3B7QaaM3ajWz:2:Transcript:1.2',\n",
      "  'wallet': 15,\n",
      "  'wallet_config': '{\"id\": '\n",
      "                   '\"government_wallet\"}',\n",
      "  'wallet_credentials': '{\"key\": '\n",
      "                        '\"government_wallet_key\"}'}\n",
      "----------------------------------------------------------------------------------------------------\n",
      "----------------------------------------------------------------------------------------------------\n",
      "---------------------------------------------transcript---------------------------------------------\n",
      "{ 'attributes': [ 'first_name',\n",
      "                  'last_name', 'degree',\n",
      "                  'status', 'year',\n",
      "                  'average', 'ssn'],\n",
      "  'name': 'Transcript',\n",
      "  'version': '1.2'}\n",
      "----------------------------------------------------------------------------------------------------\n"
     ]
    }
   ],
   "source": [
    "print_result8 = IndyPrinter(transcript)\n",
    "print_result7(\"government\", use_pp = True)\n",
    "print_result8(\"transcript\", use_pp = True)"
   ]
  },
  {
   "cell_type": "markdown",
   "id": "85ddfaf1-eedb-494b-bb21-dd2a884bb6b3",
   "metadata": {
    "tags": []
   },
   "source": [
    "### (2) Government Create \"Job-Certificate\" Schema"
   ]
  },
  {
   "cell_type": "code",
   "execution_count": 32,
   "id": "0d256f57-ec76-48ca-bc32-38508a3deaf4",
   "metadata": {},
   "outputs": [],
   "source": [
    "job_certificate = {\n",
    "    'name': 'Job-Certificate',\n",
    "    'version': '0.2',\n",
    "    'attributes': ['first_name', 'last_name', 'salary', 'employee_status', 'experience']\n",
    "}\n",
    "(government['job_certificate_schema_id'], government['job_certificate_schema']) = \\\n",
    "        await anoncreds.issuer_create_schema(government['did'], job_certificate['name'], job_certificate['version'], json.dumps(job_certificate['attributes']))\n",
    "\n",
    "job_certificate_schema_id = government['job_certificate_schema_id']\n",
    "\n",
    "await send_schema(government['pool'], government['wallet'], government['did'], government['job_certificate_schema'])"
   ]
  },
  {
   "cell_type": "code",
   "execution_count": 33,
   "id": "fce80f57-3b3d-425c-aed7-ba2419318758",
   "metadata": {},
   "outputs": [
    {
     "name": "stdout",
     "output_type": "stream",
     "text": [
      "----------------------------------------------------------------------------------------------------\n",
      "---------------------------------------------government---------------------------------------------\n",
      "{ 'did': 'DP92P2qRue3B7QaaM3ajWz',\n",
      "  'job_certificate_schema': '{\"ver\":\"1.0\",\"id\":\"DP92P2qRue3B7QaaM3ajWz:2:Job-Certificate:0.2\",\"name\":\"Job-Certificate\",\"version\":\"0.2\",\"attrNames\":[\"employee_status\",\"salary\",\"first_name\",\"experience\",\"last_name\"],\"seqNo\":null}',\n",
      "  'job_certificate_schema_id': 'DP92P2qRue3B7QaaM3ajWz:2:Job-Certificate:0.2',\n",
      "  'key': '7kQmatTbAxGbEHn91Y8U7jsHLuznsvTt5PDgmxhhECpp',\n",
      "  'name': 'Government',\n",
      "  'pool': 10,\n",
      "  'role': 'TRUST_ANCHOR',\n",
      "  'transcript_schema': '{\"ver\":\"1.0\",\"id\":\"DP92P2qRue3B7QaaM3ajWz:2:Transcript:1.2\",\"name\":\"Transcript\",\"version\":\"1.2\",\"attrNames\":[\"ssn\",\"status\",\"year\",\"degree\",\"average\",\"first_name\",\"last_name\"],\"seqNo\":null}',\n",
      "  'transcript_schema_id': 'DP92P2qRue3B7QaaM3ajWz:2:Transcript:1.2',\n",
      "  'wallet': 15,\n",
      "  'wallet_config': '{\"id\": '\n",
      "                   '\"government_wallet\"}',\n",
      "  'wallet_credentials': '{\"key\": '\n",
      "                        '\"government_wallet_key\"}'}\n",
      "----------------------------------------------------------------------------------------------------\n",
      "----------------------------------------------------------------------------------------------------\n",
      "-------------------------------------job_certificate_schema_id--------------------------------------\n",
      "{ 'attributes': [ 'first_name',\n",
      "                  'last_name', 'degree',\n",
      "                  'status', 'year',\n",
      "                  'average', 'ssn'],\n",
      "  'name': 'Transcript',\n",
      "  'version': '1.2'}\n",
      "----------------------------------------------------------------------------------------------------\n"
     ]
    }
   ],
   "source": [
    "IndyPrinter(government)(\"government\", use_pp = True)\n",
    "IndyPrinter(transcript)(\"job_certificate_schema_id\", use_pp = True)"
   ]
  },
  {
   "cell_type": "markdown",
   "id": "8daff017-376d-4966-b999-b6db7f477bd4",
   "metadata": {
    "tags": []
   },
   "source": [
    "<br><br><br><hr>\n",
    "\n",
    "# 7. Credential Definition Setup"
   ]
  },
  {
   "cell_type": "markdown",
   "id": "e9235333-f4ab-4d0d-98c5-bc5014d1be54",
   "metadata": {
    "tags": []
   },
   "source": [
    "## - Definition 관련 함수 정의"
   ]
  },
  {
   "cell_type": "code",
   "execution_count": 34,
   "id": "6c615b07-499b-4df0-9d77-959bb2392700",
   "metadata": {
    "tags": []
   },
   "outputs": [],
   "source": [
    "async def send_cred_def(pool_handle, wallet_handle, _did, cred_def_json):\n",
    "    cred_def_request = await ledger.build_cred_def_request(_did, cred_def_json)\n",
    "    await ledger.sign_and_submit_request(pool_handle, wallet_handle, _did, cred_def_request)\n",
    "\n",
    "async def get_cred_def(pool_handle, _did, cred_def_id):\n",
    "    get_cred_def_request = await ledger.build_get_cred_def_request(_did, cred_def_id)\n",
    "    get_cred_def_response = await ensure_previous_request_applied(pool_handle, get_cred_def_request,\n",
    "                                              lambda response: response['result']['data'] is not None)\n",
    "    return await ledger.parse_get_cred_def_response(get_cred_def_response)"
   ]
  },
  {
   "cell_type": "markdown",
   "id": "78c6a2fb-2cd7-44f3-b8fc-5be0a060f812",
   "metadata": {},
   "source": [
    "### (1-1) Faber get \"Transcript\" schema from ledger"
   ]
  },
  {
   "cell_type": "code",
   "execution_count": 35,
   "id": "c6cf2452-d49b-4c3f-a20a-c7dae95ed5b9",
   "metadata": {},
   "outputs": [
    {
     "name": "stdout",
     "output_type": "stream",
     "text": [
      "----------------------------------------------------------------------------------------------------\n",
      "-----------------------------------------get_schema_request-----------------------------------------\n",
      "{ 'identifier': 'FyckJRmcaRJYeHukogSij5',\n",
      "  'operation': { 'data': { 'name': 'Transcript',\n",
      "                           'version': '1.2'},\n",
      "                 'dest': 'DP92P2qRue3B7QaaM3ajWz',\n",
      "                 'type': '107'},\n",
      "  'protocolVersion': 2,\n",
      "  'reqId': 1636378507167267928}\n",
      "----------------------------------------------------------------------------------------------------\n",
      "----------------------------------------------------------------------------------------------------\n",
      "------------------------------ensure_previous_request_applied-resposne------------------------------\n",
      "{ 'op': 'REPLY',\n",
      "  'result': { 'data': { 'attr_names': [ 'ssn',\n",
      "                                        'average',\n",
      "                                        'first_name',\n",
      "                                        'degree',\n",
      "                                        'status',\n",
      "                                        'last_name',\n",
      "                                        'year'],\n",
      "                        'name': 'Transcript',\n",
      "                        'version': '1.2'},\n",
      "              'dest': 'DP92P2qRue3B7QaaM3ajWz',\n",
      "              'identifier': 'FyckJRmcaRJYeHukogSij5',\n",
      "              'reqId': 1636378507167267928,\n",
      "              'seqNo': 11,\n",
      "              'state_proof': { 'multi_signature': { 'participants': [ 'Node2',\n",
      "                                                                      'Node1',\n",
      "                                                                      'Node3'],\n",
      "                                                    'signature': 'RL5VaUUezTeoVCqN9i7iQisuy73pR7YosqVwMA1MEmZEsgVmHtMT59rBRXfbJcW7NePUbSNsmMDKx9hbVm9TEVK9KS3JYvA6yxCrogax1YBheiSmzkm3LtyY75Qdb7dTAyTXiSRfqaggGujnNPPuYsYwJZQJGtEcZbxrK2MZKEaWjq',\n",
      "                                                    'value': { 'ledger_id': 1,\n",
      "                                                               'pool_state_root_hash': '9mYGVPSfvA24aJo5vnrC1JDBNf3dVSYEAJUVwaapkjeL',\n",
      "                                                               'state_root_hash': 'FVk6NcDoWmG4cYrC95UB9rursXFLMbs6uBUCqDZA8zGt',\n",
      "                                                               'timestamp': 1636378507,\n",
      "                                                               'txn_root_hash': 'ErHoL482ooNU4utNXzuUFpHbhV6y8bKKaqze1u2nZXSQ'}},\n",
      "                               'proof_nodes': '+QIO+ImONHJhbnNjcmlwdDoxLjK4ePh2uHR7ImxzbiI6MTEsImx1dCI6MTYzNjM3ODUwNCwidmFsIjp7ImF0dHJfbmFtZXMiOlsic3NuIiwiYXZlcmFnZSIsImZpcnN0X25hbWUiLCJkZWdyZWUiLCJzdGF0dXMiLCJsYXN0X25hbWUiLCJ5ZWFyIl19ffhRgICAgKD4+a90GZQY77Yd5Ypw+Dpk95OJlB938pQozoC93zJFnaC0+WyhaFOM0bC7sJT2vi+UaXmZQHEo1TDzQR+cgB5f4YCAgICAgICAgICA+DuZFFA5MlAycVJ1ZTNCN1FhYU0zYWpXejoyOqDUskPTzuFZ4m+jrAot76SdEoejWFzFMiA0aAjeAwMH/fjxoNPSP24JsVps7QufK62cHm4MLrVBpYu1VMlThcJrixajgICgLynFMEGnJtu95wMfzANUZGY8u3YvdGsiyQuco2Np2rugbcjiciHc9+NqfSLrqAwMG2ev/qHUJMxgKWs+kVNqQ2ugNWjaOX+VllqTLX33y26nJpjhib/OVj5ZIL5A8rHidQ6AgICAoAl5SNJ313QDK1PKrlrNTtwgquy63tFI8UrW2FqgFRMtgICgK7MPmZogmCAlcIvsctPtUEfz96s67bRRowvvDcjUj4iAoDs6GXxRL8inD2b3RY1v/ufksDHNqfFKaK2MEIjNIZwagA==',\n",
      "                               'root_hash': 'FVk6NcDoWmG4cYrC95UB9rursXFLMbs6uBUCqDZA8zGt'},\n",
      "              'txnTime': 1636378504,\n",
      "              'type': '107'}}\n",
      "----------------------------------------------------------------------------------------------------\n",
      "return!!!\n",
      "----------------------------------------------------------------------------------------------------\n",
      "----------------------------------------get_schema_response-----------------------------------------\n",
      "{ 'op': 'REPLY',\n",
      "  'result': { 'data': { 'attr_names': [ 'ssn',\n",
      "                                        'average',\n",
      "                                        'first_name',\n",
      "                                        'degree',\n",
      "                                        'status',\n",
      "                                        'last_name',\n",
      "                                        'year'],\n",
      "                        'name': 'Transcript',\n",
      "                        'version': '1.2'},\n",
      "              'dest': 'DP92P2qRue3B7QaaM3ajWz',\n",
      "              'identifier': 'FyckJRmcaRJYeHukogSij5',\n",
      "              'reqId': 1636378507167267928,\n",
      "              'seqNo': 11,\n",
      "              'state_proof': { 'multi_signature': { 'participants': [ 'Node2',\n",
      "                                                                      'Node1',\n",
      "                                                                      'Node3'],\n",
      "                                                    'signature': 'RL5VaUUezTeoVCqN9i7iQisuy73pR7YosqVwMA1MEmZEsgVmHtMT59rBRXfbJcW7NePUbSNsmMDKx9hbVm9TEVK9KS3JYvA6yxCrogax1YBheiSmzkm3LtyY75Qdb7dTAyTXiSRfqaggGujnNPPuYsYwJZQJGtEcZbxrK2MZKEaWjq',\n",
      "                                                    'value': { 'ledger_id': 1,\n",
      "                                                               'pool_state_root_hash': '9mYGVPSfvA24aJo5vnrC1JDBNf3dVSYEAJUVwaapkjeL',\n",
      "                                                               'state_root_hash': 'FVk6NcDoWmG4cYrC95UB9rursXFLMbs6uBUCqDZA8zGt',\n",
      "                                                               'timestamp': 1636378507,\n",
      "                                                               'txn_root_hash': 'ErHoL482ooNU4utNXzuUFpHbhV6y8bKKaqze1u2nZXSQ'}},\n",
      "                               'proof_nodes': '+QIO+ImONHJhbnNjcmlwdDoxLjK4ePh2uHR7ImxzbiI6MTEsImx1dCI6MTYzNjM3ODUwNCwidmFsIjp7ImF0dHJfbmFtZXMiOlsic3NuIiwiYXZlcmFnZSIsImZpcnN0X25hbWUiLCJkZWdyZWUiLCJzdGF0dXMiLCJsYXN0X25hbWUiLCJ5ZWFyIl19ffhRgICAgKD4+a90GZQY77Yd5Ypw+Dpk95OJlB938pQozoC93zJFnaC0+WyhaFOM0bC7sJT2vi+UaXmZQHEo1TDzQR+cgB5f4YCAgICAgICAgICA+DuZFFA5MlAycVJ1ZTNCN1FhYU0zYWpXejoyOqDUskPTzuFZ4m+jrAot76SdEoejWFzFMiA0aAjeAwMH/fjxoNPSP24JsVps7QufK62cHm4MLrVBpYu1VMlThcJrixajgICgLynFMEGnJtu95wMfzANUZGY8u3YvdGsiyQuco2Np2rugbcjiciHc9+NqfSLrqAwMG2ev/qHUJMxgKWs+kVNqQ2ugNWjaOX+VllqTLX33y26nJpjhib/OVj5ZIL5A8rHidQ6AgICAoAl5SNJ313QDK1PKrlrNTtwgquy63tFI8UrW2FqgFRMtgICgK7MPmZogmCAlcIvsctPtUEfz96s67bRRowvvDcjUj4iAoDs6GXxRL8inD2b3RY1v/ufksDHNqfFKaK2MEIjNIZwagA==',\n",
      "                               'root_hash': 'FVk6NcDoWmG4cYrC95UB9rursXFLMbs6uBUCqDZA8zGt'},\n",
      "              'txnTime': 1636378504,\n",
      "              'type': '107'}}\n",
      "----------------------------------------------------------------------------------------------------\n",
      "----------------------------------------------------------------------------------------------------\n",
      "--------------------------------------------return_data---------------------------------------------\n",
      "( 'DP92P2qRue3B7QaaM3ajWz:2:Transcript:1.2',\n",
      "  '{\"ver\":\"1.0\",\"id\":\"DP92P2qRue3B7QaaM3ajWz:2:Transcript:1.2\",\"name\":\"Transcript\",\"version\":\"1.2\",\"attrNames\":[\"degree\",\"last_name\",\"average\",\"year\",\"status\",\"first_name\",\"ssn\"],\"seqNo\":11}')\n",
      "----------------------------------------------------------------------------------------------------\n"
     ]
    }
   ],
   "source": [
    "(faber['transcript_schema_id'], faber['transcript_schema']) = await get_schema(faber['pool'], faber['did'], transcript_schema_id)"
   ]
  },
  {
   "cell_type": "code",
   "execution_count": 36,
   "id": "3263634f-4ef9-4c1b-9de0-92df5705a7e7",
   "metadata": {},
   "outputs": [
    {
     "name": "stdout",
     "output_type": "stream",
     "text": [
      "----------------------------------------------------------------------------------------------------\n",
      "-----------------------------------------------faber------------------------------------------------\n",
      "{ 'did': 'FyckJRmcaRJYeHukogSij5',\n",
      "  'key': '9ARg7ByY8TUaYufZ1ezZwe7ArET1X3vsXm43NDbyda3y',\n",
      "  'name': 'Faber',\n",
      "  'pool': 10,\n",
      "  'role': 'TRUST_ANCHOR',\n",
      "  'transcript_schema': '{\"ver\":\"1.0\",\"id\":\"DP92P2qRue3B7QaaM3ajWz:2:Transcript:1.2\",\"name\":\"Transcript\",\"version\":\"1.2\",\"attrNames\":[\"degree\",\"last_name\",\"average\",\"year\",\"status\",\"first_name\",\"ssn\"],\"seqNo\":11}',\n",
      "  'transcript_schema_id': 'DP92P2qRue3B7QaaM3ajWz:2:Transcript:1.2',\n",
      "  'wallet': 19,\n",
      "  'wallet_config': '{\"id\": '\n",
      "                   '\"faber_wallet\"}',\n",
      "  'wallet_credentials': '{\"key\": '\n",
      "                        '\"faber_wallet_key\"}'}\n",
      "----------------------------------------------------------------------------------------------------\n"
     ]
    }
   ],
   "source": [
    "IndyPrinter(faber)(\"faber\", use_pp = True)"
   ]
  },
  {
   "cell_type": "markdown",
   "id": "5a831bf3-2ef5-45d6-bac5-e672eac47b57",
   "metadata": {},
   "source": [
    "### (1-2) Faber create and store in wallet \"Faber Transcript\" credential definition"
   ]
  },
  {
   "cell_type": "code",
   "execution_count": 37,
   "id": "2ae44fe8-bfd5-43b4-9b08-6a9666a3a40b",
   "metadata": {},
   "outputs": [],
   "source": [
    "transcript_cred_def = {\n",
    "    'tag': 'TAG1',\n",
    "    'type': 'CL',\n",
    "    'config': {\"support_revocation\": False}\n",
    "}\n",
    "(faber['transcript_cred_def_id'], faber['transcript_cred_def']) = await anoncreds.issuer_create_and_store_credential_def(faber['wallet'], faber['did'],\n",
    "                                                                                                                         faber['transcript_schema'], transcript_cred_def['tag'],\n",
    "                                                                                                                         transcript_cred_def['type'],\n",
    "                                                                                                                         json.dumps(transcript_cred_def['config']))"
   ]
  },
  {
   "cell_type": "code",
   "execution_count": 38,
   "id": "202fa86c-ef0d-4a72-9136-206da39181fa",
   "metadata": {},
   "outputs": [
    {
     "name": "stdout",
     "output_type": "stream",
     "text": [
      "----------------------------------------------------------------------------------------------------\n",
      "----------------------------------------transcript_cred_def-----------------------------------------\n",
      "{ 'config': { 'support_revocation': False},\n",
      "  'tag': 'TAG1',\n",
      "  'type': 'CL'}\n",
      "----------------------------------------------------------------------------------------------------\n",
      "----------------------------------------------------------------------------------------------------\n",
      "-----------------------------------------------faber------------------------------------------------\n",
      "{ 'did': 'FyckJRmcaRJYeHukogSij5',\n",
      "  'key': '9ARg7ByY8TUaYufZ1ezZwe7ArET1X3vsXm43NDbyda3y',\n",
      "  'name': 'Faber',\n",
      "  'pool': 10,\n",
      "  'role': 'TRUST_ANCHOR',\n",
      "  'transcript_cred_def': '{\"ver\":\"1.0\",\"id\":\"FyckJRmcaRJYeHukogSij5:3:CL:11:TAG1\",\"schemaId\":\"11\",\"type\":\"CL\",\"tag\":\"TAG1\",\"value\":{\"primary\":{\"n\":\"101996116376267510016378383796521622606101323476051903380863591147886393459234017308424939756126833707898111350071560313389016948059948668917708992109709283709960501565382023839182517571199651038545675573857143115713819121195544559462727468067442144024830834828143495139473035591321700443294399587274375759449336306684492231687935609975819643060366983627442518548527828502050858453264814666672984556170971976484152852157743261134033422561487778373939039089323306498405646447852704372898809677802062070395578191230307090911231559041655330220177122096997982090290915029254527844808692621652548238590274080059454884973493\",\"s\":\"18966334745303214123456510357247014020271004403845941825392063988836251401576794583391963175788646320778255031948258457864955385596221217519431318849033405316139632481179465921004586532619400475282005286568652855963740847454776487419189705779189513898575579073899915359807086765107979608735685112686099982418005216598941462889232076998512957719619578592785627484999669605075207752649292354002624383628668297284292517535764156289162006623112993846224347272207653904387340268225007229980061703524331422052606468046226823718568163905924557822883830112801774782585439584847162231728332783705148890622091333342345286841718\",\"r\":{\"first_name\":\"92420746962254134206720392923835890128916325194763445705696263957731923327673701106140962099796385936220053849288899503319095201517115067560907827526903747578000007400623944683582089045943162693698967918092532836904484581014931136955136110716734546211370020744636256466223549715027962421730169229204027835279403865347832921224619014133710873070469077752363342681074175404719218428703482780628879843443656711421652027101900792693883462408125083838129002702361429391003581457272855463418543540926707732604289205489938975203306975496197059734066291540795773018192885768936899148269682925911757002972111422700334895280654\",\"last_name\":\"34517954697726146782476102485821621650574191073775287932463364297342965869880552697242856645235252453181979525890827370756786201132347093041971592699920369820307937358437216983384104645929279159984734741816773906116548336915277395058726774680941945748374772895993579756571052019778676041109158373595448950374273065612823546200989081936353597845620914003607357354915587385273463120994097442097309616251714935966513349969365565233726044453095662585212631293823915223047878007263280370413104101896889838442379133608038822524589176240842143999692651265012533719809953504474374713538231170329024822254181822394844033454408\",\"degree\":\"15131026708826309785244027251094919281354553622752148523280290539623387896592152477685023906533440822928422445658061712147448317222790664082430834392683107006066895003422138732328348522687213687855803998414908932739761593777527265447282937696508940998007031162232112916930708789471218617182410723947978063955459988325898766596201068948944891078838900464018111287984531721188479219890341146857554785631139505621815932340161644961312938129619295325540065949206520750063726936042081578346483637446035354667236344937393244462896796811022838962775115368434825022147768306098367821735992003105636558435456057627206691721009\",\"average\":\"84024248242228592634608957338564586643343715444869454060284170165874924303222393896382441670192413919925429993492169502651847300826178503188365803377657545998717295230165763609900343322102761558905133365097284041550184232157368857693081638902607640505381969220244598171033520174967733044986394355761189184412916412410463310533314882214198310233152047464099480259950804204902301981360446129283699372983108951199370559860981329353963250314319418563911158425637732918385253642191837093053936911750062798264405155506600399899319676125021000881278998062157846046112003548069966335939088304766083942696337993351884312934209\",\"master_secret\":\"34422597046434543782074676921689189049160385332363874495364038702275470580931153447424581954483590537553708403041818125995997582388434634356030559321797007805392086819543893972916594633908349492573471166783943284783109155206200644720225639000884756841824522530293668163633917034641224459914854228672038020495839783011221262764871306499851801159412252646671136069416397184246964647412566814289801067836117941797041192557838358766624907956295321827532925754609578936278464293161799100172989893294947409650394115990357409319272397655789989727381150870479386074156202848915639554329561160061764114969254730557067626535406\",\"year\":\"63064973445908310577150939954015752393553084566490289552873022487750171802294388926049905642657316255942670130983075445650063965747316063402476166858860072423842449013748668321193141965936978795368786609972107979492612927780756869690172286641539220727704613885491942068865784029600686830556114722956327771679102787874188935511533518723753719665776683635374731735043096153358085461444341793885400294587489492020016350716967279691210085292631808336270091642950171089921749356544893993092573724694775669765529412268320812015653564687830280937046237689587154783540077669069893740616761552567340187025665895747593218416905\",\"ssn\":\"7199922004584306098097166326563918177021185163334766454204226650356836352869090622107291437782961022068860752285244249650584671195022834846558233225229679511379223088060699590956390631708455927985742889024690116019294969217935943200477461239761603142885644599156958403606853678630960431208947801793304957189776906635954833293379100725838751927578134002727765402442594900510292326931729325100543473108471096622525287518350675304396755401793820438170680328391132281854668552918847812897063058845313507680264193970644091004794761613519781260853124053978121643088741924847891422177920386581162661656990686730049057527014\",\"status\":\"90611176225651003789596298744195656755587626168833448897416443587415291548157672453857130049279053626301932338502000921199889405316797779918987911075846777623157845265806746731636881548173181160461739678533605441158471496817906997544179476057596681971149124588188268449225257741713940346758409415147960046707186614747293247233335317712778258399418204822031489172459915813727786324394165260801122122291323305315448218344607229523553564095175702683909953811208723955737770697503812481564549214396962367336166094778884295736295870154807258320139853619412416299402281180754390820138112397143421728509813737336919745475531\"},\"rctxt\":\"46809915485969407645985807672249709775704819585936903973356980178983082373585075268645686501026286985919263407787193790354617984892205210887328983724588716169506411310417669548434169397341882962899080555592865615455991186448097231919010862794601483807289624749711746889332822606372807567760026332720660632125986678622558121879109594694801599720959964688547121072899698275839766444261149572403922092307969925955980320347417249379511933846818424932170815780923601886325362970175119321391299301646534236550376462843567299262973728886096540394548285769917692569450198856480270038605275144307822262414509844780741720330369\",\"z\":\"60200704100208018194068258026724068845791431752893397246890615212493457880734083695444662872851040593032085828678037239432560090645799608364685369787545577313877239564580364596390941678827872627589196480096903140140235371439219072941480221833645863273855108387712525382333150964235203083299760981248293957147382751975426840712969699875655834518235083082123687107645521979536225737488690803607446825952173562537086387048371779055952122992570838283683988208345879033000654628272842480121904544765981283815998647042777103321639649867096751578023252646674241373461068128506704547684856843524532919131430894940771770321001\"}}}',\n",
      "  'transcript_cred_def_id': 'FyckJRmcaRJYeHukogSij5:3:CL:11:TAG1',\n",
      "  'transcript_schema': '{\"ver\":\"1.0\",\"id\":\"DP92P2qRue3B7QaaM3ajWz:2:Transcript:1.2\",\"name\":\"Transcript\",\"version\":\"1.2\",\"attrNames\":[\"degree\",\"last_name\",\"average\",\"year\",\"status\",\"first_name\",\"ssn\"],\"seqNo\":11}',\n",
      "  'transcript_schema_id': 'DP92P2qRue3B7QaaM3ajWz:2:Transcript:1.2',\n",
      "  'wallet': 19,\n",
      "  'wallet_config': '{\"id\": '\n",
      "                   '\"faber_wallet\"}',\n",
      "  'wallet_credentials': '{\"key\": '\n",
      "                        '\"faber_wallet_key\"}'}\n",
      "----------------------------------------------------------------------------------------------------\n"
     ]
    }
   ],
   "source": [
    "IndyPrinter(transcript_cred_def)(\"transcript_cred_def\", use_pp = True)\n",
    "IndyPrinter(faber)(\"faber\", use_pp = True)"
   ]
  },
  {
   "cell_type": "markdown",
   "id": "aaad8ee3-e31f-4bde-921d-969a103e63ac",
   "metadata": {},
   "source": [
    "### (1-3) Faber send \"Faber Transcript\" credential definition to ledger"
   ]
  },
  {
   "cell_type": "code",
   "execution_count": 39,
   "id": "a547a457-0409-42c7-aa3c-18f6cb440c3b",
   "metadata": {},
   "outputs": [],
   "source": [
    "await send_cred_def(faber['pool'], faber['wallet'], faber['did'], faber['transcript_cred_def'])"
   ]
  },
  {
   "cell_type": "markdown",
   "id": "64d4a551-e631-4a62-b52b-e3d252c30696",
   "metadata": {
    "tags": []
   },
   "source": [
    "### (2-1) Acme get \"Job-Certificate\" schema from ledger"
   ]
  },
  {
   "cell_type": "code",
   "execution_count": 40,
   "id": "aa0ce7ed-bfc5-4f03-848c-8641cd483f9d",
   "metadata": {},
   "outputs": [
    {
     "name": "stdout",
     "output_type": "stream",
     "text": [
      "----------------------------------------------------------------------------------------------------\n",
      "-----------------------------------------get_schema_request-----------------------------------------\n",
      "{ 'identifier': 'K4tCkhb6nUJyYjmiaFDeo7',\n",
      "  'operation': { 'data': { 'name': 'Job-Certificate',\n",
      "                           'version': '0.2'},\n",
      "                 'dest': 'DP92P2qRue3B7QaaM3ajWz',\n",
      "                 'type': '107'},\n",
      "  'protocolVersion': 2,\n",
      "  'reqId': 1636378511024173604}\n",
      "----------------------------------------------------------------------------------------------------\n",
      "----------------------------------------------------------------------------------------------------\n",
      "------------------------------ensure_previous_request_applied-resposne------------------------------\n",
      "{ 'op': 'REPLY',\n",
      "  'result': { 'data': { 'attr_names': [ 'salary',\n",
      "                                        'experience',\n",
      "                                        'employee_status',\n",
      "                                        'last_name',\n",
      "                                        'first_name'],\n",
      "                        'name': 'Job-Certificate',\n",
      "                        'version': '0.2'},\n",
      "              'dest': 'DP92P2qRue3B7QaaM3ajWz',\n",
      "              'identifier': 'K4tCkhb6nUJyYjmiaFDeo7',\n",
      "              'reqId': 1636378511024173604,\n",
      "              'seqNo': 12,\n",
      "              'state_proof': { 'multi_signature': { 'participants': [ 'Node3',\n",
      "                                                                      'Node2',\n",
      "                                                                      'Node4'],\n",
      "                                                    'signature': 'Ra6EErVXePhw63HutXfvmxsXKbDk18cNZs4VGfiXscw9aGsE4NYF9iuzbZCnmzx7mUhSc7Fqk492bhq4CzjtawwEs3Cavdvy5VkxBZ8qm2XsWTt6Ww9s7w8TrmJTAWeykG8mXtFd8CQgyFPBL9dtQ4M3bFue83SZQcdbMV3DeL9d75',\n",
      "                                                    'value': { 'ledger_id': 1,\n",
      "                                                               'pool_state_root_hash': '9mYGVPSfvA24aJo5vnrC1JDBNf3dVSYEAJUVwaapkjeL',\n",
      "                                                               'state_root_hash': 'D7dvoEE1uFQVsGQ1gpy6jtqMhSHsMs7J8gR7HcKRRpR3',\n",
      "                                                               'timestamp': 1636378510,\n",
      "                                                               'txn_root_hash': 'BdnmBJi5mNri5CzCnZZgFcQHbzgg8ZNJfLV1LGzf59jU'}},\n",
      "                               'proof_nodes': '+QJl+FGAgICAoHBOCLKm2xZC8/deTNw2jY6f9+PaR9W8dwaPnh7rpg5ugKByx4VNVLBLSgVxs4rtAN+Bxc1sCvUbpqWzGmb9+pXvnYCAgICAgICAgID4jZM6b2ItQ2VydGlmaWNhdGU6MC4yuHf4dbhzeyJsc24iOjEyLCJsdXQiOjE2MzYzNzg1MDcsInZhbCI6eyJhdHRyX25hbWVzIjpbInNhbGFyeSIsImV4cGVyaWVuY2UiLCJlbXBsb3llZV9zdGF0dXMiLCJsYXN0X25hbWUiLCJmaXJzdF9uYW1lIl19ffhRgICAgKD4+a90GZQY77Yd5Ypw+Dpk95OJlB938pQozoC93zJFnaC0+WyhaFOM0bC7sJT2vi+UaXmZQHEo1TDzQR+cgB5f4YCAgICAgICAgICA+DuZAFA5MlAycVJ1ZTNCN1FhYU0zYWpXejoyOqDUskPTzuFZ4m+jrAot76SdEoejWFzFMiA0aAjeAwMH/fjxoNPSP24JsVps7QufK62cHm4MLrVBpYu1VMlThcJrixajgICgLynFMEGnJtu95wMfzANUZGY8u3YvdGsiyQuco2Np2rugwx0eHbjUh69Zxn6MVsoZ1pf5FMy5KNRD83GiiS6NrrigNWjaOX+VllqTLX33y26nJpjhib/OVj5ZIL5A8rHidQ6AgICAoAl5SNJ313QDK1PKrlrNTtwgquy63tFI8UrW2FqgFRMtgICgK7MPmZogmCAlcIvsctPtUEfz96s67bRRowvvDcjUj4iAoDs6GXxRL8inD2b3RY1v/ufksDHNqfFKaK2MEIjNIZwagA==',\n",
      "                               'root_hash': 'D7dvoEE1uFQVsGQ1gpy6jtqMhSHsMs7J8gR7HcKRRpR3'},\n",
      "              'txnTime': 1636378507,\n",
      "              'type': '107'}}\n",
      "----------------------------------------------------------------------------------------------------\n",
      "return!!!\n",
      "----------------------------------------------------------------------------------------------------\n",
      "----------------------------------------get_schema_response-----------------------------------------\n",
      "{ 'op': 'REPLY',\n",
      "  'result': { 'data': { 'attr_names': [ 'salary',\n",
      "                                        'experience',\n",
      "                                        'employee_status',\n",
      "                                        'last_name',\n",
      "                                        'first_name'],\n",
      "                        'name': 'Job-Certificate',\n",
      "                        'version': '0.2'},\n",
      "              'dest': 'DP92P2qRue3B7QaaM3ajWz',\n",
      "              'identifier': 'K4tCkhb6nUJyYjmiaFDeo7',\n",
      "              'reqId': 1636378511024173604,\n",
      "              'seqNo': 12,\n",
      "              'state_proof': { 'multi_signature': { 'participants': [ 'Node3',\n",
      "                                                                      'Node2',\n",
      "                                                                      'Node4'],\n",
      "                                                    'signature': 'Ra6EErVXePhw63HutXfvmxsXKbDk18cNZs4VGfiXscw9aGsE4NYF9iuzbZCnmzx7mUhSc7Fqk492bhq4CzjtawwEs3Cavdvy5VkxBZ8qm2XsWTt6Ww9s7w8TrmJTAWeykG8mXtFd8CQgyFPBL9dtQ4M3bFue83SZQcdbMV3DeL9d75',\n",
      "                                                    'value': { 'ledger_id': 1,\n",
      "                                                               'pool_state_root_hash': '9mYGVPSfvA24aJo5vnrC1JDBNf3dVSYEAJUVwaapkjeL',\n",
      "                                                               'state_root_hash': 'D7dvoEE1uFQVsGQ1gpy6jtqMhSHsMs7J8gR7HcKRRpR3',\n",
      "                                                               'timestamp': 1636378510,\n",
      "                                                               'txn_root_hash': 'BdnmBJi5mNri5CzCnZZgFcQHbzgg8ZNJfLV1LGzf59jU'}},\n",
      "                               'proof_nodes': '+QJl+FGAgICAoHBOCLKm2xZC8/deTNw2jY6f9+PaR9W8dwaPnh7rpg5ugKByx4VNVLBLSgVxs4rtAN+Bxc1sCvUbpqWzGmb9+pXvnYCAgICAgICAgID4jZM6b2ItQ2VydGlmaWNhdGU6MC4yuHf4dbhzeyJsc24iOjEyLCJsdXQiOjE2MzYzNzg1MDcsInZhbCI6eyJhdHRyX25hbWVzIjpbInNhbGFyeSIsImV4cGVyaWVuY2UiLCJlbXBsb3llZV9zdGF0dXMiLCJsYXN0X25hbWUiLCJmaXJzdF9uYW1lIl19ffhRgICAgKD4+a90GZQY77Yd5Ypw+Dpk95OJlB938pQozoC93zJFnaC0+WyhaFOM0bC7sJT2vi+UaXmZQHEo1TDzQR+cgB5f4YCAgICAgICAgICA+DuZAFA5MlAycVJ1ZTNCN1FhYU0zYWpXejoyOqDUskPTzuFZ4m+jrAot76SdEoejWFzFMiA0aAjeAwMH/fjxoNPSP24JsVps7QufK62cHm4MLrVBpYu1VMlThcJrixajgICgLynFMEGnJtu95wMfzANUZGY8u3YvdGsiyQuco2Np2rugwx0eHbjUh69Zxn6MVsoZ1pf5FMy5KNRD83GiiS6NrrigNWjaOX+VllqTLX33y26nJpjhib/OVj5ZIL5A8rHidQ6AgICAoAl5SNJ313QDK1PKrlrNTtwgquy63tFI8UrW2FqgFRMtgICgK7MPmZogmCAlcIvsctPtUEfz96s67bRRowvvDcjUj4iAoDs6GXxRL8inD2b3RY1v/ufksDHNqfFKaK2MEIjNIZwagA==',\n",
      "                               'root_hash': 'D7dvoEE1uFQVsGQ1gpy6jtqMhSHsMs7J8gR7HcKRRpR3'},\n",
      "              'txnTime': 1636378507,\n",
      "              'type': '107'}}\n",
      "----------------------------------------------------------------------------------------------------\n",
      "----------------------------------------------------------------------------------------------------\n",
      "--------------------------------------------return_data---------------------------------------------\n",
      "( 'DP92P2qRue3B7QaaM3ajWz:2:Job-Certificate:0.2',\n",
      "  '{\"ver\":\"1.0\",\"id\":\"DP92P2qRue3B7QaaM3ajWz:2:Job-Certificate:0.2\",\"name\":\"Job-Certificate\",\"version\":\"0.2\",\"attrNames\":[\"first_name\",\"salary\",\"employee_status\",\"last_name\",\"experience\"],\"seqNo\":12}')\n",
      "----------------------------------------------------------------------------------------------------\n"
     ]
    }
   ],
   "source": [
    "(acme['job_certificate_schema_id'], acme['job_certificate_schema']) = await get_schema(acme['pool'], acme['did'], job_certificate_schema_id)"
   ]
  },
  {
   "cell_type": "code",
   "execution_count": 41,
   "id": "0c99f321-3a4f-413d-bc7c-7aac05c4ea2f",
   "metadata": {},
   "outputs": [
    {
     "name": "stdout",
     "output_type": "stream",
     "text": [
      "----------------------------------------------------------------------------------------------------\n",
      "------------------------------------------------acme------------------------------------------------\n",
      "{ 'did': 'K4tCkhb6nUJyYjmiaFDeo7',\n",
      "  'job_certificate_schema': '{\"ver\":\"1.0\",\"id\":\"DP92P2qRue3B7QaaM3ajWz:2:Job-Certificate:0.2\",\"name\":\"Job-Certificate\",\"version\":\"0.2\",\"attrNames\":[\"first_name\",\"salary\",\"employee_status\",\"last_name\",\"experience\"],\"seqNo\":12}',\n",
      "  'job_certificate_schema_id': 'DP92P2qRue3B7QaaM3ajWz:2:Job-Certificate:0.2',\n",
      "  'key': 'Ar8eC5VJAEVpAn6zjtwzoNFNgjzrzTJHqJk9t7SZW5vT',\n",
      "  'name': 'Acme',\n",
      "  'pool': 10,\n",
      "  'role': 'TRUST_ANCHOR',\n",
      "  'wallet': 22,\n",
      "  'wallet_config': '{\"id\": '\n",
      "                   '\"acme_wallet\"}',\n",
      "  'wallet_credentials': '{\"key\": '\n",
      "                        '\"acme_wallet_key\"}'}\n",
      "----------------------------------------------------------------------------------------------------\n"
     ]
    }
   ],
   "source": [
    "IndyPrinter(acme)(\"acme\", use_pp = True)"
   ]
  },
  {
   "cell_type": "markdown",
   "id": "2ad8f7a7-12db-49a9-812d-7797cc8809f0",
   "metadata": {},
   "source": [
    "### (2-2) Acme create and store in wallet \"Acme Job-Certificate\" credential definition"
   ]
  },
  {
   "cell_type": "code",
   "execution_count": 42,
   "id": "c54f7610-e057-4c7b-b97a-26879424f1b7",
   "metadata": {},
   "outputs": [],
   "source": [
    "job_certificate_cred_def = {\n",
    "    'tag': 'TAG1',\n",
    "    'type': 'CL',\n",
    "    'config': {\"support_revocation\": True}\n",
    "}\n",
    "(acme['job_certificate_cred_def_id'], acme['job_certificate_cred_def']) = await anoncreds.issuer_create_and_store_credential_def(acme['wallet'], acme['did'],\n",
    "                                                                                                                                 acme['job_certificate_schema'],\n",
    "                                                                                                                                 job_certificate_cred_def['tag'],\n",
    "                                                                                                                                 job_certificate_cred_def['type'],\n",
    "                                                                                                                                 json.dumps(job_certificate_cred_def['config']))"
   ]
  },
  {
   "cell_type": "code",
   "execution_count": 43,
   "id": "5caef2ce-71cd-4d01-a161-26b56d79a290",
   "metadata": {},
   "outputs": [
    {
     "name": "stdout",
     "output_type": "stream",
     "text": [
      "----------------------------------------------------------------------------------------------------\n",
      "--------------------------------------job_certificate_cred_def--------------------------------------\n",
      "{ 'config': { 'support_revocation': False},\n",
      "  'tag': 'TAG1',\n",
      "  'type': 'CL'}\n",
      "----------------------------------------------------------------------------------------------------\n",
      "----------------------------------------------------------------------------------------------------\n",
      "------------------------------------------------acme------------------------------------------------\n",
      "{ 'did': 'K4tCkhb6nUJyYjmiaFDeo7',\n",
      "  'job_certificate_cred_def': '{\"ver\":\"1.0\",\"id\":\"K4tCkhb6nUJyYjmiaFDeo7:3:CL:12:TAG1\",\"schemaId\":\"12\",\"type\":\"CL\",\"tag\":\"TAG1\",\"value\":{\"primary\":{\"n\":\"102370267921366099821189546426452313602025301270088550332747161342492332048149030093196447321911684591933538625407259626873975711554633987835077225187272396364046950739312023011375643730950964695422526243341143729073249950757455407482171679775831144054919999454843643230431553185614247417368029787946193393251145949109124705320438581043721679512866220621142124704842987580476701835217022534502350761836438525977132510859954520709557646282824567547349979562484113563415698308072775832048296234243430365671325022450175377949933906168938194163814418304926467123856849973671341951153369431877160696629498979921611727746409\",\"s\":\"6244742368199249010901571200777332912828804640159732581191027956652683431403660543080621540593550141129610493650031169217983446873430783341723024913531727810957292788757272070164971697614633006395350345233519474556406534297231526027775632062074494811893180267814285178698190797197357219997168480414600734580557155340173287845132790116799017727162706706243812010986331085191224941176645515336521388531729583473159951824822072807471336608248368192869663814648656395135986804362568741572061148639669109631465908803468423604788758386575188114232733708833588299886045881033451037981831230342148157510036672003626131076257\",\"r\":{\"experience\":\"77209072114225155321693649415295987599072852980818039182439193885531566942654323901278535931763013995525433342018933791308605480540789769870558818758993266367991338305669703321694452994424484723645999655160990486830900693582902389848090901721899418192524275551915418762051447178801846641667188095747569500383834041280017623483049878771347533195987706663232353012266827241712076833782968048723818796483514077043695940680312327267706205559686410900662382692664615239998679670116305281691130609888258569400252484228281184826227640745686437705559090248071808440131308727628677255820599147987026104774252950228578125219319\",\"first_name\":\"101564541457787610650273138675662539301011237871771578571505992422224717310445975385820667543195624250653654368623612672105007230178498444303363316847410130735580905036002065310013448262790533019172457852651851419807536506630990104151508753041460400860312502734310025260410921103225026645525608555224125201189224503932179185326910508183603381939669101597089534968752163452335311850678405138223189473105121656213380631311650050238375014577262978843144846389461294153850728125773849631905027861749506303583806831900991977832574607552061983210443550404829690294573889729024649757952505208408650181453606315818597158324326\",\"last_name\":\"83903164652396244051561663323637987461196906869070069637286371990949525158382398508410729655963560790249215136602351753514331431364584151898277025532547216442467095617954879686286533807405771709455732577491277450916699452490207346283146356949327407997443789055453921312999800462332410913114184814706973283112242331679803588465129080321813896967568072799537529906663882511719002817330505585471032264019188453924493125710523983473605367108721172105470986466180178040071389940355164547668313423357123503809685721073012510147583088287988406310064148835641418966176485538775173849601630496640046612697032993572909805326481\",\"salary\":\"73665278632612853607716877379226152483061670176707897737667583554088904483849734185909810981925078075682199399892069581151591288041894438362198804281027000263480258429549266300244542405112361740869477051819190524760359053660977556611507932289260054211040711355509988917643090769820980151200230936868271135056185699891391003931636795788465808403417035107096542037426823070994946360902312682809346025085548866594105032947963055996223959204074570307284311876822360703486715142831009870893225568521891613296138428785839161778201851468727404646234451133807649709311320465326997786721062491313550263688701206751547092491292\",\"master_secret\":\"10509209888851143876821100071610209805241139652624244343275431076430913827007286595351912866477592644444760956555431021472088793567727628715868693178422205942615869726719600150850517694544472033888854740911107833627611375280470632735447754281311154488163095072850875170192434328668872329339104510197843128678051373119915005619386382066342941585490457762174969425822316268627117414248535012084842821854602658510726626974566187010636145627392822469458717603654593650066064928625199201116745587388634636279456231167675939646216239816252431158392869060612271557419247917959624563188425997065703403008242445478495081081198\",\"employee_status\":\"55420145197424483054336874167569911099580661337177402690796328651972888269456050717278960908952707517902668999271019637161154319704109050365712471318984760891357768697594933138971282401880208138388500897889619859115500863428059247744526091036496990525744709392452066365897289439110355742997886271385300230790998369738772097550265030953019398912696930733753395330594024316953599453296244273762816826805389331734556384597842071674493002994283735724042130568713554991237698099120762990355852389311462745693436401420142417240136831220835973262674540041090549136160716109621473868156124561992061785899744330966445063996241\"},\"rctxt\":\"59597995571324395521864840879665433040967165945127967690169631460963616525026600768013489495811465085656573757106354241865393546367688136257950649839117788439324438222946055994589194227686231482862365903988019547969707092242547940555597633373100583654306136284857877093462403169684716705962676676960929269300387683794122097478784288613070886888188180028859521902618507757825497253437120617001054835201192045256005506738051581145222815618246053237121165754440196226295141904921889956878011274378314243960083461393079660780922185880165887797158036411790080062788089731429819614335996019640852224671832669384913656002126\",\"z\":\"84025908723925180879448476131750380051898228508514718468558118569381038895225824296643281083515677717881070097336904821359815663806393009199083125333244368323290203517855358945899362394080139000426365109069229440757287187481633357549053257489741696737957260332863105442661012603077469826945375717524588445351148895373765707043648476335557555292238670687732928231437191726532400124972086463812897540070016858205908832790635841742004628706356948521996248599501807785438352620799444908626471629247300720026675284209231555635222854126470901178737313531592736677300565811661980882095391692688668392728551568669448662879620\"},\"revocation\":{\"g\":\"1 '\n",
      "                              '119BC0227BCDA1EBA3B4D8D7753EAF53F78B0DA88BF63993E8E9D1AB671C3577 '\n",
      "                              '1 '\n",
      "                              '15C90E62498CBD96A830103661C5F22E5A6B7B91C353496E071382FC2AA195FA '\n",
      "                              '2 '\n",
      "                              '095E45DDF417D05FB10933FFC63D474548B7FFFF7888802F07FFFFFF7D07A8A8\",\"g_dash\":\"1 '\n",
      "                              '03625F50C700CE540037F2FDF33105E0844443CE904B8F34DE0A61020CA315CC '\n",
      "                              '1 '\n",
      "                              '18A23ED62D9BF1599C6013B5D40B10A56B22A83EAF3C3401B4AE4E7AC54BEA75 '\n",
      "                              '1 '\n",
      "                              '1B2598B342EEF1090C3E63F62201D20E21C70F20C56CE0BFE0404786903A2D26 '\n",
      "                              '1 '\n",
      "                              '015EC6B0703F9F26BD4428158AFB35E5D33BF83EC96FE0053E3ABEE4F1D9ACF1 '\n",
      "                              '2 '\n",
      "                              '095E45DDF417D05FB10933FFC63D474548B7FFFF7888802F07FFFFFF7D07A8A8 '\n",
      "                              '1 '\n",
      "                              '0000000000000000000000000000000000000000000000000000000000000000\",\"h\":\"1 '\n",
      "                              '088752441115BBFE095178EE1E5CF653AC9A68E83A64D678333A4ED058A7A6CC '\n",
      "                              '1 '\n",
      "                              '21218520CAA0766453102D2D50319D4AB2DC91D4410F8477427D773B13345E12 '\n",
      "                              '2 '\n",
      "                              '095E45DDF417D05FB10933FFC63D474548B7FFFF7888802F07FFFFFF7D07A8A8\",\"h0\":\"1 '\n",
      "                              '0CFDD7618CA0718652B5724C0BFAF9B10C600FA20DF13B62B3EEC07B949638D3 '\n",
      "                              '1 '\n",
      "                              '07D9D9BDC89AB1096B9004CFB2DF684C5AE78DF155111832B037FAEF5156496D '\n",
      "                              '2 '\n",
      "                              '095E45DDF417D05FB10933FFC63D474548B7FFFF7888802F07FFFFFF7D07A8A8\",\"h1\":\"1 '\n",
      "                              '15047A61C2F4373338117454B4992A1631DBA223A40B307BB2A35049B94FE3A4 '\n",
      "                              '1 '\n",
      "                              '1C99F84342CFD5DB0D112A8260BA724E702DD00F7CE1728678A2E9C2C8A4B172 '\n",
      "                              '2 '\n",
      "                              '095E45DDF417D05FB10933FFC63D474548B7FFFF7888802F07FFFFFF7D07A8A8\",\"h2\":\"1 '\n",
      "                              '0C20B42E4A3B993ACE0416ACA19856A70EE3B673BF27C6E8D46BC74561AF3500 '\n",
      "                              '1 '\n",
      "                              '1033C9C1990D2DB9490725C524F4092D077C66FDFE4C14FB05454245F4ECCAE3 '\n",
      "                              '2 '\n",
      "                              '095E45DDF417D05FB10933FFC63D474548B7FFFF7888802F07FFFFFF7D07A8A8\",\"htilde\":\"1 '\n",
      "                              '1FA2BE1A59495D777EFE5B5F2093EE0D725F55F8A52003532A017DEE3AA4D7DE '\n",
      "                              '1 '\n",
      "                              '0FCA59F2B31FCA0F071EB540FF7CCFFF5D8D4274B45FC44A31E1DAC4C39B1B1B '\n",
      "                              '2 '\n",
      "                              '095E45DDF417D05FB10933FFC63D474548B7FFFF7888802F07FFFFFF7D07A8A8\",\"h_cap\":\"1 '\n",
      "                              '03A1C891B85B292540DD4CE8E432679E750968661648F6AAFD40ED01DBC3A7FE '\n",
      "                              '1 '\n",
      "                              '21DDDF3A59F8E814C9F7CC673C2F2A31D9865572A6CD17DAFDBC62FFD72FAD0C '\n",
      "                              '1 '\n",
      "                              '176CE8A72C2D1726CC53EA2A071BC2CEDD11A8C4E46605CD968A09CE739D215E '\n",
      "                              '1 '\n",
      "                              '1F437B14F34184AD642AFCF37C69504AC54D8962D6DFE9E459FC1B67586BE424 '\n",
      "                              '2 '\n",
      "                              '095E45DDF417D05FB10933FFC63D474548B7FFFF7888802F07FFFFFF7D07A8A8 '\n",
      "                              '1 '\n",
      "                              '0000000000000000000000000000000000000000000000000000000000000000\",\"u\":\"1 '\n",
      "                              '09932CE42CD5777B7BDD18F833F9380FDFECC0F9FE90AA341876AAC6BAC40BC4 '\n",
      "                              '1 '\n",
      "                              '0C7014F37F2F36392423C6CB7D6A9D2D47F91791ABAE2E56C8FD3B08800C47E1 '\n",
      "                              '1 '\n",
      "                              '17FB63A7E1FDFE6231C1E97A1C2B275E94A20AA2047E4E8DE63B3A48B3D0DBFB '\n",
      "                              '1 '\n",
      "                              '217AFE8F77DAEB21309859649DFB9CEEE4AE79A31F47813AD7C91222EEEDD755 '\n",
      "                              '2 '\n",
      "                              '095E45DDF417D05FB10933FFC63D474548B7FFFF7888802F07FFFFFF7D07A8A8 '\n",
      "                              '1 '\n",
      "                              '0000000000000000000000000000000000000000000000000000000000000000\",\"pk\":\"1 '\n",
      "                              '0EBBD4B5FD1AFBDA950AB9EED88A44FB0F5B7A587C83F614373C77A6513AECF0 '\n",
      "                              '1 '\n",
      "                              '15A4C8CB2E988D5C0D4C2D709A024440C14287D4667352DE692A95F67D388B3D '\n",
      "                              '2 '\n",
      "                              '095E45DDF417D05FB10933FFC63D474548B7FFFF7888802F07FFFFFF7D07A8A8\",\"y\":\"1 '\n",
      "                              '1C5E877DE5DE29DBE7733D32615F8B843F949C30AC43FF2CC66784421B6D705F '\n",
      "                              '1 '\n",
      "                              '219B65736FC732F2599C5316C6DC01473278C385017AC606202491865D2B5DAA '\n",
      "                              '1 '\n",
      "                              '070F552F0640ECA581881C7DED144BCD1739AC7764936916E569300BBB50E240 '\n",
      "                              '1 '\n",
      "                              '0FAB7C0814CD25C4A227CEF94671180CC42DCF3B9FD3187986C3A6FFB5FF42D9 '\n",
      "                              '2 '\n",
      "                              '095E45DDF417D05FB10933FFC63D474548B7FFFF7888802F07FFFFFF7D07A8A8 '\n",
      "                              '1 '\n",
      "                              '0000000000000000000000000000000000000000000000000000000000000000\"}}}',\n",
      "  'job_certificate_cred_def_id': 'K4tCkhb6nUJyYjmiaFDeo7:3:CL:12:TAG1',\n",
      "  'job_certificate_schema': '{\"ver\":\"1.0\",\"id\":\"DP92P2qRue3B7QaaM3ajWz:2:Job-Certificate:0.2\",\"name\":\"Job-Certificate\",\"version\":\"0.2\",\"attrNames\":[\"first_name\",\"salary\",\"employee_status\",\"last_name\",\"experience\"],\"seqNo\":12}',\n",
      "  'job_certificate_schema_id': 'DP92P2qRue3B7QaaM3ajWz:2:Job-Certificate:0.2',\n",
      "  'key': 'Ar8eC5VJAEVpAn6zjtwzoNFNgjzrzTJHqJk9t7SZW5vT',\n",
      "  'name': 'Acme',\n",
      "  'pool': 10,\n",
      "  'role': 'TRUST_ANCHOR',\n",
      "  'wallet': 22,\n",
      "  'wallet_config': '{\"id\": '\n",
      "                   '\"acme_wallet\"}',\n",
      "  'wallet_credentials': '{\"key\": '\n",
      "                        '\"acme_wallet_key\"}'}\n",
      "----------------------------------------------------------------------------------------------------\n"
     ]
    }
   ],
   "source": [
    "IndyPrinter(transcript_cred_def)(\"job_certificate_cred_def\", use_pp = True)\n",
    "IndyPrinter(acme)(\"acme\", use_pp = True)"
   ]
  },
  {
   "cell_type": "markdown",
   "id": "338ea063-e5ce-40fa-9a19-285d2aa3926b",
   "metadata": {
    "tags": []
   },
   "source": [
    "### (2-3) Acme send \"Acme Job-Certificate\" credential definition to ledger"
   ]
  },
  {
   "cell_type": "code",
   "execution_count": 44,
   "id": "7a76ad11-8ed7-4681-89be-4f46a2e9733a",
   "metadata": {},
   "outputs": [],
   "source": [
    "await send_cred_def(acme['pool'], acme['wallet'], acme['did'], acme['job_certificate_cred_def'])"
   ]
  },
  {
   "cell_type": "markdown",
   "id": "620c9338-a08b-4afe-b761-d3242fd33382",
   "metadata": {},
   "source": [
    "### (2-4) Acme create revocation registry"
   ]
  },
  {
   "cell_type": "code",
   "execution_count": 45,
   "id": "2e5afaf2-fb55-41bd-aa9f-4537ee29bc1d",
   "metadata": {},
   "outputs": [],
   "source": [
    "acme['tails_writer_config'] = json.dumps({'base_dir': \"/tmp/indy_acme_tails\", 'uri_pattern': ''})\n",
    "tails_writer = await blob_storage.open_writer('default', acme['tails_writer_config'])\n",
    "(acme['revoc_reg_id'], acme['revoc_reg_def'], acme['revoc_reg_entry']) = await anoncreds.issuer_create_and_store_revoc_reg(acme['wallet'], acme['did'], 'CL_ACCUM', 'TAG1',\n",
    "                                                                                                                           acme['job_certificate_cred_def_id'],\n",
    "                                                                                                                           json.dumps({'max_cred_num': 5, 'issuance_type': 'ISSUANCE_ON_DEMAND'}),\n",
    "                                                                                                                           tails_writer)"
   ]
  },
  {
   "cell_type": "code",
   "execution_count": 46,
   "id": "0461cd5f-2b70-471e-bfa8-5ca842cf83de",
   "metadata": {},
   "outputs": [
    {
     "name": "stdout",
     "output_type": "stream",
     "text": [
      "----------------------------------------------------------------------------------------------------\n",
      "------------------------------------------------acme------------------------------------------------\n",
      "{ 'did': 'K4tCkhb6nUJyYjmiaFDeo7',\n",
      "  'job_certificate_cred_def': '{\"ver\":\"1.0\",\"id\":\"K4tCkhb6nUJyYjmiaFDeo7:3:CL:12:TAG1\",\"schemaId\":\"12\",\"type\":\"CL\",\"tag\":\"TAG1\",\"value\":{\"primary\":{\"n\":\"102370267921366099821189546426452313602025301270088550332747161342492332048149030093196447321911684591933538625407259626873975711554633987835077225187272396364046950739312023011375643730950964695422526243341143729073249950757455407482171679775831144054919999454843643230431553185614247417368029787946193393251145949109124705320438581043721679512866220621142124704842987580476701835217022534502350761836438525977132510859954520709557646282824567547349979562484113563415698308072775832048296234243430365671325022450175377949933906168938194163814418304926467123856849973671341951153369431877160696629498979921611727746409\",\"s\":\"6244742368199249010901571200777332912828804640159732581191027956652683431403660543080621540593550141129610493650031169217983446873430783341723024913531727810957292788757272070164971697614633006395350345233519474556406534297231526027775632062074494811893180267814285178698190797197357219997168480414600734580557155340173287845132790116799017727162706706243812010986331085191224941176645515336521388531729583473159951824822072807471336608248368192869663814648656395135986804362568741572061148639669109631465908803468423604788758386575188114232733708833588299886045881033451037981831230342148157510036672003626131076257\",\"r\":{\"experience\":\"77209072114225155321693649415295987599072852980818039182439193885531566942654323901278535931763013995525433342018933791308605480540789769870558818758993266367991338305669703321694452994424484723645999655160990486830900693582902389848090901721899418192524275551915418762051447178801846641667188095747569500383834041280017623483049878771347533195987706663232353012266827241712076833782968048723818796483514077043695940680312327267706205559686410900662382692664615239998679670116305281691130609888258569400252484228281184826227640745686437705559090248071808440131308727628677255820599147987026104774252950228578125219319\",\"first_name\":\"101564541457787610650273138675662539301011237871771578571505992422224717310445975385820667543195624250653654368623612672105007230178498444303363316847410130735580905036002065310013448262790533019172457852651851419807536506630990104151508753041460400860312502734310025260410921103225026645525608555224125201189224503932179185326910508183603381939669101597089534968752163452335311850678405138223189473105121656213380631311650050238375014577262978843144846389461294153850728125773849631905027861749506303583806831900991977832574607552061983210443550404829690294573889729024649757952505208408650181453606315818597158324326\",\"last_name\":\"83903164652396244051561663323637987461196906869070069637286371990949525158382398508410729655963560790249215136602351753514331431364584151898277025532547216442467095617954879686286533807405771709455732577491277450916699452490207346283146356949327407997443789055453921312999800462332410913114184814706973283112242331679803588465129080321813896967568072799537529906663882511719002817330505585471032264019188453924493125710523983473605367108721172105470986466180178040071389940355164547668313423357123503809685721073012510147583088287988406310064148835641418966176485538775173849601630496640046612697032993572909805326481\",\"salary\":\"73665278632612853607716877379226152483061670176707897737667583554088904483849734185909810981925078075682199399892069581151591288041894438362198804281027000263480258429549266300244542405112361740869477051819190524760359053660977556611507932289260054211040711355509988917643090769820980151200230936868271135056185699891391003931636795788465808403417035107096542037426823070994946360902312682809346025085548866594105032947963055996223959204074570307284311876822360703486715142831009870893225568521891613296138428785839161778201851468727404646234451133807649709311320465326997786721062491313550263688701206751547092491292\",\"master_secret\":\"10509209888851143876821100071610209805241139652624244343275431076430913827007286595351912866477592644444760956555431021472088793567727628715868693178422205942615869726719600150850517694544472033888854740911107833627611375280470632735447754281311154488163095072850875170192434328668872329339104510197843128678051373119915005619386382066342941585490457762174969425822316268627117414248535012084842821854602658510726626974566187010636145627392822469458717603654593650066064928625199201116745587388634636279456231167675939646216239816252431158392869060612271557419247917959624563188425997065703403008242445478495081081198\",\"employee_status\":\"55420145197424483054336874167569911099580661337177402690796328651972888269456050717278960908952707517902668999271019637161154319704109050365712471318984760891357768697594933138971282401880208138388500897889619859115500863428059247744526091036496990525744709392452066365897289439110355742997886271385300230790998369738772097550265030953019398912696930733753395330594024316953599453296244273762816826805389331734556384597842071674493002994283735724042130568713554991237698099120762990355852389311462745693436401420142417240136831220835973262674540041090549136160716109621473868156124561992061785899744330966445063996241\"},\"rctxt\":\"59597995571324395521864840879665433040967165945127967690169631460963616525026600768013489495811465085656573757106354241865393546367688136257950649839117788439324438222946055994589194227686231482862365903988019547969707092242547940555597633373100583654306136284857877093462403169684716705962676676960929269300387683794122097478784288613070886888188180028859521902618507757825497253437120617001054835201192045256005506738051581145222815618246053237121165754440196226295141904921889956878011274378314243960083461393079660780922185880165887797158036411790080062788089731429819614335996019640852224671832669384913656002126\",\"z\":\"84025908723925180879448476131750380051898228508514718468558118569381038895225824296643281083515677717881070097336904821359815663806393009199083125333244368323290203517855358945899362394080139000426365109069229440757287187481633357549053257489741696737957260332863105442661012603077469826945375717524588445351148895373765707043648476335557555292238670687732928231437191726532400124972086463812897540070016858205908832790635841742004628706356948521996248599501807785438352620799444908626471629247300720026675284209231555635222854126470901178737313531592736677300565811661980882095391692688668392728551568669448662879620\"},\"revocation\":{\"g\":\"1 '\n",
      "                              '119BC0227BCDA1EBA3B4D8D7753EAF53F78B0DA88BF63993E8E9D1AB671C3577 '\n",
      "                              '1 '\n",
      "                              '15C90E62498CBD96A830103661C5F22E5A6B7B91C353496E071382FC2AA195FA '\n",
      "                              '2 '\n",
      "                              '095E45DDF417D05FB10933FFC63D474548B7FFFF7888802F07FFFFFF7D07A8A8\",\"g_dash\":\"1 '\n",
      "                              '03625F50C700CE540037F2FDF33105E0844443CE904B8F34DE0A61020CA315CC '\n",
      "                              '1 '\n",
      "                              '18A23ED62D9BF1599C6013B5D40B10A56B22A83EAF3C3401B4AE4E7AC54BEA75 '\n",
      "                              '1 '\n",
      "                              '1B2598B342EEF1090C3E63F62201D20E21C70F20C56CE0BFE0404786903A2D26 '\n",
      "                              '1 '\n",
      "                              '015EC6B0703F9F26BD4428158AFB35E5D33BF83EC96FE0053E3ABEE4F1D9ACF1 '\n",
      "                              '2 '\n",
      "                              '095E45DDF417D05FB10933FFC63D474548B7FFFF7888802F07FFFFFF7D07A8A8 '\n",
      "                              '1 '\n",
      "                              '0000000000000000000000000000000000000000000000000000000000000000\",\"h\":\"1 '\n",
      "                              '088752441115BBFE095178EE1E5CF653AC9A68E83A64D678333A4ED058A7A6CC '\n",
      "                              '1 '\n",
      "                              '21218520CAA0766453102D2D50319D4AB2DC91D4410F8477427D773B13345E12 '\n",
      "                              '2 '\n",
      "                              '095E45DDF417D05FB10933FFC63D474548B7FFFF7888802F07FFFFFF7D07A8A8\",\"h0\":\"1 '\n",
      "                              '0CFDD7618CA0718652B5724C0BFAF9B10C600FA20DF13B62B3EEC07B949638D3 '\n",
      "                              '1 '\n",
      "                              '07D9D9BDC89AB1096B9004CFB2DF684C5AE78DF155111832B037FAEF5156496D '\n",
      "                              '2 '\n",
      "                              '095E45DDF417D05FB10933FFC63D474548B7FFFF7888802F07FFFFFF7D07A8A8\",\"h1\":\"1 '\n",
      "                              '15047A61C2F4373338117454B4992A1631DBA223A40B307BB2A35049B94FE3A4 '\n",
      "                              '1 '\n",
      "                              '1C99F84342CFD5DB0D112A8260BA724E702DD00F7CE1728678A2E9C2C8A4B172 '\n",
      "                              '2 '\n",
      "                              '095E45DDF417D05FB10933FFC63D474548B7FFFF7888802F07FFFFFF7D07A8A8\",\"h2\":\"1 '\n",
      "                              '0C20B42E4A3B993ACE0416ACA19856A70EE3B673BF27C6E8D46BC74561AF3500 '\n",
      "                              '1 '\n",
      "                              '1033C9C1990D2DB9490725C524F4092D077C66FDFE4C14FB05454245F4ECCAE3 '\n",
      "                              '2 '\n",
      "                              '095E45DDF417D05FB10933FFC63D474548B7FFFF7888802F07FFFFFF7D07A8A8\",\"htilde\":\"1 '\n",
      "                              '1FA2BE1A59495D777EFE5B5F2093EE0D725F55F8A52003532A017DEE3AA4D7DE '\n",
      "                              '1 '\n",
      "                              '0FCA59F2B31FCA0F071EB540FF7CCFFF5D8D4274B45FC44A31E1DAC4C39B1B1B '\n",
      "                              '2 '\n",
      "                              '095E45DDF417D05FB10933FFC63D474548B7FFFF7888802F07FFFFFF7D07A8A8\",\"h_cap\":\"1 '\n",
      "                              '03A1C891B85B292540DD4CE8E432679E750968661648F6AAFD40ED01DBC3A7FE '\n",
      "                              '1 '\n",
      "                              '21DDDF3A59F8E814C9F7CC673C2F2A31D9865572A6CD17DAFDBC62FFD72FAD0C '\n",
      "                              '1 '\n",
      "                              '176CE8A72C2D1726CC53EA2A071BC2CEDD11A8C4E46605CD968A09CE739D215E '\n",
      "                              '1 '\n",
      "                              '1F437B14F34184AD642AFCF37C69504AC54D8962D6DFE9E459FC1B67586BE424 '\n",
      "                              '2 '\n",
      "                              '095E45DDF417D05FB10933FFC63D474548B7FFFF7888802F07FFFFFF7D07A8A8 '\n",
      "                              '1 '\n",
      "                              '0000000000000000000000000000000000000000000000000000000000000000\",\"u\":\"1 '\n",
      "                              '09932CE42CD5777B7BDD18F833F9380FDFECC0F9FE90AA341876AAC6BAC40BC4 '\n",
      "                              '1 '\n",
      "                              '0C7014F37F2F36392423C6CB7D6A9D2D47F91791ABAE2E56C8FD3B08800C47E1 '\n",
      "                              '1 '\n",
      "                              '17FB63A7E1FDFE6231C1E97A1C2B275E94A20AA2047E4E8DE63B3A48B3D0DBFB '\n",
      "                              '1 '\n",
      "                              '217AFE8F77DAEB21309859649DFB9CEEE4AE79A31F47813AD7C91222EEEDD755 '\n",
      "                              '2 '\n",
      "                              '095E45DDF417D05FB10933FFC63D474548B7FFFF7888802F07FFFFFF7D07A8A8 '\n",
      "                              '1 '\n",
      "                              '0000000000000000000000000000000000000000000000000000000000000000\",\"pk\":\"1 '\n",
      "                              '0EBBD4B5FD1AFBDA950AB9EED88A44FB0F5B7A587C83F614373C77A6513AECF0 '\n",
      "                              '1 '\n",
      "                              '15A4C8CB2E988D5C0D4C2D709A024440C14287D4667352DE692A95F67D388B3D '\n",
      "                              '2 '\n",
      "                              '095E45DDF417D05FB10933FFC63D474548B7FFFF7888802F07FFFFFF7D07A8A8\",\"y\":\"1 '\n",
      "                              '1C5E877DE5DE29DBE7733D32615F8B843F949C30AC43FF2CC66784421B6D705F '\n",
      "                              '1 '\n",
      "                              '219B65736FC732F2599C5316C6DC01473278C385017AC606202491865D2B5DAA '\n",
      "                              '1 '\n",
      "                              '070F552F0640ECA581881C7DED144BCD1739AC7764936916E569300BBB50E240 '\n",
      "                              '1 '\n",
      "                              '0FAB7C0814CD25C4A227CEF94671180CC42DCF3B9FD3187986C3A6FFB5FF42D9 '\n",
      "                              '2 '\n",
      "                              '095E45DDF417D05FB10933FFC63D474548B7FFFF7888802F07FFFFFF7D07A8A8 '\n",
      "                              '1 '\n",
      "                              '0000000000000000000000000000000000000000000000000000000000000000\"}}}',\n",
      "  'job_certificate_cred_def_id': 'K4tCkhb6nUJyYjmiaFDeo7:3:CL:12:TAG1',\n",
      "  'job_certificate_schema': '{\"ver\":\"1.0\",\"id\":\"DP92P2qRue3B7QaaM3ajWz:2:Job-Certificate:0.2\",\"name\":\"Job-Certificate\",\"version\":\"0.2\",\"attrNames\":[\"first_name\",\"salary\",\"employee_status\",\"last_name\",\"experience\"],\"seqNo\":12}',\n",
      "  'job_certificate_schema_id': 'DP92P2qRue3B7QaaM3ajWz:2:Job-Certificate:0.2',\n",
      "  'key': 'Ar8eC5VJAEVpAn6zjtwzoNFNgjzrzTJHqJk9t7SZW5vT',\n",
      "  'name': 'Acme',\n",
      "  'pool': 10,\n",
      "  'revoc_reg_def': '{\"ver\":\"1.0\",\"id\":\"K4tCkhb6nUJyYjmiaFDeo7:4:K4tCkhb6nUJyYjmiaFDeo7:3:CL:12:TAG1:CL_ACCUM:TAG1\",\"revocDefType\":\"CL_ACCUM\",\"tag\":\"TAG1\",\"credDefId\":\"K4tCkhb6nUJyYjmiaFDeo7:3:CL:12:TAG1\",\"value\":{\"issuanceType\":\"ISSUANCE_ON_DEMAND\",\"maxCredNum\":5,\"publicKeys\":{\"accumKey\":{\"z\":\"1 '\n",
      "                   '246BABB437E4DF7A2018A110A1A4D5E6E857FD47FA24DB0D1C2C41C75A959DCA '\n",
      "                   '1 '\n",
      "                   '16DCE44AB3B1A28F584176A29920160ADFB22BDB08030917B8B9EE425561138F '\n",
      "                   '1 '\n",
      "                   '1699CF7FB4324673D8751778CB64F85BA3FAC7FCFA1DABD9F6850EA90571F3E3 '\n",
      "                   '1 '\n",
      "                   '050F935C249964A3CC9139C2ADB296D725E3FAA0280F0ADBECA3193A17A1045F '\n",
      "                   '1 '\n",
      "                   '23F32A0722A4706496DDC2F98ABD4A78E3B3D3A3CE5564F67CA47628D44D7531 '\n",
      "                   '1 '\n",
      "                   '112867A9420B8242A93597D12EC1B3F5DF5BEABFB55E742781189EC26D13B948 '\n",
      "                   '1 '\n",
      "                   '1FDA1B896379128F6556C2954D249A8DD4A0F8C9D970D37142269F8851356D5A '\n",
      "                   '1 '\n",
      "                   '12CC21FC1E80C517D6F16F38859A95C2ACD7385B048D24593D3535159A43ED38 '\n",
      "                   '1 '\n",
      "                   '147943DA16286C19D440C8949C70DA9399377FD52E7DDD53E7CFD97637EBB9E7 '\n",
      "                   '1 '\n",
      "                   '0934D734986C2B0971B04EE9B78CEBF953B9ED7213E10DC060F7D07542F14384 '\n",
      "                   '1 '\n",
      "                   '23FB1DCD7515557DC60A3C6716BEA92FA3251E6314737EB9A2D733FD2728258B '\n",
      "                   '1 '\n",
      "                   '21E2D1CC382B5D4FCCC8E6B2F2E0FE5F4A9C16BE8C902D5985E0B9DF04603103\"}},\"tailsHash\":\"eKsEtRgiuPzBg5ADoiq1y2TS3fBpVHgDsVUKnJFFf5p\",\"tailsLocation\":\"/tmp/indy_acme_tails/eKsEtRgiuPzBg5ADoiq1y2TS3fBpVHgDsVUKnJFFf5p\"}}',\n",
      "  'revoc_reg_entry': '{\"ver\":\"1.0\",\"value\":{\"accum\":\"1 '\n",
      "                     '0000000000000000000000000000000000000000000000000000000000000000 '\n",
      "                     '1 '\n",
      "                     '0000000000000000000000000000000000000000000000000000000000000000 '\n",
      "                     '2 '\n",
      "                     '095E45DDF417D05FB10933FFC63D474548B7FFFF7888802F07FFFFFF7D07A8A8 '\n",
      "                     '1 '\n",
      "                     '0000000000000000000000000000000000000000000000000000000000000000 '\n",
      "                     '1 '\n",
      "                     '0000000000000000000000000000000000000000000000000000000000000000 '\n",
      "                     '1 '\n",
      "                     '0000000000000000000000000000000000000000000000000000000000000000\"}}',\n",
      "  'revoc_reg_id': 'K4tCkhb6nUJyYjmiaFDeo7:4:K4tCkhb6nUJyYjmiaFDeo7:3:CL:12:TAG1:CL_ACCUM:TAG1',\n",
      "  'role': 'TRUST_ANCHOR',\n",
      "  'tails_writer_config': '{\"base_dir\": '\n",
      "                         '\"/tmp/indy_acme_tails\", '\n",
      "                         '\"uri_pattern\": '\n",
      "                         '\"\"}',\n",
      "  'wallet': 22,\n",
      "  'wallet_config': '{\"id\": '\n",
      "                   '\"acme_wallet\"}',\n",
      "  'wallet_credentials': '{\"key\": '\n",
      "                        '\"acme_wallet_key\"}'}\n",
      "----------------------------------------------------------------------------------------------------\n"
     ]
    }
   ],
   "source": [
    "IndyPrinter(acme)(\"acme\")"
   ]
  },
  {
   "cell_type": "markdown",
   "id": "282f7d27-6c2a-42bd-9ebd-a86730f11ce1",
   "metadata": {},
   "source": [
    "### (2-5) Acme post revocation registry definition to ledger"
   ]
  },
  {
   "cell_type": "code",
   "execution_count": 47,
   "id": "e3a382fb-8eaf-4532-90cd-4d64b68849fe",
   "metadata": {},
   "outputs": [
    {
     "name": "stdout",
     "output_type": "stream",
     "text": [
      "\n"
     ]
    }
   ],
   "source": [
    "acme['revoc_reg_def_request'] = await ledger.build_revoc_reg_def_request(acme['did'], acme['revoc_reg_def'])\n",
    "await ledger.sign_and_submit_request(acme['pool'], acme['wallet'], acme['did'], acme['revoc_reg_def_request'])\n",
    "print()"
   ]
  },
  {
   "cell_type": "code",
   "execution_count": 48,
   "id": "0b3f53db-5234-4d66-a548-e511431149d5",
   "metadata": {},
   "outputs": [
    {
     "name": "stdout",
     "output_type": "stream",
     "text": [
      "----------------------------------------------------------------------------------------------------\n",
      "------------------------------------------------acme------------------------------------------------\n",
      "{ 'did': 'K4tCkhb6nUJyYjmiaFDeo7',\n",
      "  'job_certificate_cred_def': '{\"ver\":\"1.0\",\"id\":\"K4tCkhb6nUJyYjmiaFDeo7:3:CL:12:TAG1\",\"schemaId\":\"12\",\"type\":\"CL\",\"tag\":\"TAG1\",\"value\":{\"primary\":{\"n\":\"102370267921366099821189546426452313602025301270088550332747161342492332048149030093196447321911684591933538625407259626873975711554633987835077225187272396364046950739312023011375643730950964695422526243341143729073249950757455407482171679775831144054919999454843643230431553185614247417368029787946193393251145949109124705320438581043721679512866220621142124704842987580476701835217022534502350761836438525977132510859954520709557646282824567547349979562484113563415698308072775832048296234243430365671325022450175377949933906168938194163814418304926467123856849973671341951153369431877160696629498979921611727746409\",\"s\":\"6244742368199249010901571200777332912828804640159732581191027956652683431403660543080621540593550141129610493650031169217983446873430783341723024913531727810957292788757272070164971697614633006395350345233519474556406534297231526027775632062074494811893180267814285178698190797197357219997168480414600734580557155340173287845132790116799017727162706706243812010986331085191224941176645515336521388531729583473159951824822072807471336608248368192869663814648656395135986804362568741572061148639669109631465908803468423604788758386575188114232733708833588299886045881033451037981831230342148157510036672003626131076257\",\"r\":{\"experience\":\"77209072114225155321693649415295987599072852980818039182439193885531566942654323901278535931763013995525433342018933791308605480540789769870558818758993266367991338305669703321694452994424484723645999655160990486830900693582902389848090901721899418192524275551915418762051447178801846641667188095747569500383834041280017623483049878771347533195987706663232353012266827241712076833782968048723818796483514077043695940680312327267706205559686410900662382692664615239998679670116305281691130609888258569400252484228281184826227640745686437705559090248071808440131308727628677255820599147987026104774252950228578125219319\",\"first_name\":\"101564541457787610650273138675662539301011237871771578571505992422224717310445975385820667543195624250653654368623612672105007230178498444303363316847410130735580905036002065310013448262790533019172457852651851419807536506630990104151508753041460400860312502734310025260410921103225026645525608555224125201189224503932179185326910508183603381939669101597089534968752163452335311850678405138223189473105121656213380631311650050238375014577262978843144846389461294153850728125773849631905027861749506303583806831900991977832574607552061983210443550404829690294573889729024649757952505208408650181453606315818597158324326\",\"last_name\":\"83903164652396244051561663323637987461196906869070069637286371990949525158382398508410729655963560790249215136602351753514331431364584151898277025532547216442467095617954879686286533807405771709455732577491277450916699452490207346283146356949327407997443789055453921312999800462332410913114184814706973283112242331679803588465129080321813896967568072799537529906663882511719002817330505585471032264019188453924493125710523983473605367108721172105470986466180178040071389940355164547668313423357123503809685721073012510147583088287988406310064148835641418966176485538775173849601630496640046612697032993572909805326481\",\"salary\":\"73665278632612853607716877379226152483061670176707897737667583554088904483849734185909810981925078075682199399892069581151591288041894438362198804281027000263480258429549266300244542405112361740869477051819190524760359053660977556611507932289260054211040711355509988917643090769820980151200230936868271135056185699891391003931636795788465808403417035107096542037426823070994946360902312682809346025085548866594105032947963055996223959204074570307284311876822360703486715142831009870893225568521891613296138428785839161778201851468727404646234451133807649709311320465326997786721062491313550263688701206751547092491292\",\"master_secret\":\"10509209888851143876821100071610209805241139652624244343275431076430913827007286595351912866477592644444760956555431021472088793567727628715868693178422205942615869726719600150850517694544472033888854740911107833627611375280470632735447754281311154488163095072850875170192434328668872329339104510197843128678051373119915005619386382066342941585490457762174969425822316268627117414248535012084842821854602658510726626974566187010636145627392822469458717603654593650066064928625199201116745587388634636279456231167675939646216239816252431158392869060612271557419247917959624563188425997065703403008242445478495081081198\",\"employee_status\":\"55420145197424483054336874167569911099580661337177402690796328651972888269456050717278960908952707517902668999271019637161154319704109050365712471318984760891357768697594933138971282401880208138388500897889619859115500863428059247744526091036496990525744709392452066365897289439110355742997886271385300230790998369738772097550265030953019398912696930733753395330594024316953599453296244273762816826805389331734556384597842071674493002994283735724042130568713554991237698099120762990355852389311462745693436401420142417240136831220835973262674540041090549136160716109621473868156124561992061785899744330966445063996241\"},\"rctxt\":\"59597995571324395521864840879665433040967165945127967690169631460963616525026600768013489495811465085656573757106354241865393546367688136257950649839117788439324438222946055994589194227686231482862365903988019547969707092242547940555597633373100583654306136284857877093462403169684716705962676676960929269300387683794122097478784288613070886888188180028859521902618507757825497253437120617001054835201192045256005506738051581145222815618246053237121165754440196226295141904921889956878011274378314243960083461393079660780922185880165887797158036411790080062788089731429819614335996019640852224671832669384913656002126\",\"z\":\"84025908723925180879448476131750380051898228508514718468558118569381038895225824296643281083515677717881070097336904821359815663806393009199083125333244368323290203517855358945899362394080139000426365109069229440757287187481633357549053257489741696737957260332863105442661012603077469826945375717524588445351148895373765707043648476335557555292238670687732928231437191726532400124972086463812897540070016858205908832790635841742004628706356948521996248599501807785438352620799444908626471629247300720026675284209231555635222854126470901178737313531592736677300565811661980882095391692688668392728551568669448662879620\"},\"revocation\":{\"g\":\"1 '\n",
      "                              '119BC0227BCDA1EBA3B4D8D7753EAF53F78B0DA88BF63993E8E9D1AB671C3577 '\n",
      "                              '1 '\n",
      "                              '15C90E62498CBD96A830103661C5F22E5A6B7B91C353496E071382FC2AA195FA '\n",
      "                              '2 '\n",
      "                              '095E45DDF417D05FB10933FFC63D474548B7FFFF7888802F07FFFFFF7D07A8A8\",\"g_dash\":\"1 '\n",
      "                              '03625F50C700CE540037F2FDF33105E0844443CE904B8F34DE0A61020CA315CC '\n",
      "                              '1 '\n",
      "                              '18A23ED62D9BF1599C6013B5D40B10A56B22A83EAF3C3401B4AE4E7AC54BEA75 '\n",
      "                              '1 '\n",
      "                              '1B2598B342EEF1090C3E63F62201D20E21C70F20C56CE0BFE0404786903A2D26 '\n",
      "                              '1 '\n",
      "                              '015EC6B0703F9F26BD4428158AFB35E5D33BF83EC96FE0053E3ABEE4F1D9ACF1 '\n",
      "                              '2 '\n",
      "                              '095E45DDF417D05FB10933FFC63D474548B7FFFF7888802F07FFFFFF7D07A8A8 '\n",
      "                              '1 '\n",
      "                              '0000000000000000000000000000000000000000000000000000000000000000\",\"h\":\"1 '\n",
      "                              '088752441115BBFE095178EE1E5CF653AC9A68E83A64D678333A4ED058A7A6CC '\n",
      "                              '1 '\n",
      "                              '21218520CAA0766453102D2D50319D4AB2DC91D4410F8477427D773B13345E12 '\n",
      "                              '2 '\n",
      "                              '095E45DDF417D05FB10933FFC63D474548B7FFFF7888802F07FFFFFF7D07A8A8\",\"h0\":\"1 '\n",
      "                              '0CFDD7618CA0718652B5724C0BFAF9B10C600FA20DF13B62B3EEC07B949638D3 '\n",
      "                              '1 '\n",
      "                              '07D9D9BDC89AB1096B9004CFB2DF684C5AE78DF155111832B037FAEF5156496D '\n",
      "                              '2 '\n",
      "                              '095E45DDF417D05FB10933FFC63D474548B7FFFF7888802F07FFFFFF7D07A8A8\",\"h1\":\"1 '\n",
      "                              '15047A61C2F4373338117454B4992A1631DBA223A40B307BB2A35049B94FE3A4 '\n",
      "                              '1 '\n",
      "                              '1C99F84342CFD5DB0D112A8260BA724E702DD00F7CE1728678A2E9C2C8A4B172 '\n",
      "                              '2 '\n",
      "                              '095E45DDF417D05FB10933FFC63D474548B7FFFF7888802F07FFFFFF7D07A8A8\",\"h2\":\"1 '\n",
      "                              '0C20B42E4A3B993ACE0416ACA19856A70EE3B673BF27C6E8D46BC74561AF3500 '\n",
      "                              '1 '\n",
      "                              '1033C9C1990D2DB9490725C524F4092D077C66FDFE4C14FB05454245F4ECCAE3 '\n",
      "                              '2 '\n",
      "                              '095E45DDF417D05FB10933FFC63D474548B7FFFF7888802F07FFFFFF7D07A8A8\",\"htilde\":\"1 '\n",
      "                              '1FA2BE1A59495D777EFE5B5F2093EE0D725F55F8A52003532A017DEE3AA4D7DE '\n",
      "                              '1 '\n",
      "                              '0FCA59F2B31FCA0F071EB540FF7CCFFF5D8D4274B45FC44A31E1DAC4C39B1B1B '\n",
      "                              '2 '\n",
      "                              '095E45DDF417D05FB10933FFC63D474548B7FFFF7888802F07FFFFFF7D07A8A8\",\"h_cap\":\"1 '\n",
      "                              '03A1C891B85B292540DD4CE8E432679E750968661648F6AAFD40ED01DBC3A7FE '\n",
      "                              '1 '\n",
      "                              '21DDDF3A59F8E814C9F7CC673C2F2A31D9865572A6CD17DAFDBC62FFD72FAD0C '\n",
      "                              '1 '\n",
      "                              '176CE8A72C2D1726CC53EA2A071BC2CEDD11A8C4E46605CD968A09CE739D215E '\n",
      "                              '1 '\n",
      "                              '1F437B14F34184AD642AFCF37C69504AC54D8962D6DFE9E459FC1B67586BE424 '\n",
      "                              '2 '\n",
      "                              '095E45DDF417D05FB10933FFC63D474548B7FFFF7888802F07FFFFFF7D07A8A8 '\n",
      "                              '1 '\n",
      "                              '0000000000000000000000000000000000000000000000000000000000000000\",\"u\":\"1 '\n",
      "                              '09932CE42CD5777B7BDD18F833F9380FDFECC0F9FE90AA341876AAC6BAC40BC4 '\n",
      "                              '1 '\n",
      "                              '0C7014F37F2F36392423C6CB7D6A9D2D47F91791ABAE2E56C8FD3B08800C47E1 '\n",
      "                              '1 '\n",
      "                              '17FB63A7E1FDFE6231C1E97A1C2B275E94A20AA2047E4E8DE63B3A48B3D0DBFB '\n",
      "                              '1 '\n",
      "                              '217AFE8F77DAEB21309859649DFB9CEEE4AE79A31F47813AD7C91222EEEDD755 '\n",
      "                              '2 '\n",
      "                              '095E45DDF417D05FB10933FFC63D474548B7FFFF7888802F07FFFFFF7D07A8A8 '\n",
      "                              '1 '\n",
      "                              '0000000000000000000000000000000000000000000000000000000000000000\",\"pk\":\"1 '\n",
      "                              '0EBBD4B5FD1AFBDA950AB9EED88A44FB0F5B7A587C83F614373C77A6513AECF0 '\n",
      "                              '1 '\n",
      "                              '15A4C8CB2E988D5C0D4C2D709A024440C14287D4667352DE692A95F67D388B3D '\n",
      "                              '2 '\n",
      "                              '095E45DDF417D05FB10933FFC63D474548B7FFFF7888802F07FFFFFF7D07A8A8\",\"y\":\"1 '\n",
      "                              '1C5E877DE5DE29DBE7733D32615F8B843F949C30AC43FF2CC66784421B6D705F '\n",
      "                              '1 '\n",
      "                              '219B65736FC732F2599C5316C6DC01473278C385017AC606202491865D2B5DAA '\n",
      "                              '1 '\n",
      "                              '070F552F0640ECA581881C7DED144BCD1739AC7764936916E569300BBB50E240 '\n",
      "                              '1 '\n",
      "                              '0FAB7C0814CD25C4A227CEF94671180CC42DCF3B9FD3187986C3A6FFB5FF42D9 '\n",
      "                              '2 '\n",
      "                              '095E45DDF417D05FB10933FFC63D474548B7FFFF7888802F07FFFFFF7D07A8A8 '\n",
      "                              '1 '\n",
      "                              '0000000000000000000000000000000000000000000000000000000000000000\"}}}',\n",
      "  'job_certificate_cred_def_id': 'K4tCkhb6nUJyYjmiaFDeo7:3:CL:12:TAG1',\n",
      "  'job_certificate_schema': '{\"ver\":\"1.0\",\"id\":\"DP92P2qRue3B7QaaM3ajWz:2:Job-Certificate:0.2\",\"name\":\"Job-Certificate\",\"version\":\"0.2\",\"attrNames\":[\"first_name\",\"salary\",\"employee_status\",\"last_name\",\"experience\"],\"seqNo\":12}',\n",
      "  'job_certificate_schema_id': 'DP92P2qRue3B7QaaM3ajWz:2:Job-Certificate:0.2',\n",
      "  'key': 'Ar8eC5VJAEVpAn6zjtwzoNFNgjzrzTJHqJk9t7SZW5vT',\n",
      "  'name': 'Acme',\n",
      "  'pool': 10,\n",
      "  'revoc_reg_def': '{\"ver\":\"1.0\",\"id\":\"K4tCkhb6nUJyYjmiaFDeo7:4:K4tCkhb6nUJyYjmiaFDeo7:3:CL:12:TAG1:CL_ACCUM:TAG1\",\"revocDefType\":\"CL_ACCUM\",\"tag\":\"TAG1\",\"credDefId\":\"K4tCkhb6nUJyYjmiaFDeo7:3:CL:12:TAG1\",\"value\":{\"issuanceType\":\"ISSUANCE_ON_DEMAND\",\"maxCredNum\":5,\"publicKeys\":{\"accumKey\":{\"z\":\"1 '\n",
      "                   '246BABB437E4DF7A2018A110A1A4D5E6E857FD47FA24DB0D1C2C41C75A959DCA '\n",
      "                   '1 '\n",
      "                   '16DCE44AB3B1A28F584176A29920160ADFB22BDB08030917B8B9EE425561138F '\n",
      "                   '1 '\n",
      "                   '1699CF7FB4324673D8751778CB64F85BA3FAC7FCFA1DABD9F6850EA90571F3E3 '\n",
      "                   '1 '\n",
      "                   '050F935C249964A3CC9139C2ADB296D725E3FAA0280F0ADBECA3193A17A1045F '\n",
      "                   '1 '\n",
      "                   '23F32A0722A4706496DDC2F98ABD4A78E3B3D3A3CE5564F67CA47628D44D7531 '\n",
      "                   '1 '\n",
      "                   '112867A9420B8242A93597D12EC1B3F5DF5BEABFB55E742781189EC26D13B948 '\n",
      "                   '1 '\n",
      "                   '1FDA1B896379128F6556C2954D249A8DD4A0F8C9D970D37142269F8851356D5A '\n",
      "                   '1 '\n",
      "                   '12CC21FC1E80C517D6F16F38859A95C2ACD7385B048D24593D3535159A43ED38 '\n",
      "                   '1 '\n",
      "                   '147943DA16286C19D440C8949C70DA9399377FD52E7DDD53E7CFD97637EBB9E7 '\n",
      "                   '1 '\n",
      "                   '0934D734986C2B0971B04EE9B78CEBF953B9ED7213E10DC060F7D07542F14384 '\n",
      "                   '1 '\n",
      "                   '23FB1DCD7515557DC60A3C6716BEA92FA3251E6314737EB9A2D733FD2728258B '\n",
      "                   '1 '\n",
      "                   '21E2D1CC382B5D4FCCC8E6B2F2E0FE5F4A9C16BE8C902D5985E0B9DF04603103\"}},\"tailsHash\":\"eKsEtRgiuPzBg5ADoiq1y2TS3fBpVHgDsVUKnJFFf5p\",\"tailsLocation\":\"/tmp/indy_acme_tails/eKsEtRgiuPzBg5ADoiq1y2TS3fBpVHgDsVUKnJFFf5p\"}}',\n",
      "  'revoc_reg_def_request': '{\"reqId\":1636378540005952292,\"identifier\":\"K4tCkhb6nUJyYjmiaFDeo7\",\"operation\":{\"type\":\"113\",\"id\":\"K4tCkhb6nUJyYjmiaFDeo7:4:K4tCkhb6nUJyYjmiaFDeo7:3:CL:12:TAG1:CL_ACCUM:TAG1\",\"revocDefType\":\"CL_ACCUM\",\"tag\":\"TAG1\",\"credDefId\":\"K4tCkhb6nUJyYjmiaFDeo7:3:CL:12:TAG1\",\"value\":{\"issuanceType\":\"ISSUANCE_ON_DEMAND\",\"maxCredNum\":5,\"publicKeys\":{\"accumKey\":{\"z\":\"1 '\n",
      "                           '246BABB437E4DF7A2018A110A1A4D5E6E857FD47FA24DB0D1C2C41C75A959DCA '\n",
      "                           '1 '\n",
      "                           '16DCE44AB3B1A28F584176A29920160ADFB22BDB08030917B8B9EE425561138F '\n",
      "                           '1 '\n",
      "                           '1699CF7FB4324673D8751778CB64F85BA3FAC7FCFA1DABD9F6850EA90571F3E3 '\n",
      "                           '1 '\n",
      "                           '050F935C249964A3CC9139C2ADB296D725E3FAA0280F0ADBECA3193A17A1045F '\n",
      "                           '1 '\n",
      "                           '23F32A0722A4706496DDC2F98ABD4A78E3B3D3A3CE5564F67CA47628D44D7531 '\n",
      "                           '1 '\n",
      "                           '112867A9420B8242A93597D12EC1B3F5DF5BEABFB55E742781189EC26D13B948 '\n",
      "                           '1 '\n",
      "                           '1FDA1B896379128F6556C2954D249A8DD4A0F8C9D970D37142269F8851356D5A '\n",
      "                           '1 '\n",
      "                           '12CC21FC1E80C517D6F16F38859A95C2ACD7385B048D24593D3535159A43ED38 '\n",
      "                           '1 '\n",
      "                           '147943DA16286C19D440C8949C70DA9399377FD52E7DDD53E7CFD97637EBB9E7 '\n",
      "                           '1 '\n",
      "                           '0934D734986C2B0971B04EE9B78CEBF953B9ED7213E10DC060F7D07542F14384 '\n",
      "                           '1 '\n",
      "                           '23FB1DCD7515557DC60A3C6716BEA92FA3251E6314737EB9A2D733FD2728258B '\n",
      "                           '1 '\n",
      "                           '21E2D1CC382B5D4FCCC8E6B2F2E0FE5F4A9C16BE8C902D5985E0B9DF04603103\"}},\"tailsHash\":\"eKsEtRgiuPzBg5ADoiq1y2TS3fBpVHgDsVUKnJFFf5p\",\"tailsLocation\":\"/tmp/indy_acme_tails/eKsEtRgiuPzBg5ADoiq1y2TS3fBpVHgDsVUKnJFFf5p\"}},\"protocolVersion\":2}',\n",
      "  'revoc_reg_entry': '{\"ver\":\"1.0\",\"value\":{\"accum\":\"1 '\n",
      "                     '0000000000000000000000000000000000000000000000000000000000000000 '\n",
      "                     '1 '\n",
      "                     '0000000000000000000000000000000000000000000000000000000000000000 '\n",
      "                     '2 '\n",
      "                     '095E45DDF417D05FB10933FFC63D474548B7FFFF7888802F07FFFFFF7D07A8A8 '\n",
      "                     '1 '\n",
      "                     '0000000000000000000000000000000000000000000000000000000000000000 '\n",
      "                     '1 '\n",
      "                     '0000000000000000000000000000000000000000000000000000000000000000 '\n",
      "                     '1 '\n",
      "                     '0000000000000000000000000000000000000000000000000000000000000000\"}}',\n",
      "  'revoc_reg_id': 'K4tCkhb6nUJyYjmiaFDeo7:4:K4tCkhb6nUJyYjmiaFDeo7:3:CL:12:TAG1:CL_ACCUM:TAG1',\n",
      "  'role': 'TRUST_ANCHOR',\n",
      "  'tails_writer_config': '{\"base_dir\": '\n",
      "                         '\"/tmp/indy_acme_tails\", '\n",
      "                         '\"uri_pattern\": '\n",
      "                         '\"\"}',\n",
      "  'wallet': 22,\n",
      "  'wallet_config': '{\"id\": '\n",
      "                   '\"acme_wallet\"}',\n",
      "  'wallet_credentials': '{\"key\": '\n",
      "                        '\"acme_wallet_key\"}'}\n",
      "----------------------------------------------------------------------------------------------------\n"
     ]
    }
   ],
   "source": [
    "IndyPrinter(acme)(\"acme\")"
   ]
  },
  {
   "cell_type": "markdown",
   "id": "0331aa31-16c6-40c8-ae1f-70465bfaffd2",
   "metadata": {},
   "source": [
    "### (2-6) Acme post revocation registry entry to ledger"
   ]
  },
  {
   "cell_type": "code",
   "execution_count": 49,
   "id": "f37ddd13-18a9-4dab-9ad4-6412198236b3",
   "metadata": {},
   "outputs": [
    {
     "name": "stdout",
     "output_type": "stream",
     "text": [
      "\n"
     ]
    }
   ],
   "source": [
    "acme['revoc_reg_entry_request'] = await ledger.build_revoc_reg_entry_request(acme['did'], acme['revoc_reg_id'], 'CL_ACCUM', acme['revoc_reg_entry'])\n",
    "await ledger.sign_and_submit_request(acme['pool'], acme['wallet'], acme['did'], acme['revoc_reg_entry_request'])\n",
    "print()"
   ]
  },
  {
   "cell_type": "code",
   "execution_count": 50,
   "id": "946cec19-1738-4768-9a65-a5f7833f1722",
   "metadata": {},
   "outputs": [
    {
     "name": "stdout",
     "output_type": "stream",
     "text": [
      "----------------------------------------------------------------------------------------------------\n",
      "------------------------------------------------acme------------------------------------------------\n",
      "{ 'did': 'K4tCkhb6nUJyYjmiaFDeo7',\n",
      "  'job_certificate_cred_def': '{\"ver\":\"1.0\",\"id\":\"K4tCkhb6nUJyYjmiaFDeo7:3:CL:12:TAG1\",\"schemaId\":\"12\",\"type\":\"CL\",\"tag\":\"TAG1\",\"value\":{\"primary\":{\"n\":\"102370267921366099821189546426452313602025301270088550332747161342492332048149030093196447321911684591933538625407259626873975711554633987835077225187272396364046950739312023011375643730950964695422526243341143729073249950757455407482171679775831144054919999454843643230431553185614247417368029787946193393251145949109124705320438581043721679512866220621142124704842987580476701835217022534502350761836438525977132510859954520709557646282824567547349979562484113563415698308072775832048296234243430365671325022450175377949933906168938194163814418304926467123856849973671341951153369431877160696629498979921611727746409\",\"s\":\"6244742368199249010901571200777332912828804640159732581191027956652683431403660543080621540593550141129610493650031169217983446873430783341723024913531727810957292788757272070164971697614633006395350345233519474556406534297231526027775632062074494811893180267814285178698190797197357219997168480414600734580557155340173287845132790116799017727162706706243812010986331085191224941176645515336521388531729583473159951824822072807471336608248368192869663814648656395135986804362568741572061148639669109631465908803468423604788758386575188114232733708833588299886045881033451037981831230342148157510036672003626131076257\",\"r\":{\"experience\":\"77209072114225155321693649415295987599072852980818039182439193885531566942654323901278535931763013995525433342018933791308605480540789769870558818758993266367991338305669703321694452994424484723645999655160990486830900693582902389848090901721899418192524275551915418762051447178801846641667188095747569500383834041280017623483049878771347533195987706663232353012266827241712076833782968048723818796483514077043695940680312327267706205559686410900662382692664615239998679670116305281691130609888258569400252484228281184826227640745686437705559090248071808440131308727628677255820599147987026104774252950228578125219319\",\"first_name\":\"101564541457787610650273138675662539301011237871771578571505992422224717310445975385820667543195624250653654368623612672105007230178498444303363316847410130735580905036002065310013448262790533019172457852651851419807536506630990104151508753041460400860312502734310025260410921103225026645525608555224125201189224503932179185326910508183603381939669101597089534968752163452335311850678405138223189473105121656213380631311650050238375014577262978843144846389461294153850728125773849631905027861749506303583806831900991977832574607552061983210443550404829690294573889729024649757952505208408650181453606315818597158324326\",\"last_name\":\"83903164652396244051561663323637987461196906869070069637286371990949525158382398508410729655963560790249215136602351753514331431364584151898277025532547216442467095617954879686286533807405771709455732577491277450916699452490207346283146356949327407997443789055453921312999800462332410913114184814706973283112242331679803588465129080321813896967568072799537529906663882511719002817330505585471032264019188453924493125710523983473605367108721172105470986466180178040071389940355164547668313423357123503809685721073012510147583088287988406310064148835641418966176485538775173849601630496640046612697032993572909805326481\",\"salary\":\"73665278632612853607716877379226152483061670176707897737667583554088904483849734185909810981925078075682199399892069581151591288041894438362198804281027000263480258429549266300244542405112361740869477051819190524760359053660977556611507932289260054211040711355509988917643090769820980151200230936868271135056185699891391003931636795788465808403417035107096542037426823070994946360902312682809346025085548866594105032947963055996223959204074570307284311876822360703486715142831009870893225568521891613296138428785839161778201851468727404646234451133807649709311320465326997786721062491313550263688701206751547092491292\",\"master_secret\":\"10509209888851143876821100071610209805241139652624244343275431076430913827007286595351912866477592644444760956555431021472088793567727628715868693178422205942615869726719600150850517694544472033888854740911107833627611375280470632735447754281311154488163095072850875170192434328668872329339104510197843128678051373119915005619386382066342941585490457762174969425822316268627117414248535012084842821854602658510726626974566187010636145627392822469458717603654593650066064928625199201116745587388634636279456231167675939646216239816252431158392869060612271557419247917959624563188425997065703403008242445478495081081198\",\"employee_status\":\"55420145197424483054336874167569911099580661337177402690796328651972888269456050717278960908952707517902668999271019637161154319704109050365712471318984760891357768697594933138971282401880208138388500897889619859115500863428059247744526091036496990525744709392452066365897289439110355742997886271385300230790998369738772097550265030953019398912696930733753395330594024316953599453296244273762816826805389331734556384597842071674493002994283735724042130568713554991237698099120762990355852389311462745693436401420142417240136831220835973262674540041090549136160716109621473868156124561992061785899744330966445063996241\"},\"rctxt\":\"59597995571324395521864840879665433040967165945127967690169631460963616525026600768013489495811465085656573757106354241865393546367688136257950649839117788439324438222946055994589194227686231482862365903988019547969707092242547940555597633373100583654306136284857877093462403169684716705962676676960929269300387683794122097478784288613070886888188180028859521902618507757825497253437120617001054835201192045256005506738051581145222815618246053237121165754440196226295141904921889956878011274378314243960083461393079660780922185880165887797158036411790080062788089731429819614335996019640852224671832669384913656002126\",\"z\":\"84025908723925180879448476131750380051898228508514718468558118569381038895225824296643281083515677717881070097336904821359815663806393009199083125333244368323290203517855358945899362394080139000426365109069229440757287187481633357549053257489741696737957260332863105442661012603077469826945375717524588445351148895373765707043648476335557555292238670687732928231437191726532400124972086463812897540070016858205908832790635841742004628706356948521996248599501807785438352620799444908626471629247300720026675284209231555635222854126470901178737313531592736677300565811661980882095391692688668392728551568669448662879620\"},\"revocation\":{\"g\":\"1 '\n",
      "                              '119BC0227BCDA1EBA3B4D8D7753EAF53F78B0DA88BF63993E8E9D1AB671C3577 '\n",
      "                              '1 '\n",
      "                              '15C90E62498CBD96A830103661C5F22E5A6B7B91C353496E071382FC2AA195FA '\n",
      "                              '2 '\n",
      "                              '095E45DDF417D05FB10933FFC63D474548B7FFFF7888802F07FFFFFF7D07A8A8\",\"g_dash\":\"1 '\n",
      "                              '03625F50C700CE540037F2FDF33105E0844443CE904B8F34DE0A61020CA315CC '\n",
      "                              '1 '\n",
      "                              '18A23ED62D9BF1599C6013B5D40B10A56B22A83EAF3C3401B4AE4E7AC54BEA75 '\n",
      "                              '1 '\n",
      "                              '1B2598B342EEF1090C3E63F62201D20E21C70F20C56CE0BFE0404786903A2D26 '\n",
      "                              '1 '\n",
      "                              '015EC6B0703F9F26BD4428158AFB35E5D33BF83EC96FE0053E3ABEE4F1D9ACF1 '\n",
      "                              '2 '\n",
      "                              '095E45DDF417D05FB10933FFC63D474548B7FFFF7888802F07FFFFFF7D07A8A8 '\n",
      "                              '1 '\n",
      "                              '0000000000000000000000000000000000000000000000000000000000000000\",\"h\":\"1 '\n",
      "                              '088752441115BBFE095178EE1E5CF653AC9A68E83A64D678333A4ED058A7A6CC '\n",
      "                              '1 '\n",
      "                              '21218520CAA0766453102D2D50319D4AB2DC91D4410F8477427D773B13345E12 '\n",
      "                              '2 '\n",
      "                              '095E45DDF417D05FB10933FFC63D474548B7FFFF7888802F07FFFFFF7D07A8A8\",\"h0\":\"1 '\n",
      "                              '0CFDD7618CA0718652B5724C0BFAF9B10C600FA20DF13B62B3EEC07B949638D3 '\n",
      "                              '1 '\n",
      "                              '07D9D9BDC89AB1096B9004CFB2DF684C5AE78DF155111832B037FAEF5156496D '\n",
      "                              '2 '\n",
      "                              '095E45DDF417D05FB10933FFC63D474548B7FFFF7888802F07FFFFFF7D07A8A8\",\"h1\":\"1 '\n",
      "                              '15047A61C2F4373338117454B4992A1631DBA223A40B307BB2A35049B94FE3A4 '\n",
      "                              '1 '\n",
      "                              '1C99F84342CFD5DB0D112A8260BA724E702DD00F7CE1728678A2E9C2C8A4B172 '\n",
      "                              '2 '\n",
      "                              '095E45DDF417D05FB10933FFC63D474548B7FFFF7888802F07FFFFFF7D07A8A8\",\"h2\":\"1 '\n",
      "                              '0C20B42E4A3B993ACE0416ACA19856A70EE3B673BF27C6E8D46BC74561AF3500 '\n",
      "                              '1 '\n",
      "                              '1033C9C1990D2DB9490725C524F4092D077C66FDFE4C14FB05454245F4ECCAE3 '\n",
      "                              '2 '\n",
      "                              '095E45DDF417D05FB10933FFC63D474548B7FFFF7888802F07FFFFFF7D07A8A8\",\"htilde\":\"1 '\n",
      "                              '1FA2BE1A59495D777EFE5B5F2093EE0D725F55F8A52003532A017DEE3AA4D7DE '\n",
      "                              '1 '\n",
      "                              '0FCA59F2B31FCA0F071EB540FF7CCFFF5D8D4274B45FC44A31E1DAC4C39B1B1B '\n",
      "                              '2 '\n",
      "                              '095E45DDF417D05FB10933FFC63D474548B7FFFF7888802F07FFFFFF7D07A8A8\",\"h_cap\":\"1 '\n",
      "                              '03A1C891B85B292540DD4CE8E432679E750968661648F6AAFD40ED01DBC3A7FE '\n",
      "                              '1 '\n",
      "                              '21DDDF3A59F8E814C9F7CC673C2F2A31D9865572A6CD17DAFDBC62FFD72FAD0C '\n",
      "                              '1 '\n",
      "                              '176CE8A72C2D1726CC53EA2A071BC2CEDD11A8C4E46605CD968A09CE739D215E '\n",
      "                              '1 '\n",
      "                              '1F437B14F34184AD642AFCF37C69504AC54D8962D6DFE9E459FC1B67586BE424 '\n",
      "                              '2 '\n",
      "                              '095E45DDF417D05FB10933FFC63D474548B7FFFF7888802F07FFFFFF7D07A8A8 '\n",
      "                              '1 '\n",
      "                              '0000000000000000000000000000000000000000000000000000000000000000\",\"u\":\"1 '\n",
      "                              '09932CE42CD5777B7BDD18F833F9380FDFECC0F9FE90AA341876AAC6BAC40BC4 '\n",
      "                              '1 '\n",
      "                              '0C7014F37F2F36392423C6CB7D6A9D2D47F91791ABAE2E56C8FD3B08800C47E1 '\n",
      "                              '1 '\n",
      "                              '17FB63A7E1FDFE6231C1E97A1C2B275E94A20AA2047E4E8DE63B3A48B3D0DBFB '\n",
      "                              '1 '\n",
      "                              '217AFE8F77DAEB21309859649DFB9CEEE4AE79A31F47813AD7C91222EEEDD755 '\n",
      "                              '2 '\n",
      "                              '095E45DDF417D05FB10933FFC63D474548B7FFFF7888802F07FFFFFF7D07A8A8 '\n",
      "                              '1 '\n",
      "                              '0000000000000000000000000000000000000000000000000000000000000000\",\"pk\":\"1 '\n",
      "                              '0EBBD4B5FD1AFBDA950AB9EED88A44FB0F5B7A587C83F614373C77A6513AECF0 '\n",
      "                              '1 '\n",
      "                              '15A4C8CB2E988D5C0D4C2D709A024440C14287D4667352DE692A95F67D388B3D '\n",
      "                              '2 '\n",
      "                              '095E45DDF417D05FB10933FFC63D474548B7FFFF7888802F07FFFFFF7D07A8A8\",\"y\":\"1 '\n",
      "                              '1C5E877DE5DE29DBE7733D32615F8B843F949C30AC43FF2CC66784421B6D705F '\n",
      "                              '1 '\n",
      "                              '219B65736FC732F2599C5316C6DC01473278C385017AC606202491865D2B5DAA '\n",
      "                              '1 '\n",
      "                              '070F552F0640ECA581881C7DED144BCD1739AC7764936916E569300BBB50E240 '\n",
      "                              '1 '\n",
      "                              '0FAB7C0814CD25C4A227CEF94671180CC42DCF3B9FD3187986C3A6FFB5FF42D9 '\n",
      "                              '2 '\n",
      "                              '095E45DDF417D05FB10933FFC63D474548B7FFFF7888802F07FFFFFF7D07A8A8 '\n",
      "                              '1 '\n",
      "                              '0000000000000000000000000000000000000000000000000000000000000000\"}}}',\n",
      "  'job_certificate_cred_def_id': 'K4tCkhb6nUJyYjmiaFDeo7:3:CL:12:TAG1',\n",
      "  'job_certificate_schema': '{\"ver\":\"1.0\",\"id\":\"DP92P2qRue3B7QaaM3ajWz:2:Job-Certificate:0.2\",\"name\":\"Job-Certificate\",\"version\":\"0.2\",\"attrNames\":[\"first_name\",\"salary\",\"employee_status\",\"last_name\",\"experience\"],\"seqNo\":12}',\n",
      "  'job_certificate_schema_id': 'DP92P2qRue3B7QaaM3ajWz:2:Job-Certificate:0.2',\n",
      "  'key': 'Ar8eC5VJAEVpAn6zjtwzoNFNgjzrzTJHqJk9t7SZW5vT',\n",
      "  'name': 'Acme',\n",
      "  'pool': 10,\n",
      "  'revoc_reg_def': '{\"ver\":\"1.0\",\"id\":\"K4tCkhb6nUJyYjmiaFDeo7:4:K4tCkhb6nUJyYjmiaFDeo7:3:CL:12:TAG1:CL_ACCUM:TAG1\",\"revocDefType\":\"CL_ACCUM\",\"tag\":\"TAG1\",\"credDefId\":\"K4tCkhb6nUJyYjmiaFDeo7:3:CL:12:TAG1\",\"value\":{\"issuanceType\":\"ISSUANCE_ON_DEMAND\",\"maxCredNum\":5,\"publicKeys\":{\"accumKey\":{\"z\":\"1 '\n",
      "                   '246BABB437E4DF7A2018A110A1A4D5E6E857FD47FA24DB0D1C2C41C75A959DCA '\n",
      "                   '1 '\n",
      "                   '16DCE44AB3B1A28F584176A29920160ADFB22BDB08030917B8B9EE425561138F '\n",
      "                   '1 '\n",
      "                   '1699CF7FB4324673D8751778CB64F85BA3FAC7FCFA1DABD9F6850EA90571F3E3 '\n",
      "                   '1 '\n",
      "                   '050F935C249964A3CC9139C2ADB296D725E3FAA0280F0ADBECA3193A17A1045F '\n",
      "                   '1 '\n",
      "                   '23F32A0722A4706496DDC2F98ABD4A78E3B3D3A3CE5564F67CA47628D44D7531 '\n",
      "                   '1 '\n",
      "                   '112867A9420B8242A93597D12EC1B3F5DF5BEABFB55E742781189EC26D13B948 '\n",
      "                   '1 '\n",
      "                   '1FDA1B896379128F6556C2954D249A8DD4A0F8C9D970D37142269F8851356D5A '\n",
      "                   '1 '\n",
      "                   '12CC21FC1E80C517D6F16F38859A95C2ACD7385B048D24593D3535159A43ED38 '\n",
      "                   '1 '\n",
      "                   '147943DA16286C19D440C8949C70DA9399377FD52E7DDD53E7CFD97637EBB9E7 '\n",
      "                   '1 '\n",
      "                   '0934D734986C2B0971B04EE9B78CEBF953B9ED7213E10DC060F7D07542F14384 '\n",
      "                   '1 '\n",
      "                   '23FB1DCD7515557DC60A3C6716BEA92FA3251E6314737EB9A2D733FD2728258B '\n",
      "                   '1 '\n",
      "                   '21E2D1CC382B5D4FCCC8E6B2F2E0FE5F4A9C16BE8C902D5985E0B9DF04603103\"}},\"tailsHash\":\"eKsEtRgiuPzBg5ADoiq1y2TS3fBpVHgDsVUKnJFFf5p\",\"tailsLocation\":\"/tmp/indy_acme_tails/eKsEtRgiuPzBg5ADoiq1y2TS3fBpVHgDsVUKnJFFf5p\"}}',\n",
      "  'revoc_reg_def_request': '{\"reqId\":1636378540005952292,\"identifier\":\"K4tCkhb6nUJyYjmiaFDeo7\",\"operation\":{\"type\":\"113\",\"id\":\"K4tCkhb6nUJyYjmiaFDeo7:4:K4tCkhb6nUJyYjmiaFDeo7:3:CL:12:TAG1:CL_ACCUM:TAG1\",\"revocDefType\":\"CL_ACCUM\",\"tag\":\"TAG1\",\"credDefId\":\"K4tCkhb6nUJyYjmiaFDeo7:3:CL:12:TAG1\",\"value\":{\"issuanceType\":\"ISSUANCE_ON_DEMAND\",\"maxCredNum\":5,\"publicKeys\":{\"accumKey\":{\"z\":\"1 '\n",
      "                           '246BABB437E4DF7A2018A110A1A4D5E6E857FD47FA24DB0D1C2C41C75A959DCA '\n",
      "                           '1 '\n",
      "                           '16DCE44AB3B1A28F584176A29920160ADFB22BDB08030917B8B9EE425561138F '\n",
      "                           '1 '\n",
      "                           '1699CF7FB4324673D8751778CB64F85BA3FAC7FCFA1DABD9F6850EA90571F3E3 '\n",
      "                           '1 '\n",
      "                           '050F935C249964A3CC9139C2ADB296D725E3FAA0280F0ADBECA3193A17A1045F '\n",
      "                           '1 '\n",
      "                           '23F32A0722A4706496DDC2F98ABD4A78E3B3D3A3CE5564F67CA47628D44D7531 '\n",
      "                           '1 '\n",
      "                           '112867A9420B8242A93597D12EC1B3F5DF5BEABFB55E742781189EC26D13B948 '\n",
      "                           '1 '\n",
      "                           '1FDA1B896379128F6556C2954D249A8DD4A0F8C9D970D37142269F8851356D5A '\n",
      "                           '1 '\n",
      "                           '12CC21FC1E80C517D6F16F38859A95C2ACD7385B048D24593D3535159A43ED38 '\n",
      "                           '1 '\n",
      "                           '147943DA16286C19D440C8949C70DA9399377FD52E7DDD53E7CFD97637EBB9E7 '\n",
      "                           '1 '\n",
      "                           '0934D734986C2B0971B04EE9B78CEBF953B9ED7213E10DC060F7D07542F14384 '\n",
      "                           '1 '\n",
      "                           '23FB1DCD7515557DC60A3C6716BEA92FA3251E6314737EB9A2D733FD2728258B '\n",
      "                           '1 '\n",
      "                           '21E2D1CC382B5D4FCCC8E6B2F2E0FE5F4A9C16BE8C902D5985E0B9DF04603103\"}},\"tailsHash\":\"eKsEtRgiuPzBg5ADoiq1y2TS3fBpVHgDsVUKnJFFf5p\",\"tailsLocation\":\"/tmp/indy_acme_tails/eKsEtRgiuPzBg5ADoiq1y2TS3fBpVHgDsVUKnJFFf5p\"}},\"protocolVersion\":2}',\n",
      "  'revoc_reg_entry': '{\"ver\":\"1.0\",\"value\":{\"accum\":\"1 '\n",
      "                     '0000000000000000000000000000000000000000000000000000000000000000 '\n",
      "                     '1 '\n",
      "                     '0000000000000000000000000000000000000000000000000000000000000000 '\n",
      "                     '2 '\n",
      "                     '095E45DDF417D05FB10933FFC63D474548B7FFFF7888802F07FFFFFF7D07A8A8 '\n",
      "                     '1 '\n",
      "                     '0000000000000000000000000000000000000000000000000000000000000000 '\n",
      "                     '1 '\n",
      "                     '0000000000000000000000000000000000000000000000000000000000000000 '\n",
      "                     '1 '\n",
      "                     '0000000000000000000000000000000000000000000000000000000000000000\"}}',\n",
      "  'revoc_reg_entry_request': '{\"reqId\":1636378542529613822,\"identifier\":\"K4tCkhb6nUJyYjmiaFDeo7\",\"operation\":{\"type\":\"114\",\"revocRegDefId\":\"K4tCkhb6nUJyYjmiaFDeo7:4:K4tCkhb6nUJyYjmiaFDeo7:3:CL:12:TAG1:CL_ACCUM:TAG1\",\"revocDefType\":\"CL_ACCUM\",\"value\":{\"accum\":\"1 '\n",
      "                             '0000000000000000000000000000000000000000000000000000000000000000 '\n",
      "                             '1 '\n",
      "                             '0000000000000000000000000000000000000000000000000000000000000000 '\n",
      "                             '2 '\n",
      "                             '095E45DDF417D05FB10933FFC63D474548B7FFFF7888802F07FFFFFF7D07A8A8 '\n",
      "                             '1 '\n",
      "                             '0000000000000000000000000000000000000000000000000000000000000000 '\n",
      "                             '1 '\n",
      "                             '0000000000000000000000000000000000000000000000000000000000000000 '\n",
      "                             '1 '\n",
      "                             '0000000000000000000000000000000000000000000000000000000000000000\"}},\"protocolVersion\":2}',\n",
      "  'revoc_reg_id': 'K4tCkhb6nUJyYjmiaFDeo7:4:K4tCkhb6nUJyYjmiaFDeo7:3:CL:12:TAG1:CL_ACCUM:TAG1',\n",
      "  'role': 'TRUST_ANCHOR',\n",
      "  'tails_writer_config': '{\"base_dir\": '\n",
      "                         '\"/tmp/indy_acme_tails\", '\n",
      "                         '\"uri_pattern\": '\n",
      "                         '\"\"}',\n",
      "  'wallet': 22,\n",
      "  'wallet_config': '{\"id\": '\n",
      "                   '\"acme_wallet\"}',\n",
      "  'wallet_credentials': '{\"key\": '\n",
      "                        '\"acme_wallet_key\"}'}\n",
      "----------------------------------------------------------------------------------------------------\n"
     ]
    }
   ],
   "source": [
    "IndyPrinter(acme)(\"acme\")"
   ]
  },
  {
   "cell_type": "markdown",
   "id": "98c9724e-ecd3-48ec-9fa3-2f002ea2823b",
   "metadata": {
    "tags": []
   },
   "source": [
    "<br><br><br><hr>\n",
    "\n",
    "# 8. Alice Create DID and wallet"
   ]
  },
  {
   "cell_type": "code",
   "execution_count": 51,
   "id": "8c338b01-11da-45e7-a234-f46b1a06884c",
   "metadata": {},
   "outputs": [],
   "source": [
    "alice = {\n",
    "    'name': 'Alice',\n",
    "    'wallet_config': json.dumps({'id': 'alice_wallet'}),\n",
    "    'wallet_credentials': json.dumps({'key': 'alice_wallet_key'}),\n",
    "    'pool': pool_['handle'],\n",
    "}\n",
    "await create_wallet(alice)\n",
    "(alice['did'], alice['key']) = await did.create_and_store_my_did(alice['wallet'], \"{}\")"
   ]
  },
  {
   "cell_type": "code",
   "execution_count": 52,
   "id": "bbdfb33f-fcd3-41ae-a910-05327ba03afb",
   "metadata": {},
   "outputs": [
    {
     "name": "stdout",
     "output_type": "stream",
     "text": [
      "----------------------------------------------------------------------------------------------------\n",
      "-----------------------------------------------alice------------------------------------------------\n",
      "{ 'did': '3gq8nHycjTVwX966dDZ1Ka',\n",
      "  'key': '2Tw6EpUja7M9HzyaNWvZ9X9RgHmd8SeE5PCkDriYCS8T',\n",
      "  'name': 'Alice',\n",
      "  'pool': 10,\n",
      "  'wallet': 44,\n",
      "  'wallet_config': '{\"id\": '\n",
      "                   '\"alice_wallet\"}',\n",
      "  'wallet_credentials': '{\"key\": '\n",
      "                        '\"alice_wallet_key\"}'}\n",
      "----------------------------------------------------------------------------------------------------\n"
     ]
    }
   ],
   "source": [
    "IndyPrinter(alice)(\"alice\")"
   ]
  },
  {
   "cell_type": "markdown",
   "id": "37cabb35-1a6b-4aa3-9aba-9d612aeadf0b",
   "metadata": {
    "tags": []
   },
   "source": [
    "<br><br><br><hr>\n",
    "\n",
    "# 9. Alice Get \"Transcript\" Credential"
   ]
  },
  {
   "cell_type": "markdown",
   "id": "c1c847f0-2173-4b6d-81b4-520d613417d6",
   "metadata": {},
   "source": [
    "### (1) Faber create \"Transcript\" credential offer for alice"
   ]
  },
  {
   "cell_type": "code",
   "execution_count": 53,
   "id": "a78e1512-35d8-4a3b-b3b8-79daf73bcb72",
   "metadata": {},
   "outputs": [],
   "source": [
    "faber['transcript_cred_offer'] = await anoncreds.issuer_create_credential_offer(faber['wallet'], faber['transcript_cred_def_id'])\n",
    "alice['transcript_cred_offer'] = faber['transcript_cred_offer']\n",
    "transcript_cred_offer_object = json.loads(alice['transcript_cred_offer'])\n",
    "alice['transcript_schema_id'] = transcript_cred_offer_object['schema_id']\n",
    "alice['transcript_cred_def_id'] = transcript_cred_offer_object['cred_def_id']"
   ]
  },
  {
   "cell_type": "code",
   "execution_count": 54,
   "id": "967349fb-efd2-47ca-b055-5e81d9971bce",
   "metadata": {},
   "outputs": [
    {
     "name": "stdout",
     "output_type": "stream",
     "text": [
      "----------------------------------------------------------------------------------------------------\n",
      "-----------------------------------------------faber------------------------------------------------\n",
      "{ 'did': 'FyckJRmcaRJYeHukogSij5',\n",
      "  'key': '9ARg7ByY8TUaYufZ1ezZwe7ArET1X3vsXm43NDbyda3y',\n",
      "  'name': 'Faber',\n",
      "  'pool': 10,\n",
      "  'role': 'TRUST_ANCHOR',\n",
      "  'transcript_cred_def': '{\"ver\":\"1.0\",\"id\":\"FyckJRmcaRJYeHukogSij5:3:CL:11:TAG1\",\"schemaId\":\"11\",\"type\":\"CL\",\"tag\":\"TAG1\",\"value\":{\"primary\":{\"n\":\"101996116376267510016378383796521622606101323476051903380863591147886393459234017308424939756126833707898111350071560313389016948059948668917708992109709283709960501565382023839182517571199651038545675573857143115713819121195544559462727468067442144024830834828143495139473035591321700443294399587274375759449336306684492231687935609975819643060366983627442518548527828502050858453264814666672984556170971976484152852157743261134033422561487778373939039089323306498405646447852704372898809677802062070395578191230307090911231559041655330220177122096997982090290915029254527844808692621652548238590274080059454884973493\",\"s\":\"18966334745303214123456510357247014020271004403845941825392063988836251401576794583391963175788646320778255031948258457864955385596221217519431318849033405316139632481179465921004586532619400475282005286568652855963740847454776487419189705779189513898575579073899915359807086765107979608735685112686099982418005216598941462889232076998512957719619578592785627484999669605075207752649292354002624383628668297284292517535764156289162006623112993846224347272207653904387340268225007229980061703524331422052606468046226823718568163905924557822883830112801774782585439584847162231728332783705148890622091333342345286841718\",\"r\":{\"first_name\":\"92420746962254134206720392923835890128916325194763445705696263957731923327673701106140962099796385936220053849288899503319095201517115067560907827526903747578000007400623944683582089045943162693698967918092532836904484581014931136955136110716734546211370020744636256466223549715027962421730169229204027835279403865347832921224619014133710873070469077752363342681074175404719218428703482780628879843443656711421652027101900792693883462408125083838129002702361429391003581457272855463418543540926707732604289205489938975203306975496197059734066291540795773018192885768936899148269682925911757002972111422700334895280654\",\"last_name\":\"34517954697726146782476102485821621650574191073775287932463364297342965869880552697242856645235252453181979525890827370756786201132347093041971592699920369820307937358437216983384104645929279159984734741816773906116548336915277395058726774680941945748374772895993579756571052019778676041109158373595448950374273065612823546200989081936353597845620914003607357354915587385273463120994097442097309616251714935966513349969365565233726044453095662585212631293823915223047878007263280370413104101896889838442379133608038822524589176240842143999692651265012533719809953504474374713538231170329024822254181822394844033454408\",\"degree\":\"15131026708826309785244027251094919281354553622752148523280290539623387896592152477685023906533440822928422445658061712147448317222790664082430834392683107006066895003422138732328348522687213687855803998414908932739761593777527265447282937696508940998007031162232112916930708789471218617182410723947978063955459988325898766596201068948944891078838900464018111287984531721188479219890341146857554785631139505621815932340161644961312938129619295325540065949206520750063726936042081578346483637446035354667236344937393244462896796811022838962775115368434825022147768306098367821735992003105636558435456057627206691721009\",\"average\":\"84024248242228592634608957338564586643343715444869454060284170165874924303222393896382441670192413919925429993492169502651847300826178503188365803377657545998717295230165763609900343322102761558905133365097284041550184232157368857693081638902607640505381969220244598171033520174967733044986394355761189184412916412410463310533314882214198310233152047464099480259950804204902301981360446129283699372983108951199370559860981329353963250314319418563911158425637732918385253642191837093053936911750062798264405155506600399899319676125021000881278998062157846046112003548069966335939088304766083942696337993351884312934209\",\"master_secret\":\"34422597046434543782074676921689189049160385332363874495364038702275470580931153447424581954483590537553708403041818125995997582388434634356030559321797007805392086819543893972916594633908349492573471166783943284783109155206200644720225639000884756841824522530293668163633917034641224459914854228672038020495839783011221262764871306499851801159412252646671136069416397184246964647412566814289801067836117941797041192557838358766624907956295321827532925754609578936278464293161799100172989893294947409650394115990357409319272397655789989727381150870479386074156202848915639554329561160061764114969254730557067626535406\",\"year\":\"63064973445908310577150939954015752393553084566490289552873022487750171802294388926049905642657316255942670130983075445650063965747316063402476166858860072423842449013748668321193141965936978795368786609972107979492612927780756869690172286641539220727704613885491942068865784029600686830556114722956327771679102787874188935511533518723753719665776683635374731735043096153358085461444341793885400294587489492020016350716967279691210085292631808336270091642950171089921749356544893993092573724694775669765529412268320812015653564687830280937046237689587154783540077669069893740616761552567340187025665895747593218416905\",\"ssn\":\"7199922004584306098097166326563918177021185163334766454204226650356836352869090622107291437782961022068860752285244249650584671195022834846558233225229679511379223088060699590956390631708455927985742889024690116019294969217935943200477461239761603142885644599156958403606853678630960431208947801793304957189776906635954833293379100725838751927578134002727765402442594900510292326931729325100543473108471096622525287518350675304396755401793820438170680328391132281854668552918847812897063058845313507680264193970644091004794761613519781260853124053978121643088741924847891422177920386581162661656990686730049057527014\",\"status\":\"90611176225651003789596298744195656755587626168833448897416443587415291548157672453857130049279053626301932338502000921199889405316797779918987911075846777623157845265806746731636881548173181160461739678533605441158471496817906997544179476057596681971149124588188268449225257741713940346758409415147960046707186614747293247233335317712778258399418204822031489172459915813727786324394165260801122122291323305315448218344607229523553564095175702683909953811208723955737770697503812481564549214396962367336166094778884295736295870154807258320139853619412416299402281180754390820138112397143421728509813737336919745475531\"},\"rctxt\":\"46809915485969407645985807672249709775704819585936903973356980178983082373585075268645686501026286985919263407787193790354617984892205210887328983724588716169506411310417669548434169397341882962899080555592865615455991186448097231919010862794601483807289624749711746889332822606372807567760026332720660632125986678622558121879109594694801599720959964688547121072899698275839766444261149572403922092307969925955980320347417249379511933846818424932170815780923601886325362970175119321391299301646534236550376462843567299262973728886096540394548285769917692569450198856480270038605275144307822262414509844780741720330369\",\"z\":\"60200704100208018194068258026724068845791431752893397246890615212493457880734083695444662872851040593032085828678037239432560090645799608364685369787545577313877239564580364596390941678827872627589196480096903140140235371439219072941480221833645863273855108387712525382333150964235203083299760981248293957147382751975426840712969699875655834518235083082123687107645521979536225737488690803607446825952173562537086387048371779055952122992570838283683988208345879033000654628272842480121904544765981283815998647042777103321639649867096751578023252646674241373461068128506704547684856843524532919131430894940771770321001\"}}}',\n",
      "  'transcript_cred_def_id': 'FyckJRmcaRJYeHukogSij5:3:CL:11:TAG1',\n",
      "  'transcript_cred_offer': '{\"schema_id\":\"DP92P2qRue3B7QaaM3ajWz:2:Transcript:1.2\",\"cred_def_id\":\"FyckJRmcaRJYeHukogSij5:3:CL:11:TAG1\",\"key_correctness_proof\":{\"c\":\"90145142242100077791032519748739980059037656814133943346236467570969043011235\",\"xz_cap\":\"571556329400303115548227816492314647421514141525139462833329170522420563927412454188058715766478285172595790497084663567386294673747552375667231180872741804184436561521456220132232288122097705815176234043222941277036881033495412785920755012754812939871593339300991808887993459339166662645289562366157945582725222156218972145116256064401423169679811627771909416843807144438212044236826381712515100182720490715981352689606199156290316065123804645537691238089221254914985719899172636878035591438830678727479677194084128698263764833923950303842725168041322050007157197372142301531634799782129975201094172453462168917447089400166149615859747995238390615526080767739870870345563539079818406005326135\",\"xr_cap\":[[\"average\",\"981745079921836720627861122404131715014215361882537981768448101120870140959834153370058445824110504153048093252346500622187324648244248334013745559652773616627442227209721857419918992453015450711008412872029513167279782438021694458330542393086292446226631607984597513704981943364332412236785414098405337162266149427793219202374087234472000183336342600860549596025150925778948770918081838154914897976813433170381003962484873785794329828553538027248710345452112670776886668641288733213347852554973648167266445620920671683847301522304668862490896787769750804801587963274320361373936935269042287874031166166460641400974935340395471989832674197257804605581249887663639347204611825398422487032745514\"],[\"ssn\",\"1024349915304007173157251992629099779391161085633594348929749073637834226341626599185943962680487635337427052365486249115415911563961242194678544909594535819697575121899900630544441527271711974110185996414913578855107393604197266122980596917302267178552037038573759527664883034552198932634368366236739554579580854039173234203041305258095756321246537752555807803324409180013563451033318831226706108643248066515632345746226690960520925937794313782018490860531679272904335095477073896603510747640698719202592064959434323395747899888830097196617476643138694405192949412869558419146193392195255816320289148050300011616998057263282214881081390184931388172174572377564514203277741588052559788920827905\"],[\"first_name\",\"1263791702185640736250928654143641514239378151093326439966565625617456910426636876633899228920938156185677744561511259372139247685096393731054571283460520629280757753757595149522084111498117378649808409789602445279105661142286700018396157175636546238546693170759149184167372665380628520225071225861748036095356393921115223625885390071669501737348092822574406090673454582731928157862326869707483622102200592282713861729236540102679214466750553761422613273145922037457645809227717271332117797080975207768125584533002661531992435402942914633840301121555408467128889593926859107853096096396555555676279911389185901835446927105760116913061683638403887405624202948004485458495115455465109669591552768\"],[\"master_secret\",\"591838936615341871217158816887591173911373512861984995005538588221505494965374645266049764825711181207528470511433749608586751041904176141180009638855318943616927708007544294936825199657848817258263674698927713760644582401688232284493690416937121911596264472159454874404300347905306757123712143382849053286391508462915236577409302621358967386390552821169179933421750708398159447289835157223498223395391047180771856817678197532442301687023532381744941359994242985299974196046892081493639239518777691227276000859264194705218768073574685786736862447202388535925650429622248227019962279726406389813085977466262288816931700481769618769561406314055088778785661383091372784222022750850492943687047492\"],[\"last_name\",\"215900981897705922953567523630546092144092976248346967240566053639572372074200196274441996832261066652094308939126784547509264462741273031206788841785036245305526650110171167442737189250505764079639342713194005941608562308172401093178350919260633769517594696523640210287117047750133046323438717784625798850391599025171962796953477521449028619118747688340117818198129702183310435046091090292831903376422806697343433283702154225847178087689229441008310250092057779991580815286084431054217196634549134762760661072259158062270790979131439390043689881515752444856472055626224177931795399133969369599999642454317318771700654615146965507344308860001821347925806584612109536869465953013201280920238395\"],[\"year\",\"485697979420503597471176980257485372743991853363901482077362077576462132535562394229372614322070949075279379894240046753690027342887739624710513484955186210629442272346885190363632897349182304229235919801575156645653169616620948719521446896464652929623186689499701467171186757725744242344915275519975558457499600693176424466476185617178962617825037791400469949185166340168097266737432309070649522812287031299428206068739423000906822638272140721863100330463819312567364675541593299283562378580444726212201874594108046546458039989134782697984506734424932671875332204412327451683814079365348685024560227735192122943905370349212712884856453475094099713512686132147102884179311910771600111175246428\"],[\"status\",\"535910205928481964751124650572073912379183617803201537502469639176161752108402545974090910244413977191931016963667155409596998326248813073715358249286873751082944266145593921938537411859362524263496080880752317465746047358183783512718044797711452047570909650667979131083244353054845752176416461168996281536602149259791926933721621523130162267816060356603799649270500357510849933379730315585875912358643025183684774710089259095053840799700939510046042417267458292985589516023785011863346607865714211758468095232948150771023185825392020082326092475004135263331425974741557655046107051054385110469102730276907168908663898289905105493216942437582376719935934755544778085983854963398823002415357323\"],[\"degree\",\"90938618626559255334094475765944449752599839999350861661429252816638685407553293978768879778848794591396798376903458841697492107459118681616208550363087812865664092628640689074543770736437749227719964973672277821942348103405382440726583197694314786738946842290655817020078010241064045193126310371774200269097785369635213356221304788709666181928399388852442534988305543893777570849511053790447412126150146060573846251521573618890402634523606485036653962465191162978619754678623110516137821260614982740905398241618410965933807325549650812469425788933101483179955116837091220989196959217393363051430627622638141427233378179557242005052189582541805027699773284413716029992973226600345908205402488\"]]},\"nonce\":\"560116603451399063504632\"}',\n",
      "  'transcript_schema': '{\"ver\":\"1.0\",\"id\":\"DP92P2qRue3B7QaaM3ajWz:2:Transcript:1.2\",\"name\":\"Transcript\",\"version\":\"1.2\",\"attrNames\":[\"degree\",\"last_name\",\"average\",\"year\",\"status\",\"first_name\",\"ssn\"],\"seqNo\":11}',\n",
      "  'transcript_schema_id': 'DP92P2qRue3B7QaaM3ajWz:2:Transcript:1.2',\n",
      "  'wallet': 19,\n",
      "  'wallet_config': '{\"id\": '\n",
      "                   '\"faber_wallet\"}',\n",
      "  'wallet_credentials': '{\"key\": '\n",
      "                        '\"faber_wallet_key\"}'}\n",
      "----------------------------------------------------------------------------------------------------\n",
      "----------------------------------------------------------------------------------------------------\n",
      "-----------------------------------------------alice------------------------------------------------\n",
      "{ 'did': '3gq8nHycjTVwX966dDZ1Ka',\n",
      "  'key': '2Tw6EpUja7M9HzyaNWvZ9X9RgHmd8SeE5PCkDriYCS8T',\n",
      "  'name': 'Alice',\n",
      "  'pool': 10,\n",
      "  'transcript_cred_def_id': 'FyckJRmcaRJYeHukogSij5:3:CL:11:TAG1',\n",
      "  'transcript_cred_offer': '{\"schema_id\":\"DP92P2qRue3B7QaaM3ajWz:2:Transcript:1.2\",\"cred_def_id\":\"FyckJRmcaRJYeHukogSij5:3:CL:11:TAG1\",\"key_correctness_proof\":{\"c\":\"90145142242100077791032519748739980059037656814133943346236467570969043011235\",\"xz_cap\":\"571556329400303115548227816492314647421514141525139462833329170522420563927412454188058715766478285172595790497084663567386294673747552375667231180872741804184436561521456220132232288122097705815176234043222941277036881033495412785920755012754812939871593339300991808887993459339166662645289562366157945582725222156218972145116256064401423169679811627771909416843807144438212044236826381712515100182720490715981352689606199156290316065123804645537691238089221254914985719899172636878035591438830678727479677194084128698263764833923950303842725168041322050007157197372142301531634799782129975201094172453462168917447089400166149615859747995238390615526080767739870870345563539079818406005326135\",\"xr_cap\":[[\"average\",\"981745079921836720627861122404131715014215361882537981768448101120870140959834153370058445824110504153048093252346500622187324648244248334013745559652773616627442227209721857419918992453015450711008412872029513167279782438021694458330542393086292446226631607984597513704981943364332412236785414098405337162266149427793219202374087234472000183336342600860549596025150925778948770918081838154914897976813433170381003962484873785794329828553538027248710345452112670776886668641288733213347852554973648167266445620920671683847301522304668862490896787769750804801587963274320361373936935269042287874031166166460641400974935340395471989832674197257804605581249887663639347204611825398422487032745514\"],[\"ssn\",\"1024349915304007173157251992629099779391161085633594348929749073637834226341626599185943962680487635337427052365486249115415911563961242194678544909594535819697575121899900630544441527271711974110185996414913578855107393604197266122980596917302267178552037038573759527664883034552198932634368366236739554579580854039173234203041305258095756321246537752555807803324409180013563451033318831226706108643248066515632345746226690960520925937794313782018490860531679272904335095477073896603510747640698719202592064959434323395747899888830097196617476643138694405192949412869558419146193392195255816320289148050300011616998057263282214881081390184931388172174572377564514203277741588052559788920827905\"],[\"first_name\",\"1263791702185640736250928654143641514239378151093326439966565625617456910426636876633899228920938156185677744561511259372139247685096393731054571283460520629280757753757595149522084111498117378649808409789602445279105661142286700018396157175636546238546693170759149184167372665380628520225071225861748036095356393921115223625885390071669501737348092822574406090673454582731928157862326869707483622102200592282713861729236540102679214466750553761422613273145922037457645809227717271332117797080975207768125584533002661531992435402942914633840301121555408467128889593926859107853096096396555555676279911389185901835446927105760116913061683638403887405624202948004485458495115455465109669591552768\"],[\"master_secret\",\"591838936615341871217158816887591173911373512861984995005538588221505494965374645266049764825711181207528470511433749608586751041904176141180009638855318943616927708007544294936825199657848817258263674698927713760644582401688232284493690416937121911596264472159454874404300347905306757123712143382849053286391508462915236577409302621358967386390552821169179933421750708398159447289835157223498223395391047180771856817678197532442301687023532381744941359994242985299974196046892081493639239518777691227276000859264194705218768073574685786736862447202388535925650429622248227019962279726406389813085977466262288816931700481769618769561406314055088778785661383091372784222022750850492943687047492\"],[\"last_name\",\"215900981897705922953567523630546092144092976248346967240566053639572372074200196274441996832261066652094308939126784547509264462741273031206788841785036245305526650110171167442737189250505764079639342713194005941608562308172401093178350919260633769517594696523640210287117047750133046323438717784625798850391599025171962796953477521449028619118747688340117818198129702183310435046091090292831903376422806697343433283702154225847178087689229441008310250092057779991580815286084431054217196634549134762760661072259158062270790979131439390043689881515752444856472055626224177931795399133969369599999642454317318771700654615146965507344308860001821347925806584612109536869465953013201280920238395\"],[\"year\",\"485697979420503597471176980257485372743991853363901482077362077576462132535562394229372614322070949075279379894240046753690027342887739624710513484955186210629442272346885190363632897349182304229235919801575156645653169616620948719521446896464652929623186689499701467171186757725744242344915275519975558457499600693176424466476185617178962617825037791400469949185166340168097266737432309070649522812287031299428206068739423000906822638272140721863100330463819312567364675541593299283562378580444726212201874594108046546458039989134782697984506734424932671875332204412327451683814079365348685024560227735192122943905370349212712884856453475094099713512686132147102884179311910771600111175246428\"],[\"status\",\"535910205928481964751124650572073912379183617803201537502469639176161752108402545974090910244413977191931016963667155409596998326248813073715358249286873751082944266145593921938537411859362524263496080880752317465746047358183783512718044797711452047570909650667979131083244353054845752176416461168996281536602149259791926933721621523130162267816060356603799649270500357510849933379730315585875912358643025183684774710089259095053840799700939510046042417267458292985589516023785011863346607865714211758468095232948150771023185825392020082326092475004135263331425974741557655046107051054385110469102730276907168908663898289905105493216942437582376719935934755544778085983854963398823002415357323\"],[\"degree\",\"90938618626559255334094475765944449752599839999350861661429252816638685407553293978768879778848794591396798376903458841697492107459118681616208550363087812865664092628640689074543770736437749227719964973672277821942348103405382440726583197694314786738946842290655817020078010241064045193126310371774200269097785369635213356221304788709666181928399388852442534988305543893777570849511053790447412126150146060573846251521573618890402634523606485036653962465191162978619754678623110516137821260614982740905398241618410965933807325549650812469425788933101483179955116837091220989196959217393363051430627622638141427233378179557242005052189582541805027699773284413716029992973226600345908205402488\"]]},\"nonce\":\"560116603451399063504632\"}',\n",
      "  'transcript_schema_id': 'DP92P2qRue3B7QaaM3ajWz:2:Transcript:1.2',\n",
      "  'wallet': 44,\n",
      "  'wallet_config': '{\"id\": '\n",
      "                   '\"alice_wallet\"}',\n",
      "  'wallet_credentials': '{\"key\": '\n",
      "                        '\"alice_wallet_key\"}'}\n",
      "----------------------------------------------------------------------------------------------------\n"
     ]
    }
   ],
   "source": [
    "IndyPrinter(faber)(\"faber\")\n",
    "IndyPrinter(alice)(\"alice\")"
   ]
  },
  {
   "cell_type": "markdown",
   "id": "9a29908d-1b7f-4053-bac0-ae0be74fafb1",
   "metadata": {},
   "source": [
    "### (2) Alice create and store master secret in wallet"
   ]
  },
  {
   "cell_type": "code",
   "execution_count": 55,
   "id": "e3e2aa05-3e93-46e8-9eca-a3400228a997",
   "metadata": {},
   "outputs": [],
   "source": [
    "alice['master_secret_id'] = await anoncreds.prover_create_master_secret(alice['wallet'], None)"
   ]
  },
  {
   "cell_type": "code",
   "execution_count": 56,
   "id": "db1159fe-8832-46e8-8945-5f46b33ebaf4",
   "metadata": {},
   "outputs": [
    {
     "name": "stdout",
     "output_type": "stream",
     "text": [
      "----------------------------------------------------------------------------------------------------\n",
      "-----------------------------------------------alice------------------------------------------------\n",
      "{ 'did': '3gq8nHycjTVwX966dDZ1Ka',\n",
      "  'key': '2Tw6EpUja7M9HzyaNWvZ9X9RgHmd8SeE5PCkDriYCS8T',\n",
      "  'master_secret_id': 'ba323595-bf64-496a-8013-2531cd918b7b',\n",
      "  'name': 'Alice',\n",
      "  'pool': 10,\n",
      "  'transcript_cred_def_id': 'FyckJRmcaRJYeHukogSij5:3:CL:11:TAG1',\n",
      "  'transcript_cred_offer': '{\"schema_id\":\"DP92P2qRue3B7QaaM3ajWz:2:Transcript:1.2\",\"cred_def_id\":\"FyckJRmcaRJYeHukogSij5:3:CL:11:TAG1\",\"key_correctness_proof\":{\"c\":\"90145142242100077791032519748739980059037656814133943346236467570969043011235\",\"xz_cap\":\"571556329400303115548227816492314647421514141525139462833329170522420563927412454188058715766478285172595790497084663567386294673747552375667231180872741804184436561521456220132232288122097705815176234043222941277036881033495412785920755012754812939871593339300991808887993459339166662645289562366157945582725222156218972145116256064401423169679811627771909416843807144438212044236826381712515100182720490715981352689606199156290316065123804645537691238089221254914985719899172636878035591438830678727479677194084128698263764833923950303842725168041322050007157197372142301531634799782129975201094172453462168917447089400166149615859747995238390615526080767739870870345563539079818406005326135\",\"xr_cap\":[[\"average\",\"981745079921836720627861122404131715014215361882537981768448101120870140959834153370058445824110504153048093252346500622187324648244248334013745559652773616627442227209721857419918992453015450711008412872029513167279782438021694458330542393086292446226631607984597513704981943364332412236785414098405337162266149427793219202374087234472000183336342600860549596025150925778948770918081838154914897976813433170381003962484873785794329828553538027248710345452112670776886668641288733213347852554973648167266445620920671683847301522304668862490896787769750804801587963274320361373936935269042287874031166166460641400974935340395471989832674197257804605581249887663639347204611825398422487032745514\"],[\"ssn\",\"1024349915304007173157251992629099779391161085633594348929749073637834226341626599185943962680487635337427052365486249115415911563961242194678544909594535819697575121899900630544441527271711974110185996414913578855107393604197266122980596917302267178552037038573759527664883034552198932634368366236739554579580854039173234203041305258095756321246537752555807803324409180013563451033318831226706108643248066515632345746226690960520925937794313782018490860531679272904335095477073896603510747640698719202592064959434323395747899888830097196617476643138694405192949412869558419146193392195255816320289148050300011616998057263282214881081390184931388172174572377564514203277741588052559788920827905\"],[\"first_name\",\"1263791702185640736250928654143641514239378151093326439966565625617456910426636876633899228920938156185677744561511259372139247685096393731054571283460520629280757753757595149522084111498117378649808409789602445279105661142286700018396157175636546238546693170759149184167372665380628520225071225861748036095356393921115223625885390071669501737348092822574406090673454582731928157862326869707483622102200592282713861729236540102679214466750553761422613273145922037457645809227717271332117797080975207768125584533002661531992435402942914633840301121555408467128889593926859107853096096396555555676279911389185901835446927105760116913061683638403887405624202948004485458495115455465109669591552768\"],[\"master_secret\",\"591838936615341871217158816887591173911373512861984995005538588221505494965374645266049764825711181207528470511433749608586751041904176141180009638855318943616927708007544294936825199657848817258263674698927713760644582401688232284493690416937121911596264472159454874404300347905306757123712143382849053286391508462915236577409302621358967386390552821169179933421750708398159447289835157223498223395391047180771856817678197532442301687023532381744941359994242985299974196046892081493639239518777691227276000859264194705218768073574685786736862447202388535925650429622248227019962279726406389813085977466262288816931700481769618769561406314055088778785661383091372784222022750850492943687047492\"],[\"last_name\",\"215900981897705922953567523630546092144092976248346967240566053639572372074200196274441996832261066652094308939126784547509264462741273031206788841785036245305526650110171167442737189250505764079639342713194005941608562308172401093178350919260633769517594696523640210287117047750133046323438717784625798850391599025171962796953477521449028619118747688340117818198129702183310435046091090292831903376422806697343433283702154225847178087689229441008310250092057779991580815286084431054217196634549134762760661072259158062270790979131439390043689881515752444856472055626224177931795399133969369599999642454317318771700654615146965507344308860001821347925806584612109536869465953013201280920238395\"],[\"year\",\"485697979420503597471176980257485372743991853363901482077362077576462132535562394229372614322070949075279379894240046753690027342887739624710513484955186210629442272346885190363632897349182304229235919801575156645653169616620948719521446896464652929623186689499701467171186757725744242344915275519975558457499600693176424466476185617178962617825037791400469949185166340168097266737432309070649522812287031299428206068739423000906822638272140721863100330463819312567364675541593299283562378580444726212201874594108046546458039989134782697984506734424932671875332204412327451683814079365348685024560227735192122943905370349212712884856453475094099713512686132147102884179311910771600111175246428\"],[\"status\",\"535910205928481964751124650572073912379183617803201537502469639176161752108402545974090910244413977191931016963667155409596998326248813073715358249286873751082944266145593921938537411859362524263496080880752317465746047358183783512718044797711452047570909650667979131083244353054845752176416461168996281536602149259791926933721621523130162267816060356603799649270500357510849933379730315585875912358643025183684774710089259095053840799700939510046042417267458292985589516023785011863346607865714211758468095232948150771023185825392020082326092475004135263331425974741557655046107051054385110469102730276907168908663898289905105493216942437582376719935934755544778085983854963398823002415357323\"],[\"degree\",\"90938618626559255334094475765944449752599839999350861661429252816638685407553293978768879778848794591396798376903458841697492107459118681616208550363087812865664092628640689074543770736437749227719964973672277821942348103405382440726583197694314786738946842290655817020078010241064045193126310371774200269097785369635213356221304788709666181928399388852442534988305543893777570849511053790447412126150146060573846251521573618890402634523606485036653962465191162978619754678623110516137821260614982740905398241618410965933807325549650812469425788933101483179955116837091220989196959217393363051430627622638141427233378179557242005052189582541805027699773284413716029992973226600345908205402488\"]]},\"nonce\":\"560116603451399063504632\"}',\n",
      "  'transcript_schema_id': 'DP92P2qRue3B7QaaM3ajWz:2:Transcript:1.2',\n",
      "  'wallet': 44,\n",
      "  'wallet_config': '{\"id\": '\n",
      "                   '\"alice_wallet\"}',\n",
      "  'wallet_credentials': '{\"key\": '\n",
      "                        '\"alice_wallet_key\"}'}\n",
      "----------------------------------------------------------------------------------------------------\n"
     ]
    }
   ],
   "source": [
    "IndyPrinter(alice)('alice')"
   ]
  },
  {
   "cell_type": "markdown",
   "id": "1d2b18c3-0d77-4f32-9774-2a8db0c3a684",
   "metadata": {},
   "source": [
    "||||||||||||||||||||||||||||||||||||||||||||||||||||||||||||||||||||||||||||||||||||||||||||||||||||||||||||||||||||||||||||||||||||||||||||||||||||||||||||||||||||||||||||||||||||||||||||||||||||||||||||||||||||||||||||||||||||||||||||"
   ]
  },
  {
   "cell_type": "markdown",
   "id": "64c91dc4-9c1e-4b88-88c0-fabef58f2020",
   "metadata": {},
   "source": [
    "|||||||||||||||||||||||||||||||||||||||||||||||||||||||||||||||||||||||||||||||||||||||||||||||||||||||||||||||||||||| START ||||||||||||||||||||||||||||||||||||||||||||||||||||||||||||||||||||||||||||||||||||||||||||||||||||||||||||||||||||||"
   ]
  },
  {
   "cell_type": "markdown",
   "id": "be5862bb-f33c-4bd6-9929-e5793385330d",
   "metadata": {},
   "source": [
    "||||||||||||||||||||||||||||||||||||||||||||||||||||||||||||||||||||||||||||||||||||||||||||||||||||||||||||||||||||||||||||||||||||||||||||||||||||||||||||||||||||||||||||||||||||||||||||||||||||||||||||||||||||||||||||||||||||||||||||"
   ]
  },
  {
   "cell_type": "code",
   "execution_count": null,
   "id": "29bebca8-5eb2-481a-94bb-ee1cc6501be4",
   "metadata": {},
   "outputs": [],
   "source": [
    "# alice = {\n",
    "#     'name': 'Alice',\n",
    "#     'wallet_config': json.dumps({'id': 'alice_wallet'}),\n",
    "#     'wallet_credentials': json.dumps({'key': 'alice_wallet_key'}),\n",
    "#     'pool': pool_['handle'],\n",
    "# }\n",
    "\n",
    "await did.set_endpoint_for_did(acme['wallet'], acme['did'], 'http://localhost:1234', acme['key'])\n",
    "await did.get_endpoint_for_did(acme['wallet'], acme['pool'], acme['did'])"
   ]
  },
  {
   "cell_type": "code",
   "execution_count": null,
   "id": "e4f85662-9866-479c-8427-19468c3106cb",
   "metadata": {},
   "outputs": [],
   "source": [
    "await did.set_endpoint_for_did(acme['wallet'], acme['did'], 'http://localhost:1235', acme['key'])\n",
    "await did.get_endpoint_for_did(acme['wallet'], acme['pool'], acme['did'])"
   ]
  },
  {
   "cell_type": "code",
   "execution_count": null,
   "id": "194fb948-33ed-45ce-a392-fd3e73fe14f0",
   "metadata": {},
   "outputs": [],
   "source": [
    "acme"
   ]
  },
  {
   "cell_type": "code",
   "execution_count": 57,
   "id": "1fe9f70e-dc46-48ce-bca3-65bb98c0a8cb",
   "metadata": {},
   "outputs": [
    {
     "data": {
      "text/plain": [
       "'3gq8nHycjTVwX966dDZ1Ka'"
      ]
     },
     "execution_count": 57,
     "metadata": {},
     "output_type": "execute_result"
    }
   ],
   "source": [
    "alice['did']"
   ]
  },
  {
   "cell_type": "code",
   "execution_count": 75,
   "id": "9d6360af-f1a5-4bf2-bf3d-b33660148aed",
   "metadata": {
    "tags": []
   },
   "outputs": [
    {
     "name": "stdout",
     "output_type": "stream",
     "text": [
      "----------------------------------------------------------------------------------------------------\n",
      "{ 'identifier': 'Th7MpTaRZVRYnPiabds81Y',\n",
      "  'operation': { 'dest': 'FyckJRmcaRJYeHukogSij5',\n",
      "                 'type': '120'},\n",
      "  'protocolVersion': 2,\n",
      "  'reqId': 1636379185676912978}\n",
      "----------------------------------------------------------------------------------------------------\n"
     ]
    }
   ],
   "source": [
    "# req_ddo = await ledger.build_get_ddo_request(steward['did'], acme['did'])\n",
    "req_ddo = await ledger.build_get_ddo_request(steward['did'], 'FyckJRmcaRJYeHukogSij5')\n",
    "IndyPrinter(req_ddo)(use_pp=True)"
   ]
  },
  {
   "cell_type": "code",
   "execution_count": 76,
   "id": "a85f24bc-5c9f-473b-869d-11ab63905101",
   "metadata": {},
   "outputs": [
    {
     "data": {
      "text/plain": [
       "'{\"op\":\"REQNACK\",\"identifier\":\"Th7MpTaRZVRYnPiabds81Y\",\"reqId\":1636379185676912978,\"reason\":\"client request invalid: InvalidClientRequest(\\'Th7MpTaRZVRYnPiabds81Y\\', 1636379185676912978, \\'validation error [ClientAuthRuleOperation]: missed fields - constraint, auth_type, field, new_value, auth_action. \\')\"}'"
      ]
     },
     "execution_count": 76,
     "metadata": {},
     "output_type": "execute_result"
    }
   ],
   "source": [
    "await ledger.sign_and_submit_request(faber['pool'], faber['wallet'], 'FyckJRmcaRJYeHukogSij5', req_ddo)"
   ]
  },
  {
   "cell_type": "code",
   "execution_count": 73,
   "id": "99c7005a-c548-4ec3-99b8-ed4c76b89694",
   "metadata": {
    "tags": []
   },
   "outputs": [
    {
     "data": {
      "text/plain": [
       "'{\"op\":\"REQNACK\",\"identifier\":\"Th7MpTaRZVRYnPiabds81Y\",\"reqId\":1636378900354477127,\"reason\":\"client request invalid: InvalidClientRequest(\\'Th7MpTaRZVRYnPiabds81Y\\', 1636378900354477127, \\'validation error [ClientAuthRuleOperation]: missed fields - auth_type, constraint, auth_action, field, new_value. \\')\"}'"
      ]
     },
     "execution_count": 73,
     "metadata": {},
     "output_type": "execute_result"
    }
   ],
   "source": [
    "await ledger.submit_request(alice['pool'], req_ddo)"
   ]
  },
  {
   "cell_type": "code",
   "execution_count": 74,
   "id": "5d1eadce-3fb1-4e72-b6a6-b37f0e454c6c",
   "metadata": {},
   "outputs": [
    {
     "data": {
      "text/plain": [
       "'[{\"did\":\"4FWeoW8EkSEkwpoU82DWSE\",\"verkey\":\"2mkDHcVrjmmpqg36dBNkVx9LC8UYxjAHzixBahZgmtWg\",\"tempVerkey\":null,\"metadata\":\"{}\"},{\"did\":\"R1MbDGVf9cotKSiasb9EVR\",\"verkey\":\"E5t61SzZABCdUx632YEkxTUUdQQfLasetVmg4gnerVTV\",\"tempVerkey\":null,\"metadata\":\"{\\\\\"endpoint\\\\\": \\\\\"https://myhost:8021\\\\\"}\"},{\"did\":\"3gq8nHycjTVwX966dDZ1Ka\",\"verkey\":\"2Tw6EpUja7M9HzyaNWvZ9X9RgHmd8SeE5PCkDriYCS8T\",\"tempVerkey\":null,\"metadata\":null},{\"did\":\"7sLxuDCJ5aqUNcGvGpUEEr\",\"verkey\":\"4k7SqryGrD3PafcY4K4aXJnrr4m44ks6BxGFeKjDMdpp\",\"tempVerkey\":null,\"metadata\":null}]'"
      ]
     },
     "execution_count": 74,
     "metadata": {},
     "output_type": "execute_result"
    }
   ],
   "source": [
    "await did.list_my_dids_with_meta(alice['wallet'])"
   ]
  },
  {
   "cell_type": "code",
   "execution_count": null,
   "id": "0854721d-640b-4568-ab4d-e95e372490ff",
   "metadata": {},
   "outputs": [],
   "source": [
    "await did.key_for_did(acme['pool'], acme['wallet'], acme['did'])"
   ]
  },
  {
   "cell_type": "code",
   "execution_count": null,
   "id": "a1ff9746-7d41-47cd-bbd9-4d167961a562",
   "metadata": {},
   "outputs": [],
   "source": [
    "await did.create_key(acme['wallet'],'{}')"
   ]
  },
  {
   "cell_type": "code",
   "execution_count": null,
   "id": "1a764a88-41ac-4734-9848-2615834ae6d8",
   "metadata": {},
   "outputs": [],
   "source": [
    "await did.list_my_dids_with_meta(acme['wallet'])"
   ]
  },
  {
   "cell_type": "markdown",
   "id": "c2af0fbc-a34c-490c-8afb-581c5510afe0",
   "metadata": {},
   "source": [
    "||||||||||||||||||||||||||||||||||||||||||||||||||||||||||||||||||||||||||||||||||||||||||||||||||||||||||||||||||||||||||||||||||||||||||||||||||||||||||||||||||||||||||||||||||||||||||||||||||||||||||||||||||||||||||||||||||||||||||||"
   ]
  },
  {
   "cell_type": "markdown",
   "id": "5af6b3b7-2313-44d9-8988-fc46adc7d0e9",
   "metadata": {},
   "source": [
    "|||||||||||||||||||||||||||||||||||||||||||||||||||||||||||||||||||||||||||||||||||||||||||||||||||||||||||||||||||||| END ||||||||||||||||||||||||||||||||||||||||||||||||||||||||||||||||||||||||||||||||||||||||||||||||||||||||||||||||||||||"
   ]
  },
  {
   "cell_type": "markdown",
   "id": "a1f7f09a-0682-438e-9010-b68bd1e27abf",
   "metadata": {},
   "source": [
    "||||||||||||||||||||||||||||||||||||||||||||||||||||||||||||||||||||||||||||||||||||||||||||||||||||||||||||||||||||||||||||||||||||||||||||||||||||||||||||||||||||||||||||||||||||||||||||||||||||||||||||||||||||||||||||||||||||||||||||"
   ]
  },
  {
   "cell_type": "markdown",
   "id": "682cd690-b081-40ca-9665-9e9adf4838ac",
   "metadata": {},
   "source": [
    "### (3) Alice get \"Faber Transcript\" credential definition from ledger"
   ]
  },
  {
   "cell_type": "code",
   "execution_count": null,
   "id": "94c1d24d-30e0-40b7-b870-926472e38127",
   "metadata": {},
   "outputs": [],
   "source": [
    "(alice['faber_transcript_cred_def_id'], alice['faber_transcript_cred_def']) = await get_cred_def(alice['pool'], alice['did'], alice['transcript_cred_def_id'])"
   ]
  },
  {
   "cell_type": "markdown",
   "id": "e42f7fc8-5551-49cf-a924-71691f4e36f5",
   "metadata": {},
   "source": [
    "### (4) Alice create \"Transcript\" credential request for Faber"
   ]
  },
  {
   "cell_type": "code",
   "execution_count": null,
   "id": "8c1e584a-dbeb-4651-b79c-e083ab0d5f2e",
   "metadata": {},
   "outputs": [],
   "source": [
    "(alice['transcript_cred_request'], alice['transcript_cred_request_metadata']) = \\\n",
    "    await anoncreds.prover_create_credential_req(alice['wallet'], alice['did'],\n",
    "                                                    alice['transcript_cred_offer'], alice['faber_transcript_cred_def'],\n",
    "                                                    alice['master_secret_id'])"
   ]
  },
  {
   "cell_type": "markdown",
   "id": "37234b9d-730a-48ac-a443-96711189f49c",
   "metadata": {},
   "source": [
    "### (5) Alice send \"Transcript\" credential request for Faber"
   ]
  },
  {
   "cell_type": "code",
   "execution_count": null,
   "id": "8809fe1b-31fd-4619-9120-93ca1af01ef5",
   "metadata": {},
   "outputs": [],
   "source": [
    "faber['transcript_cred_request'] = alice['transcript_cred_request']"
   ]
  },
  {
   "cell_type": "markdown",
   "id": "e612732a-a523-4d9c-ada2-f247c99dee76",
   "metadata": {},
   "source": [
    "### (6) Faber create \"Transcript\" credential for Alice"
   ]
  },
  {
   "cell_type": "code",
   "execution_count": null,
   "id": "417bab9e-3387-44d0-8afa-c9892d52e05e",
   "metadata": {},
   "outputs": [],
   "source": [
    "faber['alice_transcript_cred_values'] = json.dumps({\n",
    "    \"first_name\": {\"raw\": \"Alice\", \"encoded\": \"1139481716457488690172217916278103335\"},\n",
    "    \"last_name\": {\"raw\": \"Garcia\", \"encoded\": \"5321642780241790123587902456789123452\"},\n",
    "    \"degree\": {\"raw\": \"Bachelor of Science, Marketing\", \"encoded\": \"12434523576212321\"},\n",
    "    \"status\": {\"raw\": \"graduated\", \"encoded\": \"2213454313412354\"},\n",
    "    \"ssn\": {\"raw\": \"123-45-6789\", \"encoded\": \"3124141231422543541\"},\n",
    "    \"year\": {\"raw\": \"2015\", \"encoded\": \"2015\"},\n",
    "    \"average\": {\"raw\": \"5\", \"encoded\": \"5\"}\n",
    "})\n",
    "\n",
    "faber['transcript_cred'], _, _ = \\\n",
    "    await anoncreds.issuer_create_credential(faber['wallet'], faber['transcript_cred_offer'],\n",
    "                                                faber['transcript_cred_request'],\n",
    "                                                faber['alice_transcript_cred_values'], None, None)"
   ]
  },
  {
   "cell_type": "markdown",
   "id": "3a732356-1aca-4b66-8d4d-583b2d168b37",
   "metadata": {
    "tags": []
   },
   "source": [
    "### (7) Faber send \"Transcript\" credential to Alice"
   ]
  },
  {
   "cell_type": "code",
   "execution_count": null,
   "id": "b11e572e-d604-42dc-8aa4-e776d9c8bb83",
   "metadata": {},
   "outputs": [],
   "source": [
    "alice['transcript_cred'] = faber['transcript_cred']"
   ]
  },
  {
   "cell_type": "markdown",
   "id": "deef26ed-3597-4772-bf3d-338e86a298ec",
   "metadata": {},
   "source": [
    "### (8) Alice store \"Transcript\" credential from Faber"
   ]
  },
  {
   "cell_type": "code",
   "execution_count": null,
   "id": "574035a7-4153-4c4f-9ec9-342c29780f2b",
   "metadata": {
    "tags": []
   },
   "outputs": [],
   "source": [
    "_, alice['transcript_cred_def'] = await get_cred_def(alice['pool'], alice['did'],\n",
    "                                                        alice['transcript_cred_def_id'])\n",
    "\n",
    "await anoncreds.prover_store_credential(alice['wallet'], None, alice['transcript_cred_request_metadata'],\n",
    "                                        alice['transcript_cred'], alice['transcript_cred_def'], None)\n",
    "print()"
   ]
  },
  {
   "cell_type": "markdown",
   "id": "cfaa80d4-15f4-42a8-80da-b6d09f03dc79",
   "metadata": {
    "tags": []
   },
   "source": [
    "<br><br><br><hr>\n",
    "\n",
    "# 10. Apply For the Job With Acme - Transcript Proving"
   ]
  },
  {
   "cell_type": "markdown",
   "id": "6c107aae-bc38-4bb2-acbe-fc906ae5b706",
   "metadata": {},
   "source": [
    "## - Credential 검증 관련 함수 정의"
   ]
  },
  {
   "cell_type": "code",
   "execution_count": null,
   "id": "60745918-98ce-4e52-835a-c5923dfeea4d",
   "metadata": {},
   "outputs": [],
   "source": [
    "async def get_credential_for_referent(search_handle, referent):\n",
    "    credentials = json.loads(\n",
    "        await anoncreds.prover_fetch_credentials_for_proof_req(search_handle, referent, 10))\n",
    "    return credentials[0]['cred_info']\n",
    "\n",
    "\n",
    "def get_timestamp_for_attribute(cred_for_attribute, revoc_states):\n",
    "    if cred_for_attribute['rev_reg_id'] in revoc_states:\n",
    "        return int(next(iter(revoc_states[cred_for_attribute['rev_reg_id']])))\n",
    "    else:\n",
    "        return None\n",
    "\n",
    "\n",
    "async def prover_get_entities_from_ledger(pool_handle, _did, identifiers, actor, timestamp_from=None,\n",
    "                                          timestamp_to=None):\n",
    "    schemas = {}\n",
    "    cred_defs = {}\n",
    "    rev_states = {}\n",
    "    for item in identifiers.values():\n",
    "        # logger.info(\"\\\"{}\\\" -> Get Schema from Ledger\".format(actor))\n",
    "        (received_schema_id, received_schema) = await get_schema(pool_handle, _did, item['schema_id'])\n",
    "        schemas[received_schema_id] = json.loads(received_schema)\n",
    "\n",
    "        # logger.info(\"\\\"{}\\\" -> Get Claim Definition from Ledger\".format(actor))\n",
    "        (received_cred_def_id, received_cred_def) = await get_cred_def(pool_handle, _did, item['cred_def_id'])\n",
    "        cred_defs[received_cred_def_id] = json.loads(received_cred_def)\n",
    "\n",
    "        if 'rev_reg_id' in item and item['rev_reg_id'] is not None:\n",
    "            # Create Revocations States\n",
    "            # logger.info(\"\\\"{}\\\" -> Get Revocation Registry Definition from Ledger\".format(actor))\n",
    "            get_revoc_reg_def_request = await ledger.build_get_revoc_reg_def_request(_did, item['rev_reg_id'])\n",
    "\n",
    "            get_revoc_reg_def_response = \\\n",
    "                await ensure_previous_request_applied(pool_handle, get_revoc_reg_def_request,\n",
    "                                                      lambda response: response['result']['data'] is not None)\n",
    "            (rev_reg_id, revoc_reg_def_json) = await ledger.parse_get_revoc_reg_def_response(get_revoc_reg_def_response)\n",
    "\n",
    "            # logger.info(\"\\\"{}\\\" -> Get Revocation Registry Delta from Ledger\".format(actor))\n",
    "            if not timestamp_to: timestamp_to = int(time.time())\n",
    "            get_revoc_reg_delta_request = \\\n",
    "                await ledger.build_get_revoc_reg_delta_request(_did, item['rev_reg_id'], timestamp_from, timestamp_to)\n",
    "            get_revoc_reg_delta_response = \\\n",
    "                await ensure_previous_request_applied(pool_handle, get_revoc_reg_delta_request,\n",
    "                                                      lambda response: response['result']['data'] is not None)\n",
    "            (rev_reg_id, revoc_reg_delta_json, t) = \\\n",
    "                await ledger.parse_get_revoc_reg_delta_response(get_revoc_reg_delta_response)\n",
    "\n",
    "            tails_reader_config = json.dumps(\n",
    "                {'base_dir': dirname(json.loads(revoc_reg_def_json)['value']['tailsLocation']),\n",
    "                 'uri_pattern': ''})\n",
    "            blob_storage_reader_cfg_handle = await blob_storage.open_reader('default', tails_reader_config)\n",
    "\n",
    "            # logger.info('%s - Create Revocation State', actor)\n",
    "            rev_state_json = \\\n",
    "                await anoncreds.create_revocation_state(blob_storage_reader_cfg_handle, revoc_reg_def_json,\n",
    "                                                        revoc_reg_delta_json, t, item['cred_rev_id'])\n",
    "            rev_states[rev_reg_id] = {t: json.loads(rev_state_json)}\n",
    "\n",
    "    return json.dumps(schemas), json.dumps(cred_defs), json.dumps(rev_states)\n",
    "\n",
    "\n",
    "async def verifier_get_entities_from_ledger(pool_handle, _did, identifiers, actor, timestamp=None):\n",
    "    schemas = {}\n",
    "    cred_defs = {}\n",
    "    rev_reg_defs = {}\n",
    "    rev_regs = {}\n",
    "    for item in identifiers:\n",
    "        # logger.info(\"\\\"{}\\\" -> Get Schema from Ledger\".format(actor))\n",
    "        (received_schema_id, received_schema) = await get_schema(pool_handle, _did, item['schema_id'])\n",
    "        schemas[received_schema_id] = json.loads(received_schema)\n",
    "\n",
    "        # logger.info(\"\\\"{}\\\" -> Get Claim Definition from Ledger\".format(actor))\n",
    "        (received_cred_def_id, received_cred_def) = await get_cred_def(pool_handle, _did, item['cred_def_id'])\n",
    "        cred_defs[received_cred_def_id] = json.loads(received_cred_def)\n",
    "\n",
    "        if 'rev_reg_id' in item and item['rev_reg_id'] is not None:\n",
    "            # Get Revocation Definitions and Revocation Registries\n",
    "            # logger.info(\"\\\"{}\\\" -> Get Revocation Definition from Ledger\".format(actor))\n",
    "            get_revoc_reg_def_request = await ledger.build_get_revoc_reg_def_request(_did, item['rev_reg_id'])\n",
    "\n",
    "            get_revoc_reg_def_response = \\\n",
    "                await ensure_previous_request_applied(pool_handle, get_revoc_reg_def_request,\n",
    "                                                      lambda response: response['result']['data'] is not None)\n",
    "            (rev_reg_id, revoc_reg_def_json) = await ledger.parse_get_revoc_reg_def_response(get_revoc_reg_def_response)\n",
    "\n",
    "            # logger.info(\"\\\"{}\\\" -> Get Revocation Registry from Ledger\".format(actor))\n",
    "            if not timestamp: timestamp = item['timestamp']\n",
    "            get_revoc_reg_request = \\\n",
    "                await ledger.build_get_revoc_reg_request(_did, item['rev_reg_id'], timestamp)\n",
    "            get_revoc_reg_response = \\\n",
    "                await ensure_previous_request_applied(pool_handle, get_revoc_reg_request,\n",
    "                                                      lambda response: response['result']['data'] is not None)\n",
    "            (rev_reg_id, rev_reg_json, timestamp2) = await ledger.parse_get_revoc_reg_response(get_revoc_reg_response)\n",
    "\n",
    "            rev_regs[rev_reg_id] = {timestamp2: json.loads(rev_reg_json)}\n",
    "            rev_reg_defs[rev_reg_id] = json.loads(revoc_reg_def_json)\n",
    "\n",
    "    return json.dumps(schemas), json.dumps(cred_defs), json.dumps(rev_reg_defs), json.dumps(rev_regs)"
   ]
  },
  {
   "cell_type": "markdown",
   "id": "56d24a46-49e7-47bb-a6eb-4324ef02f6dc",
   "metadata": {},
   "source": [
    "### (1) Acme create \"Job-Application\" proof request"
   ]
  },
  {
   "cell_type": "code",
   "execution_count": null,
   "id": "3faea7ac-cb46-4c2c-96e3-e848e65acf12",
   "metadata": {},
   "outputs": [],
   "source": [
    "nonce = await anoncreds.generate_nonce()\n",
    "\n",
    "acme['job_application_proof_request'] = json.dumps({\n",
    "    'nonce': nonce,\n",
    "    'name': 'Job-Application',\n",
    "    'version': '0.1',\n",
    "    'requested_attributes': {\n",
    "        'attr1_referent': {\n",
    "            'name': 'first_name'\n",
    "        },\n",
    "        'attr2_referent': {\n",
    "            'name': 'last_name'\n",
    "        },\n",
    "        'attr3_referent': {\n",
    "            'name': 'degree',\n",
    "            'restrictions': [{'cred_def_id': faber['transcript_cred_def_id']}]\n",
    "        },\n",
    "        'attr4_referent': {\n",
    "            'name': 'status',\n",
    "            'restrictions': [{'cred_def_id': faber['transcript_cred_def_id']}]\n",
    "        },\n",
    "        'attr5_referent': {\n",
    "            'name': 'ssn',\n",
    "            'restrictions': [{'cred_def_id': faber['transcript_cred_def_id']}]\n",
    "        },\n",
    "        'attr6_referent': {\n",
    "            'name': 'phone_number'\n",
    "        }\n",
    "    },\n",
    "    'requested_predicates': {\n",
    "        'predicate1_referent': {\n",
    "            'name': 'average',\n",
    "            'p_type': '>=',\n",
    "            'p_value': 4,\n",
    "            'restrictions': [{'cred_def_id': faber['transcript_cred_def_id']}]\n",
    "        }\n",
    "    }\n",
    "})"
   ]
  },
  {
   "cell_type": "markdown",
   "id": "2dcd4809-8b53-4aa3-b20b-898f1052d511",
   "metadata": {},
   "source": [
    "### (2) Acme send \"Job-Application\" proof request to Alice"
   ]
  },
  {
   "cell_type": "code",
   "execution_count": null,
   "id": "2327a50e-c91b-4f93-93ec-eb2d9672c758",
   "metadata": {},
   "outputs": [],
   "source": [
    "alice['job_application_proof_request'] = acme['job_application_proof_request']"
   ]
  },
  {
   "cell_type": "markdown",
   "id": "75368786-a0ff-4ee1-a640-bdf27a6645fb",
   "metadata": {},
   "source": [
    "### (3) Alice get credentials for \"Job-Application\" proof request"
   ]
  },
  {
   "cell_type": "code",
   "execution_count": null,
   "id": "467b6e63-fec2-4641-afc7-76a5584a8741",
   "metadata": {},
   "outputs": [],
   "source": [
    "search_for_job_application_proof_request = \\\n",
    "    await anoncreds.prover_search_credentials_for_proof_req(alice['wallet'],\n",
    "                                                            alice['job_application_proof_request'], None)\n",
    "\n",
    "cred_for_attr1 = await get_credential_for_referent(search_for_job_application_proof_request, 'attr1_referent')\n",
    "cred_for_attr2 = await get_credential_for_referent(search_for_job_application_proof_request, 'attr2_referent')\n",
    "cred_for_attr3 = await get_credential_for_referent(search_for_job_application_proof_request, 'attr3_referent')\n",
    "cred_for_attr4 = await get_credential_for_referent(search_for_job_application_proof_request, 'attr4_referent')\n",
    "cred_for_attr5 = await get_credential_for_referent(search_for_job_application_proof_request, 'attr5_referent')\n",
    "cred_for_predicate1 = \\\n",
    "    await get_credential_for_referent(search_for_job_application_proof_request, 'predicate1_referent')\n",
    "\n",
    "await anoncreds.prover_close_credentials_search_for_proof_req(search_for_job_application_proof_request)\n",
    "\n",
    "alice['creds_for_job_application_proof'] = {cred_for_attr1['referent']: cred_for_attr1,\n",
    "                                            cred_for_attr2['referent']: cred_for_attr2,\n",
    "                                            cred_for_attr3['referent']: cred_for_attr3,\n",
    "                                            cred_for_attr4['referent']: cred_for_attr4,\n",
    "                                            cred_for_attr5['referent']: cred_for_attr5,\n",
    "                                            cred_for_predicate1['referent']: cred_for_predicate1}\n",
    "\n",
    "alice['schemas_for_job_application'], alice['cred_defs_for_job_application'], \\\n",
    "alice['revoc_states_for_job_application'] = \\\n",
    "    await prover_get_entities_from_ledger(alice['pool'], alice['did'],\n",
    "                                            alice['creds_for_job_application_proof'], alice['name'])"
   ]
  },
  {
   "cell_type": "markdown",
   "id": "ba593365-dd29-47bd-8aaf-61e4c5d1eda2",
   "metadata": {},
   "source": [
    "### (4) Alice create \"Job-certificate\" proof"
   ]
  },
  {
   "cell_type": "code",
   "execution_count": null,
   "id": "d5c0e6cc-7b75-4117-9ed3-22fc70d789ca",
   "metadata": {},
   "outputs": [],
   "source": [
    "alice['job_application_requested_creds'] = json.dumps({\n",
    "    'self_attested_attributes': {\n",
    "        'attr1_referent': 'Alice',\n",
    "        'attr2_referent': 'Garcia',\n",
    "        'attr6_referent': '123-45-6789'\n",
    "    },\n",
    "    'requested_attributes': {\n",
    "        'attr3_referent': {'cred_id': cred_for_attr3['referent'], 'revealed': True},\n",
    "        'attr4_referent': {'cred_id': cred_for_attr4['referent'], 'revealed': True},\n",
    "        'attr5_referent': {'cred_id': cred_for_attr5['referent'], 'revealed': True},\n",
    "    },\n",
    "    'requested_predicates': {'predicate1_referent': {'cred_id': cred_for_predicate1['referent']}}\n",
    "})\n",
    "\n",
    "alice['job_application_proof'] = \\\n",
    "    await anoncreds.prover_create_proof(alice['wallet'], alice['job_application_proof_request'],\n",
    "                                        alice['job_application_requested_creds'], alice['master_secret_id'],\n",
    "                                        alice['schemas_for_job_application'],\n",
    "                                        alice['cred_defs_for_job_application'],\n",
    "                                        alice['revoc_states_for_job_application'])"
   ]
  },
  {
   "cell_type": "markdown",
   "id": "bf12887e-d5f3-42db-83e0-d1af45bd4268",
   "metadata": {},
   "source": [
    "### (5) Alice send \"Job-Application\" proof to Acme"
   ]
  },
  {
   "cell_type": "code",
   "execution_count": null,
   "id": "628a18ba-cea9-4bf0-813e-146a0ac9cccd",
   "metadata": {},
   "outputs": [],
   "source": [
    "acme['job_application_proof'] = alice['job_application_proof']\n",
    "\n",
    "job_application_proof_object = json.loads(acme['job_application_proof'])\n",
    "\n",
    "acme['schemas_for_job_application'], acme['cred_defs_for_job_application'], \\\n",
    "acme['revoc_ref_defs_for_job_application'], acme['revoc_regs_for_job_application'] = \\\n",
    "    await verifier_get_entities_from_ledger(acme['pool'], acme['did'],\n",
    "                                            job_application_proof_object['identifiers'], acme['name'])"
   ]
  },
  {
   "cell_type": "markdown",
   "id": "abb39688-47ab-454d-afc5-9c2f503266df",
   "metadata": {},
   "source": [
    "### (6) Acme verify \"Job-Application\" proof from Alice"
   ]
  },
  {
   "cell_type": "code",
   "execution_count": null,
   "id": "94ffdda0-2078-469f-a374-75559388c854",
   "metadata": {},
   "outputs": [],
   "source": [
    "assert 'Bachelor of Science, Marketing' == \\\n",
    "        job_application_proof_object['requested_proof']['revealed_attrs']['attr3_referent']['raw']\n",
    "assert 'graduated' == \\\n",
    "        job_application_proof_object['requested_proof']['revealed_attrs']['attr4_referent']['raw']\n",
    "assert '123-45-6789' == \\\n",
    "        job_application_proof_object['requested_proof']['revealed_attrs']['attr5_referent']['raw']\n",
    "\n",
    "assert 'Alice' == job_application_proof_object['requested_proof']['self_attested_attrs']['attr1_referent']\n",
    "assert 'Garcia' == job_application_proof_object['requested_proof']['self_attested_attrs']['attr2_referent']\n",
    "assert '123-45-6789' == job_application_proof_object['requested_proof']['self_attested_attrs']['attr6_referent']\n",
    "\n",
    "assert await anoncreds.verifier_verify_proof(acme['job_application_proof_request'], acme['job_application_proof'],\n",
    "                                                acme['schemas_for_job_application'],\n",
    "                                                acme['cred_defs_for_job_application'],\n",
    "                                                acme['revoc_ref_defs_for_job_application'],\n",
    "                                                acme['revoc_regs_for_job_application'])"
   ]
  },
  {
   "cell_type": "markdown",
   "id": "f3ab3595-febf-4c55-8d01-78bc8495c234",
   "metadata": {
    "tags": []
   },
   "source": [
    "<br><br><br><hr>\n",
    "\n",
    "# 11. Apply for the job with Acme - Getting Job-Certificate Credential"
   ]
  },
  {
   "cell_type": "code",
   "execution_count": null,
   "id": "dc2e6027-60c0-4194-a705-b3f19b3b9a3c",
   "metadata": {},
   "outputs": [],
   "source": [
    "# logger.info(\"\\\"Acme\\\" -> Create \\\"Job-Certificate\\\" Credential Offer for Alice\")"
   ]
  },
  {
   "cell_type": "code",
   "execution_count": null,
   "id": "cbfbd0f1-b9ea-4bd1-b5fb-e639906e7ab0",
   "metadata": {},
   "outputs": [],
   "source": [
    "acme['job_certificate_cred_offer'] = \\\n",
    "    await anoncreds.issuer_create_credential_offer(acme['wallet'], acme['job_certificate_cred_def_id'])"
   ]
  },
  {
   "cell_type": "code",
   "execution_count": null,
   "id": "5119f42b-db77-44a0-806f-5b2e0b135006",
   "metadata": {},
   "outputs": [],
   "source": [
    "# logger.info(\"\\\"Acme\\\" -> Send \\\"Job-Certificate\\\" Credential Offer to Alice\")"
   ]
  },
  {
   "cell_type": "code",
   "execution_count": null,
   "id": "dd921d54-418a-47ef-bf02-134494690ed0",
   "metadata": {},
   "outputs": [],
   "source": [
    "alice['job_certificate_cred_offer'] = acme['job_certificate_cred_offer']\n",
    "job_certificate_cred_offer_object = json.loads(alice['job_certificate_cred_offer'])"
   ]
  },
  {
   "cell_type": "code",
   "execution_count": null,
   "id": "ec9f4dd4-f0e2-4d3c-b4c5-adee332a7e8b",
   "metadata": {},
   "outputs": [],
   "source": [
    "# logger.info(\"\\\"Alice\\\" -> Get \\\"Acme Job-Certificate\\\" Credential Definition from Ledger\")"
   ]
  },
  {
   "cell_type": "code",
   "execution_count": null,
   "id": "beacf59a-a4cd-45c5-a438-e4db0950eb7b",
   "metadata": {},
   "outputs": [],
   "source": [
    "(alice['acme_job_certificate_cred_def_id'], alice['acme_job_certificate_cred_def']) = \\\n",
    "    await get_cred_def(alice['pool'], alice['did'], job_certificate_cred_offer_object['cred_def_id'])"
   ]
  },
  {
   "cell_type": "code",
   "execution_count": null,
   "id": "301edc15-b0f2-46fa-8b46-5ab7e1cdceb8",
   "metadata": {},
   "outputs": [],
   "source": [
    "# logger.info(\"\\\"Alice\\\" -> Create and store in Wallet \\\"Job-Certificate\\\" Credential Request for Acme\")"
   ]
  },
  {
   "cell_type": "code",
   "execution_count": null,
   "id": "fa79188a-4bf6-4b18-a8c0-21a964d18321",
   "metadata": {},
   "outputs": [],
   "source": [
    "(alice['job_certificate_cred_request'], alice['job_certificate_cred_request_metadata']) = \\\n",
    "    await anoncreds.prover_create_credential_req(alice['wallet'], alice['did'],\n",
    "                                                    alice['job_certificate_cred_offer'],\n",
    "                                                    alice['acme_job_certificate_cred_def'], alice['master_secret_id'])"
   ]
  },
  {
   "cell_type": "code",
   "execution_count": null,
   "id": "2f3efc23-eb43-4ac2-a062-24a9679b579f",
   "metadata": {},
   "outputs": [],
   "source": [
    "# logger.info(\"\\\"Alice\\\" -> Send \\\"Job-Certificate\\\" Credential Request to Acme\")"
   ]
  },
  {
   "cell_type": "code",
   "execution_count": null,
   "id": "0e8a393b-d507-4660-955b-3380161995b9",
   "metadata": {},
   "outputs": [],
   "source": [
    "alice['job_certificate_cred_values'] = json.dumps({\n",
    "    \"first_name\": {\"raw\": \"Alice\", \"encoded\": \"245712572474217942457235975012103335\"},\n",
    "    \"last_name\": {\"raw\": \"Garcia\", \"encoded\": \"312643218496194691632153761283356127\"},\n",
    "    \"employee_status\": {\"raw\": \"Permanent\", \"encoded\": \"2143135425425143112321314321\"},\n",
    "    \"salary\": {\"raw\": \"2400\", \"encoded\": \"2400\"},\n",
    "    \"experience\": {\"raw\": \"10\", \"encoded\": \"10\"}\n",
    "})\n",
    "acme['job_certificate_cred_request'] = alice['job_certificate_cred_request']\n",
    "acme['job_certificate_cred_values'] = alice['job_certificate_cred_values']"
   ]
  },
  {
   "cell_type": "code",
   "execution_count": null,
   "id": "e47dac0f-d16d-401c-89a6-968646bc6124",
   "metadata": {},
   "outputs": [],
   "source": [
    "# logger.info(\"\\\"Acme\\\" -> Create \\\"Job-Certificate\\\" Credential for Alice\")"
   ]
  },
  {
   "cell_type": "code",
   "execution_count": null,
   "id": "73a4877b-d28a-4984-91d4-189c4f257eca",
   "metadata": {},
   "outputs": [],
   "source": [
    "acme['blob_storage_reader_cfg_handle'] = await blob_storage.open_reader('default', acme['tails_writer_config'])\n",
    "acme['job_certificate_cred'], acme['job_certificate_cred_rev_id'], acme['alice_cert_rev_reg_delta'] = \\\n",
    "    await anoncreds.issuer_create_credential(acme['wallet'], acme['job_certificate_cred_offer'],\n",
    "                                                acme['job_certificate_cred_request'],\n",
    "                                                acme['job_certificate_cred_values'],\n",
    "                                                acme['revoc_reg_id'],\n",
    "                                                acme['blob_storage_reader_cfg_handle'])"
   ]
  },
  {
   "cell_type": "code",
   "execution_count": null,
   "id": "febcffb4-d33f-4d84-b126-b4354b154110",
   "metadata": {},
   "outputs": [],
   "source": [
    "# logger.info(\"\\\"Acme\\\" -> Post Revocation Registry Delta to Ledger\")"
   ]
  },
  {
   "cell_type": "code",
   "execution_count": null,
   "id": "1beba660-4a37-4a1b-9fd9-96067ea8d3be",
   "metadata": {},
   "outputs": [],
   "source": [
    "acme['revoc_reg_entry_req'] = \\\n",
    "    await ledger.build_revoc_reg_entry_request(acme['did'], acme['revoc_reg_id'], 'CL_ACCUM',\n",
    "                                                acme['alice_cert_rev_reg_delta'])\n",
    "await ledger.sign_and_submit_request(acme['pool'], acme['wallet'], acme['did'], acme['revoc_reg_entry_req'])\n",
    "print()"
   ]
  },
  {
   "cell_type": "code",
   "execution_count": null,
   "id": "506e41a0-d1ee-4868-b6d4-7b31a451f316",
   "metadata": {},
   "outputs": [],
   "source": [
    "# logger.info(\"\\\"Acme\\\" -> Send \\\"Job-Certificate\\\" Credential to Alice\")"
   ]
  },
  {
   "cell_type": "code",
   "execution_count": null,
   "id": "b81bd065-9b18-4ca7-adf3-db47549d27fc",
   "metadata": {},
   "outputs": [],
   "source": [
    "alice['job_certificate_cred'] = acme['job_certificate_cred']\n",
    "job_certificate_cred_object = json.loads(alice['job_certificate_cred'])"
   ]
  },
  {
   "cell_type": "code",
   "execution_count": null,
   "id": "5eaf5d39-097a-49a8-9cf8-1470677b8ef6",
   "metadata": {},
   "outputs": [],
   "source": [
    "# logger.info(\"\\\"Alice\\\" -> Gets RevocationRegistryDefinition for \\\"Job-Certificate\\\" Credential from Acme\")"
   ]
  },
  {
   "cell_type": "code",
   "execution_count": null,
   "id": "fc2bbad0-0f50-4c22-b8f3-7f728cfd58b6",
   "metadata": {},
   "outputs": [],
   "source": [
    "alice['acme_revoc_reg_des_req'] = \\\n",
    "    await ledger.build_get_revoc_reg_def_request(alice['did'],\n",
    "                                                    job_certificate_cred_object['rev_reg_id'])\n",
    "alice['acme_revoc_reg_des_resp'] = \\\n",
    "    await ensure_previous_request_applied(alice['pool'], alice['acme_revoc_reg_des_req'],\n",
    "                                            lambda response: response['result']['data'] is not None)\n",
    "(alice['acme_revoc_reg_def_id'], alice['acme_revoc_reg_def_json']) = \\\n",
    "    await ledger.parse_get_revoc_reg_def_response(alice['acme_revoc_reg_des_resp'])"
   ]
  },
  {
   "cell_type": "code",
   "execution_count": null,
   "id": "bef54f44-9625-4f6c-b746-d9515eb52655",
   "metadata": {},
   "outputs": [],
   "source": [
    "# logger.info(\"\\\"Alice\\\" -> Store \\\"Job-Certificate\\\" Credential\")"
   ]
  },
  {
   "cell_type": "code",
   "execution_count": null,
   "id": "701c8d25-5bcc-4201-8a89-0a2858d4d459",
   "metadata": {
    "tags": []
   },
   "outputs": [],
   "source": [
    "await anoncreds.prover_store_credential(alice['wallet'], None, alice['job_certificate_cred_request_metadata'],\n",
    "                                        alice['job_certificate_cred'],\n",
    "                                        alice['acme_job_certificate_cred_def'], alice['acme_revoc_reg_def_json'])\n",
    "print()"
   ]
  },
  {
   "cell_type": "markdown",
   "id": "06bd03b5-929c-4f8d-bfb1-7b423f431985",
   "metadata": {
    "tags": []
   },
   "source": [
    "<br><br><br><hr>\n",
    "\n",
    "# 12. Apply for the loan with Thrift - Job-Certificate proving"
   ]
  },
  {
   "cell_type": "code",
   "execution_count": null,
   "id": "67762eb6-a55d-4598-9486-bcea94916f8f",
   "metadata": {},
   "outputs": [],
   "source": [
    "# logger.info(\"\\\"Thrift\\\" -> Create \\\"Loan-Application-Basic\\\" Proof Request\")\n",
    "nonce = await anoncreds.generate_nonce()\n",
    "thrift['apply_loan_proof_request'] = json.dumps({\n",
    "    'nonce': nonce,\n",
    "    'name': 'Loan-Application-Basic',\n",
    "    'version': '0.1',\n",
    "    'requested_attributes': {\n",
    "        'attr1_referent': {\n",
    "            'name': 'employee_status',\n",
    "            'restrictions': [{'cred_def_id': acme['job_certificate_cred_def_id']}]\n",
    "        }\n",
    "    },\n",
    "    'requested_predicates': {\n",
    "        'predicate1_referent': {\n",
    "            'name': 'salary',\n",
    "            'p_type': '>=',\n",
    "            'p_value': 2000,\n",
    "            'restrictions': [{'cred_def_id': acme['job_certificate_cred_def_id']}]\n",
    "        },\n",
    "        'predicate2_referent': {\n",
    "            'name': 'experience',\n",
    "            'p_type': '>=',\n",
    "            'p_value': 1,\n",
    "            'restrictions': [{'cred_def_id': acme['job_certificate_cred_def_id']}]\n",
    "        }\n",
    "    },\n",
    "    'non_revoked': {'to': int(time.time())}\n",
    "})"
   ]
  },
  {
   "cell_type": "code",
   "execution_count": null,
   "id": "ab052bff-b509-45ac-8a01-53407500232a",
   "metadata": {},
   "outputs": [],
   "source": [
    "# logger.info(\"\\\"Thrift\\\" -> Send \\\"Loan-Application-Basic\\\" Proof Request to Alice\")\n",
    "alice['apply_loan_proof_request'] = thrift['apply_loan_proof_request']"
   ]
  },
  {
   "cell_type": "code",
   "execution_count": null,
   "id": "d3d16e80-0319-4fa2-8041-da9ceef02875",
   "metadata": {},
   "outputs": [],
   "source": [
    "# logger.info(\"\\\"Alice\\\" -> Get credentials for \\\"Loan-Application-Basic\\\" Proof Request\")\n",
    "search_for_apply_loan_proof_request = \\\n",
    "    await anoncreds.prover_search_credentials_for_proof_req(alice['wallet'],\n",
    "                                                            alice['apply_loan_proof_request'], None)\n",
    "\n",
    "cred_for_attr1 = await get_credential_for_referent(search_for_apply_loan_proof_request, 'attr1_referent')\n",
    "cred_for_predicate1 = await get_credential_for_referent(search_for_apply_loan_proof_request,\n",
    "                                                        'predicate1_referent')\n",
    "cred_for_predicate2 = await get_credential_for_referent(search_for_apply_loan_proof_request,\n",
    "                                                        'predicate2_referent')\n",
    "\n",
    "await anoncreds.prover_close_credentials_search_for_proof_req(search_for_apply_loan_proof_request)\n",
    "\n",
    "alice['creds_for_apply_loan_proof'] = {cred_for_attr1['referent']: cred_for_attr1,\n",
    "                                        cred_for_predicate1['referent']: cred_for_predicate1,\n",
    "                                        cred_for_predicate2['referent']: cred_for_predicate2}\n",
    "\n",
    "requested_timestamp = int(json.loads(thrift['apply_loan_proof_request'])['non_revoked']['to'])\n",
    "alice['schemas_for_loan_app'], alice['cred_defs_for_loan_app'], alice['revoc_states_for_loan_app'] = \\\n",
    "    await prover_get_entities_from_ledger(alice['pool'], alice['did'],\n",
    "                                            alice['creds_for_apply_loan_proof'],\n",
    "                                            alice['name'], None, requested_timestamp)"
   ]
  },
  {
   "cell_type": "code",
   "execution_count": null,
   "id": "443b0a39-f130-4183-b170-49f4a74f2d6a",
   "metadata": {},
   "outputs": [],
   "source": [
    "# logger.info(\"\\\"Alice\\\" -> Create \\\"Loan-Application-Basic\\\" Proof\")\n",
    "revoc_states_for_loan_app = json.loads(alice['revoc_states_for_loan_app'])\n",
    "timestamp_for_attr1 = get_timestamp_for_attribute(cred_for_attr1, revoc_states_for_loan_app)\n",
    "timestamp_for_predicate1 = get_timestamp_for_attribute(cred_for_predicate1, revoc_states_for_loan_app)\n",
    "timestamp_for_predicate2 = get_timestamp_for_attribute(cred_for_predicate2, revoc_states_for_loan_app)\n",
    "alice['apply_loan_requested_creds'] = json.dumps({\n",
    "    'self_attested_attributes': {},\n",
    "    'requested_attributes': {\n",
    "        'attr1_referent': {'cred_id': cred_for_attr1['referent'], 'revealed': True,\n",
    "                            'timestamp': timestamp_for_attr1}\n",
    "    },\n",
    "    'requested_predicates': {\n",
    "        'predicate1_referent': {'cred_id': cred_for_predicate1['referent'],\n",
    "                                'timestamp': timestamp_for_predicate1},\n",
    "        'predicate2_referent': {'cred_id': cred_for_predicate2['referent'],\n",
    "                                'timestamp': timestamp_for_predicate2}\n",
    "    }\n",
    "})\n",
    "alice['apply_loan_proof'] = \\\n",
    "    await anoncreds.prover_create_proof(alice['wallet'], alice['apply_loan_proof_request'],\n",
    "                                        alice['apply_loan_requested_creds'], alice['master_secret_id'],\n",
    "                                        alice['schemas_for_loan_app'], alice['cred_defs_for_loan_app'],\n",
    "                                        alice['revoc_states_for_loan_app'])"
   ]
  },
  {
   "cell_type": "code",
   "execution_count": null,
   "id": "8a172a3d-5457-4272-90b3-bcfbb9c82056",
   "metadata": {},
   "outputs": [],
   "source": [
    "# logger.info(\"\\\"Alice\\\" -> Send \\\"Loan-Application-Basic\\\" Proof to Thrift\")\n",
    "thrift['apply_loan_proof'] = alice['apply_loan_proof']\n",
    "apply_loan_proof_object = json.loads(thrift['apply_loan_proof'])"
   ]
  },
  {
   "cell_type": "code",
   "execution_count": null,
   "id": "11e9ef79-9a89-41fe-96b4-50a9eec10dc2",
   "metadata": {},
   "outputs": [],
   "source": [
    "# logger.info(\"\\\"Thrift\\\" -> Get Schemas, Credential Definitions and Revocation Registries from Ledger required for Proof verifying\")\n",
    "\n",
    "thrift['schemas_for_loan_app'], thrift['cred_defs_for_loan_app'], thrift['revoc_defs_for_loan_app'], \\\n",
    "thrift['revoc_regs_for_loan_app'] = \\\n",
    "    await verifier_get_entities_from_ledger(thrift['pool'], thrift['did'],\n",
    "                                            apply_loan_proof_object['identifiers'],\n",
    "                                            thrift['name'], requested_timestamp)"
   ]
  },
  {
   "cell_type": "code",
   "execution_count": null,
   "id": "45058bda-0898-4b64-b578-dbc385cca3f2",
   "metadata": {},
   "outputs": [],
   "source": [
    "# logger.info(\"\\\"Thrift\\\" -> Verify \\\"Loan-Application-Basic\\\" Proof from Alice\")\n",
    "assert 'Permanent' == apply_loan_proof_object['requested_proof']['revealed_attrs']['attr1_referent']['raw']\n",
    "\n",
    "assert await anoncreds.verifier_verify_proof(thrift['apply_loan_proof_request'],\n",
    "                                                thrift['apply_loan_proof'],\n",
    "                                                thrift['schemas_for_loan_app'],\n",
    "                                                thrift['cred_defs_for_loan_app'],\n",
    "                                                thrift['revoc_defs_for_loan_app'],\n",
    "                                                thrift['revoc_regs_for_loan_app'])"
   ]
  },
  {
   "cell_type": "markdown",
   "id": "af5c9986-2e5a-4311-a94a-da2bc0ee64e6",
   "metadata": {
    "tags": []
   },
   "source": [
    "<br><br><br><hr>\n",
    "\n",
    "# 13. Apply for the loan with Thrift - Transcript and Job-Certificate proving"
   ]
  },
  {
   "cell_type": "code",
   "execution_count": null,
   "id": "9074342c-0e53-423a-9b73-bae90a746e08",
   "metadata": {},
   "outputs": [],
   "source": [
    "# logger.info(\"\\\"Thrift\\\" -> Create \\\"Loan-Application-KYC\\\" Proof Request\")\n",
    "nonce = await anoncreds.generate_nonce()\n",
    "thrift['apply_loan_kyc_proof_request'] = json.dumps({\n",
    "    'nonce': nonce,\n",
    "    'name': 'Loan-Application-KYC',\n",
    "    'version': '0.1',\n",
    "    'requested_attributes': {\n",
    "        'attr1_referent': {'name': 'first_name'},\n",
    "        'attr2_referent': {'name': 'last_name'},\n",
    "        'attr3_referent': {'name': 'ssn'}\n",
    "    },\n",
    "    'requested_predicates': {}\n",
    "})"
   ]
  },
  {
   "cell_type": "code",
   "execution_count": null,
   "id": "905a5b2d-40b7-4c33-a163-6b9686f376b9",
   "metadata": {},
   "outputs": [],
   "source": [
    "# logger.info(\"\\\"Thrift\\\" -> Send \\\"Loan-Application-KYC\\\" Proof Request to Alice\")\n",
    "alice['apply_loan_kyc_proof_request'] = thrift['apply_loan_kyc_proof_request']"
   ]
  },
  {
   "cell_type": "code",
   "execution_count": null,
   "id": "8d416d2f-a96e-46f5-b68f-2cd8b30c1d76",
   "metadata": {},
   "outputs": [],
   "source": [
    "# logger.info(\"\\\"Alice\\\" -> Get credentials for \\\"Loan-Application-KYC\\\" Proof Request\")\n",
    "\n",
    "search_for_apply_loan_kyc_proof_request = \\\n",
    "    await anoncreds.prover_search_credentials_for_proof_req(alice['wallet'],\n",
    "                                                            alice['apply_loan_kyc_proof_request'], None)\n",
    "\n",
    "cred_for_attr1 = await get_credential_for_referent(search_for_apply_loan_kyc_proof_request, 'attr1_referent')\n",
    "cred_for_attr2 = await get_credential_for_referent(search_for_apply_loan_kyc_proof_request, 'attr2_referent')\n",
    "cred_for_attr3 = await get_credential_for_referent(search_for_apply_loan_kyc_proof_request, 'attr3_referent')\n",
    "\n",
    "await anoncreds.prover_close_credentials_search_for_proof_req(search_for_apply_loan_kyc_proof_request)\n",
    "\n",
    "alice['creds_for_apply_loan_kyc_proof'] = {cred_for_attr1['referent']: cred_for_attr1,\n",
    "                                            cred_for_attr2['referent']: cred_for_attr2,\n",
    "                                            cred_for_attr3['referent']: cred_for_attr3}\n",
    "\n",
    "alice['schemas_for_loan_kyc_app'], alice['cred_defs_for_loan_kyc_app'], alice['revoc_states_for_loan_kyc_app'] = \\\n",
    "    await prover_get_entities_from_ledger(alice['pool'], alice['did'],\n",
    "                                            alice['creds_for_apply_loan_kyc_proof'], alice['name'], )"
   ]
  },
  {
   "cell_type": "code",
   "execution_count": null,
   "id": "e2b6a22d-a8a4-414b-b7f0-77b735511b9f",
   "metadata": {},
   "outputs": [],
   "source": [
    "# logger.info(\"\\\"Alice\\\" -> Create \\\"Loan-Application-KYC\\\" Proof\")\n",
    "revoc_states_for_loan_app = json.loads(alice['revoc_states_for_loan_kyc_app'])\n",
    "timestamp_for_attr1 = get_timestamp_for_attribute(cred_for_attr1, revoc_states_for_loan_app)\n",
    "timestamp_for_attr2 = get_timestamp_for_attribute(cred_for_attr2, revoc_states_for_loan_app)\n",
    "timestamp_for_attr3 = get_timestamp_for_attribute(cred_for_attr3, revoc_states_for_loan_app)\n",
    "alice['apply_loan_kyc_requested_creds'] = json.dumps({\n",
    "    'self_attested_attributes': {},\n",
    "    'requested_attributes': {\n",
    "        'attr1_referent': {'cred_id': cred_for_attr1['referent'], 'revealed': True,\n",
    "                            'timestamp': timestamp_for_attr1},\n",
    "        'attr2_referent': {'cred_id': cred_for_attr2['referent'], 'revealed': True,\n",
    "                            'timestamp': timestamp_for_attr2},\n",
    "        'attr3_referent': {'cred_id': cred_for_attr3['referent'], 'revealed': True,\n",
    "                            'timestamp': timestamp_for_attr3}\n",
    "    },\n",
    "    'requested_predicates': {}\n",
    "})\n",
    "\n",
    "alice['apply_loan_kyc_proof'] = \\\n",
    "    await anoncreds.prover_create_proof(alice['wallet'], alice['apply_loan_kyc_proof_request'],\n",
    "                                        alice['apply_loan_kyc_requested_creds'], alice['master_secret_id'],\n",
    "                                        alice['schemas_for_loan_kyc_app'], alice['cred_defs_for_loan_kyc_app'],\n",
    "                                        alice['revoc_states_for_loan_kyc_app'])"
   ]
  },
  {
   "cell_type": "code",
   "execution_count": null,
   "id": "02fafd9b-2b4b-4a21-bcbf-e13be6291399",
   "metadata": {},
   "outputs": [],
   "source": [
    "# logger.info(\"\\\"Alice\\\" -> Send \\\"Loan-Application-KYC\\\" Proof to Thrift\")\n",
    "thrift['apply_loan_kyc_proof'] = alice['apply_loan_kyc_proof']\n",
    "apply_loan_kyc_proof_object = json.loads(thrift['apply_loan_kyc_proof'])"
   ]
  },
  {
   "cell_type": "code",
   "execution_count": null,
   "id": "a21964a3-0791-4ffe-bc16-bf5766d7c574",
   "metadata": {},
   "outputs": [],
   "source": [
    "# logger.info(\"\\\"Thrift\\\" -> Get Schemas, Credential Definitions and Revocation Registries from Ledger required for Proof verifying\")\n",
    "\n",
    "thrift['schemas_for_loan_kyc_app'], thrift['cred_defs_for_loan_kyc_app'], thrift['revoc_defs_for_loan_kyc_app'], \\\n",
    "thrift['revoc_regs_for_loan_kyc_app'] = \\\n",
    "    await verifier_get_entities_from_ledger(thrift['pool'], thrift['did'],\n",
    "                                            apply_loan_kyc_proof_object['identifiers'], thrift['name'])"
   ]
  },
  {
   "cell_type": "code",
   "execution_count": null,
   "id": "1f389e47-6f03-4b57-8bf6-b91f9a99f427",
   "metadata": {},
   "outputs": [],
   "source": [
    "# logger.info(\"\\\"Thrift\\\" -> Verify \\\"Loan-Application-KYC\\\" Proof from Alice\")\n",
    "assert 'Alice' == \\\n",
    "        apply_loan_kyc_proof_object['requested_proof']['revealed_attrs']['attr1_referent']['raw']\n",
    "assert 'Garcia' == \\\n",
    "        apply_loan_kyc_proof_object['requested_proof']['revealed_attrs']['attr2_referent']['raw']\n",
    "assert '123-45-6789' == \\\n",
    "        apply_loan_kyc_proof_object['requested_proof']['revealed_attrs']['attr3_referent']['raw']\n",
    "\n",
    "assert await anoncreds.verifier_verify_proof(thrift['apply_loan_kyc_proof_request'],\n",
    "                                                thrift['apply_loan_kyc_proof'],\n",
    "                                                thrift['schemas_for_loan_kyc_app'],\n",
    "                                                thrift['cred_defs_for_loan_kyc_app'],\n",
    "                                                thrift['revoc_defs_for_loan_kyc_app'],\n",
    "                                                thrift['revoc_regs_for_loan_kyc_app'])"
   ]
  },
  {
   "cell_type": "markdown",
   "id": "e8bbaad9-fbdd-4cc4-87dc-cb473309ce83",
   "metadata": {
    "tags": []
   },
   "source": [
    "<br><br><br><hr>\n",
    "\n",
    "# 14. Credential revocation - Acme revokes Alice's Job-Certificate"
   ]
  },
  {
   "cell_type": "code",
   "execution_count": null,
   "id": "28442d1b-03d0-4d3f-bbc3-0ad4c01d5f6d",
   "metadata": {},
   "outputs": [],
   "source": [
    "# logger.info(\"\\\"Acme\\\" - Revoke  credential\")\n",
    "acme['alice_cert_rev_reg_delta'] = \\\n",
    "    await anoncreds.issuer_revoke_credential(acme['wallet'],\n",
    "                                                acme['blob_storage_reader_cfg_handle'],\n",
    "                                                acme['revoc_reg_id'],\n",
    "                                                acme['job_certificate_cred_rev_id'])"
   ]
  },
  {
   "cell_type": "code",
   "execution_count": null,
   "id": "8a8bbca5-3533-4253-9a03-ea6c4864cbcf",
   "metadata": {},
   "outputs": [],
   "source": [
    "# logger.info(\"\\\"Acme\\\" - Post RevocationRegistryDelta to Ledger\")\n",
    "acme['revoc_reg_entry_req'] = \\\n",
    "    await ledger.build_revoc_reg_entry_request(acme['did'], acme['revoc_reg_id'], 'CL_ACCUM',\n",
    "                                                acme['alice_cert_rev_reg_delta'])\n",
    "await ledger.sign_and_submit_request(acme['pool'], acme['wallet'], acme['did'], acme['revoc_reg_entry_req'])\n",
    "print()"
   ]
  },
  {
   "cell_type": "markdown",
   "id": "729eb701-c0a2-469e-8fa6-c43f6c203bf9",
   "metadata": {
    "tags": []
   },
   "source": [
    "<br><br><br><hr>\n",
    "\n",
    "# 15. Apply for the loan with Thrift - Job-Certificate proving (After Revoke)"
   ]
  },
  {
   "cell_type": "code",
   "execution_count": null,
   "id": "de3b010a-326a-4bac-b7c6-a102b2073fe2",
   "metadata": {},
   "outputs": [],
   "source": [
    "# logger.info(\"\\\"Thrift\\\" -> Create \\\"Loan-Application-Basic\\\" Proof Request\")\n",
    "nonce = await anoncreds.generate_nonce()\n",
    "thrift['apply_loan_proof_request'] = json.dumps({\n",
    "    'nonce': nonce,\n",
    "    'name': 'Loan-Application-Basic',\n",
    "    'version': '0.1',\n",
    "    'requested_attributes': {\n",
    "        'attr1_referent': {\n",
    "            'name': 'employee_status',\n",
    "            'restrictions': [{'cred_def_id': acme['job_certificate_cred_def_id']}]\n",
    "        }\n",
    "    },\n",
    "    'requested_predicates': {\n",
    "        'predicate1_referent': {\n",
    "            'name': 'salary',\n",
    "            'p_type': '>=',\n",
    "            'p_value': 2000,\n",
    "            'restrictions': [{'cred_def_id': acme['job_certificate_cred_def_id']}]\n",
    "        },\n",
    "        'predicate2_referent': {\n",
    "            'name': 'experience',\n",
    "            'p_type': '>=',\n",
    "            'p_value': 1,\n",
    "            'restrictions': [{'cred_def_id': acme['job_certificate_cred_def_id']}]\n",
    "        }\n",
    "    },\n",
    "    'non_revoked': {'to': int(time.time())}\n",
    "})"
   ]
  },
  {
   "cell_type": "code",
   "execution_count": null,
   "id": "cbd3507e-1a89-4e22-bb0d-09ab414366ee",
   "metadata": {},
   "outputs": [],
   "source": [
    "# logger.info(\"\\\"Thrift\\\" -> Send \\\"Loan-Application-Basic\\\" Proof Request to Alice\")\n",
    "alice['apply_loan_proof_request'] = thrift['apply_loan_proof_request']"
   ]
  },
  {
   "cell_type": "code",
   "execution_count": null,
   "id": "7ed46650-107d-477b-944b-8a1d66d813c2",
   "metadata": {},
   "outputs": [],
   "source": [
    "# logger.info(\"\\\"Alice\\\" -> Get credentials for \\\"Loan-Application-Basic\\\" Proof Request\")\n",
    "search_for_apply_loan_proof_request = \\\n",
    "    await anoncreds.prover_search_credentials_for_proof_req(alice['wallet'],\n",
    "                                                            alice['apply_loan_proof_request'], None)\n",
    "\n",
    "cred_for_attr1 = await get_credential_for_referent(search_for_apply_loan_proof_request, 'attr1_referent')\n",
    "cred_for_predicate1 = await get_credential_for_referent(search_for_apply_loan_proof_request,\n",
    "                                                        'predicate1_referent')\n",
    "cred_for_predicate2 = await get_credential_for_referent(search_for_apply_loan_proof_request,\n",
    "                                                        'predicate2_referent')\n",
    "\n",
    "await anoncreds.prover_close_credentials_search_for_proof_req(search_for_apply_loan_proof_request)\n",
    "\n",
    "alice['creds_for_apply_loan_proof'] = {cred_for_attr1['referent']: cred_for_attr1,\n",
    "                                        cred_for_predicate1['referent']: cred_for_predicate1,\n",
    "                                        cred_for_predicate2['referent']: cred_for_predicate2}\n",
    "\n",
    "requested_timestamp = int(json.loads(thrift['apply_loan_proof_request'])['non_revoked']['to'])\n",
    "alice['schemas_for_loan_app'], alice['cred_defs_for_loan_app'], alice['revoc_states_for_loan_app'] = \\\n",
    "    await prover_get_entities_from_ledger(alice['pool'], alice['did'],\n",
    "                                            alice['creds_for_apply_loan_proof'],\n",
    "                                            alice['name'], None, requested_timestamp)"
   ]
  },
  {
   "cell_type": "code",
   "execution_count": null,
   "id": "c0d036fc-5832-446f-8239-f262227af68d",
   "metadata": {},
   "outputs": [],
   "source": [
    "# logger.info(\"\\\"Alice\\\" -> Create \\\"Loan-Application-Basic\\\" Proof\")\n",
    "revoc_states_for_loan_app = json.loads(alice['revoc_states_for_loan_app'])\n",
    "timestamp_for_attr1 = get_timestamp_for_attribute(cred_for_attr1, revoc_states_for_loan_app)\n",
    "timestamp_for_predicate1 = get_timestamp_for_attribute(cred_for_predicate1, revoc_states_for_loan_app)\n",
    "timestamp_for_predicate2 = get_timestamp_for_attribute(cred_for_predicate2, revoc_states_for_loan_app)\n",
    "alice['apply_loan_requested_creds'] = json.dumps({\n",
    "    'self_attested_attributes': {},\n",
    "    'requested_attributes': {\n",
    "        'attr1_referent': {'cred_id': cred_for_attr1['referent'], 'revealed': True,\n",
    "                            'timestamp': timestamp_for_attr1}\n",
    "    },\n",
    "    'requested_predicates': {\n",
    "        'predicate1_referent': {'cred_id': cred_for_predicate1['referent'],\n",
    "                                'timestamp': timestamp_for_predicate1},\n",
    "        'predicate2_referent': {'cred_id': cred_for_predicate2['referent'],\n",
    "                                'timestamp': timestamp_for_predicate2}\n",
    "    }\n",
    "})\n",
    "alice['apply_loan_proof'] = \\\n",
    "    await anoncreds.prover_create_proof(alice['wallet'], alice['apply_loan_proof_request'],\n",
    "                                        alice['apply_loan_requested_creds'], alice['master_secret_id'],\n",
    "                                        alice['schemas_for_loan_app'], alice['cred_defs_for_loan_app'],\n",
    "                                        alice['revoc_states_for_loan_app'])"
   ]
  },
  {
   "cell_type": "code",
   "execution_count": null,
   "id": "c91f6ad0-dba3-4e3f-87b8-97d32ec17a76",
   "metadata": {},
   "outputs": [],
   "source": [
    "# logger.info(\"\\\"Alice\\\" -> Send \\\"Loan-Application-Basic\\\" Proof to Thrift\")\n",
    "thrift['apply_loan_proof'] = alice['apply_loan_proof']\n",
    "apply_loan_proof_object = json.loads(thrift['apply_loan_proof'])"
   ]
  },
  {
   "cell_type": "code",
   "execution_count": null,
   "id": "9de73656-66d3-4899-8e92-355dde7b508b",
   "metadata": {},
   "outputs": [],
   "source": [
    "# logger.info(\"\\\"Thrift\\\" -> Get Schemas, Credential Definitions and Revocation Registries from Ledger required for Proof verifying\")\n",
    "\n",
    "thrift['schemas_for_loan_app'], thrift['cred_defs_for_loan_app'], thrift['revoc_defs_for_loan_app'], \\\n",
    "thrift['revoc_regs_for_loan_app'] = \\\n",
    "    await verifier_get_entities_from_ledger(thrift['pool'], thrift['did'],\n",
    "                                            apply_loan_proof_object['identifiers'],\n",
    "                                            thrift['name'], requested_timestamp)"
   ]
  },
  {
   "cell_type": "code",
   "execution_count": null,
   "id": "d40c5e80-0f75-4edb-a778-7df9af91fee3",
   "metadata": {},
   "outputs": [],
   "source": [
    "# logger.info(\"\\\"Thrift\\\" -> Verify \\\"Loan-Application-Basic\\\" Proof from Alice\")\n",
    "assert 'Permanent' == apply_loan_proof_object['requested_proof']['revealed_attrs']['attr1_referent']['raw']\n",
    "\n",
    "assert await anoncreds.verifier_verify_proof(thrift['apply_loan_proof_request'],\n",
    "                                                thrift['apply_loan_proof'],\n",
    "                                                thrift['schemas_for_loan_app'],\n",
    "                                                thrift['cred_defs_for_loan_app'],\n",
    "                                                thrift['revoc_defs_for_loan_app'],\n",
    "                                                thrift['revoc_regs_for_loan_app'])"
   ]
  },
  {
   "cell_type": "markdown",
   "id": "20e90882-30f7-46f2-a7ef-038c136c74d2",
   "metadata": {
    "tags": []
   },
   "source": [
    "<br><br><br><hr>\n",
    "\n",
    "# 16. Finish"
   ]
  },
  {
   "cell_type": "code",
   "execution_count": null,
   "id": "ebda558f-26a8-4f70-bb76-5238419b961d",
   "metadata": {},
   "outputs": [],
   "source": [
    "# logger.info(\" \\\"Sovrin Steward\\\" -> Close and Delete wallet\")\n",
    "await wallet.close_wallet(steward['wallet'])\n",
    "await wallet.delete_wallet(steward['wallet_config'], steward['wallet_credentials'])"
   ]
  },
  {
   "cell_type": "code",
   "execution_count": null,
   "id": "9b64be06-5f3b-4836-986b-43fe9b07b781",
   "metadata": {},
   "outputs": [],
   "source": [
    "# logger.info(\"\\\"Government\\\" -> Close and Delete wallet\")\n",
    "await wallet.close_wallet(government['wallet'])\n",
    "await wallet.delete_wallet(government['wallet_config'],government['wallet_credentials'])"
   ]
  },
  {
   "cell_type": "code",
   "execution_count": null,
   "id": "7ddbe331-7fb4-4c2a-beb8-882875bfa920",
   "metadata": {},
   "outputs": [],
   "source": [
    "# logger.info(\"\\\"Faber\\\" -> Close and Delete wallet\")\n",
    "await wallet.close_wallet(faber['wallet'])\n",
    "await wallet.delete_wallet(faber['wallet_config'], faber['wallet_credentials'])"
   ]
  },
  {
   "cell_type": "code",
   "execution_count": null,
   "id": "a4cc8e39-8f4b-45ba-af56-f9399997d502",
   "metadata": {},
   "outputs": [],
   "source": [
    "# logger.info(\"\\\"Acme\\\" -> Close and Delete wallet\")\n",
    "await wallet.close_wallet(acme['wallet'])\n",
    "await wallet.delete_wallet(acme['wallet_config'], acme['wallet_credentials'])"
   ]
  },
  {
   "cell_type": "code",
   "execution_count": null,
   "id": "f47f348e-25dc-404a-88e0-b0c9839f0779",
   "metadata": {},
   "outputs": [],
   "source": [
    "# logger.info(\"\\\"Thrift\\\" -> Close and Delete wallet\")\n",
    "await wallet.close_wallet(thrift['wallet'])\n",
    "await wallet.delete_wallet(thrift['wallet_config'], thrift['wallet_credentials'])"
   ]
  },
  {
   "cell_type": "code",
   "execution_count": null,
   "id": "2cfd5eff-c5f3-4d40-ab90-96544bb12209",
   "metadata": {},
   "outputs": [],
   "source": [
    "# logger.info(\"\\\"Alice\\\" -> Close and Delete wallet\")\n",
    "await wallet.close_wallet(alice['wallet'])\n",
    "await wallet.delete_wallet(alice['wallet_config'], alice['wallet_credentials'])"
   ]
  },
  {
   "cell_type": "code",
   "execution_count": null,
   "id": "c94a01b6-ab90-4d4c-95fb-9f541822170a",
   "metadata": {},
   "outputs": [],
   "source": [
    "# logger.info(\"Close and Delete pool\")\n",
    "await pool.close_pool_ledger(pool_['handle'])\n",
    "await pool.delete_pool_ledger_config(pool_['name'])"
   ]
  }
 ],
 "metadata": {
  "kernelspec": {
   "display_name": "Python 3",
   "language": "python",
   "name": "python3"
  },
  "language_info": {
   "codemirror_mode": {
    "name": "ipython",
    "version": 3
   },
   "file_extension": ".py",
   "mimetype": "text/x-python",
   "name": "python",
   "nbconvert_exporter": "python",
   "pygments_lexer": "ipython3",
   "version": "3.6.9"
  }
 },
 "nbformat": 4,
 "nbformat_minor": 5
}
