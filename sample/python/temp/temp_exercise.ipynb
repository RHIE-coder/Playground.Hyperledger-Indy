{
 "cells": [
  {
   "cell_type": "markdown",
   "id": "0c2b70e4-32ba-4d5a-9559-549f21f7ca4f",
   "metadata": {},
   "source": [
    "# 1. 필요한 모듈 불러오기"
   ]
  },
  {
   "cell_type": "code",
   "execution_count": 1,
   "id": "ee802364-bf7a-4687-aff0-66933a3bf7d3",
   "metadata": {},
   "outputs": [],
   "source": [
    "import time\n",
    "from indy import anoncreds, did, ledger, pool, wallet, blob_storage\n",
    "import json\n",
    "import logging\n",
    "from os.path import dirname\n",
    "from indy.error import ErrorCode, IndyError\n",
    "import asyncio\n",
    "import json\n",
    "from os import environ\n",
    "from pathlib import Path\n",
    "from tempfile import gettempdir"
   ]
  },
  {
   "cell_type": "markdown",
   "id": "cd7bd489-ba0c-4367-b771-22b95767e671",
   "metadata": {},
   "source": [
    "# 2. indy-node에 Steward 정의하기"
   ]
  },
  {
   "cell_type": "markdown",
   "id": "b8219226-e8ac-4806-acf6-b0ac87dabd3b",
   "metadata": {},
   "source": [
    "## - 프로토콜 정의"
   ]
  },
  {
   "cell_type": "code",
   "execution_count": 2,
   "id": "bb01cec4-6ef3-4666-908b-5811c36c5600",
   "metadata": {},
   "outputs": [],
   "source": [
    "PROTOCOL_VERSION = 2"
   ]
  },
  {
   "cell_type": "markdown",
   "id": "59560fcf-908c-49cc-b33f-08e79bbc2b3b",
   "metadata": {},
   "source": [
    "## - `pool genesis trasaction`과 `domain genesis transaction`을 indy-node에 전송"
   ]
  },
  {
   "cell_type": "markdown",
   "id": "016da963-68ee-40bd-a599-b46dba54e1bd",
   "metadata": {},
   "source": [
    " - `pool genesis transaction`은 indy-node 블록체인 노드의 ip/port와 해당 노드가 Validator인지 Observer인지를 나타내는 역할 들이 입력되어 있다.\n",
    " - `domain genesis transaction`은 최초의 steward 그룹이 누가 되는지에 대한 정보가 입력되어 있다. 여기선 ENDORSER, NETWORK_MONITOR 등의 그룹도 누가 될지 정의 가능."
   ]
  },
  {
   "cell_type": "code",
   "execution_count": 3,
   "id": "dd908314-a417-4041-af4e-acfd7450f335",
   "metadata": {},
   "outputs": [],
   "source": [
    "pool_ = {\n",
    "    'name': 'pool1'\n",
    "}"
   ]
  },
  {
   "cell_type": "markdown",
   "id": "79040bd6-a35f-4be2-89c9-e65dce18231d",
   "metadata": {},
   "source": [
    "### * 필요한 함수 정의"
   ]
  },
  {
   "cell_type": "code",
   "execution_count": 4,
   "id": "ce8076ea-ab7b-4f6b-9bcf-c46c3575f494",
   "metadata": {},
   "outputs": [],
   "source": [
    "def pool_genesis_txn_data():\n",
    "    pool_ip = environ.get(\"TEST_POOL_IP\", \"127.0.0.1\")\n",
    "\n",
    "    return \"\\n\".join([\n",
    "        '{{\"reqSignature\":{{}},\"txn\":{{\"data\":{{\"data\":{{\"alias\":\"Node1\",\"blskey\":\"4N8aUNHSgjQVgkpm8nhNEfDf6txHznoYREg9kirmJrkivgL4oSEimFF6nsQ6M41QvhM2Z33nves5vfSn9n1UwNFJBYtWVnHYMATn76vLuL3zU88KyeAYcHfsih3He6UHcXDxcaecHVz6jhCYz1P2UZn2bDVruL5wXpehgBfBaLKm3Ba\",\"blskey_pop\":\"RahHYiCvoNCtPTrVtP7nMC5eTYrsUA8WjXbdhNc8debh1agE9bGiJxWBXYNFbnJXoXhWFMvyqhqhRoq737YQemH5ik9oL7R4NTTCz2LEZhkgLJzB3QRQqJyBNyv7acbdHrAT8nQ9UkLbaVL9NBpnWXBTw4LEMePaSHEw66RzPNdAX1\",\"client_ip\":\"{}\",\"client_port\":9702,\"node_ip\":\"{}\",\"node_port\":9701,\"services\":[\"VALIDATOR\"]}},\"dest\":\"Gw6pDLhcBcoQesN72qfotTgFa7cbuqZpkX3Xo6pLhPhv\"}},\"metadata\":{{\"from\":\"Th7MpTaRZVRYnPiabds81Y\"}},\"type\":\"0\"}},\"txnMetadata\":{{\"seqNo\":1,\"txnId\":\"fea82e10e894419fe2bea7d96296a6d46f50f93f9eeda954ec461b2ed2950b62\"}},\"ver\":\"1\"}}'.format(\n",
    "            pool_ip, pool_ip),\n",
    "        '{{\"reqSignature\":{{}},\"txn\":{{\"data\":{{\"data\":{{\"alias\":\"Node2\",\"blskey\":\"37rAPpXVoxzKhz7d9gkUe52XuXryuLXoM6P6LbWDB7LSbG62Lsb33sfG7zqS8TK1MXwuCHj1FKNzVpsnafmqLG1vXN88rt38mNFs9TENzm4QHdBzsvCuoBnPH7rpYYDo9DZNJePaDvRvqJKByCabubJz3XXKbEeshzpz4Ma5QYpJqjk\",\"blskey_pop\":\"Qr658mWZ2YC8JXGXwMDQTzuZCWF7NK9EwxphGmcBvCh6ybUuLxbG65nsX4JvD4SPNtkJ2w9ug1yLTj6fgmuDg41TgECXjLCij3RMsV8CwewBVgVN67wsA45DFWvqvLtu4rjNnE9JbdFTc1Z4WCPA3Xan44K1HoHAq9EVeaRYs8zoF5\",\"client_ip\":\"{}\",\"client_port\":9704,\"node_ip\":\"{}\",\"node_port\":9703,\"services\":[\"VALIDATOR\"]}},\"dest\":\"8ECVSk179mjsjKRLWiQtssMLgp6EPhWXtaYyStWPSGAb\"}},\"metadata\":{{\"from\":\"EbP4aYNeTHL6q385GuVpRV\"}},\"type\":\"0\"}},\"txnMetadata\":{{\"seqNo\":2,\"txnId\":\"1ac8aece2a18ced660fef8694b61aac3af08ba875ce3026a160acbc3a3af35fc\"}},\"ver\":\"1\"}}'.format(\n",
    "            pool_ip, pool_ip),\n",
    "        '{{\"reqSignature\":{{}},\"txn\":{{\"data\":{{\"data\":{{\"alias\":\"Node3\",\"blskey\":\"3WFpdbg7C5cnLYZwFZevJqhubkFALBfCBBok15GdrKMUhUjGsk3jV6QKj6MZgEubF7oqCafxNdkm7eswgA4sdKTRc82tLGzZBd6vNqU8dupzup6uYUf32KTHTPQbuUM8Yk4QFXjEf2Usu2TJcNkdgpyeUSX42u5LqdDDpNSWUK5deC5\",\"blskey_pop\":\"QwDeb2CkNSx6r8QC8vGQK3GRv7Yndn84TGNijX8YXHPiagXajyfTjoR87rXUu4G4QLk2cF8NNyqWiYMus1623dELWwx57rLCFqGh7N4ZRbGDRP4fnVcaKg1BcUxQ866Ven4gw8y4N56S5HzxXNBZtLYmhGHvDtk6PFkFwCvxYrNYjh\",\"client_ip\":\"{}\",\"client_port\":9706,\"node_ip\":\"{}\",\"node_port\":9705,\"services\":[\"VALIDATOR\"]}},\"dest\":\"DKVxG2fXXTU8yT5N7hGEbXB3dfdAnYv1JczDUHpmDxya\"}},\"metadata\":{{\"from\":\"4cU41vWW82ArfxJxHkzXPG\"}},\"type\":\"0\"}},\"txnMetadata\":{{\"seqNo\":3,\"txnId\":\"7e9f355dffa78ed24668f0e0e369fd8c224076571c51e2ea8be5f26479edebe4\"}},\"ver\":\"1\"}}'.format(\n",
    "            pool_ip, pool_ip),\n",
    "        '{{\"reqSignature\":{{}},\"txn\":{{\"data\":{{\"data\":{{\"alias\":\"Node4\",\"blskey\":\"2zN3bHM1m4rLz54MJHYSwvqzPchYp8jkHswveCLAEJVcX6Mm1wHQD1SkPYMzUDTZvWvhuE6VNAkK3KxVeEmsanSmvjVkReDeBEMxeDaayjcZjFGPydyey1qxBHmTvAnBKoPydvuTAqx5f7YNNRAdeLmUi99gERUU7TD8KfAa6MpQ9bw\",\"blskey_pop\":\"RPLagxaR5xdimFzwmzYnz4ZhWtYQEj8iR5ZU53T2gitPCyCHQneUn2Huc4oeLd2B2HzkGnjAff4hWTJT6C7qHYB1Mv2wU5iHHGFWkhnTX9WsEAbunJCV2qcaXScKj4tTfvdDKfLiVuU2av6hbsMztirRze7LvYBkRHV3tGwyCptsrP\",\"client_ip\":\"{}\",\"client_port\":9708,\"node_ip\":\"{}\",\"node_port\":9707,\"services\":[\"VALIDATOR\"]}},\"dest\":\"4PS3EDQ3dW1tci1Bp6543CfuuebjFrg36kLAUcskGfaA\"}},\"metadata\":{{\"from\":\"TWwCRQRZ2ZHMJFn9TzLp7W\"}},\"type\":\"0\"}},\"txnMetadata\":{{\"seqNo\":4,\"txnId\":\"aa5e817d7cc626170eca175822029339a444eb0ee8f0bd20d3b0b76e566fb008\"}},\"ver\":\"1\"}}'.format(\n",
    "            pool_ip, pool_ip)\n",
    "    ])"
   ]
  },
  {
   "cell_type": "code",
   "execution_count": 5,
   "id": "82293eb2-d02f-4a13-902a-8cd2af8e8ea6",
   "metadata": {},
   "outputs": [],
   "source": [
    "def save_pool_genesis_txn_file(path):\n",
    "    data = pool_genesis_txn_data()\n",
    "\n",
    "    path.parent.mkdir(parents=True, exist_ok=True)\n",
    "\n",
    "    with open(str(path), \"w+\") as f:\n",
    "        f.writelines(data)"
   ]
  },
  {
   "cell_type": "code",
   "execution_count": 6,
   "id": "909fe705-b8dd-4970-a296-6856cca052e3",
   "metadata": {},
   "outputs": [],
   "source": [
    "def get_pool_genesis_txn_path(pool_name):\n",
    "    path_temp = Path(gettempdir()).joinpath(\"indy\")\n",
    "    path = path_temp.joinpath(\"{}.txn\".format(pool_name))\n",
    "    save_pool_genesis_txn_file(path)\n",
    "    return path"
   ]
  },
  {
   "cell_type": "code",
   "execution_count": 7,
   "id": "3dfd840e-216b-4f03-a9c5-f357f73e015d",
   "metadata": {},
   "outputs": [],
   "source": [
    "async def ensure_previous_request_applied(pool_handle, checker_request, checker):\n",
    "    for _ in range(3):\n",
    "        response = json.loads(await ledger.submit_request(pool_handle, checker_request))\n",
    "        try:\n",
    "            if checker(response):\n",
    "                return json.dumps(response)\n",
    "        except TypeError:\n",
    "            pass\n",
    "        time.sleep(5)"
   ]
  },
  {
   "cell_type": "markdown",
   "id": "3bbbe10e-b86e-4964-ac57-8514eecb654d",
   "metadata": {},
   "source": [
    "### * `pool genesis transaction` 살펴보기"
   ]
  },
  {
   "cell_type": "code",
   "execution_count": 8,
   "id": "a0c9346c-3f80-42dc-a527-ede2926a5c3c",
   "metadata": {},
   "outputs": [
    {
     "name": "stdout",
     "output_type": "stream",
     "text": [
      "{\n",
      "    \"reqSignature\": {},\n",
      "    \"txn\": {\n",
      "        \"data\": {\n",
      "            \"data\": {\n",
      "                \"alias\": \"Node1\",\n",
      "                \"blskey\": \"4N8aUNHSgjQVgkpm8nhNEfDf6txHznoYREg9kirmJrkivgL4oSEimFF6nsQ6M41QvhM2Z33nves5vfSn9n1UwNFJBYtWVnHYMATn76vLuL3zU88KyeAYcHfsih3He6UHcXDxcaecHVz6jhCYz1P2UZn2bDVruL5wXpehgBfBaLKm3Ba\",\n",
      "                \"blskey_pop\": \"RahHYiCvoNCtPTrVtP7nMC5eTYrsUA8WjXbdhNc8debh1agE9bGiJxWBXYNFbnJXoXhWFMvyqhqhRoq737YQemH5ik9oL7R4NTTCz2LEZhkgLJzB3QRQqJyBNyv7acbdHrAT8nQ9UkLbaVL9NBpnWXBTw4LEMePaSHEw66RzPNdAX1\",\n",
      "                \"client_ip\": \"127.0.0.1\",\n",
      "                \"client_port\": 9702,\n",
      "                \"node_ip\": \"127.0.0.1\",\n",
      "                \"node_port\": 9701,\n",
      "                \"services\": [\n",
      "                    \"VALIDATOR\"\n",
      "                ]\n",
      "            },\n",
      "            \"dest\": \"Gw6pDLhcBcoQesN72qfotTgFa7cbuqZpkX3Xo6pLhPhv\"\n",
      "        },\n",
      "        \"metadata\": {\n",
      "            \"from\": \"Th7MpTaRZVRYnPiabds81Y\"\n",
      "        },\n",
      "        \"type\": \"0\"\n",
      "    },\n",
      "    \"txnMetadata\": {\n",
      "        \"seqNo\": 1,\n",
      "        \"txnId\": \"fea82e10e894419fe2bea7d96296a6d46f50f93f9eeda954ec461b2ed2950b62\"\n",
      "    },\n",
      "    \"ver\": \"1\"\n",
      "}\n",
      "==================================================\n",
      "{\n",
      "    \"reqSignature\": {},\n",
      "    \"txn\": {\n",
      "        \"data\": {\n",
      "            \"data\": {\n",
      "                \"alias\": \"Node2\",\n",
      "                \"blskey\": \"37rAPpXVoxzKhz7d9gkUe52XuXryuLXoM6P6LbWDB7LSbG62Lsb33sfG7zqS8TK1MXwuCHj1FKNzVpsnafmqLG1vXN88rt38mNFs9TENzm4QHdBzsvCuoBnPH7rpYYDo9DZNJePaDvRvqJKByCabubJz3XXKbEeshzpz4Ma5QYpJqjk\",\n",
      "                \"blskey_pop\": \"Qr658mWZ2YC8JXGXwMDQTzuZCWF7NK9EwxphGmcBvCh6ybUuLxbG65nsX4JvD4SPNtkJ2w9ug1yLTj6fgmuDg41TgECXjLCij3RMsV8CwewBVgVN67wsA45DFWvqvLtu4rjNnE9JbdFTc1Z4WCPA3Xan44K1HoHAq9EVeaRYs8zoF5\",\n",
      "                \"client_ip\": \"127.0.0.1\",\n",
      "                \"client_port\": 9704,\n",
      "                \"node_ip\": \"127.0.0.1\",\n",
      "                \"node_port\": 9703,\n",
      "                \"services\": [\n",
      "                    \"VALIDATOR\"\n",
      "                ]\n",
      "            },\n",
      "            \"dest\": \"8ECVSk179mjsjKRLWiQtssMLgp6EPhWXtaYyStWPSGAb\"\n",
      "        },\n",
      "        \"metadata\": {\n",
      "            \"from\": \"EbP4aYNeTHL6q385GuVpRV\"\n",
      "        },\n",
      "        \"type\": \"0\"\n",
      "    },\n",
      "    \"txnMetadata\": {\n",
      "        \"seqNo\": 2,\n",
      "        \"txnId\": \"1ac8aece2a18ced660fef8694b61aac3af08ba875ce3026a160acbc3a3af35fc\"\n",
      "    },\n",
      "    \"ver\": \"1\"\n",
      "}\n",
      "==================================================\n",
      "{\n",
      "    \"reqSignature\": {},\n",
      "    \"txn\": {\n",
      "        \"data\": {\n",
      "            \"data\": {\n",
      "                \"alias\": \"Node3\",\n",
      "                \"blskey\": \"3WFpdbg7C5cnLYZwFZevJqhubkFALBfCBBok15GdrKMUhUjGsk3jV6QKj6MZgEubF7oqCafxNdkm7eswgA4sdKTRc82tLGzZBd6vNqU8dupzup6uYUf32KTHTPQbuUM8Yk4QFXjEf2Usu2TJcNkdgpyeUSX42u5LqdDDpNSWUK5deC5\",\n",
      "                \"blskey_pop\": \"QwDeb2CkNSx6r8QC8vGQK3GRv7Yndn84TGNijX8YXHPiagXajyfTjoR87rXUu4G4QLk2cF8NNyqWiYMus1623dELWwx57rLCFqGh7N4ZRbGDRP4fnVcaKg1BcUxQ866Ven4gw8y4N56S5HzxXNBZtLYmhGHvDtk6PFkFwCvxYrNYjh\",\n",
      "                \"client_ip\": \"127.0.0.1\",\n",
      "                \"client_port\": 9706,\n",
      "                \"node_ip\": \"127.0.0.1\",\n",
      "                \"node_port\": 9705,\n",
      "                \"services\": [\n",
      "                    \"VALIDATOR\"\n",
      "                ]\n",
      "            },\n",
      "            \"dest\": \"DKVxG2fXXTU8yT5N7hGEbXB3dfdAnYv1JczDUHpmDxya\"\n",
      "        },\n",
      "        \"metadata\": {\n",
      "            \"from\": \"4cU41vWW82ArfxJxHkzXPG\"\n",
      "        },\n",
      "        \"type\": \"0\"\n",
      "    },\n",
      "    \"txnMetadata\": {\n",
      "        \"seqNo\": 3,\n",
      "        \"txnId\": \"7e9f355dffa78ed24668f0e0e369fd8c224076571c51e2ea8be5f26479edebe4\"\n",
      "    },\n",
      "    \"ver\": \"1\"\n",
      "}\n",
      "==================================================\n",
      "{\n",
      "    \"reqSignature\": {},\n",
      "    \"txn\": {\n",
      "        \"data\": {\n",
      "            \"data\": {\n",
      "                \"alias\": \"Node4\",\n",
      "                \"blskey\": \"2zN3bHM1m4rLz54MJHYSwvqzPchYp8jkHswveCLAEJVcX6Mm1wHQD1SkPYMzUDTZvWvhuE6VNAkK3KxVeEmsanSmvjVkReDeBEMxeDaayjcZjFGPydyey1qxBHmTvAnBKoPydvuTAqx5f7YNNRAdeLmUi99gERUU7TD8KfAa6MpQ9bw\",\n",
      "                \"blskey_pop\": \"RPLagxaR5xdimFzwmzYnz4ZhWtYQEj8iR5ZU53T2gitPCyCHQneUn2Huc4oeLd2B2HzkGnjAff4hWTJT6C7qHYB1Mv2wU5iHHGFWkhnTX9WsEAbunJCV2qcaXScKj4tTfvdDKfLiVuU2av6hbsMztirRze7LvYBkRHV3tGwyCptsrP\",\n",
      "                \"client_ip\": \"127.0.0.1\",\n",
      "                \"client_port\": 9708,\n",
      "                \"node_ip\": \"127.0.0.1\",\n",
      "                \"node_port\": 9707,\n",
      "                \"services\": [\n",
      "                    \"VALIDATOR\"\n",
      "                ]\n",
      "            },\n",
      "            \"dest\": \"4PS3EDQ3dW1tci1Bp6543CfuuebjFrg36kLAUcskGfaA\"\n",
      "        },\n",
      "        \"metadata\": {\n",
      "            \"from\": \"TWwCRQRZ2ZHMJFn9TzLp7W\"\n",
      "        },\n",
      "        \"type\": \"0\"\n",
      "    },\n",
      "    \"txnMetadata\": {\n",
      "        \"seqNo\": 4,\n",
      "        \"txnId\": \"aa5e817d7cc626170eca175822029339a444eb0ee8f0bd20d3b0b76e566fb008\"\n",
      "    },\n",
      "    \"ver\": \"1\"\n",
      "}\n",
      "==================================================\n"
     ]
    }
   ],
   "source": [
    "pool_ip = environ.get(\"TEST_POOL_IP\", \"127.0.0.1\")\n",
    "\n",
    "\n",
    "pool_genesis_tx_list = [\n",
    "        '{{\"reqSignature\":{{}},\"txn\":{{\"data\":{{\"data\":{{\"alias\":\"Node1\",\"blskey\":\"4N8aUNHSgjQVgkpm8nhNEfDf6txHznoYREg9kirmJrkivgL4oSEimFF6nsQ6M41QvhM2Z33nves5vfSn9n1UwNFJBYtWVnHYMATn76vLuL3zU88KyeAYcHfsih3He6UHcXDxcaecHVz6jhCYz1P2UZn2bDVruL5wXpehgBfBaLKm3Ba\",\"blskey_pop\":\"RahHYiCvoNCtPTrVtP7nMC5eTYrsUA8WjXbdhNc8debh1agE9bGiJxWBXYNFbnJXoXhWFMvyqhqhRoq737YQemH5ik9oL7R4NTTCz2LEZhkgLJzB3QRQqJyBNyv7acbdHrAT8nQ9UkLbaVL9NBpnWXBTw4LEMePaSHEw66RzPNdAX1\",\"client_ip\":\"{}\",\"client_port\":9702,\"node_ip\":\"{}\",\"node_port\":9701,\"services\":[\"VALIDATOR\"]}},\"dest\":\"Gw6pDLhcBcoQesN72qfotTgFa7cbuqZpkX3Xo6pLhPhv\"}},\"metadata\":{{\"from\":\"Th7MpTaRZVRYnPiabds81Y\"}},\"type\":\"0\"}},\"txnMetadata\":{{\"seqNo\":1,\"txnId\":\"fea82e10e894419fe2bea7d96296a6d46f50f93f9eeda954ec461b2ed2950b62\"}},\"ver\":\"1\"}}'.format(\n",
    "            pool_ip, pool_ip),\n",
    "        '{{\"reqSignature\":{{}},\"txn\":{{\"data\":{{\"data\":{{\"alias\":\"Node2\",\"blskey\":\"37rAPpXVoxzKhz7d9gkUe52XuXryuLXoM6P6LbWDB7LSbG62Lsb33sfG7zqS8TK1MXwuCHj1FKNzVpsnafmqLG1vXN88rt38mNFs9TENzm4QHdBzsvCuoBnPH7rpYYDo9DZNJePaDvRvqJKByCabubJz3XXKbEeshzpz4Ma5QYpJqjk\",\"blskey_pop\":\"Qr658mWZ2YC8JXGXwMDQTzuZCWF7NK9EwxphGmcBvCh6ybUuLxbG65nsX4JvD4SPNtkJ2w9ug1yLTj6fgmuDg41TgECXjLCij3RMsV8CwewBVgVN67wsA45DFWvqvLtu4rjNnE9JbdFTc1Z4WCPA3Xan44K1HoHAq9EVeaRYs8zoF5\",\"client_ip\":\"{}\",\"client_port\":9704,\"node_ip\":\"{}\",\"node_port\":9703,\"services\":[\"VALIDATOR\"]}},\"dest\":\"8ECVSk179mjsjKRLWiQtssMLgp6EPhWXtaYyStWPSGAb\"}},\"metadata\":{{\"from\":\"EbP4aYNeTHL6q385GuVpRV\"}},\"type\":\"0\"}},\"txnMetadata\":{{\"seqNo\":2,\"txnId\":\"1ac8aece2a18ced660fef8694b61aac3af08ba875ce3026a160acbc3a3af35fc\"}},\"ver\":\"1\"}}'.format(\n",
    "            pool_ip, pool_ip),\n",
    "        '{{\"reqSignature\":{{}},\"txn\":{{\"data\":{{\"data\":{{\"alias\":\"Node3\",\"blskey\":\"3WFpdbg7C5cnLYZwFZevJqhubkFALBfCBBok15GdrKMUhUjGsk3jV6QKj6MZgEubF7oqCafxNdkm7eswgA4sdKTRc82tLGzZBd6vNqU8dupzup6uYUf32KTHTPQbuUM8Yk4QFXjEf2Usu2TJcNkdgpyeUSX42u5LqdDDpNSWUK5deC5\",\"blskey_pop\":\"QwDeb2CkNSx6r8QC8vGQK3GRv7Yndn84TGNijX8YXHPiagXajyfTjoR87rXUu4G4QLk2cF8NNyqWiYMus1623dELWwx57rLCFqGh7N4ZRbGDRP4fnVcaKg1BcUxQ866Ven4gw8y4N56S5HzxXNBZtLYmhGHvDtk6PFkFwCvxYrNYjh\",\"client_ip\":\"{}\",\"client_port\":9706,\"node_ip\":\"{}\",\"node_port\":9705,\"services\":[\"VALIDATOR\"]}},\"dest\":\"DKVxG2fXXTU8yT5N7hGEbXB3dfdAnYv1JczDUHpmDxya\"}},\"metadata\":{{\"from\":\"4cU41vWW82ArfxJxHkzXPG\"}},\"type\":\"0\"}},\"txnMetadata\":{{\"seqNo\":3,\"txnId\":\"7e9f355dffa78ed24668f0e0e369fd8c224076571c51e2ea8be5f26479edebe4\"}},\"ver\":\"1\"}}'.format(\n",
    "            pool_ip, pool_ip),\n",
    "        '{{\"reqSignature\":{{}},\"txn\":{{\"data\":{{\"data\":{{\"alias\":\"Node4\",\"blskey\":\"2zN3bHM1m4rLz54MJHYSwvqzPchYp8jkHswveCLAEJVcX6Mm1wHQD1SkPYMzUDTZvWvhuE6VNAkK3KxVeEmsanSmvjVkReDeBEMxeDaayjcZjFGPydyey1qxBHmTvAnBKoPydvuTAqx5f7YNNRAdeLmUi99gERUU7TD8KfAa6MpQ9bw\",\"blskey_pop\":\"RPLagxaR5xdimFzwmzYnz4ZhWtYQEj8iR5ZU53T2gitPCyCHQneUn2Huc4oeLd2B2HzkGnjAff4hWTJT6C7qHYB1Mv2wU5iHHGFWkhnTX9WsEAbunJCV2qcaXScKj4tTfvdDKfLiVuU2av6hbsMztirRze7LvYBkRHV3tGwyCptsrP\",\"client_ip\":\"{}\",\"client_port\":9708,\"node_ip\":\"{}\",\"node_port\":9707,\"services\":[\"VALIDATOR\"]}},\"dest\":\"4PS3EDQ3dW1tci1Bp6543CfuuebjFrg36kLAUcskGfaA\"}},\"metadata\":{{\"from\":\"TWwCRQRZ2ZHMJFn9TzLp7W\"}},\"type\":\"0\"}},\"txnMetadata\":{{\"seqNo\":4,\"txnId\":\"aa5e817d7cc626170eca175822029339a444eb0ee8f0bd20d3b0b76e566fb008\"}},\"ver\":\"1\"}}'.format(\n",
    "            pool_ip, pool_ip)\n",
    "]\n",
    "\n",
    "\n",
    "for jsonString in pool_genesis_tx_list:\n",
    "    jsonObject = json.loads(jsonString)\n",
    "    print(json.dumps(jsonObject, indent=4))\n",
    "    print('='*50)"
   ]
  },
  {
   "cell_type": "markdown",
   "id": "0f75fbe3-4ede-4658-a998-7bacba188870",
   "metadata": {},
   "source": [
    "### * `pool genesis transaction` 생성과 등록"
   ]
  },
  {
   "cell_type": "code",
   "execution_count": 9,
   "id": "af9e527d-ec3e-40c1-9477-7278b4dc9919",
   "metadata": {},
   "outputs": [],
   "source": [
    "pool_['genesis_txn_path'] = get_pool_genesis_txn_path(pool_['name'])"
   ]
  },
  {
   "cell_type": "code",
   "execution_count": 10,
   "id": "6885eecc-e73a-412c-ba2d-d77911b02009",
   "metadata": {},
   "outputs": [
    {
     "data": {
      "text/plain": [
       "PosixPath('/tmp/indy/pool1.txn')"
      ]
     },
     "execution_count": 10,
     "metadata": {},
     "output_type": "execute_result"
    }
   ],
   "source": [
    "pool_['genesis_txn_path']"
   ]
  },
  {
   "cell_type": "markdown",
   "id": "1809c8b7-4836-43c9-8a96-e3af96850408",
   "metadata": {},
   "source": [
    " - pool genesis tx 파일이 있는지 확인"
   ]
  },
  {
   "cell_type": "code",
   "execution_count": 11,
   "id": "d93dee8b-26dd-443e-9634-61c598c905bd",
   "metadata": {},
   "outputs": [
    {
     "name": "stdout",
     "output_type": "stream",
     "text": [
      "/tmp/indy/pool1.txn\n"
     ]
    }
   ],
   "source": [
    "# 파일 있는지 확인하기\n",
    "for f in Path(pool_['genesis_txn_path'].parent).iterdir():\n",
    "    print(f)"
   ]
  },
  {
   "cell_type": "code",
   "execution_count": 12,
   "id": "a219262f-4941-4055-b75c-2ff81893f41a",
   "metadata": {},
   "outputs": [],
   "source": [
    "pool_['config'] = json.dumps({\"genesis_txn\": str(pool_['genesis_txn_path'])})"
   ]
  },
  {
   "cell_type": "code",
   "execution_count": 13,
   "id": "7038ef27-9029-43bb-95b7-384077e36e5c",
   "metadata": {},
   "outputs": [
    {
     "data": {
      "text/plain": [
       "{'name': 'pool1',\n",
       " 'genesis_txn_path': PosixPath('/tmp/indy/pool1.txn'),\n",
       " 'config': '{\"genesis_txn\": \"/tmp/indy/pool1.txn\"}'}"
      ]
     },
     "execution_count": 13,
     "metadata": {},
     "output_type": "execute_result"
    }
   ],
   "source": [
    "pool_"
   ]
  },
  {
   "cell_type": "markdown",
   "id": "8685f75c-7288-49d5-a7d6-0c9aa398ae71",
   "metadata": {},
   "source": [
    " - pool의 프로토콜 셋팅"
   ]
  },
  {
   "cell_type": "code",
   "execution_count": 14,
   "id": "c483e5bb-c039-4205-a7ff-03619f512c3c",
   "metadata": {},
   "outputs": [],
   "source": [
    "# for jupyter - 이미 주피터 노트북이 이벤트 루프를 수행중이므로 만들어주지 않아도 됨\n",
    "await pool.set_protocol_version(PROTOCOL_VERSION)"
   ]
  },
  {
   "cell_type": "markdown",
   "id": "f8e02a5c-7392-46f5-8ff2-5afeeb4f05ec",
   "metadata": {},
   "source": [
    " - pool genesis tx 생성"
   ]
  },
  {
   "cell_type": "code",
   "execution_count": 15,
   "id": "4acf615f-f583-4f31-93bd-45eff21fea08",
   "metadata": {},
   "outputs": [
    {
     "ename": "PoolLedgerConfigAlreadyExistsError",
     "evalue": "",
     "output_type": "error",
     "traceback": [
      "\u001b[0;31m---------------------------------------------------------------------------\u001b[0m",
      "\u001b[0;31mPoolLedgerConfigAlreadyExistsError\u001b[0m        Traceback (most recent call last)",
      "\u001b[0;32m<ipython-input-15-90c775861c09>\u001b[0m in \u001b[0;36masync-def-wrapper\u001b[0;34m()\u001b[0m\n",
      "\u001b[0;32m~/.local/lib/python3.6/site-packages/indy/pool.py\u001b[0m in \u001b[0;36mcreate_pool_ledger_config\u001b[0;34m(config_name, config)\u001b[0m\n\u001b[1;32m     37\u001b[0m                         \u001b[0mc_config_name\u001b[0m\u001b[0;34m,\u001b[0m\u001b[0;34m\u001b[0m\u001b[0;34m\u001b[0m\u001b[0m\n\u001b[1;32m     38\u001b[0m                         \u001b[0mc_config\u001b[0m\u001b[0;34m,\u001b[0m\u001b[0;34m\u001b[0m\u001b[0;34m\u001b[0m\u001b[0m\n\u001b[0;32m---> 39\u001b[0;31m                         create_pool_ledger_config.cb)\n\u001b[0m\u001b[1;32m     40\u001b[0m \u001b[0;34m\u001b[0m\u001b[0m\n\u001b[1;32m     41\u001b[0m     \u001b[0mlogger\u001b[0m\u001b[0;34m.\u001b[0m\u001b[0mdebug\u001b[0m\u001b[0;34m(\u001b[0m\u001b[0;34m\"create_pool_ledger_config: <<< res: %r\"\u001b[0m\u001b[0;34m,\u001b[0m \u001b[0mres\u001b[0m\u001b[0;34m)\u001b[0m\u001b[0;34m\u001b[0m\u001b[0;34m\u001b[0m\u001b[0m\n",
      "\u001b[0;31mPoolLedgerConfigAlreadyExistsError\u001b[0m: "
     ]
    }
   ],
   "source": [
    "await pool.create_pool_ledger_config(pool_['name'], pool_['config'])"
   ]
  },
  {
   "cell_type": "markdown",
   "id": "e5e68081-7cb2-4a5a-91e1-caf8c4ad05a5",
   "metadata": {},
   "source": [
    " - connecting to pool nodes"
   ]
  },
  {
   "cell_type": "code",
   "execution_count": 16,
   "id": "e9ec13f8-e19d-490b-9f11-bb5d0eb4583a",
   "metadata": {},
   "outputs": [],
   "source": [
    "pool_['handle'] = await pool.open_pool_ledger(pool_['name'], None)"
   ]
  },
  {
   "cell_type": "code",
   "execution_count": 17,
   "id": "b6db7afa-834e-45d7-b1a7-a29f1650b72a",
   "metadata": {},
   "outputs": [
    {
     "data": {
      "text/plain": [
       "{'name': 'pool1',\n",
       " 'genesis_txn_path': PosixPath('/tmp/indy/pool1.txn'),\n",
       " 'config': '{\"genesis_txn\": \"/tmp/indy/pool1.txn\"}',\n",
       " 'handle': 2}"
      ]
     },
     "execution_count": 17,
     "metadata": {},
     "output_type": "execute_result"
    }
   ],
   "source": [
    "pool_"
   ]
  },
  {
   "cell_type": "markdown",
   "id": "18a2849e-ab39-4eea-b80f-8057d6f7f573",
   "metadata": {},
   "source": [
    "### * steward 지갑 생성"
   ]
  },
  {
   "cell_type": "markdown",
   "id": "d6c883b3-ee0d-4550-a2ec-b3e8a33d96b0",
   "metadata": {},
   "source": [
    " - 지갑 설정"
   ]
  },
  {
   "cell_type": "code",
   "execution_count": 18,
   "id": "d81eaec6-d1f9-4d58-8d15-6659900bbbf1",
   "metadata": {},
   "outputs": [],
   "source": [
    "steward = {\n",
    "    'name': \"Sovrin Steward\",\n",
    "    'wallet_config': json.dumps({'id': 'sovrin_steward_wallet'}),\n",
    "    'wallet_credentials': json.dumps({'key': 'steward_wallet_key'}),\n",
    "    'pool': pool_['handle'],\n",
    "    'seed': '000000000000000000000000Steward1'\n",
    "}"
   ]
  },
  {
   "cell_type": "code",
   "execution_count": 19,
   "id": "cc61be5c-1df6-4028-967a-34f86e2c0eb4",
   "metadata": {},
   "outputs": [
    {
     "data": {
      "text/plain": [
       "{'name': 'Sovrin Steward',\n",
       " 'wallet_config': '{\"id\": \"sovrin_steward_wallet\"}',\n",
       " 'wallet_credentials': '{\"key\": \"steward_wallet_key\"}',\n",
       " 'pool': 2,\n",
       " 'seed': '000000000000000000000000Steward1'}"
      ]
     },
     "execution_count": 19,
     "metadata": {},
     "output_type": "execute_result"
    }
   ],
   "source": [
    "steward"
   ]
  },
  {
   "cell_type": "code",
   "execution_count": 20,
   "id": "849558a4-dc4f-4a81-b28a-5e34c88c7e62",
   "metadata": {},
   "outputs": [
    {
     "data": {
      "text/plain": [
       "'{\"id\": \"sovrin_steward_wallet\"}'"
      ]
     },
     "execution_count": 20,
     "metadata": {},
     "output_type": "execute_result"
    }
   ],
   "source": [
    "steward['wallet_config']"
   ]
  },
  {
   "cell_type": "markdown",
   "id": "04afb4e4-348d-4061-b063-95e0c716e3e2",
   "metadata": {},
   "source": [
    " - 지갑 생성과 불러오기"
   ]
  },
  {
   "cell_type": "code",
   "execution_count": 21,
   "id": "b2b0ec9a-ca6d-45d4-8a2c-403b9bf70d62",
   "metadata": {},
   "outputs": [
    {
     "ename": "WalletAlreadyExistsError",
     "evalue": "",
     "output_type": "error",
     "traceback": [
      "\u001b[0;31m---------------------------------------------------------------------------\u001b[0m",
      "\u001b[0;31mWalletAlreadyExistsError\u001b[0m                  Traceback (most recent call last)",
      "\u001b[0;32m<ipython-input-21-305e90852fd4>\u001b[0m in \u001b[0;36masync-def-wrapper\u001b[0;34m()\u001b[0m\n",
      "\u001b[0;32m~/.local/lib/python3.6/site-packages/indy/wallet.py\u001b[0m in \u001b[0;36mcreate_wallet\u001b[0;34m(config, credentials)\u001b[0m\n\u001b[1;32m     59\u001b[0m                   \u001b[0mc_config\u001b[0m\u001b[0;34m,\u001b[0m\u001b[0;34m\u001b[0m\u001b[0;34m\u001b[0m\u001b[0m\n\u001b[1;32m     60\u001b[0m                   \u001b[0mc_credentials\u001b[0m\u001b[0;34m,\u001b[0m\u001b[0;34m\u001b[0m\u001b[0;34m\u001b[0m\u001b[0m\n\u001b[0;32m---> 61\u001b[0;31m                   create_wallet.cb)\n\u001b[0m\u001b[1;32m     62\u001b[0m \u001b[0;34m\u001b[0m\u001b[0m\n\u001b[1;32m     63\u001b[0m     \u001b[0mlogger\u001b[0m\u001b[0;34m.\u001b[0m\u001b[0mdebug\u001b[0m\u001b[0;34m(\u001b[0m\u001b[0;34m\"create_wallet: <<<\"\u001b[0m\u001b[0;34m)\u001b[0m\u001b[0;34m\u001b[0m\u001b[0;34m\u001b[0m\u001b[0m\n",
      "\u001b[0;31mWalletAlreadyExistsError\u001b[0m: "
     ]
    }
   ],
   "source": [
    "await wallet.create_wallet(steward['wallet_config'],steward['wallet_credentials'])"
   ]
  },
  {
   "cell_type": "code",
   "execution_count": 22,
   "id": "192e34eb-7876-4173-8418-15936c9299ec",
   "metadata": {},
   "outputs": [],
   "source": [
    "steward['wallet'] = await wallet.open_wallet(steward['wallet_config'],steward['wallet_credentials'])"
   ]
  },
  {
   "cell_type": "code",
   "execution_count": 24,
   "id": "2b690cac-1f9d-4524-a748-ab06d5ae3dd7",
   "metadata": {},
   "outputs": [
    {
     "data": {
      "text/plain": [
       "{'name': 'Sovrin Steward',\n",
       " 'wallet_config': '{\"id\": \"sovrin_steward_wallet\"}',\n",
       " 'wallet_credentials': '{\"key\": \"steward_wallet_key\"}',\n",
       " 'pool': 2,\n",
       " 'seed': '000000000000000000000000Steward1',\n",
       " 'wallet': 5}"
      ]
     },
     "execution_count": 24,
     "metadata": {},
     "output_type": "execute_result"
    }
   ],
   "source": [
    "steward"
   ]
  },
  {
   "cell_type": "markdown",
   "id": "ef607810-0a5e-4c6a-ad55-5a74c493766b",
   "metadata": {},
   "source": [
    " - DID 생성"
   ]
  },
  {
   "cell_type": "code",
   "execution_count": 25,
   "id": "0744c6bd-5743-4976-9b16-3c66a29f1b36",
   "metadata": {},
   "outputs": [],
   "source": [
    "steward['did_info'] = json.dumps({'seed': steward['seed']})\n",
    "steward['did'], steward['key'] = await did.create_and_store_my_did(steward['wallet'], steward['did_info'])"
   ]
  },
  {
   "cell_type": "code",
   "execution_count": 26,
   "id": "c361a8c0-ac68-4f2d-9f11-e030470aac86",
   "metadata": {},
   "outputs": [
    {
     "data": {
      "text/plain": [
       "{'name': 'Sovrin Steward',\n",
       " 'wallet_config': '{\"id\": \"sovrin_steward_wallet\"}',\n",
       " 'wallet_credentials': '{\"key\": \"steward_wallet_key\"}',\n",
       " 'pool': 2,\n",
       " 'seed': '000000000000000000000000Steward1',\n",
       " 'wallet': 5,\n",
       " 'did_info': '{\"seed\": \"000000000000000000000000Steward1\"}',\n",
       " 'did': 'Th7MpTaRZVRYnPiabds81Y',\n",
       " 'key': 'FYmoFw55GeQH7SRFa37dkx1d2dZ3zUF8ckg7wmL7ofN4'}"
      ]
     },
     "execution_count": 26,
     "metadata": {},
     "output_type": "execute_result"
    }
   ],
   "source": [
    "steward"
   ]
  },
  {
   "cell_type": "markdown",
   "id": "eff54163-479b-4f7c-8651-b72af086672a",
   "metadata": {},
   "source": [
    "#### Indy-node 블록체인 구동 후 Steward 그룹 등록 완료"
   ]
  },
  {
   "cell_type": "markdown",
   "id": "74d71719-130c-4046-91bf-30acd20d5ae1",
   "metadata": {},
   "source": [
    "# 3. VC 발행기관이 steward에게 ENDORSER(Trust Anchor) 자격 등록 요청 및 처리"
   ]
  },
  {
   "cell_type": "markdown",
   "id": "a97fae18-1234-41e2-ae3e-215622c24fb5",
   "metadata": {},
   "source": [
    "## - VC 발행기관\n",
    "  - Government\n",
    "  - Faber College\n",
    "  - Acme Corp.\n",
    "  - Thrift Bank"
   ]
  },
  {
   "cell_type": "markdown",
   "id": "15189365-31e1-45dd-965a-6807577db726",
   "metadata": {},
   "source": [
    "발행기관은 ENDORSER가 됨으로써 indy-node에 데이터를 저장할 수 있는 권한을 얻는다"
   ]
  },
  {
   "cell_type": "markdown",
   "id": "d437fef9-be82-4cf7-ab9a-b5ae47a5ca88",
   "metadata": {},
   "source": [
    "## - 정부 ( Government )"
   ]
  },
  {
   "cell_type": "code",
   "execution_count": 27,
   "id": "33e4e7fd-71b2-4ac5-a08b-618df7b7a9bd",
   "metadata": {},
   "outputs": [],
   "source": [
    "government = {\n",
    "    'name': 'Government',\n",
    "    'wallet_config': json.dumps({'id': 'government_wallet'}),\n",
    "    'wallet_credentials': json.dumps({'key': 'government_wallet_key'}),\n",
    "    'pool': pool_['handle'],\n",
    "    'role': 'TRUST_ANCHOR'\n",
    "}"
   ]
  },
  {
   "cell_type": "code",
   "execution_count": 31,
   "id": "4b3b2e9d-5920-43bb-9482-c61ad6350a4c",
   "metadata": {},
   "outputs": [
    {
     "data": {
      "text/plain": [
       "{'name': 'Government',\n",
       " 'wallet_config': '{\"id\": \"government_wallet\"}',\n",
       " 'wallet_credentials': '{\"key\": \"government_wallet_key\"}',\n",
       " 'pool': 2,\n",
       " 'role': 'TRUST_ANCHOR'}"
      ]
     },
     "execution_count": 31,
     "metadata": {},
     "output_type": "execute_result"
    }
   ],
   "source": [
    "government"
   ]
  },
  {
   "cell_type": "markdown",
   "id": "e04ffe64-edb3-452d-8271-b7e295ed3a86",
   "metadata": {},
   "source": [
    "### * 지갑 생성과 DID 생성"
   ]
  },
  {
   "cell_type": "code",
   "execution_count": 32,
   "id": "7fa94e95-5eab-4e8d-b11f-ab0f6681933d",
   "metadata": {},
   "outputs": [],
   "source": [
    "await wallet.create_wallet(government['wallet_config'],government['wallet_credentials'])\n",
    "government['wallet'] = await wallet.open_wallet(government['wallet_config'],government['wallet_credentials'])"
   ]
  },
  {
   "cell_type": "code",
   "execution_count": 33,
   "id": "971391bb-675b-4559-84bd-eec2ce3c1b51",
   "metadata": {},
   "outputs": [],
   "source": [
    "government['did'], government['key'] = await did.create_and_store_my_did(government['wallet'], \"{}\")"
   ]
  },
  {
   "cell_type": "code",
   "execution_count": 34,
   "id": "23c55fa5-4fc6-4d8d-a098-30a6efa02c09",
   "metadata": {},
   "outputs": [
    {
     "data": {
      "text/plain": [
       "{'name': 'Government',\n",
       " 'wallet_config': '{\"id\": \"government_wallet\"}',\n",
       " 'wallet_credentials': '{\"key\": \"government_wallet_key\"}',\n",
       " 'pool': 2,\n",
       " 'role': 'TRUST_ANCHOR',\n",
       " 'wallet': 7,\n",
       " 'did': 'HwnVC4oxuamPhWWerqRiao',\n",
       " 'key': 'AEekM4krT71fqBpw4n7Nfjh63H8ocxqRq5NhxBtfKSzW'}"
      ]
     },
     "execution_count": 34,
     "metadata": {},
     "output_type": "execute_result"
    }
   ],
   "source": [
    "government"
   ]
  },
  {
   "cell_type": "code",
   "execution_count": 36,
   "id": "54c13bd2-aa02-475a-b914-083b9261ab38",
   "metadata": {},
   "outputs": [],
   "source": [
    "steward['info'] = {\n",
    "    'did': government['did'],\n",
    "    'verkey': government['key'],\n",
    "    'role': government['role'] or None\n",
    "}"
   ]
  },
  {
   "cell_type": "code",
   "execution_count": 37,
   "id": "92db7801-54b3-4c91-ba12-07ba150cdc25",
   "metadata": {},
   "outputs": [
    {
     "data": {
      "text/plain": [
       "{'name': 'Sovrin Steward',\n",
       " 'wallet_config': '{\"id\": \"sovrin_steward_wallet\"}',\n",
       " 'wallet_credentials': '{\"key\": \"steward_wallet_key\"}',\n",
       " 'pool': 2,\n",
       " 'seed': '000000000000000000000000Steward1',\n",
       " 'wallet': 5,\n",
       " 'did_info': '{\"seed\": \"000000000000000000000000Steward1\"}',\n",
       " 'did': 'Th7MpTaRZVRYnPiabds81Y',\n",
       " 'key': 'FYmoFw55GeQH7SRFa37dkx1d2dZ3zUF8ckg7wmL7ofN4',\n",
       " 'info': {'did': 'HwnVC4oxuamPhWWerqRiao',\n",
       "  'verkey': 'AEekM4krT71fqBpw4n7Nfjh63H8ocxqRq5NhxBtfKSzW',\n",
       "  'role': 'TRUST_ANCHOR'}}"
      ]
     },
     "execution_count": 37,
     "metadata": {},
     "output_type": "execute_result"
    }
   ],
   "source": [
    "steward"
   ]
  },
  {
   "cell_type": "markdown",
   "id": "c23b8241-a596-4da7-9364-11f451f7bbb5",
   "metadata": {},
   "source": [
    "### * Endorser 등록을 위한 NYM 트랜잭션 생성(Steward에서 실행)"
   ]
  },
  {
   "cell_type": "code",
   "execution_count": 38,
   "id": "1a1795a3-fa08-4180-9d79-2df1e367e76a",
   "metadata": {},
   "outputs": [],
   "source": [
    "nym_request = await ledger.build_nym_request(steward['did'], steward['info']['did'], steward['info']['verkey'], None, steward['info']['role'])"
   ]
  },
  {
   "cell_type": "code",
   "execution_count": null,
   "id": "95cfc87f-081c-4d77-a810-9349efc53b09",
   "metadata": {
    "tags": []
   },
   "outputs": [],
   "source": [
    "print(json.dumps(json.loads(nym_request),indent=4))"
   ]
  },
  {
   "cell_type": "code",
   "execution_count": 39,
   "id": "32d3dbe6-f120-4f40-99df-75691d4d73f9",
   "metadata": {},
   "outputs": [
    {
     "data": {
      "text/plain": [
       "'{\"op\":\"REPLY\",\"result\":{\"txnMetadata\":{\"txnTime\":1627587276,\"seqNo\":102,\"txnId\":\"a72c9ed26eb8b694e6d54d75924a726cafe68f319bfcfdb499fa59c0bfe10632\"},\"auditPath\":[\"FoGRB6zEeTXcFiFoweHkwCrC9iedLB4SzrdTNkAM92S7\",\"5Ex3YTQomHKmoL8wNvDFFgvAeKK9NwAfcJHfKmtHFNcC\",\"6dvhke25RyaL7KEDjo6Qz8d8gmwRbmJ3akurLQJrWYyr\",\"ChXSt8Tk59pd6re6jEL1LiDxHRrzQ2BFnpms9dMCANFW\"],\"reqSignature\":{\"type\":\"ED25519\",\"values\":[{\"value\":\"5o4oa7mupa436HYFBpctcBWWV5g3MJRSnDxs2icN3W2SfYVAoaPNDwdsnmZWARjBfHW9JMfVCLoMHRdBATzoiASp\",\"from\":\"Th7MpTaRZVRYnPiabds81Y\"}]},\"rootHash\":\"HtddmYXkH2XV85uFUr5RXu4cmyK8M7qRZYeyYhkiFzpe\",\"ver\":\"1\",\"txn\":{\"type\":\"1\",\"data\":{\"dest\":\"HwnVC4oxuamPhWWerqRiao\",\"verkey\":\"AEekM4krT71fqBpw4n7Nfjh63H8ocxqRq5NhxBtfKSzW\",\"role\":\"101\"},\"protocolVersion\":2,\"metadata\":{\"reqId\":1627587274270334899,\"from\":\"Th7MpTaRZVRYnPiabds81Y\",\"digest\":\"37161adaed8f856b2d47a4a654ad9c1b4d80272bae699fa7ce6b34ffe51bfd93\",\"payloadDigest\":\"ac8da5b12a244c8376082aaeaecbed9ccff6f0c5becb8a389c0a29c070696e03\"}}}}'"
      ]
     },
     "execution_count": 39,
     "metadata": {},
     "output_type": "execute_result"
    }
   ],
   "source": [
    "result = await ledger.sign_and_submit_request(steward['pool'], steward['wallet'], steward['did'], nym_request)"
   ]
  },
  {
   "cell_type": "code",
   "execution_count": 44,
   "id": "17f4e6cf-f4ab-42b3-9c42-87b82541c7fa",
   "metadata": {},
   "outputs": [
    {
     "name": "stdout",
     "output_type": "stream",
     "text": [
      "{\n",
      "    \"op\": \"REPLY\",\n",
      "    \"result\": {\n",
      "        \"txnMetadata\": {\n",
      "            \"txnTime\": 1627587276,\n",
      "            \"seqNo\": 102,\n",
      "            \"txnId\": \"a72c9ed26eb8b694e6d54d75924a726cafe68f319bfcfdb499fa59c0bfe10632\"\n",
      "        },\n",
      "        \"auditPath\": [\n",
      "            \"FoGRB6zEeTXcFiFoweHkwCrC9iedLB4SzrdTNkAM92S7\",\n",
      "            \"5Ex3YTQomHKmoL8wNvDFFgvAeKK9NwAfcJHfKmtHFNcC\",\n",
      "            \"6dvhke25RyaL7KEDjo6Qz8d8gmwRbmJ3akurLQJrWYyr\",\n",
      "            \"ChXSt8Tk59pd6re6jEL1LiDxHRrzQ2BFnpms9dMCANFW\"\n",
      "        ],\n",
      "        \"reqSignature\": {\n",
      "            \"type\": \"ED25519\",\n",
      "            \"values\": [\n",
      "                {\n",
      "                    \"value\": \"5o4oa7mupa436HYFBpctcBWWV5g3MJRSnDxs2icN3W2SfYVAoaPNDwdsnmZWARjBfHW9JMfVCLoMHRdBATzoiASp\",\n",
      "                    \"from\": \"Th7MpTaRZVRYnPiabds81Y\"\n",
      "                }\n",
      "            ]\n",
      "        },\n",
      "        \"rootHash\": \"HtddmYXkH2XV85uFUr5RXu4cmyK8M7qRZYeyYhkiFzpe\",\n",
      "        \"ver\": \"1\",\n",
      "        \"txn\": {\n",
      "            \"type\": \"1\",\n",
      "            \"data\": {\n",
      "                \"dest\": \"HwnVC4oxuamPhWWerqRiao\",\n",
      "                \"verkey\": \"AEekM4krT71fqBpw4n7Nfjh63H8ocxqRq5NhxBtfKSzW\",\n",
      "                \"role\": \"101\"\n",
      "            },\n",
      "            \"protocolVersion\": 2,\n",
      "            \"metadata\": {\n",
      "                \"reqId\": 1627587274270334899,\n",
      "                \"from\": \"Th7MpTaRZVRYnPiabds81Y\",\n",
      "                \"digest\": \"37161adaed8f856b2d47a4a654ad9c1b4d80272bae699fa7ce6b34ffe51bfd93\",\n",
      "                \"payloadDigest\": \"ac8da5b12a244c8376082aaeaecbed9ccff6f0c5becb8a389c0a29c070696e03\"\n",
      "            }\n",
      "        }\n",
      "    }\n",
      "}\n"
     ]
    }
   ],
   "source": [
    "print(json.dumps(json.loads(result),indent=4))"
   ]
  },
  {
   "cell_type": "markdown",
   "id": "a5487d22-9fcb-4976-a70f-80a9e88bd975",
   "metadata": {},
   "source": [
    "## - 대학 ( Faber)"
   ]
  },
  {
   "cell_type": "code",
   "execution_count": 45,
   "id": "579c5f3f-5c0e-4346-96ed-bd16aedd3825",
   "metadata": {
    "tags": []
   },
   "outputs": [],
   "source": [
    "faber = {\n",
    "    'name': 'Faber',\n",
    "    'wallet_config': json.dumps({'id': 'faber_wallet'}),\n",
    "    'wallet_credentials': json.dumps({'key': 'faber_wallet_key'}),\n",
    "    'pool': pool_['handle'],\n",
    "    'role': 'TRUST_ANCHOR'\n",
    "}"
   ]
  },
  {
   "cell_type": "code",
   "execution_count": 46,
   "id": "557f3e4d-8ae1-4927-ae01-94a18270b6d4",
   "metadata": {},
   "outputs": [
    {
     "data": {
      "text/plain": [
       "{'name': 'Faber',\n",
       " 'wallet_config': '{\"id\": \"faber_wallet\"}',\n",
       " 'wallet_credentials': '{\"key\": \"faber_wallet_key\"}',\n",
       " 'pool': 2,\n",
       " 'role': 'TRUST_ANCHOR'}"
      ]
     },
     "execution_count": 46,
     "metadata": {},
     "output_type": "execute_result"
    }
   ],
   "source": [
    "faber"
   ]
  },
  {
   "cell_type": "markdown",
   "id": "74819704-4c10-4ed6-8cd1-b6d4beb4ed1b",
   "metadata": {},
   "source": [
    "### * 지갑 생성과 DID 생성"
   ]
  },
  {
   "cell_type": "code",
   "execution_count": 47,
   "id": "14423d60-6321-45bd-a2d2-d20ffd49cf8c",
   "metadata": {},
   "outputs": [],
   "source": [
    "await wallet.create_wallet(faber['wallet_config'],faber['wallet_credentials'])\n",
    "faber['wallet'] = await wallet.open_wallet(faber['wallet_config'],faber['wallet_credentials'])"
   ]
  },
  {
   "cell_type": "code",
   "execution_count": 48,
   "id": "5ac4ac79-c06d-43d1-8bbc-6eaf652de478",
   "metadata": {},
   "outputs": [],
   "source": [
    "faber['did'], faber['key'] = await did.create_and_store_my_did(faber['wallet'], \"{}\")"
   ]
  },
  {
   "cell_type": "code",
   "execution_count": 49,
   "id": "6a0a947e-2d59-4bcb-bdf9-ae398c49a2bc",
   "metadata": {},
   "outputs": [
    {
     "data": {
      "text/plain": [
       "{'name': 'Faber',\n",
       " 'wallet_config': '{\"id\": \"faber_wallet\"}',\n",
       " 'wallet_credentials': '{\"key\": \"faber_wallet_key\"}',\n",
       " 'pool': 2,\n",
       " 'role': 'TRUST_ANCHOR',\n",
       " 'wallet': 11,\n",
       " 'did': 'JqXcGcG5EaY8eptJZp9P8v',\n",
       " 'key': 'AirTjLiEUMX4AXbN5bS4xyBryD5CMc8J72nSoXYpbTLm'}"
      ]
     },
     "execution_count": 49,
     "metadata": {},
     "output_type": "execute_result"
    }
   ],
   "source": [
    "faber"
   ]
  },
  {
   "cell_type": "code",
   "execution_count": 50,
   "id": "377a4ac7-c1e8-4093-adeb-5459326f760c",
   "metadata": {},
   "outputs": [],
   "source": [
    "steward['info'] = {\n",
    "    'did': faber['did'],\n",
    "    'verkey': faber['key'],\n",
    "    'role': faber['role'] or None\n",
    "}"
   ]
  },
  {
   "cell_type": "code",
   "execution_count": 51,
   "id": "9d7789ed-87f2-42a5-9358-afd15a4bcfb2",
   "metadata": {},
   "outputs": [
    {
     "data": {
      "text/plain": [
       "{'name': 'Sovrin Steward',\n",
       " 'wallet_config': '{\"id\": \"sovrin_steward_wallet\"}',\n",
       " 'wallet_credentials': '{\"key\": \"steward_wallet_key\"}',\n",
       " 'pool': 2,\n",
       " 'seed': '000000000000000000000000Steward1',\n",
       " 'wallet': 5,\n",
       " 'did_info': '{\"seed\": \"000000000000000000000000Steward1\"}',\n",
       " 'did': 'Th7MpTaRZVRYnPiabds81Y',\n",
       " 'key': 'FYmoFw55GeQH7SRFa37dkx1d2dZ3zUF8ckg7wmL7ofN4',\n",
       " 'info': {'did': 'JqXcGcG5EaY8eptJZp9P8v',\n",
       "  'verkey': 'AirTjLiEUMX4AXbN5bS4xyBryD5CMc8J72nSoXYpbTLm',\n",
       "  'role': 'TRUST_ANCHOR'}}"
      ]
     },
     "execution_count": 51,
     "metadata": {},
     "output_type": "execute_result"
    }
   ],
   "source": [
    "steward"
   ]
  },
  {
   "cell_type": "markdown",
   "id": "f6de7fa3-3c0d-4769-9fb3-5ff541b37346",
   "metadata": {},
   "source": [
    "### * Endorser 등록을 위한 NYM 트랜잭션 생성(Steward에서 실행)"
   ]
  },
  {
   "cell_type": "code",
   "execution_count": 52,
   "id": "30cbcc38-9026-4e2e-8745-4dde8d13ed2d",
   "metadata": {},
   "outputs": [],
   "source": [
    "nym_request = await ledger.build_nym_request(steward['did'], steward['info']['did'], steward['info']['verkey'], None, steward['info']['role'])"
   ]
  },
  {
   "cell_type": "code",
   "execution_count": null,
   "id": "793bee52-f5b3-40c5-b288-27a56eff7c89",
   "metadata": {
    "tags": []
   },
   "outputs": [],
   "source": [
    "print(json.dumps(json.loads(nym_request),indent=4))"
   ]
  },
  {
   "cell_type": "code",
   "execution_count": 53,
   "id": "5aa8e81d-5ac6-46aa-81c4-74e396de34d1",
   "metadata": {},
   "outputs": [],
   "source": [
    "result = await ledger.sign_and_submit_request(steward['pool'], steward['wallet'], steward['did'], nym_request)"
   ]
  },
  {
   "cell_type": "code",
   "execution_count": 54,
   "id": "cbe18545-ab0c-43fd-b0c9-2394f85855a8",
   "metadata": {},
   "outputs": [
    {
     "name": "stdout",
     "output_type": "stream",
     "text": [
      "{\n",
      "    \"result\": {\n",
      "        \"txn\": {\n",
      "            \"type\": \"1\",\n",
      "            \"data\": {\n",
      "                \"dest\": \"JqXcGcG5EaY8eptJZp9P8v\",\n",
      "                \"role\": \"101\",\n",
      "                \"verkey\": \"AirTjLiEUMX4AXbN5bS4xyBryD5CMc8J72nSoXYpbTLm\"\n",
      "            },\n",
      "            \"metadata\": {\n",
      "                \"payloadDigest\": \"e9ae1f3cc8d253cc5e9f5d0db88552de0789d9e364b648e526993c0942ce22e8\",\n",
      "                \"from\": \"Th7MpTaRZVRYnPiabds81Y\",\n",
      "                \"reqId\": 1627587637868382196,\n",
      "                \"digest\": \"fc33fa9b669d6d09077577f691321fa70a4ef962959bb78e178dc208ba41ebd5\"\n",
      "            },\n",
      "            \"protocolVersion\": 2\n",
      "        },\n",
      "        \"txnMetadata\": {\n",
      "            \"txnId\": \"558043aea4bee4e6aed6e8d1c73b9296b20be51e7f610d71bf7a3f56a756e25f\",\n",
      "            \"txnTime\": 1627587640,\n",
      "            \"seqNo\": 103\n",
      "        },\n",
      "        \"auditPath\": [\n",
      "            \"9wfkeWFpjXJqXBPKyhqoQQkNrmF32LgoQLBXVmyKsCBn\",\n",
      "            \"5Ex3YTQomHKmoL8wNvDFFgvAeKK9NwAfcJHfKmtHFNcC\",\n",
      "            \"6dvhke25RyaL7KEDjo6Qz8d8gmwRbmJ3akurLQJrWYyr\",\n",
      "            \"ChXSt8Tk59pd6re6jEL1LiDxHRrzQ2BFnpms9dMCANFW\"\n",
      "        ],\n",
      "        \"rootHash\": \"BaPXj3Popvm1HDZv9y9FwA82ZFZZz3WJ6y5rsm8HsEa8\",\n",
      "        \"ver\": \"1\",\n",
      "        \"reqSignature\": {\n",
      "            \"type\": \"ED25519\",\n",
      "            \"values\": [\n",
      "                {\n",
      "                    \"from\": \"Th7MpTaRZVRYnPiabds81Y\",\n",
      "                    \"value\": \"zdeHK2yaoRHCfbHeMTNCLV1jj3yUFHcaqqgs1he4jtaPc11vgSEV2UYmVooxtiRy3xU2ViFbxnKGzsp9pg6eJLa\"\n",
      "                }\n",
      "            ]\n",
      "        }\n",
      "    },\n",
      "    \"op\": \"REPLY\"\n",
      "}\n"
     ]
    }
   ],
   "source": [
    "print(json.dumps(json.loads(result),indent=4))"
   ]
  },
  {
   "cell_type": "markdown",
   "id": "878048f2-9e74-44d0-a29c-5330e6b2e7ed",
   "metadata": {
    "tags": []
   },
   "source": [
    "## - 회사 ( Acme )"
   ]
  },
  {
   "cell_type": "code",
   "execution_count": 55,
   "id": "b1d06f5e-efa0-4b2d-a91f-0049f00c92e2",
   "metadata": {
    "tags": []
   },
   "outputs": [],
   "source": [
    "acme = {\n",
    "    'name': 'Acme',\n",
    "    'wallet_config': json.dumps({'id': 'acme_wallet'}),\n",
    "    'wallet_credentials': json.dumps({'key': 'acme_wallet_key'}),\n",
    "    'pool': pool_['handle'],\n",
    "    'role': 'TRUST_ANCHOR'\n",
    "}"
   ]
  },
  {
   "cell_type": "code",
   "execution_count": 56,
   "id": "26f8dfd6-2aee-4726-9860-958985d619d4",
   "metadata": {},
   "outputs": [
    {
     "data": {
      "text/plain": [
       "{'name': 'Acme',\n",
       " 'wallet_config': '{\"id\": \"acme_wallet\"}',\n",
       " 'wallet_credentials': '{\"key\": \"acme_wallet_key\"}',\n",
       " 'pool': 2,\n",
       " 'role': 'TRUST_ANCHOR'}"
      ]
     },
     "execution_count": 56,
     "metadata": {},
     "output_type": "execute_result"
    }
   ],
   "source": [
    "acme"
   ]
  },
  {
   "cell_type": "markdown",
   "id": "f247427e-4e95-4f20-b14f-02916f57c251",
   "metadata": {},
   "source": [
    "### * 지갑 생성과 DID 생성"
   ]
  },
  {
   "cell_type": "code",
   "execution_count": 57,
   "id": "9f1d1d38-989d-45c1-a35b-702150d83a86",
   "metadata": {},
   "outputs": [],
   "source": [
    "await wallet.create_wallet(acme['wallet_config'],acme['wallet_credentials'])\n",
    "acme['wallet'] = await wallet.open_wallet(acme['wallet_config'],acme['wallet_credentials'])"
   ]
  },
  {
   "cell_type": "code",
   "execution_count": 58,
   "id": "057516b1-7fbc-4ea2-8f82-884cf02c9626",
   "metadata": {},
   "outputs": [],
   "source": [
    "acme['did'], acme['key'] = await did.create_and_store_my_did(acme['wallet'], \"{}\")"
   ]
  },
  {
   "cell_type": "code",
   "execution_count": 59,
   "id": "4ae394b6-c38c-4907-85fb-a476774a6d9c",
   "metadata": {},
   "outputs": [
    {
     "data": {
      "text/plain": [
       "{'name': 'Acme',\n",
       " 'wallet_config': '{\"id\": \"acme_wallet\"}',\n",
       " 'wallet_credentials': '{\"key\": \"acme_wallet_key\"}',\n",
       " 'pool': 2,\n",
       " 'role': 'TRUST_ANCHOR',\n",
       " 'wallet': 15,\n",
       " 'did': 'DYHgp6eSHgiuzJEekw44c2',\n",
       " 'key': '7qPzsoeMbELi5WDEjSDKhVpsfCfijWAVvvmf2SG5tYM4'}"
      ]
     },
     "execution_count": 59,
     "metadata": {},
     "output_type": "execute_result"
    }
   ],
   "source": [
    "acme"
   ]
  },
  {
   "cell_type": "code",
   "execution_count": 60,
   "id": "17a144f2-770f-422a-9d5f-9b76dfe5e23f",
   "metadata": {},
   "outputs": [],
   "source": [
    "steward['info'] = {\n",
    "    'did': acme['did'],\n",
    "    'verkey': acme['key'],\n",
    "    'role': acme['role'] or None\n",
    "}"
   ]
  },
  {
   "cell_type": "code",
   "execution_count": 61,
   "id": "e6f93f3a-aa50-4c84-a838-0f7745a3016a",
   "metadata": {},
   "outputs": [
    {
     "data": {
      "text/plain": [
       "{'name': 'Sovrin Steward',\n",
       " 'wallet_config': '{\"id\": \"sovrin_steward_wallet\"}',\n",
       " 'wallet_credentials': '{\"key\": \"steward_wallet_key\"}',\n",
       " 'pool': 2,\n",
       " 'seed': '000000000000000000000000Steward1',\n",
       " 'wallet': 5,\n",
       " 'did_info': '{\"seed\": \"000000000000000000000000Steward1\"}',\n",
       " 'did': 'Th7MpTaRZVRYnPiabds81Y',\n",
       " 'key': 'FYmoFw55GeQH7SRFa37dkx1d2dZ3zUF8ckg7wmL7ofN4',\n",
       " 'info': {'did': 'DYHgp6eSHgiuzJEekw44c2',\n",
       "  'verkey': '7qPzsoeMbELi5WDEjSDKhVpsfCfijWAVvvmf2SG5tYM4',\n",
       "  'role': 'TRUST_ANCHOR'}}"
      ]
     },
     "execution_count": 61,
     "metadata": {},
     "output_type": "execute_result"
    }
   ],
   "source": [
    "steward"
   ]
  },
  {
   "cell_type": "markdown",
   "id": "1e042407-26c5-4825-a12b-df8ff987eaaf",
   "metadata": {},
   "source": [
    "### * Endorser 등록을 위한 NYM 트랜잭션 생성(Steward에서 실행)"
   ]
  },
  {
   "cell_type": "code",
   "execution_count": 62,
   "id": "a1da14a3-df22-4454-bd5e-a3386dbb0c37",
   "metadata": {},
   "outputs": [],
   "source": [
    "nym_request = await ledger.build_nym_request(steward['did'], steward['info']['did'], steward['info']['verkey'], None, steward['info']['role'])"
   ]
  },
  {
   "cell_type": "code",
   "execution_count": null,
   "id": "7d4c033d-b8af-4bc7-9425-ed708f1e175e",
   "metadata": {
    "tags": []
   },
   "outputs": [],
   "source": [
    "print(json.dumps(json.loads(nym_request),indent=4))"
   ]
  },
  {
   "cell_type": "code",
   "execution_count": 63,
   "id": "86735f51-e914-459b-8257-7ef7a28142ca",
   "metadata": {},
   "outputs": [],
   "source": [
    "result = await ledger.sign_and_submit_request(steward['pool'], steward['wallet'], steward['did'], nym_request)"
   ]
  },
  {
   "cell_type": "code",
   "execution_count": 64,
   "id": "13bcc2e9-4300-40b0-8d56-26271de4257b",
   "metadata": {},
   "outputs": [
    {
     "name": "stdout",
     "output_type": "stream",
     "text": [
      "{\n",
      "    \"result\": {\n",
      "        \"txn\": {\n",
      "            \"type\": \"1\",\n",
      "            \"data\": {\n",
      "                \"dest\": \"DYHgp6eSHgiuzJEekw44c2\",\n",
      "                \"role\": \"101\",\n",
      "                \"verkey\": \"7qPzsoeMbELi5WDEjSDKhVpsfCfijWAVvvmf2SG5tYM4\"\n",
      "            },\n",
      "            \"metadata\": {\n",
      "                \"payloadDigest\": \"18cdcd41ad482f8625a2c89a7df0158656356bc8b6ca09f8d880be59c61fb77b\",\n",
      "                \"from\": \"Th7MpTaRZVRYnPiabds81Y\",\n",
      "                \"reqId\": 1627587799023644491,\n",
      "                \"digest\": \"749922361f2f42da0c5c7f59e0153c5760f42f9700c6c6fbac3e3ed84393b302\"\n",
      "            },\n",
      "            \"protocolVersion\": 2\n",
      "        },\n",
      "        \"txnMetadata\": {\n",
      "            \"txnId\": \"a1511eb5c2209fb94078d2a2a7c342e886cfac783846dd368ae1a0a0c21e81fd\",\n",
      "            \"txnTime\": 1627587800,\n",
      "            \"seqNo\": 104\n",
      "        },\n",
      "        \"auditPath\": [\n",
      "            \"5mEws3qTp4YsrqjomozuPpRXjrHdxPnMhbkKw4D4wqK3\",\n",
      "            \"9wfkeWFpjXJqXBPKyhqoQQkNrmF32LgoQLBXVmyKsCBn\",\n",
      "            \"5Ex3YTQomHKmoL8wNvDFFgvAeKK9NwAfcJHfKmtHFNcC\",\n",
      "            \"6dvhke25RyaL7KEDjo6Qz8d8gmwRbmJ3akurLQJrWYyr\",\n",
      "            \"ChXSt8Tk59pd6re6jEL1LiDxHRrzQ2BFnpms9dMCANFW\"\n",
      "        ],\n",
      "        \"rootHash\": \"B4F9WSXaLW7V19smy83Bc8WhunTetP2AyFLzmreS2V72\",\n",
      "        \"ver\": \"1\",\n",
      "        \"reqSignature\": {\n",
      "            \"type\": \"ED25519\",\n",
      "            \"values\": [\n",
      "                {\n",
      "                    \"from\": \"Th7MpTaRZVRYnPiabds81Y\",\n",
      "                    \"value\": \"44tphPCBUnFXgwQ9XBvrE5Z4rmXfU2LHxZtCaPmaCSNQsLyNCEcvyJYSdEnTDJPkAQSjMDXDNjUUtyuqnDLoN5JN\"\n",
      "                }\n",
      "            ]\n",
      "        }\n",
      "    },\n",
      "    \"op\": \"REPLY\"\n",
      "}\n"
     ]
    }
   ],
   "source": [
    "print(json.dumps(json.loads(result),indent=4))"
   ]
  },
  {
   "cell_type": "markdown",
   "id": "81ac888e-0526-4c13-9938-8f884eb83f08",
   "metadata": {
    "tags": []
   },
   "source": [
    "## - 은행 ( Thrift )"
   ]
  },
  {
   "cell_type": "code",
   "execution_count": 65,
   "id": "d120e466-d7c0-4d4e-beeb-f59f2ba9f707",
   "metadata": {
    "tags": []
   },
   "outputs": [],
   "source": [
    "thrift = {\n",
    "    'name': 'Thrift',\n",
    "    'wallet_config': json.dumps({'id': 'thrift_wallet'}),\n",
    "    'wallet_credentials': json.dumps({'key': 'thrift_wallet_key'}),\n",
    "    'pool': pool_['handle'],\n",
    "    'role': 'TRUST_ANCHOR'\n",
    "}"
   ]
  },
  {
   "cell_type": "code",
   "execution_count": 66,
   "id": "1d94b145-0bc9-4c52-9f7d-185dcd55da44",
   "metadata": {},
   "outputs": [
    {
     "data": {
      "text/plain": [
       "{'name': 'Thrift',\n",
       " 'wallet_config': '{\"id\": \"thrift_wallet\"}',\n",
       " 'wallet_credentials': '{\"key\": \"thrift_wallet_key\"}',\n",
       " 'pool': 2,\n",
       " 'role': 'TRUST_ANCHOR'}"
      ]
     },
     "execution_count": 66,
     "metadata": {},
     "output_type": "execute_result"
    }
   ],
   "source": [
    "thrift"
   ]
  },
  {
   "cell_type": "markdown",
   "id": "00f18506-31bf-44e1-8b65-66bc330d763f",
   "metadata": {},
   "source": [
    "### * 지갑 생성과 DID 생성"
   ]
  },
  {
   "cell_type": "code",
   "execution_count": 67,
   "id": "260b5183-c29c-4897-8946-078e63dacc6e",
   "metadata": {},
   "outputs": [],
   "source": [
    "await wallet.create_wallet(thrift['wallet_config'],thrift['wallet_credentials'])\n",
    "thrift['wallet'] = await wallet.open_wallet(thrift['wallet_config'],thrift['wallet_credentials'])"
   ]
  },
  {
   "cell_type": "code",
   "execution_count": 68,
   "id": "d63f4dfd-ddf6-4588-976e-3146ca533944",
   "metadata": {},
   "outputs": [],
   "source": [
    "thrift['did'], thrift['key'] = await did.create_and_store_my_did(thrift['wallet'], \"{}\")"
   ]
  },
  {
   "cell_type": "code",
   "execution_count": 69,
   "id": "521e4ac5-fc05-4868-84d0-a8891ada7251",
   "metadata": {},
   "outputs": [
    {
     "data": {
      "text/plain": [
       "{'name': 'Thrift',\n",
       " 'wallet_config': '{\"id\": \"thrift_wallet\"}',\n",
       " 'wallet_credentials': '{\"key\": \"thrift_wallet_key\"}',\n",
       " 'pool': 2,\n",
       " 'role': 'TRUST_ANCHOR',\n",
       " 'wallet': 19,\n",
       " 'did': 'PweH6U8oNVunioH5P1Z9fT',\n",
       " 'key': 'DWFEtUyvE3YeriRo3L1aFQu8bpQKk4ev8Nh34jcoF6t2'}"
      ]
     },
     "execution_count": 69,
     "metadata": {},
     "output_type": "execute_result"
    }
   ],
   "source": [
    "thrift"
   ]
  },
  {
   "cell_type": "code",
   "execution_count": 70,
   "id": "af6c9208-190b-405a-ad04-bb134e169766",
   "metadata": {},
   "outputs": [],
   "source": [
    "steward['info'] = {\n",
    "    'did': thrift['did'],\n",
    "    'verkey': thrift['key'],\n",
    "    'role': thrift['role'] or None\n",
    "}"
   ]
  },
  {
   "cell_type": "code",
   "execution_count": 71,
   "id": "6732bd0d-e38a-4cdf-9ab1-0ba95f5e2e5e",
   "metadata": {},
   "outputs": [
    {
     "data": {
      "text/plain": [
       "{'name': 'Sovrin Steward',\n",
       " 'wallet_config': '{\"id\": \"sovrin_steward_wallet\"}',\n",
       " 'wallet_credentials': '{\"key\": \"steward_wallet_key\"}',\n",
       " 'pool': 2,\n",
       " 'seed': '000000000000000000000000Steward1',\n",
       " 'wallet': 5,\n",
       " 'did_info': '{\"seed\": \"000000000000000000000000Steward1\"}',\n",
       " 'did': 'Th7MpTaRZVRYnPiabds81Y',\n",
       " 'key': 'FYmoFw55GeQH7SRFa37dkx1d2dZ3zUF8ckg7wmL7ofN4',\n",
       " 'info': {'did': 'PweH6U8oNVunioH5P1Z9fT',\n",
       "  'verkey': 'DWFEtUyvE3YeriRo3L1aFQu8bpQKk4ev8Nh34jcoF6t2',\n",
       "  'role': 'TRUST_ANCHOR'}}"
      ]
     },
     "execution_count": 71,
     "metadata": {},
     "output_type": "execute_result"
    }
   ],
   "source": [
    "steward"
   ]
  },
  {
   "cell_type": "markdown",
   "id": "2f1b2dcc-9fc5-4ef0-9b05-6f4a5153e342",
   "metadata": {},
   "source": [
    "### * Endorser 등록을 위한 NYM 트랜잭션 생성(Steward에서 실행)"
   ]
  },
  {
   "cell_type": "code",
   "execution_count": 72,
   "id": "77ee40b0-910c-40fc-a6f4-e41554686c03",
   "metadata": {},
   "outputs": [],
   "source": [
    "nym_request = await ledger.build_nym_request(steward['did'], steward['info']['did'], steward['info']['verkey'], None, steward['info']['role'])"
   ]
  },
  {
   "cell_type": "code",
   "execution_count": null,
   "id": "038db755-b4d7-42d0-90b3-b9fd1e86982a",
   "metadata": {
    "tags": []
   },
   "outputs": [],
   "source": [
    "print(json.dumps(json.loads(nym_request),indent=4))"
   ]
  },
  {
   "cell_type": "code",
   "execution_count": 73,
   "id": "06f5ad3b-b056-455d-8ce8-e9ac4c1d1bba",
   "metadata": {},
   "outputs": [],
   "source": [
    "result = await ledger.sign_and_submit_request(steward['pool'], steward['wallet'], steward['did'], nym_request)"
   ]
  },
  {
   "cell_type": "code",
   "execution_count": 74,
   "id": "a0602048-4e05-44ce-a7d1-bbda8915d1f5",
   "metadata": {},
   "outputs": [
    {
     "name": "stdout",
     "output_type": "stream",
     "text": [
      "{\n",
      "    \"op\": \"REPLY\",\n",
      "    \"result\": {\n",
      "        \"rootHash\": \"AhHoB1YEhmY6PqkT45fWNjMrYiyS4aq3aS5A74TvWSPZ\",\n",
      "        \"auditPath\": [\n",
      "            \"yfYMJ83bPsKVHDVMjxupgNWkL9CArAUpLQ3oN9zkNTh\",\n",
      "            \"6dvhke25RyaL7KEDjo6Qz8d8gmwRbmJ3akurLQJrWYyr\",\n",
      "            \"ChXSt8Tk59pd6re6jEL1LiDxHRrzQ2BFnpms9dMCANFW\"\n",
      "        ],\n",
      "        \"txn\": {\n",
      "            \"data\": {\n",
      "                \"dest\": \"PweH6U8oNVunioH5P1Z9fT\",\n",
      "                \"verkey\": \"DWFEtUyvE3YeriRo3L1aFQu8bpQKk4ev8Nh34jcoF6t2\",\n",
      "                \"role\": \"101\"\n",
      "            },\n",
      "            \"protocolVersion\": 2,\n",
      "            \"type\": \"1\",\n",
      "            \"metadata\": {\n",
      "                \"digest\": \"fc9bcaac0ccec645e342e242c0be061727562652cec4192176231ec1a015addc\",\n",
      "                \"payloadDigest\": \"84b6a5e219f51656edb0f48f76d870d8f0b473eeac8d24cf6e4016228e11c513\",\n",
      "                \"from\": \"Th7MpTaRZVRYnPiabds81Y\",\n",
      "                \"reqId\": 1627587921258294585\n",
      "            }\n",
      "        },\n",
      "        \"reqSignature\": {\n",
      "            \"values\": [\n",
      "                {\n",
      "                    \"value\": \"crDNsMrAX1PQubfY1rrhyJyvumbmjapfDZ7zVZtb4ZYhZuwMBtpQ3uqg3RGfPfzgy9SwRPrHUJ4vvpnzCNRxYPy\",\n",
      "                    \"from\": \"Th7MpTaRZVRYnPiabds81Y\"\n",
      "                }\n",
      "            ],\n",
      "            \"type\": \"ED25519\"\n",
      "        },\n",
      "        \"txnMetadata\": {\n",
      "            \"txnId\": \"d3a6805deb5c0d173ffbb0409ec665e14643ca46cc9710ad7401dff6d6ebf120\",\n",
      "            \"seqNo\": 105,\n",
      "            \"txnTime\": 1627587922\n",
      "        },\n",
      "        \"ver\": \"1\"\n",
      "    }\n",
      "}\n"
     ]
    }
   ],
   "source": [
    "print(json.dumps(json.loads(result),indent=4))"
   ]
  },
  {
   "cell_type": "markdown",
   "id": "b359cb60-7ca5-405d-9197-aa1379207a95",
   "metadata": {},
   "source": [
    "# 4. Schema, Credential Definition 등록"
   ]
  },
  {
   "cell_type": "markdown",
   "id": "d81b9b9e-21cf-4fc5-b1b5-052f956486aa",
   "metadata": {},
   "source": [
    " - 정부가 Faber college와 Acme Corp.가 사용할 수 있는 Schema를 생성하여 indy-node에 등록\n",
    " - 대학과 회사는 각각 정부가 등록한 Schema를 사용하여 Credential Definition 생성 뒤 indy-node에 등록\n",
    " - VC 발행준비 모두 마치게 됨"
   ]
  },
  {
   "cell_type": "markdown",
   "id": "243e7d7b-9a4b-43cd-9784-55cc8d597094",
   "metadata": {
    "tags": []
   },
   "source": [
    "## - 재직증명서(job_certificate) Shema 등록(By.정부)"
   ]
  },
  {
   "cell_type": "code",
   "execution_count": 76,
   "id": "45a90fd1-4fe4-48fd-8bc5-7c8564c70261",
   "metadata": {},
   "outputs": [],
   "source": [
    "job_certificate = {\n",
    "    'name': 'Job-Certificate',\n",
    "    'version': '0.2',\n",
    "    'attributes': ['first_name', 'last_name', 'salary', 'employee_status', 'experience']\n",
    "}"
   ]
  },
  {
   "cell_type": "code",
   "execution_count": 78,
   "id": "1d464fda-5834-4c7a-bf8a-fea83b7ff94b",
   "metadata": {},
   "outputs": [],
   "source": [
    "government['job_certificate_schema_id'], government['job_certificate_schema'] = \\\n",
    "        await anoncreds.issuer_create_schema(government['did'], \n",
    "                                             job_certificate['name'], \n",
    "                                             job_certificate['version'],\n",
    "                                             json.dumps(job_certificate['attributes']))\n"
   ]
  },
  {
   "cell_type": "code",
   "execution_count": null,
   "id": "1b0e2a23-18c1-47af-abd8-97cc47e09817",
   "metadata": {},
   "outputs": [],
   "source": [
    "government"
   ]
  },
  {
   "cell_type": "code",
   "execution_count": null,
   "id": "7e922f75-051c-4100-badb-c823e7e8fc25",
   "metadata": {},
   "outputs": [],
   "source": [
    "job_certificate_schema_id = government['job_certificate_schema_id']"
   ]
  },
  {
   "cell_type": "code",
   "execution_count": 79,
   "id": "983c9b88-5134-4078-8bca-b857f367ad3b",
   "metadata": {},
   "outputs": [
    {
     "data": {
      "text/plain": [
       "'HwnVC4oxuamPhWWerqRiao:2:Job-Certificate:0.2'"
      ]
     },
     "execution_count": 79,
     "metadata": {},
     "output_type": "execute_result"
    }
   ],
   "source": [
    "job_certificate_schema_id"
   ]
  },
  {
   "cell_type": "code",
   "execution_count": 80,
   "id": "57bd2240-3ce4-4de6-9c5f-04d2b6e85952",
   "metadata": {},
   "outputs": [],
   "source": [
    "schema_request = await ledger.build_schema_request(government['did'], government['job_certificate_schema'])"
   ]
  },
  {
   "cell_type": "code",
   "execution_count": 84,
   "id": "c87b342f-ccf9-4d8b-8ae8-ebab34ede5ba",
   "metadata": {},
   "outputs": [
    {
     "name": "stdout",
     "output_type": "stream",
     "text": [
      "{\n",
      "    \"reqId\": 1627588756258812505,\n",
      "    \"identifier\": \"HwnVC4oxuamPhWWerqRiao\",\n",
      "    \"operation\": {\n",
      "        \"type\": \"101\",\n",
      "        \"data\": {\n",
      "            \"name\": \"Job-Certificate\",\n",
      "            \"version\": \"0.2\",\n",
      "            \"attr_names\": [\n",
      "                \"experience\",\n",
      "                \"last_name\",\n",
      "                \"employee_status\",\n",
      "                \"first_name\",\n",
      "                \"salary\"\n",
      "            ]\n",
      "        }\n",
      "    },\n",
      "    \"protocolVersion\": 2\n",
      "}\n"
     ]
    }
   ],
   "source": [
    "print(json.dumps(json.loads(schema_request),indent=4))"
   ]
  },
  {
   "cell_type": "code",
   "execution_count": 85,
   "id": "0f170007-7ad9-4820-bd2c-e9f18f5a272a",
   "metadata": {},
   "outputs": [],
   "source": [
    "result = await ledger.sign_and_submit_request(government['pool'], government['wallet'], government['did'], schema_request)"
   ]
  },
  {
   "cell_type": "code",
   "execution_count": 86,
   "id": "5302fc62-dbc6-4550-8c0e-a35df35260dc",
   "metadata": {},
   "outputs": [
    {
     "name": "stdout",
     "output_type": "stream",
     "text": [
      "{\n",
      "    \"op\": \"REPLY\",\n",
      "    \"result\": {\n",
      "        \"rootHash\": \"9sLN6fSLmSPZeU9fkqw8KBqSXoDZmJc3Cg68yMF2RHAK\",\n",
      "        \"auditPath\": [\n",
      "            \"3xTVUBNJmT8EMsbjdTy42t4nUKBYgNZfWQpYcXNgK3tj\",\n",
      "            \"yfYMJ83bPsKVHDVMjxupgNWkL9CArAUpLQ3oN9zkNTh\",\n",
      "            \"6dvhke25RyaL7KEDjo6Qz8d8gmwRbmJ3akurLQJrWYyr\",\n",
      "            \"ChXSt8Tk59pd6re6jEL1LiDxHRrzQ2BFnpms9dMCANFW\"\n",
      "        ],\n",
      "        \"txn\": {\n",
      "            \"data\": {\n",
      "                \"data\": {\n",
      "                    \"version\": \"0.2\",\n",
      "                    \"attr_names\": [\n",
      "                        \"experience\",\n",
      "                        \"last_name\",\n",
      "                        \"employee_status\",\n",
      "                        \"first_name\",\n",
      "                        \"salary\"\n",
      "                    ],\n",
      "                    \"name\": \"Job-Certificate\"\n",
      "                }\n",
      "            },\n",
      "            \"protocolVersion\": 2,\n",
      "            \"type\": \"101\",\n",
      "            \"metadata\": {\n",
      "                \"digest\": \"07f71b7083f2c36bf1ddcf646035d69f5528cc0a16ecef373040f0e173480e8c\",\n",
      "                \"payloadDigest\": \"cc8e4b7114a6ecb8a09c4579ba975b7d798a26ab641f2ef6655edbeaf1db6c59\",\n",
      "                \"from\": \"HwnVC4oxuamPhWWerqRiao\",\n",
      "                \"reqId\": 1627588756258812505\n",
      "            }\n",
      "        },\n",
      "        \"reqSignature\": {\n",
      "            \"values\": [\n",
      "                {\n",
      "                    \"value\": \"562WsiK63gLDd1Hsa4gt5LcqaMecZbqmtx7JcSaBBsKwYSMC18YMW1YQxz2dwNFBxdSTuYF613UyNn9KyvtBr5PJ\",\n",
      "                    \"from\": \"HwnVC4oxuamPhWWerqRiao\"\n",
      "                }\n",
      "            ],\n",
      "            \"type\": \"ED25519\"\n",
      "        },\n",
      "        \"txnMetadata\": {\n",
      "            \"txnId\": \"HwnVC4oxuamPhWWerqRiao:2:Job-Certificate:0.2\",\n",
      "            \"seqNo\": 106,\n",
      "            \"txnTime\": 1627588951\n",
      "        },\n",
      "        \"ver\": \"1\"\n",
      "    }\n",
      "}\n"
     ]
    }
   ],
   "source": [
    "print(json.dumps(json.loads(result),indent=4))"
   ]
  },
  {
   "cell_type": "markdown",
   "id": "bf998561-c624-4c42-b7aa-e7134a58c024",
   "metadata": {
    "tags": []
   },
   "source": [
    "## - 대학성적표(transcript) Shema 등록(By.정부)"
   ]
  },
  {
   "cell_type": "code",
   "execution_count": 87,
   "id": "6c199ee5-aaef-4157-a4d3-fe8e5e67a87a",
   "metadata": {},
   "outputs": [],
   "source": [
    "transcript = {\n",
    "    'name': 'Transcript',\n",
    "    'version': '1.2',\n",
    "    'attributes': ['first_name', 'last_name', 'degree', 'status', 'year', 'average', 'ssn']\n",
    "}"
   ]
  },
  {
   "cell_type": "code",
   "execution_count": 88,
   "id": "b3a699cc-50ad-4e01-a359-a8d71fc68355",
   "metadata": {},
   "outputs": [],
   "source": [
    "government['transcript_schema_id'], government['transcript_schema'] = \\\n",
    "        await anoncreds.issuer_create_schema(government['did'], \n",
    "                                             transcript['name'], \n",
    "                                             transcript['version'],\n",
    "                                             json.dumps(transcript['attributes']))"
   ]
  },
  {
   "cell_type": "code",
   "execution_count": 91,
   "id": "8eafaef6-9c73-420b-95fd-211c83449289",
   "metadata": {},
   "outputs": [
    {
     "data": {
      "text/plain": [
       "{'name': 'Government',\n",
       " 'wallet_config': '{\"id\": \"government_wallet\"}',\n",
       " 'wallet_credentials': '{\"key\": \"government_wallet_key\"}',\n",
       " 'pool': 2,\n",
       " 'role': 'TRUST_ANCHOR',\n",
       " 'wallet': 7,\n",
       " 'did': 'HwnVC4oxuamPhWWerqRiao',\n",
       " 'key': 'AEekM4krT71fqBpw4n7Nfjh63H8ocxqRq5NhxBtfKSzW',\n",
       " 'job_certificate_schema_id': 'HwnVC4oxuamPhWWerqRiao:2:Job-Certificate:0.2',\n",
       " 'job_certificate_schema': '{\"ver\":\"1.0\",\"id\":\"HwnVC4oxuamPhWWerqRiao:2:Job-Certificate:0.2\",\"name\":\"Job-Certificate\",\"version\":\"0.2\",\"attrNames\":[\"employee_status\",\"first_name\",\"salary\",\"last_name\",\"experience\"],\"seqNo\":null}',\n",
       " 'transcript_schema_id': 'HwnVC4oxuamPhWWerqRiao:2:Transcript:1.2',\n",
       " 'transcript_schema': '{\"ver\":\"1.0\",\"id\":\"HwnVC4oxuamPhWWerqRiao:2:Transcript:1.2\",\"name\":\"Transcript\",\"version\":\"1.2\",\"attrNames\":[\"degree\",\"last_name\",\"first_name\",\"status\",\"average\",\"year\",\"ssn\"],\"seqNo\":null}'}"
      ]
     },
     "execution_count": 91,
     "metadata": {},
     "output_type": "execute_result"
    }
   ],
   "source": [
    "government"
   ]
  },
  {
   "cell_type": "code",
   "execution_count": 92,
   "id": "1063fd77-51f3-4b97-9055-7cd56aefbdf7",
   "metadata": {},
   "outputs": [],
   "source": [
    "transcript_schema_id = government['transcript_schema_id']"
   ]
  },
  {
   "cell_type": "code",
   "execution_count": 93,
   "id": "5614ab0c-d945-4ff0-9638-3191cc7b368f",
   "metadata": {},
   "outputs": [
    {
     "data": {
      "text/plain": [
       "'HwnVC4oxuamPhWWerqRiao:2:Transcript:1.2'"
      ]
     },
     "execution_count": 93,
     "metadata": {},
     "output_type": "execute_result"
    }
   ],
   "source": [
    "transcript_schema_id"
   ]
  },
  {
   "cell_type": "code",
   "execution_count": 94,
   "id": "c0725dea-0312-4100-85c6-15e58860e48f",
   "metadata": {},
   "outputs": [],
   "source": [
    "schema_request = await ledger.build_schema_request(government['did'], government['transcript_schema'])"
   ]
  },
  {
   "cell_type": "code",
   "execution_count": 95,
   "id": "2e08e37e-5e87-412a-ba80-9272a426919b",
   "metadata": {},
   "outputs": [
    {
     "name": "stdout",
     "output_type": "stream",
     "text": [
      "{\n",
      "    \"reqId\": 1627589197533524783,\n",
      "    \"identifier\": \"HwnVC4oxuamPhWWerqRiao\",\n",
      "    \"operation\": {\n",
      "        \"type\": \"101\",\n",
      "        \"data\": {\n",
      "            \"name\": \"Transcript\",\n",
      "            \"version\": \"1.2\",\n",
      "            \"attr_names\": [\n",
      "                \"first_name\",\n",
      "                \"status\",\n",
      "                \"year\",\n",
      "                \"average\",\n",
      "                \"ssn\",\n",
      "                \"degree\",\n",
      "                \"last_name\"\n",
      "            ]\n",
      "        }\n",
      "    },\n",
      "    \"protocolVersion\": 2\n",
      "}\n"
     ]
    }
   ],
   "source": [
    "print(json.dumps(json.loads(schema_request),indent=4))"
   ]
  },
  {
   "cell_type": "code",
   "execution_count": 96,
   "id": "9e076c4f-a288-49a2-b627-f1d9aa0a61b1",
   "metadata": {},
   "outputs": [],
   "source": [
    "result = await ledger.sign_and_submit_request(government['pool'], government['wallet'], government['did'], schema_request)"
   ]
  },
  {
   "cell_type": "code",
   "execution_count": 97,
   "id": "55911cef-8f2d-40cb-9fee-2d343f6a8a52",
   "metadata": {},
   "outputs": [
    {
     "name": "stdout",
     "output_type": "stream",
     "text": [
      "{\n",
      "    \"result\": {\n",
      "        \"txn\": {\n",
      "            \"type\": \"101\",\n",
      "            \"data\": {\n",
      "                \"data\": {\n",
      "                    \"version\": \"1.2\",\n",
      "                    \"name\": \"Transcript\",\n",
      "                    \"attr_names\": [\n",
      "                        \"first_name\",\n",
      "                        \"status\",\n",
      "                        \"year\",\n",
      "                        \"average\",\n",
      "                        \"ssn\",\n",
      "                        \"degree\",\n",
      "                        \"last_name\"\n",
      "                    ]\n",
      "                }\n",
      "            },\n",
      "            \"metadata\": {\n",
      "                \"payloadDigest\": \"a05dcd7d1813055d8af72551dd8b4ae854f2c128558b03b03404c256c890c1b4\",\n",
      "                \"from\": \"HwnVC4oxuamPhWWerqRiao\",\n",
      "                \"reqId\": 1627589197533524783,\n",
      "                \"digest\": \"c820c3502bb7083d7159eb9ae960df4db1cc6fa354a62e1235dad42909c08433\"\n",
      "            },\n",
      "            \"protocolVersion\": 2\n",
      "        },\n",
      "        \"txnMetadata\": {\n",
      "            \"txnId\": \"HwnVC4oxuamPhWWerqRiao:2:Transcript:1.2\",\n",
      "            \"txnTime\": 1627589219,\n",
      "            \"seqNo\": 107\n",
      "        },\n",
      "        \"auditPath\": [\n",
      "            \"8FsaPkdCMDbgx9VnXqQPevwT17rW395eMBeXzTJTeJVp\",\n",
      "            \"yfYMJ83bPsKVHDVMjxupgNWkL9CArAUpLQ3oN9zkNTh\",\n",
      "            \"6dvhke25RyaL7KEDjo6Qz8d8gmwRbmJ3akurLQJrWYyr\",\n",
      "            \"ChXSt8Tk59pd6re6jEL1LiDxHRrzQ2BFnpms9dMCANFW\"\n",
      "        ],\n",
      "        \"rootHash\": \"F8XT9GaZKRBAw2YJeRQ2mP6r7e2Amv2N8wjzc2xtk9gp\",\n",
      "        \"ver\": \"1\",\n",
      "        \"reqSignature\": {\n",
      "            \"type\": \"ED25519\",\n",
      "            \"values\": [\n",
      "                {\n",
      "                    \"from\": \"HwnVC4oxuamPhWWerqRiao\",\n",
      "                    \"value\": \"zLVjWTCu4BRZAZq7nK9L3Gy94uEVSVXGE45FashtwdJkH2yRHiZPp6whpBPTeQ1zXpj1Cs1f3kfwjUWJRq7HiDh\"\n",
      "                }\n",
      "            ]\n",
      "        }\n",
      "    },\n",
      "    \"op\": \"REPLY\"\n",
      "}\n"
     ]
    }
   ],
   "source": [
    "print(json.dumps(json.loads(result),indent=4))"
   ]
  },
  {
   "cell_type": "code",
   "execution_count": null,
   "id": "1e6f2107-36e0-44d2-a94b-40a118f1c6c0",
   "metadata": {},
   "outputs": [],
   "source": [
    "time.sleep(1)  # sleep 1 second before getting schema"
   ]
  },
  {
   "cell_type": "markdown",
   "id": "74f06ed8-d212-41a2-ae59-ea12087c8ea7",
   "metadata": {
    "tags": []
   },
   "source": [
    "## - 대학이 Credential Definition 생성 및 등록"
   ]
  },
  {
   "cell_type": "markdown",
   "id": "71adadff-2391-4ede-b5f3-826469e6bcf9",
   "metadata": {},
   "source": [
    "### * 등록된 스키마 정보 불러오기"
   ]
  },
  {
   "cell_type": "code",
   "execution_count": 98,
   "id": "133697aa-e661-4598-ab38-5e70d346757e",
   "metadata": {},
   "outputs": [
    {
     "data": {
      "text/plain": [
       "{'name': 'Faber',\n",
       " 'wallet_config': '{\"id\": \"faber_wallet\"}',\n",
       " 'wallet_credentials': '{\"key\": \"faber_wallet_key\"}',\n",
       " 'pool': 2,\n",
       " 'role': 'TRUST_ANCHOR',\n",
       " 'wallet': 11,\n",
       " 'did': 'JqXcGcG5EaY8eptJZp9P8v',\n",
       " 'key': 'AirTjLiEUMX4AXbN5bS4xyBryD5CMc8J72nSoXYpbTLm'}"
      ]
     },
     "execution_count": 98,
     "metadata": {},
     "output_type": "execute_result"
    }
   ],
   "source": [
    "faber"
   ]
  },
  {
   "cell_type": "code",
   "execution_count": 99,
   "id": "14d28a9f-935c-4304-8f8f-f305b48f983f",
   "metadata": {},
   "outputs": [
    {
     "data": {
      "text/plain": [
       "'HwnVC4oxuamPhWWerqRiao:2:Transcript:1.2'"
      ]
     },
     "execution_count": 99,
     "metadata": {},
     "output_type": "execute_result"
    }
   ],
   "source": [
    "transcript_schema_id"
   ]
  },
  {
   "cell_type": "code",
   "execution_count": 100,
   "id": "07989555-06ab-4c18-b2bd-3609fbb19dea",
   "metadata": {
    "tags": []
   },
   "outputs": [],
   "source": [
    "get_schema_request = await ledger.build_get_schema_request(faber['did'], transcript_schema_id)"
   ]
  },
  {
   "cell_type": "code",
   "execution_count": 121,
   "id": "15bdd264-8448-4d1f-ad59-7a2b2a2a5c41",
   "metadata": {},
   "outputs": [
    {
     "name": "stdout",
     "output_type": "stream",
     "text": [
      "{\n",
      "    \"op\": \"REPLY\",\n",
      "    \"result\": {\n",
      "        \"data\": {\n",
      "            \"version\": \"1.2\",\n",
      "            \"attr_names\": [\n",
      "                \"first_name\",\n",
      "                \"status\",\n",
      "                \"year\",\n",
      "                \"average\",\n",
      "                \"ssn\",\n",
      "                \"degree\",\n",
      "                \"last_name\"\n",
      "            ],\n",
      "            \"name\": \"Transcript\"\n",
      "        },\n",
      "        \"seqNo\": 107,\n",
      "        \"txnTime\": 1627589219,\n",
      "        \"type\": \"107\",\n",
      "        \"reqId\": 1627589596424661177,\n",
      "        \"dest\": \"HwnVC4oxuamPhWWerqRiao\",\n",
      "        \"identifier\": \"JqXcGcG5EaY8eptJZp9P8v\",\n",
      "        \"state_proof\": {\n",
      "            \"proof_nodes\": \"+QRk+DuZAHduVkM0b3h1YW1QaFdXZXJxUmlhbzoyOqDJByc6Ug652PkKotfCg8x+CB2tO+OH1ngkLa1nbbKbofiKjjRyYW5zY3JpcHQ6MS4yuHn4d7h1eyJsc24iOjEwNywibHV0IjoxNjI3NTg5MjE5LCJ2YWwiOnsiYXR0cl9uYW1lcyI6WyJmaXJzdF9uYW1lIiwic3RhdHVzIiwieWVhciIsImF2ZXJhZ2UiLCJzc24iLCJkZWdyZWUiLCJsYXN0X25hbWUiXX19+FGAgICAoBn6xWHPAaRjw08RMRm5XD59rCi8V1rtmNJQIkPQL1GjoJf/bt/J2Am//Prwlv2L6u77HJfmypS2OZhxfHe3ysCjgICAgICAgICAgID5ATGAoPzdQQM1BQXi5lURLT85AIBQiqQtX8pLyvuMnXINOwHxoPY4b6DQuABgdRWsuOSHeMXw7OO9G63iVDejBCZoltCOoAWY3jkxvNSzHRNgphzU+mN9M60AbnhV8tMmaWkU71jeoMaEVCK3aQv5V3fSIcBz2giTiJeiutfesnFFmSlJYu1CoOSZ3J3A61o94QB8gLdGKF7CjXsvVTxslPQQ9e5bFJy0oDGTZNQh3WRoTl3KCdwhCQPufEepoNtedcXwPg1U53lCgKBoqCmpFNsbrH6FcVoOV3VH5GhLchBijpBJZBZZ/jhQdICg/TQLvCisH9t/6JyCa42O14zbGyCjqpWuIGIkqqHSN+SgyH19XyHNONc3U/y+f/SN6PHa29SKH8sZdvkY8xUOlx6AgICAgPkCEaALQKiC1AaGSMnQ6EK6TICmPR0xF6oUt5eKCYK0vVOCO6CGztFPlJINev+NnDe1k8TRWeoqImFJKuAohPG5aTfGB6Dn/5YwCy2AkDpWiRdfP8L9i5Hs1tw/jU9klEUwqs7QcaBhymT2PLmAj/K6kIYkX0XWC15LytMkyRfAl88p7FWS66AjcNI4mPpgKJ7Met5noJ6smYHYQFQW+sZ0IObvPnTZaKBdIy8YP/F5D8zQKKbWPG1ObWny5+Y6ra6h6U2ZXlgEKaDlLl/0Woox+JfWOAS1lCbcJRvnPrWJDyEC7F+DFaUjfqBsVcDfGaT9wB2GPEx5poBwhky8VvhJ5CTJT8PCqbaayqBLhQvjHWGohsvPL30kVoCSO8cdwQiCcVtAsn0QV8TzbqCg7hTZLLHhWLZuN92WGg1PuCkbnOgvOhUk/MUvyOVsa6AOBhWX05zpuYHHcc7eaw+IYhK8joGD/n5um2mAWC6w1KCq/927/7t3SlOGTEyBjgMAcHLG8GjE7XhUCzZCbFPlg6Bkq+I6VrtHblZ7+JoleHJ+WoV/Rmak1OG00+mdil84+KCFT/SM8jgsYO3eyrtEpzmesceajMJgMifCJrmQglEhBKCTEXAYMtjYLKad3Iclmbtk0Lhl55DiEwMuWJZanv099aCkVtd+Q74ZQWd6Q6deEIl/HePtkyxfgTZIWf/sirbTtoA=\",\n",
      "            \"root_hash\": \"FSoFLkstmGQ9Eqs9eGRumaQe3wzgZbd4uLCYBeA1gBzG\",\n",
      "            \"multi_signature\": {\n",
      "                \"participants\": [\n",
      "                    \"Node4\",\n",
      "                    \"Node2\",\n",
      "                    \"Node1\"\n",
      "                ],\n",
      "                \"value\": {\n",
      "                    \"timestamp\": 1627589520,\n",
      "                    \"pool_state_root_hash\": \"NCGqbfRWDWtLB2bDuL6TC5BhrRdQMc5MyKdXQqXii44\",\n",
      "                    \"ledger_id\": 1,\n",
      "                    \"state_root_hash\": \"FSoFLkstmGQ9Eqs9eGRumaQe3wzgZbd4uLCYBeA1gBzG\",\n",
      "                    \"txn_root_hash\": \"F8XT9GaZKRBAw2YJeRQ2mP6r7e2Amv2N8wjzc2xtk9gp\"\n",
      "                },\n",
      "                \"signature\": \"RFBJaX3kmW5XKoq5qud6vqSkqJxRgMRxZ7QbA8xzQgBrAhki983CLW6isNVJVtFcFtdZbjEUM7t5wCrjRpeuk5CETTLcQp9HmYyvQ1nmjynLpft2xyxPVbNTBzaepDVFUkDzLjfhx8mMScX2bdg9h81S63SHxMpmnkBB3UjC8sMTTM\"\n",
      "            }\n",
      "        }\n",
      "    }\n",
      "}\n"
     ]
    }
   ],
   "source": [
    "print(json.dumps(json.loads(get_schema_request),indent=4))"
   ]
  },
  {
   "cell_type": "code",
   "execution_count": 102,
   "id": "e9134048-6196-4705-89ed-7c5b073be301",
   "metadata": {},
   "outputs": [],
   "source": [
    "get_schema_response = await ensure_previous_request_applied(faber['pool'], get_schema_request, lambda response: response['result']['data'] is not None)"
   ]
  },
  {
   "cell_type": "code",
   "execution_count": 120,
   "id": "c517b7d5-f46c-47ed-9115-1beeced5a1b4",
   "metadata": {},
   "outputs": [
    {
     "name": "stdout",
     "output_type": "stream",
     "text": [
      "{\n",
      "    \"op\": \"REPLY\",\n",
      "    \"result\": {\n",
      "        \"data\": {\n",
      "            \"version\": \"1.2\",\n",
      "            \"attr_names\": [\n",
      "                \"first_name\",\n",
      "                \"status\",\n",
      "                \"year\",\n",
      "                \"average\",\n",
      "                \"ssn\",\n",
      "                \"degree\",\n",
      "                \"last_name\"\n",
      "            ],\n",
      "            \"name\": \"Transcript\"\n",
      "        },\n",
      "        \"seqNo\": 107,\n",
      "        \"txnTime\": 1627589219,\n",
      "        \"type\": \"107\",\n",
      "        \"reqId\": 1627589596424661177,\n",
      "        \"dest\": \"HwnVC4oxuamPhWWerqRiao\",\n",
      "        \"identifier\": \"JqXcGcG5EaY8eptJZp9P8v\",\n",
      "        \"state_proof\": {\n",
      "            \"proof_nodes\": \"+QRk+DuZAHduVkM0b3h1YW1QaFdXZXJxUmlhbzoyOqDJByc6Ug652PkKotfCg8x+CB2tO+OH1ngkLa1nbbKbofiKjjRyYW5zY3JpcHQ6MS4yuHn4d7h1eyJsc24iOjEwNywibHV0IjoxNjI3NTg5MjE5LCJ2YWwiOnsiYXR0cl9uYW1lcyI6WyJmaXJzdF9uYW1lIiwic3RhdHVzIiwieWVhciIsImF2ZXJhZ2UiLCJzc24iLCJkZWdyZWUiLCJsYXN0X25hbWUiXX19+FGAgICAoBn6xWHPAaRjw08RMRm5XD59rCi8V1rtmNJQIkPQL1GjoJf/bt/J2Am//Prwlv2L6u77HJfmypS2OZhxfHe3ysCjgICAgICAgICAgID5ATGAoPzdQQM1BQXi5lURLT85AIBQiqQtX8pLyvuMnXINOwHxoPY4b6DQuABgdRWsuOSHeMXw7OO9G63iVDejBCZoltCOoAWY3jkxvNSzHRNgphzU+mN9M60AbnhV8tMmaWkU71jeoMaEVCK3aQv5V3fSIcBz2giTiJeiutfesnFFmSlJYu1CoOSZ3J3A61o94QB8gLdGKF7CjXsvVTxslPQQ9e5bFJy0oDGTZNQh3WRoTl3KCdwhCQPufEepoNtedcXwPg1U53lCgKBoqCmpFNsbrH6FcVoOV3VH5GhLchBijpBJZBZZ/jhQdICg/TQLvCisH9t/6JyCa42O14zbGyCjqpWuIGIkqqHSN+SgyH19XyHNONc3U/y+f/SN6PHa29SKH8sZdvkY8xUOlx6AgICAgPkCEaALQKiC1AaGSMnQ6EK6TICmPR0xF6oUt5eKCYK0vVOCO6CGztFPlJINev+NnDe1k8TRWeoqImFJKuAohPG5aTfGB6Dn/5YwCy2AkDpWiRdfP8L9i5Hs1tw/jU9klEUwqs7QcaBhymT2PLmAj/K6kIYkX0XWC15LytMkyRfAl88p7FWS66AjcNI4mPpgKJ7Met5noJ6smYHYQFQW+sZ0IObvPnTZaKBdIy8YP/F5D8zQKKbWPG1ObWny5+Y6ra6h6U2ZXlgEKaDlLl/0Woox+JfWOAS1lCbcJRvnPrWJDyEC7F+DFaUjfqBsVcDfGaT9wB2GPEx5poBwhky8VvhJ5CTJT8PCqbaayqBLhQvjHWGohsvPL30kVoCSO8cdwQiCcVtAsn0QV8TzbqCg7hTZLLHhWLZuN92WGg1PuCkbnOgvOhUk/MUvyOVsa6AOBhWX05zpuYHHcc7eaw+IYhK8joGD/n5um2mAWC6w1KCq/927/7t3SlOGTEyBjgMAcHLG8GjE7XhUCzZCbFPlg6Bkq+I6VrtHblZ7+JoleHJ+WoV/Rmak1OG00+mdil84+KCFT/SM8jgsYO3eyrtEpzmesceajMJgMifCJrmQglEhBKCTEXAYMtjYLKad3Iclmbtk0Lhl55DiEwMuWJZanv099aCkVtd+Q74ZQWd6Q6deEIl/HePtkyxfgTZIWf/sirbTtoA=\",\n",
      "            \"root_hash\": \"FSoFLkstmGQ9Eqs9eGRumaQe3wzgZbd4uLCYBeA1gBzG\",\n",
      "            \"multi_signature\": {\n",
      "                \"participants\": [\n",
      "                    \"Node4\",\n",
      "                    \"Node2\",\n",
      "                    \"Node1\"\n",
      "                ],\n",
      "                \"value\": {\n",
      "                    \"timestamp\": 1627589520,\n",
      "                    \"pool_state_root_hash\": \"NCGqbfRWDWtLB2bDuL6TC5BhrRdQMc5MyKdXQqXii44\",\n",
      "                    \"ledger_id\": 1,\n",
      "                    \"state_root_hash\": \"FSoFLkstmGQ9Eqs9eGRumaQe3wzgZbd4uLCYBeA1gBzG\",\n",
      "                    \"txn_root_hash\": \"F8XT9GaZKRBAw2YJeRQ2mP6r7e2Amv2N8wjzc2xtk9gp\"\n",
      "                },\n",
      "                \"signature\": \"RFBJaX3kmW5XKoq5qud6vqSkqJxRgMRxZ7QbA8xzQgBrAhki983CLW6isNVJVtFcFtdZbjEUM7t5wCrjRpeuk5CETTLcQp9HmYyvQ1nmjynLpft2xyxPVbNTBzaepDVFUkDzLjfhx8mMScX2bdg9h81S63SHxMpmnkBB3UjC8sMTTM\"\n",
      "            }\n",
      "        }\n",
      "    }\n",
      "}\n"
     ]
    }
   ],
   "source": [
    "print(json.dumps(json.loads(get_schema_response),indent=4))"
   ]
  },
  {
   "cell_type": "code",
   "execution_count": 105,
   "id": "712c7f46-f7a4-43e2-9416-7db25e8d8155",
   "metadata": {},
   "outputs": [],
   "source": [
    "faber['transcript_schema_id'], faber['transcript_schema'] = await ledger.parse_get_schema_response(get_schema_response)"
   ]
  },
  {
   "cell_type": "code",
   "execution_count": 106,
   "id": "470c47ca-5ccc-448c-964a-da5c9ade930b",
   "metadata": {},
   "outputs": [
    {
     "data": {
      "text/plain": [
       "{'name': 'Faber',\n",
       " 'wallet_config': '{\"id\": \"faber_wallet\"}',\n",
       " 'wallet_credentials': '{\"key\": \"faber_wallet_key\"}',\n",
       " 'pool': 2,\n",
       " 'role': 'TRUST_ANCHOR',\n",
       " 'wallet': 11,\n",
       " 'did': 'JqXcGcG5EaY8eptJZp9P8v',\n",
       " 'key': 'AirTjLiEUMX4AXbN5bS4xyBryD5CMc8J72nSoXYpbTLm',\n",
       " 'transcript_schema_id': 'HwnVC4oxuamPhWWerqRiao:2:Transcript:1.2',\n",
       " 'transcript_schema': '{\"ver\":\"1.0\",\"id\":\"HwnVC4oxuamPhWWerqRiao:2:Transcript:1.2\",\"name\":\"Transcript\",\"version\":\"1.2\",\"attrNames\":[\"ssn\",\"year\",\"degree\",\"last_name\",\"first_name\",\"status\",\"average\"],\"seqNo\":107}'}"
      ]
     },
     "execution_count": 106,
     "metadata": {},
     "output_type": "execute_result"
    }
   ],
   "source": [
    "faber"
   ]
  },
  {
   "cell_type": "markdown",
   "id": "5bca9c6d-5724-4e46-bf1e-b48f2f3f4ae0",
   "metadata": {},
   "source": [
    "### * credential definition 생성과 등록"
   ]
  },
  {
   "cell_type": "code",
   "execution_count": 107,
   "id": "38d2d69c-53d5-4a9f-aafe-f7cbddb0fcd2",
   "metadata": {},
   "outputs": [],
   "source": [
    "transcript_cred_def = {\n",
    "    'tag': 'TAG1',\n",
    "    'type': 'CL',\n",
    "    'config': {\"support_revocation\": False}\n",
    "}"
   ]
  },
  {
   "cell_type": "code",
   "execution_count": 108,
   "id": "46485071-6668-41f7-80a4-7c710b8126ea",
   "metadata": {},
   "outputs": [],
   "source": [
    "faber['transcript_cred_def_id'], faber['transcript_cred_def'] = \\\n",
    "        await anoncreds.issuer_create_and_store_credential_def(faber['wallet'], \n",
    "                                                               faber['did'],\n",
    "                                                               faber['transcript_schema'], \n",
    "                                                               transcript_cred_def['tag'],\n",
    "                                                               transcript_cred_def['type'],\n",
    "                                                               json.dumps(transcript_cred_def['config']))"
   ]
  },
  {
   "cell_type": "code",
   "execution_count": 109,
   "id": "fe4d562a-6f46-4867-a68c-27c6759b2c24",
   "metadata": {},
   "outputs": [
    {
     "data": {
      "text/plain": [
       "{'name': 'Faber',\n",
       " 'wallet_config': '{\"id\": \"faber_wallet\"}',\n",
       " 'wallet_credentials': '{\"key\": \"faber_wallet_key\"}',\n",
       " 'pool': 2,\n",
       " 'role': 'TRUST_ANCHOR',\n",
       " 'wallet': 11,\n",
       " 'did': 'JqXcGcG5EaY8eptJZp9P8v',\n",
       " 'key': 'AirTjLiEUMX4AXbN5bS4xyBryD5CMc8J72nSoXYpbTLm',\n",
       " 'transcript_schema_id': 'HwnVC4oxuamPhWWerqRiao:2:Transcript:1.2',\n",
       " 'transcript_schema': '{\"ver\":\"1.0\",\"id\":\"HwnVC4oxuamPhWWerqRiao:2:Transcript:1.2\",\"name\":\"Transcript\",\"version\":\"1.2\",\"attrNames\":[\"ssn\",\"year\",\"degree\",\"last_name\",\"first_name\",\"status\",\"average\"],\"seqNo\":107}',\n",
       " 'transcript_cred_def_id': 'JqXcGcG5EaY8eptJZp9P8v:3:CL:107:TAG1',\n",
       " 'transcript_cred_def': '{\"ver\":\"1.0\",\"id\":\"JqXcGcG5EaY8eptJZp9P8v:3:CL:107:TAG1\",\"schemaId\":\"107\",\"type\":\"CL\",\"tag\":\"TAG1\",\"value\":{\"primary\":{\"n\":\"96287763553148236988571291329593129513757229688022520880907213334581041596518630103433620570017198069366362459071711952389287050922135313918897663118087233759794822779596474295316111940192040131139213212090982601033506593690904864669284743288594949145771068338330086943416624768266458919718760611448842433475307131158638735032917009309655554309353346986799259994534980744862582185895070755160807641585418502272059804297254683071910931577370918203127375353064591020469237244544898417342337789572792088432210953554085623605516572644223334619039524509033900405773490274738719412035030382176587717395654578391719966755369\",\"s\":\"23465086836773112252254583956325410131125485193421721048500363637877399902323168308446773740886484710844998373340272477597354574518711848988247649098254751250413558466223729573441765423166638628783775206935417806518077652053970021980268260877887185217274828177594461745304368801124064470600743653197589333863627698996356935766088189330888885854004434683868598568897896626111239681668335793306708786807268940854292417236233621089173100044314781362394346242924453256167722157596193050601893089404273295279620152593769210395184546462244035765465926627921377170744708115052355573046285158102338011020163202856279076196428\",\"r\":{\"average\":\"77172800881004286979037472458674000193967745535120156165978735799021506003302728657969898016643605091866055449264717030581973921051281435382495396006331677374851467878644776623863847588968156260052477220623305894151053913285095029171426201341849675058539360285789159998021654705920319666626539896040809270215611031612236399624471153579234634056023634810718482977044839387912837679134689134409828546129326632559895013480735442296867313597767495192085775828949688251465302813791829709446589252781558870239422763307473530595245966821104537050188651605936809078392863529288908598187177931808222995933924008956971636844748\",\"last_name\":\"36938762926042021748277626528315845201599795324958840591702264171501281148357833157003276812250843701995245711878135312314796000462019767852027530033249715050662420662410613639668198832957245045686229661224701212697178246685783786979660475053781223945560401446712544503146090200704285355898187304385627474350918066970666961385162676613647757664133175738284776592990308437223146221922446756237515340772307930941693941595691817360139285524446007748378493678875223938601552858078322212935414715815544689227757324229442474611263504124823331579605269628632807798392637830308514968563802706874970967536624713734139634564034\",\"status\":\"32091961087920911622493704491246633261527329759588294427104861466095275827845023900999946583480999470174000474603200375807049028688577186080012853375469952099304050369676933246757074736868354609021627880288854137675240038918940876436104328160703851493367396338209157045787329586730499437010065845424343012960282444669996783583032017939019201959519843772971286319025651235486784020168025018629694673290592645501679834111567375974195809104817437704791180135432280242279333165293156576134877188127266959224892402499542869002367262223784564518701665404775568287374954985465715413753972739987216454220577069802619358127678\",\"ssn\":\"3418693764030707527177524966091919219965435050636100715384372010854693906407481759530106289550230142820359548871517985710773268255917120190189378410049545673609900845073342739329207239003313651750627579289111242749582620762396496998207040663793057219011352610840598054479797452024449645698764861997731156776228232183511407346785781909233415937393693623972604979433536148442802990627774854900506253947754868237838826778840290425834358606168580680304537964479625773072458563549000491717866340591611406625065662116248034596630622642560077298113705987099729735185019856693854856598836973713559672674795452365597962406184\",\"degree\":\"75397046247412809990192527424147516444701528308694994002057405950651755577305064613647037253755886613306354105912584347318111992123338922048484733062744201563587620723176647318960847875431735688946481005847437023888358858203349276883361483633224709633696046991576001566830937840136430369858559773967166961333976598122035651499108474333506237562366706228799878149638390270114765232793842333967894034282660920604517339657711045050820828649162883328664979669337135562510620513477368499603456136374117269061093374313605604717937285182893287957273883364050629061576169332831938746581999307216201869490672411037243941771575\",\"year\":\"89434358627733117939084492275973316978875096647691848842761345021549126046500603474400889919449876904862502338839640801127925534548105448716255769345310421411824342757313736700069945455319112927386495012931662293804962061536094472835670984322445374181492118527338394049660879839375694715145795750896071551430520950985185618603232139816213750478279017034843336521779917079299159735523029194524806530164016117737710485070253494327135940149443643002383578575738169062334090827557449376142839289900415135149400176844653588459833339356337581760930415196141555414757980554406422157771467536710083607714492988164777664853193\",\"master_secret\":\"83387607000209019520743797372919335597929751004916754775931371981440000534781093631055885798711300473654237579207290425492628587000024263592389569980904995887917257687762538419520240152546856082891972506954624879311021303962969504733508293837405788014188358035648885589462373745802079225153831147990739572665071324370040928417076571161155365062209314247512467473346408800655125576193883280461970810326774545608914502602549783517693302445089355303702252328674284711757460968936092411920125069779752236811895493107777482958164561070102860966654124451152066110304305842183308625797422036950670419650596439936037915197259\",\"first_name\":\"44696547834754539926432481361078059805919983653539038795733543764068475482611042564353285839742147246731709978004120065755521300626405694121543664872158129670576628464689036501733367899781009691162901609656122303874569664405311597379430961806403754071555987317361601635453803779303200326299666078375741508724406180810225861614899857193486084043808245470847292045660894444722869501461321031671150654860895964568060663652205663465923530462049111014817660250456366072596924506008569549119637606140676907821621077540336698601285905390164172347316449362751115416499955748598841999124114614828774364555699217455071403875670\"},\"rctxt\":\"58243599753194697629019826784921895016001656098011897246537085058454485720488682545918854712872434151014233395097407082884926597274483810283058629154790237865412102909859552222237357935184467895816627241285808927445948461448487111667579486639866900003981849438531684883433735602581272141197354137308430378516011126650503136493994701126348122144146079334763023453914576613987348612134478297298828642025599028077469191197994042993540591807250557427045848362852623894043915983382997377467993315582933264669102281660170903196671186890390080492392262855904520163050398467884184739895204154939763811613713441340392099457756\",\"z\":\"39267908796353840246362962014535197723828752891834428825113245425351096419051532616276675825859632010999388357624213244099849335361261747276436109875765055438223945823029863521875344414759089903408839988412978797755792894512340325221323936513100473945995216420620699345656393939615008409940149489839701854459706690645587901279239429575302031082039174944752479319542310782914533806014256333905212101932553961244809102782194743584549102224579454820224430025968122994256227151232826543496161133594032970462149517075464910186114034669339667057989698928288798599393372645406198208501407299517020626243143053002363085556478\"}}}'}"
      ]
     },
     "execution_count": 109,
     "metadata": {},
     "output_type": "execute_result"
    }
   ],
   "source": [
    "faber"
   ]
  },
  {
   "cell_type": "code",
   "execution_count": 112,
   "id": "fb6ec7b2-958c-4eb9-9919-64468d902d28",
   "metadata": {},
   "outputs": [
    {
     "name": "stdout",
     "output_type": "stream",
     "text": [
      "{\n",
      "    \"ver\": \"1.0\",\n",
      "    \"id\": \"JqXcGcG5EaY8eptJZp9P8v:3:CL:107:TAG1\",\n",
      "    \"schemaId\": \"107\",\n",
      "    \"type\": \"CL\",\n",
      "    \"tag\": \"TAG1\",\n",
      "    \"value\": {\n",
      "        \"primary\": {\n",
      "            \"n\": \"96287763553148236988571291329593129513757229688022520880907213334581041596518630103433620570017198069366362459071711952389287050922135313918897663118087233759794822779596474295316111940192040131139213212090982601033506593690904864669284743288594949145771068338330086943416624768266458919718760611448842433475307131158638735032917009309655554309353346986799259994534980744862582185895070755160807641585418502272059804297254683071910931577370918203127375353064591020469237244544898417342337789572792088432210953554085623605516572644223334619039524509033900405773490274738719412035030382176587717395654578391719966755369\",\n",
      "            \"s\": \"23465086836773112252254583956325410131125485193421721048500363637877399902323168308446773740886484710844998373340272477597354574518711848988247649098254751250413558466223729573441765423166638628783775206935417806518077652053970021980268260877887185217274828177594461745304368801124064470600743653197589333863627698996356935766088189330888885854004434683868598568897896626111239681668335793306708786807268940854292417236233621089173100044314781362394346242924453256167722157596193050601893089404273295279620152593769210395184546462244035765465926627921377170744708115052355573046285158102338011020163202856279076196428\",\n",
      "            \"r\": {\n",
      "                \"average\": \"77172800881004286979037472458674000193967745535120156165978735799021506003302728657969898016643605091866055449264717030581973921051281435382495396006331677374851467878644776623863847588968156260052477220623305894151053913285095029171426201341849675058539360285789159998021654705920319666626539896040809270215611031612236399624471153579234634056023634810718482977044839387912837679134689134409828546129326632559895013480735442296867313597767495192085775828949688251465302813791829709446589252781558870239422763307473530595245966821104537050188651605936809078392863529288908598187177931808222995933924008956971636844748\",\n",
      "                \"last_name\": \"36938762926042021748277626528315845201599795324958840591702264171501281148357833157003276812250843701995245711878135312314796000462019767852027530033249715050662420662410613639668198832957245045686229661224701212697178246685783786979660475053781223945560401446712544503146090200704285355898187304385627474350918066970666961385162676613647757664133175738284776592990308437223146221922446756237515340772307930941693941595691817360139285524446007748378493678875223938601552858078322212935414715815544689227757324229442474611263504124823331579605269628632807798392637830308514968563802706874970967536624713734139634564034\",\n",
      "                \"status\": \"32091961087920911622493704491246633261527329759588294427104861466095275827845023900999946583480999470174000474603200375807049028688577186080012853375469952099304050369676933246757074736868354609021627880288854137675240038918940876436104328160703851493367396338209157045787329586730499437010065845424343012960282444669996783583032017939019201959519843772971286319025651235486784020168025018629694673290592645501679834111567375974195809104817437704791180135432280242279333165293156576134877188127266959224892402499542869002367262223784564518701665404775568287374954985465715413753972739987216454220577069802619358127678\",\n",
      "                \"ssn\": \"3418693764030707527177524966091919219965435050636100715384372010854693906407481759530106289550230142820359548871517985710773268255917120190189378410049545673609900845073342739329207239003313651750627579289111242749582620762396496998207040663793057219011352610840598054479797452024449645698764861997731156776228232183511407346785781909233415937393693623972604979433536148442802990627774854900506253947754868237838826778840290425834358606168580680304537964479625773072458563549000491717866340591611406625065662116248034596630622642560077298113705987099729735185019856693854856598836973713559672674795452365597962406184\",\n",
      "                \"degree\": \"75397046247412809990192527424147516444701528308694994002057405950651755577305064613647037253755886613306354105912584347318111992123338922048484733062744201563587620723176647318960847875431735688946481005847437023888358858203349276883361483633224709633696046991576001566830937840136430369858559773967166961333976598122035651499108474333506237562366706228799878149638390270114765232793842333967894034282660920604517339657711045050820828649162883328664979669337135562510620513477368499603456136374117269061093374313605604717937285182893287957273883364050629061576169332831938746581999307216201869490672411037243941771575\",\n",
      "                \"year\": \"89434358627733117939084492275973316978875096647691848842761345021549126046500603474400889919449876904862502338839640801127925534548105448716255769345310421411824342757313736700069945455319112927386495012931662293804962061536094472835670984322445374181492118527338394049660879839375694715145795750896071551430520950985185618603232139816213750478279017034843336521779917079299159735523029194524806530164016117737710485070253494327135940149443643002383578575738169062334090827557449376142839289900415135149400176844653588459833339356337581760930415196141555414757980554406422157771467536710083607714492988164777664853193\",\n",
      "                \"master_secret\": \"83387607000209019520743797372919335597929751004916754775931371981440000534781093631055885798711300473654237579207290425492628587000024263592389569980904995887917257687762538419520240152546856082891972506954624879311021303962969504733508293837405788014188358035648885589462373745802079225153831147990739572665071324370040928417076571161155365062209314247512467473346408800655125576193883280461970810326774545608914502602549783517693302445089355303702252328674284711757460968936092411920125069779752236811895493107777482958164561070102860966654124451152066110304305842183308625797422036950670419650596439936037915197259\",\n",
      "                \"first_name\": \"44696547834754539926432481361078059805919983653539038795733543764068475482611042564353285839742147246731709978004120065755521300626405694121543664872158129670576628464689036501733367899781009691162901609656122303874569664405311597379430961806403754071555987317361601635453803779303200326299666078375741508724406180810225861614899857193486084043808245470847292045660894444722869501461321031671150654860895964568060663652205663465923530462049111014817660250456366072596924506008569549119637606140676907821621077540336698601285905390164172347316449362751115416499955748598841999124114614828774364555699217455071403875670\"\n",
      "            },\n",
      "            \"rctxt\": \"58243599753194697629019826784921895016001656098011897246537085058454485720488682545918854712872434151014233395097407082884926597274483810283058629154790237865412102909859552222237357935184467895816627241285808927445948461448487111667579486639866900003981849438531684883433735602581272141197354137308430378516011126650503136493994701126348122144146079334763023453914576613987348612134478297298828642025599028077469191197994042993540591807250557427045848362852623894043915983382997377467993315582933264669102281660170903196671186890390080492392262855904520163050398467884184739895204154939763811613713441340392099457756\",\n",
      "            \"z\": \"39267908796353840246362962014535197723828752891834428825113245425351096419051532616276675825859632010999388357624213244099849335361261747276436109875765055438223945823029863521875344414759089903408839988412978797755792894512340325221323936513100473945995216420620699345656393939615008409940149489839701854459706690645587901279239429575302031082039174944752479319542310782914533806014256333905212101932553961244809102782194743584549102224579454820224430025968122994256227151232826543496161133594032970462149517075464910186114034669339667057989698928288798599393372645406198208501407299517020626243143053002363085556478\"\n",
      "        }\n",
      "    }\n",
      "}\n"
     ]
    }
   ],
   "source": [
    "print(json.dumps(json.loads(faber['transcript_cred_def']),indent=4))"
   ]
  },
  {
   "cell_type": "markdown",
   "id": "f305ff94-e5be-4e20-87a2-67623b1455c7",
   "metadata": {},
   "source": [
    " - 등록"
   ]
  },
  {
   "cell_type": "code",
   "execution_count": 113,
   "id": "98c76eec-9450-40a9-a64a-5e5ba83e5ca2",
   "metadata": {},
   "outputs": [],
   "source": [
    "cred_def_request = await ledger.build_cred_def_request(faber['did'], faber['transcript_cred_def'])"
   ]
  },
  {
   "cell_type": "code",
   "execution_count": 114,
   "id": "07ce76ec-6835-4972-bbd0-d720c37f680f",
   "metadata": {},
   "outputs": [
    {
     "name": "stdout",
     "output_type": "stream",
     "text": [
      "{\n",
      "    \"reqId\": 1627590134074026451,\n",
      "    \"identifier\": \"JqXcGcG5EaY8eptJZp9P8v\",\n",
      "    \"operation\": {\n",
      "        \"ref\": 107,\n",
      "        \"data\": {\n",
      "            \"primary\": {\n",
      "                \"n\": \"96287763553148236988571291329593129513757229688022520880907213334581041596518630103433620570017198069366362459071711952389287050922135313918897663118087233759794822779596474295316111940192040131139213212090982601033506593690904864669284743288594949145771068338330086943416624768266458919718760611448842433475307131158638735032917009309655554309353346986799259994534980744862582185895070755160807641585418502272059804297254683071910931577370918203127375353064591020469237244544898417342337789572792088432210953554085623605516572644223334619039524509033900405773490274738719412035030382176587717395654578391719966755369\",\n",
      "                \"s\": \"23465086836773112252254583956325410131125485193421721048500363637877399902323168308446773740886484710844998373340272477597354574518711848988247649098254751250413558466223729573441765423166638628783775206935417806518077652053970021980268260877887185217274828177594461745304368801124064470600743653197589333863627698996356935766088189330888885854004434683868598568897896626111239681668335793306708786807268940854292417236233621089173100044314781362394346242924453256167722157596193050601893089404273295279620152593769210395184546462244035765465926627921377170744708115052355573046285158102338011020163202856279076196428\",\n",
      "                \"r\": {\n",
      "                    \"status\": \"32091961087920911622493704491246633261527329759588294427104861466095275827845023900999946583480999470174000474603200375807049028688577186080012853375469952099304050369676933246757074736868354609021627880288854137675240038918940876436104328160703851493367396338209157045787329586730499437010065845424343012960282444669996783583032017939019201959519843772971286319025651235486784020168025018629694673290592645501679834111567375974195809104817437704791180135432280242279333165293156576134877188127266959224892402499542869002367262223784564518701665404775568287374954985465715413753972739987216454220577069802619358127678\",\n",
      "                    \"ssn\": \"3418693764030707527177524966091919219965435050636100715384372010854693906407481759530106289550230142820359548871517985710773268255917120190189378410049545673609900845073342739329207239003313651750627579289111242749582620762396496998207040663793057219011352610840598054479797452024449645698764861997731156776228232183511407346785781909233415937393693623972604979433536148442802990627774854900506253947754868237838826778840290425834358606168580680304537964479625773072458563549000491717866340591611406625065662116248034596630622642560077298113705987099729735185019856693854856598836973713559672674795452365597962406184\",\n",
      "                    \"master_secret\": \"83387607000209019520743797372919335597929751004916754775931371981440000534781093631055885798711300473654237579207290425492628587000024263592389569980904995887917257687762538419520240152546856082891972506954624879311021303962969504733508293837405788014188358035648885589462373745802079225153831147990739572665071324370040928417076571161155365062209314247512467473346408800655125576193883280461970810326774545608914502602549783517693302445089355303702252328674284711757460968936092411920125069779752236811895493107777482958164561070102860966654124451152066110304305842183308625797422036950670419650596439936037915197259\",\n",
      "                    \"first_name\": \"44696547834754539926432481361078059805919983653539038795733543764068475482611042564353285839742147246731709978004120065755521300626405694121543664872158129670576628464689036501733367899781009691162901609656122303874569664405311597379430961806403754071555987317361601635453803779303200326299666078375741508724406180810225861614899857193486084043808245470847292045660894444722869501461321031671150654860895964568060663652205663465923530462049111014817660250456366072596924506008569549119637606140676907821621077540336698601285905390164172347316449362751115416499955748598841999124114614828774364555699217455071403875670\",\n",
      "                    \"year\": \"89434358627733117939084492275973316978875096647691848842761345021549126046500603474400889919449876904862502338839640801127925534548105448716255769345310421411824342757313736700069945455319112927386495012931662293804962061536094472835670984322445374181492118527338394049660879839375694715145795750896071551430520950985185618603232139816213750478279017034843336521779917079299159735523029194524806530164016117737710485070253494327135940149443643002383578575738169062334090827557449376142839289900415135149400176844653588459833339356337581760930415196141555414757980554406422157771467536710083607714492988164777664853193\",\n",
      "                    \"degree\": \"75397046247412809990192527424147516444701528308694994002057405950651755577305064613647037253755886613306354105912584347318111992123338922048484733062744201563587620723176647318960847875431735688946481005847437023888358858203349276883361483633224709633696046991576001566830937840136430369858559773967166961333976598122035651499108474333506237562366706228799878149638390270114765232793842333967894034282660920604517339657711045050820828649162883328664979669337135562510620513477368499603456136374117269061093374313605604717937285182893287957273883364050629061576169332831938746581999307216201869490672411037243941771575\",\n",
      "                    \"last_name\": \"36938762926042021748277626528315845201599795324958840591702264171501281148357833157003276812250843701995245711878135312314796000462019767852027530033249715050662420662410613639668198832957245045686229661224701212697178246685783786979660475053781223945560401446712544503146090200704285355898187304385627474350918066970666961385162676613647757664133175738284776592990308437223146221922446756237515340772307930941693941595691817360139285524446007748378493678875223938601552858078322212935414715815544689227757324229442474611263504124823331579605269628632807798392637830308514968563802706874970967536624713734139634564034\",\n",
      "                    \"average\": \"77172800881004286979037472458674000193967745535120156165978735799021506003302728657969898016643605091866055449264717030581973921051281435382495396006331677374851467878644776623863847588968156260052477220623305894151053913285095029171426201341849675058539360285789159998021654705920319666626539896040809270215611031612236399624471153579234634056023634810718482977044839387912837679134689134409828546129326632559895013480735442296867313597767495192085775828949688251465302813791829709446589252781558870239422763307473530595245966821104537050188651605936809078392863529288908598187177931808222995933924008956971636844748\"\n",
      "                },\n",
      "                \"rctxt\": \"58243599753194697629019826784921895016001656098011897246537085058454485720488682545918854712872434151014233395097407082884926597274483810283058629154790237865412102909859552222237357935184467895816627241285808927445948461448487111667579486639866900003981849438531684883433735602581272141197354137308430378516011126650503136493994701126348122144146079334763023453914576613987348612134478297298828642025599028077469191197994042993540591807250557427045848362852623894043915983382997377467993315582933264669102281660170903196671186890390080492392262855904520163050398467884184739895204154939763811613713441340392099457756\",\n",
      "                \"z\": \"39267908796353840246362962014535197723828752891834428825113245425351096419051532616276675825859632010999388357624213244099849335361261747276436109875765055438223945823029863521875344414759089903408839988412978797755792894512340325221323936513100473945995216420620699345656393939615008409940149489839701854459706690645587901279239429575302031082039174944752479319542310782914533806014256333905212101932553961244809102782194743584549102224579454820224430025968122994256227151232826543496161133594032970462149517075464910186114034669339667057989698928288798599393372645406198208501407299517020626243143053002363085556478\"\n",
      "            }\n",
      "        },\n",
      "        \"type\": \"102\",\n",
      "        \"signature_type\": \"CL\",\n",
      "        \"tag\": \"TAG1\"\n",
      "    },\n",
      "    \"protocolVersion\": 2\n",
      "}\n"
     ]
    }
   ],
   "source": [
    "print(json.dumps(json.loads(cred_def_request),indent=4))"
   ]
  },
  {
   "cell_type": "code",
   "execution_count": 115,
   "id": "d1c44e90-f0dd-49da-b8b2-928b9c49f311",
   "metadata": {},
   "outputs": [],
   "source": [
    "result = await ledger.sign_and_submit_request(faber['pool'], faber['wallet'], faber['did'], cred_def_request)"
   ]
  },
  {
   "cell_type": "code",
   "execution_count": 116,
   "id": "0f4fccc2-0717-4ab0-9b89-2da8ad769120",
   "metadata": {},
   "outputs": [
    {
     "name": "stdout",
     "output_type": "stream",
     "text": [
      "{\n",
      "    \"op\": \"REPLY\",\n",
      "    \"result\": {\n",
      "        \"txnMetadata\": {\n",
      "            \"txnTime\": 1627590181,\n",
      "            \"seqNo\": 108,\n",
      "            \"txnId\": \"JqXcGcG5EaY8eptJZp9P8v:3:CL:107:TAG1\"\n",
      "        },\n",
      "        \"auditPath\": [\n",
      "            \"Sa4L6VwHJ4MsDyjJSLpqzFKwQ13m1wsS1VtjbP3ePzc\",\n",
      "            \"8FsaPkdCMDbgx9VnXqQPevwT17rW395eMBeXzTJTeJVp\",\n",
      "            \"yfYMJ83bPsKVHDVMjxupgNWkL9CArAUpLQ3oN9zkNTh\",\n",
      "            \"6dvhke25RyaL7KEDjo6Qz8d8gmwRbmJ3akurLQJrWYyr\",\n",
      "            \"ChXSt8Tk59pd6re6jEL1LiDxHRrzQ2BFnpms9dMCANFW\"\n",
      "        ],\n",
      "        \"reqSignature\": {\n",
      "            \"type\": \"ED25519\",\n",
      "            \"values\": [\n",
      "                {\n",
      "                    \"value\": \"5vHKsT4Hp3NcLx5L4kVBJkiGnLyoH9VJuS3eYV4wALmUcofWSKA6PG4cN4nJ2YfycFbEL3yxXRhwJJbetyFZSw6X\",\n",
      "                    \"from\": \"JqXcGcG5EaY8eptJZp9P8v\"\n",
      "                }\n",
      "            ]\n",
      "        },\n",
      "        \"rootHash\": \"J7wjte19SYy1oCLbRRSj7WDC2S9NR8uD8q3t45MRj2Qf\",\n",
      "        \"ver\": \"1\",\n",
      "        \"txn\": {\n",
      "            \"type\": \"102\",\n",
      "            \"data\": {\n",
      "                \"signature_type\": \"CL\",\n",
      "                \"data\": {\n",
      "                    \"primary\": {\n",
      "                        \"s\": \"23465086836773112252254583956325410131125485193421721048500363637877399902323168308446773740886484710844998373340272477597354574518711848988247649098254751250413558466223729573441765423166638628783775206935417806518077652053970021980268260877887185217274828177594461745304368801124064470600743653197589333863627698996356935766088189330888885854004434683868598568897896626111239681668335793306708786807268940854292417236233621089173100044314781362394346242924453256167722157596193050601893089404273295279620152593769210395184546462244035765465926627921377170744708115052355573046285158102338011020163202856279076196428\",\n",
      "                        \"r\": {\n",
      "                            \"first_name\": \"44696547834754539926432481361078059805919983653539038795733543764068475482611042564353285839742147246731709978004120065755521300626405694121543664872158129670576628464689036501733367899781009691162901609656122303874569664405311597379430961806403754071555987317361601635453803779303200326299666078375741508724406180810225861614899857193486084043808245470847292045660894444722869501461321031671150654860895964568060663652205663465923530462049111014817660250456366072596924506008569549119637606140676907821621077540336698601285905390164172347316449362751115416499955748598841999124114614828774364555699217455071403875670\",\n",
      "                            \"degree\": \"75397046247412809990192527424147516444701528308694994002057405950651755577305064613647037253755886613306354105912584347318111992123338922048484733062744201563587620723176647318960847875431735688946481005847437023888358858203349276883361483633224709633696046991576001566830937840136430369858559773967166961333976598122035651499108474333506237562366706228799878149638390270114765232793842333967894034282660920604517339657711045050820828649162883328664979669337135562510620513477368499603456136374117269061093374313605604717937285182893287957273883364050629061576169332831938746581999307216201869490672411037243941771575\",\n",
      "                            \"last_name\": \"36938762926042021748277626528315845201599795324958840591702264171501281148357833157003276812250843701995245711878135312314796000462019767852027530033249715050662420662410613639668198832957245045686229661224701212697178246685783786979660475053781223945560401446712544503146090200704285355898187304385627474350918066970666961385162676613647757664133175738284776592990308437223146221922446756237515340772307930941693941595691817360139285524446007748378493678875223938601552858078322212935414715815544689227757324229442474611263504124823331579605269628632807798392637830308514968563802706874970967536624713734139634564034\",\n",
      "                            \"average\": \"77172800881004286979037472458674000193967745535120156165978735799021506003302728657969898016643605091866055449264717030581973921051281435382495396006331677374851467878644776623863847588968156260052477220623305894151053913285095029171426201341849675058539360285789159998021654705920319666626539896040809270215611031612236399624471153579234634056023634810718482977044839387912837679134689134409828546129326632559895013480735442296867313597767495192085775828949688251465302813791829709446589252781558870239422763307473530595245966821104537050188651605936809078392863529288908598187177931808222995933924008956971636844748\",\n",
      "                            \"master_secret\": \"83387607000209019520743797372919335597929751004916754775931371981440000534781093631055885798711300473654237579207290425492628587000024263592389569980904995887917257687762538419520240152546856082891972506954624879311021303962969504733508293837405788014188358035648885589462373745802079225153831147990739572665071324370040928417076571161155365062209314247512467473346408800655125576193883280461970810326774545608914502602549783517693302445089355303702252328674284711757460968936092411920125069779752236811895493107777482958164561070102860966654124451152066110304305842183308625797422036950670419650596439936037915197259\",\n",
      "                            \"status\": \"32091961087920911622493704491246633261527329759588294427104861466095275827845023900999946583480999470174000474603200375807049028688577186080012853375469952099304050369676933246757074736868354609021627880288854137675240038918940876436104328160703851493367396338209157045787329586730499437010065845424343012960282444669996783583032017939019201959519843772971286319025651235486784020168025018629694673290592645501679834111567375974195809104817437704791180135432280242279333165293156576134877188127266959224892402499542869002367262223784564518701665404775568287374954985465715413753972739987216454220577069802619358127678\",\n",
      "                            \"ssn\": \"3418693764030707527177524966091919219965435050636100715384372010854693906407481759530106289550230142820359548871517985710773268255917120190189378410049545673609900845073342739329207239003313651750627579289111242749582620762396496998207040663793057219011352610840598054479797452024449645698764861997731156776228232183511407346785781909233415937393693623972604979433536148442802990627774854900506253947754868237838826778840290425834358606168580680304537964479625773072458563549000491717866340591611406625065662116248034596630622642560077298113705987099729735185019856693854856598836973713559672674795452365597962406184\",\n",
      "                            \"year\": \"89434358627733117939084492275973316978875096647691848842761345021549126046500603474400889919449876904862502338839640801127925534548105448716255769345310421411824342757313736700069945455319112927386495012931662293804962061536094472835670984322445374181492118527338394049660879839375694715145795750896071551430520950985185618603232139816213750478279017034843336521779917079299159735523029194524806530164016117737710485070253494327135940149443643002383578575738169062334090827557449376142839289900415135149400176844653588459833339356337581760930415196141555414757980554406422157771467536710083607714492988164777664853193\"\n",
      "                        },\n",
      "                        \"z\": \"39267908796353840246362962014535197723828752891834428825113245425351096419051532616276675825859632010999388357624213244099849335361261747276436109875765055438223945823029863521875344414759089903408839988412978797755792894512340325221323936513100473945995216420620699345656393939615008409940149489839701854459706690645587901279239429575302031082039174944752479319542310782914533806014256333905212101932553961244809102782194743584549102224579454820224430025968122994256227151232826543496161133594032970462149517075464910186114034669339667057989698928288798599393372645406198208501407299517020626243143053002363085556478\",\n",
      "                        \"rctxt\": \"58243599753194697629019826784921895016001656098011897246537085058454485720488682545918854712872434151014233395097407082884926597274483810283058629154790237865412102909859552222237357935184467895816627241285808927445948461448487111667579486639866900003981849438531684883433735602581272141197354137308430378516011126650503136493994701126348122144146079334763023453914576613987348612134478297298828642025599028077469191197994042993540591807250557427045848362852623894043915983382997377467993315582933264669102281660170903196671186890390080492392262855904520163050398467884184739895204154939763811613713441340392099457756\",\n",
      "                        \"n\": \"96287763553148236988571291329593129513757229688022520880907213334581041596518630103433620570017198069366362459071711952389287050922135313918897663118087233759794822779596474295316111940192040131139213212090982601033506593690904864669284743288594949145771068338330086943416624768266458919718760611448842433475307131158638735032917009309655554309353346986799259994534980744862582185895070755160807641585418502272059804297254683071910931577370918203127375353064591020469237244544898417342337789572792088432210953554085623605516572644223334619039524509033900405773490274738719412035030382176587717395654578391719966755369\"\n",
      "                    }\n",
      "                },\n",
      "                \"ref\": 107,\n",
      "                \"tag\": \"TAG1\"\n",
      "            },\n",
      "            \"protocolVersion\": 2,\n",
      "            \"metadata\": {\n",
      "                \"reqId\": 1627590134074026451,\n",
      "                \"from\": \"JqXcGcG5EaY8eptJZp9P8v\",\n",
      "                \"digest\": \"053e4eea798391dd647930eac5890fdeb892c5e95fbcb9025a68b2dc6d07b2a3\",\n",
      "                \"payloadDigest\": \"4fde60ec373890ba44f1e8169242c34cd3f93393e493ca62a9234798c1066168\"\n",
      "            }\n",
      "        }\n",
      "    }\n",
      "}\n"
     ]
    }
   ],
   "source": [
    "print(json.dumps(json.loads(result),indent=4))"
   ]
  },
  {
   "cell_type": "markdown",
   "id": "2cffa947-c8ab-41e3-bed9-54bffafacc69",
   "metadata": {
    "tags": []
   },
   "source": [
    "## - 회사가 Credential Definition 생성 및 등록"
   ]
  },
  {
   "cell_type": "markdown",
   "id": "aea49242-9072-4c43-9415-82fbc91440b9",
   "metadata": {},
   "source": [
    "### * 등록된 스키마 정보 불러오기"
   ]
  },
  {
   "cell_type": "code",
   "execution_count": 117,
   "id": "8f409000-00b0-4c35-ba07-fcb977405737",
   "metadata": {},
   "outputs": [
    {
     "data": {
      "text/plain": [
       "{'name': 'Acme',\n",
       " 'wallet_config': '{\"id\": \"acme_wallet\"}',\n",
       " 'wallet_credentials': '{\"key\": \"acme_wallet_key\"}',\n",
       " 'pool': 2,\n",
       " 'role': 'TRUST_ANCHOR',\n",
       " 'wallet': 15,\n",
       " 'did': 'DYHgp6eSHgiuzJEekw44c2',\n",
       " 'key': '7qPzsoeMbELi5WDEjSDKhVpsfCfijWAVvvmf2SG5tYM4'}"
      ]
     },
     "execution_count": 117,
     "metadata": {},
     "output_type": "execute_result"
    }
   ],
   "source": [
    "acme"
   ]
  },
  {
   "cell_type": "code",
   "execution_count": 118,
   "id": "131ce8b4-5694-40a5-af6b-387a186bab45",
   "metadata": {},
   "outputs": [
    {
     "data": {
      "text/plain": [
       "'HwnVC4oxuamPhWWerqRiao:2:Job-Certificate:0.2'"
      ]
     },
     "execution_count": 118,
     "metadata": {},
     "output_type": "execute_result"
    }
   ],
   "source": [
    "job_certificate_schema_id"
   ]
  },
  {
   "cell_type": "code",
   "execution_count": 125,
   "id": "0355aad2-56e9-4dc2-bc49-172c21ed8cb1",
   "metadata": {
    "tags": []
   },
   "outputs": [],
   "source": [
    "get_schema_request = await ledger.build_get_schema_request(acme['did'], job_certificate_schema_id)"
   ]
  },
  {
   "cell_type": "code",
   "execution_count": 126,
   "id": "c7233a4a-d31d-438c-b1d9-17a73e956ea2",
   "metadata": {},
   "outputs": [
    {
     "name": "stdout",
     "output_type": "stream",
     "text": [
      "{\n",
      "    \"reqId\": 1627590493043564185,\n",
      "    \"identifier\": \"DYHgp6eSHgiuzJEekw44c2\",\n",
      "    \"operation\": {\n",
      "        \"type\": \"107\",\n",
      "        \"dest\": \"HwnVC4oxuamPhWWerqRiao\",\n",
      "        \"data\": {\n",
      "            \"name\": \"Job-Certificate\",\n",
      "            \"version\": \"0.2\"\n",
      "        }\n",
      "    },\n",
      "    \"protocolVersion\": 2\n",
      "}\n"
     ]
    }
   ],
   "source": [
    "print(json.dumps(json.loads(get_schema_request),indent=4))"
   ]
  },
  {
   "cell_type": "code",
   "execution_count": 127,
   "id": "122848fa-5157-4ef8-83ef-b5a5c73cb853",
   "metadata": {},
   "outputs": [],
   "source": [
    "get_schema_response = await ensure_previous_request_applied(acme['pool'], get_schema_request, lambda response: response['result']['data'] is not None)"
   ]
  },
  {
   "cell_type": "code",
   "execution_count": 128,
   "id": "0a4228d1-0c59-48dc-949d-4e78f15eed07",
   "metadata": {},
   "outputs": [
    {
     "name": "stdout",
     "output_type": "stream",
     "text": [
      "{\n",
      "    \"result\": {\n",
      "        \"txnTime\": 1627588951,\n",
      "        \"state_proof\": {\n",
      "            \"multi_signature\": {\n",
      "                \"signature\": \"R9DwAeGS4AEjjLAwgarV2ri1P5tSGxgTzPAMHwyYJUqx7346GB23AkqeLCDdhMztd4Bza1WKCUm3Yf8c1V2owyW1X4irDCcJryXdykE2pRpmd1dcpV9E8t6i4pZL5kpNuAYti8abbs6TmokdiLB9foi5dtJCUCcMR1Mbe9cammNjyZ\",\n",
      "                \"value\": {\n",
      "                    \"timestamp\": 1627590482,\n",
      "                    \"txn_root_hash\": \"J7wjte19SYy1oCLbRRSj7WDC2S9NR8uD8q3t45MRj2Qf\",\n",
      "                    \"ledger_id\": 1,\n",
      "                    \"pool_state_root_hash\": \"NCGqbfRWDWtLB2bDuL6TC5BhrRdQMc5MyKdXQqXii44\",\n",
      "                    \"state_root_hash\": \"HmUjXzb6YURbHVWmFWY96cqRFec3vRAhfKYsUyE7wZB4\"\n",
      "                },\n",
      "                \"participants\": [\n",
      "                    \"Node3\",\n",
      "                    \"Node2\",\n",
      "                    \"Node1\"\n",
      "                ]\n",
      "            },\n",
      "            \"root_hash\": \"HmUjXzb6YURbHVWmFWY96cqRFec3vRAhfKYsUyE7wZB4\",\n",
      "            \"proof_nodes\": \"+QRo+I6TOm9iLUNlcnRpZmljYXRlOjAuMrh4+Ha4dHsibHNuIjoxMDYsImx1dCI6MTYyNzU4ODk1MSwidmFsIjp7ImF0dHJfbmFtZXMiOlsiZXhwZXJpZW5jZSIsImxhc3RfbmFtZSIsImVtcGxveWVlX3N0YXR1cyIsImZpcnN0X25hbWUiLCJzYWxhcnkiXX19+DuZAHduVkM0b3h1YW1QaFdXZXJxUmlhbzoyOqDJByc6Ug652PkKotfCg8x+CB2tO+OH1ngkLa1nbbKbofhRgICAgKAZ+sVhzwGkY8NPETEZuVw+fawovFda7ZjSUCJD0C9Ro6CX/27fydgJv/z68Jb9i+ru+xyX5sqUtjmYcXx3t8rAo4CAgICAgICAgICA+QExgKD83UEDNQUF4uZVES0/OQCAUIqkLV/KS8r7jJ1yDTsB8aD2OG+g0LgAYHUVrLjkh3jF8OzjvRut4lQ3owQmaJbQjqAFmN45MbzUsx0TYKYc1PpjfTOtAG54VfLTJmlpFO9Y3qDGhFQit2kL+Vd30iHAc9oIk4iXorrX3rJxRZkpSWLtQqDkmdydwOtaPeEAfIC3Rihewo17L1U8bJT0EPXuWxSctKAxk2TUId1kaE5dygncIQkD7nxHqaDbXnXF8D4NVOd5QoCgaKgpqRTbG6x+hXFaDld1R+RoS3IQYo6QSWQWWf44UHSAoE6pQLiCzWPJRbKaIOrH6g57I0J64ypbNNFkpzYIZeW7oMh9fV8hzTjXN1P8vn/0jejx2tvUih/LGXb5GPMVDpcegICAgID5AhGgC0CogtQGhkjJ0OhCukyApj0dMReqFLeXigmCtL1Tgjughs7RT5SSDXr/jZw3tZPE0VnqKiJhSSrgKITxuWk3xgeg5/+WMAstgJA6VokXXz/C/YuR7NbcP41PZJRFMKrO0HGgYcpk9jy5gI/yupCGJF9F1gteS8rTJMkXwJfPKexVkuugjnkxy8UfPLW0AvWebFEH5N3o+kv9NNosr1/9vptD6xSgXSMvGD/xeQ/M0Cim1jxtTm1p8ufmOq2uoelNmV5YBCmg5S5f9FqKMfiX1jgEtZQm3CUb5z61iQ8hAuxfgxWlI36gbFXA3xmk/cAdhjxMeaaAcIZMvFb4SeQkyU/Dwqm2msqgS4UL4x1hqIbLzy99JFaAkjvHHcEIgnFbQLJ9EFfE826goO4U2Syx4Vi2bjfdlhoNT7gpG5zoLzoVJPzFL8jlbGugDgYVl9Oc6bmBx3HO3msPiGISvI6Bg/5+bptpgFgusNSgqv/du/+7d0pThkxMgY4DAHByxvBoxO14VAs2QmxT5YOgZKviOla7R25We/iaJXhyflqFf0ZmpNThtNPpnYpfOPighU/0jPI4LGDt3sq7RKc5nrHHmozCYDInwia5kIJRIQSgkxFwGDLY2CymndyHJZm7ZNC4ZeeQ4hMDLliWWp79PfWgpFbXfkO+GUFnekOnXhCJfx3j7ZMsX4E2SFn/7Iq207aA\"\n",
      "        },\n",
      "        \"data\": {\n",
      "            \"name\": \"Job-Certificate\",\n",
      "            \"version\": \"0.2\",\n",
      "            \"attr_names\": [\n",
      "                \"experience\",\n",
      "                \"last_name\",\n",
      "                \"employee_status\",\n",
      "                \"first_name\",\n",
      "                \"salary\"\n",
      "            ]\n",
      "        },\n",
      "        \"reqId\": 1627590493043564185,\n",
      "        \"seqNo\": 106,\n",
      "        \"dest\": \"HwnVC4oxuamPhWWerqRiao\",\n",
      "        \"type\": \"107\",\n",
      "        \"identifier\": \"DYHgp6eSHgiuzJEekw44c2\"\n",
      "    },\n",
      "    \"op\": \"REPLY\"\n",
      "}\n"
     ]
    }
   ],
   "source": [
    "print(json.dumps(json.loads(get_schema_response),indent=4))"
   ]
  },
  {
   "cell_type": "code",
   "execution_count": 129,
   "id": "a886724c-f8ca-4972-b5ed-80d0a9d326a9",
   "metadata": {},
   "outputs": [],
   "source": [
    "acme['job_certificate_schema_id'], acme['job_certificate_schema'] = await ledger.parse_get_schema_response(get_schema_response)"
   ]
  },
  {
   "cell_type": "code",
   "execution_count": 130,
   "id": "de65e523-93b0-40d2-8c47-3e369f11f34a",
   "metadata": {},
   "outputs": [
    {
     "data": {
      "text/plain": [
       "{'name': 'Acme',\n",
       " 'wallet_config': '{\"id\": \"acme_wallet\"}',\n",
       " 'wallet_credentials': '{\"key\": \"acme_wallet_key\"}',\n",
       " 'pool': 2,\n",
       " 'role': 'TRUST_ANCHOR',\n",
       " 'wallet': 15,\n",
       " 'did': 'DYHgp6eSHgiuzJEekw44c2',\n",
       " 'key': '7qPzsoeMbELi5WDEjSDKhVpsfCfijWAVvvmf2SG5tYM4',\n",
       " 'job_certificate_schema_id': 'HwnVC4oxuamPhWWerqRiao:2:Job-Certificate:0.2',\n",
       " 'job_certificate_schema': '{\"ver\":\"1.0\",\"id\":\"HwnVC4oxuamPhWWerqRiao:2:Job-Certificate:0.2\",\"name\":\"Job-Certificate\",\"version\":\"0.2\",\"attrNames\":[\"salary\",\"employee_status\",\"first_name\",\"last_name\",\"experience\"],\"seqNo\":106}'}"
      ]
     },
     "execution_count": 130,
     "metadata": {},
     "output_type": "execute_result"
    }
   ],
   "source": [
    "acme"
   ]
  },
  {
   "cell_type": "markdown",
   "id": "6491fe5d-614a-4835-a2a5-f896a1e6c199",
   "metadata": {},
   "source": [
    "### * credential definition 생성과 등록"
   ]
  },
  {
   "cell_type": "code",
   "execution_count": 131,
   "id": "553504c1-09ff-41a3-8ffe-7ba9e0db18d3",
   "metadata": {},
   "outputs": [],
   "source": [
    "job_certificate_cred_def = {\n",
    "    'tag': 'TAG1',\n",
    "    'type': 'CL',\n",
    "    'config': {\"support_revocation\": True}\n",
    "}"
   ]
  },
  {
   "cell_type": "code",
   "execution_count": 132,
   "id": "f141e2ef-a7d0-4a18-9fd2-1ccd36fe6dcd",
   "metadata": {},
   "outputs": [],
   "source": [
    "acme['job_certificate_cred_def_id'], acme['job_certificate_cred_def'] = \\\n",
    "        await anoncreds.issuer_create_and_store_credential_def(acme['wallet'], \n",
    "                                                               acme['did'],\n",
    "                                                               acme['job_certificate_schema'], \n",
    "                                                               job_certificate_cred_def['tag'],\n",
    "                                                               job_certificate_cred_def['type'],\n",
    "                                                               json.dumps(job_certificate_cred_def['config']))"
   ]
  },
  {
   "cell_type": "code",
   "execution_count": 133,
   "id": "3c557674-ee0f-4e39-b167-a01cf3a7cf99",
   "metadata": {},
   "outputs": [
    {
     "data": {
      "text/plain": [
       "{'name': 'Acme',\n",
       " 'wallet_config': '{\"id\": \"acme_wallet\"}',\n",
       " 'wallet_credentials': '{\"key\": \"acme_wallet_key\"}',\n",
       " 'pool': 2,\n",
       " 'role': 'TRUST_ANCHOR',\n",
       " 'wallet': 15,\n",
       " 'did': 'DYHgp6eSHgiuzJEekw44c2',\n",
       " 'key': '7qPzsoeMbELi5WDEjSDKhVpsfCfijWAVvvmf2SG5tYM4',\n",
       " 'job_certificate_schema_id': 'HwnVC4oxuamPhWWerqRiao:2:Job-Certificate:0.2',\n",
       " 'job_certificate_schema': '{\"ver\":\"1.0\",\"id\":\"HwnVC4oxuamPhWWerqRiao:2:Job-Certificate:0.2\",\"name\":\"Job-Certificate\",\"version\":\"0.2\",\"attrNames\":[\"salary\",\"employee_status\",\"first_name\",\"last_name\",\"experience\"],\"seqNo\":106}',\n",
       " 'job_certificate_cred_def_id': 'DYHgp6eSHgiuzJEekw44c2:3:CL:106:TAG1',\n",
       " 'job_certificate_cred_def': '{\"ver\":\"1.0\",\"id\":\"DYHgp6eSHgiuzJEekw44c2:3:CL:106:TAG1\",\"schemaId\":\"106\",\"type\":\"CL\",\"tag\":\"TAG1\",\"value\":{\"primary\":{\"n\":\"106359825164629924786501458525694773660587449851015381710218073979061837698988296022625218896266866473744993446831887152296262669332244917382107288259233829827834997517307633232818112411274342932908396539683450590053066940577099098539170086642918565659877840060479220160386673913623656415081463339491557520282268587164256218571644755885676388339380766612502271942964038694921811179026721731107322079717966206156854514846584493762521228339317164056387486421793612636486043530892240900459046266123830655058642474758161933009099336899629352439004056473393907954327647293606065268193743181653871320462412303112921257494329\",\"s\":\"103838917686892344763162819053104074631315993263293070566220071490778886514082965322872601152292479360976070129942732128965600396127078802596625219081242301740949689005663518270032459854976867681354692959193266998789818672986580166788386847879571581357194379285351221245502024920808916282724477191307662567879051112657359285277469101912763779303375234351584248033049634603485062015534248045582315643679686077209792521903397577534205409708423150745926776302171649882643501993011515470426164131473139691042713260985457374266724589755167262096887611272865827647664784641628786933211108018590246237091176929342983965147437\",\"r\":{\"salary\":\"37941139535912486589778852437809463669610657278177764313050693574206734999530746191588054294291782737532938184672916707480000671515820937587336537447452611870931450252822280356722298147661456458995563647698237971714392011794810199941851752192103927384628429162469662400881504512195306164807622058694799628139518785295627480726286718293329333805630298363414661232290108973681809929765945057719091693428762632351769940910498582778887635626765783237822918676446715876886997884667259047618669999652325334104745657663790354901074241409446182998082004521515918873708796816047392382929972389130990040851347557534834315541243\",\"master_secret\":\"11064733842460954385252835962088991032067346643598800190085726362118265758568527526146479198187004005253236037471264665755569990875949640787326218454340666453701295607412904267578610339869197564157044305844245405226267209721167110165912662270127593424676161762341617940184252638735809096943574315292517305346125794402375732302464173139986665028146136479708642283431848272446986277459670075487968245329616751913804240463663209162738075707844080946978103888713048177136666409533570276978441347425656708577173757871897479302225811972665398920454757110620254975174841388743986035209527010981161186963463024820758796035557\",\"first_name\":\"94346990387299283804050463071383787112451449807510941499811142275436544887852891801165209943149726971159078010595245046419445134364005932964031497772028669209818583250742130936606543382131062158053655673957925766612972642693500961978527813441504193207305341645331846995470998920411480218595829058204717537732957617595925137510394149885470922245994099599218847280620540503815718799010881645621940333776916322024523734902981171258436939439205562563286001172896142623350086438678182846763558539147242781676070856787448761380608841167696060157958405980570162126612288866463223248965737770803271662862369282938392687023565\",\"experience\":\"39291248926121066995517204815711687516046609714468940289167209364702270403438929160246000045194910685380976076608545677348182694656120334205017998986820394441993437496734753297990093471150421207398410179059037419409911344567346501586701186433729815214295165612619338631671854104352883600181725249623063680456451827781982388241980664907176531217806307107536103604240692643771730542588060967018191643472384373503486439915441765979162658293037512984745911060803866344855789225500206768316673616232103020084020294109899484823969687524038774745014695789540599327994017032400818708377380094348692537006687323180402348403141\",\"last_name\":\"91933539312102069056652249674940337512470266662724865122886846477671099198499857763558350196720873136474870320166409680328667403394161730938479389057548427726616732650491926718084138566666167832523544469208606295863620193252795161211578791813199442015952711499796085072785512582515149173937374432983759298581906802853036669645285981363432557695107739211489732205719882470510548141938427354333699027474243260452212434073764896187065167606209149782884100381115053913199418064269056661942821205846599066367217972877156084210422544528463481537748808764365471903809104839978467027972556749095308993966357937459640426786478\",\"employee_status\":\"72719785260943455525662758244614444612489130311253468975550454369371088980759913555971417306143002992574660308360662087287577712171311254953439668949512654850804260585364490018235367299347739776213221318815598707761363128035572824058100815944367579946441263276333983140139285365199712392895331149782013206366481771687354497455356530923638195708745979082191833161238800860544482683613817381076376033587193250639834708133878263218844907554633547927018293678828856983938779963312248733097215978023259432708727663849027336481651124663225238243020920175766799971952175144167902846002182296537604257955861381807507464159303\"},\"rctxt\":\"85942470575577945690771295164600416700212653860492488447980636456032461342178767046869887030322469075425585701136626166582138354180165115283094032893615472974279910708466165684387227234259878655188110153825241838634947932483445728699813304502436429108343220206152905934685079754191941526819485813992807435019429756124075732723628399498527652022739870988813035130868754308344854329185193526562776735708434029351105163564258171079095120477016127562847056869029645829200513690948977757217766021953972290173199811036442505243238274543400305808719777510707714620034672949796152692751498393516041326449046997529751562209730\",\"z\":\"71349046251484477734364458429601653833470893565388672834849761266221119584243319200576110381346429941481317888106022875441704239138894800152136885215786335382933395168293911176581005324088826612797364854186539544295351596323733028768042686848066722728710976316112035035788286244950397305449602734357151825634851832077391400833048264631641957490384427379476737282236940799315969842556586571943716065174567216570515600641949321903906151973312085485641641684590440512222426930861995417285324509995389372431107872257472432337347905106451090827475379847102686193324767361393563152935662275283712327867604379281191249839993\"},\"revocation\":{\"g\":\"1 0C6E4D9650D2CA2A867A68094989D43B962B62AEEC1694011F2FEE646566676A 1 138C889A9246817100FC8DDBE19D3B433EB2ABB8E02B7FC3ED2ECAD995430F76 2 095E45DDF417D05FB10933FFC63D474548B7FFFF7888802F07FFFFFF7D07A8A8\",\"g_dash\":\"1 21F6913227FCE1A538A8A3F23A83DAE78FF7CDCCE1FBB408CB487791B2DCA531 1 1DED6139E03815C1FCDE2FB2876D606B4E78AEFBE98FC7643636035C0F1D3EC7 1 23EFC17F9D43618DC3EF43E5585692DE2CC38ADFD4707EE6961590912BC1ED9C 1 02A62D2B61AEB0C6571B4807437708C892E86D496B6318311B60B706CE67E753 2 095E45DDF417D05FB10933FFC63D474548B7FFFF7888802F07FFFFFF7D07A8A8 1 0000000000000000000000000000000000000000000000000000000000000000\",\"h\":\"1 17C4FD9ACA0D875660A4D81EF97A46EB139781922AC13D2F5E8FD9CCE54F97F0 1 179E35CC41D238E254ACD24CC5A11129BEBD5EFD8C60EA0EFFE3D7A296C7787B 2 095E45DDF417D05FB10933FFC63D474548B7FFFF7888802F07FFFFFF7D07A8A8\",\"h0\":\"1 06FA7A387C48D9B0425635235641776A7367ECB59F13FDB9B996CFE0C8589988 1 0651753AB4E38A54D143E1398F4DB6C5758E1BE58466345B519E7B4F06C16396 2 095E45DDF417D05FB10933FFC63D474548B7FFFF7888802F07FFFFFF7D07A8A8\",\"h1\":\"1 07654F2150927D98A69F39DA1834E14009BC76649C72E1AA6456A6FDBA6A90FC 1 0F2C984420F5B22869D185BCA83EA2B1719991DCA2C6D7D1BFCFE8D50C2390A8 2 095E45DDF417D05FB10933FFC63D474548B7FFFF7888802F07FFFFFF7D07A8A8\",\"h2\":\"1 0463B0FBD533F0FFE409BD1E6F1F5D50C8865F86A756016D8DFA22EF4C8B3442 1 1BB3CCA627E08BA32FEAB802B019BAC7F25B106711414CB05A245D7AB41355EE 2 095E45DDF417D05FB10933FFC63D474548B7FFFF7888802F07FFFFFF7D07A8A8\",\"htilde\":\"1 14090E8DC7959EB7ED8F147DFEC400FEA3E51A108169ADE95D5C1CF834299D6F 1 1FFD5F0390CBBF33AC7B40D4B24A9E940329476BE2AC42C19F269C27A4EB3C2D 2 095E45DDF417D05FB10933FFC63D474548B7FFFF7888802F07FFFFFF7D07A8A8\",\"h_cap\":\"1 1EC927C18F459F3A77E281C221384F26BF9E5DCF19056196F4B9E3A716D345FD 1 122740ECB2B22BDB90EF1C59FF6FBC2D53F214794A844867D42E0D3B261219C3 1 0AB313BD26AC6B914A4F6385806BCBD708EF9C12A3F41EA1C511B89D7EAF2016 1 1E139E0229F196619A23CF0F65DCDC9A3BBC262FACC11A030EB5163D68334E69 2 095E45DDF417D05FB10933FFC63D474548B7FFFF7888802F07FFFFFF7D07A8A8 1 0000000000000000000000000000000000000000000000000000000000000000\",\"u\":\"1 111A188EC1A8F2B101430FE2B52833444858D94204D35ABDB9A59A0A84522C4E 1 0B522CD88C5298104FCDFFAB52903BA5911BB62CCC20729915E6743C35EB5105 1 00B2E690AA9F96F54BE42D6E415F44E836E8888333B0B7B38840AEFE29FED690 1 1C6361C3D09F89EB2C88F3BA42099D81E4D7A3040EAD9572B68AF2E7FA6378C9 2 095E45DDF417D05FB10933FFC63D474548B7FFFF7888802F07FFFFFF7D07A8A8 1 0000000000000000000000000000000000000000000000000000000000000000\",\"pk\":\"1 1CDF50BDADD49E0CBD62F16AB90914D1503A0E54D7CA0B0819A98CFFC5CBF3C0 1 0331CC416089E3411C91516A27567BCAAC131DAF92B7E65281F2358D7E38DE2C 2 095E45DDF417D05FB10933FFC63D474548B7FFFF7888802F07FFFFFF7D07A8A8\",\"y\":\"1 1A5F7B23714BCB1BD3B7002BFB74E3D5C149FAA9DD5AF5A475750DDC477383C9 1 08C59DCD300DC48451EF0A52EB1FEB20C4D6C2DF307B3BE03F1C623E1EA6BDB9 1 130AC18B389E5FE63E7E011EA9902BB289C1F0645ABE42025C765CC30E941109 1 0A8077643801DC5155EE345E0E61062B456BBB19E43CAD6D25FDA736D1D0C293 2 095E45DDF417D05FB10933FFC63D474548B7FFFF7888802F07FFFFFF7D07A8A8 1 0000000000000000000000000000000000000000000000000000000000000000\"}}}'}"
      ]
     },
     "execution_count": 133,
     "metadata": {},
     "output_type": "execute_result"
    }
   ],
   "source": [
    "acme"
   ]
  },
  {
   "cell_type": "code",
   "execution_count": 134,
   "id": "d038e81b-844b-4b2e-86b7-44ca0191bdb8",
   "metadata": {},
   "outputs": [
    {
     "name": "stdout",
     "output_type": "stream",
     "text": [
      "{\n",
      "    \"ver\": \"1.0\",\n",
      "    \"id\": \"DYHgp6eSHgiuzJEekw44c2:3:CL:106:TAG1\",\n",
      "    \"schemaId\": \"106\",\n",
      "    \"type\": \"CL\",\n",
      "    \"tag\": \"TAG1\",\n",
      "    \"value\": {\n",
      "        \"primary\": {\n",
      "            \"n\": \"106359825164629924786501458525694773660587449851015381710218073979061837698988296022625218896266866473744993446831887152296262669332244917382107288259233829827834997517307633232818112411274342932908396539683450590053066940577099098539170086642918565659877840060479220160386673913623656415081463339491557520282268587164256218571644755885676388339380766612502271942964038694921811179026721731107322079717966206156854514846584493762521228339317164056387486421793612636486043530892240900459046266123830655058642474758161933009099336899629352439004056473393907954327647293606065268193743181653871320462412303112921257494329\",\n",
      "            \"s\": \"103838917686892344763162819053104074631315993263293070566220071490778886514082965322872601152292479360976070129942732128965600396127078802596625219081242301740949689005663518270032459854976867681354692959193266998789818672986580166788386847879571581357194379285351221245502024920808916282724477191307662567879051112657359285277469101912763779303375234351584248033049634603485062015534248045582315643679686077209792521903397577534205409708423150745926776302171649882643501993011515470426164131473139691042713260985457374266724589755167262096887611272865827647664784641628786933211108018590246237091176929342983965147437\",\n",
      "            \"r\": {\n",
      "                \"salary\": \"37941139535912486589778852437809463669610657278177764313050693574206734999530746191588054294291782737532938184672916707480000671515820937587336537447452611870931450252822280356722298147661456458995563647698237971714392011794810199941851752192103927384628429162469662400881504512195306164807622058694799628139518785295627480726286718293329333805630298363414661232290108973681809929765945057719091693428762632351769940910498582778887635626765783237822918676446715876886997884667259047618669999652325334104745657663790354901074241409446182998082004521515918873708796816047392382929972389130990040851347557534834315541243\",\n",
      "                \"master_secret\": \"11064733842460954385252835962088991032067346643598800190085726362118265758568527526146479198187004005253236037471264665755569990875949640787326218454340666453701295607412904267578610339869197564157044305844245405226267209721167110165912662270127593424676161762341617940184252638735809096943574315292517305346125794402375732302464173139986665028146136479708642283431848272446986277459670075487968245329616751913804240463663209162738075707844080946978103888713048177136666409533570276978441347425656708577173757871897479302225811972665398920454757110620254975174841388743986035209527010981161186963463024820758796035557\",\n",
      "                \"first_name\": \"94346990387299283804050463071383787112451449807510941499811142275436544887852891801165209943149726971159078010595245046419445134364005932964031497772028669209818583250742130936606543382131062158053655673957925766612972642693500961978527813441504193207305341645331846995470998920411480218595829058204717537732957617595925137510394149885470922245994099599218847280620540503815718799010881645621940333776916322024523734902981171258436939439205562563286001172896142623350086438678182846763558539147242781676070856787448761380608841167696060157958405980570162126612288866463223248965737770803271662862369282938392687023565\",\n",
      "                \"experience\": \"39291248926121066995517204815711687516046609714468940289167209364702270403438929160246000045194910685380976076608545677348182694656120334205017998986820394441993437496734753297990093471150421207398410179059037419409911344567346501586701186433729815214295165612619338631671854104352883600181725249623063680456451827781982388241980664907176531217806307107536103604240692643771730542588060967018191643472384373503486439915441765979162658293037512984745911060803866344855789225500206768316673616232103020084020294109899484823969687524038774745014695789540599327994017032400818708377380094348692537006687323180402348403141\",\n",
      "                \"last_name\": \"91933539312102069056652249674940337512470266662724865122886846477671099198499857763558350196720873136474870320166409680328667403394161730938479389057548427726616732650491926718084138566666167832523544469208606295863620193252795161211578791813199442015952711499796085072785512582515149173937374432983759298581906802853036669645285981363432557695107739211489732205719882470510548141938427354333699027474243260452212434073764896187065167606209149782884100381115053913199418064269056661942821205846599066367217972877156084210422544528463481537748808764365471903809104839978467027972556749095308993966357937459640426786478\",\n",
      "                \"employee_status\": \"72719785260943455525662758244614444612489130311253468975550454369371088980759913555971417306143002992574660308360662087287577712171311254953439668949512654850804260585364490018235367299347739776213221318815598707761363128035572824058100815944367579946441263276333983140139285365199712392895331149782013206366481771687354497455356530923638195708745979082191833161238800860544482683613817381076376033587193250639834708133878263218844907554633547927018293678828856983938779963312248733097215978023259432708727663849027336481651124663225238243020920175766799971952175144167902846002182296537604257955861381807507464159303\"\n",
      "            },\n",
      "            \"rctxt\": \"85942470575577945690771295164600416700212653860492488447980636456032461342178767046869887030322469075425585701136626166582138354180165115283094032893615472974279910708466165684387227234259878655188110153825241838634947932483445728699813304502436429108343220206152905934685079754191941526819485813992807435019429756124075732723628399498527652022739870988813035130868754308344854329185193526562776735708434029351105163564258171079095120477016127562847056869029645829200513690948977757217766021953972290173199811036442505243238274543400305808719777510707714620034672949796152692751498393516041326449046997529751562209730\",\n",
      "            \"z\": \"71349046251484477734364458429601653833470893565388672834849761266221119584243319200576110381346429941481317888106022875441704239138894800152136885215786335382933395168293911176581005324088826612797364854186539544295351596323733028768042686848066722728710976316112035035788286244950397305449602734357151825634851832077391400833048264631641957490384427379476737282236940799315969842556586571943716065174567216570515600641949321903906151973312085485641641684590440512222426930861995417285324509995389372431107872257472432337347905106451090827475379847102686193324767361393563152935662275283712327867604379281191249839993\"\n",
      "        },\n",
      "        \"revocation\": {\n",
      "            \"g\": \"1 0C6E4D9650D2CA2A867A68094989D43B962B62AEEC1694011F2FEE646566676A 1 138C889A9246817100FC8DDBE19D3B433EB2ABB8E02B7FC3ED2ECAD995430F76 2 095E45DDF417D05FB10933FFC63D474548B7FFFF7888802F07FFFFFF7D07A8A8\",\n",
      "            \"g_dash\": \"1 21F6913227FCE1A538A8A3F23A83DAE78FF7CDCCE1FBB408CB487791B2DCA531 1 1DED6139E03815C1FCDE2FB2876D606B4E78AEFBE98FC7643636035C0F1D3EC7 1 23EFC17F9D43618DC3EF43E5585692DE2CC38ADFD4707EE6961590912BC1ED9C 1 02A62D2B61AEB0C6571B4807437708C892E86D496B6318311B60B706CE67E753 2 095E45DDF417D05FB10933FFC63D474548B7FFFF7888802F07FFFFFF7D07A8A8 1 0000000000000000000000000000000000000000000000000000000000000000\",\n",
      "            \"h\": \"1 17C4FD9ACA0D875660A4D81EF97A46EB139781922AC13D2F5E8FD9CCE54F97F0 1 179E35CC41D238E254ACD24CC5A11129BEBD5EFD8C60EA0EFFE3D7A296C7787B 2 095E45DDF417D05FB10933FFC63D474548B7FFFF7888802F07FFFFFF7D07A8A8\",\n",
      "            \"h0\": \"1 06FA7A387C48D9B0425635235641776A7367ECB59F13FDB9B996CFE0C8589988 1 0651753AB4E38A54D143E1398F4DB6C5758E1BE58466345B519E7B4F06C16396 2 095E45DDF417D05FB10933FFC63D474548B7FFFF7888802F07FFFFFF7D07A8A8\",\n",
      "            \"h1\": \"1 07654F2150927D98A69F39DA1834E14009BC76649C72E1AA6456A6FDBA6A90FC 1 0F2C984420F5B22869D185BCA83EA2B1719991DCA2C6D7D1BFCFE8D50C2390A8 2 095E45DDF417D05FB10933FFC63D474548B7FFFF7888802F07FFFFFF7D07A8A8\",\n",
      "            \"h2\": \"1 0463B0FBD533F0FFE409BD1E6F1F5D50C8865F86A756016D8DFA22EF4C8B3442 1 1BB3CCA627E08BA32FEAB802B019BAC7F25B106711414CB05A245D7AB41355EE 2 095E45DDF417D05FB10933FFC63D474548B7FFFF7888802F07FFFFFF7D07A8A8\",\n",
      "            \"htilde\": \"1 14090E8DC7959EB7ED8F147DFEC400FEA3E51A108169ADE95D5C1CF834299D6F 1 1FFD5F0390CBBF33AC7B40D4B24A9E940329476BE2AC42C19F269C27A4EB3C2D 2 095E45DDF417D05FB10933FFC63D474548B7FFFF7888802F07FFFFFF7D07A8A8\",\n",
      "            \"h_cap\": \"1 1EC927C18F459F3A77E281C221384F26BF9E5DCF19056196F4B9E3A716D345FD 1 122740ECB2B22BDB90EF1C59FF6FBC2D53F214794A844867D42E0D3B261219C3 1 0AB313BD26AC6B914A4F6385806BCBD708EF9C12A3F41EA1C511B89D7EAF2016 1 1E139E0229F196619A23CF0F65DCDC9A3BBC262FACC11A030EB5163D68334E69 2 095E45DDF417D05FB10933FFC63D474548B7FFFF7888802F07FFFFFF7D07A8A8 1 0000000000000000000000000000000000000000000000000000000000000000\",\n",
      "            \"u\": \"1 111A188EC1A8F2B101430FE2B52833444858D94204D35ABDB9A59A0A84522C4E 1 0B522CD88C5298104FCDFFAB52903BA5911BB62CCC20729915E6743C35EB5105 1 00B2E690AA9F96F54BE42D6E415F44E836E8888333B0B7B38840AEFE29FED690 1 1C6361C3D09F89EB2C88F3BA42099D81E4D7A3040EAD9572B68AF2E7FA6378C9 2 095E45DDF417D05FB10933FFC63D474548B7FFFF7888802F07FFFFFF7D07A8A8 1 0000000000000000000000000000000000000000000000000000000000000000\",\n",
      "            \"pk\": \"1 1CDF50BDADD49E0CBD62F16AB90914D1503A0E54D7CA0B0819A98CFFC5CBF3C0 1 0331CC416089E3411C91516A27567BCAAC131DAF92B7E65281F2358D7E38DE2C 2 095E45DDF417D05FB10933FFC63D474548B7FFFF7888802F07FFFFFF7D07A8A8\",\n",
      "            \"y\": \"1 1A5F7B23714BCB1BD3B7002BFB74E3D5C149FAA9DD5AF5A475750DDC477383C9 1 08C59DCD300DC48451EF0A52EB1FEB20C4D6C2DF307B3BE03F1C623E1EA6BDB9 1 130AC18B389E5FE63E7E011EA9902BB289C1F0645ABE42025C765CC30E941109 1 0A8077643801DC5155EE345E0E61062B456BBB19E43CAD6D25FDA736D1D0C293 2 095E45DDF417D05FB10933FFC63D474548B7FFFF7888802F07FFFFFF7D07A8A8 1 0000000000000000000000000000000000000000000000000000000000000000\"\n",
      "        }\n",
      "    }\n",
      "}\n"
     ]
    }
   ],
   "source": [
    "print(json.dumps(json.loads(acme['job_certificate_cred_def']),indent=4))"
   ]
  },
  {
   "cell_type": "markdown",
   "id": "657353dc-fa8d-40aa-898f-a5b86e312aea",
   "metadata": {},
   "source": [
    " - 등록"
   ]
  },
  {
   "cell_type": "code",
   "execution_count": 135,
   "id": "aa82a21a-96f1-4556-bb75-e28753960d90",
   "metadata": {},
   "outputs": [],
   "source": [
    "cred_def_request = await ledger.build_cred_def_request(acme['did'], acme['job_certificate_cred_def'])"
   ]
  },
  {
   "cell_type": "code",
   "execution_count": 136,
   "id": "bfe1591d-4502-4dd3-be58-9e2817227f37",
   "metadata": {},
   "outputs": [
    {
     "name": "stdout",
     "output_type": "stream",
     "text": [
      "{\n",
      "    \"reqId\": 1627590697653304429,\n",
      "    \"identifier\": \"DYHgp6eSHgiuzJEekw44c2\",\n",
      "    \"operation\": {\n",
      "        \"ref\": 106,\n",
      "        \"data\": {\n",
      "            \"primary\": {\n",
      "                \"n\": \"106359825164629924786501458525694773660587449851015381710218073979061837698988296022625218896266866473744993446831887152296262669332244917382107288259233829827834997517307633232818112411274342932908396539683450590053066940577099098539170086642918565659877840060479220160386673913623656415081463339491557520282268587164256218571644755885676388339380766612502271942964038694921811179026721731107322079717966206156854514846584493762521228339317164056387486421793612636486043530892240900459046266123830655058642474758161933009099336899629352439004056473393907954327647293606065268193743181653871320462412303112921257494329\",\n",
      "                \"s\": \"103838917686892344763162819053104074631315993263293070566220071490778886514082965322872601152292479360976070129942732128965600396127078802596625219081242301740949689005663518270032459854976867681354692959193266998789818672986580166788386847879571581357194379285351221245502024920808916282724477191307662567879051112657359285277469101912763779303375234351584248033049634603485062015534248045582315643679686077209792521903397577534205409708423150745926776302171649882643501993011515470426164131473139691042713260985457374266724589755167262096887611272865827647664784641628786933211108018590246237091176929342983965147437\",\n",
      "                \"r\": {\n",
      "                    \"employee_status\": \"72719785260943455525662758244614444612489130311253468975550454369371088980759913555971417306143002992574660308360662087287577712171311254953439668949512654850804260585364490018235367299347739776213221318815598707761363128035572824058100815944367579946441263276333983140139285365199712392895331149782013206366481771687354497455356530923638195708745979082191833161238800860544482683613817381076376033587193250639834708133878263218844907554633547927018293678828856983938779963312248733097215978023259432708727663849027336481651124663225238243020920175766799971952175144167902846002182296537604257955861381807507464159303\",\n",
      "                    \"last_name\": \"91933539312102069056652249674940337512470266662724865122886846477671099198499857763558350196720873136474870320166409680328667403394161730938479389057548427726616732650491926718084138566666167832523544469208606295863620193252795161211578791813199442015952711499796085072785512582515149173937374432983759298581906802853036669645285981363432557695107739211489732205719882470510548141938427354333699027474243260452212434073764896187065167606209149782884100381115053913199418064269056661942821205846599066367217972877156084210422544528463481537748808764365471903809104839978467027972556749095308993966357937459640426786478\",\n",
      "                    \"first_name\": \"94346990387299283804050463071383787112451449807510941499811142275436544887852891801165209943149726971159078010595245046419445134364005932964031497772028669209818583250742130936606543382131062158053655673957925766612972642693500961978527813441504193207305341645331846995470998920411480218595829058204717537732957617595925137510394149885470922245994099599218847280620540503815718799010881645621940333776916322024523734902981171258436939439205562563286001172896142623350086438678182846763558539147242781676070856787448761380608841167696060157958405980570162126612288866463223248965737770803271662862369282938392687023565\",\n",
      "                    \"experience\": \"39291248926121066995517204815711687516046609714468940289167209364702270403438929160246000045194910685380976076608545677348182694656120334205017998986820394441993437496734753297990093471150421207398410179059037419409911344567346501586701186433729815214295165612619338631671854104352883600181725249623063680456451827781982388241980664907176531217806307107536103604240692643771730542588060967018191643472384373503486439915441765979162658293037512984745911060803866344855789225500206768316673616232103020084020294109899484823969687524038774745014695789540599327994017032400818708377380094348692537006687323180402348403141\",\n",
      "                    \"master_secret\": \"11064733842460954385252835962088991032067346643598800190085726362118265758568527526146479198187004005253236037471264665755569990875949640787326218454340666453701295607412904267578610339869197564157044305844245405226267209721167110165912662270127593424676161762341617940184252638735809096943574315292517305346125794402375732302464173139986665028146136479708642283431848272446986277459670075487968245329616751913804240463663209162738075707844080946978103888713048177136666409533570276978441347425656708577173757871897479302225811972665398920454757110620254975174841388743986035209527010981161186963463024820758796035557\",\n",
      "                    \"salary\": \"37941139535912486589778852437809463669610657278177764313050693574206734999530746191588054294291782737532938184672916707480000671515820937587336537447452611870931450252822280356722298147661456458995563647698237971714392011794810199941851752192103927384628429162469662400881504512195306164807622058694799628139518785295627480726286718293329333805630298363414661232290108973681809929765945057719091693428762632351769940910498582778887635626765783237822918676446715876886997884667259047618669999652325334104745657663790354901074241409446182998082004521515918873708796816047392382929972389130990040851347557534834315541243\"\n",
      "                },\n",
      "                \"rctxt\": \"85942470575577945690771295164600416700212653860492488447980636456032461342178767046869887030322469075425585701136626166582138354180165115283094032893615472974279910708466165684387227234259878655188110153825241838634947932483445728699813304502436429108343220206152905934685079754191941526819485813992807435019429756124075732723628399498527652022739870988813035130868754308344854329185193526562776735708434029351105163564258171079095120477016127562847056869029645829200513690948977757217766021953972290173199811036442505243238274543400305808719777510707714620034672949796152692751498393516041326449046997529751562209730\",\n",
      "                \"z\": \"71349046251484477734364458429601653833470893565388672834849761266221119584243319200576110381346429941481317888106022875441704239138894800152136885215786335382933395168293911176581005324088826612797364854186539544295351596323733028768042686848066722728710976316112035035788286244950397305449602734357151825634851832077391400833048264631641957490384427379476737282236940799315969842556586571943716065174567216570515600641949321903906151973312085485641641684590440512222426930861995417285324509995389372431107872257472432337347905106451090827475379847102686193324767361393563152935662275283712327867604379281191249839993\"\n",
      "            },\n",
      "            \"revocation\": {\n",
      "                \"g\": \"1 0C6E4D9650D2CA2A867A68094989D43B962B62AEEC1694011F2FEE646566676A 1 138C889A9246817100FC8DDBE19D3B433EB2ABB8E02B7FC3ED2ECAD995430F76 2 095E45DDF417D05FB10933FFC63D474548B7FFFF7888802F07FFFFFF7D07A8A8\",\n",
      "                \"g_dash\": \"1 21F6913227FCE1A538A8A3F23A83DAE78FF7CDCCE1FBB408CB487791B2DCA531 1 1DED6139E03815C1FCDE2FB2876D606B4E78AEFBE98FC7643636035C0F1D3EC7 1 23EFC17F9D43618DC3EF43E5585692DE2CC38ADFD4707EE6961590912BC1ED9C 1 02A62D2B61AEB0C6571B4807437708C892E86D496B6318311B60B706CE67E753 2 095E45DDF417D05FB10933FFC63D474548B7FFFF7888802F07FFFFFF7D07A8A8 1 0000000000000000000000000000000000000000000000000000000000000000\",\n",
      "                \"h\": \"1 17C4FD9ACA0D875660A4D81EF97A46EB139781922AC13D2F5E8FD9CCE54F97F0 1 179E35CC41D238E254ACD24CC5A11129BEBD5EFD8C60EA0EFFE3D7A296C7787B 2 095E45DDF417D05FB10933FFC63D474548B7FFFF7888802F07FFFFFF7D07A8A8\",\n",
      "                \"h0\": \"1 06FA7A387C48D9B0425635235641776A7367ECB59F13FDB9B996CFE0C8589988 1 0651753AB4E38A54D143E1398F4DB6C5758E1BE58466345B519E7B4F06C16396 2 095E45DDF417D05FB10933FFC63D474548B7FFFF7888802F07FFFFFF7D07A8A8\",\n",
      "                \"h1\": \"1 07654F2150927D98A69F39DA1834E14009BC76649C72E1AA6456A6FDBA6A90FC 1 0F2C984420F5B22869D185BCA83EA2B1719991DCA2C6D7D1BFCFE8D50C2390A8 2 095E45DDF417D05FB10933FFC63D474548B7FFFF7888802F07FFFFFF7D07A8A8\",\n",
      "                \"h2\": \"1 0463B0FBD533F0FFE409BD1E6F1F5D50C8865F86A756016D8DFA22EF4C8B3442 1 1BB3CCA627E08BA32FEAB802B019BAC7F25B106711414CB05A245D7AB41355EE 2 095E45DDF417D05FB10933FFC63D474548B7FFFF7888802F07FFFFFF7D07A8A8\",\n",
      "                \"htilde\": \"1 14090E8DC7959EB7ED8F147DFEC400FEA3E51A108169ADE95D5C1CF834299D6F 1 1FFD5F0390CBBF33AC7B40D4B24A9E940329476BE2AC42C19F269C27A4EB3C2D 2 095E45DDF417D05FB10933FFC63D474548B7FFFF7888802F07FFFFFF7D07A8A8\",\n",
      "                \"h_cap\": \"1 1EC927C18F459F3A77E281C221384F26BF9E5DCF19056196F4B9E3A716D345FD 1 122740ECB2B22BDB90EF1C59FF6FBC2D53F214794A844867D42E0D3B261219C3 1 0AB313BD26AC6B914A4F6385806BCBD708EF9C12A3F41EA1C511B89D7EAF2016 1 1E139E0229F196619A23CF0F65DCDC9A3BBC262FACC11A030EB5163D68334E69 2 095E45DDF417D05FB10933FFC63D474548B7FFFF7888802F07FFFFFF7D07A8A8 1 0000000000000000000000000000000000000000000000000000000000000000\",\n",
      "                \"u\": \"1 111A188EC1A8F2B101430FE2B52833444858D94204D35ABDB9A59A0A84522C4E 1 0B522CD88C5298104FCDFFAB52903BA5911BB62CCC20729915E6743C35EB5105 1 00B2E690AA9F96F54BE42D6E415F44E836E8888333B0B7B38840AEFE29FED690 1 1C6361C3D09F89EB2C88F3BA42099D81E4D7A3040EAD9572B68AF2E7FA6378C9 2 095E45DDF417D05FB10933FFC63D474548B7FFFF7888802F07FFFFFF7D07A8A8 1 0000000000000000000000000000000000000000000000000000000000000000\",\n",
      "                \"pk\": \"1 1CDF50BDADD49E0CBD62F16AB90914D1503A0E54D7CA0B0819A98CFFC5CBF3C0 1 0331CC416089E3411C91516A27567BCAAC131DAF92B7E65281F2358D7E38DE2C 2 095E45DDF417D05FB10933FFC63D474548B7FFFF7888802F07FFFFFF7D07A8A8\",\n",
      "                \"y\": \"1 1A5F7B23714BCB1BD3B7002BFB74E3D5C149FAA9DD5AF5A475750DDC477383C9 1 08C59DCD300DC48451EF0A52EB1FEB20C4D6C2DF307B3BE03F1C623E1EA6BDB9 1 130AC18B389E5FE63E7E011EA9902BB289C1F0645ABE42025C765CC30E941109 1 0A8077643801DC5155EE345E0E61062B456BBB19E43CAD6D25FDA736D1D0C293 2 095E45DDF417D05FB10933FFC63D474548B7FFFF7888802F07FFFFFF7D07A8A8 1 0000000000000000000000000000000000000000000000000000000000000000\"\n",
      "            }\n",
      "        },\n",
      "        \"type\": \"102\",\n",
      "        \"signature_type\": \"CL\",\n",
      "        \"tag\": \"TAG1\"\n",
      "    },\n",
      "    \"protocolVersion\": 2\n",
      "}\n"
     ]
    }
   ],
   "source": [
    "print(json.dumps(json.loads(cred_def_request),indent=4))"
   ]
  },
  {
   "cell_type": "code",
   "execution_count": 137,
   "id": "e089acd0-8084-4f6f-a0a0-c8accb72a19a",
   "metadata": {},
   "outputs": [],
   "source": [
    "result = await ledger.sign_and_submit_request(acme['pool'], acme['wallet'], acme['did'], cred_def_request)"
   ]
  },
  {
   "cell_type": "code",
   "execution_count": 138,
   "id": "3740cea3-5aba-45c6-87e8-c4b48bad86e7",
   "metadata": {},
   "outputs": [
    {
     "name": "stdout",
     "output_type": "stream",
     "text": [
      "{\n",
      "    \"op\": \"REPLY\",\n",
      "    \"result\": {\n",
      "        \"rootHash\": \"3ByH5itdWmPkUrbp32FN9TFbCyK1QHzbuC1EnzE97Mia\",\n",
      "        \"auditPath\": [\n",
      "            \"6r3vYcCLa8Cpvn8AEKifg464UwyE8JPeHoUMZxZEGGMS\",\n",
      "            \"yfYMJ83bPsKVHDVMjxupgNWkL9CArAUpLQ3oN9zkNTh\",\n",
      "            \"6dvhke25RyaL7KEDjo6Qz8d8gmwRbmJ3akurLQJrWYyr\",\n",
      "            \"ChXSt8Tk59pd6re6jEL1LiDxHRrzQ2BFnpms9dMCANFW\"\n",
      "        ],\n",
      "        \"txn\": {\n",
      "            \"data\": {\n",
      "                \"data\": {\n",
      "                    \"revocation\": {\n",
      "                        \"h0\": \"1 06FA7A387C48D9B0425635235641776A7367ECB59F13FDB9B996CFE0C8589988 1 0651753AB4E38A54D143E1398F4DB6C5758E1BE58466345B519E7B4F06C16396 2 095E45DDF417D05FB10933FFC63D474548B7FFFF7888802F07FFFFFF7D07A8A8\",\n",
      "                        \"u\": \"1 111A188EC1A8F2B101430FE2B52833444858D94204D35ABDB9A59A0A84522C4E 1 0B522CD88C5298104FCDFFAB52903BA5911BB62CCC20729915E6743C35EB5105 1 00B2E690AA9F96F54BE42D6E415F44E836E8888333B0B7B38840AEFE29FED690 1 1C6361C3D09F89EB2C88F3BA42099D81E4D7A3040EAD9572B68AF2E7FA6378C9 2 095E45DDF417D05FB10933FFC63D474548B7FFFF7888802F07FFFFFF7D07A8A8 1 0000000000000000000000000000000000000000000000000000000000000000\",\n",
      "                        \"g_dash\": \"1 21F6913227FCE1A538A8A3F23A83DAE78FF7CDCCE1FBB408CB487791B2DCA531 1 1DED6139E03815C1FCDE2FB2876D606B4E78AEFBE98FC7643636035C0F1D3EC7 1 23EFC17F9D43618DC3EF43E5585692DE2CC38ADFD4707EE6961590912BC1ED9C 1 02A62D2B61AEB0C6571B4807437708C892E86D496B6318311B60B706CE67E753 2 095E45DDF417D05FB10933FFC63D474548B7FFFF7888802F07FFFFFF7D07A8A8 1 0000000000000000000000000000000000000000000000000000000000000000\",\n",
      "                        \"h2\": \"1 0463B0FBD533F0FFE409BD1E6F1F5D50C8865F86A756016D8DFA22EF4C8B3442 1 1BB3CCA627E08BA32FEAB802B019BAC7F25B106711414CB05A245D7AB41355EE 2 095E45DDF417D05FB10933FFC63D474548B7FFFF7888802F07FFFFFF7D07A8A8\",\n",
      "                        \"h\": \"1 17C4FD9ACA0D875660A4D81EF97A46EB139781922AC13D2F5E8FD9CCE54F97F0 1 179E35CC41D238E254ACD24CC5A11129BEBD5EFD8C60EA0EFFE3D7A296C7787B 2 095E45DDF417D05FB10933FFC63D474548B7FFFF7888802F07FFFFFF7D07A8A8\",\n",
      "                        \"h1\": \"1 07654F2150927D98A69F39DA1834E14009BC76649C72E1AA6456A6FDBA6A90FC 1 0F2C984420F5B22869D185BCA83EA2B1719991DCA2C6D7D1BFCFE8D50C2390A8 2 095E45DDF417D05FB10933FFC63D474548B7FFFF7888802F07FFFFFF7D07A8A8\",\n",
      "                        \"pk\": \"1 1CDF50BDADD49E0CBD62F16AB90914D1503A0E54D7CA0B0819A98CFFC5CBF3C0 1 0331CC416089E3411C91516A27567BCAAC131DAF92B7E65281F2358D7E38DE2C 2 095E45DDF417D05FB10933FFC63D474548B7FFFF7888802F07FFFFFF7D07A8A8\",\n",
      "                        \"htilde\": \"1 14090E8DC7959EB7ED8F147DFEC400FEA3E51A108169ADE95D5C1CF834299D6F 1 1FFD5F0390CBBF33AC7B40D4B24A9E940329476BE2AC42C19F269C27A4EB3C2D 2 095E45DDF417D05FB10933FFC63D474548B7FFFF7888802F07FFFFFF7D07A8A8\",\n",
      "                        \"g\": \"1 0C6E4D9650D2CA2A867A68094989D43B962B62AEEC1694011F2FEE646566676A 1 138C889A9246817100FC8DDBE19D3B433EB2ABB8E02B7FC3ED2ECAD995430F76 2 095E45DDF417D05FB10933FFC63D474548B7FFFF7888802F07FFFFFF7D07A8A8\",\n",
      "                        \"h_cap\": \"1 1EC927C18F459F3A77E281C221384F26BF9E5DCF19056196F4B9E3A716D345FD 1 122740ECB2B22BDB90EF1C59FF6FBC2D53F214794A844867D42E0D3B261219C3 1 0AB313BD26AC6B914A4F6385806BCBD708EF9C12A3F41EA1C511B89D7EAF2016 1 1E139E0229F196619A23CF0F65DCDC9A3BBC262FACC11A030EB5163D68334E69 2 095E45DDF417D05FB10933FFC63D474548B7FFFF7888802F07FFFFFF7D07A8A8 1 0000000000000000000000000000000000000000000000000000000000000000\",\n",
      "                        \"y\": \"1 1A5F7B23714BCB1BD3B7002BFB74E3D5C149FAA9DD5AF5A475750DDC477383C9 1 08C59DCD300DC48451EF0A52EB1FEB20C4D6C2DF307B3BE03F1C623E1EA6BDB9 1 130AC18B389E5FE63E7E011EA9902BB289C1F0645ABE42025C765CC30E941109 1 0A8077643801DC5155EE345E0E61062B456BBB19E43CAD6D25FDA736D1D0C293 2 095E45DDF417D05FB10933FFC63D474548B7FFFF7888802F07FFFFFF7D07A8A8 1 0000000000000000000000000000000000000000000000000000000000000000\"\n",
      "                    },\n",
      "                    \"primary\": {\n",
      "                        \"r\": {\n",
      "                            \"first_name\": \"94346990387299283804050463071383787112451449807510941499811142275436544887852891801165209943149726971159078010595245046419445134364005932964031497772028669209818583250742130936606543382131062158053655673957925766612972642693500961978527813441504193207305341645331846995470998920411480218595829058204717537732957617595925137510394149885470922245994099599218847280620540503815718799010881645621940333776916322024523734902981171258436939439205562563286001172896142623350086438678182846763558539147242781676070856787448761380608841167696060157958405980570162126612288866463223248965737770803271662862369282938392687023565\",\n",
      "                            \"employee_status\": \"72719785260943455525662758244614444612489130311253468975550454369371088980759913555971417306143002992574660308360662087287577712171311254953439668949512654850804260585364490018235367299347739776213221318815598707761363128035572824058100815944367579946441263276333983140139285365199712392895331149782013206366481771687354497455356530923638195708745979082191833161238800860544482683613817381076376033587193250639834708133878263218844907554633547927018293678828856983938779963312248733097215978023259432708727663849027336481651124663225238243020920175766799971952175144167902846002182296537604257955861381807507464159303\",\n",
      "                            \"experience\": \"39291248926121066995517204815711687516046609714468940289167209364702270403438929160246000045194910685380976076608545677348182694656120334205017998986820394441993437496734753297990093471150421207398410179059037419409911344567346501586701186433729815214295165612619338631671854104352883600181725249623063680456451827781982388241980664907176531217806307107536103604240692643771730542588060967018191643472384373503486439915441765979162658293037512984745911060803866344855789225500206768316673616232103020084020294109899484823969687524038774745014695789540599327994017032400818708377380094348692537006687323180402348403141\",\n",
      "                            \"salary\": \"37941139535912486589778852437809463669610657278177764313050693574206734999530746191588054294291782737532938184672916707480000671515820937587336537447452611870931450252822280356722298147661456458995563647698237971714392011794810199941851752192103927384628429162469662400881504512195306164807622058694799628139518785295627480726286718293329333805630298363414661232290108973681809929765945057719091693428762632351769940910498582778887635626765783237822918676446715876886997884667259047618669999652325334104745657663790354901074241409446182998082004521515918873708796816047392382929972389130990040851347557534834315541243\",\n",
      "                            \"master_secret\": \"11064733842460954385252835962088991032067346643598800190085726362118265758568527526146479198187004005253236037471264665755569990875949640787326218454340666453701295607412904267578610339869197564157044305844245405226267209721167110165912662270127593424676161762341617940184252638735809096943574315292517305346125794402375732302464173139986665028146136479708642283431848272446986277459670075487968245329616751913804240463663209162738075707844080946978103888713048177136666409533570276978441347425656708577173757871897479302225811972665398920454757110620254975174841388743986035209527010981161186963463024820758796035557\",\n",
      "                            \"last_name\": \"91933539312102069056652249674940337512470266662724865122886846477671099198499857763558350196720873136474870320166409680328667403394161730938479389057548427726616732650491926718084138566666167832523544469208606295863620193252795161211578791813199442015952711499796085072785512582515149173937374432983759298581906802853036669645285981363432557695107739211489732205719882470510548141938427354333699027474243260452212434073764896187065167606209149782884100381115053913199418064269056661942821205846599066367217972877156084210422544528463481537748808764365471903809104839978467027972556749095308993966357937459640426786478\"\n",
      "                        },\n",
      "                        \"s\": \"103838917686892344763162819053104074631315993263293070566220071490778886514082965322872601152292479360976070129942732128965600396127078802596625219081242301740949689005663518270032459854976867681354692959193266998789818672986580166788386847879571581357194379285351221245502024920808916282724477191307662567879051112657359285277469101912763779303375234351584248033049634603485062015534248045582315643679686077209792521903397577534205409708423150745926776302171649882643501993011515470426164131473139691042713260985457374266724589755167262096887611272865827647664784641628786933211108018590246237091176929342983965147437\",\n",
      "                        \"n\": \"106359825164629924786501458525694773660587449851015381710218073979061837698988296022625218896266866473744993446831887152296262669332244917382107288259233829827834997517307633232818112411274342932908396539683450590053066940577099098539170086642918565659877840060479220160386673913623656415081463339491557520282268587164256218571644755885676388339380766612502271942964038694921811179026721731107322079717966206156854514846584493762521228339317164056387486421793612636486043530892240900459046266123830655058642474758161933009099336899629352439004056473393907954327647293606065268193743181653871320462412303112921257494329\",\n",
      "                        \"rctxt\": \"85942470575577945690771295164600416700212653860492488447980636456032461342178767046869887030322469075425585701136626166582138354180165115283094032893615472974279910708466165684387227234259878655188110153825241838634947932483445728699813304502436429108343220206152905934685079754191941526819485813992807435019429756124075732723628399498527652022739870988813035130868754308344854329185193526562776735708434029351105163564258171079095120477016127562847056869029645829200513690948977757217766021953972290173199811036442505243238274543400305808719777510707714620034672949796152692751498393516041326449046997529751562209730\",\n",
      "                        \"z\": \"71349046251484477734364458429601653833470893565388672834849761266221119584243319200576110381346429941481317888106022875441704239138894800152136885215786335382933395168293911176581005324088826612797364854186539544295351596323733028768042686848066722728710976316112035035788286244950397305449602734357151825634851832077391400833048264631641957490384427379476737282236940799315969842556586571943716065174567216570515600641949321903906151973312085485641641684590440512222426930861995417285324509995389372431107872257472432337347905106451090827475379847102686193324767361393563152935662275283712327867604379281191249839993\"\n",
      "                    }\n",
      "                },\n",
      "                \"signature_type\": \"CL\",\n",
      "                \"tag\": \"TAG1\",\n",
      "                \"ref\": 106\n",
      "            },\n",
      "            \"protocolVersion\": 2,\n",
      "            \"type\": \"102\",\n",
      "            \"metadata\": {\n",
      "                \"digest\": \"11db166e8bed93ba98ebae450630b481180251816bd4fbbeaed21bb2057bf3a5\",\n",
      "                \"payloadDigest\": \"d9c37451b8a6b1dd69572d0e3746d3225b88f0f3c31b636f3544883785445855\",\n",
      "                \"from\": \"DYHgp6eSHgiuzJEekw44c2\",\n",
      "                \"reqId\": 1627590697653304429\n",
      "            }\n",
      "        },\n",
      "        \"reqSignature\": {\n",
      "            \"values\": [\n",
      "                {\n",
      "                    \"value\": \"2YN8nSQbjTkMrEXVkmqZkcZqKc1EMV4mHHB2W5RCwNsvMkCi63jCSEWpqGiTyD95hjBKjZVRZLFnWbMPkXb4Czbm\",\n",
      "                    \"from\": \"DYHgp6eSHgiuzJEekw44c2\"\n",
      "                }\n",
      "            ],\n",
      "            \"type\": \"ED25519\"\n",
      "        },\n",
      "        \"txnMetadata\": {\n",
      "            \"txnId\": \"DYHgp6eSHgiuzJEekw44c2:3:CL:106:TAG1\",\n",
      "            \"seqNo\": 109,\n",
      "            \"txnTime\": 1627590721\n",
      "        },\n",
      "        \"ver\": \"1\"\n",
      "    }\n",
      "}\n"
     ]
    }
   ],
   "source": [
    "print(json.dumps(json.loads(result),indent=4))"
   ]
  },
  {
   "cell_type": "markdown",
   "id": "c7f430ba-6fea-4c3b-acbd-47e8d22b91ec",
   "metadata": {},
   "source": [
    "### * support_revocation : True로 인한 Revocation Registry 생성\n",
    "\n",
    "```python\n",
    "job_certificate_cred_def = {\n",
    "    'tag': 'TAG1',\n",
    "    'type': 'CL',\n",
    "    'config': {\"support_revocation\": True}\n",
    "}\n",
    "```"
   ]
  },
  {
   "cell_type": "code",
   "execution_count": 139,
   "id": "9bcb2dfe-8ee8-48a8-bab3-5873fb49b02e",
   "metadata": {},
   "outputs": [],
   "source": [
    "acme['tails_writer_config'] = json.dumps({'base_dir': \"/tmp/indy_acme_tails\", 'uri_pattern': ''})"
   ]
  },
  {
   "cell_type": "code",
   "execution_count": 140,
   "id": "676409fc-e380-43a2-810b-0cfb3e98a5ae",
   "metadata": {},
   "outputs": [
    {
     "data": {
      "text/plain": [
       "{'name': 'Acme',\n",
       " 'wallet_config': '{\"id\": \"acme_wallet\"}',\n",
       " 'wallet_credentials': '{\"key\": \"acme_wallet_key\"}',\n",
       " 'pool': 2,\n",
       " 'role': 'TRUST_ANCHOR',\n",
       " 'wallet': 15,\n",
       " 'did': 'DYHgp6eSHgiuzJEekw44c2',\n",
       " 'key': '7qPzsoeMbELi5WDEjSDKhVpsfCfijWAVvvmf2SG5tYM4',\n",
       " 'job_certificate_schema_id': 'HwnVC4oxuamPhWWerqRiao:2:Job-Certificate:0.2',\n",
       " 'job_certificate_schema': '{\"ver\":\"1.0\",\"id\":\"HwnVC4oxuamPhWWerqRiao:2:Job-Certificate:0.2\",\"name\":\"Job-Certificate\",\"version\":\"0.2\",\"attrNames\":[\"salary\",\"employee_status\",\"first_name\",\"last_name\",\"experience\"],\"seqNo\":106}',\n",
       " 'job_certificate_cred_def_id': 'DYHgp6eSHgiuzJEekw44c2:3:CL:106:TAG1',\n",
       " 'job_certificate_cred_def': '{\"ver\":\"1.0\",\"id\":\"DYHgp6eSHgiuzJEekw44c2:3:CL:106:TAG1\",\"schemaId\":\"106\",\"type\":\"CL\",\"tag\":\"TAG1\",\"value\":{\"primary\":{\"n\":\"106359825164629924786501458525694773660587449851015381710218073979061837698988296022625218896266866473744993446831887152296262669332244917382107288259233829827834997517307633232818112411274342932908396539683450590053066940577099098539170086642918565659877840060479220160386673913623656415081463339491557520282268587164256218571644755885676388339380766612502271942964038694921811179026721731107322079717966206156854514846584493762521228339317164056387486421793612636486043530892240900459046266123830655058642474758161933009099336899629352439004056473393907954327647293606065268193743181653871320462412303112921257494329\",\"s\":\"103838917686892344763162819053104074631315993263293070566220071490778886514082965322872601152292479360976070129942732128965600396127078802596625219081242301740949689005663518270032459854976867681354692959193266998789818672986580166788386847879571581357194379285351221245502024920808916282724477191307662567879051112657359285277469101912763779303375234351584248033049634603485062015534248045582315643679686077209792521903397577534205409708423150745926776302171649882643501993011515470426164131473139691042713260985457374266724589755167262096887611272865827647664784641628786933211108018590246237091176929342983965147437\",\"r\":{\"salary\":\"37941139535912486589778852437809463669610657278177764313050693574206734999530746191588054294291782737532938184672916707480000671515820937587336537447452611870931450252822280356722298147661456458995563647698237971714392011794810199941851752192103927384628429162469662400881504512195306164807622058694799628139518785295627480726286718293329333805630298363414661232290108973681809929765945057719091693428762632351769940910498582778887635626765783237822918676446715876886997884667259047618669999652325334104745657663790354901074241409446182998082004521515918873708796816047392382929972389130990040851347557534834315541243\",\"master_secret\":\"11064733842460954385252835962088991032067346643598800190085726362118265758568527526146479198187004005253236037471264665755569990875949640787326218454340666453701295607412904267578610339869197564157044305844245405226267209721167110165912662270127593424676161762341617940184252638735809096943574315292517305346125794402375732302464173139986665028146136479708642283431848272446986277459670075487968245329616751913804240463663209162738075707844080946978103888713048177136666409533570276978441347425656708577173757871897479302225811972665398920454757110620254975174841388743986035209527010981161186963463024820758796035557\",\"first_name\":\"94346990387299283804050463071383787112451449807510941499811142275436544887852891801165209943149726971159078010595245046419445134364005932964031497772028669209818583250742130936606543382131062158053655673957925766612972642693500961978527813441504193207305341645331846995470998920411480218595829058204717537732957617595925137510394149885470922245994099599218847280620540503815718799010881645621940333776916322024523734902981171258436939439205562563286001172896142623350086438678182846763558539147242781676070856787448761380608841167696060157958405980570162126612288866463223248965737770803271662862369282938392687023565\",\"experience\":\"39291248926121066995517204815711687516046609714468940289167209364702270403438929160246000045194910685380976076608545677348182694656120334205017998986820394441993437496734753297990093471150421207398410179059037419409911344567346501586701186433729815214295165612619338631671854104352883600181725249623063680456451827781982388241980664907176531217806307107536103604240692643771730542588060967018191643472384373503486439915441765979162658293037512984745911060803866344855789225500206768316673616232103020084020294109899484823969687524038774745014695789540599327994017032400818708377380094348692537006687323180402348403141\",\"last_name\":\"91933539312102069056652249674940337512470266662724865122886846477671099198499857763558350196720873136474870320166409680328667403394161730938479389057548427726616732650491926718084138566666167832523544469208606295863620193252795161211578791813199442015952711499796085072785512582515149173937374432983759298581906802853036669645285981363432557695107739211489732205719882470510548141938427354333699027474243260452212434073764896187065167606209149782884100381115053913199418064269056661942821205846599066367217972877156084210422544528463481537748808764365471903809104839978467027972556749095308993966357937459640426786478\",\"employee_status\":\"72719785260943455525662758244614444612489130311253468975550454369371088980759913555971417306143002992574660308360662087287577712171311254953439668949512654850804260585364490018235367299347739776213221318815598707761363128035572824058100815944367579946441263276333983140139285365199712392895331149782013206366481771687354497455356530923638195708745979082191833161238800860544482683613817381076376033587193250639834708133878263218844907554633547927018293678828856983938779963312248733097215978023259432708727663849027336481651124663225238243020920175766799971952175144167902846002182296537604257955861381807507464159303\"},\"rctxt\":\"85942470575577945690771295164600416700212653860492488447980636456032461342178767046869887030322469075425585701136626166582138354180165115283094032893615472974279910708466165684387227234259878655188110153825241838634947932483445728699813304502436429108343220206152905934685079754191941526819485813992807435019429756124075732723628399498527652022739870988813035130868754308344854329185193526562776735708434029351105163564258171079095120477016127562847056869029645829200513690948977757217766021953972290173199811036442505243238274543400305808719777510707714620034672949796152692751498393516041326449046997529751562209730\",\"z\":\"71349046251484477734364458429601653833470893565388672834849761266221119584243319200576110381346429941481317888106022875441704239138894800152136885215786335382933395168293911176581005324088826612797364854186539544295351596323733028768042686848066722728710976316112035035788286244950397305449602734357151825634851832077391400833048264631641957490384427379476737282236940799315969842556586571943716065174567216570515600641949321903906151973312085485641641684590440512222426930861995417285324509995389372431107872257472432337347905106451090827475379847102686193324767361393563152935662275283712327867604379281191249839993\"},\"revocation\":{\"g\":\"1 0C6E4D9650D2CA2A867A68094989D43B962B62AEEC1694011F2FEE646566676A 1 138C889A9246817100FC8DDBE19D3B433EB2ABB8E02B7FC3ED2ECAD995430F76 2 095E45DDF417D05FB10933FFC63D474548B7FFFF7888802F07FFFFFF7D07A8A8\",\"g_dash\":\"1 21F6913227FCE1A538A8A3F23A83DAE78FF7CDCCE1FBB408CB487791B2DCA531 1 1DED6139E03815C1FCDE2FB2876D606B4E78AEFBE98FC7643636035C0F1D3EC7 1 23EFC17F9D43618DC3EF43E5585692DE2CC38ADFD4707EE6961590912BC1ED9C 1 02A62D2B61AEB0C6571B4807437708C892E86D496B6318311B60B706CE67E753 2 095E45DDF417D05FB10933FFC63D474548B7FFFF7888802F07FFFFFF7D07A8A8 1 0000000000000000000000000000000000000000000000000000000000000000\",\"h\":\"1 17C4FD9ACA0D875660A4D81EF97A46EB139781922AC13D2F5E8FD9CCE54F97F0 1 179E35CC41D238E254ACD24CC5A11129BEBD5EFD8C60EA0EFFE3D7A296C7787B 2 095E45DDF417D05FB10933FFC63D474548B7FFFF7888802F07FFFFFF7D07A8A8\",\"h0\":\"1 06FA7A387C48D9B0425635235641776A7367ECB59F13FDB9B996CFE0C8589988 1 0651753AB4E38A54D143E1398F4DB6C5758E1BE58466345B519E7B4F06C16396 2 095E45DDF417D05FB10933FFC63D474548B7FFFF7888802F07FFFFFF7D07A8A8\",\"h1\":\"1 07654F2150927D98A69F39DA1834E14009BC76649C72E1AA6456A6FDBA6A90FC 1 0F2C984420F5B22869D185BCA83EA2B1719991DCA2C6D7D1BFCFE8D50C2390A8 2 095E45DDF417D05FB10933FFC63D474548B7FFFF7888802F07FFFFFF7D07A8A8\",\"h2\":\"1 0463B0FBD533F0FFE409BD1E6F1F5D50C8865F86A756016D8DFA22EF4C8B3442 1 1BB3CCA627E08BA32FEAB802B019BAC7F25B106711414CB05A245D7AB41355EE 2 095E45DDF417D05FB10933FFC63D474548B7FFFF7888802F07FFFFFF7D07A8A8\",\"htilde\":\"1 14090E8DC7959EB7ED8F147DFEC400FEA3E51A108169ADE95D5C1CF834299D6F 1 1FFD5F0390CBBF33AC7B40D4B24A9E940329476BE2AC42C19F269C27A4EB3C2D 2 095E45DDF417D05FB10933FFC63D474548B7FFFF7888802F07FFFFFF7D07A8A8\",\"h_cap\":\"1 1EC927C18F459F3A77E281C221384F26BF9E5DCF19056196F4B9E3A716D345FD 1 122740ECB2B22BDB90EF1C59FF6FBC2D53F214794A844867D42E0D3B261219C3 1 0AB313BD26AC6B914A4F6385806BCBD708EF9C12A3F41EA1C511B89D7EAF2016 1 1E139E0229F196619A23CF0F65DCDC9A3BBC262FACC11A030EB5163D68334E69 2 095E45DDF417D05FB10933FFC63D474548B7FFFF7888802F07FFFFFF7D07A8A8 1 0000000000000000000000000000000000000000000000000000000000000000\",\"u\":\"1 111A188EC1A8F2B101430FE2B52833444858D94204D35ABDB9A59A0A84522C4E 1 0B522CD88C5298104FCDFFAB52903BA5911BB62CCC20729915E6743C35EB5105 1 00B2E690AA9F96F54BE42D6E415F44E836E8888333B0B7B38840AEFE29FED690 1 1C6361C3D09F89EB2C88F3BA42099D81E4D7A3040EAD9572B68AF2E7FA6378C9 2 095E45DDF417D05FB10933FFC63D474548B7FFFF7888802F07FFFFFF7D07A8A8 1 0000000000000000000000000000000000000000000000000000000000000000\",\"pk\":\"1 1CDF50BDADD49E0CBD62F16AB90914D1503A0E54D7CA0B0819A98CFFC5CBF3C0 1 0331CC416089E3411C91516A27567BCAAC131DAF92B7E65281F2358D7E38DE2C 2 095E45DDF417D05FB10933FFC63D474548B7FFFF7888802F07FFFFFF7D07A8A8\",\"y\":\"1 1A5F7B23714BCB1BD3B7002BFB74E3D5C149FAA9DD5AF5A475750DDC477383C9 1 08C59DCD300DC48451EF0A52EB1FEB20C4D6C2DF307B3BE03F1C623E1EA6BDB9 1 130AC18B389E5FE63E7E011EA9902BB289C1F0645ABE42025C765CC30E941109 1 0A8077643801DC5155EE345E0E61062B456BBB19E43CAD6D25FDA736D1D0C293 2 095E45DDF417D05FB10933FFC63D474548B7FFFF7888802F07FFFFFF7D07A8A8 1 0000000000000000000000000000000000000000000000000000000000000000\"}}}',\n",
       " 'tails_writer_config': '{\"base_dir\": \"/tmp/indy_acme_tails\", \"uri_pattern\": \"\"}'}"
      ]
     },
     "execution_count": 140,
     "metadata": {},
     "output_type": "execute_result"
    }
   ],
   "source": [
    "acme"
   ]
  },
  {
   "cell_type": "code",
   "execution_count": 141,
   "id": "d72a5256-5f2e-4145-905b-9301c06cd979",
   "metadata": {},
   "outputs": [],
   "source": [
    "tails_writer = await blob_storage.open_writer('default', acme['tails_writer_config'])"
   ]
  },
  {
   "cell_type": "code",
   "execution_count": 143,
   "id": "ab37f44f-d0f9-4ea6-a83a-0121aee409a2",
   "metadata": {},
   "outputs": [
    {
     "data": {
      "text/plain": [
       "38"
      ]
     },
     "execution_count": 143,
     "metadata": {},
     "output_type": "execute_result"
    }
   ],
   "source": [
    "tails_writer"
   ]
  },
  {
   "cell_type": "code",
   "execution_count": 144,
   "id": "7bd683e1-75c1-4dfb-85e6-9c6812ce572b",
   "metadata": {},
   "outputs": [],
   "source": [
    "acme['revoc_reg_id'], acme['revoc_reg_def'], acme['revoc_reg_entry'] = \\\n",
    "    await anoncreds.issuer_create_and_store_revoc_reg(acme['wallet'], \n",
    "                                                      acme['did'], \n",
    "                                                      'CL_ACCUM', \n",
    "                                                      'TAG1',\n",
    "                                                      acme['job_certificate_cred_def_id'],\n",
    "                                                      json.dumps({'max_cred_num': 5,\n",
    "                                                                  'issuance_type': 'ISSUANCE_ON_DEMAND'}),\n",
    "                                                      tails_writer)"
   ]
  },
  {
   "cell_type": "code",
   "execution_count": 145,
   "id": "659c7965-8669-45da-8401-b998e077c661",
   "metadata": {},
   "outputs": [
    {
     "data": {
      "text/plain": [
       "{'name': 'Acme',\n",
       " 'wallet_config': '{\"id\": \"acme_wallet\"}',\n",
       " 'wallet_credentials': '{\"key\": \"acme_wallet_key\"}',\n",
       " 'pool': 2,\n",
       " 'role': 'TRUST_ANCHOR',\n",
       " 'wallet': 15,\n",
       " 'did': 'DYHgp6eSHgiuzJEekw44c2',\n",
       " 'key': '7qPzsoeMbELi5WDEjSDKhVpsfCfijWAVvvmf2SG5tYM4',\n",
       " 'job_certificate_schema_id': 'HwnVC4oxuamPhWWerqRiao:2:Job-Certificate:0.2',\n",
       " 'job_certificate_schema': '{\"ver\":\"1.0\",\"id\":\"HwnVC4oxuamPhWWerqRiao:2:Job-Certificate:0.2\",\"name\":\"Job-Certificate\",\"version\":\"0.2\",\"attrNames\":[\"salary\",\"employee_status\",\"first_name\",\"last_name\",\"experience\"],\"seqNo\":106}',\n",
       " 'job_certificate_cred_def_id': 'DYHgp6eSHgiuzJEekw44c2:3:CL:106:TAG1',\n",
       " 'job_certificate_cred_def': '{\"ver\":\"1.0\",\"id\":\"DYHgp6eSHgiuzJEekw44c2:3:CL:106:TAG1\",\"schemaId\":\"106\",\"type\":\"CL\",\"tag\":\"TAG1\",\"value\":{\"primary\":{\"n\":\"106359825164629924786501458525694773660587449851015381710218073979061837698988296022625218896266866473744993446831887152296262669332244917382107288259233829827834997517307633232818112411274342932908396539683450590053066940577099098539170086642918565659877840060479220160386673913623656415081463339491557520282268587164256218571644755885676388339380766612502271942964038694921811179026721731107322079717966206156854514846584493762521228339317164056387486421793612636486043530892240900459046266123830655058642474758161933009099336899629352439004056473393907954327647293606065268193743181653871320462412303112921257494329\",\"s\":\"103838917686892344763162819053104074631315993263293070566220071490778886514082965322872601152292479360976070129942732128965600396127078802596625219081242301740949689005663518270032459854976867681354692959193266998789818672986580166788386847879571581357194379285351221245502024920808916282724477191307662567879051112657359285277469101912763779303375234351584248033049634603485062015534248045582315643679686077209792521903397577534205409708423150745926776302171649882643501993011515470426164131473139691042713260985457374266724589755167262096887611272865827647664784641628786933211108018590246237091176929342983965147437\",\"r\":{\"salary\":\"37941139535912486589778852437809463669610657278177764313050693574206734999530746191588054294291782737532938184672916707480000671515820937587336537447452611870931450252822280356722298147661456458995563647698237971714392011794810199941851752192103927384628429162469662400881504512195306164807622058694799628139518785295627480726286718293329333805630298363414661232290108973681809929765945057719091693428762632351769940910498582778887635626765783237822918676446715876886997884667259047618669999652325334104745657663790354901074241409446182998082004521515918873708796816047392382929972389130990040851347557534834315541243\",\"master_secret\":\"11064733842460954385252835962088991032067346643598800190085726362118265758568527526146479198187004005253236037471264665755569990875949640787326218454340666453701295607412904267578610339869197564157044305844245405226267209721167110165912662270127593424676161762341617940184252638735809096943574315292517305346125794402375732302464173139986665028146136479708642283431848272446986277459670075487968245329616751913804240463663209162738075707844080946978103888713048177136666409533570276978441347425656708577173757871897479302225811972665398920454757110620254975174841388743986035209527010981161186963463024820758796035557\",\"first_name\":\"94346990387299283804050463071383787112451449807510941499811142275436544887852891801165209943149726971159078010595245046419445134364005932964031497772028669209818583250742130936606543382131062158053655673957925766612972642693500961978527813441504193207305341645331846995470998920411480218595829058204717537732957617595925137510394149885470922245994099599218847280620540503815718799010881645621940333776916322024523734902981171258436939439205562563286001172896142623350086438678182846763558539147242781676070856787448761380608841167696060157958405980570162126612288866463223248965737770803271662862369282938392687023565\",\"experience\":\"39291248926121066995517204815711687516046609714468940289167209364702270403438929160246000045194910685380976076608545677348182694656120334205017998986820394441993437496734753297990093471150421207398410179059037419409911344567346501586701186433729815214295165612619338631671854104352883600181725249623063680456451827781982388241980664907176531217806307107536103604240692643771730542588060967018191643472384373503486439915441765979162658293037512984745911060803866344855789225500206768316673616232103020084020294109899484823969687524038774745014695789540599327994017032400818708377380094348692537006687323180402348403141\",\"last_name\":\"91933539312102069056652249674940337512470266662724865122886846477671099198499857763558350196720873136474870320166409680328667403394161730938479389057548427726616732650491926718084138566666167832523544469208606295863620193252795161211578791813199442015952711499796085072785512582515149173937374432983759298581906802853036669645285981363432557695107739211489732205719882470510548141938427354333699027474243260452212434073764896187065167606209149782884100381115053913199418064269056661942821205846599066367217972877156084210422544528463481537748808764365471903809104839978467027972556749095308993966357937459640426786478\",\"employee_status\":\"72719785260943455525662758244614444612489130311253468975550454369371088980759913555971417306143002992574660308360662087287577712171311254953439668949512654850804260585364490018235367299347739776213221318815598707761363128035572824058100815944367579946441263276333983140139285365199712392895331149782013206366481771687354497455356530923638195708745979082191833161238800860544482683613817381076376033587193250639834708133878263218844907554633547927018293678828856983938779963312248733097215978023259432708727663849027336481651124663225238243020920175766799971952175144167902846002182296537604257955861381807507464159303\"},\"rctxt\":\"85942470575577945690771295164600416700212653860492488447980636456032461342178767046869887030322469075425585701136626166582138354180165115283094032893615472974279910708466165684387227234259878655188110153825241838634947932483445728699813304502436429108343220206152905934685079754191941526819485813992807435019429756124075732723628399498527652022739870988813035130868754308344854329185193526562776735708434029351105163564258171079095120477016127562847056869029645829200513690948977757217766021953972290173199811036442505243238274543400305808719777510707714620034672949796152692751498393516041326449046997529751562209730\",\"z\":\"71349046251484477734364458429601653833470893565388672834849761266221119584243319200576110381346429941481317888106022875441704239138894800152136885215786335382933395168293911176581005324088826612797364854186539544295351596323733028768042686848066722728710976316112035035788286244950397305449602734357151825634851832077391400833048264631641957490384427379476737282236940799315969842556586571943716065174567216570515600641949321903906151973312085485641641684590440512222426930861995417285324509995389372431107872257472432337347905106451090827475379847102686193324767361393563152935662275283712327867604379281191249839993\"},\"revocation\":{\"g\":\"1 0C6E4D9650D2CA2A867A68094989D43B962B62AEEC1694011F2FEE646566676A 1 138C889A9246817100FC8DDBE19D3B433EB2ABB8E02B7FC3ED2ECAD995430F76 2 095E45DDF417D05FB10933FFC63D474548B7FFFF7888802F07FFFFFF7D07A8A8\",\"g_dash\":\"1 21F6913227FCE1A538A8A3F23A83DAE78FF7CDCCE1FBB408CB487791B2DCA531 1 1DED6139E03815C1FCDE2FB2876D606B4E78AEFBE98FC7643636035C0F1D3EC7 1 23EFC17F9D43618DC3EF43E5585692DE2CC38ADFD4707EE6961590912BC1ED9C 1 02A62D2B61AEB0C6571B4807437708C892E86D496B6318311B60B706CE67E753 2 095E45DDF417D05FB10933FFC63D474548B7FFFF7888802F07FFFFFF7D07A8A8 1 0000000000000000000000000000000000000000000000000000000000000000\",\"h\":\"1 17C4FD9ACA0D875660A4D81EF97A46EB139781922AC13D2F5E8FD9CCE54F97F0 1 179E35CC41D238E254ACD24CC5A11129BEBD5EFD8C60EA0EFFE3D7A296C7787B 2 095E45DDF417D05FB10933FFC63D474548B7FFFF7888802F07FFFFFF7D07A8A8\",\"h0\":\"1 06FA7A387C48D9B0425635235641776A7367ECB59F13FDB9B996CFE0C8589988 1 0651753AB4E38A54D143E1398F4DB6C5758E1BE58466345B519E7B4F06C16396 2 095E45DDF417D05FB10933FFC63D474548B7FFFF7888802F07FFFFFF7D07A8A8\",\"h1\":\"1 07654F2150927D98A69F39DA1834E14009BC76649C72E1AA6456A6FDBA6A90FC 1 0F2C984420F5B22869D185BCA83EA2B1719991DCA2C6D7D1BFCFE8D50C2390A8 2 095E45DDF417D05FB10933FFC63D474548B7FFFF7888802F07FFFFFF7D07A8A8\",\"h2\":\"1 0463B0FBD533F0FFE409BD1E6F1F5D50C8865F86A756016D8DFA22EF4C8B3442 1 1BB3CCA627E08BA32FEAB802B019BAC7F25B106711414CB05A245D7AB41355EE 2 095E45DDF417D05FB10933FFC63D474548B7FFFF7888802F07FFFFFF7D07A8A8\",\"htilde\":\"1 14090E8DC7959EB7ED8F147DFEC400FEA3E51A108169ADE95D5C1CF834299D6F 1 1FFD5F0390CBBF33AC7B40D4B24A9E940329476BE2AC42C19F269C27A4EB3C2D 2 095E45DDF417D05FB10933FFC63D474548B7FFFF7888802F07FFFFFF7D07A8A8\",\"h_cap\":\"1 1EC927C18F459F3A77E281C221384F26BF9E5DCF19056196F4B9E3A716D345FD 1 122740ECB2B22BDB90EF1C59FF6FBC2D53F214794A844867D42E0D3B261219C3 1 0AB313BD26AC6B914A4F6385806BCBD708EF9C12A3F41EA1C511B89D7EAF2016 1 1E139E0229F196619A23CF0F65DCDC9A3BBC262FACC11A030EB5163D68334E69 2 095E45DDF417D05FB10933FFC63D474548B7FFFF7888802F07FFFFFF7D07A8A8 1 0000000000000000000000000000000000000000000000000000000000000000\",\"u\":\"1 111A188EC1A8F2B101430FE2B52833444858D94204D35ABDB9A59A0A84522C4E 1 0B522CD88C5298104FCDFFAB52903BA5911BB62CCC20729915E6743C35EB5105 1 00B2E690AA9F96F54BE42D6E415F44E836E8888333B0B7B38840AEFE29FED690 1 1C6361C3D09F89EB2C88F3BA42099D81E4D7A3040EAD9572B68AF2E7FA6378C9 2 095E45DDF417D05FB10933FFC63D474548B7FFFF7888802F07FFFFFF7D07A8A8 1 0000000000000000000000000000000000000000000000000000000000000000\",\"pk\":\"1 1CDF50BDADD49E0CBD62F16AB90914D1503A0E54D7CA0B0819A98CFFC5CBF3C0 1 0331CC416089E3411C91516A27567BCAAC131DAF92B7E65281F2358D7E38DE2C 2 095E45DDF417D05FB10933FFC63D474548B7FFFF7888802F07FFFFFF7D07A8A8\",\"y\":\"1 1A5F7B23714BCB1BD3B7002BFB74E3D5C149FAA9DD5AF5A475750DDC477383C9 1 08C59DCD300DC48451EF0A52EB1FEB20C4D6C2DF307B3BE03F1C623E1EA6BDB9 1 130AC18B389E5FE63E7E011EA9902BB289C1F0645ABE42025C765CC30E941109 1 0A8077643801DC5155EE345E0E61062B456BBB19E43CAD6D25FDA736D1D0C293 2 095E45DDF417D05FB10933FFC63D474548B7FFFF7888802F07FFFFFF7D07A8A8 1 0000000000000000000000000000000000000000000000000000000000000000\"}}}',\n",
       " 'tails_writer_config': '{\"base_dir\": \"/tmp/indy_acme_tails\", \"uri_pattern\": \"\"}',\n",
       " 'revoc_reg_id': 'DYHgp6eSHgiuzJEekw44c2:4:DYHgp6eSHgiuzJEekw44c2:3:CL:106:TAG1:CL_ACCUM:TAG1',\n",
       " 'revoc_reg_def': '{\"ver\":\"1.0\",\"id\":\"DYHgp6eSHgiuzJEekw44c2:4:DYHgp6eSHgiuzJEekw44c2:3:CL:106:TAG1:CL_ACCUM:TAG1\",\"revocDefType\":\"CL_ACCUM\",\"tag\":\"TAG1\",\"credDefId\":\"DYHgp6eSHgiuzJEekw44c2:3:CL:106:TAG1\",\"value\":{\"issuanceType\":\"ISSUANCE_ON_DEMAND\",\"maxCredNum\":5,\"publicKeys\":{\"accumKey\":{\"z\":\"1 13373A9FCA6E8E8A12751EE52C184B57C72F76E3AF7E5F6D1920A5327298FE71 1 09EF96C87BF295B578023CC69C5CF9CC7D52E33D1E72F09EC396BE330C1A9A93 1 130DC876C1CD310DF1ABEF61882004A3033A1EACA447C7D94A36E37D816F79B6 1 1FD463913FD441A327102CF6808B2B53E495E3B1599EBE901972184E00D0B7DD 1 0104B475C176D685271A6562E6F3B7BBF88C676C2BE66526F2FA8FFBB3B6F4C3 1 005FC6A72BC2A2EC9D44E4AE4D1205F7AA1BC81D12081B67B5C5902B7FB1952F 1 109E91E52D014EFAC2B7ADFB24F98EDB9E0D21376A9D6C045131883F846AD2AE 1 2004F11E3CCDA5193FF49737BB7FB96C928868EF1DA4B704BBFC7E7302EF93C9 1 2273A3E6A7ED9343C64809E44DF9D7CD660AEAE98A9BCCE53628B150A659BC5C 1 1113CEBBD0B4091A8823B9F873EBBE42F9236954950C3D532E72A0CEA0044FB9 1 1EDD169DC170D699D4585BFCF89FBC846DCD948446383B3633DE4BCA26077B61 1 06B7B2041D2F2B35D5C57722A9BE0207EFFA9B40C7AA36C7D2CC929E2DBDA185\"}},\"tailsHash\":\"F85KiXLLyyn2uh5hoiDFseLZR31QTQg6PkocELfwuR4L\",\"tailsLocation\":\"/tmp/indy_acme_tails/F85KiXLLyyn2uh5hoiDFseLZR31QTQg6PkocELfwuR4L\"}}',\n",
       " 'revoc_reg_entry': '{\"ver\":\"1.0\",\"value\":{\"accum\":\"1 0000000000000000000000000000000000000000000000000000000000000000 1 0000000000000000000000000000000000000000000000000000000000000000 2 095E45DDF417D05FB10933FFC63D474548B7FFFF7888802F07FFFFFF7D07A8A8 1 0000000000000000000000000000000000000000000000000000000000000000 1 0000000000000000000000000000000000000000000000000000000000000000 1 0000000000000000000000000000000000000000000000000000000000000000\"}}'}"
      ]
     },
     "execution_count": 145,
     "metadata": {},
     "output_type": "execute_result"
    }
   ],
   "source": [
    "acme"
   ]
  },
  {
   "cell_type": "code",
   "execution_count": 146,
   "id": "96c6ab4c-cec0-4a8f-930f-58126e98f958",
   "metadata": {},
   "outputs": [
    {
     "name": "stdout",
     "output_type": "stream",
     "text": [
      "{\n",
      "    \"ver\": \"1.0\",\n",
      "    \"id\": \"DYHgp6eSHgiuzJEekw44c2:4:DYHgp6eSHgiuzJEekw44c2:3:CL:106:TAG1:CL_ACCUM:TAG1\",\n",
      "    \"revocDefType\": \"CL_ACCUM\",\n",
      "    \"tag\": \"TAG1\",\n",
      "    \"credDefId\": \"DYHgp6eSHgiuzJEekw44c2:3:CL:106:TAG1\",\n",
      "    \"value\": {\n",
      "        \"issuanceType\": \"ISSUANCE_ON_DEMAND\",\n",
      "        \"maxCredNum\": 5,\n",
      "        \"publicKeys\": {\n",
      "            \"accumKey\": {\n",
      "                \"z\": \"1 13373A9FCA6E8E8A12751EE52C184B57C72F76E3AF7E5F6D1920A5327298FE71 1 09EF96C87BF295B578023CC69C5CF9CC7D52E33D1E72F09EC396BE330C1A9A93 1 130DC876C1CD310DF1ABEF61882004A3033A1EACA447C7D94A36E37D816F79B6 1 1FD463913FD441A327102CF6808B2B53E495E3B1599EBE901972184E00D0B7DD 1 0104B475C176D685271A6562E6F3B7BBF88C676C2BE66526F2FA8FFBB3B6F4C3 1 005FC6A72BC2A2EC9D44E4AE4D1205F7AA1BC81D12081B67B5C5902B7FB1952F 1 109E91E52D014EFAC2B7ADFB24F98EDB9E0D21376A9D6C045131883F846AD2AE 1 2004F11E3CCDA5193FF49737BB7FB96C928868EF1DA4B704BBFC7E7302EF93C9 1 2273A3E6A7ED9343C64809E44DF9D7CD660AEAE98A9BCCE53628B150A659BC5C 1 1113CEBBD0B4091A8823B9F873EBBE42F9236954950C3D532E72A0CEA0044FB9 1 1EDD169DC170D699D4585BFCF89FBC846DCD948446383B3633DE4BCA26077B61 1 06B7B2041D2F2B35D5C57722A9BE0207EFFA9B40C7AA36C7D2CC929E2DBDA185\"\n",
      "            }\n",
      "        },\n",
      "        \"tailsHash\": \"F85KiXLLyyn2uh5hoiDFseLZR31QTQg6PkocELfwuR4L\",\n",
      "        \"tailsLocation\": \"/tmp/indy_acme_tails/F85KiXLLyyn2uh5hoiDFseLZR31QTQg6PkocELfwuR4L\"\n",
      "    }\n",
      "}\n"
     ]
    }
   ],
   "source": [
    "print(json.dumps(json.loads(acme['revoc_reg_def']),indent=4))"
   ]
  },
  {
   "cell_type": "code",
   "execution_count": 147,
   "id": "1abd3bbb-da08-41e2-8205-eacc2682a84d",
   "metadata": {},
   "outputs": [
    {
     "name": "stdout",
     "output_type": "stream",
     "text": [
      "{\n",
      "    \"ver\": \"1.0\",\n",
      "    \"value\": {\n",
      "        \"accum\": \"1 0000000000000000000000000000000000000000000000000000000000000000 1 0000000000000000000000000000000000000000000000000000000000000000 2 095E45DDF417D05FB10933FFC63D474548B7FFFF7888802F07FFFFFF7D07A8A8 1 0000000000000000000000000000000000000000000000000000000000000000 1 0000000000000000000000000000000000000000000000000000000000000000 1 0000000000000000000000000000000000000000000000000000000000000000\"\n",
      "    }\n",
      "}\n"
     ]
    }
   ],
   "source": [
    "print(json.dumps(json.loads(acme['revoc_reg_entry']),indent=4))"
   ]
  },
  {
   "cell_type": "code",
   "execution_count": 148,
   "id": "31467236-58ac-410a-be36-f80ec98c19f0",
   "metadata": {},
   "outputs": [],
   "source": [
    "acme['revoc_reg_def_request'] = await ledger.build_revoc_reg_def_request(acme['did'], acme['revoc_reg_def'])"
   ]
  },
  {
   "cell_type": "code",
   "execution_count": 149,
   "id": "a096908d-e658-4377-91e2-bd58193d19cc",
   "metadata": {},
   "outputs": [
    {
     "name": "stdout",
     "output_type": "stream",
     "text": [
      "{\n",
      "    \"reqId\": 1627591155738079055,\n",
      "    \"identifier\": \"DYHgp6eSHgiuzJEekw44c2\",\n",
      "    \"operation\": {\n",
      "        \"type\": \"113\",\n",
      "        \"id\": \"DYHgp6eSHgiuzJEekw44c2:4:DYHgp6eSHgiuzJEekw44c2:3:CL:106:TAG1:CL_ACCUM:TAG1\",\n",
      "        \"revocDefType\": \"CL_ACCUM\",\n",
      "        \"tag\": \"TAG1\",\n",
      "        \"credDefId\": \"DYHgp6eSHgiuzJEekw44c2:3:CL:106:TAG1\",\n",
      "        \"value\": {\n",
      "            \"issuanceType\": \"ISSUANCE_ON_DEMAND\",\n",
      "            \"maxCredNum\": 5,\n",
      "            \"publicKeys\": {\n",
      "                \"accumKey\": {\n",
      "                    \"z\": \"1 13373A9FCA6E8E8A12751EE52C184B57C72F76E3AF7E5F6D1920A5327298FE71 1 09EF96C87BF295B578023CC69C5CF9CC7D52E33D1E72F09EC396BE330C1A9A93 1 130DC876C1CD310DF1ABEF61882004A3033A1EACA447C7D94A36E37D816F79B6 1 1FD463913FD441A327102CF6808B2B53E495E3B1599EBE901972184E00D0B7DD 1 0104B475C176D685271A6562E6F3B7BBF88C676C2BE66526F2FA8FFBB3B6F4C3 1 005FC6A72BC2A2EC9D44E4AE4D1205F7AA1BC81D12081B67B5C5902B7FB1952F 1 109E91E52D014EFAC2B7ADFB24F98EDB9E0D21376A9D6C045131883F846AD2AE 1 2004F11E3CCDA5193FF49737BB7FB96C928868EF1DA4B704BBFC7E7302EF93C9 1 2273A3E6A7ED9343C64809E44DF9D7CD660AEAE98A9BCCE53628B150A659BC5C 1 1113CEBBD0B4091A8823B9F873EBBE42F9236954950C3D532E72A0CEA0044FB9 1 1EDD169DC170D699D4585BFCF89FBC846DCD948446383B3633DE4BCA26077B61 1 06B7B2041D2F2B35D5C57722A9BE0207EFFA9B40C7AA36C7D2CC929E2DBDA185\"\n",
      "                }\n",
      "            },\n",
      "            \"tailsHash\": \"F85KiXLLyyn2uh5hoiDFseLZR31QTQg6PkocELfwuR4L\",\n",
      "            \"tailsLocation\": \"/tmp/indy_acme_tails/F85KiXLLyyn2uh5hoiDFseLZR31QTQg6PkocELfwuR4L\"\n",
      "        }\n",
      "    },\n",
      "    \"protocolVersion\": 2\n",
      "}\n"
     ]
    }
   ],
   "source": [
    "print(json.dumps(json.loads(acme['revoc_reg_def_request']),indent=4))"
   ]
  },
  {
   "cell_type": "code",
   "execution_count": 150,
   "id": "15f8a2c8-a175-4221-a4f0-f3c946d649e7",
   "metadata": {},
   "outputs": [
    {
     "data": {
      "text/plain": [
       "'{\"result\":{\"txn\":{\"type\":\"113\",\"data\":{\"revocDefType\":\"CL_ACCUM\",\"id\":\"DYHgp6eSHgiuzJEekw44c2:4:DYHgp6eSHgiuzJEekw44c2:3:CL:106:TAG1:CL_ACCUM:TAG1\",\"tag\":\"TAG1\",\"credDefId\":\"DYHgp6eSHgiuzJEekw44c2:3:CL:106:TAG1\",\"value\":{\"issuanceType\":\"ISSUANCE_ON_DEMAND\",\"maxCredNum\":5,\"tailsHash\":\"F85KiXLLyyn2uh5hoiDFseLZR31QTQg6PkocELfwuR4L\",\"tailsLocation\":\"\\\\/tmp\\\\/indy_acme_tails\\\\/F85KiXLLyyn2uh5hoiDFseLZR31QTQg6PkocELfwuR4L\",\"publicKeys\":{\"accumKey\":{\"z\":\"1 13373A9FCA6E8E8A12751EE52C184B57C72F76E3AF7E5F6D1920A5327298FE71 1 09EF96C87BF295B578023CC69C5CF9CC7D52E33D1E72F09EC396BE330C1A9A93 1 130DC876C1CD310DF1ABEF61882004A3033A1EACA447C7D94A36E37D816F79B6 1 1FD463913FD441A327102CF6808B2B53E495E3B1599EBE901972184E00D0B7DD 1 0104B475C176D685271A6562E6F3B7BBF88C676C2BE66526F2FA8FFBB3B6F4C3 1 005FC6A72BC2A2EC9D44E4AE4D1205F7AA1BC81D12081B67B5C5902B7FB1952F 1 109E91E52D014EFAC2B7ADFB24F98EDB9E0D21376A9D6C045131883F846AD2AE 1 2004F11E3CCDA5193FF49737BB7FB96C928868EF1DA4B704BBFC7E7302EF93C9 1 2273A3E6A7ED9343C64809E44DF9D7CD660AEAE98A9BCCE53628B150A659BC5C 1 1113CEBBD0B4091A8823B9F873EBBE42F9236954950C3D532E72A0CEA0044FB9 1 1EDD169DC170D699D4585BFCF89FBC846DCD948446383B3633DE4BCA26077B61 1 06B7B2041D2F2B35D5C57722A9BE0207EFFA9B40C7AA36C7D2CC929E2DBDA185\"}}}},\"metadata\":{\"payloadDigest\":\"c769fd40b3437e59f38e3a4230adff41519e9d88b9e838983a5a0fd9ed40c646\",\"from\":\"DYHgp6eSHgiuzJEekw44c2\",\"reqId\":1627591155738079055,\"digest\":\"de52c5eb78042217fa19b878a2660f9566412ee656d0db590938b65bac9be45e\"},\"protocolVersion\":2},\"txnMetadata\":{\"txnId\":\"DYHgp6eSHgiuzJEekw44c2:4:DYHgp6eSHgiuzJEekw44c2:3:CL:106:TAG1:CL_ACCUM:TAG1\",\"txnTime\":1627591176,\"seqNo\":110},\"auditPath\":[\"43d9XatbRrfT6eH1NGfrZWvFiDEirfde2vQbjV26ycXA\",\"6r3vYcCLa8Cpvn8AEKifg464UwyE8JPeHoUMZxZEGGMS\",\"yfYMJ83bPsKVHDVMjxupgNWkL9CArAUpLQ3oN9zkNTh\",\"6dvhke25RyaL7KEDjo6Qz8d8gmwRbmJ3akurLQJrWYyr\",\"ChXSt8Tk59pd6re6jEL1LiDxHRrzQ2BFnpms9dMCANFW\"],\"rootHash\":\"6nYk14b3aH8WZjB1F7nnAGpi42tQTDnoWbSfCRgHfP62\",\"ver\":\"1\",\"reqSignature\":{\"type\":\"ED25519\",\"values\":[{\"from\":\"DYHgp6eSHgiuzJEekw44c2\",\"value\":\"26qy1xGFkFDgWBc3KpN4S9V8aLoTkZnqgi3M9DWgNpD555KnkVYhqqYRZSyxC5JfLHq19YbaDYm8AVGvMZAtiUEF\"}]}},\"op\":\"REPLY\"}'"
      ]
     },
     "execution_count": 150,
     "metadata": {},
     "output_type": "execute_result"
    }
   ],
   "source": [
    "result = await ledger.sign_and_submit_request(acme['pool'], acme['wallet'], acme['did'], acme['revoc_reg_def_request'])"
   ]
  },
  {
   "cell_type": "code",
   "execution_count": null,
   "id": "a7c52884-5422-4253-a5c3-525da06188e9",
   "metadata": {},
   "outputs": [],
   "source": [
    "print(json.dumps(json.loads(result),indent=4))"
   ]
  },
  {
   "cell_type": "code",
   "execution_count": 151,
   "id": "9e00d905-acdc-45d9-85df-f27f818bcd47",
   "metadata": {},
   "outputs": [],
   "source": [
    "acme['revoc_reg_entry_request'] = await ledger.build_revoc_reg_entry_request(\n",
    "                                               acme['did'], \n",
    "                                               acme['revoc_reg_id'], \n",
    "                                               'CL_ACCUM',\n",
    "                                               acme['revoc_reg_entry'])"
   ]
  },
  {
   "cell_type": "code",
   "execution_count": 152,
   "id": "194180da-8620-4919-9b4c-ab33d5b3b20f",
   "metadata": {},
   "outputs": [
    {
     "name": "stdout",
     "output_type": "stream",
     "text": [
      "{\n",
      "    \"reqId\": 1627591252819135259,\n",
      "    \"identifier\": \"DYHgp6eSHgiuzJEekw44c2\",\n",
      "    \"operation\": {\n",
      "        \"type\": \"114\",\n",
      "        \"revocRegDefId\": \"DYHgp6eSHgiuzJEekw44c2:4:DYHgp6eSHgiuzJEekw44c2:3:CL:106:TAG1:CL_ACCUM:TAG1\",\n",
      "        \"revocDefType\": \"CL_ACCUM\",\n",
      "        \"value\": {\n",
      "            \"accum\": \"1 0000000000000000000000000000000000000000000000000000000000000000 1 0000000000000000000000000000000000000000000000000000000000000000 2 095E45DDF417D05FB10933FFC63D474548B7FFFF7888802F07FFFFFF7D07A8A8 1 0000000000000000000000000000000000000000000000000000000000000000 1 0000000000000000000000000000000000000000000000000000000000000000 1 0000000000000000000000000000000000000000000000000000000000000000\"\n",
      "        }\n",
      "    },\n",
      "    \"protocolVersion\": 2\n",
      "}\n"
     ]
    }
   ],
   "source": [
    "print(json.dumps(json.loads(acme['revoc_reg_entry_request']),indent=4))"
   ]
  },
  {
   "cell_type": "code",
   "execution_count": 153,
   "id": "f60437a7-a0d6-4897-82d4-3f457788f919",
   "metadata": {},
   "outputs": [],
   "source": [
    "result = await ledger.sign_and_submit_request(acme['pool'], acme['wallet'], acme['did'], acme['revoc_reg_entry_request'])"
   ]
  },
  {
   "cell_type": "code",
   "execution_count": 154,
   "id": "4aa33694-0ac0-4490-9756-72e54816f84e",
   "metadata": {},
   "outputs": [
    {
     "name": "stdout",
     "output_type": "stream",
     "text": [
      "{\n",
      "    \"op\": \"REPLY\",\n",
      "    \"result\": {\n",
      "        \"rootHash\": \"8kwwqngSpKj5qj4Rsz7NspTN4fbqbvFvcxLwRZbgtsaY\",\n",
      "        \"auditPath\": [\n",
      "            \"5mQJYovLcxfvj6eidr9bQEg5FciF4vvHSX11G6FmQimX\",\n",
      "            \"6r3vYcCLa8Cpvn8AEKifg464UwyE8JPeHoUMZxZEGGMS\",\n",
      "            \"yfYMJ83bPsKVHDVMjxupgNWkL9CArAUpLQ3oN9zkNTh\",\n",
      "            \"6dvhke25RyaL7KEDjo6Qz8d8gmwRbmJ3akurLQJrWYyr\",\n",
      "            \"ChXSt8Tk59pd6re6jEL1LiDxHRrzQ2BFnpms9dMCANFW\"\n",
      "        ],\n",
      "        \"txn\": {\n",
      "            \"data\": {\n",
      "                \"revocDefType\": \"CL_ACCUM\",\n",
      "                \"value\": {\n",
      "                    \"accum\": \"1 0000000000000000000000000000000000000000000000000000000000000000 1 0000000000000000000000000000000000000000000000000000000000000000 2 095E45DDF417D05FB10933FFC63D474548B7FFFF7888802F07FFFFFF7D07A8A8 1 0000000000000000000000000000000000000000000000000000000000000000 1 0000000000000000000000000000000000000000000000000000000000000000 1 0000000000000000000000000000000000000000000000000000000000000000\"\n",
      "                },\n",
      "                \"revocRegDefId\": \"DYHgp6eSHgiuzJEekw44c2:4:DYHgp6eSHgiuzJEekw44c2:3:CL:106:TAG1:CL_ACCUM:TAG1\"\n",
      "            },\n",
      "            \"protocolVersion\": 2,\n",
      "            \"type\": \"114\",\n",
      "            \"metadata\": {\n",
      "                \"digest\": \"4ab0e8049c1827e8432fdd50d914315976e37cac06e5659e12da3ff9478d6394\",\n",
      "                \"payloadDigest\": \"4c4d47e33e53eec379ff19e94762afd6b56bab0dea987e46d46fd2e2b247d89c\",\n",
      "                \"from\": \"DYHgp6eSHgiuzJEekw44c2\",\n",
      "                \"reqId\": 1627591252819135259\n",
      "            }\n",
      "        },\n",
      "        \"reqSignature\": {\n",
      "            \"values\": [\n",
      "                {\n",
      "                    \"value\": \"22hWAJcavJxMNynJjPFN4VwcADcGAiQdUxEwiAVdmJzemydGiQzdBiJ2soUajDfFuVjJJss2ShuJ9ybqhrLVNYLt\",\n",
      "                    \"from\": \"DYHgp6eSHgiuzJEekw44c2\"\n",
      "                }\n",
      "            ],\n",
      "            \"type\": \"ED25519\"\n",
      "        },\n",
      "        \"txnMetadata\": {\n",
      "            \"txnId\": \"5:DYHgp6eSHgiuzJEekw44c2:4:DYHgp6eSHgiuzJEekw44c2:3:CL:106:TAG1:CL_ACCUM:TAG1\",\n",
      "            \"seqNo\": 111,\n",
      "            \"txnTime\": 1627591292\n",
      "        },\n",
      "        \"ver\": \"1\"\n",
      "    }\n",
      "}\n"
     ]
    }
   ],
   "source": [
    "print(json.dumps(json.loads(result),indent=4))"
   ]
  },
  {
   "cell_type": "markdown",
   "id": "d2b56787-5791-40e6-a25e-8bd426b73106",
   "metadata": {},
   "source": [
    "# 5. 성적증명서 VC 발급과 증명"
   ]
  },
  {
   "cell_type": "markdown",
   "id": "94c4b444-c0bf-4543-895c-475f8b3c30c7",
   "metadata": {},
   "source": [
    "## - Alice 지갑 생성과 DID 생성"
   ]
  },
  {
   "cell_type": "code",
   "execution_count": 156,
   "id": "ea9fb21d-0c7c-49f3-8510-c676f623953c",
   "metadata": {},
   "outputs": [],
   "source": [
    "alice = {\n",
    "    'name': 'Alice',\n",
    "    'wallet_config': json.dumps({'id': 'alice_wallet'}),\n",
    "    'wallet_credentials': json.dumps({'key': 'alice_wallet_key'}),\n",
    "    'pool': pool_['handle'],\n",
    "}"
   ]
  },
  {
   "cell_type": "code",
   "execution_count": 157,
   "id": "90a7dc8b-96a1-461f-a1a2-001532145336",
   "metadata": {},
   "outputs": [
    {
     "data": {
      "text/plain": [
       "{'name': 'Alice',\n",
       " 'wallet_config': '{\"id\": \"alice_wallet\"}',\n",
       " 'wallet_credentials': '{\"key\": \"alice_wallet_key\"}',\n",
       " 'pool': 2}"
      ]
     },
     "execution_count": 157,
     "metadata": {},
     "output_type": "execute_result"
    }
   ],
   "source": [
    "alice"
   ]
  },
  {
   "cell_type": "code",
   "execution_count": 158,
   "id": "e3665718-9707-4d63-9521-2eaf5a62c519",
   "metadata": {},
   "outputs": [],
   "source": [
    "await wallet.create_wallet(alice['wallet_config'],alice['wallet_credentials'])\n",
    "alice['wallet'] = await wallet.open_wallet(alice['wallet_config'],alice['wallet_credentials'])"
   ]
  },
  {
   "cell_type": "code",
   "execution_count": 159,
   "id": "b428169c-03bf-4ff9-81f3-ef8edc2f7f6a",
   "metadata": {},
   "outputs": [],
   "source": [
    "alice['did'], alice['key'] = await did.create_and_store_my_did(alice['wallet'], \"{}\")"
   ]
  },
  {
   "cell_type": "code",
   "execution_count": 160,
   "id": "e93a735c-1a7b-49d1-b04d-ac7248b1b5d3",
   "metadata": {},
   "outputs": [
    {
     "data": {
      "text/plain": [
       "{'name': 'Alice',\n",
       " 'wallet_config': '{\"id\": \"alice_wallet\"}',\n",
       " 'wallet_credentials': '{\"key\": \"alice_wallet_key\"}',\n",
       " 'pool': 2,\n",
       " 'wallet': 45,\n",
       " 'did': 'DB1JuvPfk3yZHtZPjevqUf',\n",
       " 'key': '7doDmVvHAsnxgbw8XSTes9pJZXyVC7D2zbDenbJAeHYM'}"
      ]
     },
     "execution_count": 160,
     "metadata": {},
     "output_type": "execute_result"
    }
   ],
   "source": [
    "alice"
   ]
  },
  {
   "cell_type": "markdown",
   "id": "6ba19e3e-1c9e-46a3-b8ea-f593381d620a",
   "metadata": {
    "tags": []
   },
   "source": [
    "## - Faber VC 생성"
   ]
  },
  {
   "cell_type": "code",
   "execution_count": 161,
   "id": "1d96028e-d835-4fa8-bc0a-5186afb600c5",
   "metadata": {},
   "outputs": [],
   "source": [
    "faber['transcript_cred_offer'] = await anoncreds.issuer_create_credential_offer(faber['wallet'], faber['transcript_cred_def_id'])"
   ]
  },
  {
   "cell_type": "code",
   "execution_count": 162,
   "id": "5aa4bc8a-5651-412a-849b-c43e385c42ca",
   "metadata": {},
   "outputs": [
    {
     "name": "stdout",
     "output_type": "stream",
     "text": [
      "{\n",
      "    \"schema_id\": \"HwnVC4oxuamPhWWerqRiao:2:Transcript:1.2\",\n",
      "    \"cred_def_id\": \"JqXcGcG5EaY8eptJZp9P8v:3:CL:107:TAG1\",\n",
      "    \"key_correctness_proof\": {\n",
      "        \"c\": \"48642799102908763194266311859550565332586092726214870068684974658081889453001\",\n",
      "        \"xz_cap\": \"734761877426352823018902647393777276220965326542729224855062585427573422696851116119423894692044137643064699397066234465808900355184169231185708168391051445835480102540832169633291027375892342521637222424578290113356670449154529639570978612484499899446804694133279714904486229452308392065080257201000623108318375998903534872581138362154683764138348924492050794953797998487555041078347409161485279891449780553903061421720409443174814308576523971023111821301120727191784507715325808033315595905062523025249324045396890600152161795231343734397090444865891443678504091504217077982441983149681649777514290721812159360848761843117271211820729311806128994071765359497855855915789045968917953240159630\",\n",
      "        \"xr_cap\": [\n",
      "            [\n",
      "                \"ssn\",\n",
      "                \"383487886103945145445182612641123407629194149094592409324139219133974627883267006002506223010025459186414135856946692544634506530537908278537792071958794914026013478982788859672857021937402848123495507864083422644846644660523936926457562798313234388180155908260667081416565447936181999355245894146609787065064561598461498795049111382949340108669439778001963330973637542398225582572540983429349558086109955903890481271464808428146286489837666514373645044884896610516105406204099177580183226774331348451380563303061281803265918832013879814199890303065726711171521449167529557943090065714754069895138904568786987443666932993201596769857795875927387445791319382477454241496172918953453907790533252\"\n",
      "            ],\n",
      "            [\n",
      "                \"year\",\n",
      "                \"745719490428242136859539024345653650772812831998060605000611677332832616405691466914933671909513896267365809889204372371242372029004759554113451567386090386695391849238330370348369160481586995840904682647894026931356945626646652362906166023603272339272501687472230247825328191186837712235400396889219096523248819671933220030208878375068738829850845776132139086403951700731561489652095806216645912146004812897694717160778025238252843475106206777092626952005172427213665689770704920509000386725712011328935318740938606725874825981389555899583485157785365490249417892285791491678572842473824938086324218103947056763336328792657114865245795252588241267299898885291695813264236253010845732252321671\"\n",
      "            ],\n",
      "            [\n",
      "                \"average\",\n",
      "                \"644041261240051310594074249100013090573982115629249592353500658872616663884680990512536578325485928709573238699228123813410517287456320470919338392681059627566147249765324051516491324146620839619127211795303268654268533505841593840283505107064142993743840873103059995093353625598863007991367742506145017386427497689998427417319872574316405843856483051433924304152425433632617674675920448216781664734682895788498486695803241003453473527079234313316363414719546795939644300663380094907056131361716112946645567643614158721183735520410569249193826869498017050308668208508147417248220827671508463117269139923499955440076648690460289993072159245535318310060252328815411436639860740054244766897733856\"\n",
      "            ],\n",
      "            [\n",
      "                \"degree\",\n",
      "                \"821358142649914964285828886807993397713205384463823242277614928112864779524801198110316230642682223990604338584650790582172752616143175426821182709013749839104270540920831459986190447669858208019984943585811885934795120258774515724175642974322159042014509096139630375632270909090795038488993772062123187875557138957345307317997590497692428963500185495553347754941798874984408282957826232568168572666417453799853811806995352916026059930758884621727604719408994958223414150342509388363749738617105436349431804537018022924864181291450849916569508356371628919524317405106618117558831536015824088915528182690561413398198906564336244863466124834457626125935019859558842777760621703449885982497681373\"\n",
      "            ],\n",
      "            [\n",
      "                \"first_name\",\n",
      "                \"444653899804831677739579233775888779672677317074336226038599632291201309798822919156750420824787941635645382160470464654023274039213358436698754416399598828152438375459236426661969150462634584118484261115618245198745787568326681703039592002017594782776323601947779261593790427663137801112605620974562613238083099525275470725709998570909194974290707626782051833092335754556390728863359015737499637827009942886317673388907614134039312053284783897011593993191947823031854281235165260689276719504425798955040306255558537599156714459006527143753694283913595966646854163126746378961951515818319257342059685448078135687282182427409248016606348304750105241557842249011926316470423291344054956771843401\"\n",
      "            ],\n",
      "            [\n",
      "                \"master_secret\",\n",
      "                \"240185873221674180533079249785242061707167923730776166589553363844403593895044722193813272453288267521877341500702170500698745667374742105039677489014032744879260952374671694209923898820359191349565359785873809007962576443616443665790921913709755116802365628274115072272659340464163350932361785997476324396054912839729220227670925043296923780962639540780800936611904792908384659771250412862887612615516840992800850013602429990587373592499885045402685071410454526029795434707503040624891710552419908670551976378635137198158377328442083974663130134519731691808305194876527572969860611555080454855827046871723347554279804227821828569858522120938434081097161049769128649285038701721958369035182349\"\n",
      "            ],\n",
      "            [\n",
      "                \"status\",\n",
      "                \"352022540013447896246042898850634195586664232582155606852591032821023259386285140149686666643406091044044985831832221545684839206498938996309889806995079355258793730791452410503329166878770656168599167520925695427609814595085759655571661470348131438926453485297967609927569997626950135183493591052862149559244520586747558852574805568203159151559727318904764086753969128049793734789253759798904024188254738687327386241281391855645241011885619977347727679312911042248939590635704415114439304258584480365187962124728738805139401462431983388938817413133403580008202110813021033845545492061896456326211541649908640761762370388335830176749994984882187531656672871415926187528033841743554333731596325\"\n",
      "            ],\n",
      "            [\n",
      "                \"last_name\",\n",
      "                \"926053224823112560848495044021310131122427521935510278701179311831628080699617005211259166086055887161077100104270183990020509490772041428729185294562025552880322287545646593982000515516842734113117600685315912669793670896625294904096755654238482627633736256272852600825369468374811414821221780969856094591472927266094836779992744559688368765817659581591797625487640606374112618717474425831183650160184341151802128626533361860627962342578765816255036306531374973518300470768390522156854788740761986060231226739246893616554383113550005202559337585095282422740304671980757008182948353024905443378725870898400453163409010595824208343261324295578150900252811824452502598505187854620485671551196612\"\n",
      "            ]\n",
      "        ]\n",
      "    },\n",
      "    \"nonce\": \"782798312020113521912863\"\n",
      "}\n"
     ]
    }
   ],
   "source": [
    "print(json.dumps(json.loads(faber['transcript_cred_offer']),indent=4))"
   ]
  },
  {
   "cell_type": "markdown",
   "id": "279ab9bf-09e0-420f-9216-ef502485ba94",
   "metadata": {
    "tags": []
   },
   "source": [
    "## - Alice가 Faber에게 VC 전송 요청"
   ]
  },
  {
   "cell_type": "code",
   "execution_count": 163,
   "id": "4c5ed8d3-2beb-4f95-b803-0cbb4fc21ab4",
   "metadata": {},
   "outputs": [],
   "source": [
    "alice['transcript_cred_offer'] = faber['transcript_cred_offer']"
   ]
  },
  {
   "cell_type": "code",
   "execution_count": 164,
   "id": "50062e50-a806-474b-aaa8-96925a013d70",
   "metadata": {},
   "outputs": [],
   "source": [
    "transcript_cred_offer_object = json.loads(alice['transcript_cred_offer'])"
   ]
  },
  {
   "cell_type": "code",
   "execution_count": 165,
   "id": "5c1db7fe-5e0f-4f1a-a389-beb6a2e04327",
   "metadata": {},
   "outputs": [
    {
     "data": {
      "text/plain": [
       "'HwnVC4oxuamPhWWerqRiao:2:Transcript:1.2'"
      ]
     },
     "execution_count": 165,
     "metadata": {},
     "output_type": "execute_result"
    }
   ],
   "source": [
    "transcript_cred_offer_object['schema_id']"
   ]
  },
  {
   "cell_type": "code",
   "execution_count": 166,
   "id": "16e925a5-d2e4-4899-a4e5-b1974e85ef37",
   "metadata": {},
   "outputs": [
    {
     "data": {
      "text/plain": [
       "'JqXcGcG5EaY8eptJZp9P8v:3:CL:107:TAG1'"
      ]
     },
     "execution_count": 166,
     "metadata": {},
     "output_type": "execute_result"
    }
   ],
   "source": [
    "transcript_cred_offer_object['cred_def_id']"
   ]
  },
  {
   "cell_type": "code",
   "execution_count": 167,
   "id": "613fafff-0f56-43e6-9280-1b6ce5ab61ac",
   "metadata": {},
   "outputs": [],
   "source": [
    "alice['transcript_schema_id'] = transcript_cred_offer_object['schema_id']\n",
    "alice['transcript_cred_def_id'] = transcript_cred_offer_object['cred_def_id']"
   ]
  },
  {
   "cell_type": "code",
   "execution_count": 168,
   "id": "1b1f3465-b64e-45a1-855f-c885c0dd851d",
   "metadata": {},
   "outputs": [],
   "source": [
    "alice['master_secret_id'] = await anoncreds.prover_create_master_secret(alice['wallet'], None)"
   ]
  },
  {
   "cell_type": "code",
   "execution_count": 170,
   "id": "a28e43c7-b349-46a8-874d-82de99b54b79",
   "metadata": {},
   "outputs": [
    {
     "data": {
      "text/plain": [
       "'c7fde6bc-280c-4aff-9284-a633075f47f0'"
      ]
     },
     "execution_count": 170,
     "metadata": {},
     "output_type": "execute_result"
    }
   ],
   "source": [
    "alice['master_secret_id']"
   ]
  },
  {
   "cell_type": "code",
   "execution_count": 171,
   "id": "eb30dbcf-f697-45f8-ae99-92733b68ba96",
   "metadata": {},
   "outputs": [],
   "source": [
    "get_cred_def_request = await ledger.build_get_cred_def_request(alice['did'], alice['transcript_cred_def_id'])"
   ]
  },
  {
   "cell_type": "code",
   "execution_count": 172,
   "id": "a700c14a-2abe-4304-a6e1-c34129d9f8c1",
   "metadata": {},
   "outputs": [
    {
     "name": "stdout",
     "output_type": "stream",
     "text": [
      "{\n",
      "    \"reqId\": 1627591933320278648,\n",
      "    \"identifier\": \"DB1JuvPfk3yZHtZPjevqUf\",\n",
      "    \"operation\": {\n",
      "        \"type\": \"108\",\n",
      "        \"ref\": 107,\n",
      "        \"signature_type\": \"CL\",\n",
      "        \"origin\": \"JqXcGcG5EaY8eptJZp9P8v\",\n",
      "        \"tag\": \"TAG1\"\n",
      "    },\n",
      "    \"protocolVersion\": 2\n",
      "}\n"
     ]
    }
   ],
   "source": [
    "print(json.dumps(json.loads(get_cred_def_request),indent=4))"
   ]
  },
  {
   "cell_type": "code",
   "execution_count": 173,
   "id": "b0f0494c-7416-474b-8be2-50a1a5513d97",
   "metadata": {},
   "outputs": [],
   "source": [
    "get_cred_def_response = await ensure_previous_request_applied(alice['pool'], get_cred_def_request,lambda response: response['result']['data'] is not None)"
   ]
  },
  {
   "cell_type": "code",
   "execution_count": 174,
   "id": "e5d7a2b8-36c4-416c-b08f-92bc9230eed0",
   "metadata": {},
   "outputs": [
    {
     "name": "stdout",
     "output_type": "stream",
     "text": [
      "{\n",
      "    \"result\": {\n",
      "        \"type\": \"108\",\n",
      "        \"txnTime\": 1627590181,\n",
      "        \"state_proof\": {\n",
      "            \"multi_signature\": {\n",
      "                \"participants\": [\n",
      "                    \"Node1\",\n",
      "                    \"Node3\",\n",
      "                    \"Node4\"\n",
      "                ],\n",
      "                \"signature\": \"Qw3rMWqhua3MvBHCZ8gtjMZo5EgiXxRCPGUdAp9Tq6v8Fw97P9x9qZUNAy2w4b9LrXWn43gaGYQw3ccpzCMgBcucLV41CUz6MgCL9SoU4xXzgmMQkYfS2mcDsb6uGAqP6kTRhwnxts5mBCniRx5yAqN1Nsh4jMFoSRXujmiUg6XAPZ\",\n",
      "                \"value\": {\n",
      "                    \"pool_state_root_hash\": \"NCGqbfRWDWtLB2bDuL6TC5BhrRdQMc5MyKdXQqXii44\",\n",
      "                    \"state_root_hash\": \"5KvARrqJr5tpcsqzmH1WNUF1WQCougNSoZhRnc5RhtfW\",\n",
      "                    \"ledger_id\": 1,\n",
      "                    \"txn_root_hash\": \"8kwwqngSpKj5qj4Rsz7NspTN4fbqbvFvcxLwRZbgtsaY\",\n",
      "                    \"timestamp\": 1627591894\n",
      "                }\n",
      "            },\n",
      "            \"proof_nodes\": \"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\",\n",
      "            \"root_hash\": \"5KvARrqJr5tpcsqzmH1WNUF1WQCougNSoZhRnc5RhtfW\"\n",
      "        },\n",
      "        \"data\": {\n",
      "            \"primary\": {\n",
      "                \"s\": \"23465086836773112252254583956325410131125485193421721048500363637877399902323168308446773740886484710844998373340272477597354574518711848988247649098254751250413558466223729573441765423166638628783775206935417806518077652053970021980268260877887185217274828177594461745304368801124064470600743653197589333863627698996356935766088189330888885854004434683868598568897896626111239681668335793306708786807268940854292417236233621089173100044314781362394346242924453256167722157596193050601893089404273295279620152593769210395184546462244035765465926627921377170744708115052355573046285158102338011020163202856279076196428\",\n",
      "                \"r\": {\n",
      "                    \"master_secret\": \"83387607000209019520743797372919335597929751004916754775931371981440000534781093631055885798711300473654237579207290425492628587000024263592389569980904995887917257687762538419520240152546856082891972506954624879311021303962969504733508293837405788014188358035648885589462373745802079225153831147990739572665071324370040928417076571161155365062209314247512467473346408800655125576193883280461970810326774545608914502602549783517693302445089355303702252328674284711757460968936092411920125069779752236811895493107777482958164561070102860966654124451152066110304305842183308625797422036950670419650596439936037915197259\",\n",
      "                    \"status\": \"32091961087920911622493704491246633261527329759588294427104861466095275827845023900999946583480999470174000474603200375807049028688577186080012853375469952099304050369676933246757074736868354609021627880288854137675240038918940876436104328160703851493367396338209157045787329586730499437010065845424343012960282444669996783583032017939019201959519843772971286319025651235486784020168025018629694673290592645501679834111567375974195809104817437704791180135432280242279333165293156576134877188127266959224892402499542869002367262223784564518701665404775568287374954985465715413753972739987216454220577069802619358127678\",\n",
      "                    \"first_name\": \"44696547834754539926432481361078059805919983653539038795733543764068475482611042564353285839742147246731709978004120065755521300626405694121543664872158129670576628464689036501733367899781009691162901609656122303874569664405311597379430961806403754071555987317361601635453803779303200326299666078375741508724406180810225861614899857193486084043808245470847292045660894444722869501461321031671150654860895964568060663652205663465923530462049111014817660250456366072596924506008569549119637606140676907821621077540336698601285905390164172347316449362751115416499955748598841999124114614828774364555699217455071403875670\",\n",
      "                    \"last_name\": \"36938762926042021748277626528315845201599795324958840591702264171501281148357833157003276812250843701995245711878135312314796000462019767852027530033249715050662420662410613639668198832957245045686229661224701212697178246685783786979660475053781223945560401446712544503146090200704285355898187304385627474350918066970666961385162676613647757664133175738284776592990308437223146221922446756237515340772307930941693941595691817360139285524446007748378493678875223938601552858078322212935414715815544689227757324229442474611263504124823331579605269628632807798392637830308514968563802706874970967536624713734139634564034\",\n",
      "                    \"degree\": \"75397046247412809990192527424147516444701528308694994002057405950651755577305064613647037253755886613306354105912584347318111992123338922048484733062744201563587620723176647318960847875431735688946481005847437023888358858203349276883361483633224709633696046991576001566830937840136430369858559773967166961333976598122035651499108474333506237562366706228799878149638390270114765232793842333967894034282660920604517339657711045050820828649162883328664979669337135562510620513477368499603456136374117269061093374313605604717937285182893287957273883364050629061576169332831938746581999307216201869490672411037243941771575\",\n",
      "                    \"year\": \"89434358627733117939084492275973316978875096647691848842761345021549126046500603474400889919449876904862502338839640801127925534548105448716255769345310421411824342757313736700069945455319112927386495012931662293804962061536094472835670984322445374181492118527338394049660879839375694715145795750896071551430520950985185618603232139816213750478279017034843336521779917079299159735523029194524806530164016117737710485070253494327135940149443643002383578575738169062334090827557449376142839289900415135149400176844653588459833339356337581760930415196141555414757980554406422157771467536710083607714492988164777664853193\",\n",
      "                    \"average\": \"77172800881004286979037472458674000193967745535120156165978735799021506003302728657969898016643605091866055449264717030581973921051281435382495396006331677374851467878644776623863847588968156260052477220623305894151053913285095029171426201341849675058539360285789159998021654705920319666626539896040809270215611031612236399624471153579234634056023634810718482977044839387912837679134689134409828546129326632559895013480735442296867313597767495192085775828949688251465302813791829709446589252781558870239422763307473530595245966821104537050188651605936809078392863529288908598187177931808222995933924008956971636844748\",\n",
      "                    \"ssn\": \"3418693764030707527177524966091919219965435050636100715384372010854693906407481759530106289550230142820359548871517985710773268255917120190189378410049545673609900845073342739329207239003313651750627579289111242749582620762396496998207040663793057219011352610840598054479797452024449645698764861997731156776228232183511407346785781909233415937393693623972604979433536148442802990627774854900506253947754868237838826778840290425834358606168580680304537964479625773072458563549000491717866340591611406625065662116248034596630622642560077298113705987099729735185019856693854856598836973713559672674795452365597962406184\"\n",
      "                },\n",
      "                \"n\": \"96287763553148236988571291329593129513757229688022520880907213334581041596518630103433620570017198069366362459071711952389287050922135313918897663118087233759794822779596474295316111940192040131139213212090982601033506593690904864669284743288594949145771068338330086943416624768266458919718760611448842433475307131158638735032917009309655554309353346986799259994534980744862582185895070755160807641585418502272059804297254683071910931577370918203127375353064591020469237244544898417342337789572792088432210953554085623605516572644223334619039524509033900405773490274738719412035030382176587717395654578391719966755369\",\n",
      "                \"z\": \"39267908796353840246362962014535197723828752891834428825113245425351096419051532616276675825859632010999388357624213244099849335361261747276436109875765055438223945823029863521875344414759089903408839988412978797755792894512340325221323936513100473945995216420620699345656393939615008409940149489839701854459706690645587901279239429575302031082039174944752479319542310782914533806014256333905212101932553961244809102782194743584549102224579454820224430025968122994256227151232826543496161133594032970462149517075464910186114034669339667057989698928288798599393372645406198208501407299517020626243143053002363085556478\",\n",
      "                \"rctxt\": \"58243599753194697629019826784921895016001656098011897246537085058454485720488682545918854712872434151014233395097407082884926597274483810283058629154790237865412102909859552222237357935184467895816627241285808927445948461448487111667579486639866900003981849438531684883433735602581272141197354137308430378516011126650503136493994701126348122144146079334763023453914576613987348612134478297298828642025599028077469191197994042993540591807250557427045848362852623894043915983382997377467993315582933264669102281660170903196671186890390080492392262855904520163050398467884184739895204154939763811613713441340392099457756\"\n",
      "            }\n",
      "        },\n",
      "        \"identifier\": \"DB1JuvPfk3yZHtZPjevqUf\",\n",
      "        \"reqId\": 1627591933320278648,\n",
      "        \"tag\": \"TAG1\",\n",
      "        \"origin\": \"JqXcGcG5EaY8eptJZp9P8v\",\n",
      "        \"signature_type\": \"CL\",\n",
      "        \"seqNo\": 108,\n",
      "        \"ref\": 107\n",
      "    },\n",
      "    \"op\": \"REPLY\"\n",
      "}\n"
     ]
    }
   ],
   "source": [
    "print(json.dumps(json.loads(get_cred_def_response),indent=4))"
   ]
  },
  {
   "cell_type": "code",
   "execution_count": 175,
   "id": "4718b55c-801a-45b2-88ee-e2e9378c795d",
   "metadata": {},
   "outputs": [],
   "source": [
    "alice['faber_transcript_cred_def_id'], alice['faber_transcript_cred_def'] = await ledger.parse_get_cred_def_response(get_cred_def_response)"
   ]
  },
  {
   "cell_type": "code",
   "execution_count": 176,
   "id": "e324b72f-072f-42d2-aa03-0a57a697e76b",
   "metadata": {},
   "outputs": [
    {
     "data": {
      "text/plain": [
       "'JqXcGcG5EaY8eptJZp9P8v:3:CL:107:TAG1'"
      ]
     },
     "execution_count": 176,
     "metadata": {},
     "output_type": "execute_result"
    }
   ],
   "source": [
    "alice['faber_transcript_cred_def_id']"
   ]
  },
  {
   "cell_type": "code",
   "execution_count": 178,
   "id": "23ec1fd3-0427-4b9b-95ef-69538978c584",
   "metadata": {},
   "outputs": [
    {
     "name": "stdout",
     "output_type": "stream",
     "text": [
      "{\n",
      "    \"ver\": \"1.0\",\n",
      "    \"id\": \"JqXcGcG5EaY8eptJZp9P8v:3:CL:107:TAG1\",\n",
      "    \"schemaId\": \"107\",\n",
      "    \"type\": \"CL\",\n",
      "    \"tag\": \"TAG1\",\n",
      "    \"value\": {\n",
      "        \"primary\": {\n",
      "            \"n\": \"96287763553148236988571291329593129513757229688022520880907213334581041596518630103433620570017198069366362459071711952389287050922135313918897663118087233759794822779596474295316111940192040131139213212090982601033506593690904864669284743288594949145771068338330086943416624768266458919718760611448842433475307131158638735032917009309655554309353346986799259994534980744862582185895070755160807641585418502272059804297254683071910931577370918203127375353064591020469237244544898417342337789572792088432210953554085623605516572644223334619039524509033900405773490274738719412035030382176587717395654578391719966755369\",\n",
      "            \"s\": \"23465086836773112252254583956325410131125485193421721048500363637877399902323168308446773740886484710844998373340272477597354574518711848988247649098254751250413558466223729573441765423166638628783775206935417806518077652053970021980268260877887185217274828177594461745304368801124064470600743653197589333863627698996356935766088189330888885854004434683868598568897896626111239681668335793306708786807268940854292417236233621089173100044314781362394346242924453256167722157596193050601893089404273295279620152593769210395184546462244035765465926627921377170744708115052355573046285158102338011020163202856279076196428\",\n",
      "            \"r\": {\n",
      "                \"year\": \"89434358627733117939084492275973316978875096647691848842761345021549126046500603474400889919449876904862502338839640801127925534548105448716255769345310421411824342757313736700069945455319112927386495012931662293804962061536094472835670984322445374181492118527338394049660879839375694715145795750896071551430520950985185618603232139816213750478279017034843336521779917079299159735523029194524806530164016117737710485070253494327135940149443643002383578575738169062334090827557449376142839289900415135149400176844653588459833339356337581760930415196141555414757980554406422157771467536710083607714492988164777664853193\",\n",
      "                \"last_name\": \"36938762926042021748277626528315845201599795324958840591702264171501281148357833157003276812250843701995245711878135312314796000462019767852027530033249715050662420662410613639668198832957245045686229661224701212697178246685783786979660475053781223945560401446712544503146090200704285355898187304385627474350918066970666961385162676613647757664133175738284776592990308437223146221922446756237515340772307930941693941595691817360139285524446007748378493678875223938601552858078322212935414715815544689227757324229442474611263504124823331579605269628632807798392637830308514968563802706874970967536624713734139634564034\",\n",
      "                \"first_name\": \"44696547834754539926432481361078059805919983653539038795733543764068475482611042564353285839742147246731709978004120065755521300626405694121543664872158129670576628464689036501733367899781009691162901609656122303874569664405311597379430961806403754071555987317361601635453803779303200326299666078375741508724406180810225861614899857193486084043808245470847292045660894444722869501461321031671150654860895964568060663652205663465923530462049111014817660250456366072596924506008569549119637606140676907821621077540336698601285905390164172347316449362751115416499955748598841999124114614828774364555699217455071403875670\",\n",
      "                \"average\": \"77172800881004286979037472458674000193967745535120156165978735799021506003302728657969898016643605091866055449264717030581973921051281435382495396006331677374851467878644776623863847588968156260052477220623305894151053913285095029171426201341849675058539360285789159998021654705920319666626539896040809270215611031612236399624471153579234634056023634810718482977044839387912837679134689134409828546129326632559895013480735442296867313597767495192085775828949688251465302813791829709446589252781558870239422763307473530595245966821104537050188651605936809078392863529288908598187177931808222995933924008956971636844748\",\n",
      "                \"ssn\": \"3418693764030707527177524966091919219965435050636100715384372010854693906407481759530106289550230142820359548871517985710773268255917120190189378410049545673609900845073342739329207239003313651750627579289111242749582620762396496998207040663793057219011352610840598054479797452024449645698764861997731156776228232183511407346785781909233415937393693623972604979433536148442802990627774854900506253947754868237838826778840290425834358606168580680304537964479625773072458563549000491717866340591611406625065662116248034596630622642560077298113705987099729735185019856693854856598836973713559672674795452365597962406184\",\n",
      "                \"master_secret\": \"83387607000209019520743797372919335597929751004916754775931371981440000534781093631055885798711300473654237579207290425492628587000024263592389569980904995887917257687762538419520240152546856082891972506954624879311021303962969504733508293837405788014188358035648885589462373745802079225153831147990739572665071324370040928417076571161155365062209314247512467473346408800655125576193883280461970810326774545608914502602549783517693302445089355303702252328674284711757460968936092411920125069779752236811895493107777482958164561070102860966654124451152066110304305842183308625797422036950670419650596439936037915197259\",\n",
      "                \"status\": \"32091961087920911622493704491246633261527329759588294427104861466095275827845023900999946583480999470174000474603200375807049028688577186080012853375469952099304050369676933246757074736868354609021627880288854137675240038918940876436104328160703851493367396338209157045787329586730499437010065845424343012960282444669996783583032017939019201959519843772971286319025651235486784020168025018629694673290592645501679834111567375974195809104817437704791180135432280242279333165293156576134877188127266959224892402499542869002367262223784564518701665404775568287374954985465715413753972739987216454220577069802619358127678\",\n",
      "                \"degree\": \"75397046247412809990192527424147516444701528308694994002057405950651755577305064613647037253755886613306354105912584347318111992123338922048484733062744201563587620723176647318960847875431735688946481005847437023888358858203349276883361483633224709633696046991576001566830937840136430369858559773967166961333976598122035651499108474333506237562366706228799878149638390270114765232793842333967894034282660920604517339657711045050820828649162883328664979669337135562510620513477368499603456136374117269061093374313605604717937285182893287957273883364050629061576169332831938746581999307216201869490672411037243941771575\"\n",
      "            },\n",
      "            \"rctxt\": \"58243599753194697629019826784921895016001656098011897246537085058454485720488682545918854712872434151014233395097407082884926597274483810283058629154790237865412102909859552222237357935184467895816627241285808927445948461448487111667579486639866900003981849438531684883433735602581272141197354137308430378516011126650503136493994701126348122144146079334763023453914576613987348612134478297298828642025599028077469191197994042993540591807250557427045848362852623894043915983382997377467993315582933264669102281660170903196671186890390080492392262855904520163050398467884184739895204154939763811613713441340392099457756\",\n",
      "            \"z\": \"39267908796353840246362962014535197723828752891834428825113245425351096419051532616276675825859632010999388357624213244099849335361261747276436109875765055438223945823029863521875344414759089903408839988412978797755792894512340325221323936513100473945995216420620699345656393939615008409940149489839701854459706690645587901279239429575302031082039174944752479319542310782914533806014256333905212101932553961244809102782194743584549102224579454820224430025968122994256227151232826543496161133594032970462149517075464910186114034669339667057989698928288798599393372645406198208501407299517020626243143053002363085556478\"\n",
      "        }\n",
      "    }\n",
      "}\n"
     ]
    }
   ],
   "source": [
    "print(json.dumps(json.loads(alice['faber_transcript_cred_def']),indent=4))"
   ]
  },
  {
   "cell_type": "code",
   "execution_count": 179,
   "id": "21f86720-42d4-4e76-a2be-7108667619f5",
   "metadata": {},
   "outputs": [],
   "source": [
    "alice['transcript_cred_request'], alice['transcript_cred_request_metadata'] = \\\n",
    "        await anoncreds.prover_create_credential_req(alice['wallet'], \n",
    "                                                     alice['did'],\n",
    "                                                     alice['transcript_cred_offer'], \n",
    "                                                     alice['faber_transcript_cred_def'],\n",
    "                                                     alice['master_secret_id'])"
   ]
  },
  {
   "cell_type": "code",
   "execution_count": 181,
   "id": "9ee4b110-2e9d-4dad-b1e1-dbc988c025a3",
   "metadata": {},
   "outputs": [
    {
     "name": "stdout",
     "output_type": "stream",
     "text": [
      "{\n",
      "    \"prover_did\": \"DB1JuvPfk3yZHtZPjevqUf\",\n",
      "    \"cred_def_id\": \"JqXcGcG5EaY8eptJZp9P8v:3:CL:107:TAG1\",\n",
      "    \"blinded_ms\": {\n",
      "        \"u\": \"39871279153462933065184149027293122195553468227971859894167311169900149669829863798742870387079203438052075282738022993033101342332737947057895279013889637637502964303175195577391777902125361048639096108657127897077439335908813587548322599196384654820593104982560524510223973273921428463106071827381214007858686354596015351773238275790110443664578305240694763153986158390738571635773927552597528562929754668949545957439606148977509497785015810103190512337262400963795839205858842576598321229969723268303842197042706947305173779515824364652389686401205795529711924743775880605543145938745553313608128205331114525007633\",\n",
      "        \"ur\": null,\n",
      "        \"hidden_attributes\": [\n",
      "            \"master_secret\"\n",
      "        ],\n",
      "        \"committed_attributes\": {}\n",
      "    },\n",
      "    \"blinded_ms_correctness_proof\": {\n",
      "        \"c\": \"68828861372178450913983135948906395900249960798653802704662032785719534358357\",\n",
      "        \"v_dash_cap\": \"65689627209340716211795952881981895563556453053381826252097225714903602035021068947499701446295486544353410450955439746396232880231056216909674371004189446989471522351316253753532994129836919593449493942615160730100687165824911531725133264241877100913387190754728242157494436593736728170759652271419268876880841316820858380044856608647191901817179097234240445262064631652082341552605211981411903536451531156015218052783476406578879433246084687994938030415488255890958088088106087283572301413610249888669692400472508380028672618636971888272685848169004116162673160234983563760839019207279135360044992936998759904319876056105516654451733947907503339944320659055055649499237353678121210959484931106402995621612488912366\",\n",
      "        \"m_caps\": {\n",
      "            \"master_secret\": \"9489541539328611728761027016887339289689252769168636309937496530023346568790438840776577956036168793555753691766471581466345286908915254796118758804380929636543543236597729564220\"\n",
      "        },\n",
      "        \"r_caps\": {}\n",
      "    },\n",
      "    \"nonce\": \"205713763228811592710584\"\n",
      "}\n"
     ]
    }
   ],
   "source": [
    "print(json.dumps(json.loads(alice['transcript_cred_request']),indent=4))"
   ]
  },
  {
   "cell_type": "code",
   "execution_count": 182,
   "id": "9522b404-b52b-43b1-b7be-c7ba360b59ab",
   "metadata": {},
   "outputs": [
    {
     "name": "stdout",
     "output_type": "stream",
     "text": [
      "{\n",
      "    \"master_secret_blinding_data\": {\n",
      "        \"v_prime\": \"954390729408366251679273793510212652041129276763645164518020848559910220236830192575867549918477627425025402744647200279896244510936693505840145925829762423486315817232106489227689874444588841565431209562841494204196000510186727264727990790742724053711194093041914703993603609898737142343519492574820307251760320324918148102519425393013334563731102230559928508632209244242678634887102541249906470334412548686704704409839008155468234072635571824561728008886019728007577901534372494956881161306033627795338894509288374793195342745580058470010998980287198900100670514651472807991077663645216115334221355667968413773762557330994852377301081495\",\n",
      "        \"vr_prime\": null\n",
      "    },\n",
      "    \"nonce\": \"205713763228811592710584\",\n",
      "    \"master_secret_name\": \"c7fde6bc-280c-4aff-9284-a633075f47f0\"\n",
      "}\n"
     ]
    }
   ],
   "source": [
    "print(json.dumps(json.loads(alice['transcript_cred_request_metadata']),indent=4))"
   ]
  },
  {
   "cell_type": "code",
   "execution_count": 183,
   "id": "0b3813bb-98bf-42e0-a448-0793a67cb9df",
   "metadata": {},
   "outputs": [],
   "source": [
    "faber['transcript_cred_request'] = alice['transcript_cred_request']"
   ]
  },
  {
   "cell_type": "markdown",
   "id": "7620cae0-df1c-427f-a6d2-592cfa30ebf5",
   "metadata": {
    "tags": []
   },
   "source": [
    "## - 요청받은 Faber 대학이 Cred 생성 후 Alice에게 전송"
   ]
  },
  {
   "cell_type": "code",
   "execution_count": 184,
   "id": "bef70810-d25e-482a-b9a0-f6263aac409c",
   "metadata": {},
   "outputs": [],
   "source": [
    "faber['alice_transcript_cred_values'] = json.dumps({\n",
    "    \"first_name\": {\"raw\": \"Alice\", \"encoded\": \"1139481716457488690172217916278103335\"},\n",
    "    \"last_name\": {\"raw\": \"Garcia\", \"encoded\": \"5321642780241790123587902456789123452\"},\n",
    "    \"degree\": {\"raw\": \"Bachelor of Science, Marketing\", \"encoded\": \"12434523576212321\"},\n",
    "    \"status\": {\"raw\": \"graduated\", \"encoded\": \"2213454313412354\"},\n",
    "    \"ssn\": {\"raw\": \"123-45-6789\", \"encoded\": \"3124141231422543541\"},\n",
    "    \"year\": {\"raw\": \"2015\", \"encoded\": \"2015\"},\n",
    "    \"average\": {\"raw\": \"5\", \"encoded\": \"5\"}\n",
    "})"
   ]
  },
  {
   "cell_type": "code",
   "execution_count": 185,
   "id": "526635ed-f545-4bec-b1b9-643db90da2b7",
   "metadata": {},
   "outputs": [
    {
     "name": "stdout",
     "output_type": "stream",
     "text": [
      "{\n",
      "    \"first_name\": {\n",
      "        \"raw\": \"Alice\",\n",
      "        \"encoded\": \"1139481716457488690172217916278103335\"\n",
      "    },\n",
      "    \"last_name\": {\n",
      "        \"raw\": \"Garcia\",\n",
      "        \"encoded\": \"5321642780241790123587902456789123452\"\n",
      "    },\n",
      "    \"degree\": {\n",
      "        \"raw\": \"Bachelor of Science, Marketing\",\n",
      "        \"encoded\": \"12434523576212321\"\n",
      "    },\n",
      "    \"status\": {\n",
      "        \"raw\": \"graduated\",\n",
      "        \"encoded\": \"2213454313412354\"\n",
      "    },\n",
      "    \"ssn\": {\n",
      "        \"raw\": \"123-45-6789\",\n",
      "        \"encoded\": \"3124141231422543541\"\n",
      "    },\n",
      "    \"year\": {\n",
      "        \"raw\": \"2015\",\n",
      "        \"encoded\": \"2015\"\n",
      "    },\n",
      "    \"average\": {\n",
      "        \"raw\": \"5\",\n",
      "        \"encoded\": \"5\"\n",
      "    }\n",
      "}\n"
     ]
    }
   ],
   "source": [
    "print(json.dumps(json.loads(faber['alice_transcript_cred_values']),indent=4))"
   ]
  },
  {
   "cell_type": "code",
   "execution_count": 186,
   "id": "d20091c2-3c7c-40d2-9f16-546b3d635363",
   "metadata": {},
   "outputs": [],
   "source": [
    "faber['transcript_cred'], _, _ = await anoncreds.issuer_create_credential(\n",
    "                                                 faber['wallet'], \n",
    "                                                 faber['transcript_cred_offer'],\n",
    "                                                 faber['transcript_cred_request'],\n",
    "                                                 faber['alice_transcript_cred_values'], None, None)\n"
   ]
  },
  {
   "cell_type": "code",
   "execution_count": 187,
   "id": "18ad2016-8bf9-4f0a-bacc-aecb6f974ac4",
   "metadata": {},
   "outputs": [
    {
     "name": "stdout",
     "output_type": "stream",
     "text": [
      "{\n",
      "    \"schema_id\": \"HwnVC4oxuamPhWWerqRiao:2:Transcript:1.2\",\n",
      "    \"cred_def_id\": \"JqXcGcG5EaY8eptJZp9P8v:3:CL:107:TAG1\",\n",
      "    \"rev_reg_id\": null,\n",
      "    \"values\": {\n",
      "        \"last_name\": {\n",
      "            \"raw\": \"Garcia\",\n",
      "            \"encoded\": \"5321642780241790123587902456789123452\"\n",
      "        },\n",
      "        \"ssn\": {\n",
      "            \"raw\": \"123-45-6789\",\n",
      "            \"encoded\": \"3124141231422543541\"\n",
      "        },\n",
      "        \"year\": {\n",
      "            \"raw\": \"2015\",\n",
      "            \"encoded\": \"2015\"\n",
      "        },\n",
      "        \"degree\": {\n",
      "            \"raw\": \"Bachelor of Science, Marketing\",\n",
      "            \"encoded\": \"12434523576212321\"\n",
      "        },\n",
      "        \"first_name\": {\n",
      "            \"raw\": \"Alice\",\n",
      "            \"encoded\": \"1139481716457488690172217916278103335\"\n",
      "        },\n",
      "        \"average\": {\n",
      "            \"raw\": \"5\",\n",
      "            \"encoded\": \"5\"\n",
      "        },\n",
      "        \"status\": {\n",
      "            \"raw\": \"graduated\",\n",
      "            \"encoded\": \"2213454313412354\"\n",
      "        }\n",
      "    },\n",
      "    \"signature\": {\n",
      "        \"p_credential\": {\n",
      "            \"m_2\": \"91550253655345771908495505963261399525152805879392207771861833586799412188223\",\n",
      "            \"a\": \"65482295775587838730610292994141365426298663046861499735763431210368631861491193981954992336452210485947468086061082673347724524137930324441589955206121895700008439665585208994056429158524485872553255051743663061678342260995235861944877153020574364771283583401836064993065704004428647725581274785188271023906705706375995028546521550888765872772988687118790189253293504368198024744513230088387719887429344088403943488938488775328185711568935038850044546066791143172806089521454842106291486883589545409468277896112427803173336449847664706855702434059208095544379972089248847494068961696754365125173573735537334511250257\",\n",
      "            \"e\": \"259344723055062059907025491480697571938277889515152306249728583105665800713306759149981690559193987143012367913206299323899696942213235956742930235720638801045424595283508107038761\",\n",
      "            \"v\": \"8342973920148104695755559620436101087583641438220228600768812795506880337208529245356515626486865721973944584642847583232924407431428696346136400054745902681250177668401950798436824970677147454993607747719039709562299810516280093144785908307130660371600468503935692845292318932034924393188854104028153812108583544218776416275706950135706054115782794818176665898030162017618331472536687443904382816409595857632423909093545858848211725588264969037969903269443941360282850829453997894203992834839143219406556632032638922214634228083327424148236324372089851968188555827769393622097641906464606624088968693745658990434615773151832438800758704791153218347613790125563684739846560667866296101617928226652277309692787784965369063322212577251147254002930331576900849853170862803756489320522935471834075160727171161068141161212574\"\n",
      "        },\n",
      "        \"r_credential\": null\n",
      "    },\n",
      "    \"signature_correctness_proof\": {\n",
      "        \"se\": \"18197580501728241870757335343880038297160048092853109515220622691332089397568538476330105528521245658995246874061617336952895907096751348679114488050475479061262935982502374209715968064804745071316357462018690418316960025334474206514682746265624712291730821786827331316285258126837979667988678567110005998032279959271209083309672431000716582231980605569061744195387293550012001659159940566327235397101537062864811399505873713165043782244449824697408010280295484348877905186126130582908587426288547555439045341939534052415905026507937771691179903196314644277422008070035150012568082903032058949632270846146821589453026\",\n",
      "        \"c\": \"392598917354396431998737195342074168905021589649551027888752980301129195678\"\n",
      "    },\n",
      "    \"rev_reg\": null,\n",
      "    \"witness\": null\n",
      "}\n"
     ]
    }
   ],
   "source": [
    "print(json.dumps(json.loads(faber['transcript_cred']),indent=4))"
   ]
  },
  {
   "cell_type": "code",
   "execution_count": 188,
   "id": "426d35a4-a4da-4905-bdbf-f9aaf5dc3885",
   "metadata": {},
   "outputs": [],
   "source": [
    "alice['transcript_cred'] = faber['transcript_cred']"
   ]
  },
  {
   "cell_type": "markdown",
   "id": "01a9703f-5aaa-4fe6-8ec1-3fecafe9d38c",
   "metadata": {},
   "source": [
    "### * Alice가 Faber로부터 받은 VC 저장"
   ]
  },
  {
   "cell_type": "code",
   "execution_count": 189,
   "id": "cdf38025-fb3f-4475-9a53-f6d0a55c287c",
   "metadata": {},
   "outputs": [],
   "source": [
    "get_cred_def_request = await ledger.build_get_cred_def_request(alice['did'], alice['transcript_cred_def_id'])"
   ]
  },
  {
   "cell_type": "code",
   "execution_count": 190,
   "id": "8019579e-66a6-40a5-bf48-f1c908bc6da6",
   "metadata": {},
   "outputs": [
    {
     "name": "stdout",
     "output_type": "stream",
     "text": [
      "{\n",
      "    \"reqId\": 1627592578323379132,\n",
      "    \"identifier\": \"DB1JuvPfk3yZHtZPjevqUf\",\n",
      "    \"operation\": {\n",
      "        \"type\": \"108\",\n",
      "        \"ref\": 107,\n",
      "        \"signature_type\": \"CL\",\n",
      "        \"origin\": \"JqXcGcG5EaY8eptJZp9P8v\",\n",
      "        \"tag\": \"TAG1\"\n",
      "    },\n",
      "    \"protocolVersion\": 2\n",
      "}\n"
     ]
    }
   ],
   "source": [
    "print(json.dumps(json.loads(get_cred_def_request),indent=4))"
   ]
  },
  {
   "cell_type": "code",
   "execution_count": 191,
   "id": "3b15c744-bbc3-4688-b871-d5fdf9298a1a",
   "metadata": {},
   "outputs": [],
   "source": [
    "get_cred_def_response = await ensure_previous_request_applied(alice['pool'], get_cred_def_request,lambda response: response['result']['data'] is not None)"
   ]
  },
  {
   "cell_type": "code",
   "execution_count": 192,
   "id": "1e29596a-3268-41bf-8ded-7b124986dd7e",
   "metadata": {},
   "outputs": [
    {
     "name": "stdout",
     "output_type": "stream",
     "text": [
      "{\n",
      "    \"result\": {\n",
      "        \"type\": \"108\",\n",
      "        \"txnTime\": 1627590181,\n",
      "        \"state_proof\": {\n",
      "            \"multi_signature\": {\n",
      "                \"participants\": [\n",
      "                    \"Node1\",\n",
      "                    \"Node3\",\n",
      "                    \"Node4\"\n",
      "                ],\n",
      "                \"signature\": \"RK6dHHoWK6aFPADAudNYPTtyb5W161YpyAiWb8zxPErhbbg9ipAtYUnkfDLrjLvME5KcVou2sVx4SfQkLx9hYUKyniLQuajkzoFJC4hdhxgc71RbRgFZdn7tmRZkq98a9Z3hdakAjhk2xhxaUT13k8nBBecwSYwTm73HvmUeduHmfu\",\n",
      "                \"value\": {\n",
      "                    \"pool_state_root_hash\": \"NCGqbfRWDWtLB2bDuL6TC5BhrRdQMc5MyKdXQqXii44\",\n",
      "                    \"state_root_hash\": \"5KvARrqJr5tpcsqzmH1WNUF1WQCougNSoZhRnc5RhtfW\",\n",
      "                    \"ledger_id\": 1,\n",
      "                    \"txn_root_hash\": \"8kwwqngSpKj5qj4Rsz7NspTN4fbqbvFvcxLwRZbgtsaY\",\n",
      "                    \"timestamp\": 1627592496\n",
      "                }\n",
      "            },\n",
      "            \"proof_nodes\": \"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\",\n",
      "            \"root_hash\": \"5KvARrqJr5tpcsqzmH1WNUF1WQCougNSoZhRnc5RhtfW\"\n",
      "        },\n",
      "        \"data\": {\n",
      "            \"primary\": {\n",
      "                \"s\": \"23465086836773112252254583956325410131125485193421721048500363637877399902323168308446773740886484710844998373340272477597354574518711848988247649098254751250413558466223729573441765423166638628783775206935417806518077652053970021980268260877887185217274828177594461745304368801124064470600743653197589333863627698996356935766088189330888885854004434683868598568897896626111239681668335793306708786807268940854292417236233621089173100044314781362394346242924453256167722157596193050601893089404273295279620152593769210395184546462244035765465926627921377170744708115052355573046285158102338011020163202856279076196428\",\n",
      "                \"r\": {\n",
      "                    \"master_secret\": \"83387607000209019520743797372919335597929751004916754775931371981440000534781093631055885798711300473654237579207290425492628587000024263592389569980904995887917257687762538419520240152546856082891972506954624879311021303962969504733508293837405788014188358035648885589462373745802079225153831147990739572665071324370040928417076571161155365062209314247512467473346408800655125576193883280461970810326774545608914502602549783517693302445089355303702252328674284711757460968936092411920125069779752236811895493107777482958164561070102860966654124451152066110304305842183308625797422036950670419650596439936037915197259\",\n",
      "                    \"status\": \"32091961087920911622493704491246633261527329759588294427104861466095275827845023900999946583480999470174000474603200375807049028688577186080012853375469952099304050369676933246757074736868354609021627880288854137675240038918940876436104328160703851493367396338209157045787329586730499437010065845424343012960282444669996783583032017939019201959519843772971286319025651235486784020168025018629694673290592645501679834111567375974195809104817437704791180135432280242279333165293156576134877188127266959224892402499542869002367262223784564518701665404775568287374954985465715413753972739987216454220577069802619358127678\",\n",
      "                    \"first_name\": \"44696547834754539926432481361078059805919983653539038795733543764068475482611042564353285839742147246731709978004120065755521300626405694121543664872158129670576628464689036501733367899781009691162901609656122303874569664405311597379430961806403754071555987317361601635453803779303200326299666078375741508724406180810225861614899857193486084043808245470847292045660894444722869501461321031671150654860895964568060663652205663465923530462049111014817660250456366072596924506008569549119637606140676907821621077540336698601285905390164172347316449362751115416499955748598841999124114614828774364555699217455071403875670\",\n",
      "                    \"last_name\": \"36938762926042021748277626528315845201599795324958840591702264171501281148357833157003276812250843701995245711878135312314796000462019767852027530033249715050662420662410613639668198832957245045686229661224701212697178246685783786979660475053781223945560401446712544503146090200704285355898187304385627474350918066970666961385162676613647757664133175738284776592990308437223146221922446756237515340772307930941693941595691817360139285524446007748378493678875223938601552858078322212935414715815544689227757324229442474611263504124823331579605269628632807798392637830308514968563802706874970967536624713734139634564034\",\n",
      "                    \"degree\": \"75397046247412809990192527424147516444701528308694994002057405950651755577305064613647037253755886613306354105912584347318111992123338922048484733062744201563587620723176647318960847875431735688946481005847437023888358858203349276883361483633224709633696046991576001566830937840136430369858559773967166961333976598122035651499108474333506237562366706228799878149638390270114765232793842333967894034282660920604517339657711045050820828649162883328664979669337135562510620513477368499603456136374117269061093374313605604717937285182893287957273883364050629061576169332831938746581999307216201869490672411037243941771575\",\n",
      "                    \"year\": \"89434358627733117939084492275973316978875096647691848842761345021549126046500603474400889919449876904862502338839640801127925534548105448716255769345310421411824342757313736700069945455319112927386495012931662293804962061536094472835670984322445374181492118527338394049660879839375694715145795750896071551430520950985185618603232139816213750478279017034843336521779917079299159735523029194524806530164016117737710485070253494327135940149443643002383578575738169062334090827557449376142839289900415135149400176844653588459833339356337581760930415196141555414757980554406422157771467536710083607714492988164777664853193\",\n",
      "                    \"average\": \"77172800881004286979037472458674000193967745535120156165978735799021506003302728657969898016643605091866055449264717030581973921051281435382495396006331677374851467878644776623863847588968156260052477220623305894151053913285095029171426201341849675058539360285789159998021654705920319666626539896040809270215611031612236399624471153579234634056023634810718482977044839387912837679134689134409828546129326632559895013480735442296867313597767495192085775828949688251465302813791829709446589252781558870239422763307473530595245966821104537050188651605936809078392863529288908598187177931808222995933924008956971636844748\",\n",
      "                    \"ssn\": \"3418693764030707527177524966091919219965435050636100715384372010854693906407481759530106289550230142820359548871517985710773268255917120190189378410049545673609900845073342739329207239003313651750627579289111242749582620762396496998207040663793057219011352610840598054479797452024449645698764861997731156776228232183511407346785781909233415937393693623972604979433536148442802990627774854900506253947754868237838826778840290425834358606168580680304537964479625773072458563549000491717866340591611406625065662116248034596630622642560077298113705987099729735185019856693854856598836973713559672674795452365597962406184\"\n",
      "                },\n",
      "                \"n\": \"96287763553148236988571291329593129513757229688022520880907213334581041596518630103433620570017198069366362459071711952389287050922135313918897663118087233759794822779596474295316111940192040131139213212090982601033506593690904864669284743288594949145771068338330086943416624768266458919718760611448842433475307131158638735032917009309655554309353346986799259994534980744862582185895070755160807641585418502272059804297254683071910931577370918203127375353064591020469237244544898417342337789572792088432210953554085623605516572644223334619039524509033900405773490274738719412035030382176587717395654578391719966755369\",\n",
      "                \"z\": \"39267908796353840246362962014535197723828752891834428825113245425351096419051532616276675825859632010999388357624213244099849335361261747276436109875765055438223945823029863521875344414759089903408839988412978797755792894512340325221323936513100473945995216420620699345656393939615008409940149489839701854459706690645587901279239429575302031082039174944752479319542310782914533806014256333905212101932553961244809102782194743584549102224579454820224430025968122994256227151232826543496161133594032970462149517075464910186114034669339667057989698928288798599393372645406198208501407299517020626243143053002363085556478\",\n",
      "                \"rctxt\": \"58243599753194697629019826784921895016001656098011897246537085058454485720488682545918854712872434151014233395097407082884926597274483810283058629154790237865412102909859552222237357935184467895816627241285808927445948461448487111667579486639866900003981849438531684883433735602581272141197354137308430378516011126650503136493994701126348122144146079334763023453914576613987348612134478297298828642025599028077469191197994042993540591807250557427045848362852623894043915983382997377467993315582933264669102281660170903196671186890390080492392262855904520163050398467884184739895204154939763811613713441340392099457756\"\n",
      "            }\n",
      "        },\n",
      "        \"identifier\": \"DB1JuvPfk3yZHtZPjevqUf\",\n",
      "        \"reqId\": 1627592578323379132,\n",
      "        \"tag\": \"TAG1\",\n",
      "        \"origin\": \"JqXcGcG5EaY8eptJZp9P8v\",\n",
      "        \"signature_type\": \"CL\",\n",
      "        \"seqNo\": 108,\n",
      "        \"ref\": 107\n",
      "    },\n",
      "    \"op\": \"REPLY\"\n",
      "}\n"
     ]
    }
   ],
   "source": [
    "print(json.dumps(json.loads(get_cred_def_response),indent=4))"
   ]
  },
  {
   "cell_type": "code",
   "execution_count": 193,
   "id": "ec79486a-6993-46e7-80d8-2b0bc057b339",
   "metadata": {},
   "outputs": [],
   "source": [
    "_, alice['transcript_cred_def'] = await ledger.parse_get_cred_def_response(get_cred_def_response)"
   ]
  },
  {
   "cell_type": "code",
   "execution_count": 194,
   "id": "0406a597-27cf-41cc-822f-85142f8d52e4",
   "metadata": {},
   "outputs": [
    {
     "name": "stdout",
     "output_type": "stream",
     "text": [
      "{\n",
      "    \"ver\": \"1.0\",\n",
      "    \"id\": \"JqXcGcG5EaY8eptJZp9P8v:3:CL:107:TAG1\",\n",
      "    \"schemaId\": \"107\",\n",
      "    \"type\": \"CL\",\n",
      "    \"tag\": \"TAG1\",\n",
      "    \"value\": {\n",
      "        \"primary\": {\n",
      "            \"n\": \"96287763553148236988571291329593129513757229688022520880907213334581041596518630103433620570017198069366362459071711952389287050922135313918897663118087233759794822779596474295316111940192040131139213212090982601033506593690904864669284743288594949145771068338330086943416624768266458919718760611448842433475307131158638735032917009309655554309353346986799259994534980744862582185895070755160807641585418502272059804297254683071910931577370918203127375353064591020469237244544898417342337789572792088432210953554085623605516572644223334619039524509033900405773490274738719412035030382176587717395654578391719966755369\",\n",
      "            \"s\": \"23465086836773112252254583956325410131125485193421721048500363637877399902323168308446773740886484710844998373340272477597354574518711848988247649098254751250413558466223729573441765423166638628783775206935417806518077652053970021980268260877887185217274828177594461745304368801124064470600743653197589333863627698996356935766088189330888885854004434683868598568897896626111239681668335793306708786807268940854292417236233621089173100044314781362394346242924453256167722157596193050601893089404273295279620152593769210395184546462244035765465926627921377170744708115052355573046285158102338011020163202856279076196428\",\n",
      "            \"r\": {\n",
      "                \"last_name\": \"36938762926042021748277626528315845201599795324958840591702264171501281148357833157003276812250843701995245711878135312314796000462019767852027530033249715050662420662410613639668198832957245045686229661224701212697178246685783786979660475053781223945560401446712544503146090200704285355898187304385627474350918066970666961385162676613647757664133175738284776592990308437223146221922446756237515340772307930941693941595691817360139285524446007748378493678875223938601552858078322212935414715815544689227757324229442474611263504124823331579605269628632807798392637830308514968563802706874970967536624713734139634564034\",\n",
      "                \"year\": \"89434358627733117939084492275973316978875096647691848842761345021549126046500603474400889919449876904862502338839640801127925534548105448716255769345310421411824342757313736700069945455319112927386495012931662293804962061536094472835670984322445374181492118527338394049660879839375694715145795750896071551430520950985185618603232139816213750478279017034843336521779917079299159735523029194524806530164016117737710485070253494327135940149443643002383578575738169062334090827557449376142839289900415135149400176844653588459833339356337581760930415196141555414757980554406422157771467536710083607714492988164777664853193\",\n",
      "                \"status\": \"32091961087920911622493704491246633261527329759588294427104861466095275827845023900999946583480999470174000474603200375807049028688577186080012853375469952099304050369676933246757074736868354609021627880288854137675240038918940876436104328160703851493367396338209157045787329586730499437010065845424343012960282444669996783583032017939019201959519843772971286319025651235486784020168025018629694673290592645501679834111567375974195809104817437704791180135432280242279333165293156576134877188127266959224892402499542869002367262223784564518701665404775568287374954985465715413753972739987216454220577069802619358127678\",\n",
      "                \"average\": \"77172800881004286979037472458674000193967745535120156165978735799021506003302728657969898016643605091866055449264717030581973921051281435382495396006331677374851467878644776623863847588968156260052477220623305894151053913285095029171426201341849675058539360285789159998021654705920319666626539896040809270215611031612236399624471153579234634056023634810718482977044839387912837679134689134409828546129326632559895013480735442296867313597767495192085775828949688251465302813791829709446589252781558870239422763307473530595245966821104537050188651605936809078392863529288908598187177931808222995933924008956971636844748\",\n",
      "                \"first_name\": \"44696547834754539926432481361078059805919983653539038795733543764068475482611042564353285839742147246731709978004120065755521300626405694121543664872158129670576628464689036501733367899781009691162901609656122303874569664405311597379430961806403754071555987317361601635453803779303200326299666078375741508724406180810225861614899857193486084043808245470847292045660894444722869501461321031671150654860895964568060663652205663465923530462049111014817660250456366072596924506008569549119637606140676907821621077540336698601285905390164172347316449362751115416499955748598841999124114614828774364555699217455071403875670\",\n",
      "                \"degree\": \"75397046247412809990192527424147516444701528308694994002057405950651755577305064613647037253755886613306354105912584347318111992123338922048484733062744201563587620723176647318960847875431735688946481005847437023888358858203349276883361483633224709633696046991576001566830937840136430369858559773967166961333976598122035651499108474333506237562366706228799878149638390270114765232793842333967894034282660920604517339657711045050820828649162883328664979669337135562510620513477368499603456136374117269061093374313605604717937285182893287957273883364050629061576169332831938746581999307216201869490672411037243941771575\",\n",
      "                \"ssn\": \"3418693764030707527177524966091919219965435050636100715384372010854693906407481759530106289550230142820359548871517985710773268255917120190189378410049545673609900845073342739329207239003313651750627579289111242749582620762396496998207040663793057219011352610840598054479797452024449645698764861997731156776228232183511407346785781909233415937393693623972604979433536148442802990627774854900506253947754868237838826778840290425834358606168580680304537964479625773072458563549000491717866340591611406625065662116248034596630622642560077298113705987099729735185019856693854856598836973713559672674795452365597962406184\",\n",
      "                \"master_secret\": \"83387607000209019520743797372919335597929751004916754775931371981440000534781093631055885798711300473654237579207290425492628587000024263592389569980904995887917257687762538419520240152546856082891972506954624879311021303962969504733508293837405788014188358035648885589462373745802079225153831147990739572665071324370040928417076571161155365062209314247512467473346408800655125576193883280461970810326774545608914502602549783517693302445089355303702252328674284711757460968936092411920125069779752236811895493107777482958164561070102860966654124451152066110304305842183308625797422036950670419650596439936037915197259\"\n",
      "            },\n",
      "            \"rctxt\": \"58243599753194697629019826784921895016001656098011897246537085058454485720488682545918854712872434151014233395097407082884926597274483810283058629154790237865412102909859552222237357935184467895816627241285808927445948461448487111667579486639866900003981849438531684883433735602581272141197354137308430378516011126650503136493994701126348122144146079334763023453914576613987348612134478297298828642025599028077469191197994042993540591807250557427045848362852623894043915983382997377467993315582933264669102281660170903196671186890390080492392262855904520163050398467884184739895204154939763811613713441340392099457756\",\n",
      "            \"z\": \"39267908796353840246362962014535197723828752891834428825113245425351096419051532616276675825859632010999388357624213244099849335361261747276436109875765055438223945823029863521875344414759089903408839988412978797755792894512340325221323936513100473945995216420620699345656393939615008409940149489839701854459706690645587901279239429575302031082039174944752479319542310782914533806014256333905212101932553961244809102782194743584549102224579454820224430025968122994256227151232826543496161133594032970462149517075464910186114034669339667057989698928288798599393372645406198208501407299517020626243143053002363085556478\"\n",
      "        }\n",
      "    }\n",
      "}\n"
     ]
    }
   ],
   "source": [
    "print(json.dumps(json.loads(alice['transcript_cred_def']),indent=4))"
   ]
  },
  {
   "cell_type": "code",
   "execution_count": 195,
   "id": "92525529-51ff-4814-a102-e27e10fe6f6c",
   "metadata": {},
   "outputs": [],
   "source": [
    "result = await anoncreds.prover_store_credential(alice['wallet'], \n",
    "                                        None, \n",
    "                                        alice['transcript_cred_request_metadata'],\n",
    "                                        alice['transcript_cred'], \n",
    "                                        alice['transcript_cred_def'], \n",
    "                                        None)"
   ]
  },
  {
   "cell_type": "code",
   "execution_count": 197,
   "id": "6afdda0e-ad5f-4d3f-b6d0-31ee90e710c4",
   "metadata": {},
   "outputs": [
    {
     "data": {
      "text/plain": [
       "'de3e6a91-0923-483f-a19d-51cd04df704c'"
      ]
     },
     "execution_count": 197,
     "metadata": {},
     "output_type": "execute_result"
    }
   ],
   "source": [
    "result"
   ]
  },
  {
   "cell_type": "markdown",
   "id": "1acd0032-15cc-46b9-8a24-bce8180d92de",
   "metadata": {
    "tags": []
   },
   "source": [
    "## - Acme 회사로 증명서 제출"
   ]
  },
  {
   "cell_type": "code",
   "execution_count": null,
   "id": "cda72df3-80ee-4ae9-acfa-23a58ce19e91",
   "metadata": {},
   "outputs": [],
   "source": [
    "logger.info(\"==============================\")\n",
    "logger.info(\"== Apply for the job with Acme - Transcript proving ==\")\n",
    "logger.info(\"------------------------------\")\n",
    "\n",
    "logger.info(\"\\\"Acme\\\" -> Create \\\"Job-Application\\\" Proof Request\")\n",
    "nonce = await anoncreds.generate_nonce()\n",
    "acme['job_application_proof_request'] = json.dumps({\n",
    "    'nonce': nonce,\n",
    "    'name': 'Job-Application',\n",
    "    'version': '0.1',\n",
    "    'requested_attributes': {\n",
    "        'attr1_referent': {\n",
    "            'name': 'first_name'\n",
    "        },\n",
    "        'attr2_referent': {\n",
    "            'name': 'last_name'\n",
    "        },\n",
    "        'attr3_referent': {\n",
    "            'name': 'degree',\n",
    "            'restrictions': [{'cred_def_id': faber['transcript_cred_def_id']}]\n",
    "        },\n",
    "        'attr4_referent': {\n",
    "            'name': 'status',\n",
    "            'restrictions': [{'cred_def_id': faber['transcript_cred_def_id']}]\n",
    "        },\n",
    "        'attr5_referent': {\n",
    "            'name': 'ssn',\n",
    "            'restrictions': [{'cred_def_id': faber['transcript_cred_def_id']}]\n",
    "        },\n",
    "        'attr6_referent': {\n",
    "            'name': 'phone_number'\n",
    "        }\n",
    "    },\n",
    "    'requested_predicates': {\n",
    "        'predicate1_referent': {\n",
    "            'name': 'average',\n",
    "            'p_type': '>=',\n",
    "            'p_value': 4,\n",
    "            'restrictions': [{'cred_def_id': faber['transcript_cred_def_id']}]\n",
    "        }\n",
    "    }\n",
    "})\n",
    "\n",
    "logger.info(\"\\\"Acme\\\" -> Send \\\"Job-Application\\\" Proof Request to Alice\")\n",
    "alice['job_application_proof_request'] = acme['job_application_proof_request']\n",
    "\n",
    "logger.info(\"\\\"Alice\\\" -> Get credentials for \\\"Job-Application\\\" Proof Request\")\n",
    "\n",
    "search_for_job_application_proof_request = \\\n",
    "    await anoncreds.prover_search_credentials_for_proof_req(alice['wallet'],\n",
    "                                                            alice['job_application_proof_request'], None)\n",
    "\n",
    "cred_for_attr1 = await get_credential_for_referent(search_for_job_application_proof_request, 'attr1_referent')\n",
    "cred_for_attr2 = await get_credential_for_referent(search_for_job_application_proof_request, 'attr2_referent')\n",
    "cred_for_attr3 = await get_credential_for_referent(search_for_job_application_proof_request, 'attr3_referent')\n",
    "cred_for_attr4 = await get_credential_for_referent(search_for_job_application_proof_request, 'attr4_referent')\n",
    "cred_for_attr5 = await get_credential_for_referent(search_for_job_application_proof_request, 'attr5_referent')\n",
    "cred_for_predicate1 = \\\n",
    "    await get_credential_for_referent(search_for_job_application_proof_request, 'predicate1_referent')\n",
    "\n",
    "await anoncreds.prover_close_credentials_search_for_proof_req(search_for_job_application_proof_request)\n",
    "\n",
    "alice['creds_for_job_application_proof'] = {cred_for_attr1['referent']: cred_for_attr1,\n",
    "                                            cred_for_attr2['referent']: cred_for_attr2,\n",
    "                                            cred_for_attr3['referent']: cred_for_attr3,\n",
    "                                            cred_for_attr4['referent']: cred_for_attr4,\n",
    "                                            cred_for_attr5['referent']: cred_for_attr5,\n",
    "                                            cred_for_predicate1['referent']: cred_for_predicate1}\n",
    "\n",
    "alice['schemas_for_job_application'], alice['cred_defs_for_job_application'], \\\n",
    "alice['revoc_states_for_job_application'] = \\\n",
    "    await prover_get_entities_from_ledger(alice['pool'], alice['did'],\n",
    "                                          alice['creds_for_job_application_proof'], alice['name'])\n",
    "\n",
    "logger.info(\"\\\"Alice\\\" -> Create \\\"Job-Application\\\" Proof\")\n",
    "alice['job_application_requested_creds'] = json.dumps({\n",
    "    'self_attested_attributes': {\n",
    "        'attr1_referent': 'Alice',\n",
    "        'attr2_referent': 'Garcia',\n",
    "        'attr6_referent': '123-45-6789'\n",
    "    },\n",
    "    'requested_attributes': {\n",
    "        'attr3_referent': {'cred_id': cred_for_attr3['referent'], 'revealed': True},\n",
    "        'attr4_referent': {'cred_id': cred_for_attr4['referent'], 'revealed': True},\n",
    "        'attr5_referent': {'cred_id': cred_for_attr5['referent'], 'revealed': True},\n",
    "    },\n",
    "    'requested_predicates': {'predicate1_referent': {'cred_id': cred_for_predicate1['referent']}}\n",
    "})\n",
    "\n",
    "alice['job_application_proof'] = \\\n",
    "    await anoncreds.prover_create_proof(alice['wallet'], alice['job_application_proof_request'],\n",
    "                                        alice['job_application_requested_creds'], alice['master_secret_id'],\n",
    "                                        alice['schemas_for_job_application'],\n",
    "                                        alice['cred_defs_for_job_application'],\n",
    "                                        alice['revoc_states_for_job_application'])\n",
    "\n",
    "logger.info(\"\\\"Alice\\\" -> Send \\\"Job-Application\\\" Proof to Acme\")\n",
    "acme['job_application_proof'] = alice['job_application_proof']\n",
    "\n",
    "job_application_proof_object = json.loads(acme['job_application_proof'])\n",
    "\n",
    "acme['schemas_for_job_application'], acme['cred_defs_for_job_application'], \\\n",
    "acme['revoc_ref_defs_for_job_application'], acme['revoc_regs_for_job_application'] = \\\n",
    "    await verifier_get_entities_from_ledger(acme['pool'], acme['did'],\n",
    "                                            job_application_proof_object['identifiers'], acme['name'])\n",
    "\n",
    "logger.info(\"\\\"Acme\\\" -> Verify \\\"Job-Application\\\" Proof from Alice\")\n",
    "assert 'Bachelor of Science, Marketing' == \\\n",
    "       job_application_proof_object['requested_proof']['revealed_attrs']['attr3_referent']['raw']\n",
    "assert 'graduated' == \\\n",
    "       job_application_proof_object['requested_proof']['revealed_attrs']['attr4_referent']['raw']\n",
    "assert '123-45-6789' == \\\n",
    "       job_application_proof_object['requested_proof']['revealed_attrs']['attr5_referent']['raw']\n",
    "\n",
    "assert 'Alice' == job_application_proof_object['requested_proof']['self_attested_attrs']['attr1_referent']\n",
    "assert 'Garcia' == job_application_proof_object['requested_proof']['self_attested_attrs']['attr2_referent']\n",
    "assert '123-45-6789' == job_application_proof_object['requested_proof']['self_attested_attrs']['attr6_referent']\n",
    "\n",
    "assert await anoncreds.verifier_verify_proof(acme['job_application_proof_request'], acme['job_application_proof'],\n",
    "                                             acme['schemas_for_job_application'],\n",
    "                                             acme['cred_defs_for_job_application'],\n",
    "                                             acme['revoc_ref_defs_for_job_application'],\n",
    "                                             acme['revoc_regs_for_job_application'])"
   ]
  },
  {
   "cell_type": "code",
   "execution_count": null,
   "id": "f33d0bfe-72cf-4d4b-9cd9-a0c6bc6e0ea9",
   "metadata": {},
   "outputs": [],
   "source": [
    "logger.info(\"==============================\")\n",
    "logger.info(\"== Apply for the job with Acme - Getting Job-Certificate Credential ==\")\n",
    "logger.info(\"------------------------------\")\n",
    "\n",
    "logger.info(\"\\\"Acme\\\" -> Create \\\"Job-Certificate\\\" Credential Offer for Alice\")\n",
    "acme['job_certificate_cred_offer'] = \\\n",
    "    await anoncreds.issuer_create_credential_offer(acme['wallet'], acme['job_certificate_cred_def_id'])\n",
    "\n",
    "logger.info(\"\\\"Acme\\\" -> Send \\\"Job-Certificate\\\" Credential Offer to Alice\")\n",
    "alice['job_certificate_cred_offer'] = acme['job_certificate_cred_offer']\n",
    "\n",
    "job_certificate_cred_offer_object = json.loads(alice['job_certificate_cred_offer'])\n",
    "\n",
    "logger.info(\"\\\"Alice\\\" -> Get \\\"Acme Job-Certificate\\\" Credential Definition from Ledger\")\n",
    "(alice['acme_job_certificate_cred_def_id'], alice['acme_job_certificate_cred_def']) = \\\n",
    "    await get_cred_def(alice['pool'], alice['did'], job_certificate_cred_offer_object['cred_def_id'])\n",
    "\n",
    "logger.info(\"\\\"Alice\\\" -> Create and store in Wallet \\\"Job-Certificate\\\" Credential Request for Acme\")\n",
    "(alice['job_certificate_cred_request'], alice['job_certificate_cred_request_metadata']) = \\\n",
    "    await anoncreds.prover_create_credential_req(alice['wallet'], alice['did'],\n",
    "                                                 alice['job_certificate_cred_offer'],\n",
    "                                                 alice['acme_job_certificate_cred_def'], alice['master_secret_id'])\n",
    "\n",
    "logger.info(\"\\\"Alice\\\" -> Send \\\"Job-Certificate\\\" Credential Request to Acme\")\n",
    "alice['job_certificate_cred_values'] = json.dumps({\n",
    "    \"first_name\": {\"raw\": \"Alice\", \"encoded\": \"245712572474217942457235975012103335\"},\n",
    "    \"last_name\": {\"raw\": \"Garcia\", \"encoded\": \"312643218496194691632153761283356127\"},\n",
    "    \"employee_status\": {\"raw\": \"Permanent\", \"encoded\": \"2143135425425143112321314321\"},\n",
    "    \"salary\": {\"raw\": \"2400\", \"encoded\": \"2400\"},\n",
    "    \"experience\": {\"raw\": \"10\", \"encoded\": \"10\"}\n",
    "})\n",
    "acme['job_certificate_cred_request'] = alice['job_certificate_cred_request']\n",
    "acme['job_certificate_cred_values'] = alice['job_certificate_cred_values']\n",
    "\n",
    "logger.info(\"\\\"Acme\\\" -> Create \\\"Job-Certificate\\\" Credential for Alice\")\n",
    "acme['blob_storage_reader_cfg_handle'] = await blob_storage.open_reader('default', acme['tails_writer_config'])\n",
    "acme['job_certificate_cred'], acme['job_certificate_cred_rev_id'], acme['alice_cert_rev_reg_delta'] = \\\n",
    "    await anoncreds.issuer_create_credential(acme['wallet'], acme['job_certificate_cred_offer'],\n",
    "                                             acme['job_certificate_cred_request'],\n",
    "                                             acme['job_certificate_cred_values'],\n",
    "                                             acme['revoc_reg_id'],\n",
    "                                             acme['blob_storage_reader_cfg_handle'])\n",
    "\n",
    "logger.info(\"\\\"Acme\\\" -> Post Revocation Registry Delta to Ledger\")\n",
    "acme['revoc_reg_entry_req'] = \\\n",
    "    await ledger.build_revoc_reg_entry_request(acme['did'], acme['revoc_reg_id'], 'CL_ACCUM',\n",
    "                                               acme['alice_cert_rev_reg_delta'])\n",
    "await ledger.sign_and_submit_request(acme['pool'], acme['wallet'], acme['did'], acme['revoc_reg_entry_req'])\n",
    "\n",
    "logger.info(\"\\\"Acme\\\" -> Send \\\"Job-Certificate\\\" Credential to Alice\")\n",
    "alice['job_certificate_cred'] = acme['job_certificate_cred']\n",
    "job_certificate_cred_object = json.loads(alice['job_certificate_cred'])\n",
    "\n",
    "logger.info(\"\\\"Alice\\\" -> Gets RevocationRegistryDefinition for \\\"Job-Certificate\\\" Credential from Acme\")\n",
    "alice['acme_revoc_reg_des_req'] = \\\n",
    "    await ledger.build_get_revoc_reg_def_request(alice['did'],\n",
    "                                                 job_certificate_cred_object['rev_reg_id'])\n",
    "alice['acme_revoc_reg_des_resp'] = \\\n",
    "    await ensure_previous_request_applied(alice['pool'], alice['acme_revoc_reg_des_req'],\n",
    "                                          lambda response: response['result']['data'] is not None)\n",
    "(alice['acme_revoc_reg_def_id'], alice['acme_revoc_reg_def_json']) = \\\n",
    "    await ledger.parse_get_revoc_reg_def_response(alice['acme_revoc_reg_des_resp'])\n",
    "\n",
    "logger.info(\"\\\"Alice\\\" -> Store \\\"Job-Certificate\\\" Credential\")\n",
    "await anoncreds.prover_store_credential(alice['wallet'], None, alice['job_certificate_cred_request_metadata'],\n",
    "                                        alice['job_certificate_cred'],\n",
    "                                        alice['acme_job_certificate_cred_def'], alice['acme_revoc_reg_def_json'])"
   ]
  },
  {
   "cell_type": "code",
   "execution_count": null,
   "id": "a4a16526-8774-4b0c-8fec-20ccba82a25d",
   "metadata": {},
   "outputs": [],
   "source": [
    "logger.info(\"==============================\")\n",
    "logger.info(\"=== Apply for the loan with Thrift ==\")\n",
    "logger.info(\"==============================\")\n",
    "\n",
    "\n",
    "async def apply_loan_basic():\n",
    "    # This method will be called twice: once with a valid Job-Certificate and\n",
    "    # the second time after the Job-Certificate has been revoked.\n",
    "    logger.info(\"==============================\")\n",
    "    logger.info(\"== Apply for the loan with Thrift - Job-Certificate proving  ==\")\n",
    "    logger.info(\"------------------------------\")\n",
    "\n",
    "    logger.info(\"\\\"Thrift\\\" -> Create \\\"Loan-Application-Basic\\\" Proof Request\")\n",
    "    nonce = await anoncreds.generate_nonce()\n",
    "    thrift['apply_loan_proof_request'] = json.dumps({\n",
    "        'nonce': nonce,\n",
    "        'name': 'Loan-Application-Basic',\n",
    "        'version': '0.1',\n",
    "        'requested_attributes': {\n",
    "            'attr1_referent': {\n",
    "                'name': 'employee_status',\n",
    "                'restrictions': [{'cred_def_id': acme['job_certificate_cred_def_id']}]\n",
    "            }\n",
    "        },\n",
    "        'requested_predicates': {\n",
    "            'predicate1_referent': {\n",
    "                'name': 'salary',\n",
    "                'p_type': '>=',\n",
    "                'p_value': 2000,\n",
    "                'restrictions': [{'cred_def_id': acme['job_certificate_cred_def_id']}]\n",
    "            },\n",
    "            'predicate2_referent': {\n",
    "                'name': 'experience',\n",
    "                'p_type': '>=',\n",
    "                'p_value': 1,\n",
    "                'restrictions': [{'cred_def_id': acme['job_certificate_cred_def_id']}]\n",
    "            }\n",
    "        },\n",
    "        'non_revoked': {'to': int(time.time())}\n",
    "    })\n",
    "\n",
    "    logger.info(\"\\\"Thrift\\\" -> Send \\\"Loan-Application-Basic\\\" Proof Request to Alice\")\n",
    "    alice['apply_loan_proof_request'] = thrift['apply_loan_proof_request']\n",
    "\n",
    "    logger.info(\"\\\"Alice\\\" -> Get credentials for \\\"Loan-Application-Basic\\\" Proof Request\")\n",
    "\n",
    "    search_for_apply_loan_proof_request = \\\n",
    "        await anoncreds.prover_search_credentials_for_proof_req(alice['wallet'],\n",
    "                                                                alice['apply_loan_proof_request'], None)\n",
    "\n",
    "    cred_for_attr1 = await get_credential_for_referent(search_for_apply_loan_proof_request, 'attr1_referent')\n",
    "    cred_for_predicate1 = await get_credential_for_referent(search_for_apply_loan_proof_request,\n",
    "                                                            'predicate1_referent')\n",
    "    cred_for_predicate2 = await get_credential_for_referent(search_for_apply_loan_proof_request,\n",
    "                                                            'predicate2_referent')\n",
    "\n",
    "    await anoncreds.prover_close_credentials_search_for_proof_req(search_for_apply_loan_proof_request)\n",
    "\n",
    "    alice['creds_for_apply_loan_proof'] = {cred_for_attr1['referent']: cred_for_attr1,\n",
    "                                           cred_for_predicate1['referent']: cred_for_predicate1,\n",
    "                                           cred_for_predicate2['referent']: cred_for_predicate2}\n",
    "\n",
    "    requested_timestamp = int(json.loads(thrift['apply_loan_proof_request'])['non_revoked']['to'])\n",
    "    alice['schemas_for_loan_app'], alice['cred_defs_for_loan_app'], alice['revoc_states_for_loan_app'] = \\\n",
    "        await prover_get_entities_from_ledger(alice['pool'], alice['did'],\n",
    "                                              alice['creds_for_apply_loan_proof'],\n",
    "                                              alice['name'], None, requested_timestamp)\n",
    "\n",
    "    logger.info(\"\\\"Alice\\\" -> Create \\\"Loan-Application-Basic\\\" Proof\")\n",
    "    revoc_states_for_loan_app = json.loads(alice['revoc_states_for_loan_app'])\n",
    "    timestamp_for_attr1 = get_timestamp_for_attribute(cred_for_attr1, revoc_states_for_loan_app)\n",
    "    timestamp_for_predicate1 = get_timestamp_for_attribute(cred_for_predicate1, revoc_states_for_loan_app)\n",
    "    timestamp_for_predicate2 = get_timestamp_for_attribute(cred_for_predicate2, revoc_states_for_loan_app)\n",
    "    alice['apply_loan_requested_creds'] = json.dumps({\n",
    "        'self_attested_attributes': {},\n",
    "        'requested_attributes': {\n",
    "            'attr1_referent': {'cred_id': cred_for_attr1['referent'], 'revealed': True,\n",
    "                               'timestamp': timestamp_for_attr1}\n",
    "        },\n",
    "        'requested_predicates': {\n",
    "            'predicate1_referent': {'cred_id': cred_for_predicate1['referent'],\n",
    "                                    'timestamp': timestamp_for_predicate1},\n",
    "            'predicate2_referent': {'cred_id': cred_for_predicate2['referent'],\n",
    "                                    'timestamp': timestamp_for_predicate2}\n",
    "        }\n",
    "    })\n",
    "    alice['apply_loan_proof'] = \\\n",
    "        await anoncreds.prover_create_proof(alice['wallet'], alice['apply_loan_proof_request'],\n",
    "                                            alice['apply_loan_requested_creds'], alice['master_secret_id'],\n",
    "                                            alice['schemas_for_loan_app'], alice['cred_defs_for_loan_app'],\n",
    "                                            alice['revoc_states_for_loan_app'])\n",
    "\n",
    "    logger.info(\"\\\"Alice\\\" -> Send \\\"Loan-Application-Basic\\\" Proof to Thrift\")\n",
    "    thrift['apply_loan_proof'] = alice['apply_loan_proof']\n",
    "    apply_loan_proof_object = json.loads(thrift['apply_loan_proof'])\n",
    "\n",
    "    logger.info(\"\\\"Thrift\\\" -> Get Schemas, Credential Definitions and Revocation Registries from Ledger\"\n",
    "                \" required for Proof verifying\")\n",
    "\n",
    "    thrift['schemas_for_loan_app'], thrift['cred_defs_for_loan_app'], thrift['revoc_defs_for_loan_app'], \\\n",
    "    thrift['revoc_regs_for_loan_app'] = \\\n",
    "        await verifier_get_entities_from_ledger(thrift['pool'], thrift['did'],\n",
    "                                                apply_loan_proof_object['identifiers'],\n",
    "                                                thrift['name'], requested_timestamp)\n",
    "\n",
    "    logger.info(\"\\\"Thrift\\\" -> Verify \\\"Loan-Application-Basic\\\" Proof from Alice\")\n",
    "    assert 'Permanent' == \\\n",
    "           apply_loan_proof_object['requested_proof']['revealed_attrs']['attr1_referent']['raw']\n",
    "\n",
    "\n",
    "await apply_loan_basic()\n",
    "\n",
    "assert await anoncreds.verifier_verify_proof(thrift['apply_loan_proof_request'],\n",
    "                                             thrift['apply_loan_proof'],\n",
    "                                             thrift['schemas_for_loan_app'],\n",
    "                                             thrift['cred_defs_for_loan_app'],\n",
    "                                             thrift['revoc_defs_for_loan_app'],\n",
    "                                             thrift['revoc_regs_for_loan_app'])\n"
   ]
  },
  {
   "cell_type": "code",
   "execution_count": null,
   "id": "ab9160ac-1479-49e1-83ae-c0765b171611",
   "metadata": {},
   "outputs": [],
   "source": [
    "logger.info(\"==============================\")\n",
    "logger.info(\"== Apply for the loan with Thrift - Transcript and Job-Certificate proving  ==\")\n",
    "logger.info(\"------------------------------\")\n",
    "\n",
    "logger.info(\"\\\"Thrift\\\" -> Create \\\"Loan-Application-KYC\\\" Proof Request\")\n",
    "nonce = await anoncreds.generate_nonce()\n",
    "thrift['apply_loan_kyc_proof_request'] = json.dumps({\n",
    "    'nonce': nonce,\n",
    "    'name': 'Loan-Application-KYC',\n",
    "    'version': '0.1',\n",
    "    'requested_attributes': {\n",
    "        'attr1_referent': {'name': 'first_name'},\n",
    "        'attr2_referent': {'name': 'last_name'},\n",
    "        'attr3_referent': {'name': 'ssn'}\n",
    "    },\n",
    "    'requested_predicates': {}\n",
    "})\n",
    "\n",
    "logger.info(\"\\\"Thrift\\\" -> Send \\\"Loan-Application-KYC\\\" Proof Request to Alice\")\n",
    "alice['apply_loan_kyc_proof_request'] = thrift['apply_loan_kyc_proof_request']\n",
    "\n",
    "logger.info(\"\\\"Alice\\\" -> Get credentials for \\\"Loan-Application-KYC\\\" Proof Request\")\n",
    "\n",
    "search_for_apply_loan_kyc_proof_request = \\\n",
    "    await anoncreds.prover_search_credentials_for_proof_req(alice['wallet'],\n",
    "                                                            alice['apply_loan_kyc_proof_request'], None)\n",
    "\n",
    "cred_for_attr1 = await get_credential_for_referent(search_for_apply_loan_kyc_proof_request, 'attr1_referent')\n",
    "cred_for_attr2 = await get_credential_for_referent(search_for_apply_loan_kyc_proof_request, 'attr2_referent')\n",
    "cred_for_attr3 = await get_credential_for_referent(search_for_apply_loan_kyc_proof_request, 'attr3_referent')\n",
    "\n",
    "await anoncreds.prover_close_credentials_search_for_proof_req(search_for_apply_loan_kyc_proof_request)\n",
    "\n",
    "alice['creds_for_apply_loan_kyc_proof'] = {cred_for_attr1['referent']: cred_for_attr1,\n",
    "                                           cred_for_attr2['referent']: cred_for_attr2,\n",
    "                                           cred_for_attr3['referent']: cred_for_attr3}\n",
    "\n",
    "alice['schemas_for_loan_kyc_app'], alice['cred_defs_for_loan_kyc_app'], alice['revoc_states_for_loan_kyc_app'] = \\\n",
    "    await prover_get_entities_from_ledger(alice['pool'], alice['did'],\n",
    "                                          alice['creds_for_apply_loan_kyc_proof'], alice['name'], )\n",
    "\n",
    "logger.info(\"\\\"Alice\\\" -> Create \\\"Loan-Application-KYC\\\" Proof\")\n",
    "revoc_states_for_loan_app = json.loads(alice['revoc_states_for_loan_kyc_app'])\n",
    "timestamp_for_attr1 = get_timestamp_for_attribute(cred_for_attr1, revoc_states_for_loan_app)\n",
    "timestamp_for_attr2 = get_timestamp_for_attribute(cred_for_attr2, revoc_states_for_loan_app)\n",
    "timestamp_for_attr3 = get_timestamp_for_attribute(cred_for_attr3, revoc_states_for_loan_app)\n",
    "alice['apply_loan_kyc_requested_creds'] = json.dumps({\n",
    "    'self_attested_attributes': {},\n",
    "    'requested_attributes': {\n",
    "        'attr1_referent': {'cred_id': cred_for_attr1['referent'], 'revealed': True,\n",
    "                           'timestamp': timestamp_for_attr1},\n",
    "        'attr2_referent': {'cred_id': cred_for_attr2['referent'], 'revealed': True,\n",
    "                           'timestamp': timestamp_for_attr2},\n",
    "        'attr3_referent': {'cred_id': cred_for_attr3['referent'], 'revealed': True,\n",
    "                           'timestamp': timestamp_for_attr3}\n",
    "    },\n",
    "    'requested_predicates': {}\n",
    "})\n",
    "\n",
    "alice['apply_loan_kyc_proof'] = \\\n",
    "    await anoncreds.prover_create_proof(alice['wallet'], alice['apply_loan_kyc_proof_request'],\n",
    "                                        alice['apply_loan_kyc_requested_creds'], alice['master_secret_id'],\n",
    "                                        alice['schemas_for_loan_kyc_app'], alice['cred_defs_for_loan_kyc_app'],\n",
    "                                        alice['revoc_states_for_loan_kyc_app'])\n",
    "\n",
    "logger.info(\"\\\"Alice\\\" -> Send \\\"Loan-Application-KYC\\\" Proof to Thrift\")\n",
    "thrift['apply_loan_kyc_proof'] = alice['apply_loan_kyc_proof']\n",
    "apply_loan_kyc_proof_object = json.loads(thrift['apply_loan_kyc_proof'])\n",
    "\n",
    "logger.info(\"\\\"Thrift\\\" -> Get Schemas, Credential Definitions and Revocation Registries from Ledger\"\n",
    "            \" required for Proof verifying\")\n",
    "\n",
    "thrift['schemas_for_loan_kyc_app'], thrift['cred_defs_for_loan_kyc_app'], thrift['revoc_defs_for_loan_kyc_app'], \\\n",
    "thrift['revoc_regs_for_loan_kyc_app'] = \\\n",
    "    await verifier_get_entities_from_ledger(thrift['pool'], thrift['did'],\n",
    "                                            apply_loan_kyc_proof_object['identifiers'], thrift['name'])\n",
    "\n",
    "logger.info(\"\\\"Thrift\\\" -> Verify \\\"Loan-Application-KYC\\\" Proof from Alice\")\n",
    "assert 'Alice' == \\\n",
    "       apply_loan_kyc_proof_object['requested_proof']['revealed_attrs']['attr1_referent']['raw']\n",
    "assert 'Garcia' == \\\n",
    "       apply_loan_kyc_proof_object['requested_proof']['revealed_attrs']['attr2_referent']['raw']\n",
    "assert '123-45-6789' == \\\n",
    "       apply_loan_kyc_proof_object['requested_proof']['revealed_attrs']['attr3_referent']['raw']\n",
    "\n",
    "assert await anoncreds.verifier_verify_proof(thrift['apply_loan_kyc_proof_request'],\n",
    "                                             thrift['apply_loan_kyc_proof'],\n",
    "                                             thrift['schemas_for_loan_kyc_app'],\n",
    "                                             thrift['cred_defs_for_loan_kyc_app'],\n",
    "                                             thrift['revoc_defs_for_loan_kyc_app'],\n",
    "                                             thrift['revoc_regs_for_loan_kyc_app'])\n",
    "\n",
    "logger.info(\"==============================\")"
   ]
  },
  {
   "cell_type": "code",
   "execution_count": null,
   "id": "73c2f754-5fdb-4a17-851a-99176d9b550e",
   "metadata": {},
   "outputs": [],
   "source": [
    "logger.info(\"==============================\")\n",
    "logger.info(\"== Credential revocation - Acme revokes Alice's Job-Certificate  ==\")\n",
    "logger.info(\"------------------------------\")\n",
    "\n",
    "logger.info(\"\\\"Acme\\\" - Revoke  credential\")\n",
    "acme['alice_cert_rev_reg_delta'] = \\\n",
    "    await anoncreds.issuer_revoke_credential(acme['wallet'],\n",
    "                                             acme['blob_storage_reader_cfg_handle'],\n",
    "                                             acme['revoc_reg_id'],\n",
    "                                             acme['job_certificate_cred_rev_id'])\n",
    "\n",
    "logger.info(\"\\\"Acme\\\" - Post RevocationRegistryDelta to Ledger\")\n",
    "acme['revoc_reg_entry_req'] = \\\n",
    "    await ledger.build_revoc_reg_entry_request(acme['did'], acme['revoc_reg_id'], 'CL_ACCUM',\n",
    "                                               acme['alice_cert_rev_reg_delta'])\n",
    "await ledger.sign_and_submit_request(acme['pool'], acme['wallet'], acme['did'], acme['revoc_reg_entry_req'])\n",
    "\n",
    "logger.info(\"==============================\")\n",
    "\n",
    "logger.info(\"==============================\")\n",
    "logger.info(\"== Apply for the loan with Thrift again - Job-Certificate proving  ==\")\n",
    "logger.info(\"------------------------------\")\n",
    "\n",
    "await apply_loan_basic()\n",
    "\n",
    "assert not await anoncreds.verifier_verify_proof(thrift['apply_loan_proof_request'],\n",
    "                                                 thrift['apply_loan_proof'],\n",
    "                                                 thrift['schemas_for_loan_app'],\n",
    "                                                 thrift['cred_defs_for_loan_app'],\n",
    "                                                 thrift['revoc_defs_for_loan_app'],\n",
    "                                                 thrift['revoc_regs_for_loan_app'])"
   ]
  },
  {
   "cell_type": "code",
   "execution_count": 203,
   "id": "bc9bfef4-057d-4664-86fa-43c5961ff89d",
   "metadata": {},
   "outputs": [
    {
     "ename": "NameError",
     "evalue": "name 'wallet_config' is not defined",
     "output_type": "error",
     "traceback": [
      "\u001b[0;31m---------------------------------------------------------------------------\u001b[0m",
      "\u001b[0;31mNameError\u001b[0m                                 Traceback (most recent call last)",
      "\u001b[0;32m<ipython-input-203-266d3faba5c2>\u001b[0m in \u001b[0;36masync-def-wrapper\u001b[0;34m()\u001b[0m\n\u001b[1;32m     10\u001b[0m                            wallet_credentials(\"delete\", government['wallet_credentials']))\n\u001b[1;32m     11\u001b[0m \u001b[0;34m\u001b[0m\u001b[0m\n\u001b[0;32m---> 12\u001b[0;31m \u001b[0mlogger\u001b[0m\u001b[0;34m.\u001b[0m\u001b[0minfo\u001b[0m\u001b[0;34m(\u001b[0m\u001b[0;34m\"\\\"Faber\\\" -> Close and Delete wallet\"\u001b[0m\u001b[0;34m)\u001b[0m\u001b[0;34m\u001b[0m\u001b[0;34m\u001b[0m\u001b[0m\n\u001b[0m\u001b[1;32m     13\u001b[0m \u001b[0mawait\u001b[0m \u001b[0mwallet\u001b[0m\u001b[0;34m.\u001b[0m\u001b[0mclose_wallet\u001b[0m\u001b[0;34m(\u001b[0m\u001b[0mfaber\u001b[0m\u001b[0;34m[\u001b[0m\u001b[0;34m'wallet'\u001b[0m\u001b[0;34m]\u001b[0m\u001b[0;34m)\u001b[0m\u001b[0;34m\u001b[0m\u001b[0;34m\u001b[0m\u001b[0m\n\u001b[1;32m     14\u001b[0m await wallet.delete_wallet(wallet_config(\"delete\", faber['wallet_config']),\n",
      "\u001b[0;31mNameError\u001b[0m: name 'wallet_config' is not defined"
     ]
    }
   ],
   "source": [
    "logger.info(\"==============================\")\n",
    "\n",
    "logger.info(\" \\\"Sovrin Steward\\\" -> Close and Delete wallet\")\n",
    "await wallet.close_wallet(steward['wallet'])\n",
    "await wallet.delete_wallet(steward['wallet_config'], steward['wallet_credentials'])\n",
    "\n",
    "logger.info(\"\\\"Government\\\" -> Close and Delete wallet\")\n",
    "await wallet.close_wallet(government['wallet'])\n",
    "await wallet.delete_wallet(wallet_config(\"delete\", government['wallet_config']),\n",
    "                           wallet_credentials(\"delete\", government['wallet_credentials']))\n",
    "\n",
    "logger.info(\"\\\"Faber\\\" -> Close and Delete wallet\")\n",
    "await wallet.close_wallet(faber['wallet'])\n",
    "await wallet.delete_wallet(wallet_config(\"delete\", faber['wallet_config']),\n",
    "                           wallet_credentials(\"delete\", faber['wallet_credentials']))\n",
    "\n",
    "logger.info(\"\\\"Acme\\\" -> Close and Delete wallet\")\n",
    "await wallet.close_wallet(acme['wallet'])\n",
    "await wallet.delete_wallet(wallet_config(\"delete\", acme['wallet_config']),\n",
    "                           wallet_credentials(\"delete\", acme['wallet_credentials']))\n",
    "\n",
    "logger.info(\"\\\"Thrift\\\" -> Close and Delete wallet\")\n",
    "await wallet.close_wallet(thrift['wallet'])\n",
    "await wallet.delete_wallet(wallet_config(\"delete\", thrift['wallet_config']),\n",
    "                           wallet_credentials(\"delete\", thrift['wallet_credentials']))\n",
    "\n",
    "logger.info(\"\\\"Alice\\\" -> Close and Delete wallet\")\n",
    "await wallet.close_wallet(alice['wallet'])\n",
    "await wallet.delete_wallet(wallet_config(\"delete\", alice['wallet_config']),\n",
    "                           wallet_credentials(\"delete\", alice['wallet_credentials']))\n",
    "\n",
    "logger.info(\"Close and Delete pool\")\n",
    "await pool.close_pool_ledger(pool_['handle'])\n",
    "await pool.delete_pool_ledger_config(pool_['name'])\n",
    "\n",
    "logger.info(\"Getting started -> done\")\n"
   ]
  },
  {
   "cell_type": "code",
   "execution_count": 201,
   "id": "25554fa6-e8db-4076-9169-1ccb7ecf1259",
   "metadata": {},
   "outputs": [],
   "source": [
    "logger = logging.getLogger(__name__)\n",
    "logging.basicConfig(filename='gsflowCus.log', level=logging.INFO)"
   ]
  },
  {
   "cell_type": "code",
   "execution_count": 205,
   "id": "e4fc9453-8191-40a8-8d82-f6e518f4e120",
   "metadata": {},
   "outputs": [],
   "source": [
    "logger.info(\"Getting started -> done\")"
   ]
  },
  {
   "cell_type": "code",
   "execution_count": 204,
   "id": "b37cc8d7-a3e6-446b-b71c-d6a916ee32d6",
   "metadata": {},
   "outputs": [],
   "source": [
    "logger.info(\"Close and Delete pool\")\n",
    "await pool.close_pool_ledger(pool_['handle'])\n",
    "await pool.delete_pool_ledger_config(pool_['name'])"
   ]
  },
  {
   "cell_type": "code",
   "execution_count": null,
   "id": "de76a39a-1a7d-4899-a1ef-810a654bba45",
   "metadata": {},
   "outputs": [],
   "source": []
  },
  {
   "cell_type": "code",
   "execution_count": null,
   "id": "e042c802-d8c7-4935-bed4-0501922527c2",
   "metadata": {},
   "outputs": [],
   "source": []
  },
  {
   "cell_type": "code",
   "execution_count": null,
   "id": "53279e25-f491-43da-a6df-83c678ea585f",
   "metadata": {},
   "outputs": [],
   "source": []
  },
  {
   "cell_type": "code",
   "execution_count": null,
   "id": "d5b978d6-4296-480a-abf9-3e9b696bac69",
   "metadata": {},
   "outputs": [],
   "source": []
  },
  {
   "cell_type": "code",
   "execution_count": null,
   "id": "6d4e5734-4a02-41ef-9828-9cc74eee42d5",
   "metadata": {},
   "outputs": [],
   "source": []
  },
  {
   "cell_type": "code",
   "execution_count": null,
   "id": "64db533d-bea2-4cb8-8a87-158b231dc9e1",
   "metadata": {},
   "outputs": [],
   "source": []
  },
  {
   "cell_type": "code",
   "execution_count": 206,
   "id": "cba3ce7f-a917-4d26-b0e1-247e2e3e6bfb",
   "metadata": {},
   "outputs": [
    {
     "name": "stdout",
     "output_type": "stream",
     "text": [
      "\"Alice\" -> Send \"Transcript\" Credential Request to Faber\n"
     ]
    }
   ],
   "source": [
    "print(\"\\\"Alice\\\" -> Send \\\"Transcript\\\" Credential Request to Faber\")"
   ]
  },
  {
   "cell_type": "code",
   "execution_count": null,
   "id": "d03a5274-6e6c-4e78-932d-224a7bccd222",
   "metadata": {},
   "outputs": [],
   "source": []
  },
  {
   "cell_type": "code",
   "execution_count": null,
   "id": "e34a658d-cce5-4233-98b6-97ec4eea6ced",
   "metadata": {},
   "outputs": [],
   "source": []
  },
  {
   "cell_type": "code",
   "execution_count": null,
   "id": "ed8ca4e1-8362-4bfa-aaa2-13811796d1af",
   "metadata": {},
   "outputs": [],
   "source": []
  },
  {
   "cell_type": "code",
   "execution_count": null,
   "id": "c31c9489-76c2-47fb-8087-f5735049b427",
   "metadata": {},
   "outputs": [],
   "source": []
  },
  {
   "cell_type": "code",
   "execution_count": null,
   "id": "d7fba361-66f2-4a7c-a897-307755953dfb",
   "metadata": {},
   "outputs": [],
   "source": []
  },
  {
   "cell_type": "code",
   "execution_count": null,
   "id": "f7684d27-2b2d-4d10-93f6-80ace5994279",
   "metadata": {},
   "outputs": [],
   "source": []
  },
  {
   "cell_type": "markdown",
   "id": "a1951c5e-88ca-4c82-af4e-80e8696e2a41",
   "metadata": {
    "tags": []
   },
   "source": [
    "# 6. "
   ]
  },
  {
   "cell_type": "code",
   "execution_count": null,
   "id": "ccd5e436-8038-4a58-802c-4ccf3bb5a794",
   "metadata": {},
   "outputs": [],
   "source": [
    "print(json.dumps(json.loads(result),indent=4))"
   ]
  }
 ],
 "metadata": {
  "kernelspec": {
   "display_name": "Python 3",
   "language": "python",
   "name": "python3"
  },
  "language_info": {
   "codemirror_mode": {
    "name": "ipython",
    "version": 3
   },
   "file_extension": ".py",
   "mimetype": "text/x-python",
   "name": "python",
   "nbconvert_exporter": "python",
   "pygments_lexer": "ipython3",
   "version": "3.6.9"
  }
 },
 "nbformat": 4,
 "nbformat_minor": 5
}
